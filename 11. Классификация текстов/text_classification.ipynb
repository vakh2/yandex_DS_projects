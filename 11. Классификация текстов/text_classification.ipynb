{
 "cells": [
  {
   "cell_type": "markdown",
   "metadata": {},
   "source": [
    "# Проект для «Викишоп»"
   ]
  },
  {
   "cell_type": "markdown",
   "metadata": {},
   "source": [
    "Интернет-магазин «Викишоп» запускает новый сервис. Теперь пользователи могут редактировать и дополнять описания товаров, как в вики-сообществах. То есть клиенты предлагают свои правки и комментируют изменения других. Магазину нужен инструмент, который будет искать токсичные комментарии и отправлять их на модерацию. \n",
    "\n",
    "Обучите модель классифицировать комментарии на позитивные и негативные. В вашем распоряжении набор данных с разметкой о токсичности правок.\n",
    "\n",
    "Постройте модель со значением метрики качества *F1* не меньше 0.75. \n",
    "\n",
    "**Инструкция по выполнению проекта**\n",
    "\n",
    "1. Загрузите и подготовьте данные.\n",
    "2. Обучите разные модели. \n",
    "3. Сделайте выводы.\n",
    "\n",
    "Для выполнения проекта применять *BERT* необязательно, но вы можете попробовать.\n",
    "\n",
    "**Описание данных**\n",
    "\n",
    "Данные находятся в файле `toxic_comments.csv`. Столбец *text* в нём содержит текст комментария, а *toxic* — целевой признак."
   ]
  },
  {
   "cell_type": "markdown",
   "metadata": {
    "toc": true
   },
   "source": [
    "<h1>Содержание<span class=\"tocSkip\"></span></h1>\n",
    "<div class=\"toc\"><ul class=\"toc-item\"><li><span><a href=\"#Подготовка\" data-toc-modified-id=\"Подготовка-1\"><span class=\"toc-item-num\">1&nbsp;&nbsp;</span>Подготовка</a></span><ul class=\"toc-item\"><li><span><a href=\"#Подключим-необходимые-библиотеки.\" data-toc-modified-id=\"Подключим-необходимые-библиотеки.-1.1\"><span class=\"toc-item-num\">1.1&nbsp;&nbsp;</span>Подключим необходимые библиотеки.</a></span></li><li><span><a href=\"#Откроем-таблицу,-посмотрим-внешний-вид-и-изучим-общую-информацию-о-данных.\" data-toc-modified-id=\"Откроем-таблицу,-посмотрим-внешний-вид-и-изучим-общую-информацию-о-данных.-1.2\"><span class=\"toc-item-num\">1.2&nbsp;&nbsp;</span>Откроем таблицу, посмотрим внешний вид и изучим общую информацию о данных.</a></span></li></ul></li><li><span><a href=\"#Подготовка-признаков-обучения\" data-toc-modified-id=\"Подготовка-признаков-обучения-2\"><span class=\"toc-item-num\">2&nbsp;&nbsp;</span>Подготовка признаков обучения</a></span><ul class=\"toc-item\"><li><span><a href=\"#Соберем-стоп-слова.\" data-toc-modified-id=\"Соберем-стоп-слова.-2.1\"><span class=\"toc-item-num\">2.1&nbsp;&nbsp;</span>Соберем стоп-слова.</a></span></li><li><span><a href=\"#Напишем-функции-лемматизации-и-очистки-текста\" data-toc-modified-id=\"Напишем-функции-лемматизации-и-очистки-текста-2.2\"><span class=\"toc-item-num\">2.2&nbsp;&nbsp;</span>Напишем функции лемматизации и очистки текста</a></span></li><li><span><a href=\"#Лемматизируем-и-очистим-текст\" data-toc-modified-id=\"Лемматизируем-и-очистим-текст-2.3\"><span class=\"toc-item-num\">2.3&nbsp;&nbsp;</span>Лемматизируем и очистим текст</a></span></li><li><span><a href=\"#Напишем-функцию-разделения-данных-c-отображением-дисбаланса-меток-1-и-0\" data-toc-modified-id=\"Напишем-функцию-разделения-данных-c-отображением-дисбаланса-меток-1-и-0-2.4\"><span class=\"toc-item-num\">2.4&nbsp;&nbsp;</span>Напишем функцию разделения данных c отображением дисбаланса меток 1 и 0</a></span></li><li><span><a href=\"#Создадим-три-выборки.\" data-toc-modified-id=\"Создадим-три-выборки.-2.5\"><span class=\"toc-item-num\">2.5&nbsp;&nbsp;</span>Создадим три выборки.</a></span></li><li><span><a href=\"#Напишем-функцию-&quot;борьбы&quot;-с-дисбалансом,-воспользуемся-техниками-увеличение-выборки-(upsampling),-уменьшение-выборки(downsampling).\" data-toc-modified-id=\"Напишем-функцию-&quot;борьбы&quot;-с-дисбалансом,-воспользуемся-техниками-увеличение-выборки-(upsampling),-уменьшение-выборки(downsampling).-2.6\"><span class=\"toc-item-num\">2.6&nbsp;&nbsp;</span>Напишем функцию \"борьбы\" с дисбалансом, воспользуемся техниками увеличение выборки (upsampling), уменьшение выборки(downsampling).</a></span></li><li><span><a href=\"#Вывод\" data-toc-modified-id=\"Вывод-2.7\"><span class=\"toc-item-num\">2.7&nbsp;&nbsp;</span><strong>Вывод</strong></a></span></li></ul></li><li><span><a href=\"#Обучение\" data-toc-modified-id=\"Обучение-3\"><span class=\"toc-item-num\">3&nbsp;&nbsp;</span>Обучение</a></span><ul class=\"toc-item\"><li><span><a href=\"#Напишем-функцию-построеня-ROC-криваой-и-нахождения-метрики-качества-AUC-ROC-и-представления-F1-меры.\" data-toc-modified-id=\"Напишем-функцию-построеня-ROC-криваой-и-нахождения-метрики-качества-AUC-ROC-и-представления-F1-меры.-3.1\"><span class=\"toc-item-num\">3.1&nbsp;&nbsp;</span>Напишем функцию построеня ROC-криваой и нахождения метрики качества AUC-ROC и представления F1 меры.</a></span></li><li><span><a href=\"#Напишем-функцию-для-классификация-тональности-текста-с-помощью-TF-IDF-признаков.\" data-toc-modified-id=\"Напишем-функцию-для-классификация-тональности-текста-с-помощью-TF-IDF-признаков.-3.2\"><span class=\"toc-item-num\">3.2&nbsp;&nbsp;</span>Напишем функцию для классификация тональности текста с помощью TF-IDF признаков.</a></span></li><li><span><a href=\"#Классифицируем-тональность-текста-TF-IDF-признаками.\" data-toc-modified-id=\"Классифицируем-тональность-текста-TF-IDF-признаками.-3.3\"><span class=\"toc-item-num\">3.3&nbsp;&nbsp;</span>Классифицируем тональность текста TF-IDF признаками.</a></span></li><li><span><a href=\"#Напишем-функции-обучения-и-подбора-гиперпараметров-в-цикле\" data-toc-modified-id=\"Напишем-функции-обучения-и-подбора-гиперпараметров-в-цикле-3.4\"><span class=\"toc-item-num\">3.4&nbsp;&nbsp;</span>Напишем функции обучения и подбора гиперпараметров в цикле</a></span></li><li><span><a href=\"#Напишем-функцию,-которая-перебором,-меняя--гиперпараметры-ищет-лучшую-модель-XGBClassifier-по-максимальной-F1-мере.\" data-toc-modified-id=\"Напишем-функцию,-которая-перебором,-меняя--гиперпараметры-ищет-лучшую-модель-XGBClassifier-по-максимальной-F1-мере.-3.5\"><span class=\"toc-item-num\">3.5&nbsp;&nbsp;</span>Напишем функцию, которая перебором, меняя  гиперпараметры ищет лучшую модель XGBClassifier по максимальной F1-мере.</a></span></li><li><span><a href=\"#Напишем-функцию,-которая-перебором,-меняя--гиперпараметры-ищет-лучшую-модель-LogisticRegression-по-максимальной-F1-мере.\" data-toc-modified-id=\"Напишем-функцию,-которая-перебором,-меняя--гиперпараметры-ищет-лучшую-модель-LogisticRegression-по-максимальной-F1-мере.-3.6\"><span class=\"toc-item-num\">3.6&nbsp;&nbsp;</span>Напишем функцию, которая перебором, меняя  гиперпараметры ищет лучшую модель LogisticRegression по максимальной F1-мере.</a></span></li><li><span><a href=\"#Напишем-функцию,-которая-перебором,-меняя--гиперпараметры-ищет-лучшую-модель-по-максимальной-F1-мере.\" data-toc-modified-id=\"Напишем-функцию,-которая-перебором,-меняя--гиперпараметры-ищет-лучшую-модель-по-максимальной-F1-мере.-3.7\"><span class=\"toc-item-num\">3.7&nbsp;&nbsp;</span>Напишем функцию, которая перебором, меняя  гиперпараметры ищет лучшую модель по максимальной F1-мере.</a></span><ul class=\"toc-item\"><li><span><a href=\"#Найдем-лучшие-модели-без-учета-дисбаланса.-Обучать-будем-три-модели-DecisionTreeClassifier,-RandomForestClassifier,-LogisticRegression.\" data-toc-modified-id=\"Найдем-лучшие-модели-без-учета-дисбаланса.-Обучать-будем-три-модели-DecisionTreeClassifier,-RandomForestClassifier,-LogisticRegression.-3.7.1\"><span class=\"toc-item-num\">3.7.1&nbsp;&nbsp;</span>Найдем лучшие модели без учета дисбаланса. Обучать будем три модели DecisionTreeClassifier, RandomForestClassifier, LogisticRegression.</a></span></li></ul></li><li><span><a href=\"#Вывод\" data-toc-modified-id=\"Вывод-3.8\"><span class=\"toc-item-num\">3.8&nbsp;&nbsp;</span><strong>Вывод</strong></a></span></li><li><span><a href=\"#Борьба-с-дисбалансом\" data-toc-modified-id=\"Борьба-с-дисбалансом-3.9\"><span class=\"toc-item-num\">3.9&nbsp;&nbsp;</span>Борьба с дисбалансом</a></span><ul class=\"toc-item\"><li><span><a href=\"#Напишем-функцию-перебора-параметров-upsampling-и-downsampling-с-обучением-на-этих-параметрах-и-выбором-лучших-результатов\" data-toc-modified-id=\"Напишем-функцию-перебора-параметров-upsampling-и-downsampling-с-обучением-на-этих-параметрах-и-выбором-лучших-результатов-3.9.1\"><span class=\"toc-item-num\">3.9.1&nbsp;&nbsp;</span>Напишем функцию перебора параметров upsampling и downsampling с обучением на этих параметрах и выбором лучших результатов</a></span></li><li><span><a href=\"#Найдем-лучшую-модель-с-учетом-дисбаланса.\" data-toc-modified-id=\"Найдем-лучшую-модель-с-учетом-дисбаланса.-3.9.2\"><span class=\"toc-item-num\">3.9.2&nbsp;&nbsp;</span>Найдем лучшую модель с учетом дисбаланса.</a></span></li></ul></li><li><span><a href=\"#Вывод\" data-toc-modified-id=\"Вывод-3.10\"><span class=\"toc-item-num\">3.10&nbsp;&nbsp;</span><strong>Вывод</strong></a></span><ul class=\"toc-item\"><li><span><a href=\"#Нашли-лучшие-модели-с-учетом-дисбаланса.--Построим-ROC-кривую-и-найдем-метрику-качества-AUC-ROC-для-каждой-модели\" data-toc-modified-id=\"Нашли-лучшие-модели-с-учетом-дисбаланса.--Построим-ROC-кривую-и-найдем-метрику-качества-AUC-ROC-для-каждой-модели-3.10.1\"><span class=\"toc-item-num\">3.10.1&nbsp;&nbsp;</span>Нашли лучшие модели с учетом дисбаланса.  Построим ROC-кривую и найдем метрику качества AUC-ROC для каждой модели</a></span></li></ul></li></ul></li><li><span><a href=\"#Тестирование-модели\" data-toc-modified-id=\"Тестирование-модели-4\"><span class=\"toc-item-num\">4&nbsp;&nbsp;</span>Тестирование модели</a></span><ul class=\"toc-item\"><li><span><a href=\"#Вывод\" data-toc-modified-id=\"Вывод-4.1\"><span class=\"toc-item-num\">4.1&nbsp;&nbsp;</span><strong>Вывод</strong></a></span></li></ul></li><li><span><a href=\"#Классификация-на-эмбеддингах\" data-toc-modified-id=\"Классификация-на-эмбеддингах-5\"><span class=\"toc-item-num\">5&nbsp;&nbsp;</span>Классификация на эмбеддингах</a></span><ul class=\"toc-item\"><li><span><a href=\"#Загружаем-перобученные-модель-и-токинезатор\" data-toc-modified-id=\"Загружаем-перобученные-модель-и-токинезатор-5.1\"><span class=\"toc-item-num\">5.1&nbsp;&nbsp;</span>Загружаем перобученные модель и токинезатор</a></span></li><li><span><a href=\"#Делаем-рандомную-выборку-в-2000-строк-датафрейма\" data-toc-modified-id=\"Делаем-рандомную-выборку-в-2000-строк-датафрейма-5.2\"><span class=\"toc-item-num\">5.2&nbsp;&nbsp;</span>Делаем рандомную выборку в 2000 строк датафрейма</a></span></li><li><span><a href=\"#Пишем-функцию-токинезирования-текста-с--маской-для-важных-токенов\" data-toc-modified-id=\"Пишем-функцию-токинезирования-текста-с--маской-для-важных-токенов-5.3\"><span class=\"toc-item-num\">5.3&nbsp;&nbsp;</span>Пишем функцию токинезирования текста с  маской для важных токенов</a></span></li><li><span><a href=\"#Разобьем-на-батчи-и-из-тензора-извлечём-нужные-элементы-и-добавим-в-список-всех-эмбеддингов.\" data-toc-modified-id=\"Разобьем-на-батчи-и-из-тензора-извлечём-нужные-элементы-и-добавим-в-список-всех-эмбеддингов.-5.4\"><span class=\"toc-item-num\">5.4&nbsp;&nbsp;</span>Разобьем на батчи и из тензора извлечём нужные элементы и добавим в список всех эмбеддингов.</a></span></li><li><span><a href=\"#Соберём-все-эмбеддинги-в-матрицу-признаков.\" data-toc-modified-id=\"Соберём-все-эмбеддинги-в-матрицу-признаков.-5.5\"><span class=\"toc-item-num\">5.5&nbsp;&nbsp;</span>Соберём все эмбеддинги в матрицу признаков.</a></span></li><li><span><a href=\"#Создадим-три-выборки:-обучающую,-валидационного-и-тестовую\" data-toc-modified-id=\"Создадим-три-выборки:-обучающую,-валидационного-и-тестовую-5.6\"><span class=\"toc-item-num\">5.6&nbsp;&nbsp;</span>Создадим три выборки: обучающую, валидационного и тестовую</a></span></li><li><span><a href=\"#Обучим-модели\" data-toc-modified-id=\"Обучим-модели-5.7\"><span class=\"toc-item-num\">5.7&nbsp;&nbsp;</span>Обучим модели</a></span></li><li><span><a href=\"#Вывод:\" data-toc-modified-id=\"Вывод:-5.8\"><span class=\"toc-item-num\">5.8&nbsp;&nbsp;</span><strong>Вывод:</strong></a></span></li></ul></li><li><span><a href=\"#Выводы\" data-toc-modified-id=\"Выводы-6\"><span class=\"toc-item-num\">6&nbsp;&nbsp;</span>Выводы</a></span></li></ul></div>"
   ]
  },
  {
   "cell_type": "markdown",
   "metadata": {},
   "source": [
    "## Подготовка"
   ]
  },
  {
   "cell_type": "markdown",
   "metadata": {},
   "source": [
    "### Подключим необходимые библиотеки."
   ]
  },
  {
   "cell_type": "code",
   "execution_count": 83,
   "metadata": {},
   "outputs": [],
   "source": [
    "#pip install stop-words"
   ]
  },
  {
   "cell_type": "code",
   "execution_count": 84,
   "metadata": {},
   "outputs": [],
   "source": [
    "#pip install --upgrade pymystem3"
   ]
  },
  {
   "cell_type": "code",
   "execution_count": 85,
   "metadata": {},
   "outputs": [],
   "source": [
    "#pip install xgboost"
   ]
  },
  {
   "cell_type": "code",
   "execution_count": 86,
   "metadata": {},
   "outputs": [],
   "source": [
    "#pip install torch"
   ]
  },
  {
   "cell_type": "code",
   "execution_count": 87,
   "metadata": {},
   "outputs": [],
   "source": [
    "#pip install transformers"
   ]
  },
  {
   "cell_type": "code",
   "execution_count": 88,
   "metadata": {},
   "outputs": [],
   "source": [
    "#pip install tensorflow"
   ]
  },
  {
   "cell_type": "code",
   "execution_count": 89,
   "metadata": {},
   "outputs": [],
   "source": [
    "#pip install bert"
   ]
  },
  {
   "cell_type": "code",
   "execution_count": 90,
   "metadata": {},
   "outputs": [],
   "source": [
    "#pip install xgboost"
   ]
  },
  {
   "cell_type": "code",
   "execution_count": 91,
   "metadata": {},
   "outputs": [],
   "source": [
    "#pip install nltk"
   ]
  },
  {
   "cell_type": "code",
   "execution_count": 92,
   "metadata": {},
   "outputs": [
    {
     "name": "stderr",
     "output_type": "stream",
     "text": [
      "[nltk_data] Downloading package punkt to\n",
      "[nltk_data]     C:\\Users\\Имя\\AppData\\Roaming\\nltk_data...\n",
      "[nltk_data]   Package punkt is already up-to-date!\n",
      "[nltk_data] Downloading package stopwords to\n",
      "[nltk_data]     C:\\Users\\Имя\\AppData\\Roaming\\nltk_data...\n",
      "[nltk_data]   Package stopwords is already up-to-date!\n",
      "[nltk_data] Downloading package wordnet to\n",
      "[nltk_data]     C:\\Users\\Имя\\AppData\\Roaming\\nltk_data...\n",
      "[nltk_data]   Package wordnet is already up-to-date!\n",
      "[nltk_data] Downloading package omw-1.4 to\n",
      "[nltk_data]     C:\\Users\\Имя\\AppData\\Roaming\\nltk_data...\n",
      "[nltk_data]   Package omw-1.4 is already up-to-date!\n",
      "[nltk_data] Downloading package wordnet to\n",
      "[nltk_data]     C:\\Users\\Имя\\AppData\\Roaming\\nltk_data...\n",
      "[nltk_data]   Package wordnet is already up-to-date!\n",
      "[nltk_data] Downloading package averaged_perceptron_tagger to\n",
      "[nltk_data]     C:\\Users\\Имя\\AppData\\Roaming\\nltk_data...\n",
      "[nltk_data]   Package averaged_perceptron_tagger is already up-to-\n",
      "[nltk_data]       date!\n"
     ]
    }
   ],
   "source": [
    "import pandas as pd\n",
    "import numpy as np\n",
    "import copy\n",
    "\n",
    "from random import randint\n",
    "import random\n",
    "\n",
    "import warnings\n",
    "warnings.filterwarnings(\"ignore\", category=FutureWarning)\n",
    "warnings.filterwarnings(\"ignore\")\n",
    "\n",
    "\n",
    "import matplotlib.pyplot as plt\n",
    "import seaborn as sns\n",
    "\n",
    "import torch\n",
    "\n",
    "from tqdm import notebook\n",
    "from transformers import BertModel, BertConfig\n",
    "import tensorflow as tf\n",
    " \n",
    "import transformers as ppb \n",
    "\n",
    "# снимаем ограничения в pandas на количество выводимых рядов и колонок,\n",
    "# а также на ширину колонок\n",
    "pd.set_option('display.max_rows', None)\n",
    "pd.set_option('display.max_columns', None)\n",
    "pd.set_option('display.max_colwidth', None)\n",
    "\n",
    "from stop_words import get_stop_words\n",
    "import nltk\n",
    "from nltk.corpus import stopwords\n",
    "from nltk.tokenize import word_tokenize\n",
    "from nltk.corpus import wordnet\n",
    "from sklearn.feature_extraction.text import TfidfVectorizer\n",
    "from nltk.stem import WordNetLemmatizer\n",
    "from sklearn.feature_extraction.text import CountVectorizer\n",
    "\n",
    "nltk.download('punkt')\n",
    "nltk.download('stopwords')\n",
    "nltk.download('wordnet')\n",
    "nltk.download('omw-1.4')\n",
    "nltk.download('wordnet')\n",
    "nltk.download('averaged_perceptron_tagger')\n",
    "\n",
    "from pymystem3 import Mystem\n",
    "import re \n",
    "\n",
    "from sklearn.model_selection import train_test_split\n",
    "from sklearn.tree import DecisionTreeClassifier\n",
    "from sklearn.ensemble import RandomForestClassifier\n",
    "from sklearn.linear_model import LogisticRegression\n",
    "import xgboost as xgb\n",
    "from sklearn.utils import shuffle\n",
    "from sklearn.metrics import (\n",
    "    f1_score,\n",
    "    recall_score,\n",
    "    roc_auc_score,\n",
    "    roc_curve,\n",
    "    accuracy_score,\n",
    "    precision_score\n",
    ")                        "
   ]
  },
  {
   "cell_type": "markdown",
   "metadata": {},
   "source": [
    "### Откроем таблицу, посмотрим внешний вид и изучим общую информацию о данных."
   ]
  },
  {
   "cell_type": "code",
   "execution_count": 93,
   "metadata": {},
   "outputs": [
    {
     "data": {
      "text/html": [
       "<div>\n",
       "<style scoped>\n",
       "    .dataframe tbody tr th:only-of-type {\n",
       "        vertical-align: middle;\n",
       "    }\n",
       "\n",
       "    .dataframe tbody tr th {\n",
       "        vertical-align: top;\n",
       "    }\n",
       "\n",
       "    .dataframe thead th {\n",
       "        text-align: right;\n",
       "    }\n",
       "</style>\n",
       "<table border=\"1\" class=\"dataframe\">\n",
       "  <thead>\n",
       "    <tr style=\"text-align: right;\">\n",
       "      <th></th>\n",
       "      <th>text</th>\n",
       "      <th>toxic</th>\n",
       "    </tr>\n",
       "  </thead>\n",
       "  <tbody>\n",
       "    <tr>\n",
       "      <th>0</th>\n",
       "      <td>Explanation\\nWhy the edits made under my username Hardcore Metallica Fan were reverted? They weren't vandalisms, just closure on some GAs after I voted at New York Dolls FAC. And please don't remove the template from the talk page since I'm retired now.89.205.38.27</td>\n",
       "      <td>0</td>\n",
       "    </tr>\n",
       "    <tr>\n",
       "      <th>1</th>\n",
       "      <td>D'aww! He matches this background colour I'm seemingly stuck with. Thanks.  (talk) 21:51, January 11, 2016 (UTC)</td>\n",
       "      <td>0</td>\n",
       "    </tr>\n",
       "    <tr>\n",
       "      <th>2</th>\n",
       "      <td>Hey man, I'm really not trying to edit war. It's just that this guy is constantly removing relevant information and talking to me through edits instead of my talk page. He seems to care more about the formatting than the actual info.</td>\n",
       "      <td>0</td>\n",
       "    </tr>\n",
       "    <tr>\n",
       "      <th>3</th>\n",
       "      <td>\"\\nMore\\nI can't make any real suggestions on improvement - I wondered if the section statistics should be later on, or a subsection of \"\"types of accidents\"\"  -I think the references may need tidying so that they are all in the exact same format ie date format etc. I can do that later on, if no-one else does first - if you have any preferences for formatting style on references or want to do it yourself please let me know.\\n\\nThere appears to be a backlog on articles for review so I guess there may be a delay until a reviewer turns up. It's listed in the relevant form eg Wikipedia:Good_article_nominations#Transport  \"</td>\n",
       "      <td>0</td>\n",
       "    </tr>\n",
       "    <tr>\n",
       "      <th>4</th>\n",
       "      <td>You, sir, are my hero. Any chance you remember what page that's on?</td>\n",
       "      <td>0</td>\n",
       "    </tr>\n",
       "  </tbody>\n",
       "</table>\n",
       "</div>"
      ],
      "text/plain": [
       "                                                                                                                                                                                                                                                                                                                                                                                                                                                                                                                                                                                                                                                 text  \\\n",
       "0                                                                                                                                                                                                                                                                                                                                                                           Explanation\\nWhy the edits made under my username Hardcore Metallica Fan were reverted? They weren't vandalisms, just closure on some GAs after I voted at New York Dolls FAC. And please don't remove the template from the talk page since I'm retired now.89.205.38.27   \n",
       "1                                                                                                                                                                                                                                                                                                                                                                                                                                                                                                                                    D'aww! He matches this background colour I'm seemingly stuck with. Thanks.  (talk) 21:51, January 11, 2016 (UTC)   \n",
       "2                                                                                                                                                                                                                                                                                                                                                                                                           Hey man, I'm really not trying to edit war. It's just that this guy is constantly removing relevant information and talking to me through edits instead of my talk page. He seems to care more about the formatting than the actual info.   \n",
       "3  \"\\nMore\\nI can't make any real suggestions on improvement - I wondered if the section statistics should be later on, or a subsection of \"\"types of accidents\"\"  -I think the references may need tidying so that they are all in the exact same format ie date format etc. I can do that later on, if no-one else does first - if you have any preferences for formatting style on references or want to do it yourself please let me know.\\n\\nThere appears to be a backlog on articles for review so I guess there may be a delay until a reviewer turns up. It's listed in the relevant form eg Wikipedia:Good_article_nominations#Transport  \"   \n",
       "4                                                                                                                                                                                                                                                                                                                                                                                                                                                                                                                                                                                 You, sir, are my hero. Any chance you remember what page that's on?   \n",
       "\n",
       "   toxic  \n",
       "0      0  \n",
       "1      0  \n",
       "2      0  \n",
       "3      0  \n",
       "4      0  "
      ]
     },
     "metadata": {},
     "output_type": "display_data"
    },
    {
     "name": "stdout",
     "output_type": "stream",
     "text": [
      "<class 'pandas.core.frame.DataFrame'>\n",
      "RangeIndex: 159571 entries, 0 to 159570\n",
      "Data columns (total 2 columns):\n",
      " #   Column  Non-Null Count   Dtype \n",
      "---  ------  --------------   ----- \n",
      " 0   text    159571 non-null  object\n",
      " 1   toxic   159571 non-null  int64 \n",
      "dtypes: int64(1), object(1)\n",
      "memory usage: 2.4+ MB\n",
      "\n",
      "Количество строк: 159571\n",
      "\n",
      "Общее количество ячеек с пропусками в df: 0\n"
     ]
    }
   ],
   "source": [
    "df = pd.read_csv('C:\\\\toxic_comments.csv')\n",
    "\n",
    "display(df.head())\n",
    "df.info()\n",
    "print()\n",
    "print('Количество строк:', df.shape[0])\n",
    "print()\n",
    "print('Общее количество ячеек с пропусками в df:', df.isna().sum().sum())"
   ]
  },
  {
   "cell_type": "code",
   "execution_count": 94,
   "metadata": {},
   "outputs": [
    {
     "data": {
      "text/plain": [
       "0    143346\n",
       "1     16225\n",
       "Name: toxic, dtype: int64"
      ]
     },
     "execution_count": 94,
     "metadata": {},
     "output_type": "execute_result"
    }
   ],
   "source": [
    "df['toxic'].value_counts(ascending=False)"
   ]
  },
  {
   "cell_type": "markdown",
   "metadata": {},
   "source": [
    "## Подготовка признаков обучения"
   ]
  },
  {
   "cell_type": "markdown",
   "metadata": {},
   "source": [
    "### Соберем стоп-слова."
   ]
  },
  {
   "cell_type": "code",
   "execution_count": 95,
   "metadata": {},
   "outputs": [],
   "source": [
    "stop_words = list(get_stop_words('en'))         \n",
    "nltk_words = list(stopwords.words('english')) \n",
    "stop_words.extend(nltk_words)"
   ]
  },
  {
   "cell_type": "markdown",
   "metadata": {},
   "source": [
    "### Напишем функции лемматизации и очистки текста"
   ]
  },
  {
   "cell_type": "code",
   "execution_count": 96,
   "metadata": {},
   "outputs": [],
   "source": [
    "def get_wordnet_pos(word):\n",
    "    \"\"\"Map POS tag to first character lemmatize() accepts\"\"\"\n",
    "    tag = nltk.pos_tag([word])[0][1][0].upper()\n",
    "    tag_dict = {\"J\": wordnet.ADJ,\n",
    "                \"N\": wordnet.NOUN,\n",
    "                \"V\": wordnet.VERB,\n",
    "                \"R\": wordnet.ADV}\n",
    "    return tag_dict.get(tag, wordnet.NOUN)"
   ]
  },
  {
   "cell_type": "code",
   "execution_count": 97,
   "metadata": {},
   "outputs": [],
   "source": [
    "lemmatizer = WordNetLemmatizer()"
   ]
  },
  {
   "cell_type": "code",
   "execution_count": 98,
   "metadata": {},
   "outputs": [],
   "source": [
    "def lemmatize(text):\n",
    "    lemm_list = ([lemmatizer.lemmatize(w, get_wordnet_pos(w)) for w in nltk.word_tokenize(text)])\n",
    "    lemm_text = \" \".join(lemm_list)    \n",
    "    return lemm_text\n",
    "\n",
    "def clear_text(text):\n",
    "    \n",
    "    text = text.lower()\n",
    "    text = re.sub(r'[^a-zA-Z]', ' ', text)\n",
    "    text = [word for word in word_tokenize(text) if word not in stop_words]\n",
    "    text = \" \".join(text)\n",
    "    text = lemmatize(text)\n",
    "    \n",
    "    return text    \n"
   ]
  },
  {
   "cell_type": "markdown",
   "metadata": {},
   "source": [
    "### Лемматизируем и очистим текст"
   ]
  },
  {
   "cell_type": "code",
   "execution_count": 99,
   "metadata": {
    "scrolled": true
   },
   "outputs": [
    {
     "data": {
      "text/html": [
       "<div>\n",
       "<style scoped>\n",
       "    .dataframe tbody tr th:only-of-type {\n",
       "        vertical-align: middle;\n",
       "    }\n",
       "\n",
       "    .dataframe tbody tr th {\n",
       "        vertical-align: top;\n",
       "    }\n",
       "\n",
       "    .dataframe thead th {\n",
       "        text-align: right;\n",
       "    }\n",
       "</style>\n",
       "<table border=\"1\" class=\"dataframe\">\n",
       "  <thead>\n",
       "    <tr style=\"text-align: right;\">\n",
       "      <th></th>\n",
       "      <th>lemm_text</th>\n",
       "      <th>toxic</th>\n",
       "    </tr>\n",
       "  </thead>\n",
       "  <tbody>\n",
       "    <tr>\n",
       "      <th>0</th>\n",
       "      <td>explanation edits make username hardcore metallica fan revert vandalism closure gas vote new york doll fac please remove template talk page since retire</td>\n",
       "      <td>0</td>\n",
       "    </tr>\n",
       "    <tr>\n",
       "      <th>1</th>\n",
       "      <td>aww match background colour seemingly stuck thanks talk january utc</td>\n",
       "      <td>0</td>\n",
       "    </tr>\n",
       "    <tr>\n",
       "      <th>2</th>\n",
       "      <td>hey man really try edit war guy constantly remove relevant information talk edits instead talk page seem care format actual info</td>\n",
       "      <td>0</td>\n",
       "    </tr>\n",
       "    <tr>\n",
       "      <th>3</th>\n",
       "      <td>make real suggestion improvement wonder section statistic later subsection type accident think reference may need tidy exact format ie date format etc later one else first preference format style reference want please let know appear backlog article review guess may delay reviewer turn list relevant form eg wikipedia good article nomination transport</td>\n",
       "      <td>0</td>\n",
       "    </tr>\n",
       "    <tr>\n",
       "      <th>4</th>\n",
       "      <td>sir hero chance remember page</td>\n",
       "      <td>0</td>\n",
       "    </tr>\n",
       "  </tbody>\n",
       "</table>\n",
       "</div>"
      ],
      "text/plain": [
       "                                                                                                                                                                                                                                                                                                                                                          lemm_text  \\\n",
       "0                                                                                                                                                                                                          explanation edits make username hardcore metallica fan revert vandalism closure gas vote new york doll fac please remove template talk page since retire   \n",
       "1                                                                                                                                                                                                                                                                                               aww match background colour seemingly stuck thanks talk january utc   \n",
       "2                                                                                                                                                                                                                                  hey man really try edit war guy constantly remove relevant information talk edits instead talk page seem care format actual info   \n",
       "3  make real suggestion improvement wonder section statistic later subsection type accident think reference may need tidy exact format ie date format etc later one else first preference format style reference want please let know appear backlog article review guess may delay reviewer turn list relevant form eg wikipedia good article nomination transport   \n",
       "4                                                                                                                                                                                                                                                                                                                                     sir hero chance remember page   \n",
       "\n",
       "   toxic  \n",
       "0      0  \n",
       "1      0  \n",
       "2      0  \n",
       "3      0  \n",
       "4      0  "
      ]
     },
     "metadata": {},
     "output_type": "display_data"
    },
    {
     "name": "stdout",
     "output_type": "stream",
     "text": [
      "CPU times: total: 1h 5min 49s\n",
      "Wall time: 2h 50min 48s\n"
     ]
    }
   ],
   "source": [
    "%%time\n",
    "df['lemm_text'] = df['text'].apply(clear_text)\n",
    "df_lemm = df.drop('text', axis=1)[['lemm_text', 'toxic']]\n",
    "display(df_lemm.head())"
   ]
  },
  {
   "cell_type": "markdown",
   "metadata": {},
   "source": [
    "### Напишем функцию разделения данных c отображением дисбаланса меток 1 и 0"
   ]
  },
  {
   "cell_type": "markdown",
   "metadata": {},
   "source": [
    "Напишем функцию разделения данных на признаки и целевой признак, где целевой признак это 'toxic' и одновременно деления данных на разобьём на три выборки: обучающую, валидационного и тестовую. (Данных много, поэтому без кросс-валидации, а  с валидационной выборкой)\n",
    "\n",
    "Размеры тестового и валидационного наборов обычно равны.\n",
    "\n",
    "Исходные данные разбиваем в соотношении 3:1:1. Спроецируем методом stratify изначальный дисбаланс меток 1 и 0 в таргете на target_test и target_valid."
   ]
  },
  {
   "cell_type": "code",
   "execution_count": 100,
   "metadata": {},
   "outputs": [],
   "source": [
    "def splitting(data):\n",
    "    \n",
    "    target = data['toxic']\n",
    "    features = data.drop('toxic', axis=1)\n",
    "    \n",
    "    print('Размер target', target.shape[0])\n",
    "    print('Размер features', features.shape[0])\n",
    "    print('Соотношение меток 1 и 0 в таргете:', target[target == 0].count() / target[target == 1].count()) \n",
    "    \n",
    "    features_train, features_df, target_train, target_df = train_test_split(features, target\n",
    "                                                                              , test_size=0.40\n",
    "                                                                              , random_state=12345\n",
    "                                                                              , stratify=target)\n",
    "    features_test, features_valid, target_test, target_valid = train_test_split(features_df, target_df\n",
    "                                                                              , test_size=0.50\n",
    "                                                                              , random_state=12345\n",
    "                                                                              , stratify=target_df)\n",
    "    \n",
    "    print('Размер обучающей выборки', features_train.shape[0])\n",
    "    print('Размер валидационной выборки', features_valid.shape[0])\n",
    "    print('Размер тестовой выборки', features_test.shape[0])\n",
    "    print('Соотношение меток 1 и 0 в target_valid:'\n",
    "      , target_valid[target_valid == 0].count() / target_valid[target_valid == 1].count())\n",
    "    print('Соотношение меток 1 и 0 в target_test:'\n",
    "      , target_test[target_test == 0].count() / target_test[target_test == 1].count())\n",
    "    print('Количество 0 в таргете:', target_test[target_test == 0].count())\n",
    "    print('Количество 1 в таргете:', target_test[target_test == 1].count())\n",
    "    \n",
    "    \n",
    "    return (features_train, features_test, features_valid, target_train, target_test, target_valid)"
   ]
  },
  {
   "cell_type": "markdown",
   "metadata": {},
   "source": [
    "### Создадим три выборки."
   ]
  },
  {
   "cell_type": "code",
   "execution_count": 101,
   "metadata": {},
   "outputs": [
    {
     "name": "stdout",
     "output_type": "stream",
     "text": [
      "Размер target 159571\n",
      "Размер features 159571\n",
      "Соотношение меток 1 и 0 в таргете: 8.834884437596301\n",
      "Размер обучающей выборки 95742\n",
      "Размер валидационной выборки 31915\n",
      "Размер тестовой выборки 31914\n",
      "Соотношение меток 1 и 0 в target_valid: 8.83513097072419\n",
      "Соотношение меток 1 и 0 в target_test: 8.83482280431433\n",
      "Количество 0 в таргете: 28669\n",
      "Количество 1 в таргете: 3245\n"
     ]
    }
   ],
   "source": [
    "(features_train, features_test, features_valid, target_train, target_test, target_valid) = splitting(df_lemm)"
   ]
  },
  {
   "cell_type": "markdown",
   "metadata": {},
   "source": [
    "Наблюдается большой дисбаланс классов (1:9)."
   ]
  },
  {
   "cell_type": "markdown",
   "metadata": {},
   "source": [
    "### Напишем функцию \"борьбы\" с дисбалансом, воспользуемся техниками увеличение выборки (upsampling), уменьшение выборки(downsampling)."
   ]
  },
  {
   "cell_type": "code",
   "execution_count": 102,
   "metadata": {},
   "outputs": [],
   "source": [
    "def sample(features_train, target_train, method, factor):\n",
    "\n",
    "    features_zeros = features_train[target_train == 0]\n",
    "    features_ones = features_train[target_train == 1]\n",
    "    target_zeros = target_train[target_train == 0]\n",
    "    target_ones = target_train[target_train == 1]\n",
    "    \n",
    "\n",
    "    \n",
    "    if method == 'up':\n",
    "        features_sampled = pd.concat([features_zeros] + [features_ones] * factor)\n",
    "        target_sampled = pd.concat([target_zeros] + [target_ones] * factor)                \n",
    "        features_sampled, target_sampled = shuffle(features_sampled, target_sampled, random_state=12345)\n",
    "    \n",
    "    elif method == 'down':\n",
    "        features_sampled = pd.concat(\n",
    "                    [features_zeros.sample(frac=factor, random_state=12345)] + [features_ones])\n",
    "        target_sampled = pd.concat(\n",
    "                    [target_zeros.sample(frac=factor, random_state=12345)] + [target_ones])\n",
    "        \n",
    "    print('Соотношение меток 1 и 0 в target_train:', target_sampled[target_sampled == 0].count() \n",
    "                                                      / target_sampled[target_sampled == 1].count()) \n",
    "        \n",
    "    return features_sampled, target_sampled  "
   ]
  },
  {
   "cell_type": "markdown",
   "metadata": {},
   "source": [
    "### **Вывод**\n",
    "* Загрузили данные. Обработка не требуется. Требуется подготовка признаков для обучения моделей.\n",
    "* Написали функции лемматизации и очистки текста\n",
    "* Лемматизировали и очистили текст\n",
    "* Написали функцию разделения данных c отображением дисбаланса меток 1 и 0\n",
    "* Разделили данные на обучающую, валидационную и тестовую выборки\n",
    "* Создадим три выборки: обучающую, валидационную и тестовую\n",
    "* Напишем функцию \"борьбы\" с дисбалансом, воспользуемся техниками увеличение выборки (upsampling), уменьшение выборки(downsampling)."
   ]
  },
  {
   "cell_type": "markdown",
   "metadata": {},
   "source": [
    "## Обучение"
   ]
  },
  {
   "cell_type": "markdown",
   "metadata": {},
   "source": [
    "### Напишем функцию построеня ROC-криваой и нахождения метрики качества AUC-ROC и представления F1 меры."
   ]
  },
  {
   "cell_type": "code",
   "execution_count": 103,
   "metadata": {},
   "outputs": [],
   "source": [
    "def auc_roc_fun(features_valid, target_valid, model_tree, model_forest, model_log, model_boost):\n",
    "    auc_roc_tree = 0\n",
    "    accuracy_tree = 0\n",
    "    f1_score_tree = 0\n",
    "    auc_roc_forest = 0\n",
    "    accuracy_forest = 0\n",
    "    f1_score_forest = 0 \n",
    "    auc_roc_log = 0\n",
    "    accuracy_log = 0\n",
    "    f1_score_log = 0\n",
    "    auc_roc_boost = 0\n",
    "    accuracy_boost = 0\n",
    "    f1_score_boost = 0\n",
    "    i = 0\n",
    "    list = ['0', 'для дерева решений', 'для случайного леса', 'для логистической регрессии', 'для градиентного бустинга']\n",
    "    for model in [model_tree, model_forest, model_log, model_boost]:\n",
    "        i = i + 1\n",
    "        \n",
    "        predictions = model.predict(features_valid) \n",
    "        accuracy = accuracy_score(target_valid, predictions)\n",
    "        result = f1_score(target_valid, predictions)\n",
    "\n",
    "        probabilities_valid = model.predict_proba(features_valid)\n",
    "        probabilities_one_valid = probabilities_valid[:, 1]\n",
    "\n",
    "        fpr, tpr, thresholds = roc_curve(target_valid, probabilities_one_valid)\n",
    "        text = 'ROC-кривая ' + (list[i])\n",
    "\n",
    "\n",
    "        plt.figure()\n",
    "\n",
    "        plt.plot([0, 1], [0, 1], linestyle='--')\n",
    "\n",
    "\n",
    "        plt.plot(fpr, tpr)\n",
    "        plt.xlim([0.0, 1.0])\n",
    "        plt.ylim([0.0, 1.0])\n",
    "        plt.xlabel('False Positive Rate')\n",
    "        plt.ylabel('True Positive Rate')\n",
    "        plt.title(text)\n",
    "        plt.show()\n",
    "        \n",
    "        auc_roc = roc_auc_score(target_valid, probabilities_one_valid)\n",
    "        if i == 1:\n",
    "            auc_roc_tree = auc_roc\n",
    "            f1_score_tree = result\n",
    "            accuracy_tree = accuracy\n",
    "        elif i == 2:  \n",
    "            auc_roc_forest = auc_roc\n",
    "            f1_score_forest = result\n",
    "            accuracy_forest = accuracy               \n",
    "        elif i == 3:  \n",
    "            auc_roc_log = auc_roc\n",
    "            f1_score_log = result\n",
    "            accuracy_log = accuracy\n",
    "        elif i == 4:  \n",
    "            auc_roc_boost = auc_roc\n",
    "            f1_score_boost = result\n",
    "            accuracy_boost = accuracy \n",
    "            \n",
    "    return (auc_roc_tree, auc_roc_forest, auc_roc_log, auc_roc_boost\n",
    "            , f1_score_tree, f1_score_forest, f1_score_log, f1_score_boost\n",
    "            , accuracy_tree, accuracy_forest, accuracy_log, accuracy_boost) "
   ]
  },
  {
   "cell_type": "markdown",
   "metadata": {},
   "source": [
    "### Напишем функцию для классификация тональности текста с помощью TF-IDF признаков. "
   ]
  },
  {
   "cell_type": "code",
   "execution_count": 104,
   "metadata": {},
   "outputs": [],
   "source": [
    "def tf_idf(features_train, features_test, features_valid):\n",
    "    count_tf_idf = TfidfVectorizer()\n",
    "\n",
    "    corpus_train = features_train['lemm_text']\n",
    "    tf_idf_train = count_tf_idf.fit_transform(corpus_train)\n",
    "   \n",
    "    corpus_test = features_test['lemm_text']\n",
    "    tf_idf_test = count_tf_idf.transform(corpus_test)\n",
    "    \n",
    "    corpus_valid = features_valid['lemm_text']\n",
    "    tf_idf_valid = count_tf_idf.transform(corpus_valid) \n",
    "     \n",
    "    return tf_idf_train, tf_idf_test, tf_idf_valid\n"
   ]
  },
  {
   "cell_type": "markdown",
   "metadata": {},
   "source": [
    "### Классифицируем тональность текста TF-IDF признаками. "
   ]
  },
  {
   "cell_type": "code",
   "execution_count": 105,
   "metadata": {},
   "outputs": [
    {
     "name": "stdout",
     "output_type": "stream",
     "text": [
      "Размер матрицы tf_idftrain: (95742, 110977)\n",
      "Размер матрицы tf_idftest: (31914, 110977)\n",
      "Размер матрицы tf_idfvalid: (31915, 110977)\n"
     ]
    }
   ],
   "source": [
    "(tf_idf_train\n",
    " , tf_idf_test\n",
    " , tf_idf_valid) = tf_idf(features_train, features_test, features_valid)\n",
    "print(\"Размер матрицы tf_idftrain:\", tf_idf_train.shape)\n",
    "print(\"Размер матрицы tf_idftest:\", tf_idf_test.shape)\n",
    "print(\"Размер матрицы tf_idfvalid:\", tf_idf_valid.shape)"
   ]
  },
  {
   "cell_type": "markdown",
   "metadata": {},
   "source": [
    "### Напишем функции обучения и подбора гиперпараметров в цикле"
   ]
  },
  {
   "cell_type": "markdown",
   "metadata": {},
   "source": [
    "Здесь можно было использовать grid search, но хотелось видеть какие гиперпараметры как влияют. Ренжи уже стоят в подборе урезанные до лучших значений для более быстрого прогона кода."
   ]
  },
  {
   "cell_type": "markdown",
   "metadata": {},
   "source": [
    "### Напишем функцию, которая перебором, меняя  гиперпараметры ищет лучшую модель XGBClassifier по максимальной F1-мере."
   ]
  },
  {
   "cell_type": "code",
   "execution_count": 106,
   "metadata": {},
   "outputs": [],
   "source": [
    "def search_best_parameter_boost(features_train, target_train, features_valid, target_valid):\n",
    "    best_model_boost = None\n",
    "    best_result = 0\n",
    "    best_estim = 0\n",
    "    best_max_depth = 0\n",
    "    best_learning_rate = 0\n",
    "    for estim in np.arange(18, 25, 8):\n",
    "        for depth in np.arange(350, 401, 50):\n",
    "            for learn in np.arange(0.05, 0.06, 0.01):\n",
    "                model = xgb.XGBClassifier(random_state=12345\n",
    "                                                       , n_estimators=estim\n",
    "                                                       , max_depth=depth                                      \n",
    "                                                       , learning_rate=learn)\n",
    "                model.fit(features_train, target_train)\n",
    "                predictions = model.predict(features_valid) \n",
    "                accuracy = accuracy_score(target_valid, predictions)\n",
    "                result = f1_score(target_valid, predictions)\n",
    "                print('f1_score boost', result, estim, depth, learn)\n",
    "\n",
    "                if result >= best_result:\n",
    "                    best_estim=estim\n",
    "                    best_max_depth=depth\n",
    "                    best_learning_rate=learn\n",
    "                    best_model_boost = model\n",
    "                    best_result = result      \n",
    "                 \n",
    "    return best_model_boost"
   ]
  },
  {
   "cell_type": "markdown",
   "metadata": {},
   "source": [
    "### Напишем функцию, которая перебором, меняя  гиперпараметры ищет лучшую модель LogisticRegression по максимальной F1-мере."
   ]
  },
  {
   "cell_type": "code",
   "execution_count": 107,
   "metadata": {},
   "outputs": [],
   "source": [
    "def search_best_parameter_log(features_train, target_train, features_valid, target_valid):\n",
    "    best_model_log = None\n",
    "    best_result = 0\n",
    "    best_max_iter=0\n",
    "    best_c=0\n",
    "    for max_iter in np.arange(10, 12, 1):\n",
    "        for number_c in np.arange(30, 38, 5):\n",
    "            model = LogisticRegression(random_state=12345\n",
    "                                                   , max_iter=max_iter\n",
    "                                                   , C=number_c\n",
    "                                                   , solver='liblinear')\n",
    "            model.fit(features_train, target_train)\n",
    "            predictions = model.predict(features_valid) \n",
    "            accuracy = accuracy_score(target_valid, predictions)\n",
    "            result = f1_score(target_valid, predictions)\n",
    "            print('f1_score Logistic', result, max_iter, number_c)\n",
    "        \n",
    "\n",
    "            if result >= best_result:\n",
    "                best_max_iter=max_iter\n",
    "                best_c=number_c\n",
    "                best_model_log = model\n",
    "                best_result = result      \n",
    "                 \n",
    "    return best_model_log"
   ]
  },
  {
   "cell_type": "markdown",
   "metadata": {},
   "source": [
    "### Напишем функцию, которая перебором, меняя  гиперпараметры ищет лучшую модель по максимальной F1-мере."
   ]
  },
  {
   "cell_type": "markdown",
   "metadata": {},
   "source": [
    "Дерево и лес обьеденил в одну фнкцию, как мало перспективные для этой задачи."
   ]
  },
  {
   "cell_type": "code",
   "execution_count": 108,
   "metadata": {},
   "outputs": [],
   "source": [
    "def search_best_parameters(features_train, target_train, features_valid, target_valid):    \n",
    "        best_model_tree = None\n",
    "        best_result = 0\n",
    "        for depth in np.arange(30, 51, 5):\n",
    "            for crit in [\"gini\", \"entropy\"]:\n",
    "                for split in [\"best\", \"random\"]:\n",
    "                    model = DecisionTreeClassifier(random_state=12345\n",
    "                                                   , max_depth=depth\n",
    "                                                   , criterion=crit\n",
    "                                                   , splitter=split)\n",
    "                    model.fit(features_train, target_train)\n",
    "                    predictions = model.predict(features_valid) \n",
    "                    accuracy = accuracy_score(target_valid, predictions)\n",
    "                    result = f1_score(target_valid, predictions)\n",
    "                    print('f1_score tree', result, depth, crit, split)\n",
    "                    \n",
    "                    if result >= best_result:\n",
    "                        best_split=split\n",
    "                        best_crit=crit\n",
    "                        max_depth=depth\n",
    "                        best_model_tree = model\n",
    "                        best_result = result\n",
    "                        best_accuracy = accuracy\n",
    "\n",
    "\n",
    "        best_mode_forest = None\n",
    "        best_result = 0\n",
    "        best_accuracy = 0\n",
    "        best_split = 0\n",
    "        for estim in np.arange(3, 5, 1):\n",
    "            for crit in [\"gini\", \"entropy\"]:\n",
    "                for boot in [False, True]:\n",
    "                    for weight in np.arange(0.002, 0.003, 0.001):                            \n",
    "                        model = RandomForestClassifier(random_state=12345\n",
    "                                                           , n_estimators=estim\n",
    "                                                           , criterion=crit\n",
    "                                                           , bootstrap=boot\n",
    "                                                           , min_weight_fraction_leaf=weight)\n",
    "\n",
    "                        model.fit(features_train, target_train)\n",
    "                        predictions = model.predict(features_valid) \n",
    "                        accuracy = accuracy_score(target_valid, predictions)\n",
    "                        result = f1_score(target_valid, predictions)\n",
    "                        print('f1_score Forest', result, estim, crit, boot, weight)\n",
    "\n",
    "                        if result >= best_result:\n",
    "                            best_min_weight_fraction_leaf=weight\n",
    "                            best_n_estimators=estim\n",
    "                            best_model_forest = model\n",
    "                            best_result = result\n",
    "                            best_accuracy = accuracy\n",
    "        \n",
    "        best_model_log = search_best_parameter_log(features_train, target_train, features_valid, target_valid)\n",
    "        best_model_boost = search_best_parameter_boost(features_train, target_train, features_valid, target_valid)\n",
    "                \n",
    "        return (best_model_tree, best_model_forest, best_model_log, best_model_boost)"
   ]
  },
  {
   "cell_type": "markdown",
   "metadata": {},
   "source": [
    "#### Найдем лучшие модели без учета дисбаланса. Обучать будем три модели DecisionTreeClassifier, RandomForestClassifier, LogisticRegression."
   ]
  },
  {
   "cell_type": "code",
   "execution_count": 109,
   "metadata": {
    "scrolled": false
   },
   "outputs": [
    {
     "name": "stdout",
     "output_type": "stream",
     "text": [
      "f1_score tree 0.693412950177272 30 gini best\n",
      "f1_score tree 0.6868080315256145 30 gini random\n",
      "f1_score tree 0.682836511757082 30 entropy best\n",
      "f1_score tree 0.6734578381437464 30 entropy random\n",
      "f1_score tree 0.6965592972181551 35 gini best\n",
      "f1_score tree 0.6950697674418606 35 gini random\n",
      "f1_score tree 0.6894160583941606 35 entropy best\n",
      "f1_score tree 0.6914539400665927 35 entropy random\n",
      "f1_score tree 0.7022845835581939 40 gini best\n",
      "f1_score tree 0.6963533076782116 40 gini random\n",
      "f1_score tree 0.6892473118279571 40 entropy best\n",
      "f1_score tree 0.6869755563662897 40 entropy random\n",
      "f1_score tree 0.7056284840855961 45 gini best\n",
      "f1_score tree 0.7018576420820305 45 gini random\n",
      "f1_score tree 0.6941424061732726 45 entropy best\n",
      "f1_score tree 0.6895807090156558 45 entropy random\n",
      "f1_score tree 0.7068843151171044 50 gini best\n",
      "f1_score tree 0.7052480230050324 50 gini random\n",
      "f1_score tree 0.6969538729329853 50 entropy best\n",
      "f1_score tree 0.7005710206995004 50 entropy random\n",
      "f1_score Forest 0.017109685304002444 3 gini False 0.002\n",
      "f1_score Forest 0.006752608962553714 3 gini True 0.002\n",
      "f1_score Forest 0.005531653349723417 3 entropy False 0.002\n",
      "f1_score Forest 0.006142506142506143 3 entropy True 0.002\n",
      "f1_score Forest 0.05387608500448968 4 gini False 0.002\n",
      "f1_score Forest 0.0036911719470932025 4 gini True 0.002\n",
      "f1_score Forest 0.00798035604665439 4 entropy False 0.002\n",
      "f1_score Forest 0.003076923076923077 4 entropy True 0.002\n",
      "f1_score Logistic 0.7845812723861505 10 30\n",
      "f1_score Logistic 0.7842535787321064 10 35\n",
      "f1_score Logistic 0.782800815771584 11 30\n",
      "f1_score Logistic 0.7814254124851164 11 35\n",
      "f1_score boost 0.7445133188138716 18 350 0.05\n",
      "f1_score boost 0.7430776976002685 18 400 0.05\n",
      "Лучшие модели:\n",
      "DecisionTreeClassifier(max_depth=50, random_state=12345)\n",
      "RandomForestClassifier(bootstrap=False, min_weight_fraction_leaf=0.002,\n",
      "                       n_estimators=4, random_state=12345)\n",
      "LogisticRegression(C=30, max_iter=10, random_state=12345, solver='liblinear')\n",
      "XGBClassifier(base_score=0.5, booster='gbtree', callbacks=None,\n",
      "              colsample_bylevel=1, colsample_bynode=1, colsample_bytree=1,\n",
      "              early_stopping_rounds=None, enable_categorical=False,\n",
      "              eval_metric=None, gamma=0, gpu_id=-1, grow_policy='depthwise',\n",
      "              importance_type=None, interaction_constraints='',\n",
      "              learning_rate=0.05, max_bin=256, max_cat_to_onehot=4,\n",
      "              max_delta_step=0, max_depth=350, max_leaves=0, min_child_weight=1,\n",
      "              missing=nan, monotone_constraints='()', n_estimators=18, n_jobs=0,\n",
      "              num_parallel_tree=1, predictor='auto', random_state=12345,\n",
      "              reg_alpha=0, reg_lambda=1, ...)\n"
     ]
    }
   ],
   "source": [
    "(best_model_tree\n",
    " , best_model_forest\n",
    " , best_model_log\n",
    " , best_model_boost) = search_best_parameters(tf_idf_train\n",
    "                                            , target_train\n",
    "                                            , tf_idf_valid\n",
    "                                            , target_valid)\n",
    "\n",
    "print('Лучшие модели:')\n",
    "print(best_model_tree)\n",
    "print(best_model_forest)\n",
    "print(best_model_log)\n",
    "print(best_model_boost)"
   ]
  },
  {
   "cell_type": "code",
   "execution_count": 110,
   "metadata": {
    "scrolled": false
   },
   "outputs": [
    {
     "name": "stdout",
     "output_type": "stream",
     "text": [
      "Лучшие модели\n"
     ]
    },
    {
     "data": {
      "image/png": "[encoded data removed]",
      "text/plain": [
       "<Figure size 432x288 with 1 Axes>"
      ]
     },
     "metadata": {
      "needs_background": "light"
     },
     "output_type": "display_data"
    },
    {
     "data": {
      "image/png": "[encoded data removed]",
      "text/plain": [
       "<Figure size 432x288 with 1 Axes>"
      ]
     },
     "metadata": {
      "needs_background": "light"
     },
     "output_type": "display_data"
    },
    {
     "data": {
      "image/png": "[encoded data removed]",
      "text/plain": [
       "<Figure size 432x288 with 1 Axes>"
      ]
     },
     "metadata": {
      "needs_background": "light"
     },
     "output_type": "display_data"
    },
    {
     "data": {
      "image/png": "[encoded data removed]",
      "text/plain": [
       "<Figure size 432x288 with 1 Axes>"
      ]
     },
     "metadata": {
      "needs_background": "light"
     },
     "output_type": "display_data"
    },
    {
     "name": "stdout",
     "output_type": "stream",
     "text": [
      "Для дерева решений F1-мера = 0.707 | Mетрика AUC-ROC = 0.800, accuracy = 0.948\n",
      "Для случайного леса F1-мера = 0.054 | Mетрика AUC-ROC = 0.735, accuracy = 0.901\n",
      "Для логистической регрессии F1-мера = 0.785 | Mетрика AUC-ROC = 0.971, accuracy = 0.960\n",
      "Для XGBoost F1-мера = 0.745 | Mетрика AUC-ROC = 0.944, accuracy = 0.952\n"
     ]
    }
   ],
   "source": [
    "print('Лучшие модели')\n",
    "(auc_roc_tree, auc_roc_forest, auc_roc_log, auc_roc_boost\n",
    " , f1_score_tree, f1_score_forest, f1_score_log, f1_score_boost\n",
    " , accuracy_tree, accuracy_forest, accuracy_log, accuracy_boost) = auc_roc_fun(tf_idf_valid, target_valid\n",
    "                                                                , best_model_tree\n",
    "                                                                , best_model_forest\n",
    "                                                                , best_model_log\n",
    "                                                                , best_model_boost)\n",
    "\n",
    "\n",
    "print(\"Для дерева решений F1-мера = {:.3f} | Mетрика AUC-ROC = {:.3f}, accuracy = {:.3f}\".format(\n",
    "        f1_score_tree, auc_roc_tree, accuracy_tree))\n",
    "print(\"Для случайного леса F1-мера = {:.3f} | Mетрика AUC-ROC = {:.3f}, accuracy = {:.3f}\".format(\n",
    "        f1_score_forest, auc_roc_forest, accuracy_forest))\n",
    "print(\"Для логистической регрессии F1-мера = {:.3f} | Mетрика AUC-ROC = {:.3f}, accuracy = {:.3f}\".format(\n",
    "        f1_score_log, auc_roc_log, accuracy_log))\n",
    "print(\"Для XGBoost F1-мера = {:.3f} | Mетрика AUC-ROC = {:.3f}, accuracy = {:.3f}\".format(\n",
    "        f1_score_boost, auc_roc_boost, accuracy_boost))\n"
   ]
  },
  {
   "cell_type": "markdown",
   "metadata": {},
   "source": [
    "### **Вывод**\n",
    "* Были обучены четыре модели с подбором гиперпараметров.\n",
    "* С задачей справилась только логистическая регрессия, F1-мера = 0.780\n",
    "* Чуть хуже XGBoost F1-мера = 0.740 и дерево решений F1-мера = 0.700\n",
    "* Случайный лес показал худшие результаты."
   ]
  },
  {
   "cell_type": "markdown",
   "metadata": {},
   "source": [
    "### Борьба с дисбалансом"
   ]
  },
  {
   "cell_type": "markdown",
   "metadata": {},
   "source": [
    "Для борьбы с дисбалансом воспользуемся техниками увеличение выборки (upsampling), уменьшение выборки(downsampling). Для исследования возьмём модель логистической регрессии как самую лучшую"
   ]
  },
  {
   "cell_type": "markdown",
   "metadata": {},
   "source": [
    "#### Напишем функцию перебора параметров upsampling и downsampling с обучением на этих параметрах и выбором лучших результатов  "
   ]
  },
  {
   "cell_type": "code",
   "execution_count": 111,
   "metadata": {},
   "outputs": [],
   "source": [
    "def search_best_parameters_sample(features_train, target_train, features_valid, target_valid):\n",
    "    \n",
    "    the_best_model_log = None\n",
    "    best_result_log = 0\n",
    "    best_method = None\n",
    "    best_factor = None\n",
    "    best_balanc = None\n",
    "\n",
    "    for method in ['up', 'down']:        \n",
    "        if method == 'up':\n",
    "            for factor in np.arange(5, 6, 1):                                     \n",
    "                (features_sampled, target_sampled) = sample(features_train, target_train, method, factor)\n",
    "    \n",
    "                (tf_idf_train_sampled, tf_idf_test, tf_idf_valid) = tf_idf(features_sampled, features_test, features_valid)\n",
    "                \n",
    "                best_model_log = search_best_parameter_log(tf_idf_train_sampled\n",
    "                                                            , target_sampled\n",
    "                                                            , tf_idf_valid\n",
    "                                                            , target_valid)\n",
    "                \n",
    "\n",
    "\n",
    "                predictions_log = best_model_log.predict(tf_idf_valid)\n",
    "                result_log = f1_score(target_valid, predictions_log)\n",
    "\n",
    "                if result_log > best_result_log:\n",
    "                    the_best_model_log = best_model_log\n",
    "                    train_sampled = tf_idf_train_sampled\n",
    "                    test = tf_idf_test\n",
    "                    valid = tf_idf_valid\n",
    "                    best_method = method\n",
    "                    best_factor = factor\n",
    "                                             \n",
    "                \n",
    "        if method == 'down':\n",
    "            for factor in np.arange(0.9, 1.0, 0.1):                                      \n",
    "                (features_sampled, target_sampled) = sample(features_train, target_train, method, factor)\n",
    "\n",
    "                (tf_idf_train_sampled, tf_idf_test, tf_idf_valid) = tf_idf(features_sampled, features_test, features_valid)\n",
    "            \n",
    "                best_model_log = search_best_parameter_log(tf_idf_train_sampled\n",
    "                                                            , target_sampled\n",
    "                                                            , tf_idf_valid\n",
    "                                                            , target_valid)\n",
    "                \n",
    "\n",
    "                predictions_log = best_model_log.predict(tf_idf_valid)\n",
    "                result_log = f1_score(target_valid, predictions_log)\n",
    "\n",
    "                if result_log > best_result_log:\n",
    "                    the_best_model_log = best_model_log\n",
    "                    train_sampled = tf_idf_train_sampled\n",
    "                    test = tf_idf_test\n",
    "                    valid = tf_idf_valid\n",
    "                    best_method = method\n",
    "                    best_factor = factor                                  \n",
    "                \n",
    "    return (the_best_model_log, train_sampled, test, valid, best_method, best_factor)"
   ]
  },
  {
   "cell_type": "markdown",
   "metadata": {},
   "source": [
    "#### Найдем лучшую модель с учетом дисбаланса. "
   ]
  },
  {
   "cell_type": "markdown",
   "metadata": {},
   "source": [
    "Обучать будем LogisticRegression, при этом для борьбы с дисбалансом будем использовать увеличение выборки (upsampling), уменьшение выборки(downsampling)"
   ]
  },
  {
   "cell_type": "code",
   "execution_count": 112,
   "metadata": {
    "scrolled": false
   },
   "outputs": [
    {
     "name": "stdout",
     "output_type": "stream",
     "text": [
      "Соотношение меток 1 и 0 в target_train: 1.766964560862866\n",
      "f1_score Logistic 0.7641349560930518 10 30\n",
      "f1_score Logistic 0.7618607516943932 10 35\n",
      "f1_score Logistic 0.7647511939608689 11 30\n",
      "f1_score Logistic 0.762756281794358 11 35\n",
      "Соотношение меток 1 и 0 в target_train: 7.9513097072419106\n",
      "f1_score Logistic 0.7860276746540668 10 30\n",
      "f1_score Logistic 0.7857744817124557 10 35\n",
      "f1_score Logistic 0.784656796769852 11 30\n",
      "f1_score Logistic 0.7847292297342752 11 35\n"
     ]
    }
   ],
   "source": [
    "the_best_model_log, train_sampled, test, valid, best_method, best_factor = search_best_parameters_sample(features_train\n",
    "                                                                                                        , target_train\n",
    "                                                                                                        , features_valid\n",
    "                                                                                                        , target_valid)\n"
   ]
  },
  {
   "cell_type": "code",
   "execution_count": 113,
   "metadata": {
    "scrolled": false
   },
   "outputs": [
    {
     "name": "stdout",
     "output_type": "stream",
     "text": [
      "Лучшая модель с учетом дисбаланса:\n",
      "LogisticRegression(C=30, max_iter=10, random_state=12345, solver='liblinear')\n",
      "Лучшая метод для борьбы с дисбалансом: down\n",
      "Лучший коэффициент для метода  down : 0.9\n"
     ]
    }
   ],
   "source": [
    "print('Лучшая модель с учетом дисбаланса:')\n",
    "print(the_best_model_log)\n",
    "print('Лучшая метод для борьбы с дисбалансом:', best_method)\n",
    "print('Лучший коэффициент для метода ', best_method, ':', best_factor)"
   ]
  },
  {
   "cell_type": "markdown",
   "metadata": {},
   "source": [
    "### **Вывод**\n",
    "* Метод downsampling смог незначительно улучшить f1-меру до 0.786"
   ]
  },
  {
   "cell_type": "markdown",
   "metadata": {},
   "source": [
    "#### Нашли лучшие модели с учетом дисбаланса.  Построим ROC-кривую и найдем метрику качества AUC-ROC для каждой модели"
   ]
  },
  {
   "cell_type": "code",
   "execution_count": 114,
   "metadata": {},
   "outputs": [],
   "source": [
    "def auc_roc(features_valid, target_valid, model_log):\n",
    " \n",
    "    auc_roc_log = 0\n",
    "    accuracy_log = 0\n",
    "    f1_score_log = 0\n",
    "    i = 0\n",
    "    list = ['для логистической регрессии']\n",
    "        \n",
    "    predictions = model_log.predict(features_valid) \n",
    "    accuracy = accuracy_score(target_valid, predictions)\n",
    "    result = f1_score(target_valid, predictions)\n",
    "\n",
    "    probabilities_valid = model_log.predict_proba(features_valid)\n",
    "    probabilities_one_valid = probabilities_valid[:, 1]\n",
    "\n",
    "    fpr, tpr, thresholds = roc_curve(target_valid, probabilities_one_valid)\n",
    "    text = 'ROC-кривая для логистической регрессии'\n",
    "\n",
    "    plt.figure()\n",
    "\n",
    "    plt.plot([0, 1], [0, 1], linestyle='--')\n",
    "\n",
    "    plt.plot(fpr, tpr)\n",
    "    plt.xlim([0.0, 1.0])\n",
    "    plt.ylim([0.0, 1.0])\n",
    "    plt.xlabel('False Positive Rate')\n",
    "    plt.ylabel('True Positive Rate')\n",
    "    plt.title(text)\n",
    "    plt.show()\n",
    "    auc_roc_log = roc_auc_score(target_valid, probabilities_one_valid)\n",
    "    f1_score_log = result\n",
    "    accuracy_log = accuracy            \n",
    "            \n",
    "    return (auc_roc_log\n",
    "            , f1_score_log\n",
    "            , accuracy_log) "
   ]
  },
  {
   "cell_type": "code",
   "execution_count": 115,
   "metadata": {},
   "outputs": [
    {
     "data": {
      "image/png": "[encoded data removed]",
      "text/plain": [
       "<Figure size 432x288 with 1 Axes>"
      ]
     },
     "metadata": {
      "needs_background": "light"
     },
     "output_type": "display_data"
    },
    {
     "name": "stdout",
     "output_type": "stream",
     "text": [
      "Для логистической регрессии F1-мера = 0.786 | Mетрика AUC-ROC = 0.971, accuracy = 0.960\n"
     ]
    }
   ],
   "source": [
    "(auc_roc_log\n",
    ", f1_score_log\n",
    ", accuracy_log) = auc_roc(valid, target_valid, the_best_model_log)\n",
    "\n",
    "\n",
    "print(\"Для логистической регрессии F1-мера = {:.3f} | Mетрика AUC-ROC = {:.3f}, accuracy = {:.3f}\".format(\n",
    "        f1_score_log, auc_roc_log, accuracy_log))\n"
   ]
  },
  {
   "cell_type": "markdown",
   "metadata": {},
   "source": [
    "Выбираем модель LogisticRegression для тестирования на тестовой выборке"
   ]
  },
  {
   "cell_type": "markdown",
   "metadata": {},
   "source": [
    "## Тестирование модели"
   ]
  },
  {
   "cell_type": "markdown",
   "metadata": {},
   "source": [
    "Проверим нашу лучшую модель  на тестовой выборке"
   ]
  },
  {
   "cell_type": "code",
   "execution_count": 116,
   "metadata": {},
   "outputs": [
    {
     "data": {
      "image/png": "[encoded data removed]",
      "text/plain": [
       "<Figure size 432x288 with 1 Axes>"
      ]
     },
     "metadata": {
      "needs_background": "light"
     },
     "output_type": "display_data"
    },
    {
     "name": "stdout",
     "output_type": "stream",
     "text": [
      "Для логистической регрессии на тестовой быборке F1-мера = 0.777 | Mетрика AUC-ROC = 0.970, accuracy = 0.959\n"
     ]
    }
   ],
   "source": [
    "predictions = the_best_model_log.predict(test) \n",
    "accuracy = accuracy_score(target_test, predictions)\n",
    "result = f1_score(target_test, predictions)\n",
    "probabilities_test = the_best_model_log.predict_proba(test)\n",
    "probabilities_one_test = probabilities_test[:, 1]\n",
    "auc_roc = roc_auc_score(target_test, probabilities_one_test)\n",
    "fpr, tpr, thresholds = roc_curve(target_test, probabilities_one_test)\n",
    "\n",
    "plt.figure()\n",
    "\n",
    "plt.plot([0, 1], [0, 1], linestyle='--')\n",
    "\n",
    "\n",
    "plt.plot(fpr, tpr)\n",
    "plt.xlim([0.0, 1.0])\n",
    "plt.ylim([0.0, 1.0])\n",
    "plt.xlabel('False Positive Rate')\n",
    "plt.ylabel('True Positive Rate')\n",
    "plt.title('ROC-кривая для логистической регрессии на тестовой выборке')\n",
    "plt.show() \n",
    "\n",
    "\n",
    "print(\"Для логистической регрессии на тестовой быборке F1-мера = {:.3f} | Mетрика AUC-ROC = {:.3f}, accuracy = {:.3f}\"\n",
    "      .format(result, auc_roc, accuracy))"
   ]
  },
  {
   "cell_type": "markdown",
   "metadata": {},
   "source": [
    "### **Вывод**\n",
    "* Логистическая регрессия на тестовой выборке показала отличные значения: F1-мера = 0.78 | Метрика AUC-ROC = 0.970, accuracy = 0.959\n",
    "* Можно сделать вывод что для текстов больше подходит модель логистической регрессии, если не считать модели типа bert.\n",
    "* Задание выполнено F1-мера = 0.78 (больше 0.75)"
   ]
  },
  {
   "cell_type": "markdown",
   "metadata": {},
   "source": [
    "## Классификация на эмбеддингах"
   ]
  },
  {
   "cell_type": "markdown",
   "metadata": {},
   "source": [
    "Ниже я привожу пример для модели bert, но к сожалению процесс перевода текста в эмбединги этой моделью занимает огромное количество времени. Я рандомно урезал данные до выборки с 2000 строк и это заняло почти сутки на ноутбуке."
   ]
  },
  {
   "cell_type": "markdown",
   "metadata": {},
   "source": [
    "### Загружаем перобученные модель и токинезатор"
   ]
  },
  {
   "cell_type": "code",
   "execution_count": 117,
   "metadata": {},
   "outputs": [],
   "source": [
    "model_class, tokenizer_class, pretrained_weights = (ppb.BertModel, ppb.BertTokenizer, 'bert-base-uncased')"
   ]
  },
  {
   "cell_type": "code",
   "execution_count": 118,
   "metadata": {},
   "outputs": [
    {
     "data": {
      "application/vnd.jupyter.widget-view+json": {
       "model_id": "cee68cbfe11e41c1af37e3a4cae49396",
       "version_major": 2,
       "version_minor": 0
      },
      "text/plain": [
       "Downloading vocab.txt:   0%|          | 0.00/226k [00:00<?, ?B/s]"
      ]
     },
     "metadata": {},
     "output_type": "display_data"
    },
    {
     "data": {
      "application/vnd.jupyter.widget-view+json": {
       "model_id": "49e71cd689ea4bf6b37f948d27762382",
       "version_major": 2,
       "version_minor": 0
      },
      "text/plain": [
       "Downloading tokenizer_config.json:   0%|          | 0.00/28.0 [00:00<?, ?B/s]"
      ]
     },
     "metadata": {},
     "output_type": "display_data"
    },
    {
     "data": {
      "application/vnd.jupyter.widget-view+json": {
       "model_id": "a2855a079fd4467e86a1cbd25a78a9af",
       "version_major": 2,
       "version_minor": 0
      },
      "text/plain": [
       "Downloading config.json:   0%|          | 0.00/570 [00:00<?, ?B/s]"
      ]
     },
     "metadata": {},
     "output_type": "display_data"
    },
    {
     "data": {
      "application/vnd.jupyter.widget-view+json": {
       "model_id": "aeba2c1ffaea4da9acfa5dbe7974b13f",
       "version_major": 2,
       "version_minor": 0
      },
      "text/plain": [
       "Downloading pytorch_model.bin:   0%|          | 0.00/420M [00:00<?, ?B/s]"
      ]
     },
     "metadata": {},
     "output_type": "display_data"
    },
    {
     "name": "stderr",
     "output_type": "stream",
     "text": [
      "Some weights of the model checkpoint at bert-base-uncased were not used when initializing BertModel: ['cls.predictions.transform.dense.bias', 'cls.seq_relationship.weight', 'cls.predictions.decoder.weight', 'cls.predictions.transform.LayerNorm.weight', 'cls.predictions.transform.dense.weight', 'cls.predictions.transform.LayerNorm.bias', 'cls.seq_relationship.bias', 'cls.predictions.bias']\n",
      "- This IS expected if you are initializing BertModel from the checkpoint of a model trained on another task or with another architecture (e.g. initializing a BertForSequenceClassification model from a BertForPreTraining model).\n",
      "- This IS NOT expected if you are initializing BertModel from the checkpoint of a model that you expect to be exactly identical (initializing a BertForSequenceClassification model from a BertForSequenceClassification model).\n"
     ]
    }
   ],
   "source": [
    "tokenizer = tokenizer_class.from_pretrained(pretrained_weights)\n",
    "model = model_class.from_pretrained(pretrained_weights)"
   ]
  },
  {
   "cell_type": "markdown",
   "metadata": {},
   "source": [
    "### Делаем рандомную выборку в 2000 строк датафрейма"
   ]
  },
  {
   "cell_type": "code",
   "execution_count": 119,
   "metadata": {},
   "outputs": [],
   "source": [
    "df = df.sample(2000, random_state=12345).reset_index(drop=True)"
   ]
  },
  {
   "cell_type": "code",
   "execution_count": 120,
   "metadata": {
    "scrolled": true
   },
   "outputs": [
    {
     "name": "stdout",
     "output_type": "stream",
     "text": [
      "<class 'pandas.core.frame.DataFrame'>\n",
      "RangeIndex: 2000 entries, 0 to 1999\n",
      "Data columns (total 3 columns):\n",
      " #   Column     Non-Null Count  Dtype \n",
      "---  ------     --------------  ----- \n",
      " 0   text       2000 non-null   object\n",
      " 1   toxic      2000 non-null   int64 \n",
      " 2   lemm_text  2000 non-null   object\n",
      "dtypes: int64(1), object(2)\n",
      "memory usage: 47.0+ KB\n"
     ]
    },
    {
     "data": {
      "text/html": [
       "<div>\n",
       "<style scoped>\n",
       "    .dataframe tbody tr th:only-of-type {\n",
       "        vertical-align: middle;\n",
       "    }\n",
       "\n",
       "    .dataframe tbody tr th {\n",
       "        vertical-align: top;\n",
       "    }\n",
       "\n",
       "    .dataframe thead th {\n",
       "        text-align: right;\n",
       "    }\n",
       "</style>\n",
       "<table border=\"1\" class=\"dataframe\">\n",
       "  <thead>\n",
       "    <tr style=\"text-align: right;\">\n",
       "      <th></th>\n",
       "      <th>text</th>\n",
       "      <th>toxic</th>\n",
       "      <th>lemm_text</th>\n",
       "    </tr>\n",
       "  </thead>\n",
       "  <tbody>\n",
       "    <tr>\n",
       "      <th>0</th>\n",
       "      <td>Ahh shut the fuck up you douchebag sand nigger \\n\\nGo blow up some more people you muslim piece of shit. Fuck you sand nigger i will find u in real life and slit your throat.</td>\n",
       "      <td>1</td>\n",
       "      <td>ahh shut fuck douchebag sand nigger go blow people muslim piece shit fuck sand nigger find u real life slit throat</td>\n",
       "    </tr>\n",
       "    <tr>\n",
       "      <th>1</th>\n",
       "      <td>\"\\n\\nREPLY: There is no such thing as Texas Commerce Bank of Chicago.  Likewise, there is no such thing as the United Farmers Bank of Baltimore and Albuquerque.  So Salvio, you are incorrect.  If you want to prevent even the remote possibility of confusion, then you should not be allowed to use your name, Salvio, because there may be confusion that you are related to Salvador Dali.\\n\\n\"</td>\n",
       "      <td>0</td>\n",
       "      <td>reply thing texas commerce bank chicago likewise thing united farmer bank baltimore albuquerque salvio incorrect want prevent even remote possibility confusion allow use name salvio may confusion related salvador dali</td>\n",
       "    </tr>\n",
       "    <tr>\n",
       "      <th>2</th>\n",
       "      <td>Reply\\nHey, you could at least mention Jasenovac and 700 000 killed (not only serbs) but you say it's all bs, well, what is vandalism, death of innocent, or putting truth here?</td>\n",
       "      <td>0</td>\n",
       "      <td>reply hey least mention jasenovac kill serb say b well vandalism death innocent put truth</td>\n",
       "    </tr>\n",
       "    <tr>\n",
       "      <th>3</th>\n",
       "      <td>Thats fine, there is no deadline )   chi?</td>\n",
       "      <td>0</td>\n",
       "      <td>thats fine deadline chi</td>\n",
       "    </tr>\n",
       "    <tr>\n",
       "      <th>4</th>\n",
       "      <td>\"\\n\\nDYK nomination of Mustarabim\\n Hello! Your submission of Mustarabim at the Did You Know nominations page has been reviewed, and there still are some issues that may need to be clarified. Please review the comment(s) underneath  and respond there as soon as possible.  Thank you for contributing to Did You Know!   (talk • contribs) \"</td>\n",
       "      <td>0</td>\n",
       "      <td>dyk nomination mustarabim hello submission mustarabim know nomination page review still issue may need clarify please review comment underneath respond soon possible thank contribute know talk contribs</td>\n",
       "    </tr>\n",
       "  </tbody>\n",
       "</table>\n",
       "</div>"
      ],
      "text/plain": [
       "                                                                                                                                                                                                                                                                                                                                                                                                    text  \\\n",
       "0                                                                                                                                                                                                                         Ahh shut the fuck up you douchebag sand nigger \\n\\nGo blow up some more people you muslim piece of shit. Fuck you sand nigger i will find u in real life and slit your throat.   \n",
       "1  \"\\n\\nREPLY: There is no such thing as Texas Commerce Bank of Chicago.  Likewise, there is no such thing as the United Farmers Bank of Baltimore and Albuquerque.  So Salvio, you are incorrect.  If you want to prevent even the remote possibility of confusion, then you should not be allowed to use your name, Salvio, because there may be confusion that you are related to Salvador Dali.\\n\\n\"   \n",
       "2                                                                                                                                                                                                                       Reply\\nHey, you could at least mention Jasenovac and 700 000 killed (not only serbs) but you say it's all bs, well, what is vandalism, death of innocent, or putting truth here?   \n",
       "3                                                                                                                                                                                                                                                                                                                                                              Thats fine, there is no deadline )   chi?   \n",
       "4                                                     \"\\n\\nDYK nomination of Mustarabim\\n Hello! Your submission of Mustarabim at the Did You Know nominations page has been reviewed, and there still are some issues that may need to be clarified. Please review the comment(s) underneath  and respond there as soon as possible.  Thank you for contributing to Did You Know!   (talk • contribs) \"   \n",
       "\n",
       "   toxic  \\\n",
       "0      1   \n",
       "1      0   \n",
       "2      0   \n",
       "3      0   \n",
       "4      0   \n",
       "\n",
       "                                                                                                                                                                                                                   lemm_text  \n",
       "0                                                                                                         ahh shut fuck douchebag sand nigger go blow people muslim piece shit fuck sand nigger find u real life slit throat  \n",
       "1  reply thing texas commerce bank chicago likewise thing united farmer bank baltimore albuquerque salvio incorrect want prevent even remote possibility confusion allow use name salvio may confusion related salvador dali  \n",
       "2                                                                                                                                  reply hey least mention jasenovac kill serb say b well vandalism death innocent put truth  \n",
       "3                                                                                                                                                                                                    thats fine deadline chi  \n",
       "4                  dyk nomination mustarabim hello submission mustarabim know nomination page review still issue may need clarify please review comment underneath respond soon possible thank contribute know talk contribs  "
      ]
     },
     "metadata": {},
     "output_type": "display_data"
    }
   ],
   "source": [
    "df.info()\n",
    "display(df.head())"
   ]
  },
  {
   "cell_type": "markdown",
   "metadata": {},
   "source": [
    "### Пишем функцию токинезирования текста с  маской для важных токенов"
   ]
  },
  {
   "cell_type": "code",
   "execution_count": 121,
   "metadata": {},
   "outputs": [
    {
     "name": "stderr",
     "output_type": "stream",
     "text": [
      "Truncation was not explicitly activated but `max_length` is provided a specific value, please use `truncation=True` to explicitly truncate examples to max length. Defaulting to 'longest_first' truncation strategy. If you encode pairs of sequences (GLUE-style) with the tokenizer you can select this strategy more precisely by providing a specific strategy to `truncation`.\n"
     ]
    }
   ],
   "source": [
    "tokenized = df['text'].apply(\n",
    "    lambda x: tokenizer.encode(x, add_special_tokens=True, max_length=512))\n",
    "\n",
    "max_len = 0\n",
    "for i in tokenized.values:\n",
    "    if len(i) > max_len:\n",
    "        max_len = len(i)\n",
    "\n",
    "padded = np.array([i + [0]*(max_len - len(i)) for i in tokenized.values])\n",
    "\n",
    "attention_mask = np.where(padded != 0, 1, 0)"
   ]
  },
  {
   "cell_type": "code",
   "execution_count": 122,
   "metadata": {},
   "outputs": [
    {
     "name": "stdout",
     "output_type": "stream",
     "text": [
      "(2000, 512)\n",
      "(2000, 512)\n"
     ]
    }
   ],
   "source": [
    "print(padded.shape)\n",
    "print(attention_mask.shape)"
   ]
  },
  {
   "cell_type": "markdown",
   "metadata": {},
   "source": [
    "### Разобьем на батчи и из тензора извлечём нужные элементы и добавим в список всех эмбеддингов."
   ]
  },
  {
   "cell_type": "code",
   "execution_count": 125,
   "metadata": {
    "scrolled": true
   },
   "outputs": [
    {
     "data": {
      "application/vnd.jupyter.widget-view+json": {
       "model_id": "8b17e040b07e4589aa09b3e3b25740aa",
       "version_major": 2,
       "version_minor": 0
      },
      "text/plain": [
       "  0%|          | 0/40 [00:00<?, ?it/s]"
      ]
     },
     "metadata": {},
     "output_type": "display_data"
    }
   ],
   "source": [
    "batch_size = 50\n",
    "embeddings = []\n",
    "for i in notebook.tqdm(range(padded.shape[0] // batch_size)):\n",
    "        batch = torch.LongTensor(padded[batch_size*i:batch_size*(i+1)]) \n",
    "        attention_mask_batch = torch.LongTensor(attention_mask[batch_size*i:batch_size*(i+1)])\n",
    "\n",
    "        with torch.no_grad():\n",
    "            batch_embeddings = model(batch, attention_mask=attention_mask_batch)\n",
    "        embeddings.append(batch_embeddings[0][:,0,:].numpy())"
   ]
  },
  {
   "cell_type": "markdown",
   "metadata": {},
   "source": [
    "что-то локально счетчик не работает поэтому просто вывод \"1\" поставил чтоб виден был прогресс"
   ]
  },
  {
   "cell_type": "markdown",
   "metadata": {},
   "source": [
    "### Соберём все эмбеддинги в матрицу признаков."
   ]
  },
  {
   "cell_type": "code",
   "execution_count": 126,
   "metadata": {},
   "outputs": [
    {
     "name": "stdout",
     "output_type": "stream",
     "text": [
      "(2000, 768)\n"
     ]
    }
   ],
   "source": [
    "features = np.concatenate(embeddings)\n",
    "type(features)\n",
    "print(features.shape)"
   ]
  },
  {
   "cell_type": "markdown",
   "metadata": {},
   "source": [
    "###  Создадим три выборки: обучающую, валидационного и тестовую"
   ]
  },
  {
   "cell_type": "code",
   "execution_count": 127,
   "metadata": {},
   "outputs": [],
   "source": [
    "features_train = features[:1200]\n",
    "features_valid = features[1200:1600]\n",
    "features_test = features[1600:]\n",
    "target_train = df['toxic'][:1200]\n",
    "target_valid = df['toxic'][1200:1600]\n",
    "target_test = df['toxic'][1600:]"
   ]
  },
  {
   "cell_type": "code",
   "execution_count": 128,
   "metadata": {},
   "outputs": [
    {
     "name": "stdout",
     "output_type": "stream",
     "text": [
      "(1200, 768)\n",
      "(400, 768)\n",
      "(400, 768)\n",
      "(1200,)\n",
      "(400,)\n",
      "(400,)\n"
     ]
    }
   ],
   "source": [
    "print(features_train.shape)\n",
    "print(features_valid.shape)\n",
    "print(features_test.shape)\n",
    "print(target_train.shape)\n",
    "print(target_valid.shape)\n",
    "print(target_test.shape)"
   ]
  },
  {
   "cell_type": "markdown",
   "metadata": {},
   "source": [
    "### Обучим модели"
   ]
  },
  {
   "cell_type": "code",
   "execution_count": 129,
   "metadata": {},
   "outputs": [
    {
     "name": "stdout",
     "output_type": "stream",
     "text": [
      "f1_score tree 0.4186046511627907 30 gini best\n",
      "f1_score tree 0.24390243902439024 30 gini random\n",
      "f1_score tree 0.4888888888888889 30 entropy best\n",
      "f1_score tree 0.410958904109589 30 entropy random\n",
      "f1_score tree 0.4186046511627907 35 gini best\n",
      "f1_score tree 0.24390243902439024 35 gini random\n",
      "f1_score tree 0.4888888888888889 35 entropy best\n",
      "f1_score tree 0.410958904109589 35 entropy random\n",
      "f1_score tree 0.4186046511627907 40 gini best\n",
      "f1_score tree 0.24390243902439024 40 gini random\n",
      "f1_score tree 0.4888888888888889 40 entropy best\n",
      "f1_score tree 0.410958904109589 40 entropy random\n",
      "f1_score tree 0.4186046511627907 45 gini best\n",
      "f1_score tree 0.24390243902439024 45 gini random\n",
      "f1_score tree 0.4888888888888889 45 entropy best\n",
      "f1_score tree 0.410958904109589 45 entropy random\n",
      "f1_score tree 0.4186046511627907 50 gini best\n",
      "f1_score tree 0.24390243902439024 50 gini random\n",
      "f1_score tree 0.4888888888888889 50 entropy best\n",
      "f1_score tree 0.410958904109589 50 entropy random\n",
      "f1_score Forest 0.3870967741935484 3 gini False 0.002\n",
      "f1_score Forest 0.45614035087719296 3 gini True 0.002\n",
      "f1_score Forest 0.35714285714285715 3 entropy False 0.002\n",
      "f1_score Forest 0.4482758620689655 3 entropy True 0.002\n",
      "f1_score Forest 0.3448275862068965 4 gini False 0.002\n",
      "f1_score Forest 0.3076923076923077 4 gini True 0.002\n",
      "f1_score Forest 0.34615384615384615 4 entropy False 0.002\n",
      "f1_score Forest 0.27999999999999997 4 entropy True 0.002\n",
      "f1_score Logistic 0.5714285714285714 10 30\n",
      "f1_score Logistic 0.5714285714285714 10 35\n",
      "f1_score Logistic 0.588235294117647 11 30\n",
      "f1_score Logistic 0.5588235294117647 11 35\n",
      "f1_score boost 0.53125 18 350 0.05\n",
      "f1_score boost 0.53125 18 400 0.05\n",
      "Лучшие модели:\n",
      "DecisionTreeClassifier(criterion='entropy', max_depth=50, random_state=12345)\n",
      "RandomForestClassifier(min_weight_fraction_leaf=0.002, n_estimators=3,\n",
      "                       random_state=12345)\n",
      "LogisticRegression(C=30, max_iter=11, random_state=12345, solver='liblinear')\n",
      "XGBClassifier(base_score=0.5, booster='gbtree', callbacks=None,\n",
      "              colsample_bylevel=1, colsample_bynode=1, colsample_bytree=1,\n",
      "              early_stopping_rounds=None, enable_categorical=False,\n",
      "              eval_metric=None, gamma=0, gpu_id=-1, grow_policy='depthwise',\n",
      "              importance_type=None, interaction_constraints='',\n",
      "              learning_rate=0.05, max_bin=256, max_cat_to_onehot=4,\n",
      "              max_delta_step=0, max_depth=400, max_leaves=0, min_child_weight=1,\n",
      "              missing=nan, monotone_constraints='()', n_estimators=18, n_jobs=0,\n",
      "              num_parallel_tree=1, predictor='auto', random_state=12345,\n",
      "              reg_alpha=0, reg_lambda=1, ...)\n"
     ]
    }
   ],
   "source": [
    "(best_model_tree\n",
    " , best_model_forest\n",
    " , best_model_log\n",
    " , best_model_boost) = search_best_parameters(features_train\n",
    "                                            , target_train\n",
    "                                            , features_valid\n",
    "                                            , target_valid)\n",
    "\n",
    "print('Лучшие модели:')\n",
    "print(best_model_tree)\n",
    "print(best_model_forest)\n",
    "print(best_model_log)\n",
    "print(best_model_boost)"
   ]
  },
  {
   "cell_type": "code",
   "execution_count": 130,
   "metadata": {
    "scrolled": false
   },
   "outputs": [
    {
     "name": "stdout",
     "output_type": "stream",
     "text": [
      "Лучшие модели\n"
     ]
    },
    {
     "data": {
      "image/png": "[encoded data removed]",
      "text/plain": [
       "<Figure size 432x288 with 1 Axes>"
      ]
     },
     "metadata": {
      "needs_background": "light"
     },
     "output_type": "display_data"
    },
    {
     "data": {
      "image/png": "[encoded data removed]",
      "text/plain": [
       "<Figure size 432x288 with 1 Axes>"
      ]
     },
     "metadata": {
      "needs_background": "light"
     },
     "output_type": "display_data"
    },
    {
     "data": {
      "image/png": "[encoded data removed]",
      "text/plain": [
       "<Figure size 432x288 with 1 Axes>"
      ]
     },
     "metadata": {
      "needs_background": "light"
     },
     "output_type": "display_data"
    },
    {
     "data": {
      "image/png": "[encoded data removed]",
      "text/plain": [
       "<Figure size 432x288 with 1 Axes>"
      ]
     },
     "metadata": {
      "needs_background": "light"
     },
     "output_type": "display_data"
    },
    {
     "name": "stdout",
     "output_type": "stream",
     "text": [
      "Для дерева решений F1-мера = 0.489 | Mетрика AUC-ROC = 0.731, accuracy = 0.885\n",
      "Для случайного леса F1-мера = 0.456 | Mетрика AUC-ROC = 0.730, accuracy = 0.922\n",
      "Для логистической регрессии F1-мера = 0.588 | Mетрика AUC-ROC = 0.894, accuracy = 0.930\n",
      "Для XGBoost F1-мера = 0.531 | Mетрика AUC-ROC = 0.846, accuracy = 0.925\n"
     ]
    }
   ],
   "source": [
    "print('Лучшие модели')\n",
    "(auc_roc_tree, auc_roc_forest, auc_roc_log, auc_roc_boost\n",
    " , f1_score_tree, f1_score_forest, f1_score_log, f1_score_boost\n",
    " , accuracy_tree, accuracy_forest, accuracy_log, accuracy_boost) = auc_roc_fun(features_valid, target_valid\n",
    "                                                                , best_model_tree\n",
    "                                                                , best_model_forest\n",
    "                                                                , best_model_log\n",
    "                                                                , best_model_boost)\n",
    "\n",
    "\n",
    "print(\"Для дерева решений F1-мера = {:.3f} | Mетрика AUC-ROC = {:.3f}, accuracy = {:.3f}\".format(\n",
    "        f1_score_tree, auc_roc_tree, accuracy_tree))\n",
    "print(\"Для случайного леса F1-мера = {:.3f} | Mетрика AUC-ROC = {:.3f}, accuracy = {:.3f}\".format(\n",
    "        f1_score_forest, auc_roc_forest, accuracy_forest))\n",
    "print(\"Для логистической регрессии F1-мера = {:.3f} | Mетрика AUC-ROC = {:.3f}, accuracy = {:.3f}\".format(\n",
    "        f1_score_log, auc_roc_log, accuracy_log))\n",
    "print(\"Для XGBoost F1-мера = {:.3f} | Mетрика AUC-ROC = {:.3f}, accuracy = {:.3f}\".format(\n",
    "        f1_score_boost, auc_roc_boost, accuracy_boost))\n"
   ]
  },
  {
   "cell_type": "markdown",
   "metadata": {},
   "source": [
    "### **Вывод:**\n",
    "* Были обучены четыре модели с подбором гиперпараметров.\n",
    "* О результатах трудно судит на такой маленькой выборке, но уже видно что логистическая регрессия на эмбедингах бердом близка к TF-IDF. Да и случайный лес стал лучше выглядеть."
   ]
  },
  {
   "cell_type": "markdown",
   "metadata": {},
   "source": [
    "## Выводы\n",
    "В качестве исходных данных нам был предоставлен датасет и мы:\n",
    "* Загрузили данные. Обработка не требуется. Требуется подготовка признаков для обучения моделей.\n",
    "* Написали функции лемматизации и очистки текста\n",
    "* Лемматизировали и очистили текст\n",
    "* Написали функцию разделения данных c отображением дисбаланса меток 1 и 0\n",
    "* Разделили данные на обучающую, валидационную и тестовую выборки\n",
    "* Создадим три выборки: обучающую, валидационную и тестовую\n",
    "* Напишем функцию \"борьбы\" с дисбалансом, воспользуемся техниками увеличение выборки (upsampling), уменьшение выборки(downsampling).\n",
    "\n",
    "Далее:\n",
    "* Были обучены четыре модели с подбором гиперпараметров.\n",
    "* С задачей справилась только логистическая регрессия, F1-мера = 0.780\n",
    "* Чуть хуже XGBoost F1-мера = 0.740 и дерево решений F1-мера = 0.700\n",
    "* Случайный лес показал худшие результаты.\n",
    "\n",
    "После борьбы с дисбалансом:\n",
    "* Метод downsampling смог незначительно улучшить f1-меру до 0.783\n",
    "\n",
    "Результаты выбора модели:\n",
    "* Логистическая регрессия на тестовой выборке показала отличные значения: F1-мера = 0.780 | Метрика AUC-ROC = 0.968, accuracy = 0.959\n",
    "* Можно сделать вывод что для текстов больше подходит модель логистической регрессии, если не считать модели типа bert.\n",
    "* Задание выполнено F1-мера = 0.780 (больше 0.75)\n",
    "\n",
    "Классификация на эмбеддингах на небольшой выборке (2000) показала:\n",
    "* Были обучены четыре модели с подбором гиперпараметров.\n",
    "* О результатах трудно судит на такой маленькой выборке, но уже видно, что логистическач регрессия на эмбедингах бердом близка к TF-IDF. Случайный лес стал лучше выглядеть. Думаю, результаты улучшатся если взять выборку в несколько раз больше.\n",
    "\n",
    "Подытожить работу можно так:\n",
    "* Выбрана модель логистическач регрессия с классификацией текста методом TF-IDF\n",
    "* В зависимости от ситуации необходимо подбирать именно ту модель которая будет показывать оптимальные результаты и не обязательно использовать классификацию на эмбеддингах, полученных с помощью модели BERT. Как в данном случае."
   ]
  }
 ],
 "metadata": {
  "ExecuteTimeLog": [
   {
    "duration": 2520,
    "start_time": "2022-07-24T18:53:42.401Z"
   },
   {
    "duration": 2559,
    "start_time": "2022-07-24T18:53:44.923Z"
   },
   {
    "duration": 8,
    "start_time": "2022-07-24T18:54:06.936Z"
   },
   {
    "duration": 2768,
    "start_time": "2022-07-24T18:54:41.741Z"
   },
   {
    "duration": 56,
    "start_time": "2022-07-24T19:21:47.808Z"
   },
   {
    "duration": 2068,
    "start_time": "2022-07-24T19:22:00.234Z"
   },
   {
    "duration": 2992,
    "start_time": "2022-07-24T19:22:02.304Z"
   },
   {
    "duration": 8,
    "start_time": "2022-07-24T19:22:05.298Z"
   },
   {
    "duration": 2391,
    "start_time": "2022-07-24T19:22:05.309Z"
   },
   {
    "duration": 4,
    "start_time": "2022-07-24T19:22:44.832Z"
   },
   {
    "duration": 46,
    "start_time": "2022-07-24T19:23:25.584Z"
   },
   {
    "duration": 1768,
    "start_time": "2022-07-24T19:23:35.468Z"
   },
   {
    "duration": 2926,
    "start_time": "2022-07-24T19:23:37.238Z"
   },
   {
    "duration": 8,
    "start_time": "2022-07-24T19:23:40.171Z"
   },
   {
    "duration": 3217,
    "start_time": "2022-07-24T19:23:40.180Z"
   },
   {
    "duration": 4,
    "start_time": "2022-07-24T19:25:27.237Z"
   },
   {
    "duration": 989,
    "start_time": "2022-07-24T19:25:27.247Z"
   },
   {
    "duration": 14,
    "start_time": "2022-07-24T19:25:28.238Z"
   },
   {
    "duration": 1496,
    "start_time": "2022-07-24T20:38:31.654Z"
   },
   {
    "duration": 2325,
    "start_time": "2022-07-24T20:38:33.152Z"
   },
   {
    "duration": 8,
    "start_time": "2022-07-24T20:38:35.479Z"
   },
   {
    "duration": 2685,
    "start_time": "2022-07-24T20:38:35.489Z"
   },
   {
    "duration": 1688,
    "start_time": "2022-07-24T23:13:01.616Z"
   },
   {
    "duration": 2391,
    "start_time": "2022-07-24T23:13:04.138Z"
   },
   {
    "duration": 7,
    "start_time": "2022-07-24T23:13:06.531Z"
   },
   {
    "duration": 2897,
    "start_time": "2022-07-24T23:13:23.295Z"
   },
   {
    "duration": 1284,
    "start_time": "2022-07-24T23:13:26.195Z"
   },
   {
    "duration": 872,
    "start_time": "2022-07-24T23:48:11.581Z"
   },
   {
    "duration": 5,
    "start_time": "2022-07-24T23:50:38.833Z"
   },
   {
    "duration": 140,
    "start_time": "2022-07-24T23:53:54.874Z"
   },
   {
    "duration": 10,
    "start_time": "2022-07-24T23:55:20.855Z"
   },
   {
    "duration": 4,
    "start_time": "2022-07-24T23:56:07.384Z"
   },
   {
    "duration": 6,
    "start_time": "2022-07-24T23:56:20.903Z"
   },
   {
    "duration": 3,
    "start_time": "2022-07-25T00:01:24.248Z"
   },
   {
    "duration": 7,
    "start_time": "2022-07-25T00:01:24.773Z"
   },
   {
    "duration": 1453,
    "start_time": "2022-07-25T00:29:28.914Z"
   },
   {
    "duration": 2410,
    "start_time": "2022-07-25T00:29:30.369Z"
   },
   {
    "duration": 7,
    "start_time": "2022-07-25T00:29:32.781Z"
   },
   {
    "duration": 3296,
    "start_time": "2022-07-25T00:29:37.107Z"
   },
   {
    "duration": 5,
    "start_time": "2022-07-25T00:30:48.086Z"
   },
   {
    "duration": 4,
    "start_time": "2022-07-25T00:33:48.648Z"
   },
   {
    "duration": 5,
    "start_time": "2022-07-25T00:33:50.700Z"
   },
   {
    "duration": 1452,
    "start_time": "2022-07-25T00:34:54.028Z"
   },
   {
    "duration": 2337,
    "start_time": "2022-07-25T00:34:55.482Z"
   },
   {
    "duration": 5,
    "start_time": "2022-07-25T00:34:57.821Z"
   },
   {
    "duration": 7,
    "start_time": "2022-07-25T00:34:57.828Z"
   },
   {
    "duration": 3,
    "start_time": "2022-07-25T00:34:59.311Z"
   },
   {
    "duration": 2134,
    "start_time": "2022-07-25T00:35:01.873Z"
   },
   {
    "duration": 3,
    "start_time": "2022-07-25T00:35:19.474Z"
   },
   {
    "duration": 1459,
    "start_time": "2022-07-25T00:36:06.718Z"
   },
   {
    "duration": 2373,
    "start_time": "2022-07-25T00:36:08.178Z"
   },
   {
    "duration": 6,
    "start_time": "2022-07-25T00:36:10.552Z"
   },
   {
    "duration": 8,
    "start_time": "2022-07-25T00:36:10.560Z"
   },
   {
    "duration": 2216,
    "start_time": "2022-07-25T00:36:10.570Z"
   },
   {
    "duration": 48,
    "start_time": "2022-07-25T00:37:12.487Z"
   },
   {
    "duration": 1450,
    "start_time": "2022-07-25T00:37:18.408Z"
   },
   {
    "duration": 2379,
    "start_time": "2022-07-25T00:37:19.860Z"
   },
   {
    "duration": 5,
    "start_time": "2022-07-25T00:37:22.241Z"
   },
   {
    "duration": 12,
    "start_time": "2022-07-25T00:37:22.248Z"
   },
   {
    "duration": 3229,
    "start_time": "2022-07-25T00:37:22.262Z"
   },
   {
    "duration": 3,
    "start_time": "2022-07-25T00:40:18.406Z"
   },
   {
    "duration": 1445,
    "start_time": "2022-07-25T00:41:06.637Z"
   },
   {
    "duration": 2367,
    "start_time": "2022-07-25T00:41:08.084Z"
   },
   {
    "duration": 6,
    "start_time": "2022-07-25T00:41:10.453Z"
   },
   {
    "duration": 7,
    "start_time": "2022-07-25T00:41:10.460Z"
   },
   {
    "duration": 2218,
    "start_time": "2022-07-25T00:41:10.468Z"
   },
   {
    "duration": 4,
    "start_time": "2022-07-25T00:44:00.781Z"
   },
   {
    "duration": 1620,
    "start_time": "2022-07-25T00:44:07.904Z"
   },
   {
    "duration": 2462,
    "start_time": "2022-07-25T00:44:09.526Z"
   },
   {
    "duration": 6,
    "start_time": "2022-07-25T00:44:11.990Z"
   },
   {
    "duration": 6,
    "start_time": "2022-07-25T00:44:11.997Z"
   },
   {
    "duration": 2245,
    "start_time": "2022-07-25T00:44:12.005Z"
   },
   {
    "duration": 51,
    "start_time": "2022-07-25T00:48:20.964Z"
   },
   {
    "duration": 47,
    "start_time": "2022-07-25T00:50:07.937Z"
   },
   {
    "duration": 51,
    "start_time": "2022-07-25T00:52:09.316Z"
   },
   {
    "duration": 4,
    "start_time": "2022-07-25T00:52:18.789Z"
   },
   {
    "duration": 49,
    "start_time": "2022-07-25T00:52:24.566Z"
   },
   {
    "duration": 50,
    "start_time": "2022-07-25T00:54:18.490Z"
   },
   {
    "duration": 64,
    "start_time": "2022-07-25T00:54:30.592Z"
   },
   {
    "duration": 1567,
    "start_time": "2022-07-25T00:55:00.104Z"
   },
   {
    "duration": 2386,
    "start_time": "2022-07-25T00:55:01.673Z"
   },
   {
    "duration": 5,
    "start_time": "2022-07-25T00:55:04.061Z"
   },
   {
    "duration": 13,
    "start_time": "2022-07-25T00:55:04.068Z"
   },
   {
    "duration": 2241,
    "start_time": "2022-07-25T00:55:04.083Z"
   },
   {
    "duration": 1563,
    "start_time": "2022-07-25T00:56:25.195Z"
   },
   {
    "duration": 2449,
    "start_time": "2022-07-25T00:56:26.760Z"
   },
   {
    "duration": 5,
    "start_time": "2022-07-25T00:56:29.211Z"
   },
   {
    "duration": 24,
    "start_time": "2022-07-25T00:56:29.218Z"
   },
   {
    "duration": 3552,
    "start_time": "2022-07-25T00:56:29.243Z"
   },
   {
    "duration": 1451,
    "start_time": "2022-07-25T00:57:03.253Z"
   },
   {
    "duration": 2378,
    "start_time": "2022-07-25T00:57:04.706Z"
   },
   {
    "duration": 6,
    "start_time": "2022-07-25T00:57:07.086Z"
   },
   {
    "duration": 4,
    "start_time": "2022-07-25T00:57:07.094Z"
   },
   {
    "duration": 2055,
    "start_time": "2022-07-25T00:57:07.099Z"
   },
   {
    "duration": 54,
    "start_time": "2022-07-25T00:58:03.624Z"
   },
   {
    "duration": 1472,
    "start_time": "2022-07-25T00:58:34.859Z"
   },
   {
    "duration": 2355,
    "start_time": "2022-07-25T00:58:36.333Z"
   },
   {
    "duration": 5,
    "start_time": "2022-07-25T00:58:38.690Z"
   },
   {
    "duration": 5,
    "start_time": "2022-07-25T00:58:38.697Z"
   },
   {
    "duration": 2053,
    "start_time": "2022-07-25T00:58:38.703Z"
   },
   {
    "duration": 114,
    "start_time": "2022-07-25T01:06:38.596Z"
   },
   {
    "duration": 4,
    "start_time": "2022-07-25T01:06:52.325Z"
   },
   {
    "duration": 902,
    "start_time": "2022-07-25T01:06:52.331Z"
   },
   {
    "duration": 5,
    "start_time": "2022-07-25T01:06:53.235Z"
   },
   {
    "duration": 32,
    "start_time": "2022-07-25T01:07:00.123Z"
   },
   {
    "duration": 15,
    "start_time": "2022-07-25T01:07:40.461Z"
   },
   {
    "duration": 3,
    "start_time": "2022-07-25T01:08:52.700Z"
   },
   {
    "duration": 3807,
    "start_time": "2022-07-25T01:10:40.279Z"
   },
   {
    "duration": 8,
    "start_time": "2022-07-25T01:10:52.420Z"
   },
   {
    "duration": 17,
    "start_time": "2022-07-25T01:12:12.097Z"
   },
   {
    "duration": 10,
    "start_time": "2022-07-25T01:12:56.569Z"
   },
   {
    "duration": 9,
    "start_time": "2022-07-25T01:13:15.027Z"
   },
   {
    "duration": 5,
    "start_time": "2022-07-25T01:13:39.527Z"
   },
   {
    "duration": 4,
    "start_time": "2022-07-25T01:13:59.595Z"
   },
   {
    "duration": 5,
    "start_time": "2022-07-25T01:14:05.950Z"
   },
   {
    "duration": 2292,
    "start_time": "2022-07-25T01:18:03.499Z"
   },
   {
    "duration": 5,
    "start_time": "2022-07-25T01:18:05.794Z"
   },
   {
    "duration": 873,
    "start_time": "2022-07-25T01:18:05.801Z"
   },
   {
    "duration": 6,
    "start_time": "2022-07-25T01:18:06.677Z"
   },
   {
    "duration": 23,
    "start_time": "2022-07-25T01:18:06.685Z"
   },
   {
    "duration": 2025,
    "start_time": "2022-07-25T01:18:13.655Z"
   },
   {
    "duration": 1531,
    "start_time": "2022-07-25T01:18:15.682Z"
   },
   {
    "duration": 2373,
    "start_time": "2022-07-25T01:18:17.215Z"
   },
   {
    "duration": 6,
    "start_time": "2022-07-25T01:18:19.590Z"
   },
   {
    "duration": 5,
    "start_time": "2022-07-25T01:18:19.597Z"
   },
   {
    "duration": 2181,
    "start_time": "2022-07-25T01:18:19.603Z"
   },
   {
    "duration": 2037,
    "start_time": "2022-07-25T01:18:42.894Z"
   },
   {
    "duration": 1474,
    "start_time": "2022-07-25T01:18:44.933Z"
   },
   {
    "duration": 2362,
    "start_time": "2022-07-25T01:18:46.409Z"
   },
   {
    "duration": 6,
    "start_time": "2022-07-25T01:18:48.773Z"
   },
   {
    "duration": 7,
    "start_time": "2022-07-25T01:18:48.781Z"
   },
   {
    "duration": 2035,
    "start_time": "2022-07-25T01:18:48.789Z"
   },
   {
    "duration": 2351,
    "start_time": "2022-07-25T02:16:39.442Z"
   },
   {
    "duration": 5,
    "start_time": "2022-07-25T02:16:41.796Z"
   },
   {
    "duration": 880,
    "start_time": "2022-07-25T02:16:41.803Z"
   },
   {
    "duration": 8,
    "start_time": "2022-07-25T02:16:42.685Z"
   },
   {
    "duration": 4,
    "start_time": "2022-07-25T02:16:42.709Z"
   },
   {
    "duration": 2094,
    "start_time": "2022-07-25T02:16:50.864Z"
   },
   {
    "duration": 1462,
    "start_time": "2022-07-25T02:16:52.960Z"
   },
   {
    "duration": 2363,
    "start_time": "2022-07-25T02:16:54.424Z"
   },
   {
    "duration": 5,
    "start_time": "2022-07-25T02:16:56.790Z"
   },
   {
    "duration": 6,
    "start_time": "2022-07-25T02:16:56.797Z"
   },
   {
    "duration": 2051,
    "start_time": "2022-07-25T02:16:56.804Z"
   },
   {
    "duration": 2337,
    "start_time": "2022-07-25T02:23:24.375Z"
   },
   {
    "duration": 7,
    "start_time": "2022-07-25T02:23:26.715Z"
   },
   {
    "duration": 901,
    "start_time": "2022-07-25T02:23:26.724Z"
   },
   {
    "duration": 6,
    "start_time": "2022-07-25T02:23:27.626Z"
   },
   {
    "duration": 6,
    "start_time": "2022-07-25T02:23:27.633Z"
   },
   {
    "duration": 2090,
    "start_time": "2022-07-25T02:23:37.528Z"
   },
   {
    "duration": 1626,
    "start_time": "2022-07-25T02:23:39.620Z"
   },
   {
    "duration": 2435,
    "start_time": "2022-07-25T02:23:41.248Z"
   },
   {
    "duration": 5,
    "start_time": "2022-07-25T02:23:43.685Z"
   },
   {
    "duration": 8,
    "start_time": "2022-07-25T02:23:43.692Z"
   },
   {
    "duration": 2170,
    "start_time": "2022-07-25T02:23:43.702Z"
   },
   {
    "duration": 2263,
    "start_time": "2022-07-25T02:24:37.494Z"
   },
   {
    "duration": 5,
    "start_time": "2022-07-25T02:24:39.759Z"
   },
   {
    "duration": 876,
    "start_time": "2022-07-25T02:24:39.765Z"
   },
   {
    "duration": 5,
    "start_time": "2022-07-25T02:24:40.643Z"
   },
   {
    "duration": 6,
    "start_time": "2022-07-25T02:24:40.649Z"
   },
   {
    "duration": 2057,
    "start_time": "2022-07-25T02:24:46.900Z"
   },
   {
    "duration": 1440,
    "start_time": "2022-07-25T02:24:48.960Z"
   },
   {
    "duration": 2431,
    "start_time": "2022-07-25T02:24:50.401Z"
   },
   {
    "duration": 6,
    "start_time": "2022-07-25T02:24:52.833Z"
   },
   {
    "duration": 6,
    "start_time": "2022-07-25T02:24:52.841Z"
   },
   {
    "duration": 2041,
    "start_time": "2022-07-25T02:24:52.848Z"
   },
   {
    "duration": 2281,
    "start_time": "2022-07-25T02:25:48.930Z"
   },
   {
    "duration": 5,
    "start_time": "2022-07-25T02:25:51.213Z"
   },
   {
    "duration": 944,
    "start_time": "2022-07-25T02:25:51.220Z"
   },
   {
    "duration": 6,
    "start_time": "2022-07-25T02:25:52.166Z"
   },
   {
    "duration": 3,
    "start_time": "2022-07-25T02:25:52.173Z"
   },
   {
    "duration": 2267,
    "start_time": "2022-07-25T02:25:59.999Z"
   },
   {
    "duration": 1543,
    "start_time": "2022-07-25T02:26:02.269Z"
   },
   {
    "duration": 2423,
    "start_time": "2022-07-25T02:26:03.814Z"
   },
   {
    "duration": 6,
    "start_time": "2022-07-25T02:26:06.239Z"
   },
   {
    "duration": 6,
    "start_time": "2022-07-25T02:26:06.247Z"
   },
   {
    "duration": 2211,
    "start_time": "2022-07-25T02:26:06.255Z"
   },
   {
    "duration": 49,
    "start_time": "2022-07-25T02:26:36.836Z"
   },
   {
    "duration": 57,
    "start_time": "2022-07-25T02:26:50.496Z"
   },
   {
    "duration": 55,
    "start_time": "2022-07-25T02:27:53.142Z"
   },
   {
    "duration": 2185,
    "start_time": "2022-07-25T02:28:11.481Z"
   },
   {
    "duration": 1552,
    "start_time": "2022-07-25T02:28:13.669Z"
   },
   {
    "duration": 2428,
    "start_time": "2022-07-25T02:28:15.223Z"
   },
   {
    "duration": 6,
    "start_time": "2022-07-25T02:28:17.653Z"
   },
   {
    "duration": 29,
    "start_time": "2022-07-25T02:28:17.661Z"
   },
   {
    "duration": 2197,
    "start_time": "2022-07-25T02:28:17.691Z"
   },
   {
    "duration": 2068,
    "start_time": "2022-07-25T02:29:43.690Z"
   },
   {
    "duration": 1454,
    "start_time": "2022-07-25T02:29:45.760Z"
   },
   {
    "duration": 135,
    "start_time": "2022-07-25T02:29:47.217Z"
   },
   {
    "duration": 0,
    "start_time": "2022-07-25T02:29:47.354Z"
   },
   {
    "duration": 0,
    "start_time": "2022-07-25T02:29:47.356Z"
   },
   {
    "duration": 0,
    "start_time": "2022-07-25T02:29:47.358Z"
   },
   {
    "duration": 108,
    "start_time": "2022-07-25T02:30:16.538Z"
   },
   {
    "duration": 5,
    "start_time": "2022-07-25T02:30:21.294Z"
   },
   {
    "duration": 6,
    "start_time": "2022-07-25T02:30:22.435Z"
   },
   {
    "duration": 18,
    "start_time": "2022-07-25T02:30:23.080Z"
   },
   {
    "duration": 3,
    "start_time": "2022-07-25T02:31:04.045Z"
   },
   {
    "duration": 7,
    "start_time": "2022-07-25T02:31:05.696Z"
   },
   {
    "duration": 4,
    "start_time": "2022-07-25T02:31:29.488Z"
   },
   {
    "duration": 7,
    "start_time": "2022-07-25T02:31:55.002Z"
   },
   {
    "duration": 7,
    "start_time": "2022-07-25T02:32:44.572Z"
   },
   {
    "duration": 5,
    "start_time": "2022-07-25T02:33:54.898Z"
   },
   {
    "duration": 8,
    "start_time": "2022-07-25T02:34:18.726Z"
   },
   {
    "duration": 4,
    "start_time": "2022-07-25T02:34:54.373Z"
   },
   {
    "duration": 5,
    "start_time": "2022-07-25T02:36:59.782Z"
   },
   {
    "duration": 7,
    "start_time": "2022-07-25T02:37:26.117Z"
   },
   {
    "duration": 17,
    "start_time": "2022-07-25T02:38:56.288Z"
   },
   {
    "duration": 16,
    "start_time": "2022-07-25T02:41:18.573Z"
   },
   {
    "duration": 6,
    "start_time": "2022-07-25T02:41:29.047Z"
   },
   {
    "duration": 2,
    "start_time": "2022-07-25T02:41:45.880Z"
   },
   {
    "duration": 14,
    "start_time": "2022-07-25T02:41:45.886Z"
   },
   {
    "duration": 52,
    "start_time": "2022-07-25T02:41:45.902Z"
   },
   {
    "duration": 6,
    "start_time": "2022-07-25T02:41:45.955Z"
   },
   {
    "duration": 6,
    "start_time": "2022-07-25T02:41:45.963Z"
   },
   {
    "duration": 10,
    "start_time": "2022-07-25T02:41:45.970Z"
   },
   {
    "duration": 5,
    "start_time": "2022-07-25T02:42:08.861Z"
   },
   {
    "duration": 7,
    "start_time": "2022-07-25T02:42:12.793Z"
   },
   {
    "duration": 2,
    "start_time": "2022-07-25T02:42:17.351Z"
   },
   {
    "duration": 6,
    "start_time": "2022-07-25T02:42:17.356Z"
   },
   {
    "duration": 43,
    "start_time": "2022-07-25T02:42:17.364Z"
   },
   {
    "duration": 9,
    "start_time": "2022-07-25T02:42:18.103Z"
   },
   {
    "duration": 11,
    "start_time": "2022-07-25T02:42:18.113Z"
   },
   {
    "duration": 18,
    "start_time": "2022-07-25T02:42:18.125Z"
   },
   {
    "duration": 6,
    "start_time": "2022-07-25T02:42:30.855Z"
   },
   {
    "duration": 5,
    "start_time": "2022-07-25T02:43:35.103Z"
   },
   {
    "duration": 4,
    "start_time": "2022-07-25T02:44:04.164Z"
   },
   {
    "duration": 8,
    "start_time": "2022-07-25T02:44:10.267Z"
   },
   {
    "duration": 5,
    "start_time": "2022-07-25T02:44:33.729Z"
   },
   {
    "duration": 8,
    "start_time": "2022-07-25T02:44:34.670Z"
   },
   {
    "duration": 1351,
    "start_time": "2022-07-25T02:45:47.742Z"
   },
   {
    "duration": 51,
    "start_time": "2022-07-25T02:46:35.822Z"
   },
   {
    "duration": 50,
    "start_time": "2022-07-25T02:46:48.183Z"
   },
   {
    "duration": 6,
    "start_time": "2022-07-25T02:48:11.286Z"
   },
   {
    "duration": 21,
    "start_time": "2022-07-25T02:48:43.557Z"
   },
   {
    "duration": 5,
    "start_time": "2022-07-25T02:50:22.080Z"
   },
   {
    "duration": 47,
    "start_time": "2022-07-25T02:50:40.967Z"
   },
   {
    "duration": 6,
    "start_time": "2022-07-25T02:50:50.113Z"
   },
   {
    "duration": 6,
    "start_time": "2022-07-25T02:51:12.897Z"
   },
   {
    "duration": 6,
    "start_time": "2022-07-25T02:51:23.157Z"
   },
   {
    "duration": 6,
    "start_time": "2022-07-25T02:53:42.330Z"
   },
   {
    "duration": 6,
    "start_time": "2022-07-25T02:53:51.373Z"
   },
   {
    "duration": 6,
    "start_time": "2022-07-25T02:54:06.786Z"
   },
   {
    "duration": 6,
    "start_time": "2022-07-25T02:54:29.208Z"
   },
   {
    "duration": 2,
    "start_time": "2022-07-25T02:54:51.072Z"
   },
   {
    "duration": 12,
    "start_time": "2022-07-25T02:54:51.076Z"
   },
   {
    "duration": 55,
    "start_time": "2022-07-25T02:54:51.090Z"
   },
   {
    "duration": 5,
    "start_time": "2022-07-25T02:54:51.146Z"
   },
   {
    "duration": 20,
    "start_time": "2022-07-25T02:54:51.153Z"
   },
   {
    "duration": 13,
    "start_time": "2022-07-25T02:54:51.175Z"
   },
   {
    "duration": 6,
    "start_time": "2022-07-25T02:55:18.496Z"
   },
   {
    "duration": 6,
    "start_time": "2022-07-25T02:55:42.240Z"
   },
   {
    "duration": 6,
    "start_time": "2022-07-25T02:55:59.964Z"
   },
   {
    "duration": 6,
    "start_time": "2022-07-25T02:56:22.203Z"
   },
   {
    "duration": 6,
    "start_time": "2022-07-25T02:57:12.778Z"
   },
   {
    "duration": 5,
    "start_time": "2022-07-25T02:57:43.055Z"
   },
   {
    "duration": 3,
    "start_time": "2022-07-25T02:59:19.322Z"
   },
   {
    "duration": 10,
    "start_time": "2022-07-25T03:14:37.805Z"
   },
   {
    "duration": 3,
    "start_time": "2022-07-25T03:15:54.136Z"
   },
   {
    "duration": 3,
    "start_time": "2022-07-25T03:19:00.121Z"
   },
   {
    "duration": 6,
    "start_time": "2022-07-25T03:20:45.753Z"
   },
   {
    "duration": 8,
    "start_time": "2022-07-25T03:21:03.984Z"
   },
   {
    "duration": 8,
    "start_time": "2022-07-25T03:22:24.219Z"
   },
   {
    "duration": 109,
    "start_time": "2022-07-25T03:22:32.045Z"
   },
   {
    "duration": 770,
    "start_time": "2022-07-25T03:22:39.181Z"
   },
   {
    "duration": 4,
    "start_time": "2022-07-25T03:22:50.386Z"
   },
   {
    "duration": 7,
    "start_time": "2022-07-25T03:22:50.393Z"
   },
   {
    "duration": 51,
    "start_time": "2022-07-25T03:22:50.982Z"
   },
   {
    "duration": 13,
    "start_time": "2022-07-25T03:22:51.035Z"
   },
   {
    "duration": 10,
    "start_time": "2022-07-25T03:22:51.050Z"
   },
   {
    "duration": 14,
    "start_time": "2022-07-25T03:22:51.062Z"
   },
   {
    "duration": 13,
    "start_time": "2022-07-25T03:22:51.078Z"
   },
   {
    "duration": 13,
    "start_time": "2022-07-25T03:22:51.093Z"
   },
   {
    "duration": 910,
    "start_time": "2022-07-25T03:26:09.320Z"
   },
   {
    "duration": 2,
    "start_time": "2022-07-25T03:26:30.775Z"
   },
   {
    "duration": 24,
    "start_time": "2022-07-25T03:26:30.782Z"
   },
   {
    "duration": 80,
    "start_time": "2022-07-25T03:26:30.808Z"
   },
   {
    "duration": 8,
    "start_time": "2022-07-25T03:26:30.889Z"
   },
   {
    "duration": 23,
    "start_time": "2022-07-25T03:26:30.898Z"
   },
   {
    "duration": 35,
    "start_time": "2022-07-25T03:26:30.923Z"
   },
   {
    "duration": 28,
    "start_time": "2022-07-25T03:26:30.961Z"
   },
   {
    "duration": 49,
    "start_time": "2022-07-25T03:26:30.991Z"
   },
   {
    "duration": 3,
    "start_time": "2022-07-25T03:27:44.859Z"
   },
   {
    "duration": 4,
    "start_time": "2022-07-25T03:27:44.871Z"
   },
   {
    "duration": 44,
    "start_time": "2022-07-25T03:27:44.877Z"
   },
   {
    "duration": 6,
    "start_time": "2022-07-25T03:27:44.923Z"
   },
   {
    "duration": 5,
    "start_time": "2022-07-25T03:27:44.931Z"
   },
   {
    "duration": 6,
    "start_time": "2022-07-25T03:27:44.937Z"
   },
   {
    "duration": 5,
    "start_time": "2022-07-25T03:27:44.945Z"
   },
   {
    "duration": 16,
    "start_time": "2022-07-25T03:27:44.951Z"
   },
   {
    "duration": 2,
    "start_time": "2022-07-25T04:17:03.304Z"
   },
   {
    "duration": 6,
    "start_time": "2022-07-25T04:17:03.311Z"
   },
   {
    "duration": 48,
    "start_time": "2022-07-25T04:17:03.319Z"
   },
   {
    "duration": 5,
    "start_time": "2022-07-25T04:17:03.369Z"
   },
   {
    "duration": 6,
    "start_time": "2022-07-25T04:17:03.375Z"
   },
   {
    "duration": 5,
    "start_time": "2022-07-25T04:17:03.383Z"
   },
   {
    "duration": 9,
    "start_time": "2022-07-25T04:17:03.389Z"
   },
   {
    "duration": 11,
    "start_time": "2022-07-25T04:17:03.420Z"
   },
   {
    "duration": 6,
    "start_time": "2022-07-25T04:17:07.563Z"
   },
   {
    "duration": 5,
    "start_time": "2022-07-25T04:18:23.704Z"
   },
   {
    "duration": 6,
    "start_time": "2022-07-25T04:18:28.194Z"
   },
   {
    "duration": 10,
    "start_time": "2022-07-25T04:19:26.871Z"
   },
   {
    "duration": 21,
    "start_time": "2022-07-25T04:19:34.750Z"
   },
   {
    "duration": 2,
    "start_time": "2022-07-25T04:21:26.154Z"
   },
   {
    "duration": 6,
    "start_time": "2022-07-25T04:21:26.165Z"
   },
   {
    "duration": 49,
    "start_time": "2022-07-25T04:21:26.173Z"
   },
   {
    "duration": 5,
    "start_time": "2022-07-25T04:21:26.224Z"
   },
   {
    "duration": 6,
    "start_time": "2022-07-25T04:21:26.230Z"
   },
   {
    "duration": 5,
    "start_time": "2022-07-25T04:21:26.239Z"
   },
   {
    "duration": 6,
    "start_time": "2022-07-25T04:21:26.245Z"
   },
   {
    "duration": 13,
    "start_time": "2022-07-25T04:21:26.252Z"
   },
   {
    "duration": 7,
    "start_time": "2022-07-25T04:21:26.267Z"
   },
   {
    "duration": 13,
    "start_time": "2022-07-25T04:21:28.927Z"
   },
   {
    "duration": 2,
    "start_time": "2022-07-25T04:22:11.856Z"
   },
   {
    "duration": 5,
    "start_time": "2022-07-25T04:22:11.862Z"
   },
   {
    "duration": 46,
    "start_time": "2022-07-25T04:22:11.869Z"
   },
   {
    "duration": 6,
    "start_time": "2022-07-25T04:22:11.917Z"
   },
   {
    "duration": 4,
    "start_time": "2022-07-25T04:22:12.462Z"
   },
   {
    "duration": 7,
    "start_time": "2022-07-25T04:22:12.468Z"
   },
   {
    "duration": 9,
    "start_time": "2022-07-25T04:22:12.476Z"
   },
   {
    "duration": 43,
    "start_time": "2022-07-25T04:22:12.487Z"
   },
   {
    "duration": 7,
    "start_time": "2022-07-25T04:22:12.532Z"
   },
   {
    "duration": 20,
    "start_time": "2022-07-25T04:22:12.540Z"
   },
   {
    "duration": 3,
    "start_time": "2022-07-25T04:24:17.795Z"
   },
   {
    "duration": 9,
    "start_time": "2022-07-25T04:24:17.803Z"
   },
   {
    "duration": 58,
    "start_time": "2022-07-25T04:24:17.814Z"
   },
   {
    "duration": 7,
    "start_time": "2022-07-25T04:24:18.389Z"
   },
   {
    "duration": 8,
    "start_time": "2022-07-25T04:24:18.398Z"
   },
   {
    "duration": 5,
    "start_time": "2022-07-25T04:24:18.407Z"
   },
   {
    "duration": 6,
    "start_time": "2022-07-25T04:24:18.414Z"
   },
   {
    "duration": 257,
    "start_time": "2022-07-25T04:24:18.422Z"
   },
   {
    "duration": 6,
    "start_time": "2022-07-25T04:24:18.681Z"
   },
   {
    "duration": 24,
    "start_time": "2022-07-25T04:24:18.688Z"
   },
   {
    "duration": 4,
    "start_time": "2022-07-25T04:40:38.147Z"
   },
   {
    "duration": 34,
    "start_time": "2022-07-25T04:40:39.165Z"
   },
   {
    "duration": 1554,
    "start_time": "2022-07-25T15:08:10.818Z"
   },
   {
    "duration": 181,
    "start_time": "2022-07-25T15:08:12.659Z"
   },
   {
    "duration": 3665,
    "start_time": "2022-07-25T15:08:35.197Z"
   },
   {
    "duration": 570,
    "start_time": "2022-07-25T15:08:49.372Z"
   },
   {
    "duration": 50,
    "start_time": "2022-07-25T15:08:52.983Z"
   },
   {
    "duration": 7,
    "start_time": "2022-07-25T15:08:56.397Z"
   },
   {
    "duration": 5,
    "start_time": "2022-07-25T15:08:58.653Z"
   },
   {
    "duration": 3,
    "start_time": "2022-07-25T15:09:01.022Z"
   },
   {
    "duration": 5,
    "start_time": "2022-07-25T15:09:02.837Z"
   },
   {
    "duration": 1694,
    "start_time": "2022-07-25T15:09:08.051Z"
   },
   {
    "duration": 8,
    "start_time": "2022-07-25T15:09:11.589Z"
   },
   {
    "duration": 17,
    "start_time": "2022-07-25T15:09:13.463Z"
   },
   {
    "duration": 10,
    "start_time": "2022-07-25T15:09:17.038Z"
   },
   {
    "duration": 5,
    "start_time": "2022-07-25T15:09:24.026Z"
   },
   {
    "duration": 31,
    "start_time": "2022-07-25T15:09:26.958Z"
   },
   {
    "duration": 11,
    "start_time": "2022-07-25T15:09:31.039Z"
   },
   {
    "duration": 62,
    "start_time": "2022-07-25T15:09:33.231Z"
   },
   {
    "duration": 11,
    "start_time": "2022-07-25T15:17:36.424Z"
   },
   {
    "duration": 41237,
    "start_time": "2022-07-25T15:17:37.164Z"
   },
   {
    "duration": 19,
    "start_time": "2022-07-25T15:21:30.529Z"
   },
   {
    "duration": 43819,
    "start_time": "2022-07-25T15:21:31.830Z"
   },
   {
    "duration": 3,
    "start_time": "2022-07-25T15:29:48.974Z"
   },
   {
    "duration": 8,
    "start_time": "2022-07-25T15:29:49.135Z"
   },
   {
    "duration": 69,
    "start_time": "2022-07-25T15:29:49.145Z"
   },
   {
    "duration": 6,
    "start_time": "2022-07-25T15:29:49.217Z"
   },
   {
    "duration": 13,
    "start_time": "2022-07-25T15:29:49.225Z"
   },
   {
    "duration": 5,
    "start_time": "2022-07-25T15:29:49.240Z"
   },
   {
    "duration": 9,
    "start_time": "2022-07-25T15:29:49.247Z"
   },
   {
    "duration": 244,
    "start_time": "2022-07-25T15:29:49.257Z"
   },
   {
    "duration": 7,
    "start_time": "2022-07-25T15:29:49.503Z"
   },
   {
    "duration": 24,
    "start_time": "2022-07-25T15:29:49.512Z"
   },
   {
    "duration": 9,
    "start_time": "2022-07-25T15:29:49.538Z"
   },
   {
    "duration": 16,
    "start_time": "2022-07-25T15:29:49.550Z"
   },
   {
    "duration": 56,
    "start_time": "2022-07-25T15:29:49.569Z"
   },
   {
    "duration": 11,
    "start_time": "2022-07-25T15:29:49.627Z"
   },
   {
    "duration": 13,
    "start_time": "2022-07-25T15:29:54.273Z"
   },
   {
    "duration": 150495,
    "start_time": "2022-07-25T15:30:01.683Z"
   },
   {
    "duration": 10,
    "start_time": "2022-07-25T15:35:42.181Z"
   },
   {
    "duration": 12,
    "start_time": "2022-07-25T15:36:35.963Z"
   },
   {
    "duration": 226,
    "start_time": "2022-07-25T15:36:38.357Z"
   },
   {
    "duration": 11,
    "start_time": "2022-07-25T15:37:44.774Z"
   },
   {
    "duration": 11746,
    "start_time": "2022-07-25T15:37:46.560Z"
   },
   {
    "duration": 12,
    "start_time": "2022-07-25T15:38:36.150Z"
   },
   {
    "duration": 12263,
    "start_time": "2022-07-25T15:38:36.972Z"
   },
   {
    "duration": 11,
    "start_time": "2022-07-25T15:41:25.801Z"
   },
   {
    "duration": 131,
    "start_time": "2022-07-25T15:41:27.326Z"
   },
   {
    "duration": 9,
    "start_time": "2022-07-25T15:42:55.058Z"
   },
   {
    "duration": 1129,
    "start_time": "2022-07-25T15:42:56.024Z"
   },
   {
    "duration": 10,
    "start_time": "2022-07-25T15:47:23.513Z"
   },
   {
    "duration": 8581,
    "start_time": "2022-07-25T15:47:25.124Z"
   },
   {
    "duration": 3,
    "start_time": "2022-07-25T15:48:56.752Z"
   },
   {
    "duration": 6,
    "start_time": "2022-07-25T15:48:57.204Z"
   },
   {
    "duration": 133,
    "start_time": "2022-07-25T15:48:57.212Z"
   },
   {
    "duration": 5,
    "start_time": "2022-07-25T15:48:57.347Z"
   },
   {
    "duration": 5,
    "start_time": "2022-07-25T15:48:57.354Z"
   },
   {
    "duration": 7,
    "start_time": "2022-07-25T15:48:57.362Z"
   },
   {
    "duration": 6,
    "start_time": "2022-07-25T15:48:57.370Z"
   },
   {
    "duration": 691,
    "start_time": "2022-07-25T15:48:57.377Z"
   },
   {
    "duration": 6,
    "start_time": "2022-07-25T15:48:58.070Z"
   },
   {
    "duration": 18,
    "start_time": "2022-07-25T15:48:58.078Z"
   },
   {
    "duration": 7,
    "start_time": "2022-07-25T15:48:58.098Z"
   },
   {
    "duration": 19,
    "start_time": "2022-07-25T15:48:58.106Z"
   },
   {
    "duration": 75,
    "start_time": "2022-07-25T15:48:58.127Z"
   },
   {
    "duration": 9,
    "start_time": "2022-07-25T15:48:58.229Z"
   },
   {
    "duration": 15292,
    "start_time": "2022-07-25T15:49:01.813Z"
   },
   {
    "duration": 10,
    "start_time": "2022-07-25T15:50:18.430Z"
   },
   {
    "duration": 6347,
    "start_time": "2022-07-25T15:50:19.938Z"
   },
   {
    "duration": 14,
    "start_time": "2022-07-25T15:50:41.038Z"
   },
   {
    "duration": 22937,
    "start_time": "2022-07-25T15:50:42.694Z"
   },
   {
    "duration": 11,
    "start_time": "2022-07-25T15:55:33.598Z"
   },
   {
    "duration": 21529,
    "start_time": "2022-07-25T15:55:35.047Z"
   },
   {
    "duration": 13,
    "start_time": "2022-07-25T15:56:49.097Z"
   },
   {
    "duration": 16815,
    "start_time": "2022-07-25T15:56:50.455Z"
   },
   {
    "duration": 10,
    "start_time": "2022-07-25T16:06:40.804Z"
   },
   {
    "duration": 27849,
    "start_time": "2022-07-25T16:06:42.121Z"
   },
   {
    "duration": 11,
    "start_time": "2022-07-25T16:08:24.899Z"
   },
   {
    "duration": 55408,
    "start_time": "2022-07-25T16:08:25.660Z"
   },
   {
    "duration": 11,
    "start_time": "2022-07-25T16:11:28.365Z"
   },
   {
    "duration": 255,
    "start_time": "2022-07-25T16:11:29.318Z"
   },
   {
    "duration": 10,
    "start_time": "2022-07-25T16:11:43.207Z"
   },
   {
    "duration": 21076,
    "start_time": "2022-07-25T16:11:43.722Z"
   },
   {
    "duration": 10,
    "start_time": "2022-07-25T16:12:35.775Z"
   },
   {
    "duration": 2611,
    "start_time": "2022-07-25T16:12:37.885Z"
   },
   {
    "duration": 9,
    "start_time": "2022-07-25T16:12:58.324Z"
   },
   {
    "duration": 3887,
    "start_time": "2022-07-25T16:12:58.719Z"
   },
   {
    "duration": 8,
    "start_time": "2022-07-25T16:13:46.423Z"
   },
   {
    "duration": 245,
    "start_time": "2022-07-25T16:13:47.270Z"
   },
   {
    "duration": 10,
    "start_time": "2022-07-25T16:13:57.950Z"
   },
   {
    "duration": 251,
    "start_time": "2022-07-25T16:13:58.345Z"
   },
   {
    "duration": 10,
    "start_time": "2022-07-25T16:14:10.699Z"
   },
   {
    "duration": 2304,
    "start_time": "2022-07-25T16:14:11.581Z"
   },
   {
    "duration": 3,
    "start_time": "2022-07-25T16:19:34.942Z"
   },
   {
    "duration": 30,
    "start_time": "2022-07-25T16:19:34.949Z"
   },
   {
    "duration": 65,
    "start_time": "2022-07-25T16:19:34.981Z"
   },
   {
    "duration": 7,
    "start_time": "2022-07-25T16:19:35.048Z"
   },
   {
    "duration": 6,
    "start_time": "2022-07-25T16:19:35.057Z"
   },
   {
    "duration": 12,
    "start_time": "2022-07-25T16:19:35.065Z"
   },
   {
    "duration": 14,
    "start_time": "2022-07-25T16:19:35.078Z"
   },
   {
    "duration": 801,
    "start_time": "2022-07-25T16:19:35.093Z"
   },
   {
    "duration": 7,
    "start_time": "2022-07-25T16:19:35.895Z"
   },
   {
    "duration": 40,
    "start_time": "2022-07-25T16:19:35.903Z"
   },
   {
    "duration": 9,
    "start_time": "2022-07-25T16:19:35.953Z"
   },
   {
    "duration": 13,
    "start_time": "2022-07-25T16:19:35.964Z"
   },
   {
    "duration": 137,
    "start_time": "2022-07-25T16:19:35.979Z"
   },
   {
    "duration": 11,
    "start_time": "2022-07-25T16:19:36.118Z"
   },
   {
    "duration": 2920,
    "start_time": "2022-07-25T16:19:38.755Z"
   },
   {
    "duration": 9,
    "start_time": "2022-07-25T16:20:48.568Z"
   },
   {
    "duration": 3057,
    "start_time": "2022-07-25T16:20:49.791Z"
   },
   {
    "duration": 2911,
    "start_time": "2022-07-25T16:24:09.311Z"
   },
   {
    "duration": 4,
    "start_time": "2022-07-25T16:24:38.721Z"
   },
   {
    "duration": 7,
    "start_time": "2022-07-25T16:24:38.758Z"
   },
   {
    "duration": 998,
    "start_time": "2022-07-25T16:24:38.767Z"
   },
   {
    "duration": 8,
    "start_time": "2022-07-25T16:24:39.767Z"
   },
   {
    "duration": 13,
    "start_time": "2022-07-25T16:24:39.778Z"
   },
   {
    "duration": 6,
    "start_time": "2022-07-25T16:24:39.794Z"
   },
   {
    "duration": 6,
    "start_time": "2022-07-25T16:24:39.801Z"
   },
   {
    "duration": 81527,
    "start_time": "2022-07-25T16:24:39.809Z"
   },
   {
    "duration": 6,
    "start_time": "2022-07-25T16:26:01.338Z"
   },
   {
    "duration": 145,
    "start_time": "2022-07-25T16:26:01.346Z"
   },
   {
    "duration": 8,
    "start_time": "2022-07-25T16:26:01.493Z"
   },
   {
    "duration": 26,
    "start_time": "2022-07-25T16:26:01.502Z"
   },
   {
    "duration": 9086,
    "start_time": "2022-07-25T16:26:01.530Z"
   },
   {
    "duration": 23,
    "start_time": "2022-07-25T16:26:10.618Z"
   },
   {
    "duration": 237850,
    "start_time": "2022-07-25T16:26:14.296Z"
   },
   {
    "duration": 12,
    "start_time": "2022-07-25T16:31:22.799Z"
   },
   {
    "duration": 1369972,
    "start_time": "2022-07-25T16:31:25.182Z"
   },
   {
    "duration": 10,
    "start_time": "2022-07-25T16:56:03.962Z"
   },
   {
    "duration": 439785,
    "start_time": "2022-07-25T16:56:05.176Z"
   },
   {
    "duration": 12,
    "start_time": "2022-07-25T17:24:59.260Z"
   },
   {
    "duration": 4112345,
    "start_time": "2022-07-25T17:25:03.714Z"
   },
   {
    "duration": 12,
    "start_time": "2022-07-25T18:38:05.827Z"
   },
   {
    "duration": 1754027,
    "start_time": "2022-07-25T18:38:07.327Z"
   },
   {
    "duration": 11,
    "start_time": "2022-07-25T19:50:59.277Z"
   },
   {
    "duration": 3082966,
    "start_time": "2022-07-25T19:51:01.000Z"
   },
   {
    "duration": 11,
    "start_time": "2022-07-26T00:52:35.494Z"
   },
   {
    "duration": 270710,
    "start_time": "2022-07-26T00:52:37.536Z"
   },
   {
    "duration": 10,
    "start_time": "2022-07-26T01:00:16.755Z"
   },
   {
    "duration": 87191,
    "start_time": "2022-07-26T01:00:17.138Z"
   },
   {
    "duration": 10,
    "start_time": "2022-07-26T01:02:26.075Z"
   },
   {
    "duration": 102744,
    "start_time": "2022-07-26T01:02:27.698Z"
   },
   {
    "duration": 21,
    "start_time": "2022-07-26T01:06:18.261Z"
   },
   {
    "duration": 13,
    "start_time": "2022-07-26T01:06:29.804Z"
   },
   {
    "duration": 5,
    "start_time": "2022-07-26T01:09:29.052Z"
   },
   {
    "duration": 9,
    "start_time": "2022-07-26T01:10:45.286Z"
   },
   {
    "duration": 111303,
    "start_time": "2022-07-26T01:10:47.748Z"
   },
   {
    "duration": 4,
    "start_time": "2022-07-26T15:26:37.165Z"
   },
   {
    "duration": 1455,
    "start_time": "2022-07-26T15:26:37.172Z"
   },
   {
    "duration": 0,
    "start_time": "2022-07-26T15:26:38.629Z"
   },
   {
    "duration": 0,
    "start_time": "2022-07-26T15:26:38.631Z"
   },
   {
    "duration": 0,
    "start_time": "2022-07-26T15:26:38.633Z"
   },
   {
    "duration": 0,
    "start_time": "2022-07-26T15:26:38.634Z"
   },
   {
    "duration": 0,
    "start_time": "2022-07-26T15:26:38.635Z"
   },
   {
    "duration": 0,
    "start_time": "2022-07-26T15:26:38.636Z"
   },
   {
    "duration": 0,
    "start_time": "2022-07-26T15:26:38.638Z"
   },
   {
    "duration": 0,
    "start_time": "2022-07-26T15:26:38.639Z"
   },
   {
    "duration": 0,
    "start_time": "2022-07-26T15:26:38.640Z"
   },
   {
    "duration": 0,
    "start_time": "2022-07-26T15:26:38.641Z"
   },
   {
    "duration": 0,
    "start_time": "2022-07-26T15:26:38.642Z"
   },
   {
    "duration": 0,
    "start_time": "2022-07-26T15:26:38.644Z"
   },
   {
    "duration": 0,
    "start_time": "2022-07-26T15:26:38.644Z"
   },
   {
    "duration": 2,
    "start_time": "2022-07-26T15:27:22.080Z"
   },
   {
    "duration": 11,
    "start_time": "2022-07-26T15:27:22.089Z"
   },
   {
    "duration": 0,
    "start_time": "2022-07-26T15:27:22.102Z"
   },
   {
    "duration": 0,
    "start_time": "2022-07-26T15:27:22.102Z"
   },
   {
    "duration": 0,
    "start_time": "2022-07-26T15:27:22.104Z"
   },
   {
    "duration": 0,
    "start_time": "2022-07-26T15:27:22.105Z"
   },
   {
    "duration": 0,
    "start_time": "2022-07-26T15:27:22.106Z"
   },
   {
    "duration": 0,
    "start_time": "2022-07-26T15:27:22.107Z"
   },
   {
    "duration": 6,
    "start_time": "2022-07-26T15:27:22.117Z"
   },
   {
    "duration": 15,
    "start_time": "2022-07-26T15:27:22.125Z"
   },
   {
    "duration": 0,
    "start_time": "2022-07-26T15:27:22.141Z"
   },
   {
    "duration": 0,
    "start_time": "2022-07-26T15:27:22.142Z"
   },
   {
    "duration": 0,
    "start_time": "2022-07-26T15:27:22.144Z"
   },
   {
    "duration": 0,
    "start_time": "2022-07-26T15:27:22.145Z"
   },
   {
    "duration": 0,
    "start_time": "2022-07-26T15:27:22.146Z"
   },
   {
    "duration": 3482,
    "start_time": "2022-07-26T15:27:56.014Z"
   },
   {
    "duration": 3,
    "start_time": "2022-07-26T15:28:17.444Z"
   },
   {
    "duration": 484,
    "start_time": "2022-07-26T15:28:17.451Z"
   },
   {
    "duration": 2319,
    "start_time": "2022-07-26T15:28:17.937Z"
   },
   {
    "duration": 5,
    "start_time": "2022-07-26T15:28:20.258Z"
   },
   {
    "duration": 5,
    "start_time": "2022-07-26T15:28:20.265Z"
   },
   {
    "duration": 5,
    "start_time": "2022-07-26T15:28:20.272Z"
   },
   {
    "duration": 8,
    "start_time": "2022-07-26T15:28:20.278Z"
   },
   {
    "duration": 79087,
    "start_time": "2022-07-26T15:28:20.288Z"
   },
   {
    "duration": 7,
    "start_time": "2022-07-26T15:29:39.376Z"
   },
   {
    "duration": 106,
    "start_time": "2022-07-26T15:29:39.385Z"
   },
   {
    "duration": 7,
    "start_time": "2022-07-26T15:29:39.493Z"
   },
   {
    "duration": 11,
    "start_time": "2022-07-26T15:29:39.501Z"
   },
   {
    "duration": 8776,
    "start_time": "2022-07-26T15:29:39.514Z"
   },
   {
    "duration": 10,
    "start_time": "2022-07-26T15:29:48.292Z"
   },
   {
    "duration": 24841,
    "start_time": "2022-07-26T15:29:48.304Z"
   },
   {
    "duration": 94752,
    "start_time": "2022-07-26T15:32:23.172Z"
   },
   {
    "duration": 3,
    "start_time": "2022-07-26T15:36:27.638Z"
   },
   {
    "duration": 5,
    "start_time": "2022-07-26T15:36:27.798Z"
   },
   {
    "duration": 46,
    "start_time": "2022-07-26T15:36:27.806Z"
   },
   {
    "duration": 5,
    "start_time": "2022-07-26T15:36:27.854Z"
   },
   {
    "duration": 6,
    "start_time": "2022-07-26T15:36:27.861Z"
   },
   {
    "duration": 5,
    "start_time": "2022-07-26T15:36:27.870Z"
   },
   {
    "duration": 7,
    "start_time": "2022-07-26T15:36:27.876Z"
   },
   {
    "duration": 96,
    "start_time": "2022-07-26T15:36:27.885Z"
   },
   {
    "duration": 7,
    "start_time": "2022-07-26T15:36:27.984Z"
   },
   {
    "duration": 42,
    "start_time": "2022-07-26T15:36:27.993Z"
   },
   {
    "duration": 8,
    "start_time": "2022-07-26T15:36:28.037Z"
   },
   {
    "duration": 14,
    "start_time": "2022-07-26T15:36:28.047Z"
   },
   {
    "duration": 21,
    "start_time": "2022-07-26T15:36:28.063Z"
   },
   {
    "duration": 10,
    "start_time": "2022-07-26T15:36:28.086Z"
   },
   {
    "duration": 70,
    "start_time": "2022-07-26T15:36:28.099Z"
   },
   {
    "duration": 53,
    "start_time": "2022-07-26T15:36:33.393Z"
   },
   {
    "duration": 3,
    "start_time": "2022-07-26T15:37:03.021Z"
   },
   {
    "duration": 13,
    "start_time": "2022-07-26T15:37:03.030Z"
   },
   {
    "duration": 54,
    "start_time": "2022-07-26T15:37:03.045Z"
   },
   {
    "duration": 5,
    "start_time": "2022-07-26T15:37:03.101Z"
   },
   {
    "duration": 6,
    "start_time": "2022-07-26T15:37:03.108Z"
   },
   {
    "duration": 5,
    "start_time": "2022-07-26T15:37:03.116Z"
   },
   {
    "duration": 8,
    "start_time": "2022-07-26T15:37:03.122Z"
   },
   {
    "duration": 765,
    "start_time": "2022-07-26T15:37:03.132Z"
   },
   {
    "duration": 6,
    "start_time": "2022-07-26T15:37:03.899Z"
   },
   {
    "duration": 26,
    "start_time": "2022-07-26T15:37:03.906Z"
   },
   {
    "duration": 8,
    "start_time": "2022-07-26T15:37:03.934Z"
   },
   {
    "duration": 10,
    "start_time": "2022-07-26T15:37:03.944Z"
   },
   {
    "duration": 91,
    "start_time": "2022-07-26T15:37:03.956Z"
   },
   {
    "duration": 11,
    "start_time": "2022-07-26T15:37:04.049Z"
   },
   {
    "duration": 177,
    "start_time": "2022-07-26T15:37:08.699Z"
   },
   {
    "duration": 51226,
    "start_time": "2022-07-26T15:37:17.423Z"
   },
   {
    "duration": 2,
    "start_time": "2022-07-26T16:46:59.394Z"
   },
   {
    "duration": 7,
    "start_time": "2022-07-26T16:46:59.400Z"
   },
   {
    "duration": 55,
    "start_time": "2022-07-26T16:46:59.408Z"
   },
   {
    "duration": 5,
    "start_time": "2022-07-26T16:46:59.464Z"
   },
   {
    "duration": 6,
    "start_time": "2022-07-26T16:46:59.470Z"
   },
   {
    "duration": 8,
    "start_time": "2022-07-26T16:46:59.478Z"
   },
   {
    "duration": 8,
    "start_time": "2022-07-26T16:46:59.487Z"
   },
   {
    "duration": 752,
    "start_time": "2022-07-26T16:46:59.497Z"
   },
   {
    "duration": 6,
    "start_time": "2022-07-26T16:47:00.251Z"
   },
   {
    "duration": 32,
    "start_time": "2022-07-26T16:47:00.259Z"
   },
   {
    "duration": 39,
    "start_time": "2022-07-26T16:47:00.293Z"
   },
   {
    "duration": 28,
    "start_time": "2022-07-26T16:47:00.334Z"
   },
   {
    "duration": 4,
    "start_time": "2022-07-26T16:47:05.910Z"
   },
   {
    "duration": 4,
    "start_time": "2022-07-26T16:47:50.871Z"
   },
   {
    "duration": 2,
    "start_time": "2022-07-26T16:48:58.739Z"
   },
   {
    "duration": 6,
    "start_time": "2022-07-26T16:48:59.339Z"
   },
   {
    "duration": 50,
    "start_time": "2022-07-26T16:48:59.347Z"
   },
   {
    "duration": 4,
    "start_time": "2022-07-26T16:48:59.399Z"
   },
   {
    "duration": 6,
    "start_time": "2022-07-26T16:48:59.404Z"
   },
   {
    "duration": 4,
    "start_time": "2022-07-26T16:48:59.412Z"
   },
   {
    "duration": 5,
    "start_time": "2022-07-26T16:48:59.418Z"
   },
   {
    "duration": 754,
    "start_time": "2022-07-26T16:48:59.424Z"
   },
   {
    "duration": 6,
    "start_time": "2022-07-26T16:49:00.180Z"
   },
   {
    "duration": 25,
    "start_time": "2022-07-26T16:49:00.187Z"
   },
   {
    "duration": 11,
    "start_time": "2022-07-26T16:49:00.214Z"
   },
   {
    "duration": 6,
    "start_time": "2022-07-26T16:49:03.248Z"
   },
   {
    "duration": 5,
    "start_time": "2022-07-26T16:49:04.912Z"
   },
   {
    "duration": 5,
    "start_time": "2022-07-26T16:49:44.205Z"
   },
   {
    "duration": 4,
    "start_time": "2022-07-26T16:49:48.046Z"
   },
   {
    "duration": 5,
    "start_time": "2022-07-26T16:55:00.889Z"
   },
   {
    "duration": 4,
    "start_time": "2022-07-26T16:55:02.202Z"
   },
   {
    "duration": 5,
    "start_time": "2022-07-26T16:55:14.259Z"
   },
   {
    "duration": 4,
    "start_time": "2022-07-26T16:55:15.473Z"
   },
   {
    "duration": 2,
    "start_time": "2022-07-26T16:55:42.802Z"
   },
   {
    "duration": 26,
    "start_time": "2022-07-26T16:55:42.809Z"
   },
   {
    "duration": 66,
    "start_time": "2022-07-26T16:55:42.838Z"
   },
   {
    "duration": 6,
    "start_time": "2022-07-26T16:55:42.907Z"
   },
   {
    "duration": 8,
    "start_time": "2022-07-26T16:55:42.915Z"
   },
   {
    "duration": 19,
    "start_time": "2022-07-26T16:55:42.926Z"
   },
   {
    "duration": 8,
    "start_time": "2022-07-26T16:55:42.947Z"
   },
   {
    "duration": 803,
    "start_time": "2022-07-26T16:55:42.957Z"
   },
   {
    "duration": 6,
    "start_time": "2022-07-26T16:55:43.762Z"
   },
   {
    "duration": 22,
    "start_time": "2022-07-26T16:55:43.770Z"
   },
   {
    "duration": 7,
    "start_time": "2022-07-26T16:55:43.794Z"
   },
   {
    "duration": 5,
    "start_time": "2022-07-26T16:55:46.073Z"
   },
   {
    "duration": 6,
    "start_time": "2022-07-26T16:55:47.392Z"
   },
   {
    "duration": 5,
    "start_time": "2022-07-26T16:55:53.025Z"
   },
   {
    "duration": 5,
    "start_time": "2022-07-26T16:55:54.051Z"
   },
   {
    "duration": 2,
    "start_time": "2022-07-26T16:56:08.518Z"
   },
   {
    "duration": 6,
    "start_time": "2022-07-26T16:56:09.135Z"
   },
   {
    "duration": 54,
    "start_time": "2022-07-26T16:56:09.143Z"
   },
   {
    "duration": 5,
    "start_time": "2022-07-26T16:56:09.199Z"
   },
   {
    "duration": 6,
    "start_time": "2022-07-26T16:56:09.205Z"
   },
   {
    "duration": 6,
    "start_time": "2022-07-26T16:56:09.213Z"
   },
   {
    "duration": 6,
    "start_time": "2022-07-26T16:56:09.220Z"
   },
   {
    "duration": 762,
    "start_time": "2022-07-26T16:56:09.227Z"
   },
   {
    "duration": 7,
    "start_time": "2022-07-26T16:56:09.991Z"
   },
   {
    "duration": 28,
    "start_time": "2022-07-26T16:56:09.999Z"
   },
   {
    "duration": 9,
    "start_time": "2022-07-26T16:56:10.029Z"
   },
   {
    "duration": 11,
    "start_time": "2022-07-26T16:56:10.039Z"
   },
   {
    "duration": 25,
    "start_time": "2022-07-26T16:56:10.052Z"
   },
   {
    "duration": 5,
    "start_time": "2022-07-26T16:56:11.949Z"
   },
   {
    "duration": 3,
    "start_time": "2022-07-26T16:56:31.851Z"
   },
   {
    "duration": 17,
    "start_time": "2022-07-26T16:56:31.857Z"
   },
   {
    "duration": 56,
    "start_time": "2022-07-26T16:56:31.875Z"
   },
   {
    "duration": 5,
    "start_time": "2022-07-26T16:56:31.932Z"
   },
   {
    "duration": 13,
    "start_time": "2022-07-26T16:56:31.938Z"
   },
   {
    "duration": 15,
    "start_time": "2022-07-26T16:56:31.953Z"
   },
   {
    "duration": 18,
    "start_time": "2022-07-26T16:56:31.970Z"
   },
   {
    "duration": 767,
    "start_time": "2022-07-26T16:56:31.990Z"
   },
   {
    "duration": 6,
    "start_time": "2022-07-26T16:56:32.759Z"
   },
   {
    "duration": 19,
    "start_time": "2022-07-26T16:56:32.767Z"
   },
   {
    "duration": 7,
    "start_time": "2022-07-26T16:56:32.788Z"
   },
   {
    "duration": 5,
    "start_time": "2022-07-26T16:56:35.103Z"
   },
   {
    "duration": 4,
    "start_time": "2022-07-26T16:56:36.420Z"
   },
   {
    "duration": 84,
    "start_time": "2022-07-26T16:56:53.862Z"
   },
   {
    "duration": 5,
    "start_time": "2022-07-26T16:57:31.670Z"
   },
   {
    "duration": 204,
    "start_time": "2022-07-26T16:57:33.402Z"
   },
   {
    "duration": 5,
    "start_time": "2022-07-26T16:58:00.323Z"
   },
   {
    "duration": 218,
    "start_time": "2022-07-26T16:58:01.456Z"
   },
   {
    "duration": 6,
    "start_time": "2022-07-26T16:58:57.156Z"
   },
   {
    "duration": 176,
    "start_time": "2022-07-26T16:58:58.329Z"
   },
   {
    "duration": 54,
    "start_time": "2022-07-26T16:59:40.133Z"
   },
   {
    "duration": 171,
    "start_time": "2022-07-26T16:59:48.159Z"
   },
   {
    "duration": 741,
    "start_time": "2022-07-26T17:00:14.088Z"
   },
   {
    "duration": 884,
    "start_time": "2022-07-26T17:00:40.642Z"
   },
   {
    "duration": 56,
    "start_time": "2022-07-26T17:01:17.921Z"
   },
   {
    "duration": 171,
    "start_time": "2022-07-26T17:01:23.014Z"
   },
   {
    "duration": 170,
    "start_time": "2022-07-26T17:22:00.465Z"
   },
   {
    "duration": 11,
    "start_time": "2022-07-26T17:22:40.788Z"
   },
   {
    "duration": 8,
    "start_time": "2022-07-26T17:22:52.621Z"
   },
   {
    "duration": 160,
    "start_time": "2022-07-26T17:22:54.503Z"
   },
   {
    "duration": 7,
    "start_time": "2022-07-26T17:24:18.229Z"
   },
   {
    "duration": 1158,
    "start_time": "2022-07-26T17:24:18.825Z"
   },
   {
    "duration": 9466,
    "start_time": "2022-07-26T17:25:38.662Z"
   },
   {
    "duration": 2,
    "start_time": "2022-07-26T17:27:19.278Z"
   },
   {
    "duration": 5,
    "start_time": "2022-07-26T17:27:19.450Z"
   },
   {
    "duration": 51,
    "start_time": "2022-07-26T17:27:19.457Z"
   },
   {
    "duration": 4,
    "start_time": "2022-07-26T17:27:19.510Z"
   },
   {
    "duration": 8,
    "start_time": "2022-07-26T17:27:19.516Z"
   },
   {
    "duration": 7,
    "start_time": "2022-07-26T17:27:19.526Z"
   },
   {
    "duration": 8,
    "start_time": "2022-07-26T17:27:19.534Z"
   },
   {
    "duration": 729,
    "start_time": "2022-07-26T17:27:19.543Z"
   },
   {
    "duration": 7,
    "start_time": "2022-07-26T17:27:20.274Z"
   },
   {
    "duration": 30,
    "start_time": "2022-07-26T17:27:20.282Z"
   },
   {
    "duration": 17,
    "start_time": "2022-07-26T17:27:20.314Z"
   },
   {
    "duration": 11,
    "start_time": "2022-07-26T17:27:20.333Z"
   },
   {
    "duration": 87,
    "start_time": "2022-07-26T17:27:20.346Z"
   },
   {
    "duration": 10,
    "start_time": "2022-07-26T17:27:20.435Z"
   },
   {
    "duration": 181,
    "start_time": "2022-07-26T17:27:20.448Z"
   },
   {
    "duration": 33,
    "start_time": "2022-07-26T17:31:12.415Z"
   },
   {
    "duration": 5,
    "start_time": "2022-07-26T17:35:18.219Z"
   },
   {
    "duration": 23,
    "start_time": "2022-07-26T17:35:25.644Z"
   },
   {
    "duration": 3,
    "start_time": "2022-07-26T17:36:32.323Z"
   },
   {
    "duration": 9,
    "start_time": "2022-07-26T17:36:32.332Z"
   },
   {
    "duration": 851,
    "start_time": "2022-07-26T17:36:32.343Z"
   },
   {
    "duration": 7,
    "start_time": "2022-07-26T17:36:33.196Z"
   },
   {
    "duration": 20,
    "start_time": "2022-07-26T17:36:33.204Z"
   },
   {
    "duration": 5,
    "start_time": "2022-07-26T17:36:33.227Z"
   },
   {
    "duration": 7,
    "start_time": "2022-07-26T17:36:33.233Z"
   },
   {
    "duration": 77725,
    "start_time": "2022-07-26T17:36:33.241Z"
   },
   {
    "duration": 9,
    "start_time": "2022-07-26T17:37:50.968Z"
   },
   {
    "duration": 102,
    "start_time": "2022-07-26T17:37:50.978Z"
   },
   {
    "duration": 7,
    "start_time": "2022-07-26T17:37:51.081Z"
   },
   {
    "duration": 8,
    "start_time": "2022-07-26T17:37:51.090Z"
   },
   {
    "duration": 9327,
    "start_time": "2022-07-26T17:37:51.099Z"
   },
   {
    "duration": 10,
    "start_time": "2022-07-26T17:38:00.427Z"
   },
   {
    "duration": 25018,
    "start_time": "2022-07-26T17:38:00.439Z"
   },
   {
    "duration": 22,
    "start_time": "2022-07-26T17:38:25.458Z"
   },
   {
    "duration": 6,
    "start_time": "2022-07-26T17:40:39.590Z"
   },
   {
    "duration": 21,
    "start_time": "2022-07-26T17:40:40.462Z"
   },
   {
    "duration": 12,
    "start_time": "2022-07-26T17:41:07.136Z"
   },
   {
    "duration": 23,
    "start_time": "2022-07-26T17:41:13.666Z"
   },
   {
    "duration": 8,
    "start_time": "2022-07-26T17:42:02.612Z"
   },
   {
    "duration": 22,
    "start_time": "2022-07-26T17:42:06.743Z"
   },
   {
    "duration": 482,
    "start_time": "2022-07-26T17:43:33.999Z"
   },
   {
    "duration": 473,
    "start_time": "2022-07-26T17:44:49.721Z"
   },
   {
    "duration": 7,
    "start_time": "2022-07-26T17:44:56.177Z"
   },
   {
    "duration": 456,
    "start_time": "2022-07-26T17:45:00.588Z"
   },
   {
    "duration": 3,
    "start_time": "2022-07-26T18:05:03.758Z"
   },
   {
    "duration": 9,
    "start_time": "2022-07-26T18:05:03.763Z"
   },
   {
    "duration": 860,
    "start_time": "2022-07-26T18:05:03.774Z"
   },
   {
    "duration": 7,
    "start_time": "2022-07-26T18:05:04.637Z"
   },
   {
    "duration": 6,
    "start_time": "2022-07-26T18:05:04.647Z"
   },
   {
    "duration": 6,
    "start_time": "2022-07-26T18:05:04.654Z"
   },
   {
    "duration": 5,
    "start_time": "2022-07-26T18:05:04.662Z"
   },
   {
    "duration": 78226,
    "start_time": "2022-07-26T18:05:04.669Z"
   },
   {
    "duration": 6,
    "start_time": "2022-07-26T18:06:22.897Z"
   },
   {
    "duration": 109,
    "start_time": "2022-07-26T18:06:22.905Z"
   },
   {
    "duration": 11,
    "start_time": "2022-07-26T18:06:23.017Z"
   },
   {
    "duration": 16,
    "start_time": "2022-07-26T18:06:23.030Z"
   },
   {
    "duration": 9357,
    "start_time": "2022-07-26T18:06:23.048Z"
   },
   {
    "duration": 18,
    "start_time": "2022-07-26T18:06:32.408Z"
   },
   {
    "duration": 24528,
    "start_time": "2022-07-26T18:06:32.427Z"
   },
   {
    "duration": 551,
    "start_time": "2022-07-26T18:06:56.957Z"
   },
   {
    "duration": 25,
    "start_time": "2022-07-26T18:06:57.511Z"
   },
   {
    "duration": 47,
    "start_time": "2022-07-26T18:06:57.538Z"
   },
   {
    "duration": 14,
    "start_time": "2022-07-26T18:11:13.990Z"
   },
   {
    "duration": 26,
    "start_time": "2022-07-26T18:11:16.198Z"
   },
   {
    "duration": 14,
    "start_time": "2022-07-26T18:11:47.557Z"
   },
   {
    "duration": 27,
    "start_time": "2022-07-26T18:11:49.244Z"
   },
   {
    "duration": 13,
    "start_time": "2022-07-26T18:12:34.790Z"
   },
   {
    "duration": 29,
    "start_time": "2022-07-26T18:12:36.064Z"
   },
   {
    "duration": 13,
    "start_time": "2022-07-26T18:59:22.811Z"
   },
   {
    "duration": 3586,
    "start_time": "2022-07-26T18:59:26.315Z"
   },
   {
    "duration": 17,
    "start_time": "2022-07-26T19:02:08.302Z"
   },
   {
    "duration": 3511,
    "start_time": "2022-07-26T19:02:09.907Z"
   },
   {
    "duration": 13,
    "start_time": "2022-07-26T19:03:59.904Z"
   },
   {
    "duration": 3285,
    "start_time": "2022-07-26T19:04:03.040Z"
   },
   {
    "duration": 13,
    "start_time": "2022-07-26T19:04:56.863Z"
   },
   {
    "duration": 4991,
    "start_time": "2022-07-26T19:04:58.473Z"
   },
   {
    "duration": 12,
    "start_time": "2022-07-26T19:21:37.768Z"
   },
   {
    "duration": 3368,
    "start_time": "2022-07-26T19:21:39.673Z"
   },
   {
    "duration": 13,
    "start_time": "2022-07-26T19:22:14.677Z"
   },
   {
    "duration": 3729,
    "start_time": "2022-07-26T19:22:15.901Z"
   },
   {
    "duration": 12,
    "start_time": "2022-07-26T19:23:25.872Z"
   },
   {
    "duration": 3685,
    "start_time": "2022-07-26T19:23:26.770Z"
   },
   {
    "duration": 12,
    "start_time": "2022-07-26T19:26:31.944Z"
   },
   {
    "duration": 3772,
    "start_time": "2022-07-26T19:26:33.597Z"
   },
   {
    "duration": 23990,
    "start_time": "2022-07-26T19:27:22.567Z"
   },
   {
    "duration": 13,
    "start_time": "2022-07-26T19:31:53.820Z"
   },
   {
    "duration": 3766,
    "start_time": "2022-07-26T19:31:56.060Z"
   },
   {
    "duration": 15,
    "start_time": "2022-07-26T19:34:38.355Z"
   },
   {
    "duration": 3686,
    "start_time": "2022-07-26T19:34:40.618Z"
   },
   {
    "duration": 15,
    "start_time": "2022-07-26T19:35:21.892Z"
   },
   {
    "duration": 3895,
    "start_time": "2022-07-26T19:35:22.966Z"
   },
   {
    "duration": 14,
    "start_time": "2022-07-26T19:38:15.228Z"
   },
   {
    "duration": 4754,
    "start_time": "2022-07-26T19:38:16.997Z"
   },
   {
    "duration": 3,
    "start_time": "2022-07-26T23:05:14.565Z"
   },
   {
    "duration": 1399,
    "start_time": "2022-07-26T23:05:14.573Z"
   },
   {
    "duration": 0,
    "start_time": "2022-07-26T23:05:15.975Z"
   },
   {
    "duration": 0,
    "start_time": "2022-07-26T23:05:15.977Z"
   },
   {
    "duration": 0,
    "start_time": "2022-07-26T23:05:15.978Z"
   },
   {
    "duration": 0,
    "start_time": "2022-07-26T23:05:15.979Z"
   },
   {
    "duration": 0,
    "start_time": "2022-07-26T23:05:15.980Z"
   },
   {
    "duration": 0,
    "start_time": "2022-07-26T23:05:15.981Z"
   },
   {
    "duration": 0,
    "start_time": "2022-07-26T23:05:15.982Z"
   },
   {
    "duration": 0,
    "start_time": "2022-07-26T23:05:15.983Z"
   },
   {
    "duration": 0,
    "start_time": "2022-07-26T23:05:15.984Z"
   },
   {
    "duration": 0,
    "start_time": "2022-07-26T23:05:15.986Z"
   },
   {
    "duration": 0,
    "start_time": "2022-07-26T23:05:15.986Z"
   },
   {
    "duration": 0,
    "start_time": "2022-07-26T23:05:15.988Z"
   },
   {
    "duration": 0,
    "start_time": "2022-07-26T23:05:15.989Z"
   },
   {
    "duration": 0,
    "start_time": "2022-07-26T23:05:15.990Z"
   },
   {
    "duration": 0,
    "start_time": "2022-07-26T23:05:15.991Z"
   },
   {
    "duration": 0,
    "start_time": "2022-07-26T23:05:15.992Z"
   },
   {
    "duration": 3845,
    "start_time": "2022-07-26T23:06:17.673Z"
   },
   {
    "duration": 2,
    "start_time": "2022-07-26T23:06:29.856Z"
   },
   {
    "duration": 539,
    "start_time": "2022-07-26T23:06:29.862Z"
   },
   {
    "duration": 2361,
    "start_time": "2022-07-26T23:06:30.403Z"
   },
   {
    "duration": 5,
    "start_time": "2022-07-26T23:06:32.766Z"
   },
   {
    "duration": 15,
    "start_time": "2022-07-26T23:06:32.773Z"
   },
   {
    "duration": 11,
    "start_time": "2022-07-26T23:06:32.790Z"
   },
   {
    "duration": 11,
    "start_time": "2022-07-26T23:06:32.803Z"
   },
   {
    "duration": 80708,
    "start_time": "2022-07-26T23:06:32.816Z"
   },
   {
    "duration": 6,
    "start_time": "2022-07-26T23:07:53.526Z"
   },
   {
    "duration": 113,
    "start_time": "2022-07-26T23:07:53.534Z"
   },
   {
    "duration": 7,
    "start_time": "2022-07-26T23:07:53.649Z"
   },
   {
    "duration": 12,
    "start_time": "2022-07-26T23:07:53.658Z"
   },
   {
    "duration": 9359,
    "start_time": "2022-07-26T23:07:53.671Z"
   },
   {
    "duration": 9,
    "start_time": "2022-07-26T23:08:03.032Z"
   },
   {
    "duration": 25309,
    "start_time": "2022-07-26T23:08:03.043Z"
   },
   {
    "duration": 85,
    "start_time": "2022-07-26T23:08:28.353Z"
   },
   {
    "duration": 0,
    "start_time": "2022-07-26T23:08:28.439Z"
   },
   {
    "duration": 0,
    "start_time": "2022-07-26T23:08:28.441Z"
   },
   {
    "duration": 6,
    "start_time": "2022-07-26T23:10:32.818Z"
   },
   {
    "duration": 448,
    "start_time": "2022-07-26T23:10:41.814Z"
   },
   {
    "duration": 14,
    "start_time": "2022-07-26T23:11:11.108Z"
   },
   {
    "duration": 4667,
    "start_time": "2022-07-26T23:11:13.200Z"
   },
   {
    "duration": 57,
    "start_time": "2022-07-26T23:19:40.898Z"
   },
   {
    "duration": 54,
    "start_time": "2022-07-26T23:19:56.979Z"
   },
   {
    "duration": 8,
    "start_time": "2022-07-26T23:20:24.182Z"
   },
   {
    "duration": 4325,
    "start_time": "2022-07-26T23:20:27.669Z"
   },
   {
    "duration": 5,
    "start_time": "2022-07-26T23:34:43.962Z"
   },
   {
    "duration": 7,
    "start_time": "2022-07-26T23:40:17.261Z"
   },
   {
    "duration": 5,
    "start_time": "2022-07-27T01:20:26.792Z"
   },
   {
    "duration": 46,
    "start_time": "2022-07-27T01:20:27.645Z"
   },
   {
    "duration": 5,
    "start_time": "2022-07-27T01:23:50.261Z"
   },
   {
    "duration": 10480,
    "start_time": "2022-07-27T01:23:51.113Z"
   },
   {
    "duration": 5,
    "start_time": "2022-07-27T01:25:13.766Z"
   },
   {
    "duration": 6,
    "start_time": "2022-07-27T01:25:14.262Z"
   },
   {
    "duration": 3,
    "start_time": "2022-07-27T01:25:55.801Z"
   },
   {
    "duration": 1581,
    "start_time": "2022-07-27T01:25:55.962Z"
   },
   {
    "duration": 2441,
    "start_time": "2022-07-27T01:25:57.545Z"
   },
   {
    "duration": 6,
    "start_time": "2022-07-27T01:25:59.988Z"
   },
   {
    "duration": 13,
    "start_time": "2022-07-27T01:25:59.995Z"
   },
   {
    "duration": 3,
    "start_time": "2022-07-27T01:26:00.010Z"
   },
   {
    "duration": 13,
    "start_time": "2022-07-27T01:26:00.014Z"
   },
   {
    "duration": 77387,
    "start_time": "2022-07-27T01:26:00.028Z"
   },
   {
    "duration": 10,
    "start_time": "2022-07-27T01:27:17.417Z"
   },
   {
    "duration": 103,
    "start_time": "2022-07-27T01:27:17.428Z"
   },
   {
    "duration": 5,
    "start_time": "2022-07-27T01:27:17.532Z"
   },
   {
    "duration": 5,
    "start_time": "2022-07-27T01:27:22.050Z"
   },
   {
    "duration": 10370,
    "start_time": "2022-07-27T01:27:22.839Z"
   },
   {
    "duration": 3,
    "start_time": "2022-07-27T01:29:43.837Z"
   },
   {
    "duration": 1395,
    "start_time": "2022-07-27T01:29:43.842Z"
   },
   {
    "duration": 0,
    "start_time": "2022-07-27T01:29:45.239Z"
   },
   {
    "duration": 0,
    "start_time": "2022-07-27T01:29:45.240Z"
   },
   {
    "duration": 0,
    "start_time": "2022-07-27T01:29:45.242Z"
   },
   {
    "duration": 0,
    "start_time": "2022-07-27T01:29:45.243Z"
   },
   {
    "duration": 0,
    "start_time": "2022-07-27T01:29:45.245Z"
   },
   {
    "duration": 0,
    "start_time": "2022-07-27T01:29:45.246Z"
   },
   {
    "duration": 0,
    "start_time": "2022-07-27T01:29:45.247Z"
   },
   {
    "duration": 0,
    "start_time": "2022-07-27T01:29:45.248Z"
   },
   {
    "duration": 0,
    "start_time": "2022-07-27T01:29:45.249Z"
   },
   {
    "duration": 3458,
    "start_time": "2022-07-27T01:29:58.574Z"
   },
   {
    "duration": 3,
    "start_time": "2022-07-27T01:30:16.086Z"
   },
   {
    "duration": 513,
    "start_time": "2022-07-27T01:30:16.092Z"
   },
   {
    "duration": 2375,
    "start_time": "2022-07-27T01:30:16.607Z"
   },
   {
    "duration": 5,
    "start_time": "2022-07-27T01:30:18.984Z"
   },
   {
    "duration": 19,
    "start_time": "2022-07-27T01:30:18.990Z"
   },
   {
    "duration": 8,
    "start_time": "2022-07-27T01:30:19.011Z"
   },
   {
    "duration": 14,
    "start_time": "2022-07-27T01:30:19.023Z"
   },
   {
    "duration": 77570,
    "start_time": "2022-07-27T01:30:19.038Z"
   },
   {
    "duration": 6,
    "start_time": "2022-07-27T01:31:36.610Z"
   },
   {
    "duration": 102,
    "start_time": "2022-07-27T01:31:36.623Z"
   },
   {
    "duration": 5,
    "start_time": "2022-07-27T01:31:36.726Z"
   },
   {
    "duration": 5,
    "start_time": "2022-07-27T01:43:15.909Z"
   },
   {
    "duration": 52,
    "start_time": "2022-07-27T01:43:16.718Z"
   }
  ],
  "kernelspec": {
   "display_name": "Python 3 (ipykernel)",
   "language": "python",
   "name": "python3"
  },
  "language_info": {
   "codemirror_mode": {
    "name": "ipython",
    "version": 3
   },
   "file_extension": ".py",
   "mimetype": "text/x-python",
   "name": "python",
   "nbconvert_exporter": "python",
   "pygments_lexer": "ipython3",
   "version": "3.9.12"
  },
  "toc": {
   "base_numbering": 1,
   "nav_menu": {},
   "number_sections": true,
   "sideBar": true,
   "skip_h1_title": true,
   "title_cell": "Содержание",
   "title_sidebar": "Contents",
   "toc_cell": true,
   "toc_position": {
    "height": "calc(100% - 180px)",
    "left": "10px",
    "top": "150px",
    "width": "351.325px"
   },
   "toc_section_display": true,
   "toc_window_display": true
  }
 },
 "nbformat": 4,
 "nbformat_minor": 2
}
