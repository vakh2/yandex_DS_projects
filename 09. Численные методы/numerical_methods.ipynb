{
 "cells": [
  {
   "cell_type": "markdown",
   "metadata": {},
   "source": [
    "# Определение стоимости автомобилей"
   ]
  },
  {
   "cell_type": "markdown",
   "metadata": {},
   "source": [
    "Сервис по продаже автомобилей с пробегом «Не бит, не крашен» разрабатывает приложение для привлечения новых клиентов. В нём можно быстро узнать рыночную стоимость своего автомобиля. В вашем распоряжении исторические данные: технические характеристики, комплектации и цены автомобилей. Вам нужно построить модель для определения стоимости. \n",
    "\n",
    "Заказчику важны:\n",
    "\n",
    "- качество предсказания;\n",
    "- скорость предсказания;\n",
    "- время обучения."
   ]
  },
  {
   "cell_type": "markdown",
   "metadata": {},
   "source": [
    "# Описание данных"
   ]
  },
  {
   "cell_type": "markdown",
   "metadata": {},
   "source": [
    "Данные находятся в файле: __/datasets/autos.csv__.\n",
    "\n",
    "__Признаки__\n",
    "* DateCrawled — дата скачивания анкеты из базы\n",
    "* VehicleType — тип автомобильного кузова\n",
    "* RegistrationYear — год регистрации автомобиля\n",
    "* Gearbox — тип коробки передач\n",
    "* Power — мощность (л. с.)\n",
    "* Model — модель автомобиля\n",
    "* Kilometer — пробег (км)\n",
    "* RegistrationMonth — месяц регистрации автомобиля\n",
    "* FuelType — тип топлива\n",
    "* Brand — марка автомобиля\n",
    "* NotRepaired — была машина в ремонте или нет\n",
    "* DateCreated — дата создания анкеты\n",
    "* NumberOfPictures — количество фотографий автомобиля\n",
    "* PostalCode — почтовый индекс владельца анкеты (пользователя)\n",
    "* LastSeen — дата последней активности пользователя\n",
    "\n",
    "__Целевой признак__\n",
    "* Price — цена (евро)"
   ]
  },
  {
   "cell_type": "markdown",
   "metadata": {},
   "source": [
    "## Подготовка данных"
   ]
  },
  {
   "cell_type": "markdown",
   "metadata": {},
   "source": [
    "### Подключим необходимые библиотеки."
   ]
  },
  {
   "cell_type": "code",
   "execution_count": null,
   "metadata": {},
   "outputs": [],
   "source": [
    "pip install --upgrade category_encoders"
   ]
  },
  {
   "cell_type": "code",
   "execution_count": 91,
   "metadata": {},
   "outputs": [],
   "source": [
    "import pandas as pd\n",
    "import numpy as np\n",
    "import copy\n",
    "import matplotlib.pyplot as plt\n",
    "import seaborn as sns\n",
    "import timeit\n",
    "import warnings\n",
    "\n",
    "import category_encoders as ce\n",
    "\n",
    "pd.options.mode.chained_assignment = None\n",
    "pd.set_option('display.max_columns', None)\n",
    "\n",
    "from sklearn.preprocessing import OrdinalEncoder\n",
    "from sklearn.preprocessing import StandardScaler\n",
    "from sklearn.neighbors import KNeighborsClassifier\n",
    "from sklearn.model_selection import train_test_split\n",
    "from sklearn.metrics import mean_squared_error\n",
    "from sklearn.metrics import make_scorer\n",
    "from sklearn.model_selection import GridSearchCV\n",
    "from sklearn.tree import DecisionTreeRegressor\n",
    "from sklearn.ensemble import RandomForestRegressor\n",
    "\n",
    "from catboost import CatBoostRegressor\n",
    "from lightgbm import LGBMRegressor"
   ]
  },
  {
   "cell_type": "markdown",
   "metadata": {},
   "source": [
    "### Откроем таблицу, посмотрим внешний вид и изучим общую информацию о данных."
   ]
  },
  {
   "cell_type": "code",
   "execution_count": 92,
   "metadata": {},
   "outputs": [
    {
     "data": {
      "text/html": [
       "<div>\n",
       "<style scoped>\n",
       "    .dataframe tbody tr th:only-of-type {\n",
       "        vertical-align: middle;\n",
       "    }\n",
       "\n",
       "    .dataframe tbody tr th {\n",
       "        vertical-align: top;\n",
       "    }\n",
       "\n",
       "    .dataframe thead th {\n",
       "        text-align: right;\n",
       "    }\n",
       "</style>\n",
       "<table border=\"1\" class=\"dataframe\">\n",
       "  <thead>\n",
       "    <tr style=\"text-align: right;\">\n",
       "      <th></th>\n",
       "      <th>DateCrawled</th>\n",
       "      <th>Price</th>\n",
       "      <th>VehicleType</th>\n",
       "      <th>RegistrationYear</th>\n",
       "      <th>Gearbox</th>\n",
       "      <th>Power</th>\n",
       "      <th>Model</th>\n",
       "      <th>Kilometer</th>\n",
       "      <th>RegistrationMonth</th>\n",
       "      <th>FuelType</th>\n",
       "      <th>Brand</th>\n",
       "      <th>NotRepaired</th>\n",
       "      <th>DateCreated</th>\n",
       "      <th>NumberOfPictures</th>\n",
       "      <th>PostalCode</th>\n",
       "      <th>LastSeen</th>\n",
       "    </tr>\n",
       "  </thead>\n",
       "  <tbody>\n",
       "    <tr>\n",
       "      <th>0</th>\n",
       "      <td>2016-03-24 11:52:17</td>\n",
       "      <td>480</td>\n",
       "      <td>NaN</td>\n",
       "      <td>1993</td>\n",
       "      <td>manual</td>\n",
       "      <td>0</td>\n",
       "      <td>golf</td>\n",
       "      <td>150000</td>\n",
       "      <td>0</td>\n",
       "      <td>petrol</td>\n",
       "      <td>volkswagen</td>\n",
       "      <td>NaN</td>\n",
       "      <td>2016-03-24 00:00:00</td>\n",
       "      <td>0</td>\n",
       "      <td>70435</td>\n",
       "      <td>2016-04-07 03:16:57</td>\n",
       "    </tr>\n",
       "    <tr>\n",
       "      <th>1</th>\n",
       "      <td>2016-03-24 10:58:45</td>\n",
       "      <td>18300</td>\n",
       "      <td>coupe</td>\n",
       "      <td>2011</td>\n",
       "      <td>manual</td>\n",
       "      <td>190</td>\n",
       "      <td>NaN</td>\n",
       "      <td>125000</td>\n",
       "      <td>5</td>\n",
       "      <td>gasoline</td>\n",
       "      <td>audi</td>\n",
       "      <td>yes</td>\n",
       "      <td>2016-03-24 00:00:00</td>\n",
       "      <td>0</td>\n",
       "      <td>66954</td>\n",
       "      <td>2016-04-07 01:46:50</td>\n",
       "    </tr>\n",
       "    <tr>\n",
       "      <th>2</th>\n",
       "      <td>2016-03-14 12:52:21</td>\n",
       "      <td>9800</td>\n",
       "      <td>suv</td>\n",
       "      <td>2004</td>\n",
       "      <td>auto</td>\n",
       "      <td>163</td>\n",
       "      <td>grand</td>\n",
       "      <td>125000</td>\n",
       "      <td>8</td>\n",
       "      <td>gasoline</td>\n",
       "      <td>jeep</td>\n",
       "      <td>NaN</td>\n",
       "      <td>2016-03-14 00:00:00</td>\n",
       "      <td>0</td>\n",
       "      <td>90480</td>\n",
       "      <td>2016-04-05 12:47:46</td>\n",
       "    </tr>\n",
       "    <tr>\n",
       "      <th>3</th>\n",
       "      <td>2016-03-17 16:54:04</td>\n",
       "      <td>1500</td>\n",
       "      <td>small</td>\n",
       "      <td>2001</td>\n",
       "      <td>manual</td>\n",
       "      <td>75</td>\n",
       "      <td>golf</td>\n",
       "      <td>150000</td>\n",
       "      <td>6</td>\n",
       "      <td>petrol</td>\n",
       "      <td>volkswagen</td>\n",
       "      <td>no</td>\n",
       "      <td>2016-03-17 00:00:00</td>\n",
       "      <td>0</td>\n",
       "      <td>91074</td>\n",
       "      <td>2016-03-17 17:40:17</td>\n",
       "    </tr>\n",
       "    <tr>\n",
       "      <th>4</th>\n",
       "      <td>2016-03-31 17:25:20</td>\n",
       "      <td>3600</td>\n",
       "      <td>small</td>\n",
       "      <td>2008</td>\n",
       "      <td>manual</td>\n",
       "      <td>69</td>\n",
       "      <td>fabia</td>\n",
       "      <td>90000</td>\n",
       "      <td>7</td>\n",
       "      <td>gasoline</td>\n",
       "      <td>skoda</td>\n",
       "      <td>no</td>\n",
       "      <td>2016-03-31 00:00:00</td>\n",
       "      <td>0</td>\n",
       "      <td>60437</td>\n",
       "      <td>2016-04-06 10:17:21</td>\n",
       "    </tr>\n",
       "  </tbody>\n",
       "</table>\n",
       "</div>"
      ],
      "text/plain": [
       "           DateCrawled  Price VehicleType  RegistrationYear Gearbox  Power  \\\n",
       "0  2016-03-24 11:52:17    480         NaN              1993  manual      0   \n",
       "1  2016-03-24 10:58:45  18300       coupe              2011  manual    190   \n",
       "2  2016-03-14 12:52:21   9800         suv              2004    auto    163   \n",
       "3  2016-03-17 16:54:04   1500       small              2001  manual     75   \n",
       "4  2016-03-31 17:25:20   3600       small              2008  manual     69   \n",
       "\n",
       "   Model  Kilometer  RegistrationMonth  FuelType       Brand NotRepaired  \\\n",
       "0   golf     150000                  0    petrol  volkswagen         NaN   \n",
       "1    NaN     125000                  5  gasoline        audi         yes   \n",
       "2  grand     125000                  8  gasoline        jeep         NaN   \n",
       "3   golf     150000                  6    petrol  volkswagen          no   \n",
       "4  fabia      90000                  7  gasoline       skoda          no   \n",
       "\n",
       "           DateCreated  NumberOfPictures  PostalCode             LastSeen  \n",
       "0  2016-03-24 00:00:00                 0       70435  2016-04-07 03:16:57  \n",
       "1  2016-03-24 00:00:00                 0       66954  2016-04-07 01:46:50  \n",
       "2  2016-03-14 00:00:00                 0       90480  2016-04-05 12:47:46  \n",
       "3  2016-03-17 00:00:00                 0       91074  2016-03-17 17:40:17  \n",
       "4  2016-03-31 00:00:00                 0       60437  2016-04-06 10:17:21  "
      ]
     },
     "metadata": {},
     "output_type": "display_data"
    },
    {
     "name": "stdout",
     "output_type": "stream",
     "text": [
      "<class 'pandas.core.frame.DataFrame'>\n",
      "RangeIndex: 354369 entries, 0 to 354368\n",
      "Data columns (total 16 columns):\n",
      " #   Column             Non-Null Count   Dtype \n",
      "---  ------             --------------   ----- \n",
      " 0   DateCrawled        354369 non-null  object\n",
      " 1   Price              354369 non-null  int64 \n",
      " 2   VehicleType        316879 non-null  object\n",
      " 3   RegistrationYear   354369 non-null  int64 \n",
      " 4   Gearbox            334536 non-null  object\n",
      " 5   Power              354369 non-null  int64 \n",
      " 6   Model              334664 non-null  object\n",
      " 7   Kilometer          354369 non-null  int64 \n",
      " 8   RegistrationMonth  354369 non-null  int64 \n",
      " 9   FuelType           321474 non-null  object\n",
      " 10  Brand              354369 non-null  object\n",
      " 11  NotRepaired        283215 non-null  object\n",
      " 12  DateCreated        354369 non-null  object\n",
      " 13  NumberOfPictures   354369 non-null  int64 \n",
      " 14  PostalCode         354369 non-null  int64 \n",
      " 15  LastSeen           354369 non-null  object\n",
      "dtypes: int64(7), object(9)\n",
      "memory usage: 43.3+ MB\n",
      "\n",
      "Количество строк: 354369\n"
     ]
    }
   ],
   "source": [
    "df = pd.read_csv('/datasets/autos.csv')\n",
    "display(df.head())\n",
    "df.info()\n",
    "print()\n",
    "number_of_lines = df.shape[0]\n",
    "print('Количество строк:', number_of_lines)"
   ]
  },
  {
   "cell_type": "markdown",
   "metadata": {},
   "source": [
    "### **Вывод:**\n",
    "* Загрузили и посмотрели внешний вид и изучили общую информацию о данных\n",
    "* Необходима подготовка данных."
   ]
  },
  {
   "cell_type": "markdown",
   "metadata": {},
   "source": [
    "### Приведем в порядок названия столбцов"
   ]
  },
  {
   "cell_type": "code",
   "execution_count": 93,
   "metadata": {},
   "outputs": [
    {
     "name": "stdout",
     "output_type": "stream",
     "text": [
      "Index(['DateCrawled', 'Price', 'VehicleType', 'RegistrationYear', 'Gearbox',\n",
      "       'Power', 'Model', 'Kilometer', 'RegistrationMonth', 'FuelType', 'Brand',\n",
      "       'NotRepaired', 'DateCreated', 'NumberOfPictures', 'PostalCode',\n",
      "       'LastSeen'],\n",
      "      dtype='object')\n"
     ]
    }
   ],
   "source": [
    "print(df.columns)"
   ]
  },
  {
   "cell_type": "code",
   "execution_count": 94,
   "metadata": {},
   "outputs": [
    {
     "name": "stdout",
     "output_type": "stream",
     "text": [
      "Index(['datecrawled', 'price', 'vehicletype', 'registrationyear', 'gearbox',\n",
      "       'power', 'model', 'kilometer', 'registrationmonth', 'fueltype', 'brand',\n",
      "       'notrepaired', 'datecreated', 'numberofpictures', 'postalcode',\n",
      "       'lastseen'],\n",
      "      dtype='object')\n"
     ]
    }
   ],
   "source": [
    "df.columns = df.columns.str.lower()\n",
    "print(df.columns)"
   ]
  },
  {
   "cell_type": "code",
   "execution_count": 95,
   "metadata": {},
   "outputs": [
    {
     "data": {
      "text/plain": [
       "Index(['date_crawled', 'price', 'vehicle_type', 'registration_year', 'gearbox',\n",
       "       'power', 'model', 'kilometer', 'registration_month', 'fuel_type',\n",
       "       'brand', 'not_repaired', 'date_created', 'number_of_pictures',\n",
       "       'postal_code', 'last_seen'],\n",
       "      dtype='object')"
      ]
     },
     "metadata": {},
     "output_type": "display_data"
    }
   ],
   "source": [
    "df.rename(columns = {'datecrawled':'date_crawled', \n",
    "                     'vehicletype':'vehicle_type', \n",
    "                     'registrationyear':'registration_year',\n",
    "                     'registrationmonth':'registration_month', \n",
    "                     'fueltype':'fuel_type', \n",
    "                     'notrepaired':'not_repaired', \n",
    "                     'datecreated':'date_created', \n",
    "                     'numberofpictures':'number_of_pictures', \n",
    "                     'postalcode':'postal_code',\n",
    "                     'lastseen':'last_seen'}, inplace=True)\n",
    "display(df.columns)"
   ]
  },
  {
   "cell_type": "markdown",
   "metadata": {},
   "source": [
    "### **Вывод:**\n",
    "Названия столбцов переписали в «змеином регистре» убрали заглавные буквы, но это было не принципиально."
   ]
  },
  {
   "cell_type": "markdown",
   "metadata": {},
   "source": [
    "### Приведем столбцы date_crawled, date_created и  last_seen к типу datetime"
   ]
  },
  {
   "cell_type": "code",
   "execution_count": 96,
   "metadata": {},
   "outputs": [
    {
     "name": "stdout",
     "output_type": "stream",
     "text": [
      "<class 'pandas.core.frame.DataFrame'>\n",
      "RangeIndex: 354369 entries, 0 to 354368\n",
      "Data columns (total 16 columns):\n",
      " #   Column              Non-Null Count   Dtype         \n",
      "---  ------              --------------   -----         \n",
      " 0   date_crawled        354369 non-null  datetime64[ns]\n",
      " 1   price               354369 non-null  int64         \n",
      " 2   vehicle_type        316879 non-null  object        \n",
      " 3   registration_year   354369 non-null  int64         \n",
      " 4   gearbox             334536 non-null  object        \n",
      " 5   power               354369 non-null  int64         \n",
      " 6   model               334664 non-null  object        \n",
      " 7   kilometer           354369 non-null  int64         \n",
      " 8   registration_month  354369 non-null  int64         \n",
      " 9   fuel_type           321474 non-null  object        \n",
      " 10  brand               354369 non-null  object        \n",
      " 11  not_repaired        283215 non-null  object        \n",
      " 12  date_created        354369 non-null  datetime64[ns]\n",
      " 13  number_of_pictures  354369 non-null  int64         \n",
      " 14  postal_code         354369 non-null  int64         \n",
      " 15  last_seen           354369 non-null  datetime64[ns]\n",
      "dtypes: datetime64[ns](3), int64(7), object(6)\n",
      "memory usage: 43.3+ MB\n"
     ]
    }
   ],
   "source": [
    "df['date_crawled'] = pd.to_datetime(df['date_crawled'], format = '%Y-%m-%dT%H:%M:%S')\n",
    "df['date_created'] = pd.to_datetime(df['date_created'], format = '%Y-%m-%dT%H:%M:%S')\n",
    "df['last_seen'] = pd.to_datetime(df['last_seen'], format = '%Y-%m-%dT%H:%M:%S')\n",
    "df.info()"
   ]
  },
  {
   "cell_type": "markdown",
   "metadata": {},
   "source": [
    "### Посмотрим общее состояние по пропускам"
   ]
  },
  {
   "cell_type": "code",
   "execution_count": 97,
   "metadata": {},
   "outputs": [
    {
     "name": "stdout",
     "output_type": "stream",
     "text": [
      "Общее количество ячеек с пропусками в df: 181077\n"
     ]
    }
   ],
   "source": [
    "print('Общее количество ячеек с пропусками в df:', df.isna().sum().sum())"
   ]
  },
  {
   "cell_type": "markdown",
   "metadata": {},
   "source": [
    "#### Посмотрим TOP столбцов по пропускам"
   ]
  },
  {
   "cell_type": "code",
   "execution_count": 98,
   "metadata": {},
   "outputs": [
    {
     "data": {
      "text/plain": [
       "not_repaired          71154\n",
       "vehicle_type          37490\n",
       "fuel_type             32895\n",
       "gearbox               19833\n",
       "model                 19705\n",
       "date_crawled              0\n",
       "price                     0\n",
       "registration_year         0\n",
       "power                     0\n",
       "kilometer                 0\n",
       "registration_month        0\n",
       "brand                     0\n",
       "date_created              0\n",
       "number_of_pictures        0\n",
       "postal_code               0\n",
       "last_seen                 0\n",
       "dtype: int64"
      ]
     },
     "execution_count": 98,
     "metadata": {},
     "output_type": "execute_result"
    }
   ],
   "source": [
    "df.isna().sum().sort_values(ascending=False)"
   ]
  },
  {
   "cell_type": "markdown",
   "metadata": {},
   "source": [
    "#### Посмотрим, как пересекаются пропуски. Для этого напишем функцию, которая выводит на экран в виде таблицы количество строк с количеством пропусков в строке и функцию удаления строк с количеством пропусков более 'n'"
   ]
  },
  {
   "cell_type": "code",
   "execution_count": 99,
   "metadata": {},
   "outputs": [],
   "source": [
    "def out_report(data):\n",
    "    stat_out = data.isna().astype('int')\n",
    "    stat_out['number_of_cross'] = stat_out.sum(axis=1)\n",
    "    stat_out_result = pd.DataFrame(stat_out['number_of_cross'].value_counts().reset_index())\n",
    "    data['number_of_cross'] = stat_out['number_of_cross']\n",
    "    stat_out_result.rename(columns = {'index':'Количество пропусков в строке', \n",
    "                         'number_of_cross':'Число строк'}, inplace=True)\n",
    "    stat_out_result['Процент отсутствующих данных в строке'] = round(stat_out_result['Количество пропусков в строке']\n",
    "                                                                      * 100 / data.shape[1], 0)\n",
    "    stat_out_result['Процент строк от общего датафрейма'] = round(stat_out_result['Число строк']\n",
    "                                                                      * 100 / data.shape[0], 1)\n",
    "    display(stat_out_result)\n",
    "    \n",
    "    \n",
    "def delete_cross(data, n=None):\n",
    "    out_report(data)\n",
    "    if n != None:\n",
    "        k = data.shape[0]\n",
    "        print()\n",
    "        print()\n",
    "        print('Количество строк до удаления:', k)\n",
    "        print('Удаляем строки с количеством пропусков более:', n)\n",
    "        data = data.drop(data[data['number_of_cross'] > n].index)\n",
    "        k1 = data.shape[0]\n",
    "        print('Количество строк после удаления:', k1, ', удалено', k - k1, 'строк')\n",
    "        print()\n",
    "        print('Общая информация по пропускам после удаления строк, содержащих', n + 1, 'и более пропусков' )\n",
    "        \n",
    "        out_report(data)\n",
    "    else:\n",
    "        print('Нет параметров для удаления')\n",
    "    data = data.drop(columns = ['number_of_cross'],axis = 1)    \n",
    "    return data    \n"
   ]
  },
  {
   "cell_type": "markdown",
   "metadata": {},
   "source": [
    "#### Узнаем сколько строк имеют сколько пропусков"
   ]
  },
  {
   "cell_type": "code",
   "execution_count": 100,
   "metadata": {
    "scrolled": true
   },
   "outputs": [
    {
     "data": {
      "text/html": [
       "<div>\n",
       "<style scoped>\n",
       "    .dataframe tbody tr th:only-of-type {\n",
       "        vertical-align: middle;\n",
       "    }\n",
       "\n",
       "    .dataframe tbody tr th {\n",
       "        vertical-align: top;\n",
       "    }\n",
       "\n",
       "    .dataframe thead th {\n",
       "        text-align: right;\n",
       "    }\n",
       "</style>\n",
       "<table border=\"1\" class=\"dataframe\">\n",
       "  <thead>\n",
       "    <tr style=\"text-align: right;\">\n",
       "      <th></th>\n",
       "      <th>Количество пропусков в строке</th>\n",
       "      <th>Число строк</th>\n",
       "      <th>Процент отсутствующих данных в строке</th>\n",
       "      <th>Процент строк от общего датафрейма</th>\n",
       "    </tr>\n",
       "  </thead>\n",
       "  <tbody>\n",
       "    <tr>\n",
       "      <th>0</th>\n",
       "      <td>0</td>\n",
       "      <td>245814</td>\n",
       "      <td>0.0</td>\n",
       "      <td>69.4</td>\n",
       "    </tr>\n",
       "    <tr>\n",
       "      <th>1</th>\n",
       "      <td>1</td>\n",
       "      <td>64318</td>\n",
       "      <td>6.0</td>\n",
       "      <td>18.2</td>\n",
       "    </tr>\n",
       "    <tr>\n",
       "      <th>2</th>\n",
       "      <td>2</td>\n",
       "      <td>26209</td>\n",
       "      <td>12.0</td>\n",
       "      <td>7.4</td>\n",
       "    </tr>\n",
       "    <tr>\n",
       "      <th>3</th>\n",
       "      <td>3</td>\n",
       "      <td>10008</td>\n",
       "      <td>18.0</td>\n",
       "      <td>2.8</td>\n",
       "    </tr>\n",
       "    <tr>\n",
       "      <th>4</th>\n",
       "      <td>4</td>\n",
       "      <td>5783</td>\n",
       "      <td>24.0</td>\n",
       "      <td>1.6</td>\n",
       "    </tr>\n",
       "    <tr>\n",
       "      <th>5</th>\n",
       "      <td>5</td>\n",
       "      <td>2237</td>\n",
       "      <td>29.0</td>\n",
       "      <td>0.6</td>\n",
       "    </tr>\n",
       "  </tbody>\n",
       "</table>\n",
       "</div>"
      ],
      "text/plain": [
       "   Количество пропусков в строке  Число строк  \\\n",
       "0                              0       245814   \n",
       "1                              1        64318   \n",
       "2                              2        26209   \n",
       "3                              3        10008   \n",
       "4                              4         5783   \n",
       "5                              5         2237   \n",
       "\n",
       "   Процент отсутствующих данных в строке  Процент строк от общего датафрейма  \n",
       "0                                    0.0                                69.4  \n",
       "1                                    6.0                                18.2  \n",
       "2                                   12.0                                 7.4  \n",
       "3                                   18.0                                 2.8  \n",
       "4                                   24.0                                 1.6  \n",
       "5                                   29.0                                 0.6  "
      ]
     },
     "metadata": {},
     "output_type": "display_data"
    }
   ],
   "source": [
    "out_report(df)"
   ]
  },
  {
   "cell_type": "markdown",
   "metadata": {},
   "source": [
    "Некоторые строки содержат до пяти пропусков и замена пропусков в них на что-либо будет снижать качество модели обучения. Поэтому удалим строки, содержащие три и более пропуска."
   ]
  },
  {
   "cell_type": "code",
   "execution_count": 101,
   "metadata": {},
   "outputs": [
    {
     "data": {
      "text/html": [
       "<div>\n",
       "<style scoped>\n",
       "    .dataframe tbody tr th:only-of-type {\n",
       "        vertical-align: middle;\n",
       "    }\n",
       "\n",
       "    .dataframe tbody tr th {\n",
       "        vertical-align: top;\n",
       "    }\n",
       "\n",
       "    .dataframe thead th {\n",
       "        text-align: right;\n",
       "    }\n",
       "</style>\n",
       "<table border=\"1\" class=\"dataframe\">\n",
       "  <thead>\n",
       "    <tr style=\"text-align: right;\">\n",
       "      <th></th>\n",
       "      <th>Количество пропусков в строке</th>\n",
       "      <th>Число строк</th>\n",
       "      <th>Процент отсутствующих данных в строке</th>\n",
       "      <th>Процент строк от общего датафрейма</th>\n",
       "    </tr>\n",
       "  </thead>\n",
       "  <tbody>\n",
       "    <tr>\n",
       "      <th>0</th>\n",
       "      <td>0</td>\n",
       "      <td>245814</td>\n",
       "      <td>0.0</td>\n",
       "      <td>69.4</td>\n",
       "    </tr>\n",
       "    <tr>\n",
       "      <th>1</th>\n",
       "      <td>1</td>\n",
       "      <td>64318</td>\n",
       "      <td>6.0</td>\n",
       "      <td>18.2</td>\n",
       "    </tr>\n",
       "    <tr>\n",
       "      <th>2</th>\n",
       "      <td>2</td>\n",
       "      <td>26209</td>\n",
       "      <td>12.0</td>\n",
       "      <td>7.4</td>\n",
       "    </tr>\n",
       "    <tr>\n",
       "      <th>3</th>\n",
       "      <td>3</td>\n",
       "      <td>10008</td>\n",
       "      <td>18.0</td>\n",
       "      <td>2.8</td>\n",
       "    </tr>\n",
       "    <tr>\n",
       "      <th>4</th>\n",
       "      <td>4</td>\n",
       "      <td>5783</td>\n",
       "      <td>24.0</td>\n",
       "      <td>1.6</td>\n",
       "    </tr>\n",
       "    <tr>\n",
       "      <th>5</th>\n",
       "      <td>5</td>\n",
       "      <td>2237</td>\n",
       "      <td>29.0</td>\n",
       "      <td>0.6</td>\n",
       "    </tr>\n",
       "  </tbody>\n",
       "</table>\n",
       "</div>"
      ],
      "text/plain": [
       "   Количество пропусков в строке  Число строк  \\\n",
       "0                              0       245814   \n",
       "1                              1        64318   \n",
       "2                              2        26209   \n",
       "3                              3        10008   \n",
       "4                              4         5783   \n",
       "5                              5         2237   \n",
       "\n",
       "   Процент отсутствующих данных в строке  Процент строк от общего датафрейма  \n",
       "0                                    0.0                                69.4  \n",
       "1                                    6.0                                18.2  \n",
       "2                                   12.0                                 7.4  \n",
       "3                                   18.0                                 2.8  \n",
       "4                                   24.0                                 1.6  \n",
       "5                                   29.0                                 0.6  "
      ]
     },
     "metadata": {},
     "output_type": "display_data"
    },
    {
     "name": "stdout",
     "output_type": "stream",
     "text": [
      "\n",
      "\n",
      "Количество строк до удаления: 354369\n",
      "Удаляем строки с количеством пропусков более: 2\n",
      "Количество строк после удаления: 336341 , удалено 18028 строк\n",
      "\n",
      "Общая информация по пропускам после удаления строк, содержащих 3 и более пропусков\n"
     ]
    },
    {
     "data": {
      "text/html": [
       "<div>\n",
       "<style scoped>\n",
       "    .dataframe tbody tr th:only-of-type {\n",
       "        vertical-align: middle;\n",
       "    }\n",
       "\n",
       "    .dataframe tbody tr th {\n",
       "        vertical-align: top;\n",
       "    }\n",
       "\n",
       "    .dataframe thead th {\n",
       "        text-align: right;\n",
       "    }\n",
       "</style>\n",
       "<table border=\"1\" class=\"dataframe\">\n",
       "  <thead>\n",
       "    <tr style=\"text-align: right;\">\n",
       "      <th></th>\n",
       "      <th>Количество пропусков в строке</th>\n",
       "      <th>Число строк</th>\n",
       "      <th>Процент отсутствующих данных в строке</th>\n",
       "      <th>Процент строк от общего датафрейма</th>\n",
       "    </tr>\n",
       "  </thead>\n",
       "  <tbody>\n",
       "    <tr>\n",
       "      <th>0</th>\n",
       "      <td>0</td>\n",
       "      <td>245814</td>\n",
       "      <td>0.0</td>\n",
       "      <td>73.1</td>\n",
       "    </tr>\n",
       "    <tr>\n",
       "      <th>1</th>\n",
       "      <td>1</td>\n",
       "      <td>64318</td>\n",
       "      <td>6.0</td>\n",
       "      <td>19.1</td>\n",
       "    </tr>\n",
       "    <tr>\n",
       "      <th>2</th>\n",
       "      <td>2</td>\n",
       "      <td>26209</td>\n",
       "      <td>12.0</td>\n",
       "      <td>7.8</td>\n",
       "    </tr>\n",
       "  </tbody>\n",
       "</table>\n",
       "</div>"
      ],
      "text/plain": [
       "   Количество пропусков в строке  Число строк  \\\n",
       "0                              0       245814   \n",
       "1                              1        64318   \n",
       "2                              2        26209   \n",
       "\n",
       "   Процент отсутствующих данных в строке  Процент строк от общего датафрейма  \n",
       "0                                    0.0                                73.1  \n",
       "1                                    6.0                                19.1  \n",
       "2                                   12.0                                 7.8  "
      ]
     },
     "metadata": {},
     "output_type": "display_data"
    },
    {
     "data": {
      "text/html": [
       "<div>\n",
       "<style scoped>\n",
       "    .dataframe tbody tr th:only-of-type {\n",
       "        vertical-align: middle;\n",
       "    }\n",
       "\n",
       "    .dataframe tbody tr th {\n",
       "        vertical-align: top;\n",
       "    }\n",
       "\n",
       "    .dataframe thead th {\n",
       "        text-align: right;\n",
       "    }\n",
       "</style>\n",
       "<table border=\"1\" class=\"dataframe\">\n",
       "  <thead>\n",
       "    <tr style=\"text-align: right;\">\n",
       "      <th></th>\n",
       "      <th>date_crawled</th>\n",
       "      <th>price</th>\n",
       "      <th>vehicle_type</th>\n",
       "      <th>registration_year</th>\n",
       "      <th>gearbox</th>\n",
       "      <th>power</th>\n",
       "      <th>model</th>\n",
       "      <th>kilometer</th>\n",
       "      <th>registration_month</th>\n",
       "      <th>fuel_type</th>\n",
       "      <th>brand</th>\n",
       "      <th>not_repaired</th>\n",
       "      <th>date_created</th>\n",
       "      <th>number_of_pictures</th>\n",
       "      <th>postal_code</th>\n",
       "      <th>last_seen</th>\n",
       "    </tr>\n",
       "  </thead>\n",
       "  <tbody>\n",
       "    <tr>\n",
       "      <th>0</th>\n",
       "      <td>2016-03-24 11:52:17</td>\n",
       "      <td>480</td>\n",
       "      <td>NaN</td>\n",
       "      <td>1993</td>\n",
       "      <td>manual</td>\n",
       "      <td>0</td>\n",
       "      <td>golf</td>\n",
       "      <td>150000</td>\n",
       "      <td>0</td>\n",
       "      <td>petrol</td>\n",
       "      <td>volkswagen</td>\n",
       "      <td>NaN</td>\n",
       "      <td>2016-03-24</td>\n",
       "      <td>0</td>\n",
       "      <td>70435</td>\n",
       "      <td>2016-04-07 03:16:57</td>\n",
       "    </tr>\n",
       "    <tr>\n",
       "      <th>1</th>\n",
       "      <td>2016-03-24 10:58:45</td>\n",
       "      <td>18300</td>\n",
       "      <td>coupe</td>\n",
       "      <td>2011</td>\n",
       "      <td>manual</td>\n",
       "      <td>190</td>\n",
       "      <td>NaN</td>\n",
       "      <td>125000</td>\n",
       "      <td>5</td>\n",
       "      <td>gasoline</td>\n",
       "      <td>audi</td>\n",
       "      <td>yes</td>\n",
       "      <td>2016-03-24</td>\n",
       "      <td>0</td>\n",
       "      <td>66954</td>\n",
       "      <td>2016-04-07 01:46:50</td>\n",
       "    </tr>\n",
       "    <tr>\n",
       "      <th>2</th>\n",
       "      <td>2016-03-14 12:52:21</td>\n",
       "      <td>9800</td>\n",
       "      <td>suv</td>\n",
       "      <td>2004</td>\n",
       "      <td>auto</td>\n",
       "      <td>163</td>\n",
       "      <td>grand</td>\n",
       "      <td>125000</td>\n",
       "      <td>8</td>\n",
       "      <td>gasoline</td>\n",
       "      <td>jeep</td>\n",
       "      <td>NaN</td>\n",
       "      <td>2016-03-14</td>\n",
       "      <td>0</td>\n",
       "      <td>90480</td>\n",
       "      <td>2016-04-05 12:47:46</td>\n",
       "    </tr>\n",
       "    <tr>\n",
       "      <th>3</th>\n",
       "      <td>2016-03-17 16:54:04</td>\n",
       "      <td>1500</td>\n",
       "      <td>small</td>\n",
       "      <td>2001</td>\n",
       "      <td>manual</td>\n",
       "      <td>75</td>\n",
       "      <td>golf</td>\n",
       "      <td>150000</td>\n",
       "      <td>6</td>\n",
       "      <td>petrol</td>\n",
       "      <td>volkswagen</td>\n",
       "      <td>no</td>\n",
       "      <td>2016-03-17</td>\n",
       "      <td>0</td>\n",
       "      <td>91074</td>\n",
       "      <td>2016-03-17 17:40:17</td>\n",
       "    </tr>\n",
       "    <tr>\n",
       "      <th>4</th>\n",
       "      <td>2016-03-31 17:25:20</td>\n",
       "      <td>3600</td>\n",
       "      <td>small</td>\n",
       "      <td>2008</td>\n",
       "      <td>manual</td>\n",
       "      <td>69</td>\n",
       "      <td>fabia</td>\n",
       "      <td>90000</td>\n",
       "      <td>7</td>\n",
       "      <td>gasoline</td>\n",
       "      <td>skoda</td>\n",
       "      <td>no</td>\n",
       "      <td>2016-03-31</td>\n",
       "      <td>0</td>\n",
       "      <td>60437</td>\n",
       "      <td>2016-04-06 10:17:21</td>\n",
       "    </tr>\n",
       "    <tr>\n",
       "      <th>...</th>\n",
       "      <td>...</td>\n",
       "      <td>...</td>\n",
       "      <td>...</td>\n",
       "      <td>...</td>\n",
       "      <td>...</td>\n",
       "      <td>...</td>\n",
       "      <td>...</td>\n",
       "      <td>...</td>\n",
       "      <td>...</td>\n",
       "      <td>...</td>\n",
       "      <td>...</td>\n",
       "      <td>...</td>\n",
       "      <td>...</td>\n",
       "      <td>...</td>\n",
       "      <td>...</td>\n",
       "      <td>...</td>\n",
       "    </tr>\n",
       "    <tr>\n",
       "      <th>354363</th>\n",
       "      <td>2016-03-27 20:36:20</td>\n",
       "      <td>1150</td>\n",
       "      <td>bus</td>\n",
       "      <td>2000</td>\n",
       "      <td>manual</td>\n",
       "      <td>0</td>\n",
       "      <td>zafira</td>\n",
       "      <td>150000</td>\n",
       "      <td>3</td>\n",
       "      <td>petrol</td>\n",
       "      <td>opel</td>\n",
       "      <td>no</td>\n",
       "      <td>2016-03-27</td>\n",
       "      <td>0</td>\n",
       "      <td>26624</td>\n",
       "      <td>2016-03-29 10:17:23</td>\n",
       "    </tr>\n",
       "    <tr>\n",
       "      <th>354364</th>\n",
       "      <td>2016-03-21 09:50:58</td>\n",
       "      <td>0</td>\n",
       "      <td>NaN</td>\n",
       "      <td>2005</td>\n",
       "      <td>manual</td>\n",
       "      <td>0</td>\n",
       "      <td>colt</td>\n",
       "      <td>150000</td>\n",
       "      <td>7</td>\n",
       "      <td>petrol</td>\n",
       "      <td>mitsubishi</td>\n",
       "      <td>yes</td>\n",
       "      <td>2016-03-21</td>\n",
       "      <td>0</td>\n",
       "      <td>2694</td>\n",
       "      <td>2016-03-21 10:42:49</td>\n",
       "    </tr>\n",
       "    <tr>\n",
       "      <th>354366</th>\n",
       "      <td>2016-03-05 19:56:21</td>\n",
       "      <td>1199</td>\n",
       "      <td>convertible</td>\n",
       "      <td>2000</td>\n",
       "      <td>auto</td>\n",
       "      <td>101</td>\n",
       "      <td>fortwo</td>\n",
       "      <td>125000</td>\n",
       "      <td>3</td>\n",
       "      <td>petrol</td>\n",
       "      <td>smart</td>\n",
       "      <td>no</td>\n",
       "      <td>2016-03-05</td>\n",
       "      <td>0</td>\n",
       "      <td>26135</td>\n",
       "      <td>2016-03-11 18:17:12</td>\n",
       "    </tr>\n",
       "    <tr>\n",
       "      <th>354367</th>\n",
       "      <td>2016-03-19 18:57:12</td>\n",
       "      <td>9200</td>\n",
       "      <td>bus</td>\n",
       "      <td>1996</td>\n",
       "      <td>manual</td>\n",
       "      <td>102</td>\n",
       "      <td>transporter</td>\n",
       "      <td>150000</td>\n",
       "      <td>3</td>\n",
       "      <td>gasoline</td>\n",
       "      <td>volkswagen</td>\n",
       "      <td>no</td>\n",
       "      <td>2016-03-19</td>\n",
       "      <td>0</td>\n",
       "      <td>87439</td>\n",
       "      <td>2016-04-07 07:15:26</td>\n",
       "    </tr>\n",
       "    <tr>\n",
       "      <th>354368</th>\n",
       "      <td>2016-03-20 19:41:08</td>\n",
       "      <td>3400</td>\n",
       "      <td>wagon</td>\n",
       "      <td>2002</td>\n",
       "      <td>manual</td>\n",
       "      <td>100</td>\n",
       "      <td>golf</td>\n",
       "      <td>150000</td>\n",
       "      <td>6</td>\n",
       "      <td>gasoline</td>\n",
       "      <td>volkswagen</td>\n",
       "      <td>NaN</td>\n",
       "      <td>2016-03-20</td>\n",
       "      <td>0</td>\n",
       "      <td>40764</td>\n",
       "      <td>2016-03-24 12:45:21</td>\n",
       "    </tr>\n",
       "  </tbody>\n",
       "</table>\n",
       "<p>336341 rows × 16 columns</p>\n",
       "</div>"
      ],
      "text/plain": [
       "              date_crawled  price vehicle_type  registration_year gearbox  \\\n",
       "0      2016-03-24 11:52:17    480          NaN               1993  manual   \n",
       "1      2016-03-24 10:58:45  18300        coupe               2011  manual   \n",
       "2      2016-03-14 12:52:21   9800          suv               2004    auto   \n",
       "3      2016-03-17 16:54:04   1500        small               2001  manual   \n",
       "4      2016-03-31 17:25:20   3600        small               2008  manual   \n",
       "...                    ...    ...          ...                ...     ...   \n",
       "354363 2016-03-27 20:36:20   1150          bus               2000  manual   \n",
       "354364 2016-03-21 09:50:58      0          NaN               2005  manual   \n",
       "354366 2016-03-05 19:56:21   1199  convertible               2000    auto   \n",
       "354367 2016-03-19 18:57:12   9200          bus               1996  manual   \n",
       "354368 2016-03-20 19:41:08   3400        wagon               2002  manual   \n",
       "\n",
       "        power        model  kilometer  registration_month fuel_type  \\\n",
       "0           0         golf     150000                   0    petrol   \n",
       "1         190          NaN     125000                   5  gasoline   \n",
       "2         163        grand     125000                   8  gasoline   \n",
       "3          75         golf     150000                   6    petrol   \n",
       "4          69        fabia      90000                   7  gasoline   \n",
       "...       ...          ...        ...                 ...       ...   \n",
       "354363      0       zafira     150000                   3    petrol   \n",
       "354364      0         colt     150000                   7    petrol   \n",
       "354366    101       fortwo     125000                   3    petrol   \n",
       "354367    102  transporter     150000                   3  gasoline   \n",
       "354368    100         golf     150000                   6  gasoline   \n",
       "\n",
       "             brand not_repaired date_created  number_of_pictures  postal_code  \\\n",
       "0       volkswagen          NaN   2016-03-24                   0        70435   \n",
       "1             audi          yes   2016-03-24                   0        66954   \n",
       "2             jeep          NaN   2016-03-14                   0        90480   \n",
       "3       volkswagen           no   2016-03-17                   0        91074   \n",
       "4            skoda           no   2016-03-31                   0        60437   \n",
       "...            ...          ...          ...                 ...          ...   \n",
       "354363        opel           no   2016-03-27                   0        26624   \n",
       "354364  mitsubishi          yes   2016-03-21                   0         2694   \n",
       "354366       smart           no   2016-03-05                   0        26135   \n",
       "354367  volkswagen           no   2016-03-19                   0        87439   \n",
       "354368  volkswagen          NaN   2016-03-20                   0        40764   \n",
       "\n",
       "                 last_seen  \n",
       "0      2016-04-07 03:16:57  \n",
       "1      2016-04-07 01:46:50  \n",
       "2      2016-04-05 12:47:46  \n",
       "3      2016-03-17 17:40:17  \n",
       "4      2016-04-06 10:17:21  \n",
       "...                    ...  \n",
       "354363 2016-03-29 10:17:23  \n",
       "354364 2016-03-21 10:42:49  \n",
       "354366 2016-03-11 18:17:12  \n",
       "354367 2016-04-07 07:15:26  \n",
       "354368 2016-03-24 12:45:21  \n",
       "\n",
       "[336341 rows x 16 columns]"
      ]
     },
     "metadata": {},
     "output_type": "display_data"
    }
   ],
   "source": [
    "df = delete_cross(df, 2)\n",
    "\n",
    "display(df)"
   ]
  },
  {
   "cell_type": "markdown",
   "metadata": {},
   "source": [
    "Гляним теперь на пропуски."
   ]
  },
  {
   "cell_type": "code",
   "execution_count": 102,
   "metadata": {},
   "outputs": [
    {
     "data": {
      "text/plain": [
       "not_repaired          55104\n",
       "vehicle_type          22122\n",
       "fuel_type             18540\n",
       "model                 12016\n",
       "gearbox                8954\n",
       "date_crawled              0\n",
       "price                     0\n",
       "registration_year         0\n",
       "power                     0\n",
       "kilometer                 0\n",
       "registration_month        0\n",
       "brand                     0\n",
       "date_created              0\n",
       "number_of_pictures        0\n",
       "postal_code               0\n",
       "last_seen                 0\n",
       "dtype: int64"
      ]
     },
     "execution_count": 102,
     "metadata": {},
     "output_type": "execute_result"
    }
   ],
   "source": [
    "df.isna().sum().sort_values(ascending=False)"
   ]
  },
  {
   "cell_type": "markdown",
   "metadata": {},
   "source": [
    "### **Вывод:**\n",
    "Удалили из датафрейма строки содержащие 3 и более пропусков, по причине того, что замена пропусков в них на что-либо будет снижать качество модели обучения."
   ]
  },
  {
   "cell_type": "markdown",
   "metadata": {},
   "source": [
    "### Посмотрим на состав значений столбцов"
   ]
  },
  {
   "cell_type": "markdown",
   "metadata": {},
   "source": [
    "#### Столбец model — модель автомобиля"
   ]
  },
  {
   "cell_type": "code",
   "execution_count": 103,
   "metadata": {},
   "outputs": [
    {
     "name": "stdout",
     "output_type": "stream",
     "text": [
      "['golf' nan 'grand' 'fabia' '3er' '2_reihe' 'other' 'c_max' '3_reihe'\n",
      " 'passat' 'navara' 'ka' 'twingo' 'a_klasse' 'scirocco' '5er' 'meriva'\n",
      " 'arosa' 'c4' 'civic' 'transporter' 'punto' 'e_klasse' 'clio' 'kadett'\n",
      " 'kangoo' 'one' 'fortwo' '1er' 'b_klasse' 'signum' 'astra' 'a8' 'jetta'\n",
      " 'polo' 'fiesta' 'c_klasse' 'micra' 'vito' 'sprinter' '156' 'escort'\n",
      " 'forester' 'xc_reihe' 'scenic' 'a4' 'a1' 'combo' 'focus' 'tt' 'corsa'\n",
      " 'a6' 'jazz' 'omega' 'slk' '7er' '80' '147' 'z_reihe' 'sportage' 'sorento'\n",
      " 'v40' 'ibiza' 'mustang' 'eos' 'touran' 'getz' 'insignia' 'a3' 'almera'\n",
      " 'megane' 'lupo' 'r19' 'zafira' 'caddy' 'mondeo' 'cordoba' 'colt'\n",
      " 'impreza' 'vectra' 'berlingo' 'tiguan' 'i_reihe' 'sharan' '6_reihe'\n",
      " 'panda' 'up' 'seicento' 'ceed' '5_reihe' 'yeti' 'octavia' 'mii'\n",
      " 'rx_reihe' '6er' 'modus' 'fox' 'matiz' 'beetle' 'rio' 'touareg' 'logan'\n",
      " 'spider' 'cuore' 's_max' 'a2' 'galaxy' 'c3' 'viano' 's_klasse' '1_reihe'\n",
      " 'avensis' 'roomster' 'sl' 'kaefer' 'santa' 'cooper' 'leon' '4_reihe' 'a5'\n",
      " '500' 'laguna' 'ptcruiser' 'clk' 'primera' 'espace' 'x_reihe' 'exeo'\n",
      " '159' 'transit' 'juke' 'qashqai' 'carisma' 'accord' 'corolla' 'lanos'\n",
      " 'phaeton' 'verso' 'swift' 'rav' 'picanto' 'boxster' 'kalos' 'superb'\n",
      " 'stilo' 'alhambra' 'mx_reihe' 'roadster' 'ypsilon' 'cayenne' 'galant'\n",
      " 'justy' '90' 'sirion' 'crossfire' 'agila' 'duster' 'cr_reihe' 'v50'\n",
      " 'c_reihe' 'v_klasse' 'm_klasse' 'yaris' 'c5' 'aygo' 'cc' '911' 'bora'\n",
      " 'forfour' 'm_reihe' '100' 'cl' 'tigra' '300c' 'spark' 'kuga' 'x_type'\n",
      " 'ducato' 's_type' 'x_trail' 'toledo' 'altea' 'voyager' 'carnival' 'v70'\n",
      " 'bravo' 'antara' 'tucson' 'c1' 'citigo' 'jimny' 'wrangler' 'lybra' 'q7'\n",
      " 'lancer' 'captiva' 'fusion' 'c2' 'discovery' 'sandero' 'note' '900'\n",
      " 'cherokee' 'clubman' 'samara' 'defender' '601' 'cx_reihe' 'legacy'\n",
      " 'pajero' 'auris' 'niva' 's60' 'nubira' 'vivaro' 'g_klasse' 'freelander'\n",
      " 'lodgy' '850' 'range_rover' 'q3' 'serie_2' 'calibra' 'glk' 'charade'\n",
      " 'croma' 'outlander' 'doblo' 'musa' 'move' '9000' 'v60' '145' '200'\n",
      " 'b_max' 'range_rover_sport' 'aveo' 'terios' 'rangerover' 'q5'\n",
      " 'range_rover_evoque' 'materia' 'delta' 'gl' 'kalina' 'amarok'\n",
      " 'elefantino' 'i3' 'kappa' 'serie_3' 'serie_1']\n",
      "\n",
      "\n",
      "Количество строк с пропусками  в model: 12016 , это: 3.6 % от всего датафрейма\n"
     ]
    }
   ],
   "source": [
    "print(df['model'].unique())\n",
    "print()\n",
    "print()\n",
    "print('Количество строк с пропусками  в model:', df['model'].isna().sum(), ', это:'\n",
    "      , round(df['model'].isna().sum() * 100 / df.shape[0], 1), '% от всего датафрейма')"
   ]
  },
  {
   "cell_type": "markdown",
   "metadata": {},
   "source": [
    "Модель автомобиля является важнейшим признаком при обучении и при замене пропусков каким-либо методом незначительное количество \"неправильных\" значений в этом столбце может значительно повлиять на дальнейшее обучение, поэтому ничем заменять пропуски в этом столбце не будем и просто удалим строки содержащие пропуски в столбце model, тем более, что мы потеряем всего 3.6 % от всего датафрейма."
   ]
  },
  {
   "cell_type": "code",
   "execution_count": 104,
   "metadata": {},
   "outputs": [
    {
     "data": {
      "text/plain": [
       "not_repaired          52166\n",
       "vehicle_type          21172\n",
       "fuel_type             17131\n",
       "gearbox                8736\n",
       "date_crawled              0\n",
       "price                     0\n",
       "registration_year         0\n",
       "power                     0\n",
       "model                     0\n",
       "kilometer                 0\n",
       "registration_month        0\n",
       "brand                     0\n",
       "date_created              0\n",
       "number_of_pictures        0\n",
       "postal_code               0\n",
       "last_seen                 0\n",
       "dtype: int64"
      ]
     },
     "execution_count": 104,
     "metadata": {},
     "output_type": "execute_result"
    }
   ],
   "source": [
    "df = df.dropna(subset=['model'])\n",
    "df.isna().sum().sort_values(ascending=False)"
   ]
  },
  {
   "cell_type": "markdown",
   "metadata": {},
   "source": [
    "#### Столбец gearbox — тип коробки передач"
   ]
  },
  {
   "cell_type": "code",
   "execution_count": 105,
   "metadata": {},
   "outputs": [
    {
     "name": "stdout",
     "output_type": "stream",
     "text": [
      "manual    253085\n",
      "auto       62504\n",
      "Name: gearbox, dtype: int64\n"
     ]
    }
   ],
   "source": [
    "print(df['gearbox'].value_counts())"
   ]
  },
  {
   "cell_type": "markdown",
   "metadata": {},
   "source": [
    "В столбце gearbox возможны еще два вида коробок это вариатор и робот, поэтому будет разумно заменить пропуски на other, т. к. мы не знаем причину появления пропусков. Возможно сервис «Не бит, не крашен» имеет ограниченный функционал при размещении объявления и таких вариантов, как вариатор или робот там выбрать нельзя, и пользователи либо пропускают, либо выбирают автомат или на крайний случай ручную."
   ]
  },
  {
   "cell_type": "code",
   "execution_count": 106,
   "metadata": {},
   "outputs": [
    {
     "name": "stdout",
     "output_type": "stream",
     "text": [
      "(324325, 16)\n",
      "(324325, 16)\n"
     ]
    }
   ],
   "source": [
    "print(df.shape)\n",
    "df['gearbox'] = df['gearbox'].fillna('other')\n",
    "print(df.shape)"
   ]
  },
  {
   "cell_type": "markdown",
   "metadata": {},
   "source": [
    "#### Столбец not_repaired — была машина в ремонте или нет"
   ]
  },
  {
   "cell_type": "code",
   "execution_count": 107,
   "metadata": {},
   "outputs": [
    {
     "name": "stdout",
     "output_type": "stream",
     "text": [
      "no     238634\n",
      "yes     33525\n",
      "Name: not_repaired, dtype: int64\n",
      "Количество строк с пропусками  в not_repaired: 52166 , это: 16.1 % от всего датафрейма\n"
     ]
    }
   ],
   "source": [
    "print(df['not_repaired'].value_counts())\n",
    "print('Количество строк с пропусками  в not_repaired:', df['not_repaired'].isna().sum(), ', это:'\n",
    "      , round(df['not_repaired'].isna().sum() * 100 / df.shape[0], 1), '% от всего датафрейма')"
   ]
  },
  {
   "cell_type": "markdown",
   "metadata": {},
   "source": [
    "Достаточно много пропусков (16%) в столбце not_repaired. Удалять не будем. Заменим на \"неопределенно\"."
   ]
  },
  {
   "cell_type": "code",
   "execution_count": 108,
   "metadata": {},
   "outputs": [
    {
     "name": "stdout",
     "output_type": "stream",
     "text": [
      "(324325, 16)\n",
      "(324325, 16)\n"
     ]
    }
   ],
   "source": [
    "print(df.shape)\n",
    "df['not_repaired'] = df['not_repaired'].fillna('unknown')\n",
    "print(df.shape)"
   ]
  },
  {
   "cell_type": "markdown",
   "metadata": {},
   "source": [
    "#### Столбец vehicle_type — тип автомобильного кузова"
   ]
  },
  {
   "cell_type": "code",
   "execution_count": 109,
   "metadata": {},
   "outputs": [
    {
     "name": "stdout",
     "output_type": "stream",
     "text": [
      "sedan          87954\n",
      "small          76226\n",
      "wagon          62841\n",
      "bus            27726\n",
      "convertible    19244\n",
      "coupe          15182\n",
      "suv            11211\n",
      "other           2769\n",
      "Name: vehicle_type, dtype: int64\n",
      "Количество строк с пропусками  в vehicle_type: 21172 , это: 6.5 % от всего датафрейма\n"
     ]
    }
   ],
   "source": [
    "print(df['vehicle_type'].value_counts())\n",
    "print('Количество строк с пропусками  в vehicle_type:', df['vehicle_type'].isna().sum(), ', это:'\n",
    "      , round(df['vehicle_type'].isna().sum() * 100 / df.shape[0], 1), '% от всего датафрейма')"
   ]
  },
  {
   "cell_type": "markdown",
   "metadata": {},
   "source": [
    "Не так много пропусков (7%) в столбце not_repaired. Удалять не будем. Заменим на \"неопределенно\"."
   ]
  },
  {
   "cell_type": "code",
   "execution_count": 110,
   "metadata": {},
   "outputs": [
    {
     "name": "stdout",
     "output_type": "stream",
     "text": [
      "(324325, 16)\n",
      "(324325, 16)\n"
     ]
    }
   ],
   "source": [
    "print(df.shape)\n",
    "df['vehicle_type'] = df['vehicle_type'].fillna('unknown')\n",
    "print(df.shape)"
   ]
  },
  {
   "cell_type": "markdown",
   "metadata": {},
   "source": [
    "#### Столбец fuel_type — тип топлива"
   ]
  },
  {
   "cell_type": "code",
   "execution_count": 111,
   "metadata": {},
   "outputs": [
    {
     "name": "stdout",
     "output_type": "stream",
     "text": [
      "petrol      205869\n",
      "gasoline     95444\n",
      "lpg           4942\n",
      "cng            541\n",
      "hybrid         206\n",
      "other          126\n",
      "electric        66\n",
      "Name: fuel_type, dtype: int64\n",
      "Количество строк с пропусками  в fuel_type: 17131 , это: 5.3 % от всего датафрейма\n"
     ]
    }
   ],
   "source": [
    "print(df['fuel_type'].value_counts())\n",
    "print('Количество строк с пропусками  в fuel_type:', df['fuel_type'].isna().sum(), ', это:'\n",
    "      , round(df['fuel_type'].isna().sum() * 100 / df.shape[0], 1), '% от всего датафрейма')"
   ]
  },
  {
   "cell_type": "markdown",
   "metadata": {},
   "source": [
    "Так же \"гадать\" не будем, пропусков (5%) в столбце not_repaired. Удалять не будем. Заменим на \"неопределенно\"."
   ]
  },
  {
   "cell_type": "code",
   "execution_count": 112,
   "metadata": {},
   "outputs": [
    {
     "name": "stdout",
     "output_type": "stream",
     "text": [
      "(324325, 16)\n",
      "(324325, 16)\n"
     ]
    }
   ],
   "source": [
    "print(df.shape)\n",
    "df['fuel_type'] = df['fuel_type'].fillna('unknown')\n",
    "print(df.shape)"
   ]
  },
  {
   "cell_type": "markdown",
   "metadata": {},
   "source": [
    "#### **Вывод:**\n",
    "Детально прошлись по всем столбцам, содержащим пропуски:\n",
    "* Столбец model — модель автомобиля —  3.6 % пропусков. Пропуски удалены.\n",
    "* Столбец gearbox — тип коробки передач —  3.6 % пропусков. Пропуски удалены.\n",
    "* Столбец not_repaired — была машина в ремонте или нет. Пропусков (16%). Удалять не будем. Заменим на \" неопределенно \"\n",
    "* Столбец vehicle_type — тип автомобильного кузова. Пропусков (7%). Удалять не будем. Заменим на \"неопределенно\"\n",
    "* Столбец fuel_type — тип топлива. Пропусков (5%). Удалять не будем. Заменим на \"неопределенно\""
   ]
  },
  {
   "cell_type": "markdown",
   "metadata": {},
   "source": [
    "### Теперь посмотрим на возможные аномалии в данных"
   ]
  },
  {
   "cell_type": "code",
   "execution_count": 113,
   "metadata": {},
   "outputs": [
    {
     "data": {
      "text/html": [
       "<div>\n",
       "<style scoped>\n",
       "    .dataframe tbody tr th:only-of-type {\n",
       "        vertical-align: middle;\n",
       "    }\n",
       "\n",
       "    .dataframe tbody tr th {\n",
       "        vertical-align: top;\n",
       "    }\n",
       "\n",
       "    .dataframe thead th {\n",
       "        text-align: right;\n",
       "    }\n",
       "</style>\n",
       "<table border=\"1\" class=\"dataframe\">\n",
       "  <thead>\n",
       "    <tr style=\"text-align: right;\">\n",
       "      <th></th>\n",
       "      <th>date_crawled</th>\n",
       "      <th>price</th>\n",
       "      <th>vehicle_type</th>\n",
       "      <th>registration_year</th>\n",
       "      <th>gearbox</th>\n",
       "      <th>power</th>\n",
       "      <th>model</th>\n",
       "      <th>kilometer</th>\n",
       "      <th>registration_month</th>\n",
       "      <th>fuel_type</th>\n",
       "      <th>brand</th>\n",
       "      <th>not_repaired</th>\n",
       "      <th>date_created</th>\n",
       "      <th>number_of_pictures</th>\n",
       "      <th>postal_code</th>\n",
       "      <th>last_seen</th>\n",
       "    </tr>\n",
       "  </thead>\n",
       "  <tbody>\n",
       "    <tr>\n",
       "      <th>0</th>\n",
       "      <td>2016-03-24 11:52:17</td>\n",
       "      <td>480</td>\n",
       "      <td>unknown</td>\n",
       "      <td>1993</td>\n",
       "      <td>manual</td>\n",
       "      <td>0</td>\n",
       "      <td>golf</td>\n",
       "      <td>150000</td>\n",
       "      <td>0</td>\n",
       "      <td>petrol</td>\n",
       "      <td>volkswagen</td>\n",
       "      <td>unknown</td>\n",
       "      <td>2016-03-24</td>\n",
       "      <td>0</td>\n",
       "      <td>70435</td>\n",
       "      <td>2016-04-07 03:16:57</td>\n",
       "    </tr>\n",
       "    <tr>\n",
       "      <th>2</th>\n",
       "      <td>2016-03-14 12:52:21</td>\n",
       "      <td>9800</td>\n",
       "      <td>suv</td>\n",
       "      <td>2004</td>\n",
       "      <td>auto</td>\n",
       "      <td>163</td>\n",
       "      <td>grand</td>\n",
       "      <td>125000</td>\n",
       "      <td>8</td>\n",
       "      <td>gasoline</td>\n",
       "      <td>jeep</td>\n",
       "      <td>unknown</td>\n",
       "      <td>2016-03-14</td>\n",
       "      <td>0</td>\n",
       "      <td>90480</td>\n",
       "      <td>2016-04-05 12:47:46</td>\n",
       "    </tr>\n",
       "    <tr>\n",
       "      <th>3</th>\n",
       "      <td>2016-03-17 16:54:04</td>\n",
       "      <td>1500</td>\n",
       "      <td>small</td>\n",
       "      <td>2001</td>\n",
       "      <td>manual</td>\n",
       "      <td>75</td>\n",
       "      <td>golf</td>\n",
       "      <td>150000</td>\n",
       "      <td>6</td>\n",
       "      <td>petrol</td>\n",
       "      <td>volkswagen</td>\n",
       "      <td>no</td>\n",
       "      <td>2016-03-17</td>\n",
       "      <td>0</td>\n",
       "      <td>91074</td>\n",
       "      <td>2016-03-17 17:40:17</td>\n",
       "    </tr>\n",
       "    <tr>\n",
       "      <th>4</th>\n",
       "      <td>2016-03-31 17:25:20</td>\n",
       "      <td>3600</td>\n",
       "      <td>small</td>\n",
       "      <td>2008</td>\n",
       "      <td>manual</td>\n",
       "      <td>69</td>\n",
       "      <td>fabia</td>\n",
       "      <td>90000</td>\n",
       "      <td>7</td>\n",
       "      <td>gasoline</td>\n",
       "      <td>skoda</td>\n",
       "      <td>no</td>\n",
       "      <td>2016-03-31</td>\n",
       "      <td>0</td>\n",
       "      <td>60437</td>\n",
       "      <td>2016-04-06 10:17:21</td>\n",
       "    </tr>\n",
       "    <tr>\n",
       "      <th>5</th>\n",
       "      <td>2016-04-04 17:36:23</td>\n",
       "      <td>650</td>\n",
       "      <td>sedan</td>\n",
       "      <td>1995</td>\n",
       "      <td>manual</td>\n",
       "      <td>102</td>\n",
       "      <td>3er</td>\n",
       "      <td>150000</td>\n",
       "      <td>10</td>\n",
       "      <td>petrol</td>\n",
       "      <td>bmw</td>\n",
       "      <td>yes</td>\n",
       "      <td>2016-04-04</td>\n",
       "      <td>0</td>\n",
       "      <td>33775</td>\n",
       "      <td>2016-04-06 19:17:07</td>\n",
       "    </tr>\n",
       "  </tbody>\n",
       "</table>\n",
       "</div>"
      ],
      "text/plain": [
       "         date_crawled  price vehicle_type  registration_year gearbox  power  \\\n",
       "0 2016-03-24 11:52:17    480      unknown               1993  manual      0   \n",
       "2 2016-03-14 12:52:21   9800          suv               2004    auto    163   \n",
       "3 2016-03-17 16:54:04   1500        small               2001  manual     75   \n",
       "4 2016-03-31 17:25:20   3600        small               2008  manual     69   \n",
       "5 2016-04-04 17:36:23    650        sedan               1995  manual    102   \n",
       "\n",
       "   model  kilometer  registration_month fuel_type       brand not_repaired  \\\n",
       "0   golf     150000                   0    petrol  volkswagen      unknown   \n",
       "2  grand     125000                   8  gasoline        jeep      unknown   \n",
       "3   golf     150000                   6    petrol  volkswagen           no   \n",
       "4  fabia      90000                   7  gasoline       skoda           no   \n",
       "5    3er     150000                  10    petrol         bmw          yes   \n",
       "\n",
       "  date_created  number_of_pictures  postal_code           last_seen  \n",
       "0   2016-03-24                   0        70435 2016-04-07 03:16:57  \n",
       "2   2016-03-14                   0        90480 2016-04-05 12:47:46  \n",
       "3   2016-03-17                   0        91074 2016-03-17 17:40:17  \n",
       "4   2016-03-31                   0        60437 2016-04-06 10:17:21  \n",
       "5   2016-04-04                   0        33775 2016-04-06 19:17:07  "
      ]
     },
     "metadata": {},
     "output_type": "display_data"
    },
    {
     "name": "stdout",
     "output_type": "stream",
     "text": [
      "<class 'pandas.core.frame.DataFrame'>\n",
      "Int64Index: 324325 entries, 0 to 354368\n",
      "Data columns (total 16 columns):\n",
      " #   Column              Non-Null Count   Dtype         \n",
      "---  ------              --------------   -----         \n",
      " 0   date_crawled        324325 non-null  datetime64[ns]\n",
      " 1   price               324325 non-null  int64         \n",
      " 2   vehicle_type        324325 non-null  object        \n",
      " 3   registration_year   324325 non-null  int64         \n",
      " 4   gearbox             324325 non-null  object        \n",
      " 5   power               324325 non-null  int64         \n",
      " 6   model               324325 non-null  object        \n",
      " 7   kilometer           324325 non-null  int64         \n",
      " 8   registration_month  324325 non-null  int64         \n",
      " 9   fuel_type           324325 non-null  object        \n",
      " 10  brand               324325 non-null  object        \n",
      " 11  not_repaired        324325 non-null  object        \n",
      " 12  date_created        324325 non-null  datetime64[ns]\n",
      " 13  number_of_pictures  324325 non-null  int64         \n",
      " 14  postal_code         324325 non-null  int64         \n",
      " 15  last_seen           324325 non-null  datetime64[ns]\n",
      "dtypes: datetime64[ns](3), int64(7), object(6)\n",
      "memory usage: 42.1+ MB\n"
     ]
    }
   ],
   "source": [
    "display(df.head())\n",
    "df.info()"
   ]
  },
  {
   "cell_type": "markdown",
   "metadata": {},
   "source": [
    "#### Напишем функцию построения гистограммы и график «ящик с усами» + describe"
   ]
  },
  {
   "cell_type": "code",
   "execution_count": 114,
   "metadata": {},
   "outputs": [],
   "source": [
    "def form_fun(col, bins, rang=None):\n",
    "    t = 'Гистограмма столбца ' + col\n",
    "    b = 'boxplot столбца ' + col\n",
    "    fig, axes = plt.subplots(1,2,figsize=(17,5))\n",
    "\n",
    "    df[col].hist(bins=bins, ax=axes[0], range=rang)\n",
    "    sns.boxplot(x=df[col], ax=axes[1])  \n",
    "\n",
    "    axes[0].set_title(t)\n",
    "    axes[1].set_title(b)\n",
    "    \n",
    "    print(df[col].describe())\n",
    "\n",
    "    plt.show()"
   ]
  },
  {
   "cell_type": "markdown",
   "metadata": {},
   "source": [
    "#### Столбец 'price'"
   ]
  },
  {
   "cell_type": "code",
   "execution_count": 115,
   "metadata": {},
   "outputs": [
    {
     "name": "stdout",
     "output_type": "stream",
     "text": [
      "count    324325.000000\n",
      "mean       4591.281724\n",
      "std        4549.742828\n",
      "min           0.000000\n",
      "25%        1200.000000\n",
      "50%        2900.000000\n",
      "75%        6600.000000\n",
      "max       20000.000000\n",
      "Name: price, dtype: float64\n"
     ]
    },
    {
     "data": {
      "image/png": "[encoded data removed]",
      "text/plain": [
       "<Figure size 1224x360 with 2 Axes>"
      ]
     },
     "metadata": {
      "needs_background": "light"
     },
     "output_type": "display_data"
    }
   ],
   "source": [
    "form_fun('price', 200)"
   ]
  },
  {
   "cell_type": "markdown",
   "metadata": {},
   "source": [
    "Посмотрим на несколько строк с нулевой ценой"
   ]
  },
  {
   "cell_type": "code",
   "execution_count": 116,
   "metadata": {},
   "outputs": [
    {
     "data": {
      "text/html": [
       "<div>\n",
       "<style scoped>\n",
       "    .dataframe tbody tr th:only-of-type {\n",
       "        vertical-align: middle;\n",
       "    }\n",
       "\n",
       "    .dataframe tbody tr th {\n",
       "        vertical-align: top;\n",
       "    }\n",
       "\n",
       "    .dataframe thead th {\n",
       "        text-align: right;\n",
       "    }\n",
       "</style>\n",
       "<table border=\"1\" class=\"dataframe\">\n",
       "  <thead>\n",
       "    <tr style=\"text-align: right;\">\n",
       "      <th></th>\n",
       "      <th>date_crawled</th>\n",
       "      <th>price</th>\n",
       "      <th>vehicle_type</th>\n",
       "      <th>registration_year</th>\n",
       "      <th>gearbox</th>\n",
       "      <th>power</th>\n",
       "      <th>model</th>\n",
       "      <th>kilometer</th>\n",
       "      <th>registration_month</th>\n",
       "      <th>fuel_type</th>\n",
       "      <th>brand</th>\n",
       "      <th>not_repaired</th>\n",
       "      <th>date_created</th>\n",
       "      <th>number_of_pictures</th>\n",
       "      <th>postal_code</th>\n",
       "      <th>last_seen</th>\n",
       "    </tr>\n",
       "  </thead>\n",
       "  <tbody>\n",
       "    <tr>\n",
       "      <th>7</th>\n",
       "      <td>2016-03-21 18:54:38</td>\n",
       "      <td>0</td>\n",
       "      <td>sedan</td>\n",
       "      <td>1980</td>\n",
       "      <td>manual</td>\n",
       "      <td>50</td>\n",
       "      <td>other</td>\n",
       "      <td>40000</td>\n",
       "      <td>7</td>\n",
       "      <td>petrol</td>\n",
       "      <td>volkswagen</td>\n",
       "      <td>no</td>\n",
       "      <td>2016-03-21</td>\n",
       "      <td>0</td>\n",
       "      <td>19348</td>\n",
       "      <td>2016-03-25 16:47:58</td>\n",
       "    </tr>\n",
       "    <tr>\n",
       "      <th>111</th>\n",
       "      <td>2016-03-19 18:40:12</td>\n",
       "      <td>0</td>\n",
       "      <td>unknown</td>\n",
       "      <td>2017</td>\n",
       "      <td>manual</td>\n",
       "      <td>0</td>\n",
       "      <td>golf</td>\n",
       "      <td>5000</td>\n",
       "      <td>12</td>\n",
       "      <td>petrol</td>\n",
       "      <td>volkswagen</td>\n",
       "      <td>unknown</td>\n",
       "      <td>2016-03-19</td>\n",
       "      <td>0</td>\n",
       "      <td>21698</td>\n",
       "      <td>2016-04-01 08:47:05</td>\n",
       "    </tr>\n",
       "    <tr>\n",
       "      <th>152</th>\n",
       "      <td>2016-03-11 18:55:53</td>\n",
       "      <td>0</td>\n",
       "      <td>bus</td>\n",
       "      <td>2004</td>\n",
       "      <td>manual</td>\n",
       "      <td>101</td>\n",
       "      <td>meriva</td>\n",
       "      <td>150000</td>\n",
       "      <td>10</td>\n",
       "      <td>lpg</td>\n",
       "      <td>opel</td>\n",
       "      <td>yes</td>\n",
       "      <td>2016-03-11</td>\n",
       "      <td>0</td>\n",
       "      <td>27432</td>\n",
       "      <td>2016-03-12 23:47:10</td>\n",
       "    </tr>\n",
       "    <tr>\n",
       "      <th>231</th>\n",
       "      <td>2016-03-16 22:06:24</td>\n",
       "      <td>0</td>\n",
       "      <td>wagon</td>\n",
       "      <td>2001</td>\n",
       "      <td>manual</td>\n",
       "      <td>115</td>\n",
       "      <td>mondeo</td>\n",
       "      <td>150000</td>\n",
       "      <td>0</td>\n",
       "      <td>unknown</td>\n",
       "      <td>ford</td>\n",
       "      <td>unknown</td>\n",
       "      <td>2016-03-16</td>\n",
       "      <td>0</td>\n",
       "      <td>57627</td>\n",
       "      <td>2016-03-26 11:17:50</td>\n",
       "    </tr>\n",
       "    <tr>\n",
       "      <th>466</th>\n",
       "      <td>2016-03-24 10:58:40</td>\n",
       "      <td>0</td>\n",
       "      <td>unknown</td>\n",
       "      <td>2016</td>\n",
       "      <td>auto</td>\n",
       "      <td>197</td>\n",
       "      <td>3er</td>\n",
       "      <td>150000</td>\n",
       "      <td>12</td>\n",
       "      <td>gasoline</td>\n",
       "      <td>bmw</td>\n",
       "      <td>no</td>\n",
       "      <td>2016-03-24</td>\n",
       "      <td>0</td>\n",
       "      <td>99867</td>\n",
       "      <td>2016-03-25 19:46:09</td>\n",
       "    </tr>\n",
       "    <tr>\n",
       "      <th>579</th>\n",
       "      <td>2016-03-27 11:37:43</td>\n",
       "      <td>0</td>\n",
       "      <td>sedan</td>\n",
       "      <td>1996</td>\n",
       "      <td>manual</td>\n",
       "      <td>170</td>\n",
       "      <td>5er</td>\n",
       "      <td>150000</td>\n",
       "      <td>0</td>\n",
       "      <td>petrol</td>\n",
       "      <td>bmw</td>\n",
       "      <td>no</td>\n",
       "      <td>2016-03-27</td>\n",
       "      <td>0</td>\n",
       "      <td>48529</td>\n",
       "      <td>2016-03-27 11:37:43</td>\n",
       "    </tr>\n",
       "  </tbody>\n",
       "</table>\n",
       "</div>"
      ],
      "text/plain": [
       "           date_crawled  price vehicle_type  registration_year gearbox  power  \\\n",
       "7   2016-03-21 18:54:38      0        sedan               1980  manual     50   \n",
       "111 2016-03-19 18:40:12      0      unknown               2017  manual      0   \n",
       "152 2016-03-11 18:55:53      0          bus               2004  manual    101   \n",
       "231 2016-03-16 22:06:24      0        wagon               2001  manual    115   \n",
       "466 2016-03-24 10:58:40      0      unknown               2016    auto    197   \n",
       "579 2016-03-27 11:37:43      0        sedan               1996  manual    170   \n",
       "\n",
       "      model  kilometer  registration_month fuel_type       brand not_repaired  \\\n",
       "7     other      40000                   7    petrol  volkswagen           no   \n",
       "111    golf       5000                  12    petrol  volkswagen      unknown   \n",
       "152  meriva     150000                  10       lpg        opel          yes   \n",
       "231  mondeo     150000                   0   unknown        ford      unknown   \n",
       "466     3er     150000                  12  gasoline         bmw           no   \n",
       "579     5er     150000                   0    petrol         bmw           no   \n",
       "\n",
       "    date_created  number_of_pictures  postal_code           last_seen  \n",
       "7     2016-03-21                   0        19348 2016-03-25 16:47:58  \n",
       "111   2016-03-19                   0        21698 2016-04-01 08:47:05  \n",
       "152   2016-03-11                   0        27432 2016-03-12 23:47:10  \n",
       "231   2016-03-16                   0        57627 2016-03-26 11:17:50  \n",
       "466   2016-03-24                   0        99867 2016-03-25 19:46:09  \n",
       "579   2016-03-27                   0        48529 2016-03-27 11:37:43  "
      ]
     },
     "metadata": {},
     "output_type": "display_data"
    }
   ],
   "source": [
    "display(df[df['price'] == 0].head(6))"
   ]
  },
  {
   "cell_type": "markdown",
   "metadata": {},
   "source": [
    "Видно что значения разные, бросается в глаза только нулевые значения количества фотографий. Сравним с остальным датафреймом."
   ]
  },
  {
   "cell_type": "code",
   "execution_count": 117,
   "metadata": {},
   "outputs": [
    {
     "name": "stdout",
     "output_type": "stream",
     "text": [
      "0    7235\n",
      "Name: number_of_pictures, dtype: int64\n",
      "0    317090\n",
      "Name: number_of_pictures, dtype: int64\n"
     ]
    }
   ],
   "source": [
    "print(df[df['price'] == 0]['number_of_pictures'].value_counts())\n",
    "print(df[df['price'] != 0]['number_of_pictures'].value_counts())"
   ]
  },
  {
   "cell_type": "markdown",
   "metadata": {},
   "source": [
    "Оказалось, что во всём датафрейме значения количества фотографий только ноль. Ну тогда удалим строки с нулевыми значениями цены и весь столбец 'number_of_pictures', т. к. это нули будут только мешать качеству обучения модели."
   ]
  },
  {
   "cell_type": "code",
   "execution_count": 118,
   "metadata": {},
   "outputs": [
    {
     "name": "stdout",
     "output_type": "stream",
     "text": [
      "(324325, 16)\n",
      "(317090, 16)\n"
     ]
    }
   ],
   "source": [
    "print(df.shape)\n",
    "df = df.drop(df[df['price'] == 0].index)\n",
    "print(df.shape)"
   ]
  },
  {
   "cell_type": "markdown",
   "metadata": {},
   "source": [
    "#### Столбец 'number_of_pictures' удалим"
   ]
  },
  {
   "cell_type": "code",
   "execution_count": 119,
   "metadata": {},
   "outputs": [
    {
     "name": "stdout",
     "output_type": "stream",
     "text": [
      "(317090, 16)\n",
      "(317090, 15)\n"
     ]
    }
   ],
   "source": [
    "print(df.shape)\n",
    "df = df.drop(columns = ['number_of_pictures'],axis = 1)\n",
    "print(df.shape)"
   ]
  },
  {
   "cell_type": "markdown",
   "metadata": {},
   "source": [
    "#### Столбец 'registration_year'"
   ]
  },
  {
   "cell_type": "code",
   "execution_count": 120,
   "metadata": {},
   "outputs": [
    {
     "name": "stdout",
     "output_type": "stream",
     "text": [
      "count    317090.000000\n",
      "mean       2003.253064\n",
      "std          18.233512\n",
      "min        1000.000000\n",
      "25%        1999.000000\n",
      "50%        2003.000000\n",
      "75%        2007.000000\n",
      "max        6500.000000\n",
      "Name: registration_year, dtype: float64\n"
     ]
    },
    {
     "data": {
      "image/png": "[encoded data removed]",
      "text/plain": [
       "<Figure size 1224x360 with 2 Axes>"
      ]
     },
     "metadata": {
      "needs_background": "light"
     },
     "output_type": "display_data"
    }
   ],
   "source": [
    "form_fun('registration_year', 60, (1950,2018))"
   ]
  },
  {
   "cell_type": "markdown",
   "metadata": {},
   "source": [
    "Есть выбросы как в меньшую, так и большую сторону. Есть раритетные автомобили до 1960г, но их участие усложнит и исказит обучение модели. Также если обращать внимание на время выгрузки датафрейма, можно сказать, что строки старше этого времени являются выбросами или аномалиями. Поэтому оставим для рассмотрения период от 1960г до 2016г"
   ]
  },
  {
   "cell_type": "code",
   "execution_count": 121,
   "metadata": {},
   "outputs": [
    {
     "name": "stdout",
     "output_type": "stream",
     "text": [
      "(317090, 15)\n",
      "(307348, 15)\n"
     ]
    }
   ],
   "source": [
    "print(df.shape)\n",
    "df = df.drop(df[df['registration_year'] < 1960].index)\n",
    "df = df.drop(df[df['registration_year'] > 2016].index)\n",
    "print(df.shape)"
   ]
  },
  {
   "cell_type": "code",
   "execution_count": 122,
   "metadata": {},
   "outputs": [
    {
     "name": "stdout",
     "output_type": "stream",
     "text": [
      "count    307348.000000\n",
      "mean       2002.761166\n",
      "std           6.367174\n",
      "min        1960.000000\n",
      "25%        1999.000000\n",
      "50%        2003.000000\n",
      "75%        2007.000000\n",
      "max        2016.000000\n",
      "Name: registration_year, dtype: float64\n"
     ]
    },
    {
     "data": {
      "image/png": "[encoded data removed]",
      "text/plain": [
       "<Figure size 1224x360 with 2 Axes>"
      ]
     },
     "metadata": {
      "needs_background": "light"
     },
     "output_type": "display_data"
    }
   ],
   "source": [
    "form_fun('registration_year', 60, (1959,2018))"
   ]
  },
  {
   "cell_type": "markdown",
   "metadata": {},
   "source": [
    "#### Столбец 'power'"
   ]
  },
  {
   "cell_type": "code",
   "execution_count": 123,
   "metadata": {},
   "outputs": [
    {
     "name": "stdout",
     "output_type": "stream",
     "text": [
      "count    307348.000000\n",
      "mean        114.405257\n",
      "std         179.002289\n",
      "min           0.000000\n",
      "25%          75.000000\n",
      "50%         105.000000\n",
      "75%         143.000000\n",
      "max       20000.000000\n",
      "Name: power, dtype: float64\n"
     ]
    },
    {
     "data": {
      "image/png": "[encoded data removed]",
      "text/plain": [
       "<Figure size 1224x360 with 2 Axes>"
      ]
     },
     "metadata": {
      "needs_background": "light"
     },
     "output_type": "display_data"
    }
   ],
   "source": [
    "form_fun('power', 60, (0,500))"
   ]
  },
  {
   "cell_type": "markdown",
   "metadata": {},
   "source": [
    "Посмотрим на количество нулевых значений мощьности."
   ]
  },
  {
   "cell_type": "code",
   "execution_count": 124,
   "metadata": {},
   "outputs": [
    {
     "name": "stdout",
     "output_type": "stream",
     "text": [
      "24204\n"
     ]
    }
   ],
   "source": [
    "print(df[df['power'] == 0]['power'].count())"
   ]
  },
  {
   "cell_type": "markdown",
   "metadata": {},
   "source": [
    "В связи с тем, что одни и те же автомобили изготавливаются с двигателями разной мощности (разной комплектации) заменить нулевые значения мощности каким-либо методом будет не корректно, поэтому удалим их. А также возьмём нижний порог мощности 30 л. с. т. к. ниже значения встречаются крайне редко и относятся либо к раритетным авто, либо к электромобилям. Электромобили оставим."
   ]
  },
  {
   "cell_type": "code",
   "execution_count": 125,
   "metadata": {},
   "outputs": [
    {
     "name": "stdout",
     "output_type": "stream",
     "text": [
      "(307348, 15)\n",
      "(282639, 15)\n"
     ]
    }
   ],
   "source": [
    "print(df.shape)\n",
    "df = df.drop(df[(df['fuel_type'] != 'electric') & (df['power'] < 30)].index)\n",
    "print(df.shape)"
   ]
  },
  {
   "cell_type": "markdown",
   "metadata": {},
   "source": [
    "Что касается выбросов в большую сторону, то необходимо удалить все значения больше 500 л. с. и более 400 относящиеся ко всем типам кузова, кроме suv, wagon и bus."
   ]
  },
  {
   "cell_type": "code",
   "execution_count": 126,
   "metadata": {},
   "outputs": [
    {
     "name": "stdout",
     "output_type": "stream",
     "text": [
      "(282639, 15)\n",
      "(282304, 15)\n"
     ]
    }
   ],
   "source": [
    "print(df.shape)\n",
    "df = df.drop(df[df['power'] > 500].index)\n",
    "print(df.shape)"
   ]
  },
  {
   "cell_type": "code",
   "execution_count": 127,
   "metadata": {},
   "outputs": [
    {
     "name": "stdout",
     "output_type": "stream",
     "text": [
      "(282304, 15)\n",
      "(282163, 15)\n"
     ]
    }
   ],
   "source": [
    "print(df.shape)\n",
    "df = df.drop(df[(df['vehicle_type'] != 'suv') \n",
    "                & (df['vehicle_type'] != 'wagon') \n",
    "                & (df['vehicle_type'] != 'bus') \n",
    "                & (df['power'] > 400)].index)\n",
    "print(df.shape)"
   ]
  },
  {
   "cell_type": "markdown",
   "metadata": {},
   "source": [
    "#### Столбец 'kilometer'"
   ]
  },
  {
   "cell_type": "code",
   "execution_count": 128,
   "metadata": {},
   "outputs": [
    {
     "name": "stdout",
     "output_type": "stream",
     "text": [
      "count    282163.000000\n",
      "mean     128354.054217\n",
      "std       36504.698355\n",
      "min        5000.000000\n",
      "25%      125000.000000\n",
      "50%      150000.000000\n",
      "75%      150000.000000\n",
      "max      150000.000000\n",
      "Name: kilometer, dtype: float64\n"
     ]
    },
    {
     "data": {
      "image/png": "[encoded data removed]",
      "text/plain": [
       "<Figure size 1224x360 with 2 Axes>"
      ]
     },
     "metadata": {
      "needs_background": "light"
     },
     "output_type": "display_data"
    }
   ],
   "source": [
    "form_fun('kilometer', 20)"
   ]
  },
  {
   "cell_type": "markdown",
   "metadata": {},
   "source": [
    "Здесь все нормально."
   ]
  },
  {
   "cell_type": "markdown",
   "metadata": {},
   "source": [
    "#### Столбец 'registration_month'"
   ]
  },
  {
   "cell_type": "code",
   "execution_count": 129,
   "metadata": {},
   "outputs": [
    {
     "name": "stdout",
     "output_type": "stream",
     "text": [
      "count    282163.000000\n",
      "mean          6.052140\n",
      "std           3.555648\n",
      "min           0.000000\n",
      "25%           3.000000\n",
      "50%           6.000000\n",
      "75%           9.000000\n",
      "max          12.000000\n",
      "Name: registration_month, dtype: float64\n"
     ]
    },
    {
     "data": {
      "image/png": "[encoded data removed]",
      "text/plain": [
       "<Figure size 1224x360 with 2 Axes>"
      ]
     },
     "metadata": {
      "needs_background": "light"
     },
     "output_type": "display_data"
    }
   ],
   "source": [
    "form_fun('registration_month', 12)"
   ]
  },
  {
   "cell_type": "markdown",
   "metadata": {},
   "source": [
    "Здесь все нормально."
   ]
  },
  {
   "cell_type": "markdown",
   "metadata": {},
   "source": [
    "#### Столбец 'postal_code'"
   ]
  },
  {
   "cell_type": "code",
   "execution_count": 130,
   "metadata": {},
   "outputs": [
    {
     "name": "stdout",
     "output_type": "stream",
     "text": [
      "10115    794\n",
      "65428    485\n",
      "60311    259\n",
      "66333    256\n",
      "52525    242\n",
      "        ... \n",
      "31088      1\n",
      "82444      1\n",
      "79685      1\n",
      "67680      1\n",
      "29587      1\n",
      "Name: postal_code, Length: 8104, dtype: int64\n"
     ]
    }
   ],
   "source": [
    "print(df['postal_code'].value_counts())"
   ]
  },
  {
   "cell_type": "markdown",
   "metadata": {},
   "source": [
    "Это пятизначный Zip Code относящийся к европейским странам. Видно, что некоторые индексы повторяются по несколько сот раз. Можно предположить, что они относятся к разным городам и странам в Европе. Скорее всего и цены по странам и городам различаются хоть и \"единая Европа\". Поэтому этот столбец оставим."
   ]
  },
  {
   "cell_type": "markdown",
   "metadata": {},
   "source": [
    "#### Столбец 'date_crawled'"
   ]
  },
  {
   "cell_type": "code",
   "execution_count": 131,
   "metadata": {},
   "outputs": [
    {
     "name": "stdout",
     "output_type": "stream",
     "text": [
      "90713    2016-04-07 14:36:58\n",
      "339649   2016-04-07 14:36:56\n",
      "301030   2016-04-07 14:36:55\n",
      "53739    2016-04-07 14:36:54\n",
      "204218   2016-04-07 14:36:53\n",
      "                 ...        \n",
      "220604   2016-03-05 14:06:25\n",
      "324763   2016-03-05 14:06:24\n",
      "176823   2016-03-05 14:06:24\n",
      "220583   2016-03-05 14:06:23\n",
      "329497   2016-03-05 14:06:22\n",
      "Name: date_crawled, Length: 282163, dtype: datetime64[ns]\n"
     ]
    }
   ],
   "source": [
    "print(df['date_crawled'].sort_values(ascending=False))"
   ]
  },
  {
   "cell_type": "markdown",
   "metadata": {},
   "source": [
    "Последнее время скачивания анкеты из базы это 2016-04-07 14:36:58, а значит дата создания анкеты позже быть не может."
   ]
  },
  {
   "cell_type": "code",
   "execution_count": 132,
   "metadata": {},
   "outputs": [
    {
     "name": "stdout",
     "output_type": "stream",
     "text": [
      "115159   2016-04-07\n",
      "46194    2016-04-07\n",
      "108787   2016-04-07\n",
      "64751    2016-04-07\n",
      "227832   2016-04-07\n",
      "            ...    \n",
      "75598    2015-09-04\n",
      "221002   2015-09-04\n",
      "175103   2015-08-10\n",
      "86601    2015-08-07\n",
      "4001     2015-03-20\n",
      "Name: date_created, Length: 282163, dtype: datetime64[ns]\n"
     ]
    }
   ],
   "source": [
    "print(df['date_created'].sort_values(ascending=False))"
   ]
  },
  {
   "cell_type": "markdown",
   "metadata": {},
   "source": [
    "Здесь все нормально."
   ]
  },
  {
   "cell_type": "code",
   "execution_count": 133,
   "metadata": {},
   "outputs": [
    {
     "name": "stdout",
     "output_type": "stream",
     "text": [
      "<class 'pandas.core.frame.DataFrame'>\n",
      "Int64Index: 282163 entries, 2 to 354368\n",
      "Data columns (total 15 columns):\n",
      " #   Column              Non-Null Count   Dtype         \n",
      "---  ------              --------------   -----         \n",
      " 0   date_crawled        282163 non-null  datetime64[ns]\n",
      " 1   price               282163 non-null  int64         \n",
      " 2   vehicle_type        282163 non-null  object        \n",
      " 3   registration_year   282163 non-null  int64         \n",
      " 4   gearbox             282163 non-null  object        \n",
      " 5   power               282163 non-null  int64         \n",
      " 6   model               282163 non-null  object        \n",
      " 7   kilometer           282163 non-null  int64         \n",
      " 8   registration_month  282163 non-null  int64         \n",
      " 9   fuel_type           282163 non-null  object        \n",
      " 10  brand               282163 non-null  object        \n",
      " 11  not_repaired        282163 non-null  object        \n",
      " 12  date_created        282163 non-null  datetime64[ns]\n",
      " 13  postal_code         282163 non-null  int64         \n",
      " 14  last_seen           282163 non-null  datetime64[ns]\n",
      "dtypes: datetime64[ns](3), int64(6), object(6)\n",
      "memory usage: 34.4+ MB\n",
      "\n",
      "Осталось после всей обработки 282163 строк это 79.6 % строк от начальных данных\n"
     ]
    },
    {
     "data": {
      "text/plain": [
       "354369"
      ]
     },
     "execution_count": 133,
     "metadata": {},
     "output_type": "execute_result"
    }
   ],
   "source": [
    "df.info()\n",
    "print()\n",
    "print('Осталось после всей обработки', df.shape[0], 'строк', 'это', round(df.shape[0] * 100 / number_of_lines, 1), '% строк от начальных данных')\n",
    "number_of_lines"
   ]
  },
  {
   "cell_type": "markdown",
   "metadata": {},
   "source": [
    "#### **Вывод:**\n",
    "Детально прошлись по аномалиям в данных:\n",
    "* Столбец 'price'. Удалены строки с нулевыми значениями цены.\n",
    "* Удален весь столбец 'number_of_pictures', т. к. в нем только нулевые значения и будут мешать качеству обучения модели.\n",
    "* Столбец 'registration_year'. Оставлен для рассмотрения период от 1960г до 2016г\n",
    "* Столбец 'power'. Удалены нулевые значения.  Взят нижний порог мощности 30 л. но электромобили оставим. Что касается выбросов в большую сторону, то удалены все значения больше 500 л. с. и более 400 относящиеся ко всем типам кузова, кроме suv, wagon и bus.\n",
    "* Столбцы 'kilometer', 'registration_month', 'date_crawled и 'postal_code' в порядке.\n",
    "* В результате всей обработки данных было оставлено 80% строк от начальных данных."
   ]
  },
  {
   "cell_type": "markdown",
   "metadata": {},
   "source": [
    "### Проверим датафрейм на наличие дубликатов"
   ]
  },
  {
   "cell_type": "code",
   "execution_count": 134,
   "metadata": {},
   "outputs": [
    {
     "name": "stdout",
     "output_type": "stream",
     "text": [
      "Количество дубликатов строк в df: 4 , это: 0.0014176203116638255 % от всего датафрейма\n"
     ]
    }
   ],
   "source": [
    "print('Количество дубликатов строк в df:', df.duplicated().sum(), ', это:'\n",
    "      , df.duplicated().sum() * 100 / df.shape[0], '% от всего датафрейма')"
   ]
  },
  {
   "cell_type": "markdown",
   "metadata": {},
   "source": [
    "Всего 4 явных дубликата. Удалим их."
   ]
  },
  {
   "cell_type": "code",
   "execution_count": 135,
   "metadata": {},
   "outputs": [
    {
     "name": "stdout",
     "output_type": "stream",
     "text": [
      "(282163, 15)\n",
      "(282159, 15)\n"
     ]
    }
   ],
   "source": [
    "print(df.shape)\n",
    "df = df.drop_duplicates().reset_index(drop=True)\n",
    "print(df.shape)"
   ]
  },
  {
   "cell_type": "code",
   "execution_count": 136,
   "metadata": {},
   "outputs": [
    {
     "data": {
      "text/html": [
       "<div>\n",
       "<style scoped>\n",
       "    .dataframe tbody tr th:only-of-type {\n",
       "        vertical-align: middle;\n",
       "    }\n",
       "\n",
       "    .dataframe tbody tr th {\n",
       "        vertical-align: top;\n",
       "    }\n",
       "\n",
       "    .dataframe thead th {\n",
       "        text-align: right;\n",
       "    }\n",
       "</style>\n",
       "<table border=\"1\" class=\"dataframe\">\n",
       "  <thead>\n",
       "    <tr style=\"text-align: right;\">\n",
       "      <th></th>\n",
       "      <th>date_crawled</th>\n",
       "      <th>price</th>\n",
       "      <th>vehicle_type</th>\n",
       "      <th>registration_year</th>\n",
       "      <th>gearbox</th>\n",
       "      <th>power</th>\n",
       "      <th>model</th>\n",
       "      <th>kilometer</th>\n",
       "      <th>registration_month</th>\n",
       "      <th>fuel_type</th>\n",
       "      <th>brand</th>\n",
       "      <th>not_repaired</th>\n",
       "      <th>date_created</th>\n",
       "      <th>postal_code</th>\n",
       "      <th>last_seen</th>\n",
       "    </tr>\n",
       "  </thead>\n",
       "  <tbody>\n",
       "    <tr>\n",
       "      <th>0</th>\n",
       "      <td>2016-03-14 12:52:21</td>\n",
       "      <td>9800</td>\n",
       "      <td>suv</td>\n",
       "      <td>2004</td>\n",
       "      <td>auto</td>\n",
       "      <td>163</td>\n",
       "      <td>grand</td>\n",
       "      <td>125000</td>\n",
       "      <td>8</td>\n",
       "      <td>gasoline</td>\n",
       "      <td>jeep</td>\n",
       "      <td>unknown</td>\n",
       "      <td>2016-03-14</td>\n",
       "      <td>90480</td>\n",
       "      <td>2016-04-05 12:47:46</td>\n",
       "    </tr>\n",
       "    <tr>\n",
       "      <th>1</th>\n",
       "      <td>2016-03-17 16:54:04</td>\n",
       "      <td>1500</td>\n",
       "      <td>small</td>\n",
       "      <td>2001</td>\n",
       "      <td>manual</td>\n",
       "      <td>75</td>\n",
       "      <td>golf</td>\n",
       "      <td>150000</td>\n",
       "      <td>6</td>\n",
       "      <td>petrol</td>\n",
       "      <td>volkswagen</td>\n",
       "      <td>no</td>\n",
       "      <td>2016-03-17</td>\n",
       "      <td>91074</td>\n",
       "      <td>2016-03-17 17:40:17</td>\n",
       "    </tr>\n",
       "    <tr>\n",
       "      <th>2</th>\n",
       "      <td>2016-03-31 17:25:20</td>\n",
       "      <td>3600</td>\n",
       "      <td>small</td>\n",
       "      <td>2008</td>\n",
       "      <td>manual</td>\n",
       "      <td>69</td>\n",
       "      <td>fabia</td>\n",
       "      <td>90000</td>\n",
       "      <td>7</td>\n",
       "      <td>gasoline</td>\n",
       "      <td>skoda</td>\n",
       "      <td>no</td>\n",
       "      <td>2016-03-31</td>\n",
       "      <td>60437</td>\n",
       "      <td>2016-04-06 10:17:21</td>\n",
       "    </tr>\n",
       "    <tr>\n",
       "      <th>3</th>\n",
       "      <td>2016-04-04 17:36:23</td>\n",
       "      <td>650</td>\n",
       "      <td>sedan</td>\n",
       "      <td>1995</td>\n",
       "      <td>manual</td>\n",
       "      <td>102</td>\n",
       "      <td>3er</td>\n",
       "      <td>150000</td>\n",
       "      <td>10</td>\n",
       "      <td>petrol</td>\n",
       "      <td>bmw</td>\n",
       "      <td>yes</td>\n",
       "      <td>2016-04-04</td>\n",
       "      <td>33775</td>\n",
       "      <td>2016-04-06 19:17:07</td>\n",
       "    </tr>\n",
       "    <tr>\n",
       "      <th>4</th>\n",
       "      <td>2016-04-01 20:48:51</td>\n",
       "      <td>2200</td>\n",
       "      <td>convertible</td>\n",
       "      <td>2004</td>\n",
       "      <td>manual</td>\n",
       "      <td>109</td>\n",
       "      <td>2_reihe</td>\n",
       "      <td>150000</td>\n",
       "      <td>8</td>\n",
       "      <td>petrol</td>\n",
       "      <td>peugeot</td>\n",
       "      <td>no</td>\n",
       "      <td>2016-04-01</td>\n",
       "      <td>67112</td>\n",
       "      <td>2016-04-05 18:18:39</td>\n",
       "    </tr>\n",
       "  </tbody>\n",
       "</table>\n",
       "</div>"
      ],
      "text/plain": [
       "         date_crawled  price vehicle_type  registration_year gearbox  power  \\\n",
       "0 2016-03-14 12:52:21   9800          suv               2004    auto    163   \n",
       "1 2016-03-17 16:54:04   1500        small               2001  manual     75   \n",
       "2 2016-03-31 17:25:20   3600        small               2008  manual     69   \n",
       "3 2016-04-04 17:36:23    650        sedan               1995  manual    102   \n",
       "4 2016-04-01 20:48:51   2200  convertible               2004  manual    109   \n",
       "\n",
       "     model  kilometer  registration_month fuel_type       brand not_repaired  \\\n",
       "0    grand     125000                   8  gasoline        jeep      unknown   \n",
       "1     golf     150000                   6    petrol  volkswagen           no   \n",
       "2    fabia      90000                   7  gasoline       skoda           no   \n",
       "3      3er     150000                  10    petrol         bmw          yes   \n",
       "4  2_reihe     150000                   8    petrol     peugeot           no   \n",
       "\n",
       "  date_created  postal_code           last_seen  \n",
       "0   2016-03-14        90480 2016-04-05 12:47:46  \n",
       "1   2016-03-17        91074 2016-03-17 17:40:17  \n",
       "2   2016-03-31        60437 2016-04-06 10:17:21  \n",
       "3   2016-04-04        33775 2016-04-06 19:17:07  \n",
       "4   2016-04-01        67112 2016-04-05 18:18:39  "
      ]
     },
     "metadata": {},
     "output_type": "display_data"
    }
   ],
   "source": [
    "display(df.head())"
   ]
  },
  {
   "cell_type": "markdown",
   "metadata": {},
   "source": [
    "### **Вывод:**"
   ]
  },
  {
   "cell_type": "markdown",
   "metadata": {},
   "source": [
    "Дубликатов 4 строки. Удалены."
   ]
  },
  {
   "cell_type": "markdown",
   "metadata": {},
   "source": [
    "## Обучение моделей"
   ]
  },
  {
   "cell_type": "markdown",
   "metadata": {},
   "source": [
    "### Напишем функцию разделения данных на обучающую и тестовую выборки в отношении 3:1 c  преобразованием категориальных признаков и масштабированием данных"
   ]
  },
  {
   "cell_type": "markdown",
   "metadata": {},
   "source": [
    "Из обучающей выборке удалим временные столбцы: \n",
    "* date_crawled — дата скачивания анкеты из базы\n",
    "* date_created — дата создания анкеты\n",
    "* last_seen — дата последней активности пользователя\n",
    "\n",
    "и целевой признак:\n",
    "* price — цена (евро)\n",
    "\n",
    "Преобразуем категориальные признаки в численные техникой порядкового кодирования (Ordinal Encoding), для того чтоб не возникало ошибок при работе методов обучения, связанных с попытками преобразовать все элементы string в вещественное число.\n",
    "\n",
    "А также выполним масштабирование данных"
   ]
  },
  {
   "cell_type": "code",
   "execution_count": 139,
   "metadata": {},
   "outputs": [],
   "source": [
    "def splitting(data):\n",
    "    print('Размер поступивщих данных:', data.shape)\n",
    "    \n",
    "    data = data.drop(columns = ['date_crawled', 'date_created', 'last_seen'],axis = 1)\n",
    "    print('Размер данных после удаления временных столбцов:', data.shape)\n",
    "    \n",
    "    col = df.select_dtypes(include='object').columns.tolist()\n",
    "    print('Столбцы с категориальными признаками :', col)\n",
    "    \n",
    "    oe = ce.OrdinalEncoder(cols = col)\n",
    "    data_ordinal = oe.fit_transform(data)\n",
    "    print('Размер данных после кодирования столбцов с категориальными признаками:', data_ordinal.shape)\n",
    "    \n",
    "    features = data_ordinal.drop(['price'], axis=1)\n",
    "    target = data_ordinal['price']\n",
    "    print('Размер features:', features.shape)\n",
    "    print('Размер target:', target.shape[0])\n",
    "\n",
    "    features_train, features_test, target_train, target_test = train_test_split(\n",
    "                            features, target, test_size=0.25, random_state=12345) # 25% данных для тестовой выборки\n",
    "    print('Размер обучающей features выборки:', features_train.shape)\n",
    "    print('Размер тестовой features выборки:', features_test.shape)\n",
    "    print('Размер обучающей target выборки:', target_train.shape[0])\n",
    "    print('Размер тестовой target выборки:', target_test.shape[0])\n",
    "    \n",
    "    col_rest = []\n",
    "    for i in features_train.columns:\n",
    "        if not (i in col):\n",
    "            col_rest.append(i)\n",
    "    print('Столбцы подлежащие масштабированию:', col_rest)\n",
    "    \n",
    "    numeric = col_rest \n",
    "    scaler = StandardScaler()\n",
    "    scaler.fit(features_train[numeric])\n",
    "    features_train[numeric] = scaler.transform(features_train[numeric])\n",
    "    features_test[numeric] = scaler.transform(features_test[numeric])\n",
    "    print()\n",
    "    print('--------------------------------Результат масштабирования features_train-------------------------------')\n",
    "    display(features_train.agg(['min','max']))\n",
    "    print()\n",
    "    print('--------------------------------Результат масштабирования features_test---------------------------------')\n",
    "    display(features_test.agg(['min','max']))\n",
    "\n",
    "      \n",
    "    return (features_train, features_test, target_train, target_test)"
   ]
  },
  {
   "cell_type": "markdown",
   "metadata": {},
   "source": [
    "### Разделим данные на обучающую и тестовую выборки."
   ]
  },
  {
   "cell_type": "code",
   "execution_count": 140,
   "metadata": {},
   "outputs": [
    {
     "name": "stdout",
     "output_type": "stream",
     "text": [
      "Размер поступивщих данных: (282159, 15)\n",
      "Размер данных после удаления временных столбцов: (282159, 12)\n",
      "Столбцы с категориальными признаками : ['vehicle_type', 'gearbox', 'model', 'fuel_type', 'brand', 'not_repaired']\n",
      "Размер данных после кодирования столбцов с категориальными признаками: (282159, 12)\n",
      "Размер features: (282159, 11)\n",
      "Размер target: 282159\n",
      "Размер обучающей features выборки: (211619, 11)\n",
      "Размер тестовой features выборки: (70540, 11)\n",
      "Размер обучающей target выборки: 211619\n",
      "Размер тестовой target выборки: 70540\n",
      "Столбцы подлежащие масштабированию: ['registration_year', 'power', 'kilometer', 'registration_month', 'postal_code']\n",
      "\n",
      "--------------------------------Результат масштабирования features_train-------------------------------\n"
     ]
    },
    {
     "data": {
      "text/html": [
       "<div>\n",
       "<style scoped>\n",
       "    .dataframe tbody tr th:only-of-type {\n",
       "        vertical-align: middle;\n",
       "    }\n",
       "\n",
       "    .dataframe tbody tr th {\n",
       "        vertical-align: top;\n",
       "    }\n",
       "\n",
       "    .dataframe thead th {\n",
       "        text-align: right;\n",
       "    }\n",
       "</style>\n",
       "<table border=\"1\" class=\"dataframe\">\n",
       "  <thead>\n",
       "    <tr style=\"text-align: right;\">\n",
       "      <th></th>\n",
       "      <th>vehicle_type</th>\n",
       "      <th>registration_year</th>\n",
       "      <th>gearbox</th>\n",
       "      <th>power</th>\n",
       "      <th>model</th>\n",
       "      <th>kilometer</th>\n",
       "      <th>registration_month</th>\n",
       "      <th>fuel_type</th>\n",
       "      <th>brand</th>\n",
       "      <th>not_repaired</th>\n",
       "      <th>postal_code</th>\n",
       "    </tr>\n",
       "  </thead>\n",
       "  <tbody>\n",
       "    <tr>\n",
       "      <th>min</th>\n",
       "      <td>1</td>\n",
       "      <td>-6.927264</td>\n",
       "      <td>1</td>\n",
       "      <td>-2.304552</td>\n",
       "      <td>1</td>\n",
       "      <td>-3.383083</td>\n",
       "      <td>-1.701963</td>\n",
       "      <td>1</td>\n",
       "      <td>1</td>\n",
       "      <td>1</td>\n",
       "      <td>-1.950897</td>\n",
       "    </tr>\n",
       "    <tr>\n",
       "      <th>max</th>\n",
       "      <td>9</td>\n",
       "      <td>2.107356</td>\n",
       "      <td>3</td>\n",
       "      <td>7.241783</td>\n",
       "      <td>249</td>\n",
       "      <td>0.592418</td>\n",
       "      <td>1.672840</td>\n",
       "      <td>8</td>\n",
       "      <td>39</td>\n",
       "      <td>3</td>\n",
       "      <td>1.888792</td>\n",
       "    </tr>\n",
       "  </tbody>\n",
       "</table>\n",
       "</div>"
      ],
      "text/plain": [
       "     vehicle_type  registration_year  gearbox     power  model  kilometer  \\\n",
       "min             1          -6.927264        1 -2.304552      1  -3.383083   \n",
       "max             9           2.107356        3  7.241783    249   0.592418   \n",
       "\n",
       "     registration_month  fuel_type  brand  not_repaired  postal_code  \n",
       "min           -1.701963          1      1             1    -1.950897  \n",
       "max            1.672840          8     39             3     1.888792  "
      ]
     },
     "metadata": {},
     "output_type": "display_data"
    },
    {
     "name": "stdout",
     "output_type": "stream",
     "text": [
      "\n",
      "--------------------------------Результат масштабирования features_test---------------------------------\n"
     ]
    },
    {
     "data": {
      "text/html": [
       "<div>\n",
       "<style scoped>\n",
       "    .dataframe tbody tr th:only-of-type {\n",
       "        vertical-align: middle;\n",
       "    }\n",
       "\n",
       "    .dataframe tbody tr th {\n",
       "        vertical-align: top;\n",
       "    }\n",
       "\n",
       "    .dataframe thead th {\n",
       "        text-align: right;\n",
       "    }\n",
       "</style>\n",
       "<table border=\"1\" class=\"dataframe\">\n",
       "  <thead>\n",
       "    <tr style=\"text-align: right;\">\n",
       "      <th></th>\n",
       "      <th>vehicle_type</th>\n",
       "      <th>registration_year</th>\n",
       "      <th>gearbox</th>\n",
       "      <th>power</th>\n",
       "      <th>model</th>\n",
       "      <th>kilometer</th>\n",
       "      <th>registration_month</th>\n",
       "      <th>fuel_type</th>\n",
       "      <th>brand</th>\n",
       "      <th>not_repaired</th>\n",
       "      <th>postal_code</th>\n",
       "    </tr>\n",
       "  </thead>\n",
       "  <tbody>\n",
       "    <tr>\n",
       "      <th>min</th>\n",
       "      <td>1</td>\n",
       "      <td>-6.927264</td>\n",
       "      <td>1</td>\n",
       "      <td>-2.304552</td>\n",
       "      <td>1</td>\n",
       "      <td>-3.383083</td>\n",
       "      <td>-1.701963</td>\n",
       "      <td>1</td>\n",
       "      <td>1</td>\n",
       "      <td>1</td>\n",
       "      <td>-1.950897</td>\n",
       "    </tr>\n",
       "    <tr>\n",
       "      <th>max</th>\n",
       "      <td>9</td>\n",
       "      <td>2.107356</td>\n",
       "      <td>3</td>\n",
       "      <td>7.241783</td>\n",
       "      <td>249</td>\n",
       "      <td>0.592418</td>\n",
       "      <td>1.672840</td>\n",
       "      <td>8</td>\n",
       "      <td>39</td>\n",
       "      <td>3</td>\n",
       "      <td>1.888792</td>\n",
       "    </tr>\n",
       "  </tbody>\n",
       "</table>\n",
       "</div>"
      ],
      "text/plain": [
       "     vehicle_type  registration_year  gearbox     power  model  kilometer  \\\n",
       "min             1          -6.927264        1 -2.304552      1  -3.383083   \n",
       "max             9           2.107356        3  7.241783    249   0.592418   \n",
       "\n",
       "     registration_month  fuel_type  brand  not_repaired  postal_code  \n",
       "min           -1.701963          1      1             1    -1.950897  \n",
       "max            1.672840          8     39             3     1.888792  "
      ]
     },
     "metadata": {},
     "output_type": "display_data"
    }
   ],
   "source": [
    "features_train, features_test, target_train, target_test = splitting(df)"
   ]
  },
  {
   "cell_type": "markdown",
   "metadata": {},
   "source": [
    "### Напишем функцию расчета RMSE.\n"
   ]
  },
  {
   "cell_type": "code",
   "execution_count": 141,
   "metadata": {},
   "outputs": [],
   "source": [
    "def RMSE_fun(target, predictions):\n",
    "    result = mean_squared_error(target, predictions) ** 0.5\n",
    "    return result"
   ]
  },
  {
   "cell_type": "markdown",
   "metadata": {},
   "source": [
    "### Напишем функцию подбора гиперпераметров для модели методом GridSearch с кросс-валидацией (cv=5) по обучающей выборке и фиксацией времени обучения и предсказания."
   ]
  },
  {
   "cell_type": "code",
   "execution_count": 142,
   "metadata": {},
   "outputs": [],
   "source": [
    "def search_best_parameters(model, param):\n",
    "    start_time = timeit.default_timer()\n",
    "    search = GridSearchCV(model\n",
    "                            , param_grid = param\n",
    "                            , cv=5\n",
    "                            , scoring = make_scorer(RMSE_fun, greater_is_better=False)\n",
    "                            , n_jobs=-1)\n",
    "    \n",
    "    warnings.filterwarnings(\"ignore\", category=FutureWarning)\n",
    "    search.fit(features_train,target_train)\n",
    "    \n",
    "    elapsed_first = round(timeit.default_timer() - start_time, 3)\n",
    "    start_time = timeit.default_timer()\n",
    "    predict = search.predict(features_test)\n",
    "    elapsed_second = round(timeit.default_timer() - start_time, 3)\n",
    "    result = round(RMSE_fun(target_test, predict), 0)\n",
    "    print('Время обучения:', elapsed_first)\n",
    "    print('Время предсказания:', elapsed_second)\n",
    "    print('RMSE:', result)\n",
    "    print('Лучшие гиперпараметры:', search.best_params_)\n",
    "    return result, elapsed_first, elapsed_second\n",
    "    \n"
   ]
  },
  {
   "cell_type": "markdown",
   "metadata": {},
   "source": [
    "### Создадим модели DecisionTreeRegressor,  RandomForestRegressor, CatBoostRegressor, LighGBMRegressor и константную модель со средним предсказанием, подберем лучшие параметры, обучим и получим предсказания с расчетом RMSE и временем этих операций."
   ]
  },
  {
   "cell_type": "markdown",
   "metadata": {},
   "source": [
    "Далее, для более быстрого обучения моделей, всего по одному или двух гиперпараметров подбираются лучшие. Добиться чуть лучших результатов по RMSE можно, если выбрать большой перечень гиперпараметров для GridSearch, но время поиска лучшей комбинации этих гиперпараметров и обучения модели окажется значительно долгим. В данном проекте основной целью является не поиск оптимальных гиперпараметров, а исследование скорости работы моделей обучения и качество моделей."
   ]
  },
  {
   "cell_type": "markdown",
   "metadata": {},
   "source": [
    "#### Модель DecisionTreeRegressor "
   ]
  },
  {
   "cell_type": "code",
   "execution_count": 143,
   "metadata": {},
   "outputs": [
    {
     "name": "stdout",
     "output_type": "stream",
     "text": [
      "Время обучения: 14.246\n",
      "Время предсказания: 0.011\n",
      "RMSE: 2030.0\n",
      "Лучшие гиперпараметры: {'max_depth': 9}\n"
     ]
    }
   ],
   "source": [
    "decision_tree = DecisionTreeRegressor(random_state=2)\n",
    "param = {'max_depth':range (3,10)}\n",
    "best_decision_tree = search_best_parameters(decision_tree, param)"
   ]
  },
  {
   "cell_type": "markdown",
   "metadata": {},
   "source": [
    "#### Модель RandomForestRegressor "
   ]
  },
  {
   "cell_type": "code",
   "execution_count": 144,
   "metadata": {},
   "outputs": [
    {
     "name": "stdout",
     "output_type": "stream",
     "text": [
      "Время обучения: 3151.547\n",
      "Время предсказания: 0.856\n",
      "RMSE: 1605.0\n",
      "Лучшие гиперпараметры: {'max_depth': 15, 'n_estimators': 60}\n",
      "(1605.0, 3151.547, 0.856)\n"
     ]
    }
   ],
   "source": [
    "random_forest = RandomForestRegressor(random_state=2)\n",
    "param = {'n_estimators':range(45, 65, 5), 'max_depth':range (10,16)}\n",
    "best_random_forest = search_best_parameters(random_forest, param)\n",
    "print(best_random_forest)"
   ]
  },
  {
   "cell_type": "markdown",
   "metadata": {},
   "source": [
    "#### Модель CatBoostRegressor"
   ]
  },
  {
   "cell_type": "code",
   "execution_count": 145,
   "metadata": {},
   "outputs": [
    {
     "name": "stdout",
     "output_type": "stream",
     "text": [
      "Время обучения: 159.518\n",
      "Время предсказания: 0.033\n",
      "RMSE: 1645.0\n",
      "Лучшие гиперпараметры: {'learning_rate': 0.1, 'max_depth': 10, 'n_estimators': 100}\n",
      "(1645.0, 159.518, 0.033)\n"
     ]
    }
   ],
   "source": [
    "catboost = CatBoostRegressor(random_state=2, silent=True)\n",
    "param = {'n_estimators': [80,90,100], 'max_depth': [8,10], 'learning_rate': [0.1]}\n",
    "best_catboost = search_best_parameters(catboost, param)\n",
    "print(best_catboost)"
   ]
  },
  {
   "cell_type": "markdown",
   "metadata": {},
   "source": [
    "#### Модель LightGBMRegressor"
   ]
  },
  {
   "cell_type": "code",
   "execution_count": 146,
   "metadata": {},
   "outputs": [
    {
     "name": "stdout",
     "output_type": "stream",
     "text": [
      "Время обучения: 111.489\n",
      "Время предсказания: 0.602\n",
      "RMSE: 1660.0\n",
      "Лучшие гиперпараметры: {'learning_rate': 0.1, 'max_depth': 12, 'n_estimators': 90}\n",
      "(1660.0, 111.489, 0.602)\n"
     ]
    }
   ],
   "source": [
    "light_gbm = LGBMRegressor(random_state=2)\n",
    "param = {'n_estimators': [80,90], 'max_depth': [10,12], 'learning_rate': [0.1]}\n",
    "best_light_gbm = search_best_parameters(light_gbm, param)\n",
    "print(best_light_gbm)"
   ]
  },
  {
   "cell_type": "markdown",
   "metadata": {},
   "source": [
    "#### Константная модель (проверка на адекватность)"
   ]
  },
  {
   "cell_type": "code",
   "execution_count": 147,
   "metadata": {},
   "outputs": [
    {
     "name": "stdout",
     "output_type": "stream",
     "text": [
      "Время обучения: 18.668\n",
      "Время предсказания: 0.001\n",
      "RMSE: 4635.0\n"
     ]
    }
   ],
   "source": [
    "start_time = timeit.default_timer()\n",
    "predictions_mean = pd.Series([target_train.mean() for i in range(len(target_test))])\n",
    "elapsed_first = round(timeit.default_timer() - start_time, 3)\n",
    "start_time = timeit.default_timer()\n",
    "result = round(RMSE_fun(target_test, predictions_mean), 0)\n",
    "elapsed_second = round(timeit.default_timer() - start_time, 3)\n",
    "const_model = result, elapsed_first, elapsed_second\n",
    "print('Время обучения:', elapsed_first)\n",
    "print('Время предсказания:', elapsed_second)\n",
    "print('RMSE:', result)"
   ]
  },
  {
   "cell_type": "markdown",
   "metadata": {},
   "source": [
    "Большое значение RMSE = 4635 (даже в 2,5 больше чем для линейной регрессии) для константной модели говорит об адекватности наших моделей обучения."
   ]
  },
  {
   "cell_type": "markdown",
   "metadata": {},
   "source": [
    "### **Вывод:**\n",
    "* Написали функцию разделения данных на обучающую и тестовую выборки в отношении 3:1 c преобразованием категориальных признаков и масштабированием данных\n",
    "* Разделили данные на обучающую и тестовую выборки.\n",
    "* Написали функцию подбора гиперпераметров для модели методом GridSearch с кросс-валидацией (cv=5) по обучающей выборке и фиксацией времени обучения и предсказания.\n",
    "* Создали модели DecisionTreeRegressor,  RandomForestRegressor, CatBoostRegressor, LighGBMRegressor и константную модель со средним предсказанием, подобрали лучшие параметры, обучили и получим предсказания с расчетом RMSE и временем этих операций:\n",
    " * Модель DecisionTreeRegressor:\n",
    "   * Время обучения: 13.024\n",
    "   * Время предсказания: 0.01\n",
    "   * RMSE: 2030.0\n",
    " * Модель RandomForestRegressor:\n",
    "   * Время обучения: 2565.514\n",
    "   * Время предсказания: 0.742\n",
    "   * RMSE: 1605.0\n",
    " * Модель CatBoostRegressor:\n",
    "   * Время обучения: 132.693\n",
    "   * Время предсказания: 0.026\n",
    "   * RMSE: 1645.0\n",
    " * Модель LightGBMRegressor:\n",
    "   * Время обучения: 87.422\n",
    "   * Время предсказания: 0.508\n",
    "   * RMSE: 1660.0\n",
    " * Константная модель:\n",
    "   * Время обучения: 16.447\n",
    "   * Время предсказания: 0.001\n",
    "   * RMSE: 4635.0\n"
   ]
  },
  {
   "cell_type": "markdown",
   "metadata": {},
   "source": [
    "## Анализ моделей"
   ]
  },
  {
   "cell_type": "markdown",
   "metadata": {},
   "source": [
    "Для анализа моделей соберем все результаты в таблицу"
   ]
  },
  {
   "cell_type": "code",
   "execution_count": 148,
   "metadata": {},
   "outputs": [
    {
     "data": {
      "text/html": [
       "<div>\n",
       "<style scoped>\n",
       "    .dataframe tbody tr th:only-of-type {\n",
       "        vertical-align: middle;\n",
       "    }\n",
       "\n",
       "    .dataframe tbody tr th {\n",
       "        vertical-align: top;\n",
       "    }\n",
       "\n",
       "    .dataframe thead th {\n",
       "        text-align: right;\n",
       "    }\n",
       "</style>\n",
       "<table border=\"1\" class=\"dataframe\">\n",
       "  <thead>\n",
       "    <tr style=\"text-align: right;\">\n",
       "      <th></th>\n",
       "      <th>RMSE</th>\n",
       "      <th>Время обучения</th>\n",
       "      <th>Время предсказания</th>\n",
       "    </tr>\n",
       "  </thead>\n",
       "  <tbody>\n",
       "    <tr>\n",
       "      <th>Модель RandomForestRegressor</th>\n",
       "      <td>1605.0</td>\n",
       "      <td>3151.547</td>\n",
       "      <td>0.856</td>\n",
       "    </tr>\n",
       "    <tr>\n",
       "      <th>Модель CatBoostRegressor</th>\n",
       "      <td>1645.0</td>\n",
       "      <td>159.518</td>\n",
       "      <td>0.033</td>\n",
       "    </tr>\n",
       "    <tr>\n",
       "      <th>Модель LightGBMRegressor</th>\n",
       "      <td>1660.0</td>\n",
       "      <td>111.489</td>\n",
       "      <td>0.602</td>\n",
       "    </tr>\n",
       "    <tr>\n",
       "      <th>Модель DecisionTreeRegressor</th>\n",
       "      <td>2030.0</td>\n",
       "      <td>14.246</td>\n",
       "      <td>0.011</td>\n",
       "    </tr>\n",
       "    <tr>\n",
       "      <th>Константная модель</th>\n",
       "      <td>4635.0</td>\n",
       "      <td>18.668</td>\n",
       "      <td>0.001</td>\n",
       "    </tr>\n",
       "  </tbody>\n",
       "</table>\n",
       "</div>"
      ],
      "text/plain": [
       "                                RMSE  Время обучения  Время предсказания\n",
       "Модель RandomForestRegressor  1605.0        3151.547               0.856\n",
       "Модель CatBoostRegressor      1645.0         159.518               0.033\n",
       "Модель LightGBMRegressor      1660.0         111.489               0.602\n",
       "Модель DecisionTreeRegressor  2030.0          14.246               0.011\n",
       "Константная модель            4635.0          18.668               0.001"
      ]
     },
     "metadata": {},
     "output_type": "display_data"
    }
   ],
   "source": [
    "report = (pd.DataFrame([best_decision_tree\n",
    "                                , best_random_forest\n",
    "                                , best_catboost\n",
    "                                , best_light_gbm\n",
    "                                , const_model],\n",
    "                      index = ['Модель DecisionTreeRegressor'\n",
    "                                   ,'Модель RandomForestRegressor'\n",
    "                                   ,'Модель CatBoostRegressor'\n",
    "                                   ,'Модель LightGBMRegressor'\n",
    "                                   ,'Константная модель'], \n",
    "                     columns = ['RMSE', 'Время обучения', 'Время предсказания']))\\\n",
    "                                .sort_values(by='RMSE', ascending=True)\n",
    "\n",
    "display(report)"
   ]
  },
  {
   "cell_type": "markdown",
   "metadata": {},
   "source": [
    "### **Вывод:**\n",
    "* По качеству моделей лучшими оказались: \n",
    " * Модель RandomForestRegressor\n",
    " * Модель CatBoostRegressor\n",
    " * Модель LightGBMRegressor\n",
    "\n",
    "* при этом Модель RandomForestRegressor имеет огромное время обучения.  Модель CatBoostRegressor и Модель LightGBMRegressor в десятки раз быстрее.\n",
    "* Худшая модель по качеству — это Модель DecisionTreeRegressor, если не брать во внимание константную модель конечно. Но она и самая быстрая.\n",
    "* Если учитывать и качество модели, и скорость предсказания, то абсолютным фаворитом будут модели градиентного бустинга.\n",
    "* Предсказание по сравнению с обучением проходит практически моментально.\n",
    "* Для сервиса «Не бит, не крашен» рекомендуем использовать модели CatBoostRegressor или LightGBMRegressor"
   ]
  },
  {
   "cell_type": "markdown",
   "metadata": {},
   "source": [
    "## **Общий вывод:**\n",
    "* Получили в своем распоряжении исторические данные: технические характеристики, комплектации и цены автомобилей\n",
    "* Загрузили и подготовьте данные:\n",
    " * Обработали пропуски и аномалии.\n",
    " * В результате обработки данных осталось 80% строк\n",
    "* Написали функцию разделения данных на обучающую и тестовую выборки в отношении 3:1 c преобразованием категориальных признаков и масштабированием данных\n",
    "* Разделили данные на обучающую и тестовую выборки.\n",
    "* Написали функцию подбора гиперпераметров для модели методом GridSearch с кросс-валидацией (cv=5) по обучающей выборке и фиксацией времени обучения и предсказания.\n",
    "* Создали модели DecisionTreeRegressor,  RandomForestRegressor, CatBoostRegressor, LighGBMRegressor и константную модель со средним предсказанием, подобрали лучшие параметры, обучили и получим предсказания с расчетом RMSE и временем этих операций:\n",
    " * Модель DecisionTreeRegressor:\n",
    "   * Время обучения: 13.024\n",
    "   * Время предсказания: 0.01\n",
    "   * RMSE: 2030.0\n",
    " * Модель RandomForestRegressor:\n",
    "   * Время обучения: 2565.514\n",
    "   * Время предсказания: 0.742\n",
    "   * RMSE: 1605.0\n",
    " * Модель CatBoostRegressor:\n",
    "   * Время обучения: 132.693\n",
    "   * Время предсказания: 0.026\n",
    "   * RMSE: 1645.0\n",
    " * Модель LightGBMRegressor:\n",
    "   * Время обучения: 87.422\n",
    "   * Время предсказания: 0.508\n",
    "   * RMSE: 1660.0\n",
    " * Константная модель:\n",
    "   * Время обучения: 16.447\n",
    "   * Время предсказания: 0.001\n",
    "   * RMSE: 4635.0\n",
    "* По качеству моделей лучшими оказались: \n",
    " * Модель RandomForestRegressor\n",
    " * Модель CatBoostRegressor\n",
    " * Модель LightGBMRegressor\n",
    "\n",
    "* при этом Модель RandomForestRegressor имеет огромное время обучения.  Модель CatBoostRegressor и Модель LightGBMRegressor в десятки раз быстрее.\n",
    "* Худшая модель по качеству — это Модель DecisionTreeRegressor, если не брать во внимание константную модель конечно. Но она и самая быстрая.\n",
    "* Если учитывать и качество модели, и скорость предсказания, то абсолютным фаворитом будут модели градиентного бустинга.\n",
    "* Предсказание по сравнению с обучением проходит практически моментально.\n",
    "* __Для сервиса «Не бит, не крашен» рекомендуем использовать модели CatBoostRegressor или LightGBMRegressor__"
   ]
  }
 ],
 "metadata": {
  "ExecuteTimeLog": [
   {
    "duration": 43,
    "start_time": "2022-07-02T01:48:00.671Z"
   },
   {
    "duration": 384,
    "start_time": "2022-07-02T01:48:05.261Z"
   },
   {
    "duration": 1058,
    "start_time": "2022-07-02T01:48:05.647Z"
   },
   {
    "duration": 4,
    "start_time": "2022-07-02T01:59:03.157Z"
   },
   {
    "duration": 4,
    "start_time": "2022-07-02T02:02:14.497Z"
   },
   {
    "duration": 76,
    "start_time": "2022-07-02T02:18:45.024Z"
   },
   {
    "duration": 2,
    "start_time": "2022-07-02T02:18:59.083Z"
   },
   {
    "duration": 835,
    "start_time": "2022-07-02T02:18:59.088Z"
   },
   {
    "duration": 3,
    "start_time": "2022-07-02T02:18:59.925Z"
   },
   {
    "duration": 9,
    "start_time": "2022-07-02T02:18:59.930Z"
   },
   {
    "duration": 50,
    "start_time": "2022-07-02T02:18:59.951Z"
   },
   {
    "duration": 4,
    "start_time": "2022-07-02T02:21:50.385Z"
   },
   {
    "duration": 95,
    "start_time": "2022-07-02T02:23:33.040Z"
   },
   {
    "duration": 94,
    "start_time": "2022-07-02T02:30:10.040Z"
   },
   {
    "duration": 93,
    "start_time": "2022-07-02T02:32:45.417Z"
   },
   {
    "duration": 429,
    "start_time": "2022-07-02T18:35:41.420Z"
   },
   {
    "duration": 1550,
    "start_time": "2022-07-02T18:35:41.850Z"
   },
   {
    "duration": 4,
    "start_time": "2022-07-02T18:35:43.401Z"
   },
   {
    "duration": 10,
    "start_time": "2022-07-02T18:35:43.408Z"
   },
   {
    "duration": 5,
    "start_time": "2022-07-02T18:35:43.426Z"
   },
   {
    "duration": 141,
    "start_time": "2022-07-02T18:35:43.432Z"
   },
   {
    "duration": 134,
    "start_time": "2022-07-02T18:35:43.575Z"
   },
   {
    "duration": 282,
    "start_time": "2022-07-02T18:35:43.711Z"
   },
   {
    "duration": 3,
    "start_time": "2022-07-02T18:36:48.299Z"
   },
   {
    "duration": 951,
    "start_time": "2022-07-02T18:36:48.304Z"
   },
   {
    "duration": 3,
    "start_time": "2022-07-02T18:36:49.257Z"
   },
   {
    "duration": 14,
    "start_time": "2022-07-02T18:36:49.262Z"
   },
   {
    "duration": 9,
    "start_time": "2022-07-02T18:36:49.278Z"
   },
   {
    "duration": 139,
    "start_time": "2022-07-02T18:36:49.288Z"
   },
   {
    "duration": 139,
    "start_time": "2022-07-02T18:36:49.429Z"
   },
   {
    "duration": 142,
    "start_time": "2022-07-02T18:36:49.569Z"
   },
   {
    "duration": 115,
    "start_time": "2022-07-02T18:37:46.293Z"
   },
   {
    "duration": 3,
    "start_time": "2022-07-02T18:38:06.651Z"
   },
   {
    "duration": 977,
    "start_time": "2022-07-02T18:38:06.656Z"
   },
   {
    "duration": 3,
    "start_time": "2022-07-02T18:38:07.635Z"
   },
   {
    "duration": 11,
    "start_time": "2022-07-02T18:38:07.639Z"
   },
   {
    "duration": 13,
    "start_time": "2022-07-02T18:38:07.653Z"
   },
   {
    "duration": 134,
    "start_time": "2022-07-02T18:38:07.668Z"
   },
   {
    "duration": 137,
    "start_time": "2022-07-02T18:38:07.804Z"
   },
   {
    "duration": 7,
    "start_time": "2022-07-02T18:38:07.942Z"
   },
   {
    "duration": 23,
    "start_time": "2022-07-02T18:38:29.718Z"
   },
   {
    "duration": 3,
    "start_time": "2022-07-02T18:39:41.893Z"
   },
   {
    "duration": 182,
    "start_time": "2022-07-02T18:39:47.516Z"
   },
   {
    "duration": 227,
    "start_time": "2022-07-02T18:40:07.744Z"
   },
   {
    "duration": 3,
    "start_time": "2022-07-02T18:40:53.940Z"
   },
   {
    "duration": 940,
    "start_time": "2022-07-02T18:40:53.945Z"
   },
   {
    "duration": 3,
    "start_time": "2022-07-02T18:40:54.887Z"
   },
   {
    "duration": 9,
    "start_time": "2022-07-02T18:40:54.891Z"
   },
   {
    "duration": 8,
    "start_time": "2022-07-02T18:40:54.901Z"
   },
   {
    "duration": 136,
    "start_time": "2022-07-02T18:40:54.910Z"
   },
   {
    "duration": 132,
    "start_time": "2022-07-02T18:40:55.048Z"
   },
   {
    "duration": 215,
    "start_time": "2022-07-02T18:40:55.182Z"
   },
   {
    "duration": 186,
    "start_time": "2022-07-02T18:44:10.758Z"
   },
   {
    "duration": 331,
    "start_time": "2022-07-02T18:44:57.775Z"
   },
   {
    "duration": 3,
    "start_time": "2022-07-02T19:05:00.951Z"
   },
   {
    "duration": 1508,
    "start_time": "2022-07-02T19:05:00.958Z"
   },
   {
    "duration": 5,
    "start_time": "2022-07-02T19:05:02.469Z"
   },
   {
    "duration": 19,
    "start_time": "2022-07-02T19:05:02.475Z"
   },
   {
    "duration": 11,
    "start_time": "2022-07-02T19:05:02.497Z"
   },
   {
    "duration": 200,
    "start_time": "2022-07-02T19:05:02.510Z"
   },
   {
    "duration": 194,
    "start_time": "2022-07-02T19:05:02.713Z"
   },
   {
    "duration": 438,
    "start_time": "2022-07-02T19:05:02.909Z"
   },
   {
    "duration": 31,
    "start_time": "2022-07-02T19:52:14.075Z"
   },
   {
    "duration": 32,
    "start_time": "2022-07-02T19:56:15.838Z"
   },
   {
    "duration": 35,
    "start_time": "2022-07-02T19:58:00.833Z"
   },
   {
    "duration": 30,
    "start_time": "2022-07-02T19:59:32.654Z"
   },
   {
    "duration": 961,
    "start_time": "2022-07-02T20:02:39.916Z"
   },
   {
    "duration": 57691,
    "start_time": "2022-07-02T20:05:23.275Z"
   },
   {
    "duration": 134,
    "start_time": "2022-07-02T20:15:01.387Z"
   },
   {
    "duration": 768,
    "start_time": "2022-07-02T20:16:18.086Z"
   },
   {
    "duration": 641,
    "start_time": "2022-07-02T20:16:44.952Z"
   },
   {
    "duration": 2447,
    "start_time": "2022-07-02T20:17:25.379Z"
   },
   {
    "duration": 770,
    "start_time": "2022-07-02T20:17:36.400Z"
   },
   {
    "duration": 113,
    "start_time": "2022-07-02T20:20:49.052Z"
   },
   {
    "duration": 74,
    "start_time": "2022-07-02T20:25:47.529Z"
   },
   {
    "duration": 109,
    "start_time": "2022-07-02T20:26:49.430Z"
   },
   {
    "duration": 36,
    "start_time": "2022-07-02T21:07:20.091Z"
   },
   {
    "duration": 14,
    "start_time": "2022-07-02T21:08:31.362Z"
   },
   {
    "duration": 22,
    "start_time": "2022-07-02T21:09:19.388Z"
   },
   {
    "duration": 52,
    "start_time": "2022-07-02T21:27:53.521Z"
   },
   {
    "duration": 60,
    "start_time": "2022-07-02T21:28:50.431Z"
   },
   {
    "duration": 66,
    "start_time": "2022-07-02T21:29:00.502Z"
   },
   {
    "duration": 63,
    "start_time": "2022-07-02T21:29:19.646Z"
   },
   {
    "duration": 58,
    "start_time": "2022-07-02T21:30:01.100Z"
   },
   {
    "duration": 3,
    "start_time": "2022-07-03T00:47:48.690Z"
   },
   {
    "duration": 918,
    "start_time": "2022-07-03T00:47:48.697Z"
   },
   {
    "duration": 9,
    "start_time": "2022-07-03T00:47:49.617Z"
   },
   {
    "duration": 6,
    "start_time": "2022-07-03T00:47:49.627Z"
   },
   {
    "duration": 6,
    "start_time": "2022-07-03T00:47:49.635Z"
   },
   {
    "duration": 128,
    "start_time": "2022-07-03T00:47:49.642Z"
   },
   {
    "duration": 123,
    "start_time": "2022-07-03T00:47:49.771Z"
   },
   {
    "duration": 301,
    "start_time": "2022-07-03T00:47:49.896Z"
   },
   {
    "duration": 33,
    "start_time": "2022-07-03T00:47:50.199Z"
   },
   {
    "duration": 36,
    "start_time": "2022-07-03T00:47:50.234Z"
   },
   {
    "duration": 38,
    "start_time": "2022-07-03T00:47:50.277Z"
   },
   {
    "duration": 33,
    "start_time": "2022-07-03T00:47:50.317Z"
   },
   {
    "duration": 51,
    "start_time": "2022-07-03T00:47:50.352Z"
   },
   {
    "duration": 119,
    "start_time": "2022-07-03T01:12:04.976Z"
   },
   {
    "duration": 357,
    "start_time": "2022-07-03T01:12:13.827Z"
   },
   {
    "duration": 967,
    "start_time": "2022-07-03T01:12:14.186Z"
   },
   {
    "duration": 4,
    "start_time": "2022-07-03T01:12:15.154Z"
   },
   {
    "duration": 9,
    "start_time": "2022-07-03T01:12:15.161Z"
   },
   {
    "duration": 8,
    "start_time": "2022-07-03T01:12:15.172Z"
   },
   {
    "duration": 138,
    "start_time": "2022-07-03T01:12:15.181Z"
   },
   {
    "duration": 128,
    "start_time": "2022-07-03T01:12:15.320Z"
   },
   {
    "duration": 310,
    "start_time": "2022-07-03T01:12:15.450Z"
   },
   {
    "duration": 27,
    "start_time": "2022-07-03T01:12:15.762Z"
   },
   {
    "duration": 40,
    "start_time": "2022-07-03T01:12:15.792Z"
   },
   {
    "duration": 32,
    "start_time": "2022-07-03T01:12:15.834Z"
   },
   {
    "duration": 34,
    "start_time": "2022-07-03T01:12:15.868Z"
   },
   {
    "duration": 55,
    "start_time": "2022-07-03T01:12:15.904Z"
   },
   {
    "duration": 366,
    "start_time": "2022-07-03T01:12:15.961Z"
   },
   {
    "duration": 342,
    "start_time": "2022-07-03T01:15:08.052Z"
   },
   {
    "duration": 204,
    "start_time": "2022-07-03T01:20:12.365Z"
   },
   {
    "duration": 129,
    "start_time": "2022-07-03T01:20:33.072Z"
   },
   {
    "duration": 2983,
    "start_time": "2022-07-03T01:20:46.288Z"
   },
   {
    "duration": 6,
    "start_time": "2022-07-03T01:26:54.423Z"
   },
   {
    "duration": 5,
    "start_time": "2022-07-03T01:27:14.456Z"
   },
   {
    "duration": 36,
    "start_time": "2022-07-03T01:29:06.794Z"
   },
   {
    "duration": 52,
    "start_time": "2022-07-03T01:29:41.757Z"
   },
   {
    "duration": 50,
    "start_time": "2022-07-03T01:29:58.660Z"
   },
   {
    "duration": 14,
    "start_time": "2022-07-03T01:30:17.745Z"
   },
   {
    "duration": 51,
    "start_time": "2022-07-03T01:30:52.397Z"
   },
   {
    "duration": 52,
    "start_time": "2022-07-03T01:31:28.588Z"
   },
   {
    "duration": 54,
    "start_time": "2022-07-03T01:40:16.574Z"
   },
   {
    "duration": 46,
    "start_time": "2022-07-03T01:40:40.467Z"
   },
   {
    "duration": 4,
    "start_time": "2022-07-03T01:40:59.513Z"
   },
   {
    "duration": 84,
    "start_time": "2022-07-03T01:41:22.571Z"
   },
   {
    "duration": 299,
    "start_time": "2022-07-03T01:41:40.777Z"
   },
   {
    "duration": 76,
    "start_time": "2022-07-03T04:52:26.794Z"
   },
   {
    "duration": 80,
    "start_time": "2022-07-03T04:53:42.416Z"
   },
   {
    "duration": 78,
    "start_time": "2022-07-03T04:53:59.698Z"
   },
   {
    "duration": 82,
    "start_time": "2022-07-03T04:54:07.367Z"
   },
   {
    "duration": 81,
    "start_time": "2022-07-03T04:54:28.732Z"
   },
   {
    "duration": 4,
    "start_time": "2022-07-03T04:54:42.153Z"
   },
   {
    "duration": 949,
    "start_time": "2022-07-03T04:54:42.160Z"
   },
   {
    "duration": 3,
    "start_time": "2022-07-03T04:54:43.112Z"
   },
   {
    "duration": 4,
    "start_time": "2022-07-03T04:54:43.510Z"
   },
   {
    "duration": 9,
    "start_time": "2022-07-03T04:54:43.516Z"
   },
   {
    "duration": 350,
    "start_time": "2022-07-03T04:54:43.527Z"
   },
   {
    "duration": 89,
    "start_time": "2022-07-03T04:54:43.880Z"
   },
   {
    "duration": 101,
    "start_time": "2022-07-03T04:54:43.971Z"
   },
   {
    "duration": 82,
    "start_time": "2022-07-03T04:54:56.826Z"
   },
   {
    "duration": 87,
    "start_time": "2022-07-03T04:55:24.878Z"
   },
   {
    "duration": 96,
    "start_time": "2022-07-03T04:59:32.244Z"
   },
   {
    "duration": 98,
    "start_time": "2022-07-03T05:00:26.205Z"
   },
   {
    "duration": 91,
    "start_time": "2022-07-03T05:21:13.398Z"
   },
   {
    "duration": 3,
    "start_time": "2022-07-03T05:21:28.475Z"
   },
   {
    "duration": 827,
    "start_time": "2022-07-03T05:21:28.480Z"
   },
   {
    "duration": 3,
    "start_time": "2022-07-03T05:21:29.308Z"
   },
   {
    "duration": 15,
    "start_time": "2022-07-03T05:21:29.313Z"
   },
   {
    "duration": 6,
    "start_time": "2022-07-03T05:21:29.330Z"
   },
   {
    "duration": 336,
    "start_time": "2022-07-03T05:21:29.337Z"
   },
   {
    "duration": 87,
    "start_time": "2022-07-03T05:21:29.675Z"
   },
   {
    "duration": 92,
    "start_time": "2022-07-03T05:21:29.764Z"
   },
   {
    "duration": 93,
    "start_time": "2022-07-03T05:21:33.246Z"
   },
   {
    "duration": 81,
    "start_time": "2022-07-03T05:21:52.585Z"
   },
   {
    "duration": 85,
    "start_time": "2022-07-03T05:26:55.353Z"
   },
   {
    "duration": 86,
    "start_time": "2022-07-03T05:27:37.268Z"
   },
   {
    "duration": 84,
    "start_time": "2022-07-03T05:28:53.869Z"
   },
   {
    "duration": 85,
    "start_time": "2022-07-03T05:29:56.185Z"
   },
   {
    "duration": 88,
    "start_time": "2022-07-03T05:30:13.209Z"
   },
   {
    "duration": 1645,
    "start_time": "2022-07-03T14:36:33.474Z"
   },
   {
    "duration": 3308,
    "start_time": "2022-07-03T14:36:35.121Z"
   },
   {
    "duration": 4,
    "start_time": "2022-07-03T14:36:38.432Z"
   },
   {
    "duration": 7,
    "start_time": "2022-07-03T14:36:38.442Z"
   },
   {
    "duration": 10,
    "start_time": "2022-07-03T14:36:38.451Z"
   },
   {
    "duration": 435,
    "start_time": "2022-07-03T14:36:38.463Z"
   },
   {
    "duration": 117,
    "start_time": "2022-07-03T14:36:38.901Z"
   },
   {
    "duration": 88,
    "start_time": "2022-07-03T14:36:39.021Z"
   },
   {
    "duration": 88,
    "start_time": "2022-07-03T14:36:42.020Z"
   },
   {
    "duration": 348,
    "start_time": "2022-07-03T14:48:22.327Z"
   },
   {
    "duration": 81,
    "start_time": "2022-07-03T14:49:41.980Z"
   },
   {
    "duration": 84,
    "start_time": "2022-07-03T14:49:58.660Z"
   },
   {
    "duration": 83,
    "start_time": "2022-07-03T14:50:43.156Z"
   },
   {
    "duration": 3423,
    "start_time": "2022-07-03T14:50:57.971Z"
   },
   {
    "duration": 198,
    "start_time": "2022-07-03T14:51:18.094Z"
   },
   {
    "duration": 213,
    "start_time": "2022-07-03T14:51:35.701Z"
   },
   {
    "duration": 3,
    "start_time": "2022-07-03T14:52:04.828Z"
   },
   {
    "duration": 964,
    "start_time": "2022-07-03T14:52:04.833Z"
   },
   {
    "duration": 4,
    "start_time": "2022-07-03T14:52:05.799Z"
   },
   {
    "duration": 6,
    "start_time": "2022-07-03T14:52:05.804Z"
   },
   {
    "duration": 9,
    "start_time": "2022-07-03T14:52:05.812Z"
   },
   {
    "duration": 347,
    "start_time": "2022-07-03T14:52:05.822Z"
   },
   {
    "duration": 84,
    "start_time": "2022-07-03T14:52:06.171Z"
   },
   {
    "duration": 95,
    "start_time": "2022-07-03T14:52:06.257Z"
   },
   {
    "duration": 236,
    "start_time": "2022-07-03T14:52:09.807Z"
   },
   {
    "duration": 1475,
    "start_time": "2022-07-03T14:54:07.728Z"
   },
   {
    "duration": 3198,
    "start_time": "2022-07-03T14:54:09.205Z"
   },
   {
    "duration": 3,
    "start_time": "2022-07-03T14:54:12.405Z"
   },
   {
    "duration": 8,
    "start_time": "2022-07-03T14:54:12.410Z"
   },
   {
    "duration": 6,
    "start_time": "2022-07-03T14:54:12.420Z"
   },
   {
    "duration": 408,
    "start_time": "2022-07-03T14:54:12.427Z"
   },
   {
    "duration": 75,
    "start_time": "2022-07-03T14:54:12.837Z"
   },
   {
    "duration": 87,
    "start_time": "2022-07-03T14:54:12.914Z"
   },
   {
    "duration": 54,
    "start_time": "2022-07-03T14:54:50.779Z"
   },
   {
    "duration": 1419,
    "start_time": "2022-07-03T14:55:28.102Z"
   },
   {
    "duration": 3162,
    "start_time": "2022-07-03T14:55:29.523Z"
   },
   {
    "duration": 4,
    "start_time": "2022-07-03T14:55:32.687Z"
   },
   {
    "duration": 16,
    "start_time": "2022-07-03T14:55:32.692Z"
   },
   {
    "duration": 7,
    "start_time": "2022-07-03T14:55:32.710Z"
   },
   {
    "duration": 361,
    "start_time": "2022-07-03T14:55:32.719Z"
   },
   {
    "duration": 75,
    "start_time": "2022-07-03T14:55:33.082Z"
   },
   {
    "duration": 84,
    "start_time": "2022-07-03T14:55:33.158Z"
   },
   {
    "duration": 51,
    "start_time": "2022-07-03T14:57:23.921Z"
   },
   {
    "duration": 1420,
    "start_time": "2022-07-03T14:57:28.101Z"
   },
   {
    "duration": 3211,
    "start_time": "2022-07-03T14:57:29.523Z"
   },
   {
    "duration": 6,
    "start_time": "2022-07-03T14:57:32.736Z"
   },
   {
    "duration": 8,
    "start_time": "2022-07-03T14:57:32.744Z"
   },
   {
    "duration": 9,
    "start_time": "2022-07-03T14:57:32.753Z"
   },
   {
    "duration": 391,
    "start_time": "2022-07-03T14:57:32.764Z"
   },
   {
    "duration": 73,
    "start_time": "2022-07-03T14:57:33.156Z"
   },
   {
    "duration": 84,
    "start_time": "2022-07-03T14:57:33.231Z"
   },
   {
    "duration": 156,
    "start_time": "2022-07-03T14:57:35.892Z"
   },
   {
    "duration": 270,
    "start_time": "2022-07-03T15:08:12.734Z"
   },
   {
    "duration": 156,
    "start_time": "2022-07-03T15:11:10.837Z"
   },
   {
    "duration": 167,
    "start_time": "2022-07-03T15:11:28.215Z"
   },
   {
    "duration": 146,
    "start_time": "2022-07-03T15:12:24.456Z"
   },
   {
    "duration": 4,
    "start_time": "2022-07-03T15:13:40.104Z"
   },
   {
    "duration": 154,
    "start_time": "2022-07-03T15:14:05.281Z"
   },
   {
    "duration": 3,
    "start_time": "2022-07-03T15:32:03.852Z"
   },
   {
    "duration": 950,
    "start_time": "2022-07-03T15:32:03.859Z"
   },
   {
    "duration": 4,
    "start_time": "2022-07-03T15:32:04.812Z"
   },
   {
    "duration": 10,
    "start_time": "2022-07-03T15:32:04.817Z"
   },
   {
    "duration": 15,
    "start_time": "2022-07-03T15:32:04.829Z"
   },
   {
    "duration": 330,
    "start_time": "2022-07-03T15:32:04.846Z"
   },
   {
    "duration": 83,
    "start_time": "2022-07-03T15:32:05.178Z"
   },
   {
    "duration": 85,
    "start_time": "2022-07-03T15:32:05.263Z"
   },
   {
    "duration": 28986,
    "start_time": "2022-07-03T15:32:37.197Z"
   },
   {
    "duration": 212,
    "start_time": "2022-07-03T15:37:18.554Z"
   },
   {
    "duration": 261,
    "start_time": "2022-07-03T15:38:35.982Z"
   },
   {
    "duration": 14,
    "start_time": "2022-07-03T15:40:25.644Z"
   },
   {
    "duration": 243,
    "start_time": "2022-07-03T15:41:43.049Z"
   },
   {
    "duration": 3,
    "start_time": "2022-07-03T15:42:05.387Z"
   },
   {
    "duration": 933,
    "start_time": "2022-07-03T15:42:05.391Z"
   },
   {
    "duration": 4,
    "start_time": "2022-07-03T15:42:06.326Z"
   },
   {
    "duration": 6,
    "start_time": "2022-07-03T15:42:06.341Z"
   },
   {
    "duration": 8,
    "start_time": "2022-07-03T15:42:06.349Z"
   },
   {
    "duration": 365,
    "start_time": "2022-07-03T15:42:06.359Z"
   },
   {
    "duration": 95,
    "start_time": "2022-07-03T15:42:06.726Z"
   },
   {
    "duration": 91,
    "start_time": "2022-07-03T15:42:06.824Z"
   },
   {
    "duration": 254,
    "start_time": "2022-07-03T15:42:06.917Z"
   },
   {
    "duration": 3,
    "start_time": "2022-07-03T15:43:50.086Z"
   },
   {
    "duration": 891,
    "start_time": "2022-07-03T15:43:50.093Z"
   },
   {
    "duration": 4,
    "start_time": "2022-07-03T15:43:50.986Z"
   },
   {
    "duration": 8,
    "start_time": "2022-07-03T15:43:50.991Z"
   },
   {
    "duration": 8,
    "start_time": "2022-07-03T15:43:51.001Z"
   },
   {
    "duration": 337,
    "start_time": "2022-07-03T15:43:51.010Z"
   },
   {
    "duration": 74,
    "start_time": "2022-07-03T15:43:51.349Z"
   },
   {
    "duration": 89,
    "start_time": "2022-07-03T15:43:51.425Z"
   },
   {
    "duration": 175,
    "start_time": "2022-07-03T15:43:51.516Z"
   },
   {
    "duration": 3,
    "start_time": "2022-07-03T15:46:51.918Z"
   },
   {
    "duration": 918,
    "start_time": "2022-07-03T15:46:51.940Z"
   },
   {
    "duration": 3,
    "start_time": "2022-07-03T15:46:52.860Z"
   },
   {
    "duration": 10,
    "start_time": "2022-07-03T15:46:52.865Z"
   },
   {
    "duration": 7,
    "start_time": "2022-07-03T15:46:52.877Z"
   },
   {
    "duration": 339,
    "start_time": "2022-07-03T15:46:52.886Z"
   },
   {
    "duration": 105,
    "start_time": "2022-07-03T15:46:53.227Z"
   },
   {
    "duration": 108,
    "start_time": "2022-07-03T15:46:53.342Z"
   },
   {
    "duration": 5,
    "start_time": "2022-07-03T15:46:53.452Z"
   },
   {
    "duration": 208,
    "start_time": "2022-07-03T15:47:03.081Z"
   },
   {
    "duration": 218,
    "start_time": "2022-07-03T15:50:44.743Z"
   },
   {
    "duration": 212,
    "start_time": "2022-07-03T15:53:25.257Z"
   },
   {
    "duration": 252,
    "start_time": "2022-07-03T16:07:31.113Z"
   },
   {
    "duration": 232,
    "start_time": "2022-07-03T16:08:56.984Z"
   },
   {
    "duration": 82,
    "start_time": "2022-07-03T16:10:55.349Z"
   },
   {
    "duration": 222,
    "start_time": "2022-07-03T16:11:01.404Z"
   },
   {
    "duration": 229,
    "start_time": "2022-07-03T16:11:33.452Z"
   },
   {
    "duration": 246,
    "start_time": "2022-07-03T16:12:07.946Z"
   },
   {
    "duration": 3,
    "start_time": "2022-07-03T16:21:37.118Z"
   },
   {
    "duration": 940,
    "start_time": "2022-07-03T16:21:37.124Z"
   },
   {
    "duration": 4,
    "start_time": "2022-07-03T16:21:38.067Z"
   },
   {
    "duration": 15,
    "start_time": "2022-07-03T16:21:38.073Z"
   },
   {
    "duration": 17,
    "start_time": "2022-07-03T16:21:38.089Z"
   },
   {
    "duration": 382,
    "start_time": "2022-07-03T16:21:38.109Z"
   },
   {
    "duration": 81,
    "start_time": "2022-07-03T16:21:38.494Z"
   },
   {
    "duration": 85,
    "start_time": "2022-07-03T16:21:38.576Z"
   },
   {
    "duration": 260,
    "start_time": "2022-07-03T16:21:38.663Z"
   },
   {
    "duration": 302,
    "start_time": "2022-07-03T16:30:16.781Z"
   },
   {
    "duration": 227,
    "start_time": "2022-07-03T16:33:48.086Z"
   },
   {
    "duration": 238,
    "start_time": "2022-07-03T16:41:29.155Z"
   },
   {
    "duration": 89,
    "start_time": "2022-07-03T17:02:16.100Z"
   },
   {
    "duration": 5,
    "start_time": "2022-07-03T17:02:30.454Z"
   },
   {
    "duration": 228,
    "start_time": "2022-07-03T17:02:33.382Z"
   },
   {
    "duration": 85,
    "start_time": "2022-07-03T17:18:25.031Z"
   },
   {
    "duration": 236,
    "start_time": "2022-07-03T17:18:25.999Z"
   },
   {
    "duration": 6,
    "start_time": "2022-07-03T17:19:06.417Z"
   },
   {
    "duration": 222,
    "start_time": "2022-07-03T17:19:07.080Z"
   },
   {
    "duration": 5,
    "start_time": "2022-07-03T17:53:32.320Z"
   },
   {
    "duration": 213,
    "start_time": "2022-07-03T17:53:33.298Z"
   },
   {
    "duration": 6,
    "start_time": "2022-07-03T17:54:43.794Z"
   },
   {
    "duration": 203,
    "start_time": "2022-07-03T17:54:45.060Z"
   },
   {
    "duration": 6,
    "start_time": "2022-07-03T18:05:11.655Z"
   },
   {
    "duration": 188,
    "start_time": "2022-07-03T18:05:12.231Z"
   },
   {
    "duration": 5,
    "start_time": "2022-07-03T18:07:22.501Z"
   },
   {
    "duration": 131,
    "start_time": "2022-07-03T18:07:23.249Z"
   },
   {
    "duration": 197,
    "start_time": "2022-07-03T18:08:10.620Z"
   },
   {
    "duration": 5,
    "start_time": "2022-07-03T18:12:49.220Z"
   },
   {
    "duration": 139,
    "start_time": "2022-07-03T18:12:49.954Z"
   },
   {
    "duration": 6,
    "start_time": "2022-07-03T18:14:47.749Z"
   },
   {
    "duration": 218,
    "start_time": "2022-07-03T18:14:48.608Z"
   },
   {
    "duration": 5,
    "start_time": "2022-07-03T18:15:24.357Z"
   },
   {
    "duration": 14,
    "start_time": "2022-07-03T18:15:25.190Z"
   },
   {
    "duration": 13,
    "start_time": "2022-07-03T18:15:57.266Z"
   },
   {
    "duration": 8,
    "start_time": "2022-07-03T18:16:05.254Z"
   },
   {
    "duration": 16,
    "start_time": "2022-07-03T18:16:05.851Z"
   },
   {
    "duration": 14,
    "start_time": "2022-07-03T18:16:40.850Z"
   },
   {
    "duration": 6,
    "start_time": "2022-07-03T18:17:20.704Z"
   },
   {
    "duration": 23,
    "start_time": "2022-07-03T18:17:21.421Z"
   },
   {
    "duration": 3,
    "start_time": "2022-07-03T18:17:42.849Z"
   },
   {
    "duration": 872,
    "start_time": "2022-07-03T18:17:42.856Z"
   },
   {
    "duration": 4,
    "start_time": "2022-07-03T18:17:43.730Z"
   },
   {
    "duration": 4,
    "start_time": "2022-07-03T18:17:43.742Z"
   },
   {
    "duration": 6,
    "start_time": "2022-07-03T18:17:43.748Z"
   },
   {
    "duration": 342,
    "start_time": "2022-07-03T18:17:43.757Z"
   },
   {
    "duration": 78,
    "start_time": "2022-07-03T18:17:44.101Z"
   },
   {
    "duration": 85,
    "start_time": "2022-07-03T18:17:44.181Z"
   },
   {
    "duration": 6,
    "start_time": "2022-07-03T18:17:44.267Z"
   },
   {
    "duration": 6,
    "start_time": "2022-07-03T18:17:45.916Z"
   },
   {
    "duration": 228,
    "start_time": "2022-07-03T18:17:47.550Z"
   },
   {
    "duration": 7,
    "start_time": "2022-07-03T18:18:55.520Z"
   },
   {
    "duration": 225,
    "start_time": "2022-07-03T18:18:56.128Z"
   },
   {
    "duration": 5,
    "start_time": "2022-07-03T18:22:16.129Z"
   },
   {
    "duration": 214,
    "start_time": "2022-07-03T18:22:17.155Z"
   },
   {
    "duration": 6,
    "start_time": "2022-07-03T18:23:32.750Z"
   },
   {
    "duration": 228,
    "start_time": "2022-07-03T18:23:33.755Z"
   },
   {
    "duration": 880,
    "start_time": "2022-07-03T18:31:23.010Z"
   },
   {
    "duration": 128,
    "start_time": "2022-07-03T18:31:25.471Z"
   },
   {
    "duration": 4,
    "start_time": "2022-07-03T18:31:57.775Z"
   },
   {
    "duration": 1054,
    "start_time": "2022-07-03T18:31:57.783Z"
   },
   {
    "duration": 10,
    "start_time": "2022-07-03T18:31:58.839Z"
   },
   {
    "duration": 22,
    "start_time": "2022-07-03T18:31:58.851Z"
   },
   {
    "duration": 9,
    "start_time": "2022-07-03T18:31:58.875Z"
   },
   {
    "duration": 386,
    "start_time": "2022-07-03T18:31:58.886Z"
   },
   {
    "duration": 96,
    "start_time": "2022-07-03T18:31:59.274Z"
   },
   {
    "duration": 97,
    "start_time": "2022-07-03T18:31:59.372Z"
   },
   {
    "duration": 9,
    "start_time": "2022-07-03T18:33:42.234Z"
   },
   {
    "duration": 293,
    "start_time": "2022-07-03T18:33:43.553Z"
   },
   {
    "duration": 264,
    "start_time": "2022-07-03T18:34:49.750Z"
   },
   {
    "duration": 6,
    "start_time": "2022-07-03T18:42:50.767Z"
   },
   {
    "duration": 339,
    "start_time": "2022-07-03T18:42:51.864Z"
   },
   {
    "duration": 3,
    "start_time": "2022-07-03T18:43:19.945Z"
   },
   {
    "duration": 883,
    "start_time": "2022-07-03T18:43:19.953Z"
   },
   {
    "duration": 3,
    "start_time": "2022-07-03T18:43:20.842Z"
   },
   {
    "duration": 8,
    "start_time": "2022-07-03T18:43:20.847Z"
   },
   {
    "duration": 6,
    "start_time": "2022-07-03T18:43:20.857Z"
   },
   {
    "duration": 325,
    "start_time": "2022-07-03T18:43:20.864Z"
   },
   {
    "duration": 79,
    "start_time": "2022-07-03T18:43:21.191Z"
   },
   {
    "duration": 84,
    "start_time": "2022-07-03T18:43:21.272Z"
   },
   {
    "duration": 7,
    "start_time": "2022-07-03T18:43:21.357Z"
   },
   {
    "duration": 8,
    "start_time": "2022-07-03T18:43:24.050Z"
   },
   {
    "duration": 241,
    "start_time": "2022-07-03T18:43:26.794Z"
   },
   {
    "duration": 3,
    "start_time": "2022-07-03T18:57:41.881Z"
   },
   {
    "duration": 849,
    "start_time": "2022-07-03T18:57:41.886Z"
   },
   {
    "duration": 6,
    "start_time": "2022-07-03T18:57:42.736Z"
   },
   {
    "duration": 8,
    "start_time": "2022-07-03T18:57:42.744Z"
   },
   {
    "duration": 5,
    "start_time": "2022-07-03T18:57:42.754Z"
   },
   {
    "duration": 323,
    "start_time": "2022-07-03T18:57:42.761Z"
   },
   {
    "duration": 76,
    "start_time": "2022-07-03T18:57:43.086Z"
   },
   {
    "duration": 82,
    "start_time": "2022-07-03T18:57:43.164Z"
   },
   {
    "duration": 6,
    "start_time": "2022-07-03T18:57:43.248Z"
   },
   {
    "duration": 6,
    "start_time": "2022-07-03T18:57:46.726Z"
   },
   {
    "duration": 117,
    "start_time": "2022-07-03T18:57:47.712Z"
   },
   {
    "duration": 308,
    "start_time": "2022-07-03T18:57:49.090Z"
   },
   {
    "duration": 6,
    "start_time": "2022-07-03T21:10:10.509Z"
   },
   {
    "duration": 130,
    "start_time": "2022-07-03T21:10:11.267Z"
   },
   {
    "duration": 309,
    "start_time": "2022-07-03T21:10:12.452Z"
   },
   {
    "duration": 3,
    "start_time": "2022-07-03T21:10:38.199Z"
   },
   {
    "duration": 852,
    "start_time": "2022-07-03T21:10:38.206Z"
   },
   {
    "duration": 3,
    "start_time": "2022-07-03T21:10:39.060Z"
   },
   {
    "duration": 8,
    "start_time": "2022-07-03T21:10:39.064Z"
   },
   {
    "duration": 11,
    "start_time": "2022-07-03T21:10:39.073Z"
   },
   {
    "duration": 322,
    "start_time": "2022-07-03T21:10:39.086Z"
   },
   {
    "duration": 83,
    "start_time": "2022-07-03T21:10:39.410Z"
   },
   {
    "duration": 86,
    "start_time": "2022-07-03T21:10:39.495Z"
   },
   {
    "duration": 9,
    "start_time": "2022-07-03T21:10:39.583Z"
   },
   {
    "duration": 137,
    "start_time": "2022-07-03T21:10:39.594Z"
   },
   {
    "duration": 363,
    "start_time": "2022-07-03T21:10:39.732Z"
   },
   {
    "duration": 321,
    "start_time": "2022-07-03T21:10:42.309Z"
   },
   {
    "duration": 6,
    "start_time": "2022-07-03T21:18:11.787Z"
   },
   {
    "duration": 136,
    "start_time": "2022-07-03T21:18:13.165Z"
   },
   {
    "duration": 8,
    "start_time": "2022-07-03T21:18:42.452Z"
   },
   {
    "duration": 137,
    "start_time": "2022-07-03T21:18:43.773Z"
   },
   {
    "duration": 324,
    "start_time": "2022-07-03T21:24:49.145Z"
   },
   {
    "duration": 75,
    "start_time": "2022-07-03T22:26:41.302Z"
   },
   {
    "duration": 3,
    "start_time": "2022-07-03T22:29:11.761Z"
   },
   {
    "duration": 889,
    "start_time": "2022-07-03T22:29:11.768Z"
   },
   {
    "duration": 4,
    "start_time": "2022-07-03T22:29:12.659Z"
   },
   {
    "duration": 8,
    "start_time": "2022-07-03T22:29:12.665Z"
   },
   {
    "duration": 5,
    "start_time": "2022-07-03T22:29:12.675Z"
   },
   {
    "duration": 335,
    "start_time": "2022-07-03T22:29:12.682Z"
   },
   {
    "duration": 77,
    "start_time": "2022-07-03T22:29:13.018Z"
   },
   {
    "duration": 79,
    "start_time": "2022-07-03T22:29:13.097Z"
   },
   {
    "duration": 7,
    "start_time": "2022-07-03T22:29:13.178Z"
   },
   {
    "duration": 141,
    "start_time": "2022-07-03T22:29:13.186Z"
   },
   {
    "duration": 338,
    "start_time": "2022-07-03T22:29:16.715Z"
   },
   {
    "duration": 71,
    "start_time": "2022-07-03T22:29:22.995Z"
   },
   {
    "duration": 2,
    "start_time": "2022-07-04T00:19:17.981Z"
   },
   {
    "duration": 857,
    "start_time": "2022-07-04T00:19:17.987Z"
   },
   {
    "duration": 3,
    "start_time": "2022-07-04T00:19:18.846Z"
   },
   {
    "duration": 7,
    "start_time": "2022-07-04T00:19:18.851Z"
   },
   {
    "duration": 6,
    "start_time": "2022-07-04T00:19:18.860Z"
   },
   {
    "duration": 328,
    "start_time": "2022-07-04T00:19:18.868Z"
   },
   {
    "duration": 77,
    "start_time": "2022-07-04T00:19:19.197Z"
   },
   {
    "duration": 85,
    "start_time": "2022-07-04T00:19:19.276Z"
   },
   {
    "duration": 7,
    "start_time": "2022-07-04T00:19:19.363Z"
   },
   {
    "duration": 139,
    "start_time": "2022-07-04T00:19:19.372Z"
   },
   {
    "duration": 336,
    "start_time": "2022-07-04T00:19:19.514Z"
   },
   {
    "duration": 73,
    "start_time": "2022-07-04T00:19:19.852Z"
   },
   {
    "duration": 46,
    "start_time": "2022-07-04T00:19:19.941Z"
   },
   {
    "duration": 43,
    "start_time": "2022-07-04T00:19:43.573Z"
   },
   {
    "duration": 122,
    "start_time": "2022-07-04T00:25:30.304Z"
   },
   {
    "duration": 27,
    "start_time": "2022-07-04T00:28:27.673Z"
   },
   {
    "duration": 28,
    "start_time": "2022-07-04T00:30:09.772Z"
   },
   {
    "duration": 3,
    "start_time": "2022-07-04T00:30:25.677Z"
   },
   {
    "duration": 831,
    "start_time": "2022-07-04T00:30:25.685Z"
   },
   {
    "duration": 3,
    "start_time": "2022-07-04T00:30:26.518Z"
   },
   {
    "duration": 8,
    "start_time": "2022-07-04T00:30:26.522Z"
   },
   {
    "duration": 15,
    "start_time": "2022-07-04T00:30:26.531Z"
   },
   {
    "duration": 338,
    "start_time": "2022-07-04T00:30:26.547Z"
   },
   {
    "duration": 80,
    "start_time": "2022-07-04T00:30:26.886Z"
   },
   {
    "duration": 83,
    "start_time": "2022-07-04T00:30:26.969Z"
   },
   {
    "duration": 7,
    "start_time": "2022-07-04T00:30:27.054Z"
   },
   {
    "duration": 130,
    "start_time": "2022-07-04T00:30:27.062Z"
   },
   {
    "duration": 339,
    "start_time": "2022-07-04T00:30:27.193Z"
   },
   {
    "duration": 72,
    "start_time": "2022-07-04T00:30:27.534Z"
   },
   {
    "duration": 50,
    "start_time": "2022-07-04T00:30:27.608Z"
   },
   {
    "duration": 121,
    "start_time": "2022-07-04T00:30:27.659Z"
   },
   {
    "duration": 26,
    "start_time": "2022-07-04T00:30:29.931Z"
   },
   {
    "duration": 8,
    "start_time": "2022-07-04T00:46:32.911Z"
   },
   {
    "duration": 8,
    "start_time": "2022-07-04T00:49:44.905Z"
   },
   {
    "duration": 7,
    "start_time": "2022-07-04T00:49:51.889Z"
   },
   {
    "duration": 31,
    "start_time": "2022-07-04T00:56:15.559Z"
   },
   {
    "duration": 88,
    "start_time": "2022-07-04T00:57:50.689Z"
   },
   {
    "duration": 73,
    "start_time": "2022-07-04T00:59:45.923Z"
   },
   {
    "duration": 143,
    "start_time": "2022-07-04T01:00:06.273Z"
   },
   {
    "duration": 4,
    "start_time": "2022-07-04T01:01:23.821Z"
   },
   {
    "duration": 863,
    "start_time": "2022-07-04T01:01:23.826Z"
   },
   {
    "duration": 4,
    "start_time": "2022-07-04T01:01:24.690Z"
   },
   {
    "duration": 8,
    "start_time": "2022-07-04T01:01:24.696Z"
   },
   {
    "duration": 14,
    "start_time": "2022-07-04T01:01:24.707Z"
   },
   {
    "duration": 333,
    "start_time": "2022-07-04T01:01:24.723Z"
   },
   {
    "duration": 73,
    "start_time": "2022-07-04T01:01:25.057Z"
   },
   {
    "duration": 75,
    "start_time": "2022-07-04T01:01:25.141Z"
   },
   {
    "duration": 7,
    "start_time": "2022-07-04T01:01:25.218Z"
   },
   {
    "duration": 154,
    "start_time": "2022-07-04T01:01:25.226Z"
   },
   {
    "duration": 337,
    "start_time": "2022-07-04T01:01:25.382Z"
   },
   {
    "duration": 80,
    "start_time": "2022-07-04T01:01:25.720Z"
   },
   {
    "duration": 52,
    "start_time": "2022-07-04T01:01:25.801Z"
   },
   {
    "duration": 121,
    "start_time": "2022-07-04T01:01:25.855Z"
   },
   {
    "duration": 28,
    "start_time": "2022-07-04T01:01:25.977Z"
   },
   {
    "duration": 45,
    "start_time": "2022-07-04T01:01:26.007Z"
   },
   {
    "duration": 33,
    "start_time": "2022-07-04T01:01:26.054Z"
   },
   {
    "duration": 31,
    "start_time": "2022-07-04T01:01:26.089Z"
   },
   {
    "duration": 39,
    "start_time": "2022-07-04T01:01:26.121Z"
   },
   {
    "duration": 47,
    "start_time": "2022-07-04T01:01:26.162Z"
   },
   {
    "duration": 43,
    "start_time": "2022-07-04T01:01:26.211Z"
   },
   {
    "duration": 32,
    "start_time": "2022-07-04T01:01:29.038Z"
   },
   {
    "duration": 162,
    "start_time": "2022-07-04T01:01:30.955Z"
   },
   {
    "duration": 106,
    "start_time": "2022-07-04T01:04:50.969Z"
   },
   {
    "duration": 67,
    "start_time": "2022-07-04T01:05:06.387Z"
   },
   {
    "duration": 65,
    "start_time": "2022-07-04T01:05:13.268Z"
   },
   {
    "duration": 135,
    "start_time": "2022-07-04T01:05:43.468Z"
   },
   {
    "duration": 12,
    "start_time": "2022-07-04T01:05:57.323Z"
   },
   {
    "duration": 119,
    "start_time": "2022-07-04T01:06:04.657Z"
   },
   {
    "duration": 39,
    "start_time": "2022-07-04T01:08:59.488Z"
   },
   {
    "duration": 38,
    "start_time": "2022-07-04T01:09:12.704Z"
   },
   {
    "duration": 3,
    "start_time": "2022-07-04T01:09:48.610Z"
   },
   {
    "duration": 835,
    "start_time": "2022-07-04T01:09:48.617Z"
   },
   {
    "duration": 3,
    "start_time": "2022-07-04T01:09:49.455Z"
   },
   {
    "duration": 7,
    "start_time": "2022-07-04T01:09:49.460Z"
   },
   {
    "duration": 6,
    "start_time": "2022-07-04T01:09:49.469Z"
   },
   {
    "duration": 332,
    "start_time": "2022-07-04T01:09:49.477Z"
   },
   {
    "duration": 78,
    "start_time": "2022-07-04T01:09:49.810Z"
   },
   {
    "duration": 88,
    "start_time": "2022-07-04T01:09:49.890Z"
   },
   {
    "duration": 7,
    "start_time": "2022-07-04T01:09:49.979Z"
   },
   {
    "duration": 157,
    "start_time": "2022-07-04T01:09:49.988Z"
   },
   {
    "duration": 347,
    "start_time": "2022-07-04T01:09:50.147Z"
   },
   {
    "duration": 80,
    "start_time": "2022-07-04T01:09:50.496Z"
   },
   {
    "duration": 43,
    "start_time": "2022-07-04T01:09:50.578Z"
   },
   {
    "duration": 134,
    "start_time": "2022-07-04T01:09:50.622Z"
   },
   {
    "duration": 28,
    "start_time": "2022-07-04T01:09:50.758Z"
   },
   {
    "duration": 32,
    "start_time": "2022-07-04T01:09:50.787Z"
   },
   {
    "duration": 44,
    "start_time": "2022-07-04T01:09:50.821Z"
   },
   {
    "duration": 29,
    "start_time": "2022-07-04T01:09:50.867Z"
   },
   {
    "duration": 29,
    "start_time": "2022-07-04T01:09:50.898Z"
   },
   {
    "duration": 55,
    "start_time": "2022-07-04T01:09:50.928Z"
   },
   {
    "duration": 30,
    "start_time": "2022-07-04T01:09:50.985Z"
   },
   {
    "duration": 42,
    "start_time": "2022-07-04T01:09:52.551Z"
   },
   {
    "duration": 39,
    "start_time": "2022-07-04T01:09:54.303Z"
   },
   {
    "duration": 10,
    "start_time": "2022-07-04T01:10:15.190Z"
   },
   {
    "duration": 66,
    "start_time": "2022-07-04T01:11:10.892Z"
   },
   {
    "duration": 35,
    "start_time": "2022-07-04T01:11:41.011Z"
   },
   {
    "duration": 38,
    "start_time": "2022-07-04T01:12:03.626Z"
   },
   {
    "duration": 178,
    "start_time": "2022-07-04T01:12:18.839Z"
   },
   {
    "duration": 38,
    "start_time": "2022-07-04T01:12:23.581Z"
   },
   {
    "duration": 38,
    "start_time": "2022-07-04T01:13:04.512Z"
   },
   {
    "duration": 218,
    "start_time": "2022-07-04T01:21:30.641Z"
   },
   {
    "duration": 153,
    "start_time": "2022-07-04T01:25:24.127Z"
   },
   {
    "duration": 47,
    "start_time": "2022-07-04T01:30:46.711Z"
   },
   {
    "duration": 46,
    "start_time": "2022-07-04T01:31:13.535Z"
   },
   {
    "duration": 61,
    "start_time": "2022-07-04T01:31:51.638Z"
   },
   {
    "duration": 84,
    "start_time": "2022-07-04T01:32:13.233Z"
   },
   {
    "duration": 85,
    "start_time": "2022-07-04T01:33:17.727Z"
   },
   {
    "duration": 314,
    "start_time": "2022-07-04T01:35:37.245Z"
   },
   {
    "duration": 38,
    "start_time": "2022-07-04T02:07:27.924Z"
   },
   {
    "duration": 47,
    "start_time": "2022-07-04T02:08:16.077Z"
   },
   {
    "duration": 19,
    "start_time": "2022-07-04T02:11:27.087Z"
   },
   {
    "duration": 17,
    "start_time": "2022-07-04T02:11:52.171Z"
   },
   {
    "duration": 49,
    "start_time": "2022-07-04T02:12:30.706Z"
   },
   {
    "duration": 17,
    "start_time": "2022-07-04T02:13:51.097Z"
   },
   {
    "duration": 49,
    "start_time": "2022-07-04T02:14:24.982Z"
   },
   {
    "duration": 18,
    "start_time": "2022-07-04T02:18:14.377Z"
   },
   {
    "duration": 1639,
    "start_time": "2022-07-04T15:29:03.011Z"
   },
   {
    "duration": 3094,
    "start_time": "2022-07-04T15:29:04.652Z"
   },
   {
    "duration": 4,
    "start_time": "2022-07-04T15:29:07.748Z"
   },
   {
    "duration": 7,
    "start_time": "2022-07-04T15:29:07.754Z"
   },
   {
    "duration": 12,
    "start_time": "2022-07-04T15:29:07.762Z"
   },
   {
    "duration": 406,
    "start_time": "2022-07-04T15:29:07.776Z"
   },
   {
    "duration": 79,
    "start_time": "2022-07-04T15:29:08.185Z"
   },
   {
    "duration": 87,
    "start_time": "2022-07-04T15:29:08.266Z"
   },
   {
    "duration": 7,
    "start_time": "2022-07-04T15:29:08.355Z"
   },
   {
    "duration": 155,
    "start_time": "2022-07-04T15:29:08.364Z"
   },
   {
    "duration": 367,
    "start_time": "2022-07-04T15:29:08.520Z"
   },
   {
    "duration": 77,
    "start_time": "2022-07-04T15:29:08.889Z"
   },
   {
    "duration": 41,
    "start_time": "2022-07-04T15:29:08.967Z"
   },
   {
    "duration": 132,
    "start_time": "2022-07-04T15:29:09.010Z"
   },
   {
    "duration": 25,
    "start_time": "2022-07-04T15:29:09.144Z"
   },
   {
    "duration": 54,
    "start_time": "2022-07-04T15:29:09.170Z"
   },
   {
    "duration": 20,
    "start_time": "2022-07-04T15:29:09.241Z"
   },
   {
    "duration": 49,
    "start_time": "2022-07-04T15:29:09.262Z"
   },
   {
    "duration": 76,
    "start_time": "2022-07-04T15:29:09.313Z"
   },
   {
    "duration": 0,
    "start_time": "2022-07-04T15:29:09.391Z"
   },
   {
    "duration": 0,
    "start_time": "2022-07-04T15:29:09.392Z"
   },
   {
    "duration": 0,
    "start_time": "2022-07-04T15:29:09.394Z"
   },
   {
    "duration": 0,
    "start_time": "2022-07-04T15:29:09.395Z"
   },
   {
    "duration": 3,
    "start_time": "2022-07-04T15:37:39.284Z"
   },
   {
    "duration": 986,
    "start_time": "2022-07-04T15:37:39.292Z"
   },
   {
    "duration": 5,
    "start_time": "2022-07-04T15:37:40.281Z"
   },
   {
    "duration": 8,
    "start_time": "2022-07-04T15:37:40.288Z"
   },
   {
    "duration": 6,
    "start_time": "2022-07-04T15:37:40.297Z"
   },
   {
    "duration": 395,
    "start_time": "2022-07-04T15:37:40.306Z"
   },
   {
    "duration": 89,
    "start_time": "2022-07-04T15:37:40.703Z"
   },
   {
    "duration": 94,
    "start_time": "2022-07-04T15:37:40.794Z"
   },
   {
    "duration": 8,
    "start_time": "2022-07-04T15:37:40.889Z"
   },
   {
    "duration": 175,
    "start_time": "2022-07-04T15:37:40.899Z"
   },
   {
    "duration": 377,
    "start_time": "2022-07-04T15:37:41.076Z"
   },
   {
    "duration": 139,
    "start_time": "2022-07-04T15:37:41.457Z"
   },
   {
    "duration": 81,
    "start_time": "2022-07-04T15:37:41.598Z"
   },
   {
    "duration": 136,
    "start_time": "2022-07-04T15:37:41.681Z"
   },
   {
    "duration": 44,
    "start_time": "2022-07-04T15:37:41.820Z"
   },
   {
    "duration": 53,
    "start_time": "2022-07-04T15:37:41.866Z"
   },
   {
    "duration": 45,
    "start_time": "2022-07-04T15:37:41.921Z"
   },
   {
    "duration": 59,
    "start_time": "2022-07-04T15:37:41.969Z"
   },
   {
    "duration": 140,
    "start_time": "2022-07-04T15:37:42.031Z"
   },
   {
    "duration": 0,
    "start_time": "2022-07-04T15:37:42.173Z"
   },
   {
    "duration": 0,
    "start_time": "2022-07-04T15:37:42.174Z"
   },
   {
    "duration": 0,
    "start_time": "2022-07-04T15:37:42.175Z"
   },
   {
    "duration": 1,
    "start_time": "2022-07-04T15:37:42.175Z"
   },
   {
    "duration": 94,
    "start_time": "2022-07-04T15:37:44.639Z"
   },
   {
    "duration": 22,
    "start_time": "2022-07-04T15:38:24.562Z"
   },
   {
    "duration": 59,
    "start_time": "2022-07-04T15:38:26.134Z"
   },
   {
    "duration": 89,
    "start_time": "2022-07-04T15:38:26.938Z"
   },
   {
    "duration": 18,
    "start_time": "2022-07-04T15:38:27.512Z"
   },
   {
    "duration": 98,
    "start_time": "2022-07-04T15:38:31.198Z"
   },
   {
    "duration": 27,
    "start_time": "2022-07-04T15:38:52.986Z"
   },
   {
    "duration": 99,
    "start_time": "2022-07-04T15:38:55.034Z"
   },
   {
    "duration": 21,
    "start_time": "2022-07-04T15:39:49.965Z"
   },
   {
    "duration": 89,
    "start_time": "2022-07-04T15:39:54.958Z"
   },
   {
    "duration": 359,
    "start_time": "2022-07-04T15:41:11.404Z"
   },
   {
    "duration": 214,
    "start_time": "2022-07-04T15:41:36.817Z"
   },
   {
    "duration": 192,
    "start_time": "2022-07-04T15:42:05.773Z"
   },
   {
    "duration": 292,
    "start_time": "2022-07-04T15:42:21.789Z"
   },
   {
    "duration": 269,
    "start_time": "2022-07-04T15:44:59.556Z"
   },
   {
    "duration": 261,
    "start_time": "2022-07-04T15:45:23.760Z"
   },
   {
    "duration": 280,
    "start_time": "2022-07-04T15:45:40.628Z"
   },
   {
    "duration": 348,
    "start_time": "2022-07-04T15:45:52.144Z"
   },
   {
    "duration": 356,
    "start_time": "2022-07-04T15:49:00.036Z"
   },
   {
    "duration": 351,
    "start_time": "2022-07-04T15:50:33.444Z"
   },
   {
    "duration": 337,
    "start_time": "2022-07-04T15:50:42.139Z"
   },
   {
    "duration": 424,
    "start_time": "2022-07-04T15:50:53.262Z"
   },
   {
    "duration": 320,
    "start_time": "2022-07-04T15:51:55.635Z"
   },
   {
    "duration": 425,
    "start_time": "2022-07-04T15:52:17.822Z"
   },
   {
    "duration": 428,
    "start_time": "2022-07-04T17:56:55.073Z"
   },
   {
    "duration": 369,
    "start_time": "2022-07-04T17:57:10.550Z"
   },
   {
    "duration": 452,
    "start_time": "2022-07-04T17:57:24.584Z"
   },
   {
    "duration": 575,
    "start_time": "2022-07-04T17:57:39.357Z"
   },
   {
    "duration": 464,
    "start_time": "2022-07-04T17:57:46.404Z"
   },
   {
    "duration": 555,
    "start_time": "2022-07-04T17:57:55.051Z"
   },
   {
    "duration": 564,
    "start_time": "2022-07-04T17:58:10.512Z"
   },
   {
    "duration": 721,
    "start_time": "2022-07-04T18:04:23.331Z"
   },
   {
    "duration": 644,
    "start_time": "2022-07-04T18:06:07.253Z"
   },
   {
    "duration": 674,
    "start_time": "2022-07-04T18:06:41.932Z"
   },
   {
    "duration": 83,
    "start_time": "2022-07-04T18:14:33.775Z"
   },
   {
    "duration": 11,
    "start_time": "2022-07-04T18:14:36.750Z"
   },
   {
    "duration": 4,
    "start_time": "2022-07-04T18:14:51.279Z"
   },
   {
    "duration": 702,
    "start_time": "2022-07-04T18:14:52.833Z"
   },
   {
    "duration": 5,
    "start_time": "2022-07-04T18:16:16.154Z"
   },
   {
    "duration": 702,
    "start_time": "2022-07-04T18:16:16.719Z"
   },
   {
    "duration": 6,
    "start_time": "2022-07-04T18:17:36.706Z"
   },
   {
    "duration": 543,
    "start_time": "2022-07-04T18:17:38.656Z"
   },
   {
    "duration": 4,
    "start_time": "2022-07-04T18:19:19.784Z"
   },
   {
    "duration": 563,
    "start_time": "2022-07-04T18:19:22.582Z"
   },
   {
    "duration": 4,
    "start_time": "2022-07-04T18:25:35.203Z"
   },
   {
    "duration": 796,
    "start_time": "2022-07-04T18:25:36.149Z"
   },
   {
    "duration": 7,
    "start_time": "2022-07-04T18:27:25.309Z"
   },
   {
    "duration": 564,
    "start_time": "2022-07-04T18:27:26.071Z"
   },
   {
    "duration": 47,
    "start_time": "2022-07-04T23:39:07.741Z"
   },
   {
    "duration": 1584,
    "start_time": "2022-07-04T23:39:15.445Z"
   },
   {
    "duration": 1448,
    "start_time": "2022-07-04T23:39:17.032Z"
   },
   {
    "duration": 3,
    "start_time": "2022-07-04T23:39:18.482Z"
   },
   {
    "duration": 17,
    "start_time": "2022-07-04T23:39:18.488Z"
   },
   {
    "duration": 21,
    "start_time": "2022-07-04T23:39:18.510Z"
   },
   {
    "duration": 353,
    "start_time": "2022-07-04T23:39:18.533Z"
   },
   {
    "duration": 103,
    "start_time": "2022-07-04T23:39:18.888Z"
   },
   {
    "duration": 90,
    "start_time": "2022-07-04T23:39:18.992Z"
   },
   {
    "duration": 26,
    "start_time": "2022-07-04T23:39:19.084Z"
   },
   {
    "duration": 195,
    "start_time": "2022-07-04T23:39:19.121Z"
   },
   {
    "duration": 408,
    "start_time": "2022-07-04T23:39:19.326Z"
   },
   {
    "duration": 117,
    "start_time": "2022-07-04T23:39:19.736Z"
   },
   {
    "duration": 75,
    "start_time": "2022-07-04T23:39:19.855Z"
   },
   {
    "duration": 155,
    "start_time": "2022-07-04T23:39:19.932Z"
   },
   {
    "duration": 34,
    "start_time": "2022-07-04T23:39:20.088Z"
   },
   {
    "duration": 24,
    "start_time": "2022-07-04T23:39:20.123Z"
   },
   {
    "duration": 48,
    "start_time": "2022-07-04T23:39:20.150Z"
   },
   {
    "duration": 24,
    "start_time": "2022-07-04T23:39:20.203Z"
   },
   {
    "duration": 81,
    "start_time": "2022-07-04T23:39:20.229Z"
   },
   {
    "duration": 22,
    "start_time": "2022-07-04T23:39:20.313Z"
   },
   {
    "duration": 68,
    "start_time": "2022-07-04T23:39:20.337Z"
   },
   {
    "duration": 27,
    "start_time": "2022-07-04T23:39:20.408Z"
   },
   {
    "duration": 114,
    "start_time": "2022-07-04T23:39:20.437Z"
   },
   {
    "duration": 4,
    "start_time": "2022-07-04T23:39:20.553Z"
   },
   {
    "duration": 606,
    "start_time": "2022-07-04T23:39:20.560Z"
   },
   {
    "duration": 0,
    "start_time": "2022-07-04T23:39:21.168Z"
   },
   {
    "duration": 47,
    "start_time": "2022-07-04T23:39:22.448Z"
   },
   {
    "duration": 4,
    "start_time": "2022-07-04T23:39:36.786Z"
   },
   {
    "duration": 673,
    "start_time": "2022-07-04T23:39:38.165Z"
   },
   {
    "duration": 66,
    "start_time": "2022-07-04T23:39:40.897Z"
   },
   {
    "duration": 1438,
    "start_time": "2022-07-04T23:39:50.101Z"
   },
   {
    "duration": 1035,
    "start_time": "2022-07-04T23:40:04.794Z"
   },
   {
    "duration": 46,
    "start_time": "2022-07-04T23:40:18.915Z"
   },
   {
    "duration": 34,
    "start_time": "2022-07-04T23:40:33.888Z"
   },
   {
    "duration": 49,
    "start_time": "2022-07-04T23:42:13.707Z"
   },
   {
    "duration": 61,
    "start_time": "2022-07-04T23:42:29.499Z"
   },
   {
    "duration": 51,
    "start_time": "2022-07-04T23:43:07.343Z"
   },
   {
    "duration": 13,
    "start_time": "2022-07-04T23:48:55.142Z"
   },
   {
    "duration": 227,
    "start_time": "2022-07-04T23:49:53.191Z"
   },
   {
    "duration": 157,
    "start_time": "2022-07-04T23:50:30.317Z"
   },
   {
    "duration": 316,
    "start_time": "2022-07-04T23:50:41.459Z"
   },
   {
    "duration": 353,
    "start_time": "2022-07-04T23:52:23.320Z"
   },
   {
    "duration": 49,
    "start_time": "2022-07-05T02:04:00.766Z"
   },
   {
    "duration": 1545,
    "start_time": "2022-07-05T02:04:05.996Z"
   },
   {
    "duration": 1405,
    "start_time": "2022-07-05T02:04:07.544Z"
   },
   {
    "duration": 3,
    "start_time": "2022-07-05T02:04:08.950Z"
   },
   {
    "duration": 6,
    "start_time": "2022-07-05T02:04:08.955Z"
   },
   {
    "duration": 5,
    "start_time": "2022-07-05T02:04:08.964Z"
   },
   {
    "duration": 406,
    "start_time": "2022-07-05T02:04:08.971Z"
   },
   {
    "duration": 82,
    "start_time": "2022-07-05T02:04:09.379Z"
   },
   {
    "duration": 89,
    "start_time": "2022-07-05T02:04:09.463Z"
   },
   {
    "duration": 6,
    "start_time": "2022-07-05T02:04:09.554Z"
   },
   {
    "duration": 154,
    "start_time": "2022-07-05T02:04:09.562Z"
   },
   {
    "duration": 337,
    "start_time": "2022-07-05T02:04:09.718Z"
   },
   {
    "duration": 86,
    "start_time": "2022-07-05T02:04:10.056Z"
   },
   {
    "duration": 37,
    "start_time": "2022-07-05T02:04:10.144Z"
   },
   {
    "duration": 143,
    "start_time": "2022-07-05T02:04:10.183Z"
   },
   {
    "duration": 24,
    "start_time": "2022-07-05T02:04:10.332Z"
   },
   {
    "duration": 21,
    "start_time": "2022-07-05T02:04:10.357Z"
   },
   {
    "duration": 58,
    "start_time": "2022-07-05T02:04:10.379Z"
   },
   {
    "duration": 16,
    "start_time": "2022-07-05T02:04:10.439Z"
   },
   {
    "duration": 59,
    "start_time": "2022-07-05T02:04:10.456Z"
   },
   {
    "duration": 22,
    "start_time": "2022-07-05T02:04:10.523Z"
   },
   {
    "duration": 44,
    "start_time": "2022-07-05T02:04:10.546Z"
   },
   {
    "duration": 56,
    "start_time": "2022-07-05T02:04:10.591Z"
   },
   {
    "duration": 97,
    "start_time": "2022-07-05T02:04:10.649Z"
   },
   {
    "duration": 3,
    "start_time": "2022-07-05T02:04:10.748Z"
   },
   {
    "duration": 538,
    "start_time": "2022-07-05T02:04:10.752Z"
   },
   {
    "duration": 577,
    "start_time": "2022-07-05T02:04:12.398Z"
   },
   {
    "duration": 147,
    "start_time": "2022-07-05T02:04:14.193Z"
   },
   {
    "duration": 245,
    "start_time": "2022-07-05T02:04:35.291Z"
   },
   {
    "duration": 158,
    "start_time": "2022-07-05T02:04:57.272Z"
   },
   {
    "duration": 291,
    "start_time": "2022-07-05T02:07:36.367Z"
   },
   {
    "duration": 191,
    "start_time": "2022-07-05T02:07:49.872Z"
   },
   {
    "duration": 187,
    "start_time": "2022-07-05T02:08:28.862Z"
   },
   {
    "duration": 0,
    "start_time": "2022-07-05T02:10:46.409Z"
   },
   {
    "duration": 3,
    "start_time": "2022-07-05T02:12:02.654Z"
   },
   {
    "duration": 871,
    "start_time": "2022-07-05T02:12:02.661Z"
   },
   {
    "duration": 3,
    "start_time": "2022-07-05T02:12:03.534Z"
   },
   {
    "duration": 13,
    "start_time": "2022-07-05T02:12:03.539Z"
   },
   {
    "duration": 7,
    "start_time": "2022-07-05T02:12:03.554Z"
   },
   {
    "duration": 315,
    "start_time": "2022-07-05T02:12:03.562Z"
   },
   {
    "duration": 97,
    "start_time": "2022-07-05T02:12:03.879Z"
   },
   {
    "duration": 91,
    "start_time": "2022-07-05T02:12:03.978Z"
   },
   {
    "duration": 7,
    "start_time": "2022-07-05T02:12:04.072Z"
   },
   {
    "duration": 149,
    "start_time": "2022-07-05T02:12:04.080Z"
   },
   {
    "duration": 364,
    "start_time": "2022-07-05T02:12:04.232Z"
   },
   {
    "duration": 75,
    "start_time": "2022-07-05T02:12:04.600Z"
   },
   {
    "duration": 59,
    "start_time": "2022-07-05T02:12:04.677Z"
   },
   {
    "duration": 128,
    "start_time": "2022-07-05T02:12:04.738Z"
   },
   {
    "duration": 25,
    "start_time": "2022-07-05T02:12:04.868Z"
   },
   {
    "duration": 36,
    "start_time": "2022-07-05T02:12:04.894Z"
   },
   {
    "duration": 46,
    "start_time": "2022-07-05T02:12:04.932Z"
   },
   {
    "duration": 40,
    "start_time": "2022-07-05T02:12:04.980Z"
   },
   {
    "duration": 55,
    "start_time": "2022-07-05T02:12:05.023Z"
   },
   {
    "duration": 36,
    "start_time": "2022-07-05T02:12:05.080Z"
   },
   {
    "duration": 57,
    "start_time": "2022-07-05T02:12:05.118Z"
   },
   {
    "duration": 32,
    "start_time": "2022-07-05T02:12:05.177Z"
   },
   {
    "duration": 116,
    "start_time": "2022-07-05T02:12:05.212Z"
   },
   {
    "duration": 4,
    "start_time": "2022-07-05T02:12:05.330Z"
   },
   {
    "duration": 580,
    "start_time": "2022-07-05T02:12:05.336Z"
   },
   {
    "duration": 31072,
    "start_time": "2022-07-05T02:12:33.682Z"
   },
   {
    "duration": 3,
    "start_time": "2022-07-05T02:17:46.544Z"
   },
   {
    "duration": 911,
    "start_time": "2022-07-05T02:17:46.549Z"
   },
   {
    "duration": 4,
    "start_time": "2022-07-05T02:17:47.462Z"
   },
   {
    "duration": 5,
    "start_time": "2022-07-05T02:17:47.469Z"
   },
   {
    "duration": 7,
    "start_time": "2022-07-05T02:17:47.476Z"
   },
   {
    "duration": 323,
    "start_time": "2022-07-05T02:17:47.506Z"
   },
   {
    "duration": 81,
    "start_time": "2022-07-05T02:17:47.831Z"
   },
   {
    "duration": 69,
    "start_time": "2022-07-05T02:17:47.914Z"
   },
   {
    "duration": 15,
    "start_time": "2022-07-05T02:17:47.986Z"
   },
   {
    "duration": 137,
    "start_time": "2022-07-05T02:17:48.010Z"
   },
   {
    "duration": 365,
    "start_time": "2022-07-05T02:17:48.148Z"
   },
   {
    "duration": 63,
    "start_time": "2022-07-05T02:17:48.516Z"
   },
   {
    "duration": 51,
    "start_time": "2022-07-05T02:17:48.581Z"
   },
   {
    "duration": 124,
    "start_time": "2022-07-05T02:17:48.634Z"
   },
   {
    "duration": 23,
    "start_time": "2022-07-05T02:17:48.760Z"
   },
   {
    "duration": 35,
    "start_time": "2022-07-05T02:17:48.784Z"
   },
   {
    "duration": 45,
    "start_time": "2022-07-05T02:17:48.821Z"
   },
   {
    "duration": 18,
    "start_time": "2022-07-05T02:17:48.867Z"
   },
   {
    "duration": 44,
    "start_time": "2022-07-05T02:17:48.911Z"
   },
   {
    "duration": 15,
    "start_time": "2022-07-05T02:17:48.957Z"
   },
   {
    "duration": 62,
    "start_time": "2022-07-05T02:17:48.973Z"
   },
   {
    "duration": 15,
    "start_time": "2022-07-05T02:17:49.037Z"
   },
   {
    "duration": 102,
    "start_time": "2022-07-05T02:17:49.053Z"
   },
   {
    "duration": 4,
    "start_time": "2022-07-05T02:17:49.158Z"
   },
   {
    "duration": 6,
    "start_time": "2022-07-05T02:19:19.341Z"
   },
   {
    "duration": 122,
    "start_time": "2022-07-05T02:19:22.468Z"
   },
   {
    "duration": 9,
    "start_time": "2022-07-05T02:19:32.202Z"
   },
   {
    "duration": 826,
    "start_time": "2022-07-05T02:19:32.389Z"
   },
   {
    "duration": 3,
    "start_time": "2022-07-05T02:19:33.217Z"
   },
   {
    "duration": 11,
    "start_time": "2022-07-05T02:19:33.221Z"
   },
   {
    "duration": 7,
    "start_time": "2022-07-05T02:19:33.233Z"
   },
   {
    "duration": 301,
    "start_time": "2022-07-05T02:19:33.241Z"
   },
   {
    "duration": 74,
    "start_time": "2022-07-05T02:19:33.543Z"
   },
   {
    "duration": 68,
    "start_time": "2022-07-05T02:19:33.618Z"
   },
   {
    "duration": 23,
    "start_time": "2022-07-05T02:19:33.688Z"
   },
   {
    "duration": 131,
    "start_time": "2022-07-05T02:19:33.713Z"
   },
   {
    "duration": 345,
    "start_time": "2022-07-05T02:19:33.846Z"
   },
   {
    "duration": 76,
    "start_time": "2022-07-05T02:19:34.193Z"
   },
   {
    "duration": 51,
    "start_time": "2022-07-05T02:19:34.270Z"
   },
   {
    "duration": 125,
    "start_time": "2022-07-05T02:19:34.323Z"
   },
   {
    "duration": 23,
    "start_time": "2022-07-05T02:19:34.451Z"
   },
   {
    "duration": 35,
    "start_time": "2022-07-05T02:19:34.476Z"
   },
   {
    "duration": 45,
    "start_time": "2022-07-05T02:19:34.512Z"
   },
   {
    "duration": 18,
    "start_time": "2022-07-05T02:19:34.560Z"
   },
   {
    "duration": 60,
    "start_time": "2022-07-05T02:19:34.579Z"
   },
   {
    "duration": 15,
    "start_time": "2022-07-05T02:19:34.640Z"
   },
   {
    "duration": 59,
    "start_time": "2022-07-05T02:19:34.657Z"
   },
   {
    "duration": 18,
    "start_time": "2022-07-05T02:19:34.717Z"
   },
   {
    "duration": 104,
    "start_time": "2022-07-05T02:19:34.736Z"
   },
   {
    "duration": 3,
    "start_time": "2022-07-05T02:19:34.842Z"
   },
   {
    "duration": 594,
    "start_time": "2022-07-05T02:19:34.847Z"
   },
   {
    "duration": 5219,
    "start_time": "2022-07-05T02:19:35.442Z"
   },
   {
    "duration": 0,
    "start_time": "2022-07-05T02:19:40.662Z"
   },
   {
    "duration": 0,
    "start_time": "2022-07-05T02:19:40.664Z"
   },
   {
    "duration": 0,
    "start_time": "2022-07-05T02:19:40.665Z"
   },
   {
    "duration": 0,
    "start_time": "2022-07-05T02:19:40.666Z"
   },
   {
    "duration": 0,
    "start_time": "2022-07-05T02:19:40.668Z"
   },
   {
    "duration": 0,
    "start_time": "2022-07-05T02:19:40.669Z"
   },
   {
    "duration": 0,
    "start_time": "2022-07-05T02:19:40.670Z"
   },
   {
    "duration": 0,
    "start_time": "2022-07-05T02:19:40.671Z"
   },
   {
    "duration": 3,
    "start_time": "2022-07-05T02:20:01.270Z"
   },
   {
    "duration": 872,
    "start_time": "2022-07-05T02:20:01.276Z"
   },
   {
    "duration": 3,
    "start_time": "2022-07-05T02:20:02.150Z"
   },
   {
    "duration": 11,
    "start_time": "2022-07-05T02:20:02.155Z"
   },
   {
    "duration": 44,
    "start_time": "2022-07-05T02:20:02.168Z"
   },
   {
    "duration": 302,
    "start_time": "2022-07-05T02:20:02.214Z"
   },
   {
    "duration": 68,
    "start_time": "2022-07-05T02:20:02.518Z"
   },
   {
    "duration": 86,
    "start_time": "2022-07-05T02:20:02.588Z"
   },
   {
    "duration": 8,
    "start_time": "2022-07-05T02:20:02.676Z"
   },
   {
    "duration": 141,
    "start_time": "2022-07-05T02:20:02.686Z"
   },
   {
    "duration": 313,
    "start_time": "2022-07-05T02:20:08.015Z"
   },
   {
    "duration": 13,
    "start_time": "2022-07-05T02:20:30.494Z"
   },
   {
    "duration": 118,
    "start_time": "2022-07-05T02:20:32.130Z"
   },
   {
    "duration": 313,
    "start_time": "2022-07-05T02:20:34.719Z"
   },
   {
    "duration": 7,
    "start_time": "2022-07-05T02:20:46.236Z"
   },
   {
    "duration": 142,
    "start_time": "2022-07-05T02:20:47.385Z"
   },
   {
    "duration": 327,
    "start_time": "2022-07-05T02:20:49.160Z"
   },
   {
    "duration": 8,
    "start_time": "2022-07-05T02:21:31.965Z"
   },
   {
    "duration": 158,
    "start_time": "2022-07-05T02:21:35.188Z"
   },
   {
    "duration": 362,
    "start_time": "2022-07-05T02:21:36.866Z"
   },
   {
    "duration": 84,
    "start_time": "2022-07-05T02:21:51.227Z"
   },
   {
    "duration": 43,
    "start_time": "2022-07-05T02:21:54.123Z"
   },
   {
    "duration": 109,
    "start_time": "2022-07-05T02:21:56.453Z"
   },
   {
    "duration": 29,
    "start_time": "2022-07-05T02:21:58.292Z"
   },
   {
    "duration": 17,
    "start_time": "2022-07-05T02:22:00.014Z"
   },
   {
    "duration": 47,
    "start_time": "2022-07-05T02:22:01.248Z"
   },
   {
    "duration": 17,
    "start_time": "2022-07-05T02:22:02.214Z"
   },
   {
    "duration": 44,
    "start_time": "2022-07-05T02:22:03.055Z"
   },
   {
    "duration": 23,
    "start_time": "2022-07-05T02:22:03.808Z"
   },
   {
    "duration": 54,
    "start_time": "2022-07-05T02:22:04.555Z"
   },
   {
    "duration": 21,
    "start_time": "2022-07-05T02:22:05.339Z"
   },
   {
    "duration": 83,
    "start_time": "2022-07-05T02:22:07.194Z"
   },
   {
    "duration": 330,
    "start_time": "2022-07-05T02:23:04.656Z"
   },
   {
    "duration": 3,
    "start_time": "2022-07-05T02:25:52.745Z"
   },
   {
    "duration": 774,
    "start_time": "2022-07-05T02:25:52.758Z"
   },
   {
    "duration": 3,
    "start_time": "2022-07-05T02:25:53.535Z"
   },
   {
    "duration": 12,
    "start_time": "2022-07-05T02:25:53.540Z"
   },
   {
    "duration": 8,
    "start_time": "2022-07-05T02:25:53.554Z"
   },
   {
    "duration": 332,
    "start_time": "2022-07-05T02:25:53.564Z"
   },
   {
    "duration": 87,
    "start_time": "2022-07-05T02:25:53.898Z"
   },
   {
    "duration": 97,
    "start_time": "2022-07-05T02:25:53.987Z"
   },
   {
    "duration": 22,
    "start_time": "2022-07-05T02:25:54.086Z"
   },
   {
    "duration": 136,
    "start_time": "2022-07-05T02:25:56.701Z"
   },
   {
    "duration": 351,
    "start_time": "2022-07-05T02:26:00.386Z"
   },
   {
    "duration": 292,
    "start_time": "2022-07-05T02:26:38.542Z"
   },
   {
    "duration": 330,
    "start_time": "2022-07-05T02:26:46.729Z"
   },
   {
    "duration": 363,
    "start_time": "2022-07-05T02:27:07.799Z"
   },
   {
    "duration": 374,
    "start_time": "2022-07-05T02:27:33.113Z"
   },
   {
    "duration": 3,
    "start_time": "2022-07-05T02:29:33.126Z"
   },
   {
    "duration": 814,
    "start_time": "2022-07-05T02:29:33.131Z"
   },
   {
    "duration": 3,
    "start_time": "2022-07-05T02:29:33.947Z"
   },
   {
    "duration": 11,
    "start_time": "2022-07-05T02:29:33.952Z"
   },
   {
    "duration": 5,
    "start_time": "2022-07-05T02:29:33.966Z"
   },
   {
    "duration": 346,
    "start_time": "2022-07-05T02:29:33.972Z"
   },
   {
    "duration": 67,
    "start_time": "2022-07-05T02:29:34.319Z"
   },
   {
    "duration": 88,
    "start_time": "2022-07-05T02:29:34.387Z"
   },
   {
    "duration": 7,
    "start_time": "2022-07-05T02:29:34.477Z"
   },
   {
    "duration": 141,
    "start_time": "2022-07-05T02:29:34.501Z"
   },
   {
    "duration": 354,
    "start_time": "2022-07-05T02:29:37.845Z"
   },
   {
    "duration": 3,
    "start_time": "2022-07-05T02:32:08.450Z"
   },
   {
    "duration": 761,
    "start_time": "2022-07-05T02:32:08.455Z"
   },
   {
    "duration": 4,
    "start_time": "2022-07-05T02:32:09.217Z"
   },
   {
    "duration": 9,
    "start_time": "2022-07-05T02:32:09.222Z"
   },
   {
    "duration": 9,
    "start_time": "2022-07-05T02:32:09.234Z"
   },
   {
    "duration": 334,
    "start_time": "2022-07-05T02:32:09.245Z"
   },
   {
    "duration": 73,
    "start_time": "2022-07-05T02:32:09.580Z"
   },
   {
    "duration": 89,
    "start_time": "2022-07-05T02:32:09.655Z"
   },
   {
    "duration": 7,
    "start_time": "2022-07-05T02:32:09.746Z"
   },
   {
    "duration": 162,
    "start_time": "2022-07-05T02:32:09.755Z"
   },
   {
    "duration": 361,
    "start_time": "2022-07-05T02:32:09.919Z"
   },
   {
    "duration": 86,
    "start_time": "2022-07-05T02:32:10.282Z"
   },
   {
    "duration": 53,
    "start_time": "2022-07-05T02:32:10.370Z"
   },
   {
    "duration": 112,
    "start_time": "2022-07-05T02:32:10.425Z"
   },
   {
    "duration": 23,
    "start_time": "2022-07-05T02:32:10.539Z"
   },
   {
    "duration": 21,
    "start_time": "2022-07-05T02:32:10.563Z"
   },
   {
    "duration": 62,
    "start_time": "2022-07-05T02:32:10.586Z"
   },
   {
    "duration": 17,
    "start_time": "2022-07-05T02:32:10.649Z"
   },
   {
    "duration": 70,
    "start_time": "2022-07-05T02:32:10.668Z"
   },
   {
    "duration": 14,
    "start_time": "2022-07-05T02:32:10.740Z"
   },
   {
    "duration": 70,
    "start_time": "2022-07-05T02:32:10.756Z"
   },
   {
    "duration": 18,
    "start_time": "2022-07-05T02:32:10.829Z"
   },
   {
    "duration": 109,
    "start_time": "2022-07-05T02:32:10.848Z"
   },
   {
    "duration": 5,
    "start_time": "2022-07-05T02:32:10.960Z"
   },
   {
    "duration": 527,
    "start_time": "2022-07-05T02:32:10.966Z"
   },
   {
    "duration": 522,
    "start_time": "2022-07-05T02:32:15.322Z"
   },
   {
    "duration": 125,
    "start_time": "2022-07-05T02:32:17.244Z"
   },
   {
    "duration": 20,
    "start_time": "2022-07-05T02:34:37.767Z"
   },
   {
    "duration": 162,
    "start_time": "2022-07-05T02:39:54.088Z"
   },
   {
    "duration": 156,
    "start_time": "2022-07-05T02:40:19.735Z"
   },
   {
    "duration": 32,
    "start_time": "2022-07-05T02:42:17.667Z"
   },
   {
    "duration": 3,
    "start_time": "2022-07-05T02:44:03.222Z"
   },
   {
    "duration": 832,
    "start_time": "2022-07-05T02:44:03.231Z"
   },
   {
    "duration": 6,
    "start_time": "2022-07-05T02:44:04.065Z"
   },
   {
    "duration": 10,
    "start_time": "2022-07-05T02:44:05.793Z"
   },
   {
    "duration": 3,
    "start_time": "2022-07-05T02:55:51.714Z"
   },
   {
    "duration": 780,
    "start_time": "2022-07-05T02:55:51.722Z"
   },
   {
    "duration": 11,
    "start_time": "2022-07-05T02:55:52.504Z"
   },
   {
    "duration": 11,
    "start_time": "2022-07-05T02:55:52.517Z"
   },
   {
    "duration": 8,
    "start_time": "2022-07-05T02:55:52.529Z"
   },
   {
    "duration": 310,
    "start_time": "2022-07-05T02:55:52.539Z"
   },
   {
    "duration": 70,
    "start_time": "2022-07-05T02:55:52.851Z"
   },
   {
    "duration": 79,
    "start_time": "2022-07-05T02:55:52.923Z"
   },
   {
    "duration": 13,
    "start_time": "2022-07-05T02:55:53.003Z"
   },
   {
    "duration": 135,
    "start_time": "2022-07-05T02:55:53.018Z"
   },
   {
    "duration": 378,
    "start_time": "2022-07-05T02:55:53.155Z"
   },
   {
    "duration": 86,
    "start_time": "2022-07-05T02:55:53.535Z"
   },
   {
    "duration": 47,
    "start_time": "2022-07-05T02:55:53.623Z"
   },
   {
    "duration": 117,
    "start_time": "2022-07-05T02:55:53.672Z"
   },
   {
    "duration": 32,
    "start_time": "2022-07-05T02:55:53.792Z"
   },
   {
    "duration": 17,
    "start_time": "2022-07-05T02:55:53.826Z"
   },
   {
    "duration": 84,
    "start_time": "2022-07-05T02:55:53.846Z"
   },
   {
    "duration": 26,
    "start_time": "2022-07-05T02:55:53.932Z"
   },
   {
    "duration": 64,
    "start_time": "2022-07-05T02:55:53.960Z"
   },
   {
    "duration": 15,
    "start_time": "2022-07-05T02:55:54.025Z"
   },
   {
    "duration": 43,
    "start_time": "2022-07-05T02:55:54.042Z"
   },
   {
    "duration": 37,
    "start_time": "2022-07-05T02:55:54.086Z"
   },
   {
    "duration": 99,
    "start_time": "2022-07-05T02:55:54.125Z"
   },
   {
    "duration": 4,
    "start_time": "2022-07-05T02:55:54.225Z"
   },
   {
    "duration": 526,
    "start_time": "2022-07-05T02:55:54.231Z"
   },
   {
    "duration": 20,
    "start_time": "2022-07-05T02:55:54.759Z"
   },
   {
    "duration": 46,
    "start_time": "2022-07-05T02:55:54.780Z"
   },
   {
    "duration": 43,
    "start_time": "2022-07-05T02:55:57.856Z"
   },
   {
    "duration": 26,
    "start_time": "2022-07-05T02:58:23.686Z"
   },
   {
    "duration": 487,
    "start_time": "2022-07-05T02:59:56.232Z"
   },
   {
    "duration": 512,
    "start_time": "2022-07-05T03:08:49.807Z"
   },
   {
    "duration": 11,
    "start_time": "2022-07-05T03:09:31.400Z"
   },
   {
    "duration": 4,
    "start_time": "2022-07-05T03:10:13.646Z"
   },
   {
    "duration": 518,
    "start_time": "2022-07-05T03:10:15.417Z"
   },
   {
    "duration": 5,
    "start_time": "2022-07-05T03:11:24.988Z"
   },
   {
    "duration": 509,
    "start_time": "2022-07-05T03:11:26.350Z"
   },
   {
    "duration": 4,
    "start_time": "2022-07-05T03:12:09.315Z"
   },
   {
    "duration": 511,
    "start_time": "2022-07-05T03:12:10.614Z"
   },
   {
    "duration": 269,
    "start_time": "2022-07-05T03:12:19.277Z"
   },
   {
    "duration": 5,
    "start_time": "2022-07-05T03:17:42.854Z"
   },
   {
    "duration": 4,
    "start_time": "2022-07-05T03:17:49.735Z"
   },
   {
    "duration": 256,
    "start_time": "2022-07-05T03:17:52.060Z"
   },
   {
    "duration": 3171,
    "start_time": "2022-07-05T03:18:01.736Z"
   },
   {
    "duration": 561,
    "start_time": "2022-07-05T03:18:57.598Z"
   },
   {
    "duration": 4,
    "start_time": "2022-07-05T03:19:50.423Z"
   },
   {
    "duration": 503,
    "start_time": "2022-07-05T03:19:52.168Z"
   },
   {
    "duration": 4,
    "start_time": "2022-07-05T03:20:03.128Z"
   },
   {
    "duration": 620,
    "start_time": "2022-07-05T03:20:04.739Z"
   },
   {
    "duration": 49,
    "start_time": "2022-07-05T03:20:22.227Z"
   },
   {
    "duration": 55,
    "start_time": "2022-07-05T03:21:02.582Z"
   },
   {
    "duration": 47,
    "start_time": "2022-07-05T03:21:23.333Z"
   },
   {
    "duration": 17,
    "start_time": "2022-07-05T03:21:41.298Z"
   },
   {
    "duration": 573,
    "start_time": "2022-07-05T03:21:44.092Z"
   },
   {
    "duration": 5,
    "start_time": "2022-07-05T03:22:46.184Z"
   },
   {
    "duration": 509,
    "start_time": "2022-07-05T03:22:48.042Z"
   },
   {
    "duration": 546,
    "start_time": "2022-07-05T03:23:13.244Z"
   },
   {
    "duration": 537,
    "start_time": "2022-07-05T03:23:41.561Z"
   },
   {
    "duration": 485,
    "start_time": "2022-07-05T03:23:56.388Z"
   },
   {
    "duration": 537,
    "start_time": "2022-07-05T03:24:04.483Z"
   },
   {
    "duration": 7,
    "start_time": "2022-07-05T03:26:15.235Z"
   },
   {
    "duration": 870,
    "start_time": "2022-07-05T03:26:15.246Z"
   },
   {
    "duration": 4,
    "start_time": "2022-07-05T03:26:16.119Z"
   },
   {
    "duration": 8,
    "start_time": "2022-07-05T03:26:16.126Z"
   },
   {
    "duration": 9,
    "start_time": "2022-07-05T03:26:16.136Z"
   },
   {
    "duration": 368,
    "start_time": "2022-07-05T03:26:16.147Z"
   },
   {
    "duration": 71,
    "start_time": "2022-07-05T03:26:16.516Z"
   },
   {
    "duration": 83,
    "start_time": "2022-07-05T03:26:16.589Z"
   },
   {
    "duration": 6,
    "start_time": "2022-07-05T03:26:16.675Z"
   },
   {
    "duration": 148,
    "start_time": "2022-07-05T03:26:16.682Z"
   },
   {
    "duration": 354,
    "start_time": "2022-07-05T03:26:16.832Z"
   },
   {
    "duration": 78,
    "start_time": "2022-07-05T03:26:17.188Z"
   },
   {
    "duration": 70,
    "start_time": "2022-07-05T03:26:17.267Z"
   },
   {
    "duration": 116,
    "start_time": "2022-07-05T03:26:17.339Z"
   },
   {
    "duration": 38,
    "start_time": "2022-07-05T03:26:17.457Z"
   },
   {
    "duration": 27,
    "start_time": "2022-07-05T03:26:17.510Z"
   },
   {
    "duration": 45,
    "start_time": "2022-07-05T03:26:17.539Z"
   },
   {
    "duration": 29,
    "start_time": "2022-07-05T03:26:17.586Z"
   },
   {
    "duration": 47,
    "start_time": "2022-07-05T03:26:17.617Z"
   },
   {
    "duration": 17,
    "start_time": "2022-07-05T03:26:17.666Z"
   },
   {
    "duration": 65,
    "start_time": "2022-07-05T03:26:17.685Z"
   },
   {
    "duration": 16,
    "start_time": "2022-07-05T03:26:17.752Z"
   },
   {
    "duration": 107,
    "start_time": "2022-07-05T03:26:17.770Z"
   },
   {
    "duration": 4,
    "start_time": "2022-07-05T03:26:17.880Z"
   },
   {
    "duration": 577,
    "start_time": "2022-07-05T03:26:17.885Z"
   },
   {
    "duration": 18,
    "start_time": "2022-07-05T03:29:12.884Z"
   },
   {
    "duration": 528,
    "start_time": "2022-07-05T03:30:50.501Z"
   },
   {
    "duration": 364,
    "start_time": "2022-07-05T03:31:38.763Z"
   },
   {
    "duration": 11,
    "start_time": "2022-07-05T03:49:13.459Z"
   },
   {
    "duration": 9,
    "start_time": "2022-07-05T03:50:03.344Z"
   },
   {
    "duration": 51,
    "start_time": "2022-07-05T03:50:45.093Z"
   },
   {
    "duration": 52,
    "start_time": "2022-07-05T03:51:05.458Z"
   },
   {
    "duration": 37,
    "start_time": "2022-07-05T03:51:30.232Z"
   },
   {
    "duration": 366,
    "start_time": "2022-07-05T03:52:24.466Z"
   },
   {
    "duration": 4,
    "start_time": "2022-07-05T03:53:53.931Z"
   },
   {
    "duration": 785,
    "start_time": "2022-07-05T03:53:53.942Z"
   },
   {
    "duration": 4,
    "start_time": "2022-07-05T03:53:54.729Z"
   },
   {
    "duration": 8,
    "start_time": "2022-07-05T03:53:54.735Z"
   },
   {
    "duration": 9,
    "start_time": "2022-07-05T03:53:54.745Z"
   },
   {
    "duration": 315,
    "start_time": "2022-07-05T03:53:54.756Z"
   },
   {
    "duration": 76,
    "start_time": "2022-07-05T03:53:55.073Z"
   },
   {
    "duration": 96,
    "start_time": "2022-07-05T03:53:55.151Z"
   },
   {
    "duration": 8,
    "start_time": "2022-07-05T03:53:55.249Z"
   },
   {
    "duration": 157,
    "start_time": "2022-07-05T03:53:55.259Z"
   },
   {
    "duration": 340,
    "start_time": "2022-07-05T03:53:55.417Z"
   },
   {
    "duration": 81,
    "start_time": "2022-07-05T03:53:55.759Z"
   },
   {
    "duration": 39,
    "start_time": "2022-07-05T03:53:55.842Z"
   },
   {
    "duration": 113,
    "start_time": "2022-07-05T03:53:55.900Z"
   },
   {
    "duration": 25,
    "start_time": "2022-07-05T03:53:56.016Z"
   },
   {
    "duration": 24,
    "start_time": "2022-07-05T03:53:56.043Z"
   },
   {
    "duration": 60,
    "start_time": "2022-07-05T03:53:56.069Z"
   },
   {
    "duration": 18,
    "start_time": "2022-07-05T03:53:56.130Z"
   },
   {
    "duration": 74,
    "start_time": "2022-07-05T03:53:56.150Z"
   },
   {
    "duration": 21,
    "start_time": "2022-07-05T03:53:56.226Z"
   },
   {
    "duration": 59,
    "start_time": "2022-07-05T03:53:56.248Z"
   },
   {
    "duration": 18,
    "start_time": "2022-07-05T03:53:56.308Z"
   },
   {
    "duration": 101,
    "start_time": "2022-07-05T03:53:56.328Z"
   },
   {
    "duration": 4,
    "start_time": "2022-07-05T03:53:56.431Z"
   },
   {
    "duration": 526,
    "start_time": "2022-07-05T03:53:56.437Z"
   },
   {
    "duration": 18,
    "start_time": "2022-07-05T03:53:56.964Z"
   },
   {
    "duration": 32,
    "start_time": "2022-07-05T03:53:57.000Z"
   },
   {
    "duration": 39,
    "start_time": "2022-07-05T03:53:57.034Z"
   },
   {
    "duration": 37,
    "start_time": "2022-07-05T03:53:57.076Z"
   },
   {
    "duration": 359,
    "start_time": "2022-07-05T03:53:57.115Z"
   },
   {
    "duration": 90,
    "start_time": "2022-07-05T03:53:57.476Z"
   },
   {
    "duration": 80,
    "start_time": "2022-07-05T03:53:58.698Z"
   },
   {
    "duration": 81,
    "start_time": "2022-07-05T03:54:25.887Z"
   },
   {
    "duration": 2,
    "start_time": "2022-07-05T03:54:31.325Z"
   },
   {
    "duration": 791,
    "start_time": "2022-07-05T03:54:31.332Z"
   },
   {
    "duration": 3,
    "start_time": "2022-07-05T03:54:32.126Z"
   },
   {
    "duration": 18,
    "start_time": "2022-07-05T03:54:32.131Z"
   },
   {
    "duration": 23,
    "start_time": "2022-07-05T03:54:32.151Z"
   },
   {
    "duration": 321,
    "start_time": "2022-07-05T03:54:32.176Z"
   },
   {
    "duration": 73,
    "start_time": "2022-07-05T03:54:32.500Z"
   },
   {
    "duration": 84,
    "start_time": "2022-07-05T03:54:32.575Z"
   },
   {
    "duration": 6,
    "start_time": "2022-07-05T03:54:32.660Z"
   },
   {
    "duration": 149,
    "start_time": "2022-07-05T03:54:32.668Z"
   },
   {
    "duration": 361,
    "start_time": "2022-07-05T03:54:32.820Z"
   },
   {
    "duration": 94,
    "start_time": "2022-07-05T03:54:33.183Z"
   },
   {
    "duration": 55,
    "start_time": "2022-07-05T03:54:33.278Z"
   },
   {
    "duration": 110,
    "start_time": "2022-07-05T03:54:33.335Z"
   },
   {
    "duration": 25,
    "start_time": "2022-07-05T03:54:33.446Z"
   },
   {
    "duration": 48,
    "start_time": "2022-07-05T03:54:33.472Z"
   },
   {
    "duration": 47,
    "start_time": "2022-07-05T03:54:33.522Z"
   },
   {
    "duration": 18,
    "start_time": "2022-07-05T03:54:33.571Z"
   },
   {
    "duration": 52,
    "start_time": "2022-07-05T03:54:33.601Z"
   },
   {
    "duration": 15,
    "start_time": "2022-07-05T03:54:33.655Z"
   },
   {
    "duration": 73,
    "start_time": "2022-07-05T03:54:33.671Z"
   },
   {
    "duration": 17,
    "start_time": "2022-07-05T03:54:33.746Z"
   },
   {
    "duration": 106,
    "start_time": "2022-07-05T03:54:33.764Z"
   },
   {
    "duration": 4,
    "start_time": "2022-07-05T03:54:33.872Z"
   },
   {
    "duration": 607,
    "start_time": "2022-07-05T03:54:33.877Z"
   },
   {
    "duration": 35,
    "start_time": "2022-07-05T03:54:34.485Z"
   },
   {
    "duration": 33,
    "start_time": "2022-07-05T03:54:34.522Z"
   },
   {
    "duration": 57,
    "start_time": "2022-07-05T03:54:34.559Z"
   },
   {
    "duration": 19,
    "start_time": "2022-07-05T03:54:34.619Z"
   },
   {
    "duration": 375,
    "start_time": "2022-07-05T03:54:34.639Z"
   },
   {
    "duration": 82,
    "start_time": "2022-07-05T03:54:39.430Z"
   },
   {
    "duration": 354,
    "start_time": "2022-07-05T03:54:42.916Z"
   },
   {
    "duration": 371,
    "start_time": "2022-07-05T03:58:45.788Z"
   },
   {
    "duration": 378,
    "start_time": "2022-07-05T03:59:41.787Z"
   },
   {
    "duration": 365,
    "start_time": "2022-07-05T03:59:54.018Z"
   },
   {
    "duration": 361,
    "start_time": "2022-07-05T04:00:02.466Z"
   },
   {
    "duration": 46,
    "start_time": "2022-07-05T14:23:15.129Z"
   },
   {
    "duration": 1553,
    "start_time": "2022-07-05T14:23:20.891Z"
   },
   {
    "duration": 1200,
    "start_time": "2022-07-05T14:23:22.446Z"
   },
   {
    "duration": 4,
    "start_time": "2022-07-05T14:23:23.647Z"
   },
   {
    "duration": 17,
    "start_time": "2022-07-05T14:23:23.653Z"
   },
   {
    "duration": 10,
    "start_time": "2022-07-05T14:23:23.671Z"
   },
   {
    "duration": 348,
    "start_time": "2022-07-05T14:23:23.682Z"
   },
   {
    "duration": 71,
    "start_time": "2022-07-05T14:23:24.031Z"
   },
   {
    "duration": 67,
    "start_time": "2022-07-05T14:23:24.104Z"
   },
   {
    "duration": 6,
    "start_time": "2022-07-05T14:23:24.173Z"
   },
   {
    "duration": 220,
    "start_time": "2022-07-05T14:23:24.182Z"
   },
   {
    "duration": 462,
    "start_time": "2022-07-05T14:23:24.405Z"
   },
   {
    "duration": 75,
    "start_time": "2022-07-05T14:23:24.868Z"
   },
   {
    "duration": 41,
    "start_time": "2022-07-05T14:23:24.945Z"
   },
   {
    "duration": 121,
    "start_time": "2022-07-05T14:23:24.989Z"
   },
   {
    "duration": 54,
    "start_time": "2022-07-05T14:23:25.112Z"
   },
   {
    "duration": 36,
    "start_time": "2022-07-05T14:23:25.168Z"
   },
   {
    "duration": 78,
    "start_time": "2022-07-05T14:23:25.206Z"
   },
   {
    "duration": 19,
    "start_time": "2022-07-05T14:23:25.286Z"
   },
   {
    "duration": 82,
    "start_time": "2022-07-05T14:23:25.307Z"
   },
   {
    "duration": 21,
    "start_time": "2022-07-05T14:23:25.391Z"
   },
   {
    "duration": 85,
    "start_time": "2022-07-05T14:23:25.414Z"
   },
   {
    "duration": 19,
    "start_time": "2022-07-05T14:23:25.500Z"
   },
   {
    "duration": 102,
    "start_time": "2022-07-05T14:23:25.521Z"
   },
   {
    "duration": 17,
    "start_time": "2022-07-05T14:23:25.625Z"
   },
   {
    "duration": 536,
    "start_time": "2022-07-05T14:23:25.644Z"
   },
   {
    "duration": 19,
    "start_time": "2022-07-05T14:23:26.182Z"
   },
   {
    "duration": 51,
    "start_time": "2022-07-05T14:23:26.202Z"
   },
   {
    "duration": 50,
    "start_time": "2022-07-05T14:23:26.256Z"
   },
   {
    "duration": 37,
    "start_time": "2022-07-05T14:23:26.308Z"
   },
   {
    "duration": 410,
    "start_time": "2022-07-05T14:23:26.347Z"
   },
   {
    "duration": 91,
    "start_time": "2022-07-05T14:23:26.758Z"
   },
   {
    "duration": 336,
    "start_time": "2022-07-05T14:23:26.850Z"
   },
   {
    "duration": 340,
    "start_time": "2022-07-05T14:23:27.187Z"
   },
   {
    "duration": 343,
    "start_time": "2022-07-05T14:23:30.865Z"
   },
   {
    "duration": 21,
    "start_time": "2022-07-05T14:23:33.293Z"
   },
   {
    "duration": 11,
    "start_time": "2022-07-05T14:28:52.119Z"
   },
   {
    "duration": 35,
    "start_time": "2022-07-05T14:29:41.747Z"
   },
   {
    "duration": 29,
    "start_time": "2022-07-05T14:35:31.317Z"
   },
   {
    "duration": 24,
    "start_time": "2022-07-05T14:37:09.586Z"
   },
   {
    "duration": 10,
    "start_time": "2022-07-05T14:37:29.558Z"
   },
   {
    "duration": 27,
    "start_time": "2022-07-05T14:38:54.114Z"
   },
   {
    "duration": 6,
    "start_time": "2022-07-05T15:01:20.456Z"
   },
   {
    "duration": 22,
    "start_time": "2022-07-05T15:01:32.582Z"
   },
   {
    "duration": 23,
    "start_time": "2022-07-05T15:03:23.395Z"
   },
   {
    "duration": 125,
    "start_time": "2022-07-05T15:19:13.560Z"
   },
   {
    "duration": 52,
    "start_time": "2022-07-05T15:20:40.119Z"
   },
   {
    "duration": 23,
    "start_time": "2022-07-05T15:21:01.637Z"
   },
   {
    "duration": 19,
    "start_time": "2022-07-05T15:36:58.942Z"
   },
   {
    "duration": 34,
    "start_time": "2022-07-05T15:41:34.157Z"
   },
   {
    "duration": 40,
    "start_time": "2022-07-05T15:55:10.088Z"
   },
   {
    "duration": 14,
    "start_time": "2022-07-05T15:56:22.993Z"
   },
   {
    "duration": 13,
    "start_time": "2022-07-05T15:56:59.634Z"
   },
   {
    "duration": 54,
    "start_time": "2022-07-05T15:57:30.712Z"
   },
   {
    "duration": 9,
    "start_time": "2022-07-05T15:57:43.908Z"
   },
   {
    "duration": 3,
    "start_time": "2022-07-05T15:58:01.011Z"
   },
   {
    "duration": 875,
    "start_time": "2022-07-05T15:58:01.018Z"
   },
   {
    "duration": 3,
    "start_time": "2022-07-05T15:58:01.895Z"
   },
   {
    "duration": 25,
    "start_time": "2022-07-05T15:58:01.900Z"
   },
   {
    "duration": 30,
    "start_time": "2022-07-05T15:58:01.927Z"
   },
   {
    "duration": 284,
    "start_time": "2022-07-05T15:58:01.959Z"
   },
   {
    "duration": 66,
    "start_time": "2022-07-05T15:58:02.245Z"
   },
   {
    "duration": 80,
    "start_time": "2022-07-05T15:58:02.313Z"
   },
   {
    "duration": 6,
    "start_time": "2022-07-05T15:58:02.395Z"
   },
   {
    "duration": 148,
    "start_time": "2022-07-05T15:58:02.402Z"
   },
   {
    "duration": 362,
    "start_time": "2022-07-05T15:58:02.551Z"
   },
   {
    "duration": 70,
    "start_time": "2022-07-05T15:58:02.915Z"
   },
   {
    "duration": 36,
    "start_time": "2022-07-05T15:58:02.987Z"
   },
   {
    "duration": 109,
    "start_time": "2022-07-05T15:58:03.025Z"
   },
   {
    "duration": 23,
    "start_time": "2022-07-05T15:58:03.142Z"
   },
   {
    "duration": 20,
    "start_time": "2022-07-05T15:58:03.167Z"
   },
   {
    "duration": 61,
    "start_time": "2022-07-05T15:58:03.189Z"
   },
   {
    "duration": 16,
    "start_time": "2022-07-05T15:58:03.252Z"
   },
   {
    "duration": 42,
    "start_time": "2022-07-05T15:58:03.269Z"
   },
   {
    "duration": 37,
    "start_time": "2022-07-05T15:58:03.312Z"
   },
   {
    "duration": 45,
    "start_time": "2022-07-05T15:58:03.351Z"
   },
   {
    "duration": 15,
    "start_time": "2022-07-05T15:58:03.398Z"
   },
   {
    "duration": 91,
    "start_time": "2022-07-05T15:58:03.414Z"
   },
   {
    "duration": 4,
    "start_time": "2022-07-05T15:58:03.506Z"
   },
   {
    "duration": 567,
    "start_time": "2022-07-05T15:58:03.512Z"
   },
   {
    "duration": 18,
    "start_time": "2022-07-05T15:58:04.080Z"
   },
   {
    "duration": 44,
    "start_time": "2022-07-05T15:58:04.099Z"
   },
   {
    "duration": 42,
    "start_time": "2022-07-05T15:58:04.145Z"
   },
   {
    "duration": 20,
    "start_time": "2022-07-05T15:58:04.189Z"
   },
   {
    "duration": 388,
    "start_time": "2022-07-05T15:58:04.210Z"
   },
   {
    "duration": 82,
    "start_time": "2022-07-05T15:58:04.599Z"
   },
   {
    "duration": 319,
    "start_time": "2022-07-05T15:58:04.683Z"
   },
   {
    "duration": 302,
    "start_time": "2022-07-05T15:58:05.004Z"
   },
   {
    "duration": 9,
    "start_time": "2022-07-05T15:58:05.308Z"
   },
   {
    "duration": 69,
    "start_time": "2022-07-05T15:58:05.319Z"
   },
   {
    "duration": 32,
    "start_time": "2022-07-05T15:58:05.390Z"
   },
   {
    "duration": 58,
    "start_time": "2022-07-05T15:58:05.424Z"
   },
   {
    "duration": 11,
    "start_time": "2022-07-05T15:58:09.256Z"
   },
   {
    "duration": 10,
    "start_time": "2022-07-05T15:58:25.051Z"
   },
   {
    "duration": 2,
    "start_time": "2022-07-05T15:59:30.203Z"
   },
   {
    "duration": 824,
    "start_time": "2022-07-05T15:59:30.209Z"
   },
   {
    "duration": 8,
    "start_time": "2022-07-05T15:59:31.035Z"
   },
   {
    "duration": 14,
    "start_time": "2022-07-05T15:59:31.046Z"
   },
   {
    "duration": 10,
    "start_time": "2022-07-05T15:59:31.062Z"
   },
   {
    "duration": 292,
    "start_time": "2022-07-05T15:59:31.073Z"
   },
   {
    "duration": 65,
    "start_time": "2022-07-05T15:59:31.367Z"
   },
   {
    "duration": 104,
    "start_time": "2022-07-05T15:59:31.442Z"
   },
   {
    "duration": 20,
    "start_time": "2022-07-05T15:59:31.548Z"
   },
   {
    "duration": 152,
    "start_time": "2022-07-05T15:59:31.570Z"
   },
   {
    "duration": 391,
    "start_time": "2022-07-05T15:59:31.724Z"
   },
   {
    "duration": 73,
    "start_time": "2022-07-05T15:59:32.116Z"
   },
   {
    "duration": 37,
    "start_time": "2022-07-05T15:59:32.190Z"
   },
   {
    "duration": 115,
    "start_time": "2022-07-05T15:59:32.229Z"
   },
   {
    "duration": 24,
    "start_time": "2022-07-05T15:59:32.345Z"
   },
   {
    "duration": 37,
    "start_time": "2022-07-05T15:59:32.371Z"
   },
   {
    "duration": 54,
    "start_time": "2022-07-05T15:59:32.410Z"
   },
   {
    "duration": 17,
    "start_time": "2022-07-05T15:59:32.466Z"
   },
   {
    "duration": 68,
    "start_time": "2022-07-05T15:59:32.484Z"
   },
   {
    "duration": 15,
    "start_time": "2022-07-05T15:59:32.554Z"
   },
   {
    "duration": 55,
    "start_time": "2022-07-05T15:59:32.570Z"
   },
   {
    "duration": 27,
    "start_time": "2022-07-05T15:59:32.626Z"
   },
   {
    "duration": 92,
    "start_time": "2022-07-05T15:59:32.655Z"
   },
   {
    "duration": 4,
    "start_time": "2022-07-05T15:59:32.749Z"
   },
   {
    "duration": 515,
    "start_time": "2022-07-05T15:59:32.755Z"
   },
   {
    "duration": 18,
    "start_time": "2022-07-05T15:59:33.272Z"
   },
   {
    "duration": 51,
    "start_time": "2022-07-05T15:59:33.291Z"
   },
   {
    "duration": 40,
    "start_time": "2022-07-05T15:59:33.344Z"
   },
   {
    "duration": 19,
    "start_time": "2022-07-05T15:59:33.387Z"
   },
   {
    "duration": 475,
    "start_time": "2022-07-05T15:59:33.408Z"
   },
   {
    "duration": 78,
    "start_time": "2022-07-05T15:59:33.885Z"
   },
   {
    "duration": 356,
    "start_time": "2022-07-05T15:59:33.965Z"
   },
   {
    "duration": 439,
    "start_time": "2022-07-05T15:59:34.322Z"
   },
   {
    "duration": 10,
    "start_time": "2022-07-05T15:59:34.763Z"
   },
   {
    "duration": 69,
    "start_time": "2022-07-05T15:59:34.775Z"
   },
   {
    "duration": 33,
    "start_time": "2022-07-05T15:59:34.846Z"
   },
   {
    "duration": 3,
    "start_time": "2022-07-05T15:59:34.881Z"
   },
   {
    "duration": 49,
    "start_time": "2022-07-05T15:59:42.211Z"
   },
   {
    "duration": 30,
    "start_time": "2022-07-05T15:59:46.071Z"
   },
   {
    "duration": 3,
    "start_time": "2022-07-05T16:01:07.876Z"
   },
   {
    "duration": 820,
    "start_time": "2022-07-05T16:01:07.883Z"
   },
   {
    "duration": 4,
    "start_time": "2022-07-05T16:01:08.705Z"
   },
   {
    "duration": 8,
    "start_time": "2022-07-05T16:01:08.711Z"
   },
   {
    "duration": 21,
    "start_time": "2022-07-05T16:01:08.721Z"
   },
   {
    "duration": 299,
    "start_time": "2022-07-05T16:01:08.744Z"
   },
   {
    "duration": 63,
    "start_time": "2022-07-05T16:01:09.045Z"
   },
   {
    "duration": 80,
    "start_time": "2022-07-05T16:01:09.110Z"
   },
   {
    "duration": 6,
    "start_time": "2022-07-05T16:01:09.192Z"
   },
   {
    "duration": 136,
    "start_time": "2022-07-05T16:01:09.199Z"
   },
   {
    "duration": 350,
    "start_time": "2022-07-05T16:01:09.337Z"
   },
   {
    "duration": 73,
    "start_time": "2022-07-05T16:01:09.689Z"
   },
   {
    "duration": 39,
    "start_time": "2022-07-05T16:01:09.763Z"
   },
   {
    "duration": 115,
    "start_time": "2022-07-05T16:01:09.803Z"
   },
   {
    "duration": 26,
    "start_time": "2022-07-05T16:01:09.921Z"
   },
   {
    "duration": 20,
    "start_time": "2022-07-05T16:01:09.949Z"
   },
   {
    "duration": 76,
    "start_time": "2022-07-05T16:01:09.971Z"
   },
   {
    "duration": 21,
    "start_time": "2022-07-05T16:01:10.048Z"
   },
   {
    "duration": 45,
    "start_time": "2022-07-05T16:01:10.070Z"
   },
   {
    "duration": 32,
    "start_time": "2022-07-05T16:01:10.116Z"
   },
   {
    "duration": 52,
    "start_time": "2022-07-05T16:01:10.151Z"
   },
   {
    "duration": 17,
    "start_time": "2022-07-05T16:01:10.204Z"
   },
   {
    "duration": 90,
    "start_time": "2022-07-05T16:01:10.222Z"
   },
   {
    "duration": 4,
    "start_time": "2022-07-05T16:01:10.313Z"
   },
   {
    "duration": 514,
    "start_time": "2022-07-05T16:01:10.318Z"
   },
   {
    "duration": 24,
    "start_time": "2022-07-05T16:01:10.834Z"
   },
   {
    "duration": 35,
    "start_time": "2022-07-05T16:01:10.860Z"
   },
   {
    "duration": 57,
    "start_time": "2022-07-05T16:01:10.897Z"
   },
   {
    "duration": 19,
    "start_time": "2022-07-05T16:01:10.956Z"
   },
   {
    "duration": 406,
    "start_time": "2022-07-05T16:01:10.976Z"
   },
   {
    "duration": 87,
    "start_time": "2022-07-05T16:01:11.384Z"
   },
   {
    "duration": 327,
    "start_time": "2022-07-05T16:01:11.473Z"
   },
   {
    "duration": 311,
    "start_time": "2022-07-05T16:01:11.802Z"
   },
   {
    "duration": 9,
    "start_time": "2022-07-05T16:01:12.115Z"
   },
   {
    "duration": 66,
    "start_time": "2022-07-05T16:01:12.126Z"
   },
   {
    "duration": 35,
    "start_time": "2022-07-05T16:01:12.193Z"
   },
   {
    "duration": 71,
    "start_time": "2022-07-05T16:01:12.242Z"
   },
   {
    "duration": 22,
    "start_time": "2022-07-05T16:01:17.206Z"
   },
   {
    "duration": 295,
    "start_time": "2022-07-05T16:02:05.217Z"
   },
   {
    "duration": 364,
    "start_time": "2022-07-05T16:04:02.885Z"
   },
   {
    "duration": 346,
    "start_time": "2022-07-05T16:04:20.314Z"
   },
   {
    "duration": 357,
    "start_time": "2022-07-05T16:07:19.785Z"
   },
   {
    "duration": 910,
    "start_time": "2022-07-05T16:09:08.104Z"
   },
   {
    "duration": 302,
    "start_time": "2022-07-05T16:09:42.834Z"
   },
   {
    "duration": 48,
    "start_time": "2022-07-05T16:15:31.088Z"
   },
   {
    "duration": 51,
    "start_time": "2022-07-05T16:17:20.158Z"
   },
   {
    "duration": 48,
    "start_time": "2022-07-05T16:17:54.850Z"
   },
   {
    "duration": 9,
    "start_time": "2022-07-05T16:18:11.082Z"
   },
   {
    "duration": 31,
    "start_time": "2022-07-05T16:18:30.560Z"
   },
   {
    "duration": 9,
    "start_time": "2022-07-05T16:19:26.004Z"
   },
   {
    "duration": 24,
    "start_time": "2022-07-05T16:26:13.753Z"
   },
   {
    "duration": 35,
    "start_time": "2022-07-05T16:26:39.072Z"
   },
   {
    "duration": 465,
    "start_time": "2022-07-05T16:29:47.005Z"
   },
   {
    "duration": 227,
    "start_time": "2022-07-05T16:31:32.922Z"
   },
   {
    "duration": 22,
    "start_time": "2022-07-05T16:34:39.292Z"
   },
   {
    "duration": 35,
    "start_time": "2022-07-05T16:35:32.705Z"
   },
   {
    "duration": 9,
    "start_time": "2022-07-05T16:35:45.897Z"
   },
   {
    "duration": 36,
    "start_time": "2022-07-05T16:35:53.777Z"
   },
   {
    "duration": 23,
    "start_time": "2022-07-05T16:36:24.917Z"
   },
   {
    "duration": 185,
    "start_time": "2022-07-05T16:39:27.926Z"
   },
   {
    "duration": 514,
    "start_time": "2022-07-05T16:46:35.577Z"
   },
   {
    "duration": 210,
    "start_time": "2022-07-05T16:48:13.761Z"
   },
   {
    "duration": 22,
    "start_time": "2022-07-05T16:48:24.081Z"
   },
   {
    "duration": 12,
    "start_time": "2022-07-05T16:50:56.996Z"
   },
   {
    "duration": 9,
    "start_time": "2022-07-05T18:55:54.731Z"
   },
   {
    "duration": 38,
    "start_time": "2022-07-05T18:56:58.963Z"
   },
   {
    "duration": 22,
    "start_time": "2022-07-05T18:57:17.575Z"
   },
   {
    "duration": 28,
    "start_time": "2022-07-05T18:58:39.157Z"
   },
   {
    "duration": 1621,
    "start_time": "2022-07-05T20:04:55.357Z"
   },
   {
    "duration": 1464,
    "start_time": "2022-07-05T20:04:56.985Z"
   },
   {
    "duration": 3,
    "start_time": "2022-07-05T20:04:58.451Z"
   },
   {
    "duration": 26,
    "start_time": "2022-07-05T20:04:58.461Z"
   },
   {
    "duration": 9,
    "start_time": "2022-07-05T20:04:58.488Z"
   },
   {
    "duration": 382,
    "start_time": "2022-07-05T20:04:58.498Z"
   },
   {
    "duration": 84,
    "start_time": "2022-07-05T20:04:58.882Z"
   },
   {
    "duration": 106,
    "start_time": "2022-07-05T20:04:58.968Z"
   },
   {
    "duration": 11,
    "start_time": "2022-07-05T20:04:59.077Z"
   },
   {
    "duration": 184,
    "start_time": "2022-07-05T20:04:59.090Z"
   },
   {
    "duration": 415,
    "start_time": "2022-07-05T20:04:59.279Z"
   },
   {
    "duration": 98,
    "start_time": "2022-07-05T20:04:59.696Z"
   },
   {
    "duration": 46,
    "start_time": "2022-07-05T20:04:59.797Z"
   },
   {
    "duration": 139,
    "start_time": "2022-07-05T20:04:59.844Z"
   },
   {
    "duration": 32,
    "start_time": "2022-07-05T20:04:59.984Z"
   },
   {
    "duration": 26,
    "start_time": "2022-07-05T20:05:00.018Z"
   },
   {
    "duration": 85,
    "start_time": "2022-07-05T20:05:00.045Z"
   },
   {
    "duration": 34,
    "start_time": "2022-07-05T20:05:00.132Z"
   },
   {
    "duration": 63,
    "start_time": "2022-07-05T20:05:00.168Z"
   },
   {
    "duration": 42,
    "start_time": "2022-07-05T20:05:00.233Z"
   },
   {
    "duration": 110,
    "start_time": "2022-07-05T20:05:00.277Z"
   },
   {
    "duration": 21,
    "start_time": "2022-07-05T20:05:00.389Z"
   },
   {
    "duration": 120,
    "start_time": "2022-07-05T20:05:00.411Z"
   },
   {
    "duration": 5,
    "start_time": "2022-07-05T20:05:00.533Z"
   },
   {
    "duration": 583,
    "start_time": "2022-07-05T20:05:00.539Z"
   },
   {
    "duration": 19,
    "start_time": "2022-07-05T20:05:01.124Z"
   },
   {
    "duration": 49,
    "start_time": "2022-07-05T20:05:01.144Z"
   },
   {
    "duration": 44,
    "start_time": "2022-07-05T20:05:01.197Z"
   },
   {
    "duration": 48,
    "start_time": "2022-07-05T20:05:01.243Z"
   },
   {
    "duration": 444,
    "start_time": "2022-07-05T20:05:01.293Z"
   },
   {
    "duration": 96,
    "start_time": "2022-07-05T20:05:01.738Z"
   },
   {
    "duration": 361,
    "start_time": "2022-07-05T20:05:01.836Z"
   },
   {
    "duration": 348,
    "start_time": "2022-07-05T20:05:02.199Z"
   },
   {
    "duration": 25,
    "start_time": "2022-07-05T20:05:02.549Z"
   },
   {
    "duration": 80,
    "start_time": "2022-07-05T20:05:02.578Z"
   },
   {
    "duration": 45,
    "start_time": "2022-07-05T20:05:02.662Z"
   },
   {
    "duration": 97,
    "start_time": "2022-07-05T20:05:02.709Z"
   },
   {
    "duration": 369,
    "start_time": "2022-07-05T20:05:02.808Z"
   },
   {
    "duration": 55,
    "start_time": "2022-07-05T20:05:03.185Z"
   },
   {
    "duration": 0,
    "start_time": "2022-07-05T20:05:03.242Z"
   },
   {
    "duration": 0,
    "start_time": "2022-07-05T20:05:03.243Z"
   },
   {
    "duration": 0,
    "start_time": "2022-07-05T20:05:03.245Z"
   },
   {
    "duration": 0,
    "start_time": "2022-07-05T20:05:03.247Z"
   },
   {
    "duration": 0,
    "start_time": "2022-07-05T20:05:03.248Z"
   },
   {
    "duration": 0,
    "start_time": "2022-07-05T20:05:03.250Z"
   },
   {
    "duration": 0,
    "start_time": "2022-07-05T20:05:03.252Z"
   },
   {
    "duration": 0,
    "start_time": "2022-07-05T20:05:03.253Z"
   },
   {
    "duration": 0,
    "start_time": "2022-07-05T20:05:03.254Z"
   },
   {
    "duration": 7,
    "start_time": "2022-07-05T20:11:53.798Z"
   },
   {
    "duration": 49,
    "start_time": "2022-07-05T20:22:44.233Z"
   },
   {
    "duration": 9,
    "start_time": "2022-07-05T20:22:51.012Z"
   },
   {
    "duration": 39,
    "start_time": "2022-07-05T20:22:53.248Z"
   },
   {
    "duration": 25,
    "start_time": "2022-07-05T20:22:54.780Z"
   },
   {
    "duration": 352,
    "start_time": "2022-07-05T20:23:08.476Z"
   },
   {
    "duration": 208,
    "start_time": "2022-07-05T20:23:14.368Z"
   },
   {
    "duration": 19,
    "start_time": "2022-07-05T20:23:18.151Z"
   },
   {
    "duration": 147,
    "start_time": "2022-07-05T21:12:55.134Z"
   },
   {
    "duration": 26,
    "start_time": "2022-07-05T21:13:47.120Z"
   },
   {
    "duration": 3,
    "start_time": "2022-07-05T21:14:05.664Z"
   },
   {
    "duration": 959,
    "start_time": "2022-07-05T21:14:05.672Z"
   },
   {
    "duration": 4,
    "start_time": "2022-07-05T21:14:06.633Z"
   },
   {
    "duration": 23,
    "start_time": "2022-07-05T21:14:06.638Z"
   },
   {
    "duration": 5,
    "start_time": "2022-07-05T21:14:06.664Z"
   },
   {
    "duration": 344,
    "start_time": "2022-07-05T21:14:06.672Z"
   },
   {
    "duration": 88,
    "start_time": "2022-07-05T21:14:07.017Z"
   },
   {
    "duration": 118,
    "start_time": "2022-07-05T21:14:07.107Z"
   },
   {
    "duration": 6,
    "start_time": "2022-07-05T21:14:07.227Z"
   },
   {
    "duration": 172,
    "start_time": "2022-07-05T21:14:07.235Z"
   },
   {
    "duration": 405,
    "start_time": "2022-07-05T21:14:07.409Z"
   },
   {
    "duration": 101,
    "start_time": "2022-07-05T21:14:07.815Z"
   },
   {
    "duration": 52,
    "start_time": "2022-07-05T21:14:07.917Z"
   },
   {
    "duration": 149,
    "start_time": "2022-07-05T21:14:07.971Z"
   },
   {
    "duration": 30,
    "start_time": "2022-07-05T21:14:08.122Z"
   },
   {
    "duration": 35,
    "start_time": "2022-07-05T21:14:08.153Z"
   },
   {
    "duration": 63,
    "start_time": "2022-07-05T21:14:08.190Z"
   },
   {
    "duration": 26,
    "start_time": "2022-07-05T21:14:08.255Z"
   },
   {
    "duration": 55,
    "start_time": "2022-07-05T21:14:08.283Z"
   },
   {
    "duration": 33,
    "start_time": "2022-07-05T21:14:08.340Z"
   },
   {
    "duration": 69,
    "start_time": "2022-07-05T21:14:08.374Z"
   },
   {
    "duration": 31,
    "start_time": "2022-07-05T21:14:08.445Z"
   },
   {
    "duration": 112,
    "start_time": "2022-07-05T21:14:08.478Z"
   },
   {
    "duration": 5,
    "start_time": "2022-07-05T21:14:08.591Z"
   },
   {
    "duration": 674,
    "start_time": "2022-07-05T21:14:08.597Z"
   },
   {
    "duration": 21,
    "start_time": "2022-07-05T21:14:09.273Z"
   },
   {
    "duration": 38,
    "start_time": "2022-07-05T21:14:09.295Z"
   },
   {
    "duration": 69,
    "start_time": "2022-07-05T21:14:09.335Z"
   },
   {
    "duration": 20,
    "start_time": "2022-07-05T21:14:09.406Z"
   },
   {
    "duration": 356,
    "start_time": "2022-07-05T21:14:09.427Z"
   },
   {
    "duration": 89,
    "start_time": "2022-07-05T21:14:09.785Z"
   },
   {
    "duration": 330,
    "start_time": "2022-07-05T21:14:09.875Z"
   },
   {
    "duration": 353,
    "start_time": "2022-07-05T21:14:10.206Z"
   },
   {
    "duration": 14,
    "start_time": "2022-07-05T21:14:10.562Z"
   },
   {
    "duration": 72,
    "start_time": "2022-07-05T21:14:10.577Z"
   },
   {
    "duration": 47,
    "start_time": "2022-07-05T21:14:10.651Z"
   },
   {
    "duration": 115,
    "start_time": "2022-07-05T21:14:10.700Z"
   },
   {
    "duration": 378,
    "start_time": "2022-07-05T21:14:10.817Z"
   },
   {
    "duration": 278,
    "start_time": "2022-07-05T21:14:11.197Z"
   },
   {
    "duration": 9,
    "start_time": "2022-07-05T21:14:11.479Z"
   },
   {
    "duration": 41,
    "start_time": "2022-07-05T21:14:11.489Z"
   },
   {
    "duration": 54,
    "start_time": "2022-07-05T21:14:11.534Z"
   },
   {
    "duration": 390,
    "start_time": "2022-07-05T21:14:11.589Z"
   },
   {
    "duration": 253,
    "start_time": "2022-07-05T21:14:11.980Z"
   },
   {
    "duration": 14,
    "start_time": "2022-07-05T21:14:12.235Z"
   },
   {
    "duration": 53,
    "start_time": "2022-07-05T21:14:14.583Z"
   },
   {
    "duration": 3,
    "start_time": "2022-07-05T21:14:41.989Z"
   },
   {
    "duration": 924,
    "start_time": "2022-07-05T21:14:41.996Z"
   },
   {
    "duration": 4,
    "start_time": "2022-07-05T21:14:42.922Z"
   },
   {
    "duration": 7,
    "start_time": "2022-07-05T21:14:42.928Z"
   },
   {
    "duration": 6,
    "start_time": "2022-07-05T21:14:42.937Z"
   },
   {
    "duration": 350,
    "start_time": "2022-07-05T21:14:42.945Z"
   },
   {
    "duration": 93,
    "start_time": "2022-07-05T21:14:43.297Z"
   },
   {
    "duration": 109,
    "start_time": "2022-07-05T21:14:43.392Z"
   },
   {
    "duration": 6,
    "start_time": "2022-07-05T21:14:43.503Z"
   },
   {
    "duration": 170,
    "start_time": "2022-07-05T21:14:43.511Z"
   },
   {
    "duration": 405,
    "start_time": "2022-07-05T21:14:43.683Z"
   },
   {
    "duration": 94,
    "start_time": "2022-07-05T21:14:44.090Z"
   },
   {
    "duration": 45,
    "start_time": "2022-07-05T21:14:44.186Z"
   },
   {
    "duration": 121,
    "start_time": "2022-07-05T21:14:44.232Z"
   },
   {
    "duration": 40,
    "start_time": "2022-07-05T21:14:44.354Z"
   },
   {
    "duration": 21,
    "start_time": "2022-07-05T21:14:44.396Z"
   },
   {
    "duration": 81,
    "start_time": "2022-07-05T21:14:44.421Z"
   },
   {
    "duration": 21,
    "start_time": "2022-07-05T21:14:44.504Z"
   },
   {
    "duration": 78,
    "start_time": "2022-07-05T21:14:44.527Z"
   },
   {
    "duration": 18,
    "start_time": "2022-07-05T21:14:44.607Z"
   },
   {
    "duration": 94,
    "start_time": "2022-07-05T21:14:44.627Z"
   },
   {
    "duration": 23,
    "start_time": "2022-07-05T21:14:44.723Z"
   },
   {
    "duration": 112,
    "start_time": "2022-07-05T21:14:44.761Z"
   },
   {
    "duration": 9,
    "start_time": "2022-07-05T21:14:44.876Z"
   },
   {
    "duration": 650,
    "start_time": "2022-07-05T21:14:44.888Z"
   },
   {
    "duration": 25,
    "start_time": "2022-07-05T21:14:45.540Z"
   },
   {
    "duration": 36,
    "start_time": "2022-07-05T21:14:45.566Z"
   },
   {
    "duration": 60,
    "start_time": "2022-07-05T21:14:45.604Z"
   },
   {
    "duration": 19,
    "start_time": "2022-07-05T21:14:45.676Z"
   },
   {
    "duration": 337,
    "start_time": "2022-07-05T21:14:45.697Z"
   },
   {
    "duration": 85,
    "start_time": "2022-07-05T21:14:46.036Z"
   },
   {
    "duration": 411,
    "start_time": "2022-07-05T21:14:46.123Z"
   },
   {
    "duration": 352,
    "start_time": "2022-07-05T21:14:46.536Z"
   },
   {
    "duration": 10,
    "start_time": "2022-07-05T21:14:46.890Z"
   },
   {
    "duration": 77,
    "start_time": "2022-07-05T21:14:46.901Z"
   },
   {
    "duration": 33,
    "start_time": "2022-07-05T21:14:46.979Z"
   },
   {
    "duration": 97,
    "start_time": "2022-07-05T21:14:47.013Z"
   },
   {
    "duration": 345,
    "start_time": "2022-07-05T21:14:47.112Z"
   },
   {
    "duration": 367,
    "start_time": "2022-07-05T21:14:47.459Z"
   },
   {
    "duration": 10,
    "start_time": "2022-07-05T21:14:47.828Z"
   },
   {
    "duration": 56,
    "start_time": "2022-07-05T21:14:47.840Z"
   },
   {
    "duration": 26,
    "start_time": "2022-07-05T21:14:47.898Z"
   },
   {
    "duration": 381,
    "start_time": "2022-07-05T21:14:47.926Z"
   },
   {
    "duration": 236,
    "start_time": "2022-07-05T21:14:48.310Z"
   },
   {
    "duration": 30,
    "start_time": "2022-07-05T21:14:48.548Z"
   },
   {
    "duration": 692,
    "start_time": "2022-07-05T21:14:51.357Z"
   },
   {
    "duration": 4,
    "start_time": "2022-07-05T21:16:10.328Z"
   },
   {
    "duration": 985,
    "start_time": "2022-07-05T21:16:10.336Z"
   },
   {
    "duration": 4,
    "start_time": "2022-07-05T21:16:11.324Z"
   },
   {
    "duration": 16,
    "start_time": "2022-07-05T21:16:11.330Z"
   },
   {
    "duration": 15,
    "start_time": "2022-07-05T21:16:11.349Z"
   },
   {
    "duration": 339,
    "start_time": "2022-07-05T21:16:11.366Z"
   },
   {
    "duration": 137,
    "start_time": "2022-07-05T21:16:11.708Z"
   },
   {
    "duration": 115,
    "start_time": "2022-07-05T21:16:11.847Z"
   },
   {
    "duration": 8,
    "start_time": "2022-07-05T21:16:11.964Z"
   },
   {
    "duration": 228,
    "start_time": "2022-07-05T21:16:11.974Z"
   },
   {
    "duration": 404,
    "start_time": "2022-07-05T21:16:12.206Z"
   },
   {
    "duration": 116,
    "start_time": "2022-07-05T21:16:12.612Z"
   },
   {
    "duration": 59,
    "start_time": "2022-07-05T21:16:12.730Z"
   },
   {
    "duration": 135,
    "start_time": "2022-07-05T21:16:12.792Z"
   },
   {
    "duration": 63,
    "start_time": "2022-07-05T21:16:12.928Z"
   },
   {
    "duration": 22,
    "start_time": "2022-07-05T21:16:12.995Z"
   },
   {
    "duration": 116,
    "start_time": "2022-07-05T21:16:13.020Z"
   },
   {
    "duration": 43,
    "start_time": "2022-07-05T21:16:13.138Z"
   },
   {
    "duration": 96,
    "start_time": "2022-07-05T21:16:13.183Z"
   },
   {
    "duration": 29,
    "start_time": "2022-07-05T21:16:13.281Z"
   },
   {
    "duration": 101,
    "start_time": "2022-07-05T21:16:13.313Z"
   },
   {
    "duration": 21,
    "start_time": "2022-07-05T21:16:13.416Z"
   },
   {
    "duration": 182,
    "start_time": "2022-07-05T21:16:13.439Z"
   },
   {
    "duration": 7,
    "start_time": "2022-07-05T21:16:13.623Z"
   },
   {
    "duration": 595,
    "start_time": "2022-07-05T21:16:13.632Z"
   },
   {
    "duration": 33,
    "start_time": "2022-07-05T21:16:14.229Z"
   },
   {
    "duration": 49,
    "start_time": "2022-07-05T21:16:14.264Z"
   },
   {
    "duration": 61,
    "start_time": "2022-07-05T21:16:14.315Z"
   },
   {
    "duration": 20,
    "start_time": "2022-07-05T21:16:14.381Z"
   },
   {
    "duration": 425,
    "start_time": "2022-07-05T21:16:14.403Z"
   },
   {
    "duration": 88,
    "start_time": "2022-07-05T21:16:14.830Z"
   },
   {
    "duration": 354,
    "start_time": "2022-07-05T21:16:14.920Z"
   },
   {
    "duration": 341,
    "start_time": "2022-07-05T21:16:15.276Z"
   },
   {
    "duration": 11,
    "start_time": "2022-07-05T21:16:15.620Z"
   },
   {
    "duration": 74,
    "start_time": "2022-07-05T21:16:15.633Z"
   },
   {
    "duration": 32,
    "start_time": "2022-07-05T21:16:15.709Z"
   },
   {
    "duration": 112,
    "start_time": "2022-07-05T21:16:15.760Z"
   },
   {
    "duration": 490,
    "start_time": "2022-07-05T21:16:15.874Z"
   },
   {
    "duration": 320,
    "start_time": "2022-07-05T21:16:16.366Z"
   },
   {
    "duration": 10,
    "start_time": "2022-07-05T21:16:16.688Z"
   },
   {
    "duration": 74,
    "start_time": "2022-07-05T21:16:16.701Z"
   },
   {
    "duration": 28,
    "start_time": "2022-07-05T21:16:16.777Z"
   },
   {
    "duration": 381,
    "start_time": "2022-07-05T21:16:16.807Z"
   },
   {
    "duration": 246,
    "start_time": "2022-07-05T21:16:17.190Z"
   },
   {
    "duration": 22,
    "start_time": "2022-07-05T21:16:17.438Z"
   },
   {
    "duration": 636,
    "start_time": "2022-07-05T21:16:20.416Z"
   },
   {
    "duration": 4,
    "start_time": "2022-07-05T21:19:55.568Z"
   },
   {
    "duration": 899,
    "start_time": "2022-07-05T21:19:55.576Z"
   },
   {
    "duration": 4,
    "start_time": "2022-07-05T21:19:56.477Z"
   },
   {
    "duration": 7,
    "start_time": "2022-07-05T21:19:56.482Z"
   },
   {
    "duration": 6,
    "start_time": "2022-07-05T21:19:56.491Z"
   },
   {
    "duration": 315,
    "start_time": "2022-07-05T21:19:56.498Z"
   },
   {
    "duration": 81,
    "start_time": "2022-07-05T21:19:56.814Z"
   },
   {
    "duration": 84,
    "start_time": "2022-07-05T21:19:56.897Z"
   },
   {
    "duration": 6,
    "start_time": "2022-07-05T21:19:56.983Z"
   },
   {
    "duration": 149,
    "start_time": "2022-07-05T21:19:56.990Z"
   },
   {
    "duration": 386,
    "start_time": "2022-07-05T21:19:57.142Z"
   },
   {
    "duration": 91,
    "start_time": "2022-07-05T21:19:57.530Z"
   },
   {
    "duration": 49,
    "start_time": "2022-07-05T21:19:57.622Z"
   },
   {
    "duration": 124,
    "start_time": "2022-07-05T21:19:57.673Z"
   },
   {
    "duration": 28,
    "start_time": "2022-07-05T21:19:57.798Z"
   },
   {
    "duration": 20,
    "start_time": "2022-07-05T21:19:57.827Z"
   },
   {
    "duration": 49,
    "start_time": "2022-07-05T21:19:57.860Z"
   },
   {
    "duration": 19,
    "start_time": "2022-07-05T21:19:57.911Z"
   },
   {
    "duration": 68,
    "start_time": "2022-07-05T21:19:57.931Z"
   },
   {
    "duration": 18,
    "start_time": "2022-07-05T21:19:58.000Z"
   },
   {
    "duration": 65,
    "start_time": "2022-07-05T21:19:58.020Z"
   },
   {
    "duration": 18,
    "start_time": "2022-07-05T21:19:58.086Z"
   },
   {
    "duration": 103,
    "start_time": "2022-07-05T21:19:58.106Z"
   },
   {
    "duration": 4,
    "start_time": "2022-07-05T21:19:58.210Z"
   },
   {
    "duration": 508,
    "start_time": "2022-07-05T21:19:58.216Z"
   },
   {
    "duration": 18,
    "start_time": "2022-07-05T21:19:58.726Z"
   },
   {
    "duration": 43,
    "start_time": "2022-07-05T21:19:58.746Z"
   },
   {
    "duration": 37,
    "start_time": "2022-07-05T21:19:58.791Z"
   },
   {
    "duration": 32,
    "start_time": "2022-07-05T21:19:58.831Z"
   },
   {
    "duration": 317,
    "start_time": "2022-07-05T21:19:58.864Z"
   },
   {
    "duration": 66,
    "start_time": "2022-07-05T21:19:59.183Z"
   },
   {
    "duration": 396,
    "start_time": "2022-07-05T21:19:59.260Z"
   },
   {
    "duration": 305,
    "start_time": "2022-07-05T21:19:59.660Z"
   },
   {
    "duration": 9,
    "start_time": "2022-07-05T21:19:59.967Z"
   },
   {
    "duration": 58,
    "start_time": "2022-07-05T21:19:59.977Z"
   },
   {
    "duration": 48,
    "start_time": "2022-07-05T21:20:00.037Z"
   },
   {
    "duration": 81,
    "start_time": "2022-07-05T21:20:00.087Z"
   },
   {
    "duration": 338,
    "start_time": "2022-07-05T21:20:00.169Z"
   },
   {
    "duration": 251,
    "start_time": "2022-07-05T21:20:00.509Z"
   },
   {
    "duration": 8,
    "start_time": "2022-07-05T21:20:00.762Z"
   },
   {
    "duration": 57,
    "start_time": "2022-07-05T21:20:00.771Z"
   },
   {
    "duration": 31,
    "start_time": "2022-07-05T21:20:00.829Z"
   },
   {
    "duration": 343,
    "start_time": "2022-07-05T21:20:00.862Z"
   },
   {
    "duration": 224,
    "start_time": "2022-07-05T21:20:01.206Z"
   },
   {
    "duration": 12,
    "start_time": "2022-07-05T21:20:01.432Z"
   },
   {
    "duration": 78,
    "start_time": "2022-07-05T21:20:01.446Z"
   },
   {
    "duration": 0,
    "start_time": "2022-07-05T21:20:01.526Z"
   },
   {
    "duration": 0,
    "start_time": "2022-07-05T21:20:01.527Z"
   },
   {
    "duration": 0,
    "start_time": "2022-07-05T21:20:01.528Z"
   },
   {
    "duration": 4,
    "start_time": "2022-07-05T21:20:51.689Z"
   },
   {
    "duration": 834,
    "start_time": "2022-07-05T21:20:51.695Z"
   },
   {
    "duration": 3,
    "start_time": "2022-07-05T21:20:52.531Z"
   },
   {
    "duration": 7,
    "start_time": "2022-07-05T21:20:52.536Z"
   },
   {
    "duration": 19,
    "start_time": "2022-07-05T21:20:52.544Z"
   },
   {
    "duration": 317,
    "start_time": "2022-07-05T21:20:52.565Z"
   },
   {
    "duration": 85,
    "start_time": "2022-07-05T21:20:52.884Z"
   },
   {
    "duration": 90,
    "start_time": "2022-07-05T21:20:52.971Z"
   },
   {
    "duration": 6,
    "start_time": "2022-07-05T21:20:53.063Z"
   },
   {
    "duration": 149,
    "start_time": "2022-07-05T21:20:53.071Z"
   },
   {
    "duration": 381,
    "start_time": "2022-07-05T21:20:53.221Z"
   },
   {
    "duration": 80,
    "start_time": "2022-07-05T21:20:53.603Z"
   },
   {
    "duration": 43,
    "start_time": "2022-07-05T21:20:53.685Z"
   },
   {
    "duration": 131,
    "start_time": "2022-07-05T21:20:53.730Z"
   },
   {
    "duration": 28,
    "start_time": "2022-07-05T21:20:53.862Z"
   },
   {
    "duration": 22,
    "start_time": "2022-07-05T21:20:53.892Z"
   },
   {
    "duration": 66,
    "start_time": "2022-07-05T21:20:53.916Z"
   },
   {
    "duration": 19,
    "start_time": "2022-07-05T21:20:53.983Z"
   },
   {
    "duration": 69,
    "start_time": "2022-07-05T21:20:54.004Z"
   },
   {
    "duration": 17,
    "start_time": "2022-07-05T21:20:54.075Z"
   },
   {
    "duration": 69,
    "start_time": "2022-07-05T21:20:54.094Z"
   },
   {
    "duration": 19,
    "start_time": "2022-07-05T21:20:54.165Z"
   },
   {
    "duration": 108,
    "start_time": "2022-07-05T21:20:54.186Z"
   },
   {
    "duration": 4,
    "start_time": "2022-07-05T21:20:54.296Z"
   },
   {
    "duration": 565,
    "start_time": "2022-07-05T21:20:54.301Z"
   },
   {
    "duration": 20,
    "start_time": "2022-07-05T21:20:54.868Z"
   },
   {
    "duration": 32,
    "start_time": "2022-07-05T21:20:54.889Z"
   },
   {
    "duration": 58,
    "start_time": "2022-07-05T21:20:54.922Z"
   },
   {
    "duration": 20,
    "start_time": "2022-07-05T21:20:54.981Z"
   },
   {
    "duration": 439,
    "start_time": "2022-07-05T21:20:55.003Z"
   },
   {
    "duration": 89,
    "start_time": "2022-07-05T21:20:55.444Z"
   },
   {
    "duration": 320,
    "start_time": "2022-07-05T21:20:55.535Z"
   },
   {
    "duration": 302,
    "start_time": "2022-07-05T21:20:55.860Z"
   },
   {
    "duration": 9,
    "start_time": "2022-07-05T21:20:56.164Z"
   },
   {
    "duration": 85,
    "start_time": "2022-07-05T21:20:56.175Z"
   },
   {
    "duration": 42,
    "start_time": "2022-07-05T21:20:56.262Z"
   },
   {
    "duration": 101,
    "start_time": "2022-07-05T21:20:56.309Z"
   },
   {
    "duration": 344,
    "start_time": "2022-07-05T21:20:56.412Z"
   },
   {
    "duration": 248,
    "start_time": "2022-07-05T21:20:56.760Z"
   },
   {
    "duration": 9,
    "start_time": "2022-07-05T21:20:57.010Z"
   },
   {
    "duration": 57,
    "start_time": "2022-07-05T21:20:57.021Z"
   },
   {
    "duration": 26,
    "start_time": "2022-07-05T21:20:57.080Z"
   },
   {
    "duration": 358,
    "start_time": "2022-07-05T21:20:57.108Z"
   },
   {
    "duration": 197,
    "start_time": "2022-07-05T21:20:57.468Z"
   },
   {
    "duration": 12,
    "start_time": "2022-07-05T21:20:57.668Z"
   },
   {
    "duration": 35,
    "start_time": "2022-07-05T21:20:57.682Z"
   },
   {
    "duration": 17,
    "start_time": "2022-07-05T21:21:02.684Z"
   },
   {
    "duration": 4,
    "start_time": "2022-07-05T21:21:36.531Z"
   },
   {
    "duration": 836,
    "start_time": "2022-07-05T21:21:36.538Z"
   },
   {
    "duration": 3,
    "start_time": "2022-07-05T21:21:37.376Z"
   },
   {
    "duration": 9,
    "start_time": "2022-07-05T21:21:37.380Z"
   },
   {
    "duration": 8,
    "start_time": "2022-07-05T21:21:37.391Z"
   },
   {
    "duration": 297,
    "start_time": "2022-07-05T21:21:37.401Z"
   },
   {
    "duration": 82,
    "start_time": "2022-07-05T21:21:37.700Z"
   },
   {
    "duration": 87,
    "start_time": "2022-07-05T21:21:37.784Z"
   },
   {
    "duration": 6,
    "start_time": "2022-07-05T21:21:37.873Z"
   },
   {
    "duration": 149,
    "start_time": "2022-07-05T21:21:37.881Z"
   },
   {
    "duration": 400,
    "start_time": "2022-07-05T21:21:38.031Z"
   },
   {
    "duration": 90,
    "start_time": "2022-07-05T21:21:38.433Z"
   },
   {
    "duration": 48,
    "start_time": "2022-07-05T21:21:38.524Z"
   },
   {
    "duration": 116,
    "start_time": "2022-07-05T21:21:38.574Z"
   },
   {
    "duration": 41,
    "start_time": "2022-07-05T21:21:38.693Z"
   },
   {
    "duration": 36,
    "start_time": "2022-07-05T21:21:38.736Z"
   },
   {
    "duration": 52,
    "start_time": "2022-07-05T21:21:38.774Z"
   },
   {
    "duration": 39,
    "start_time": "2022-07-05T21:21:38.828Z"
   },
   {
    "duration": 61,
    "start_time": "2022-07-05T21:21:38.869Z"
   },
   {
    "duration": 33,
    "start_time": "2022-07-05T21:21:38.932Z"
   },
   {
    "duration": 52,
    "start_time": "2022-07-05T21:21:38.967Z"
   },
   {
    "duration": 17,
    "start_time": "2022-07-05T21:21:39.021Z"
   },
   {
    "duration": 106,
    "start_time": "2022-07-05T21:21:39.040Z"
   },
   {
    "duration": 13,
    "start_time": "2022-07-05T21:21:39.148Z"
   },
   {
    "duration": 579,
    "start_time": "2022-07-05T21:21:39.163Z"
   },
   {
    "duration": 22,
    "start_time": "2022-07-05T21:21:39.744Z"
   },
   {
    "duration": 31,
    "start_time": "2022-07-05T21:21:39.767Z"
   },
   {
    "duration": 39,
    "start_time": "2022-07-05T21:21:39.800Z"
   },
   {
    "duration": 37,
    "start_time": "2022-07-05T21:21:39.840Z"
   },
   {
    "duration": 325,
    "start_time": "2022-07-05T21:21:39.879Z"
   },
   {
    "duration": 79,
    "start_time": "2022-07-05T21:21:40.206Z"
   },
   {
    "duration": 317,
    "start_time": "2022-07-05T21:21:40.287Z"
   },
   {
    "duration": 307,
    "start_time": "2022-07-05T21:21:40.606Z"
   },
   {
    "duration": 10,
    "start_time": "2022-07-05T21:21:40.915Z"
   },
   {
    "duration": 71,
    "start_time": "2022-07-05T21:21:40.926Z"
   },
   {
    "duration": 32,
    "start_time": "2022-07-05T21:21:40.998Z"
   },
   {
    "duration": 82,
    "start_time": "2022-07-05T21:21:41.032Z"
   },
   {
    "duration": 333,
    "start_time": "2022-07-05T21:21:41.116Z"
   },
   {
    "duration": 263,
    "start_time": "2022-07-05T21:21:41.451Z"
   },
   {
    "duration": 8,
    "start_time": "2022-07-05T21:21:41.716Z"
   },
   {
    "duration": 58,
    "start_time": "2022-07-05T21:21:41.725Z"
   },
   {
    "duration": 25,
    "start_time": "2022-07-05T21:21:41.787Z"
   },
   {
    "duration": 362,
    "start_time": "2022-07-05T21:21:41.814Z"
   },
   {
    "duration": 232,
    "start_time": "2022-07-05T21:21:42.178Z"
   },
   {
    "duration": 13,
    "start_time": "2022-07-05T21:21:42.412Z"
   },
   {
    "duration": 37,
    "start_time": "2022-07-05T21:21:45.850Z"
   },
   {
    "duration": 10,
    "start_time": "2022-07-05T21:21:48.831Z"
   },
   {
    "duration": 3,
    "start_time": "2022-07-05T21:23:12.221Z"
   },
   {
    "duration": 15,
    "start_time": "2022-07-05T21:26:57.144Z"
   },
   {
    "duration": 10,
    "start_time": "2022-07-05T21:35:02.035Z"
   },
   {
    "duration": 10,
    "start_time": "2022-07-05T21:39:14.342Z"
   },
   {
    "duration": 2775,
    "start_time": "2022-07-05T21:41:04.108Z"
   },
   {
    "duration": 1191,
    "start_time": "2022-07-05T21:41:27.655Z"
   },
   {
    "duration": 3,
    "start_time": "2022-07-05T22:47:10.656Z"
   },
   {
    "duration": 859,
    "start_time": "2022-07-05T22:47:10.662Z"
   },
   {
    "duration": 3,
    "start_time": "2022-07-05T22:47:11.523Z"
   },
   {
    "duration": 20,
    "start_time": "2022-07-05T22:47:11.528Z"
   },
   {
    "duration": 23,
    "start_time": "2022-07-05T22:47:11.550Z"
   },
   {
    "duration": 322,
    "start_time": "2022-07-05T22:47:11.574Z"
   },
   {
    "duration": 83,
    "start_time": "2022-07-05T22:47:11.897Z"
   },
   {
    "duration": 91,
    "start_time": "2022-07-05T22:47:11.982Z"
   },
   {
    "duration": 5,
    "start_time": "2022-07-05T22:47:12.075Z"
   },
   {
    "duration": 163,
    "start_time": "2022-07-05T22:47:12.082Z"
   },
   {
    "duration": 381,
    "start_time": "2022-07-05T22:47:12.248Z"
   },
   {
    "duration": 90,
    "start_time": "2022-07-05T22:47:12.631Z"
   },
   {
    "duration": 51,
    "start_time": "2022-07-05T22:47:12.723Z"
   },
   {
    "duration": 134,
    "start_time": "2022-07-05T22:47:12.776Z"
   },
   {
    "duration": 28,
    "start_time": "2022-07-05T22:47:12.912Z"
   },
   {
    "duration": 39,
    "start_time": "2022-07-05T22:47:12.942Z"
   },
   {
    "duration": 67,
    "start_time": "2022-07-05T22:47:12.983Z"
   },
   {
    "duration": 19,
    "start_time": "2022-07-05T22:47:13.052Z"
   },
   {
    "duration": 64,
    "start_time": "2022-07-05T22:47:13.073Z"
   },
   {
    "duration": 21,
    "start_time": "2022-07-05T22:47:13.139Z"
   },
   {
    "duration": 52,
    "start_time": "2022-07-05T22:47:13.162Z"
   },
   {
    "duration": 28,
    "start_time": "2022-07-05T22:47:13.216Z"
   },
   {
    "duration": 100,
    "start_time": "2022-07-05T22:47:13.245Z"
   },
   {
    "duration": 14,
    "start_time": "2022-07-05T22:47:13.347Z"
   },
   {
    "duration": 464,
    "start_time": "2022-07-05T22:47:13.362Z"
   },
   {
    "duration": 18,
    "start_time": "2022-07-05T22:47:13.828Z"
   },
   {
    "duration": 31,
    "start_time": "2022-07-05T22:47:13.860Z"
   },
   {
    "duration": 38,
    "start_time": "2022-07-05T22:47:13.893Z"
   },
   {
    "duration": 32,
    "start_time": "2022-07-05T22:47:13.935Z"
   },
   {
    "duration": 319,
    "start_time": "2022-07-05T22:47:13.968Z"
   },
   {
    "duration": 77,
    "start_time": "2022-07-05T22:47:14.289Z"
   },
   {
    "duration": 313,
    "start_time": "2022-07-05T22:47:14.369Z"
   },
   {
    "duration": 311,
    "start_time": "2022-07-05T22:47:14.683Z"
   },
   {
    "duration": 10,
    "start_time": "2022-07-05T22:47:14.996Z"
   },
   {
    "duration": 70,
    "start_time": "2022-07-05T22:47:15.007Z"
   },
   {
    "duration": 33,
    "start_time": "2022-07-05T22:47:15.080Z"
   },
   {
    "duration": 85,
    "start_time": "2022-07-05T22:47:15.114Z"
   },
   {
    "duration": 328,
    "start_time": "2022-07-05T22:47:15.200Z"
   },
   {
    "duration": 346,
    "start_time": "2022-07-05T22:47:15.530Z"
   },
   {
    "duration": 7,
    "start_time": "2022-07-05T22:47:15.878Z"
   },
   {
    "duration": 37,
    "start_time": "2022-07-05T22:47:15.887Z"
   },
   {
    "duration": 41,
    "start_time": "2022-07-05T22:47:15.926Z"
   },
   {
    "duration": 353,
    "start_time": "2022-07-05T22:47:15.969Z"
   },
   {
    "duration": 241,
    "start_time": "2022-07-05T22:47:16.324Z"
   },
   {
    "duration": 12,
    "start_time": "2022-07-05T22:47:16.567Z"
   },
   {
    "duration": 45,
    "start_time": "2022-07-05T22:47:16.581Z"
   },
   {
    "duration": 3,
    "start_time": "2022-07-05T22:47:16.627Z"
   },
   {
    "duration": 3,
    "start_time": "2022-07-05T22:47:18.323Z"
   },
   {
    "duration": 848,
    "start_time": "2022-07-05T22:47:21.013Z"
   },
   {
    "duration": 839,
    "start_time": "2022-07-05T22:47:44.236Z"
   },
   {
    "duration": 3,
    "start_time": "2022-07-05T22:48:22.410Z"
   },
   {
    "duration": 844,
    "start_time": "2022-07-05T22:48:22.417Z"
   },
   {
    "duration": 3,
    "start_time": "2022-07-05T22:48:23.263Z"
   },
   {
    "duration": 7,
    "start_time": "2022-07-05T22:48:23.268Z"
   },
   {
    "duration": 5,
    "start_time": "2022-07-05T22:48:23.277Z"
   },
   {
    "duration": 312,
    "start_time": "2022-07-05T22:48:23.283Z"
   },
   {
    "duration": 78,
    "start_time": "2022-07-05T22:48:23.596Z"
   },
   {
    "duration": 90,
    "start_time": "2022-07-05T22:48:23.676Z"
   },
   {
    "duration": 5,
    "start_time": "2022-07-05T22:48:23.768Z"
   },
   {
    "duration": 142,
    "start_time": "2022-07-05T22:48:23.775Z"
   },
   {
    "duration": 387,
    "start_time": "2022-07-05T22:48:23.920Z"
   },
   {
    "duration": 84,
    "start_time": "2022-07-05T22:48:24.308Z"
   },
   {
    "duration": 43,
    "start_time": "2022-07-05T22:48:24.394Z"
   },
   {
    "duration": 128,
    "start_time": "2022-07-05T22:48:24.439Z"
   },
   {
    "duration": 28,
    "start_time": "2022-07-05T22:48:24.569Z"
   },
   {
    "duration": 20,
    "start_time": "2022-07-05T22:48:24.599Z"
   },
   {
    "duration": 71,
    "start_time": "2022-07-05T22:48:24.620Z"
   },
   {
    "duration": 22,
    "start_time": "2022-07-05T22:48:24.693Z"
   },
   {
    "duration": 65,
    "start_time": "2022-07-05T22:48:24.717Z"
   },
   {
    "duration": 18,
    "start_time": "2022-07-05T22:48:24.783Z"
   },
   {
    "duration": 64,
    "start_time": "2022-07-05T22:48:24.803Z"
   },
   {
    "duration": 17,
    "start_time": "2022-07-05T22:48:24.869Z"
   },
   {
    "duration": 104,
    "start_time": "2022-07-05T22:48:24.888Z"
   },
   {
    "duration": 5,
    "start_time": "2022-07-05T22:48:24.993Z"
   },
   {
    "duration": 505,
    "start_time": "2022-07-05T22:48:24.999Z"
   },
   {
    "duration": 17,
    "start_time": "2022-07-05T22:48:25.506Z"
   },
   {
    "duration": 45,
    "start_time": "2022-07-05T22:48:25.525Z"
   },
   {
    "duration": 40,
    "start_time": "2022-07-05T22:48:25.571Z"
   },
   {
    "duration": 19,
    "start_time": "2022-07-05T22:48:25.615Z"
   },
   {
    "duration": 334,
    "start_time": "2022-07-05T22:48:25.636Z"
   },
   {
    "duration": 70,
    "start_time": "2022-07-05T22:48:25.972Z"
   },
   {
    "duration": 366,
    "start_time": "2022-07-05T22:48:26.043Z"
   },
   {
    "duration": 301,
    "start_time": "2022-07-05T22:48:26.411Z"
   },
   {
    "duration": 9,
    "start_time": "2022-07-05T22:48:26.714Z"
   },
   {
    "duration": 69,
    "start_time": "2022-07-05T22:48:26.725Z"
   },
   {
    "duration": 34,
    "start_time": "2022-07-05T22:48:26.795Z"
   },
   {
    "duration": 88,
    "start_time": "2022-07-05T22:48:26.830Z"
   },
   {
    "duration": 424,
    "start_time": "2022-07-05T22:48:26.919Z"
   },
   {
    "duration": 250,
    "start_time": "2022-07-05T22:48:27.345Z"
   },
   {
    "duration": 8,
    "start_time": "2022-07-05T22:48:27.597Z"
   },
   {
    "duration": 56,
    "start_time": "2022-07-05T22:48:27.607Z"
   },
   {
    "duration": 26,
    "start_time": "2022-07-05T22:48:27.664Z"
   },
   {
    "duration": 343,
    "start_time": "2022-07-05T22:48:27.691Z"
   },
   {
    "duration": 206,
    "start_time": "2022-07-05T22:48:28.036Z"
   },
   {
    "duration": 18,
    "start_time": "2022-07-05T22:48:28.244Z"
   },
   {
    "duration": 45,
    "start_time": "2022-07-05T22:48:28.264Z"
   },
   {
    "duration": 3,
    "start_time": "2022-07-05T22:48:28.311Z"
   },
   {
    "duration": 3,
    "start_time": "2022-07-05T22:48:29.783Z"
   },
   {
    "duration": 903,
    "start_time": "2022-07-05T22:48:30.938Z"
   },
   {
    "duration": 19,
    "start_time": "2022-07-05T23:11:06.674Z"
   },
   {
    "duration": 17,
    "start_time": "2022-07-05T23:14:32.019Z"
   },
   {
    "duration": 58,
    "start_time": "2022-07-05T23:15:25.464Z"
   },
   {
    "duration": 9,
    "start_time": "2022-07-05T23:16:17.825Z"
   },
   {
    "duration": 10,
    "start_time": "2022-07-05T23:19:15.274Z"
   },
   {
    "duration": 4,
    "start_time": "2022-07-05T23:20:35.440Z"
   },
   {
    "duration": 4,
    "start_time": "2022-07-05T23:25:14.958Z"
   },
   {
    "duration": 876,
    "start_time": "2022-07-05T23:25:14.965Z"
   },
   {
    "duration": 3,
    "start_time": "2022-07-05T23:25:15.842Z"
   },
   {
    "duration": 15,
    "start_time": "2022-07-05T23:25:15.847Z"
   },
   {
    "duration": 9,
    "start_time": "2022-07-05T23:25:15.864Z"
   },
   {
    "duration": 314,
    "start_time": "2022-07-05T23:25:15.874Z"
   },
   {
    "duration": 114,
    "start_time": "2022-07-05T23:25:16.190Z"
   },
   {
    "duration": 110,
    "start_time": "2022-07-05T23:25:16.306Z"
   },
   {
    "duration": 6,
    "start_time": "2022-07-05T23:25:16.418Z"
   },
   {
    "duration": 151,
    "start_time": "2022-07-05T23:25:16.426Z"
   },
   {
    "duration": 396,
    "start_time": "2022-07-05T23:25:16.581Z"
   },
   {
    "duration": 82,
    "start_time": "2022-07-05T23:25:16.979Z"
   },
   {
    "duration": 42,
    "start_time": "2022-07-05T23:25:17.063Z"
   },
   {
    "duration": 130,
    "start_time": "2022-07-05T23:25:17.107Z"
   },
   {
    "duration": 33,
    "start_time": "2022-07-05T23:25:17.238Z"
   },
   {
    "duration": 24,
    "start_time": "2022-07-05T23:25:17.273Z"
   },
   {
    "duration": 66,
    "start_time": "2022-07-05T23:25:17.299Z"
   },
   {
    "duration": 22,
    "start_time": "2022-07-05T23:25:17.367Z"
   },
   {
    "duration": 52,
    "start_time": "2022-07-05T23:25:17.390Z"
   },
   {
    "duration": 18,
    "start_time": "2022-07-05T23:25:17.460Z"
   },
   {
    "duration": 52,
    "start_time": "2022-07-05T23:25:17.479Z"
   },
   {
    "duration": 32,
    "start_time": "2022-07-05T23:25:17.533Z"
   },
   {
    "duration": 102,
    "start_time": "2022-07-05T23:25:17.566Z"
   },
   {
    "duration": 4,
    "start_time": "2022-07-05T23:25:17.670Z"
   },
   {
    "duration": 495,
    "start_time": "2022-07-05T23:25:17.675Z"
   },
   {
    "duration": 18,
    "start_time": "2022-07-05T23:25:18.172Z"
   },
   {
    "duration": 32,
    "start_time": "2022-07-05T23:25:18.192Z"
   },
   {
    "duration": 59,
    "start_time": "2022-07-05T23:25:18.225Z"
   },
   {
    "duration": 20,
    "start_time": "2022-07-05T23:25:18.288Z"
   },
   {
    "duration": 327,
    "start_time": "2022-07-05T23:25:18.310Z"
   },
   {
    "duration": 80,
    "start_time": "2022-07-05T23:25:18.639Z"
   },
   {
    "duration": 313,
    "start_time": "2022-07-05T23:25:18.720Z"
   },
   {
    "duration": 410,
    "start_time": "2022-07-05T23:25:19.035Z"
   },
   {
    "duration": 19,
    "start_time": "2022-07-05T23:25:19.447Z"
   },
   {
    "duration": 57,
    "start_time": "2022-07-05T23:25:19.467Z"
   },
   {
    "duration": 47,
    "start_time": "2022-07-05T23:25:19.525Z"
   },
   {
    "duration": 73,
    "start_time": "2022-07-05T23:25:19.574Z"
   },
   {
    "duration": 332,
    "start_time": "2022-07-05T23:25:19.660Z"
   },
   {
    "duration": 258,
    "start_time": "2022-07-05T23:25:19.993Z"
   },
   {
    "duration": 13,
    "start_time": "2022-07-05T23:25:20.253Z"
   },
   {
    "duration": 40,
    "start_time": "2022-07-05T23:25:20.268Z"
   },
   {
    "duration": 23,
    "start_time": "2022-07-05T23:25:20.310Z"
   },
   {
    "duration": 364,
    "start_time": "2022-07-05T23:25:20.335Z"
   },
   {
    "duration": 203,
    "start_time": "2022-07-05T23:25:20.701Z"
   },
   {
    "duration": 13,
    "start_time": "2022-07-05T23:25:20.906Z"
   },
   {
    "duration": 7,
    "start_time": "2022-07-05T23:25:24.681Z"
   },
   {
    "duration": 7,
    "start_time": "2022-07-05T23:25:56.425Z"
   },
   {
    "duration": 46,
    "start_time": "2022-07-05T23:25:57.978Z"
   },
   {
    "duration": 949,
    "start_time": "2022-07-05T23:26:32.035Z"
   },
   {
    "duration": 7,
    "start_time": "2022-07-05T23:28:17.336Z"
   },
   {
    "duration": 1031,
    "start_time": "2022-07-05T23:28:18.485Z"
   },
   {
    "duration": 3,
    "start_time": "2022-07-05T23:29:01.970Z"
   },
   {
    "duration": 7,
    "start_time": "2022-07-05T23:29:07.669Z"
   },
   {
    "duration": 1046,
    "start_time": "2022-07-05T23:29:08.743Z"
   },
   {
    "duration": 6,
    "start_time": "2022-07-05T23:30:00.514Z"
   },
   {
    "duration": 1052,
    "start_time": "2022-07-05T23:30:01.172Z"
   },
   {
    "duration": 8,
    "start_time": "2022-07-05T23:30:50.036Z"
   },
   {
    "duration": 1434,
    "start_time": "2022-07-05T23:30:50.830Z"
   },
   {
    "duration": 8,
    "start_time": "2022-07-05T23:32:30.646Z"
   },
   {
    "duration": 1150,
    "start_time": "2022-07-05T23:32:31.768Z"
   },
   {
    "duration": 1188,
    "start_time": "2022-07-05T23:33:46.184Z"
   },
   {
    "duration": 8,
    "start_time": "2022-07-05T23:35:25.951Z"
   },
   {
    "duration": 1141,
    "start_time": "2022-07-05T23:35:26.847Z"
   },
   {
    "duration": 7,
    "start_time": "2022-07-05T23:36:41.652Z"
   },
   {
    "duration": 1161,
    "start_time": "2022-07-05T23:36:42.831Z"
   },
   {
    "duration": 7,
    "start_time": "2022-07-05T23:37:16.342Z"
   },
   {
    "duration": 1141,
    "start_time": "2022-07-05T23:37:16.993Z"
   },
   {
    "duration": 7,
    "start_time": "2022-07-05T23:43:21.156Z"
   },
   {
    "duration": 1126,
    "start_time": "2022-07-05T23:43:21.734Z"
   },
   {
    "duration": 7,
    "start_time": "2022-07-05T23:43:46.433Z"
   },
   {
    "duration": 1122,
    "start_time": "2022-07-05T23:43:47.115Z"
   },
   {
    "duration": 3,
    "start_time": "2022-07-06T00:49:39.456Z"
   },
   {
    "duration": 38,
    "start_time": "2022-07-06T01:46:02.453Z"
   },
   {
    "duration": 12,
    "start_time": "2022-07-06T01:46:32.475Z"
   },
   {
    "duration": 31050,
    "start_time": "2022-07-06T01:47:30.919Z"
   },
   {
    "duration": 1505,
    "start_time": "2022-07-06T01:50:50.384Z"
   },
   {
    "duration": 1170,
    "start_time": "2022-07-06T01:50:51.891Z"
   },
   {
    "duration": 4,
    "start_time": "2022-07-06T01:50:53.062Z"
   },
   {
    "duration": 11,
    "start_time": "2022-07-06T01:50:53.067Z"
   },
   {
    "duration": 8,
    "start_time": "2022-07-06T01:50:53.080Z"
   },
   {
    "duration": 365,
    "start_time": "2022-07-06T01:50:53.089Z"
   },
   {
    "duration": 80,
    "start_time": "2022-07-06T01:50:53.456Z"
   },
   {
    "duration": 84,
    "start_time": "2022-07-06T01:50:53.538Z"
   },
   {
    "duration": 6,
    "start_time": "2022-07-06T01:50:53.623Z"
   },
   {
    "duration": 158,
    "start_time": "2022-07-06T01:50:53.632Z"
   },
   {
    "duration": 404,
    "start_time": "2022-07-06T01:50:53.791Z"
   },
   {
    "duration": 84,
    "start_time": "2022-07-06T01:50:54.196Z"
   },
   {
    "duration": 42,
    "start_time": "2022-07-06T01:50:54.281Z"
   },
   {
    "duration": 140,
    "start_time": "2022-07-06T01:50:54.324Z"
   },
   {
    "duration": 29,
    "start_time": "2022-07-06T01:50:54.465Z"
   },
   {
    "duration": 48,
    "start_time": "2022-07-06T01:50:54.495Z"
   },
   {
    "duration": 80,
    "start_time": "2022-07-06T01:50:54.545Z"
   },
   {
    "duration": 35,
    "start_time": "2022-07-06T01:50:54.626Z"
   },
   {
    "duration": 81,
    "start_time": "2022-07-06T01:50:54.663Z"
   },
   {
    "duration": 24,
    "start_time": "2022-07-06T01:50:54.746Z"
   },
   {
    "duration": 82,
    "start_time": "2022-07-06T01:50:54.772Z"
   },
   {
    "duration": 17,
    "start_time": "2022-07-06T01:50:54.856Z"
   },
   {
    "duration": 114,
    "start_time": "2022-07-06T01:50:54.875Z"
   },
   {
    "duration": 4,
    "start_time": "2022-07-06T01:50:54.991Z"
   },
   {
    "duration": 582,
    "start_time": "2022-07-06T01:50:54.996Z"
   },
   {
    "duration": 19,
    "start_time": "2022-07-06T01:50:55.579Z"
   },
   {
    "duration": 33,
    "start_time": "2022-07-06T01:50:55.599Z"
   },
   {
    "duration": 71,
    "start_time": "2022-07-06T01:50:55.635Z"
   },
   {
    "duration": 19,
    "start_time": "2022-07-06T01:50:55.707Z"
   },
   {
    "duration": 326,
    "start_time": "2022-07-06T01:50:55.728Z"
   },
   {
    "duration": 83,
    "start_time": "2022-07-06T01:50:56.056Z"
   },
   {
    "duration": 346,
    "start_time": "2022-07-06T01:50:56.141Z"
   },
   {
    "duration": 321,
    "start_time": "2022-07-06T01:50:56.488Z"
   },
   {
    "duration": 11,
    "start_time": "2022-07-06T01:50:56.812Z"
   },
   {
    "duration": 75,
    "start_time": "2022-07-06T01:50:56.825Z"
   },
   {
    "duration": 35,
    "start_time": "2022-07-06T01:50:56.902Z"
   },
   {
    "duration": 86,
    "start_time": "2022-07-06T01:50:56.939Z"
   },
   {
    "duration": 317,
    "start_time": "2022-07-06T01:50:57.027Z"
   },
   {
    "duration": 238,
    "start_time": "2022-07-06T01:50:57.345Z"
   },
   {
    "duration": 9,
    "start_time": "2022-07-06T01:50:57.584Z"
   },
   {
    "duration": 42,
    "start_time": "2022-07-06T01:50:57.595Z"
   },
   {
    "duration": 42,
    "start_time": "2022-07-06T01:50:57.638Z"
   },
   {
    "duration": 354,
    "start_time": "2022-07-06T01:50:57.681Z"
   },
   {
    "duration": 218,
    "start_time": "2022-07-06T01:50:58.037Z"
   },
   {
    "duration": 15,
    "start_time": "2022-07-06T01:50:58.257Z"
   },
   {
    "duration": 116,
    "start_time": "2022-07-06T01:50:58.274Z"
   },
   {
    "duration": 1194,
    "start_time": "2022-07-06T01:50:58.392Z"
   },
   {
    "duration": 2,
    "start_time": "2022-07-06T01:50:59.588Z"
   },
   {
    "duration": 20,
    "start_time": "2022-07-06T01:50:59.592Z"
   },
   {
    "duration": 2,
    "start_time": "2022-07-06T01:51:01.661Z"
   },
   {
    "duration": 47,
    "start_time": "2022-07-06T02:00:32.926Z"
   },
   {
    "duration": 1582,
    "start_time": "2022-07-06T02:00:41.639Z"
   },
   {
    "duration": 1164,
    "start_time": "2022-07-06T02:00:43.223Z"
   },
   {
    "duration": 4,
    "start_time": "2022-07-06T02:00:44.388Z"
   },
   {
    "duration": 8,
    "start_time": "2022-07-06T02:00:44.393Z"
   },
   {
    "duration": 8,
    "start_time": "2022-07-06T02:00:44.402Z"
   },
   {
    "duration": 382,
    "start_time": "2022-07-06T02:00:44.411Z"
   },
   {
    "duration": 79,
    "start_time": "2022-07-06T02:00:44.794Z"
   },
   {
    "duration": 92,
    "start_time": "2022-07-06T02:00:44.874Z"
   },
   {
    "duration": 6,
    "start_time": "2022-07-06T02:00:44.968Z"
   },
   {
    "duration": 161,
    "start_time": "2022-07-06T02:00:44.976Z"
   },
   {
    "duration": 391,
    "start_time": "2022-07-06T02:00:45.138Z"
   },
   {
    "duration": 89,
    "start_time": "2022-07-06T02:00:45.531Z"
   },
   {
    "duration": 48,
    "start_time": "2022-07-06T02:00:45.621Z"
   },
   {
    "duration": 113,
    "start_time": "2022-07-06T02:00:45.671Z"
   },
   {
    "duration": 27,
    "start_time": "2022-07-06T02:00:45.785Z"
   },
   {
    "duration": 21,
    "start_time": "2022-07-06T02:00:45.813Z"
   },
   {
    "duration": 65,
    "start_time": "2022-07-06T02:00:45.836Z"
   },
   {
    "duration": 18,
    "start_time": "2022-07-06T02:00:45.902Z"
   },
   {
    "duration": 70,
    "start_time": "2022-07-06T02:00:45.922Z"
   },
   {
    "duration": 17,
    "start_time": "2022-07-06T02:00:45.994Z"
   },
   {
    "duration": 67,
    "start_time": "2022-07-06T02:00:46.012Z"
   },
   {
    "duration": 18,
    "start_time": "2022-07-06T02:00:46.081Z"
   },
   {
    "duration": 123,
    "start_time": "2022-07-06T02:00:46.101Z"
   },
   {
    "duration": 7,
    "start_time": "2022-07-06T02:00:46.225Z"
   },
   {
    "duration": 559,
    "start_time": "2022-07-06T02:00:46.234Z"
   },
   {
    "duration": 18,
    "start_time": "2022-07-06T02:00:46.794Z"
   },
   {
    "duration": 50,
    "start_time": "2022-07-06T02:00:46.813Z"
   },
   {
    "duration": 43,
    "start_time": "2022-07-06T02:00:46.867Z"
   },
   {
    "duration": 20,
    "start_time": "2022-07-06T02:00:46.912Z"
   },
   {
    "duration": 338,
    "start_time": "2022-07-06T02:00:46.934Z"
   },
   {
    "duration": 87,
    "start_time": "2022-07-06T02:00:47.274Z"
   },
   {
    "duration": 312,
    "start_time": "2022-07-06T02:00:47.362Z"
   },
   {
    "duration": 313,
    "start_time": "2022-07-06T02:00:47.676Z"
   },
   {
    "duration": 11,
    "start_time": "2022-07-06T02:00:47.990Z"
   },
   {
    "duration": 73,
    "start_time": "2022-07-06T02:00:48.002Z"
   },
   {
    "duration": 33,
    "start_time": "2022-07-06T02:00:48.077Z"
   },
   {
    "duration": 93,
    "start_time": "2022-07-06T02:00:48.112Z"
   },
   {
    "duration": 332,
    "start_time": "2022-07-06T02:00:48.206Z"
   },
   {
    "duration": 251,
    "start_time": "2022-07-06T02:00:48.539Z"
   },
   {
    "duration": 8,
    "start_time": "2022-07-06T02:00:48.791Z"
   },
   {
    "duration": 39,
    "start_time": "2022-07-06T02:00:48.801Z"
   },
   {
    "duration": 40,
    "start_time": "2022-07-06T02:00:48.842Z"
   },
   {
    "duration": 344,
    "start_time": "2022-07-06T02:00:48.884Z"
   },
   {
    "duration": 215,
    "start_time": "2022-07-06T02:00:49.230Z"
   },
   {
    "duration": 19,
    "start_time": "2022-07-06T02:00:49.446Z"
   },
   {
    "duration": 117,
    "start_time": "2022-07-06T02:00:49.467Z"
   },
   {
    "duration": 1204,
    "start_time": "2022-07-06T02:00:49.586Z"
   },
   {
    "duration": 3,
    "start_time": "2022-07-06T02:00:50.792Z"
   },
   {
    "duration": 17,
    "start_time": "2022-07-06T02:00:50.796Z"
   },
   {
    "duration": 3,
    "start_time": "2022-07-06T02:00:57.234Z"
   },
   {
    "duration": 348432,
    "start_time": "2022-07-06T02:00:58.304Z"
   },
   {
    "duration": 315435,
    "start_time": "2022-07-06T02:07:00.028Z"
   },
   {
    "duration": 1525,
    "start_time": "2022-07-06T02:13:35.076Z"
   },
   {
    "duration": 1176,
    "start_time": "2022-07-06T02:13:36.602Z"
   },
   {
    "duration": 3,
    "start_time": "2022-07-06T02:13:37.780Z"
   },
   {
    "duration": 6,
    "start_time": "2022-07-06T02:13:37.785Z"
   },
   {
    "duration": 11,
    "start_time": "2022-07-06T02:13:37.792Z"
   },
   {
    "duration": 369,
    "start_time": "2022-07-06T02:13:37.804Z"
   },
   {
    "duration": 85,
    "start_time": "2022-07-06T02:13:38.175Z"
   },
   {
    "duration": 81,
    "start_time": "2022-07-06T02:13:38.262Z"
   },
   {
    "duration": 20,
    "start_time": "2022-07-06T02:13:38.345Z"
   },
   {
    "duration": 151,
    "start_time": "2022-07-06T02:13:38.367Z"
   },
   {
    "duration": 413,
    "start_time": "2022-07-06T02:13:38.520Z"
   },
   {
    "duration": 83,
    "start_time": "2022-07-06T02:13:38.935Z"
   },
   {
    "duration": 53,
    "start_time": "2022-07-06T02:13:39.020Z"
   },
   {
    "duration": 115,
    "start_time": "2022-07-06T02:13:39.075Z"
   },
   {
    "duration": 27,
    "start_time": "2022-07-06T02:13:39.192Z"
   },
   {
    "duration": 22,
    "start_time": "2022-07-06T02:13:39.220Z"
   },
   {
    "duration": 66,
    "start_time": "2022-07-06T02:13:39.243Z"
   },
   {
    "duration": 21,
    "start_time": "2022-07-06T02:13:39.310Z"
   },
   {
    "duration": 71,
    "start_time": "2022-07-06T02:13:39.332Z"
   },
   {
    "duration": 17,
    "start_time": "2022-07-06T02:13:39.404Z"
   },
   {
    "duration": 69,
    "start_time": "2022-07-06T02:13:39.423Z"
   },
   {
    "duration": 18,
    "start_time": "2022-07-06T02:13:39.493Z"
   },
   {
    "duration": 108,
    "start_time": "2022-07-06T02:13:39.512Z"
   },
   {
    "duration": 3,
    "start_time": "2022-07-06T02:13:39.622Z"
   },
   {
    "duration": 552,
    "start_time": "2022-07-06T02:13:39.627Z"
   },
   {
    "duration": 19,
    "start_time": "2022-07-06T02:13:40.181Z"
   },
   {
    "duration": 39,
    "start_time": "2022-07-06T02:13:40.201Z"
   },
   {
    "duration": 50,
    "start_time": "2022-07-06T02:13:40.261Z"
   },
   {
    "duration": 19,
    "start_time": "2022-07-06T02:13:40.313Z"
   },
   {
    "duration": 317,
    "start_time": "2022-07-06T02:13:40.334Z"
   },
   {
    "duration": 80,
    "start_time": "2022-07-06T02:13:40.653Z"
   },
   {
    "duration": 326,
    "start_time": "2022-07-06T02:13:40.734Z"
   },
   {
    "duration": 308,
    "start_time": "2022-07-06T02:13:41.062Z"
   },
   {
    "duration": 11,
    "start_time": "2022-07-06T02:13:41.371Z"
   },
   {
    "duration": 76,
    "start_time": "2022-07-06T02:13:41.384Z"
   },
   {
    "duration": 35,
    "start_time": "2022-07-06T02:13:41.462Z"
   },
   {
    "duration": 90,
    "start_time": "2022-07-06T02:13:41.499Z"
   },
   {
    "duration": 328,
    "start_time": "2022-07-06T02:13:41.590Z"
   },
   {
    "duration": 251,
    "start_time": "2022-07-06T02:13:41.919Z"
   },
   {
    "duration": 9,
    "start_time": "2022-07-06T02:13:42.171Z"
   },
   {
    "duration": 40,
    "start_time": "2022-07-06T02:13:42.182Z"
   },
   {
    "duration": 46,
    "start_time": "2022-07-06T02:13:42.224Z"
   },
   {
    "duration": 351,
    "start_time": "2022-07-06T02:13:42.271Z"
   },
   {
    "duration": 230,
    "start_time": "2022-07-06T02:13:42.623Z"
   },
   {
    "duration": 16,
    "start_time": "2022-07-06T02:13:42.855Z"
   },
   {
    "duration": 115,
    "start_time": "2022-07-06T02:13:42.872Z"
   },
   {
    "duration": 1198,
    "start_time": "2022-07-06T02:13:42.988Z"
   },
   {
    "duration": 2,
    "start_time": "2022-07-06T02:13:44.188Z"
   },
   {
    "duration": 50,
    "start_time": "2022-07-06T02:13:44.192Z"
   },
   {
    "duration": 1,
    "start_time": "2022-07-06T02:16:02.716Z"
   },
   {
    "duration": 0,
    "start_time": "2022-07-06T02:16:02.718Z"
   },
   {
    "duration": 0,
    "start_time": "2022-07-06T02:16:02.719Z"
   },
   {
    "duration": 0,
    "start_time": "2022-07-06T02:16:02.720Z"
   },
   {
    "duration": 0,
    "start_time": "2022-07-06T02:16:02.721Z"
   },
   {
    "duration": 0,
    "start_time": "2022-07-06T02:16:02.723Z"
   },
   {
    "duration": 0,
    "start_time": "2022-07-06T02:16:02.724Z"
   },
   {
    "duration": 0,
    "start_time": "2022-07-06T02:16:02.725Z"
   },
   {
    "duration": 0,
    "start_time": "2022-07-06T02:16:02.726Z"
   },
   {
    "duration": 0,
    "start_time": "2022-07-06T02:16:02.728Z"
   },
   {
    "duration": 0,
    "start_time": "2022-07-06T02:16:02.729Z"
   },
   {
    "duration": 0,
    "start_time": "2022-07-06T02:16:02.761Z"
   },
   {
    "duration": 0,
    "start_time": "2022-07-06T02:16:02.762Z"
   },
   {
    "duration": 0,
    "start_time": "2022-07-06T02:16:02.763Z"
   },
   {
    "duration": 0,
    "start_time": "2022-07-06T02:16:02.764Z"
   },
   {
    "duration": 0,
    "start_time": "2022-07-06T02:16:02.765Z"
   },
   {
    "duration": 0,
    "start_time": "2022-07-06T02:16:02.766Z"
   },
   {
    "duration": 0,
    "start_time": "2022-07-06T02:16:02.767Z"
   },
   {
    "duration": 0,
    "start_time": "2022-07-06T02:16:02.768Z"
   },
   {
    "duration": 0,
    "start_time": "2022-07-06T02:16:02.769Z"
   },
   {
    "duration": 0,
    "start_time": "2022-07-06T02:16:02.770Z"
   },
   {
    "duration": 0,
    "start_time": "2022-07-06T02:16:02.771Z"
   },
   {
    "duration": 0,
    "start_time": "2022-07-06T02:16:02.772Z"
   },
   {
    "duration": 0,
    "start_time": "2022-07-06T02:16:02.773Z"
   },
   {
    "duration": 0,
    "start_time": "2022-07-06T02:16:02.774Z"
   },
   {
    "duration": 0,
    "start_time": "2022-07-06T02:16:02.776Z"
   },
   {
    "duration": 0,
    "start_time": "2022-07-06T02:16:02.777Z"
   },
   {
    "duration": 0,
    "start_time": "2022-07-06T02:16:02.778Z"
   },
   {
    "duration": 0,
    "start_time": "2022-07-06T02:16:02.779Z"
   },
   {
    "duration": 0,
    "start_time": "2022-07-06T02:16:02.780Z"
   },
   {
    "duration": 0,
    "start_time": "2022-07-06T02:16:02.782Z"
   },
   {
    "duration": 0,
    "start_time": "2022-07-06T02:16:02.782Z"
   },
   {
    "duration": 0,
    "start_time": "2022-07-06T02:16:02.783Z"
   },
   {
    "duration": 0,
    "start_time": "2022-07-06T02:16:02.784Z"
   },
   {
    "duration": 0,
    "start_time": "2022-07-06T02:16:02.785Z"
   },
   {
    "duration": 0,
    "start_time": "2022-07-06T02:16:02.786Z"
   },
   {
    "duration": 0,
    "start_time": "2022-07-06T02:16:02.787Z"
   },
   {
    "duration": 0,
    "start_time": "2022-07-06T02:16:02.788Z"
   },
   {
    "duration": 0,
    "start_time": "2022-07-06T02:16:02.789Z"
   },
   {
    "duration": 0,
    "start_time": "2022-07-06T02:16:02.789Z"
   },
   {
    "duration": 0,
    "start_time": "2022-07-06T02:16:02.790Z"
   },
   {
    "duration": 0,
    "start_time": "2022-07-06T02:16:02.791Z"
   },
   {
    "duration": 0,
    "start_time": "2022-07-06T02:16:02.792Z"
   },
   {
    "duration": 0,
    "start_time": "2022-07-06T02:16:02.793Z"
   },
   {
    "duration": 0,
    "start_time": "2022-07-06T02:16:02.794Z"
   },
   {
    "duration": 0,
    "start_time": "2022-07-06T02:16:02.795Z"
   },
   {
    "duration": 0,
    "start_time": "2022-07-06T02:16:02.796Z"
   },
   {
    "duration": 0,
    "start_time": "2022-07-06T02:16:02.797Z"
   },
   {
    "duration": 0,
    "start_time": "2022-07-06T02:16:02.798Z"
   },
   {
    "duration": 4,
    "start_time": "2022-07-06T02:16:17.786Z"
   },
   {
    "duration": 861,
    "start_time": "2022-07-06T02:16:17.792Z"
   },
   {
    "duration": 8,
    "start_time": "2022-07-06T02:16:18.654Z"
   },
   {
    "duration": 7,
    "start_time": "2022-07-06T02:16:18.664Z"
   },
   {
    "duration": 17,
    "start_time": "2022-07-06T02:16:18.672Z"
   },
   {
    "duration": 306,
    "start_time": "2022-07-06T02:16:18.691Z"
   },
   {
    "duration": 86,
    "start_time": "2022-07-06T02:16:18.999Z"
   },
   {
    "duration": 88,
    "start_time": "2022-07-06T02:16:19.086Z"
   },
   {
    "duration": 6,
    "start_time": "2022-07-06T02:16:19.176Z"
   },
   {
    "duration": 153,
    "start_time": "2022-07-06T02:16:19.185Z"
   },
   {
    "duration": 406,
    "start_time": "2022-07-06T02:16:19.339Z"
   },
   {
    "duration": 83,
    "start_time": "2022-07-06T02:16:19.747Z"
   },
   {
    "duration": 48,
    "start_time": "2022-07-06T02:16:19.831Z"
   },
   {
    "duration": 122,
    "start_time": "2022-07-06T02:16:19.880Z"
   },
   {
    "duration": 27,
    "start_time": "2022-07-06T02:16:20.004Z"
   },
   {
    "duration": 33,
    "start_time": "2022-07-06T02:16:20.033Z"
   },
   {
    "duration": 51,
    "start_time": "2022-07-06T02:16:20.067Z"
   },
   {
    "duration": 18,
    "start_time": "2022-07-06T02:16:20.120Z"
   },
   {
    "duration": 65,
    "start_time": "2022-07-06T02:16:20.140Z"
   },
   {
    "duration": 17,
    "start_time": "2022-07-06T02:16:20.207Z"
   },
   {
    "duration": 69,
    "start_time": "2022-07-06T02:16:20.225Z"
   },
   {
    "duration": 17,
    "start_time": "2022-07-06T02:16:20.296Z"
   },
   {
    "duration": 104,
    "start_time": "2022-07-06T02:16:20.315Z"
   },
   {
    "duration": 4,
    "start_time": "2022-07-06T02:16:20.420Z"
   },
   {
    "duration": 492,
    "start_time": "2022-07-06T02:16:20.426Z"
   },
   {
    "duration": 18,
    "start_time": "2022-07-06T02:16:20.919Z"
   },
   {
    "duration": 52,
    "start_time": "2022-07-06T02:16:20.940Z"
   },
   {
    "duration": 42,
    "start_time": "2022-07-06T02:16:20.996Z"
   },
   {
    "duration": 39,
    "start_time": "2022-07-06T02:16:21.040Z"
   },
   {
    "duration": 330,
    "start_time": "2022-07-06T02:16:21.081Z"
   },
   {
    "duration": 82,
    "start_time": "2022-07-06T02:16:21.413Z"
   },
   {
    "duration": 317,
    "start_time": "2022-07-06T02:16:21.497Z"
   },
   {
    "duration": 317,
    "start_time": "2022-07-06T02:16:21.816Z"
   },
   {
    "duration": 10,
    "start_time": "2022-07-06T02:16:22.135Z"
   },
   {
    "duration": 70,
    "start_time": "2022-07-06T02:16:22.147Z"
   },
   {
    "duration": 48,
    "start_time": "2022-07-06T02:16:22.219Z"
   },
   {
    "duration": 74,
    "start_time": "2022-07-06T02:16:22.269Z"
   },
   {
    "duration": 339,
    "start_time": "2022-07-06T02:16:22.345Z"
   },
   {
    "duration": 384,
    "start_time": "2022-07-06T02:16:22.686Z"
   },
   {
    "duration": 10,
    "start_time": "2022-07-06T02:16:23.072Z"
   },
   {
    "duration": 42,
    "start_time": "2022-07-06T02:16:23.084Z"
   },
   {
    "duration": 46,
    "start_time": "2022-07-06T02:16:23.127Z"
   },
   {
    "duration": 341,
    "start_time": "2022-07-06T02:16:23.175Z"
   },
   {
    "duration": 227,
    "start_time": "2022-07-06T02:16:23.517Z"
   },
   {
    "duration": 19,
    "start_time": "2022-07-06T02:16:23.746Z"
   },
   {
    "duration": 7,
    "start_time": "2022-07-06T02:16:23.767Z"
   },
   {
    "duration": 1210,
    "start_time": "2022-07-06T02:16:23.776Z"
   },
   {
    "duration": 2,
    "start_time": "2022-07-06T02:16:24.988Z"
   },
   {
    "duration": 5,
    "start_time": "2022-07-06T02:16:24.992Z"
   },
   {
    "duration": 3,
    "start_time": "2022-07-06T02:16:27.414Z"
   },
   {
    "duration": 779921,
    "start_time": "2022-07-06T02:16:28.481Z"
   },
   {
    "duration": 3,
    "start_time": "2022-07-06T02:35:28.321Z"
   },
   {
    "duration": 5,
    "start_time": "2022-07-06T02:36:07.875Z"
   },
   {
    "duration": 3,
    "start_time": "2022-07-06T02:36:34.336Z"
   },
   {
    "duration": 1723,
    "start_time": "2022-07-06T14:13:08.580Z"
   },
   {
    "duration": 0,
    "start_time": "2022-07-06T14:13:10.307Z"
   },
   {
    "duration": 0,
    "start_time": "2022-07-06T14:13:10.308Z"
   },
   {
    "duration": 0,
    "start_time": "2022-07-06T14:13:10.309Z"
   },
   {
    "duration": 0,
    "start_time": "2022-07-06T14:13:10.311Z"
   },
   {
    "duration": 0,
    "start_time": "2022-07-06T14:13:10.312Z"
   },
   {
    "duration": 0,
    "start_time": "2022-07-06T14:13:10.312Z"
   },
   {
    "duration": 0,
    "start_time": "2022-07-06T14:13:10.314Z"
   },
   {
    "duration": 0,
    "start_time": "2022-07-06T14:13:10.315Z"
   },
   {
    "duration": 0,
    "start_time": "2022-07-06T14:13:10.316Z"
   },
   {
    "duration": 0,
    "start_time": "2022-07-06T14:13:10.317Z"
   },
   {
    "duration": 0,
    "start_time": "2022-07-06T14:13:10.319Z"
   },
   {
    "duration": 0,
    "start_time": "2022-07-06T14:13:10.320Z"
   },
   {
    "duration": 0,
    "start_time": "2022-07-06T14:13:10.321Z"
   },
   {
    "duration": 0,
    "start_time": "2022-07-06T14:13:10.322Z"
   },
   {
    "duration": 0,
    "start_time": "2022-07-06T14:13:10.323Z"
   },
   {
    "duration": 0,
    "start_time": "2022-07-06T14:13:10.324Z"
   },
   {
    "duration": 0,
    "start_time": "2022-07-06T14:13:10.326Z"
   },
   {
    "duration": 0,
    "start_time": "2022-07-06T14:13:10.328Z"
   },
   {
    "duration": 1,
    "start_time": "2022-07-06T14:13:10.329Z"
   },
   {
    "duration": 0,
    "start_time": "2022-07-06T14:13:10.330Z"
   },
   {
    "duration": 0,
    "start_time": "2022-07-06T14:13:10.332Z"
   },
   {
    "duration": 0,
    "start_time": "2022-07-06T14:13:10.334Z"
   },
   {
    "duration": 0,
    "start_time": "2022-07-06T14:13:10.335Z"
   },
   {
    "duration": 0,
    "start_time": "2022-07-06T14:13:10.336Z"
   },
   {
    "duration": 0,
    "start_time": "2022-07-06T14:13:10.338Z"
   },
   {
    "duration": 0,
    "start_time": "2022-07-06T14:13:10.339Z"
   },
   {
    "duration": 0,
    "start_time": "2022-07-06T14:13:10.341Z"
   },
   {
    "duration": 0,
    "start_time": "2022-07-06T14:13:10.342Z"
   },
   {
    "duration": 0,
    "start_time": "2022-07-06T14:13:10.344Z"
   },
   {
    "duration": 0,
    "start_time": "2022-07-06T14:13:10.345Z"
   },
   {
    "duration": 0,
    "start_time": "2022-07-06T14:13:10.346Z"
   },
   {
    "duration": 0,
    "start_time": "2022-07-06T14:13:10.401Z"
   },
   {
    "duration": 0,
    "start_time": "2022-07-06T14:13:10.403Z"
   },
   {
    "duration": 0,
    "start_time": "2022-07-06T14:13:10.404Z"
   },
   {
    "duration": 0,
    "start_time": "2022-07-06T14:13:10.405Z"
   },
   {
    "duration": 0,
    "start_time": "2022-07-06T14:13:10.406Z"
   },
   {
    "duration": 0,
    "start_time": "2022-07-06T14:13:10.407Z"
   },
   {
    "duration": 0,
    "start_time": "2022-07-06T14:13:10.408Z"
   },
   {
    "duration": 0,
    "start_time": "2022-07-06T14:13:10.409Z"
   },
   {
    "duration": 0,
    "start_time": "2022-07-06T14:13:10.410Z"
   },
   {
    "duration": 0,
    "start_time": "2022-07-06T14:13:10.412Z"
   },
   {
    "duration": 0,
    "start_time": "2022-07-06T14:13:10.413Z"
   },
   {
    "duration": 0,
    "start_time": "2022-07-06T14:13:10.415Z"
   },
   {
    "duration": 0,
    "start_time": "2022-07-06T14:13:10.417Z"
   },
   {
    "duration": 0,
    "start_time": "2022-07-06T14:13:10.419Z"
   },
   {
    "duration": 0,
    "start_time": "2022-07-06T14:13:10.420Z"
   },
   {
    "duration": 0,
    "start_time": "2022-07-06T14:13:10.421Z"
   },
   {
    "duration": 0,
    "start_time": "2022-07-06T14:13:10.423Z"
   },
   {
    "duration": 56,
    "start_time": "2022-07-06T14:13:40.852Z"
   },
   {
    "duration": 14,
    "start_time": "2022-07-06T14:14:02.901Z"
   },
   {
    "duration": 25,
    "start_time": "2022-07-06T14:14:19.911Z"
   },
   {
    "duration": 50,
    "start_time": "2022-07-06T14:14:22.543Z"
   },
   {
    "duration": 4,
    "start_time": "2022-07-06T14:15:14.270Z"
   },
   {
    "duration": 51,
    "start_time": "2022-07-06T14:15:17.333Z"
   },
   {
    "duration": 1072,
    "start_time": "2022-07-06T14:15:33.454Z"
   },
   {
    "duration": 4,
    "start_time": "2022-07-06T14:16:29.852Z"
   },
   {
    "duration": 937,
    "start_time": "2022-07-06T14:16:29.861Z"
   },
   {
    "duration": 5,
    "start_time": "2022-07-06T14:16:30.801Z"
   },
   {
    "duration": 21,
    "start_time": "2022-07-06T14:16:30.809Z"
   },
   {
    "duration": 26,
    "start_time": "2022-07-06T14:16:30.832Z"
   },
   {
    "duration": 364,
    "start_time": "2022-07-06T14:16:30.860Z"
   },
   {
    "duration": 87,
    "start_time": "2022-07-06T14:16:31.225Z"
   },
   {
    "duration": 89,
    "start_time": "2022-07-06T14:16:31.314Z"
   },
   {
    "duration": 14,
    "start_time": "2022-07-06T14:16:31.406Z"
   },
   {
    "duration": 177,
    "start_time": "2022-07-06T14:16:31.421Z"
   },
   {
    "duration": 422,
    "start_time": "2022-07-06T14:16:31.602Z"
   },
   {
    "duration": 86,
    "start_time": "2022-07-06T14:16:32.026Z"
   },
   {
    "duration": 43,
    "start_time": "2022-07-06T14:16:32.114Z"
   },
   {
    "duration": 115,
    "start_time": "2022-07-06T14:16:32.160Z"
   },
   {
    "duration": 34,
    "start_time": "2022-07-06T14:16:32.276Z"
   },
   {
    "duration": 42,
    "start_time": "2022-07-06T14:16:32.312Z"
   },
   {
    "duration": 66,
    "start_time": "2022-07-06T14:16:32.356Z"
   },
   {
    "duration": 32,
    "start_time": "2022-07-06T14:16:32.425Z"
   },
   {
    "duration": 45,
    "start_time": "2022-07-06T14:16:32.459Z"
   },
   {
    "duration": 28,
    "start_time": "2022-07-06T14:16:32.506Z"
   },
   {
    "duration": 54,
    "start_time": "2022-07-06T14:16:32.536Z"
   },
   {
    "duration": 52,
    "start_time": "2022-07-06T14:16:32.592Z"
   },
   {
    "duration": 88,
    "start_time": "2022-07-06T14:16:32.646Z"
   },
   {
    "duration": 5,
    "start_time": "2022-07-06T14:16:32.736Z"
   },
   {
    "duration": 594,
    "start_time": "2022-07-06T14:16:32.743Z"
   },
   {
    "duration": 23,
    "start_time": "2022-07-06T14:16:33.339Z"
   },
   {
    "duration": 48,
    "start_time": "2022-07-06T14:16:33.363Z"
   },
   {
    "duration": 45,
    "start_time": "2022-07-06T14:16:33.413Z"
   },
   {
    "duration": 39,
    "start_time": "2022-07-06T14:16:33.461Z"
   },
   {
    "duration": 344,
    "start_time": "2022-07-06T14:16:33.502Z"
   },
   {
    "duration": 109,
    "start_time": "2022-07-06T14:16:33.849Z"
   },
   {
    "duration": 366,
    "start_time": "2022-07-06T14:16:33.960Z"
   },
   {
    "duration": 353,
    "start_time": "2022-07-06T14:16:34.328Z"
   },
   {
    "duration": 19,
    "start_time": "2022-07-06T14:16:34.683Z"
   },
   {
    "duration": 59,
    "start_time": "2022-07-06T14:16:34.705Z"
   },
   {
    "duration": 57,
    "start_time": "2022-07-06T14:16:34.766Z"
   },
   {
    "duration": 97,
    "start_time": "2022-07-06T14:16:34.825Z"
   },
   {
    "duration": 389,
    "start_time": "2022-07-06T14:16:34.924Z"
   },
   {
    "duration": 312,
    "start_time": "2022-07-06T14:16:35.315Z"
   },
   {
    "duration": 13,
    "start_time": "2022-07-06T14:16:35.629Z"
   },
   {
    "duration": 57,
    "start_time": "2022-07-06T14:16:35.644Z"
   },
   {
    "duration": 26,
    "start_time": "2022-07-06T14:16:35.702Z"
   },
   {
    "duration": 428,
    "start_time": "2022-07-06T14:16:35.729Z"
   },
   {
    "duration": 237,
    "start_time": "2022-07-06T14:16:36.159Z"
   },
   {
    "duration": 15,
    "start_time": "2022-07-06T14:16:36.400Z"
   },
   {
    "duration": 2835,
    "start_time": "2022-07-06T14:16:36.417Z"
   },
   {
    "duration": 171,
    "start_time": "2022-07-06T14:16:49.843Z"
   },
   {
    "duration": 8,
    "start_time": "2022-07-06T14:16:51.717Z"
   },
   {
    "duration": 1340,
    "start_time": "2022-07-06T14:16:53.363Z"
   },
   {
    "duration": 3,
    "start_time": "2022-07-06T14:16:59.911Z"
   },
   {
    "duration": 93020,
    "start_time": "2022-07-06T14:17:05.045Z"
   },
   {
    "duration": 99728,
    "start_time": "2022-07-06T14:21:02.952Z"
   },
   {
    "duration": 3,
    "start_time": "2022-07-06T15:18:19.079Z"
   },
   {
    "duration": 3,
    "start_time": "2022-07-06T15:18:21.032Z"
   },
   {
    "duration": 21,
    "start_time": "2022-07-06T15:19:10.987Z"
   },
   {
    "duration": 33014,
    "start_time": "2022-07-06T15:19:32.410Z"
   },
   {
    "duration": 5,
    "start_time": "2022-07-06T15:20:56.849Z"
   },
   {
    "duration": 184578,
    "start_time": "2022-07-06T15:21:03.204Z"
   },
   {
    "duration": 3,
    "start_time": "2022-07-06T15:24:26.325Z"
   },
   {
    "duration": 6937,
    "start_time": "2022-07-06T15:24:27.331Z"
   },
   {
    "duration": 3,
    "start_time": "2022-07-06T15:25:20.414Z"
   },
   {
    "duration": 19071,
    "start_time": "2022-07-06T15:25:21.009Z"
   },
   {
    "duration": 5,
    "start_time": "2022-07-06T17:00:28.154Z"
   },
   {
    "duration": 12952,
    "start_time": "2022-07-06T17:00:28.717Z"
   },
   {
    "duration": 65587,
    "start_time": "2022-07-06T17:00:52.570Z"
   },
   {
    "duration": 0,
    "start_time": "2022-07-06T17:01:58.167Z"
   },
   {
    "duration": 0,
    "start_time": "2022-07-06T17:01:58.169Z"
   },
   {
    "duration": 0,
    "start_time": "2022-07-06T17:01:58.170Z"
   },
   {
    "duration": 0,
    "start_time": "2022-07-06T17:01:58.171Z"
   },
   {
    "duration": 0,
    "start_time": "2022-07-06T17:01:58.172Z"
   },
   {
    "duration": 0,
    "start_time": "2022-07-06T17:01:58.173Z"
   },
   {
    "duration": 0,
    "start_time": "2022-07-06T17:01:58.174Z"
   },
   {
    "duration": 0,
    "start_time": "2022-07-06T17:01:58.175Z"
   },
   {
    "duration": 0,
    "start_time": "2022-07-06T17:01:58.177Z"
   },
   {
    "duration": 0,
    "start_time": "2022-07-06T17:01:58.178Z"
   },
   {
    "duration": 0,
    "start_time": "2022-07-06T17:01:58.179Z"
   },
   {
    "duration": 0,
    "start_time": "2022-07-06T17:01:58.181Z"
   },
   {
    "duration": 0,
    "start_time": "2022-07-06T17:01:58.182Z"
   },
   {
    "duration": 0,
    "start_time": "2022-07-06T17:01:58.183Z"
   },
   {
    "duration": 0,
    "start_time": "2022-07-06T17:01:58.206Z"
   },
   {
    "duration": 0,
    "start_time": "2022-07-06T17:01:58.210Z"
   },
   {
    "duration": 0,
    "start_time": "2022-07-06T17:01:58.212Z"
   },
   {
    "duration": 0,
    "start_time": "2022-07-06T17:01:58.213Z"
   },
   {
    "duration": 0,
    "start_time": "2022-07-06T17:01:58.214Z"
   },
   {
    "duration": 0,
    "start_time": "2022-07-06T17:01:58.215Z"
   },
   {
    "duration": 0,
    "start_time": "2022-07-06T17:01:58.219Z"
   },
   {
    "duration": 0,
    "start_time": "2022-07-06T17:01:58.221Z"
   },
   {
    "duration": 0,
    "start_time": "2022-07-06T17:01:58.222Z"
   },
   {
    "duration": 0,
    "start_time": "2022-07-06T17:01:58.224Z"
   },
   {
    "duration": 0,
    "start_time": "2022-07-06T17:01:58.228Z"
   },
   {
    "duration": 0,
    "start_time": "2022-07-06T17:01:58.229Z"
   },
   {
    "duration": 0,
    "start_time": "2022-07-06T17:01:58.230Z"
   },
   {
    "duration": 0,
    "start_time": "2022-07-06T17:01:58.235Z"
   },
   {
    "duration": 0,
    "start_time": "2022-07-06T17:01:58.237Z"
   },
   {
    "duration": 0,
    "start_time": "2022-07-06T17:01:58.239Z"
   },
   {
    "duration": 0,
    "start_time": "2022-07-06T17:01:58.241Z"
   },
   {
    "duration": 0,
    "start_time": "2022-07-06T17:01:58.242Z"
   },
   {
    "duration": 0,
    "start_time": "2022-07-06T17:01:58.251Z"
   },
   {
    "duration": 0,
    "start_time": "2022-07-06T17:01:58.251Z"
   },
   {
    "duration": 0,
    "start_time": "2022-07-06T17:01:58.253Z"
   },
   {
    "duration": 0,
    "start_time": "2022-07-06T17:01:58.254Z"
   },
   {
    "duration": 0,
    "start_time": "2022-07-06T17:01:58.256Z"
   },
   {
    "duration": 0,
    "start_time": "2022-07-06T17:01:58.258Z"
   },
   {
    "duration": 0,
    "start_time": "2022-07-06T17:01:58.262Z"
   },
   {
    "duration": 0,
    "start_time": "2022-07-06T17:01:58.264Z"
   },
   {
    "duration": 0,
    "start_time": "2022-07-06T17:01:58.266Z"
   },
   {
    "duration": 0,
    "start_time": "2022-07-06T17:01:58.268Z"
   },
   {
    "duration": 0,
    "start_time": "2022-07-06T17:01:58.300Z"
   },
   {
    "duration": 0,
    "start_time": "2022-07-06T17:01:58.301Z"
   },
   {
    "duration": 0,
    "start_time": "2022-07-06T17:01:58.302Z"
   },
   {
    "duration": 0,
    "start_time": "2022-07-06T17:01:58.307Z"
   },
   {
    "duration": 0,
    "start_time": "2022-07-06T17:01:58.308Z"
   },
   {
    "duration": 0,
    "start_time": "2022-07-06T17:01:58.309Z"
   },
   {
    "duration": 0,
    "start_time": "2022-07-06T17:01:58.316Z"
   },
   {
    "duration": 0,
    "start_time": "2022-07-06T17:01:58.323Z"
   },
   {
    "duration": 0,
    "start_time": "2022-07-06T17:01:58.331Z"
   },
   {
    "duration": 7,
    "start_time": "2022-07-06T17:04:25.752Z"
   },
   {
    "duration": 119635,
    "start_time": "2022-07-06T17:04:26.525Z"
   },
   {
    "duration": 19,
    "start_time": "2022-07-06T17:06:26.165Z"
   },
   {
    "duration": 4,
    "start_time": "2022-07-06T17:14:22.474Z"
   },
   {
    "duration": 103493,
    "start_time": "2022-07-06T17:14:23.045Z"
   },
   {
    "duration": 4,
    "start_time": "2022-07-06T17:29:31.057Z"
   },
   {
    "duration": 104118,
    "start_time": "2022-07-06T17:29:31.924Z"
   },
   {
    "duration": 5,
    "start_time": "2022-07-06T18:11:09.478Z"
   },
   {
    "duration": 4,
    "start_time": "2022-07-06T18:13:58.110Z"
   },
   {
    "duration": 865,
    "start_time": "2022-07-06T18:13:58.116Z"
   },
   {
    "duration": 4,
    "start_time": "2022-07-06T18:13:58.982Z"
   },
   {
    "duration": 22,
    "start_time": "2022-07-06T18:13:58.987Z"
   },
   {
    "duration": 14,
    "start_time": "2022-07-06T18:13:59.011Z"
   },
   {
    "duration": 312,
    "start_time": "2022-07-06T18:13:59.027Z"
   },
   {
    "duration": 69,
    "start_time": "2022-07-06T18:13:59.341Z"
   },
   {
    "duration": 93,
    "start_time": "2022-07-06T18:13:59.412Z"
   },
   {
    "duration": 6,
    "start_time": "2022-07-06T18:13:59.507Z"
   },
   {
    "duration": 136,
    "start_time": "2022-07-06T18:13:59.515Z"
   },
   {
    "duration": 387,
    "start_time": "2022-07-06T18:13:59.654Z"
   },
   {
    "duration": 92,
    "start_time": "2022-07-06T18:14:00.042Z"
   },
   {
    "duration": 39,
    "start_time": "2022-07-06T18:14:00.135Z"
   },
   {
    "duration": 115,
    "start_time": "2022-07-06T18:14:00.175Z"
   },
   {
    "duration": 27,
    "start_time": "2022-07-06T18:14:00.292Z"
   },
   {
    "duration": 34,
    "start_time": "2022-07-06T18:14:00.320Z"
   },
   {
    "duration": 47,
    "start_time": "2022-07-06T18:14:00.356Z"
   },
   {
    "duration": 21,
    "start_time": "2022-07-06T18:14:00.405Z"
   },
   {
    "duration": 48,
    "start_time": "2022-07-06T18:14:00.428Z"
   },
   {
    "duration": 24,
    "start_time": "2022-07-06T18:14:00.478Z"
   },
   {
    "duration": 62,
    "start_time": "2022-07-06T18:14:00.503Z"
   },
   {
    "duration": 18,
    "start_time": "2022-07-06T18:14:00.567Z"
   },
   {
    "duration": 93,
    "start_time": "2022-07-06T18:14:00.586Z"
   },
   {
    "duration": 5,
    "start_time": "2022-07-06T18:14:00.680Z"
   },
   {
    "duration": 547,
    "start_time": "2022-07-06T18:14:00.701Z"
   },
   {
    "duration": 22,
    "start_time": "2022-07-06T18:14:01.250Z"
   },
   {
    "duration": 93,
    "start_time": "2022-07-06T18:14:01.274Z"
   },
   {
    "duration": 45,
    "start_time": "2022-07-06T18:14:01.368Z"
   },
   {
    "duration": 24,
    "start_time": "2022-07-06T18:14:01.419Z"
   },
   {
    "duration": 421,
    "start_time": "2022-07-06T18:14:01.445Z"
   },
   {
    "duration": 87,
    "start_time": "2022-07-06T18:14:01.868Z"
   },
   {
    "duration": 448,
    "start_time": "2022-07-06T18:14:01.958Z"
   },
   {
    "duration": 345,
    "start_time": "2022-07-06T18:14:02.409Z"
   },
   {
    "duration": 11,
    "start_time": "2022-07-06T18:14:02.756Z"
   },
   {
    "duration": 81,
    "start_time": "2022-07-06T18:14:02.769Z"
   },
   {
    "duration": 37,
    "start_time": "2022-07-06T18:14:02.852Z"
   },
   {
    "duration": 83,
    "start_time": "2022-07-06T18:14:02.901Z"
   },
   {
    "duration": 371,
    "start_time": "2022-07-06T18:14:03.001Z"
   },
   {
    "duration": 284,
    "start_time": "2022-07-06T18:14:03.374Z"
   },
   {
    "duration": 10,
    "start_time": "2022-07-06T18:14:03.660Z"
   },
   {
    "duration": 60,
    "start_time": "2022-07-06T18:14:03.672Z"
   },
   {
    "duration": 25,
    "start_time": "2022-07-06T18:14:03.734Z"
   },
   {
    "duration": 386,
    "start_time": "2022-07-06T18:14:03.760Z"
   },
   {
    "duration": 202,
    "start_time": "2022-07-06T18:14:04.148Z"
   },
   {
    "duration": 14,
    "start_time": "2022-07-06T18:14:04.352Z"
   },
   {
    "duration": 2368,
    "start_time": "2022-07-06T18:14:04.368Z"
   },
   {
    "duration": 3,
    "start_time": "2022-07-06T18:14:06.739Z"
   },
   {
    "duration": 9,
    "start_time": "2022-07-06T18:14:06.744Z"
   },
   {
    "duration": 1268,
    "start_time": "2022-07-06T18:14:06.756Z"
   },
   {
    "duration": 4,
    "start_time": "2022-07-06T18:14:08.026Z"
   },
   {
    "duration": 19,
    "start_time": "2022-07-06T18:14:08.031Z"
   },
   {
    "duration": 17,
    "start_time": "2022-07-06T18:14:08.052Z"
   },
   {
    "duration": 0,
    "start_time": "2022-07-06T18:14:08.071Z"
   },
   {
    "duration": 0,
    "start_time": "2022-07-06T18:14:08.072Z"
   },
   {
    "duration": 0,
    "start_time": "2022-07-06T18:14:08.073Z"
   },
   {
    "duration": 47,
    "start_time": "2022-07-06T18:15:16.362Z"
   },
   {
    "duration": 771,
    "start_time": "2022-07-06T18:15:16.412Z"
   },
   {
    "duration": 3,
    "start_time": "2022-07-06T18:15:17.184Z"
   },
   {
    "duration": 14,
    "start_time": "2022-07-06T18:15:17.189Z"
   },
   {
    "duration": 6,
    "start_time": "2022-07-06T18:15:17.205Z"
   },
   {
    "duration": 316,
    "start_time": "2022-07-06T18:15:17.213Z"
   },
   {
    "duration": 71,
    "start_time": "2022-07-06T18:15:17.531Z"
   },
   {
    "duration": 70,
    "start_time": "2022-07-06T18:15:17.603Z"
   },
   {
    "duration": 6,
    "start_time": "2022-07-06T18:15:17.675Z"
   },
   {
    "duration": 150,
    "start_time": "2022-07-06T18:15:17.683Z"
   },
   {
    "duration": 391,
    "start_time": "2022-07-06T18:15:17.835Z"
   },
   {
    "duration": 75,
    "start_time": "2022-07-06T18:15:18.227Z"
   },
   {
    "duration": 53,
    "start_time": "2022-07-06T18:15:18.305Z"
   },
   {
    "duration": 135,
    "start_time": "2022-07-06T18:15:18.360Z"
   },
   {
    "duration": 27,
    "start_time": "2022-07-06T18:15:18.502Z"
   },
   {
    "duration": 32,
    "start_time": "2022-07-06T18:15:18.531Z"
   },
   {
    "duration": 69,
    "start_time": "2022-07-06T18:15:18.565Z"
   },
   {
    "duration": 17,
    "start_time": "2022-07-06T18:15:18.636Z"
   },
   {
    "duration": 79,
    "start_time": "2022-07-06T18:15:18.655Z"
   },
   {
    "duration": 18,
    "start_time": "2022-07-06T18:15:18.736Z"
   },
   {
    "duration": 62,
    "start_time": "2022-07-06T18:15:18.756Z"
   },
   {
    "duration": 18,
    "start_time": "2022-07-06T18:15:18.820Z"
   },
   {
    "duration": 104,
    "start_time": "2022-07-06T18:15:18.839Z"
   },
   {
    "duration": 4,
    "start_time": "2022-07-06T18:15:18.945Z"
   },
   {
    "duration": 631,
    "start_time": "2022-07-06T18:15:18.950Z"
   },
   {
    "duration": 26,
    "start_time": "2022-07-06T18:15:19.583Z"
   },
   {
    "duration": 35,
    "start_time": "2022-07-06T18:15:19.611Z"
   },
   {
    "duration": 60,
    "start_time": "2022-07-06T18:15:19.650Z"
   },
   {
    "duration": 21,
    "start_time": "2022-07-06T18:15:19.712Z"
   },
   {
    "duration": 373,
    "start_time": "2022-07-06T18:15:19.734Z"
   },
   {
    "duration": 73,
    "start_time": "2022-07-06T18:15:20.109Z"
   },
   {
    "duration": 350,
    "start_time": "2022-07-06T18:15:20.184Z"
   },
   {
    "duration": 340,
    "start_time": "2022-07-06T18:15:20.536Z"
   },
   {
    "duration": 11,
    "start_time": "2022-07-06T18:15:20.878Z"
   },
   {
    "duration": 61,
    "start_time": "2022-07-06T18:15:20.901Z"
   },
   {
    "duration": 46,
    "start_time": "2022-07-06T18:15:20.964Z"
   },
   {
    "duration": 70,
    "start_time": "2022-07-06T18:15:21.012Z"
   },
   {
    "duration": 362,
    "start_time": "2022-07-06T18:15:21.084Z"
   },
   {
    "duration": 284,
    "start_time": "2022-07-06T18:15:21.448Z"
   },
   {
    "duration": 10,
    "start_time": "2022-07-06T18:15:21.734Z"
   },
   {
    "duration": 38,
    "start_time": "2022-07-06T18:15:21.746Z"
   },
   {
    "duration": 29,
    "start_time": "2022-07-06T18:15:21.801Z"
   },
   {
    "duration": 357,
    "start_time": "2022-07-06T18:15:21.832Z"
   },
   {
    "duration": 196,
    "start_time": "2022-07-06T18:15:22.190Z"
   },
   {
    "duration": 19,
    "start_time": "2022-07-06T18:15:22.388Z"
   },
   {
    "duration": 2283,
    "start_time": "2022-07-06T18:15:22.409Z"
   },
   {
    "duration": 3,
    "start_time": "2022-07-06T18:15:24.694Z"
   },
   {
    "duration": 9,
    "start_time": "2022-07-06T18:15:24.699Z"
   },
   {
    "duration": 1281,
    "start_time": "2022-07-06T18:15:24.709Z"
   },
   {
    "duration": 3,
    "start_time": "2022-07-06T18:15:26.002Z"
   },
   {
    "duration": 19,
    "start_time": "2022-07-06T18:15:26.006Z"
   },
   {
    "duration": 12898,
    "start_time": "2022-07-06T18:15:26.027Z"
   },
   {
    "duration": 1300391,
    "start_time": "2022-07-06T18:15:38.927Z"
   },
   {
    "duration": 63665,
    "start_time": "2022-07-06T18:37:19.320Z"
   },
   {
    "duration": 330080,
    "start_time": "2022-07-06T18:38:22.986Z"
   },
   {
    "duration": 0,
    "start_time": "2022-07-06T18:43:53.069Z"
   },
   {
    "duration": 0,
    "start_time": "2022-07-06T18:43:53.070Z"
   },
   {
    "duration": 5,
    "start_time": "2022-07-06T18:44:13.887Z"
   },
   {
    "duration": 974,
    "start_time": "2022-07-06T18:44:13.896Z"
   },
   {
    "duration": 4,
    "start_time": "2022-07-06T18:44:14.872Z"
   },
   {
    "duration": 17,
    "start_time": "2022-07-06T18:44:14.878Z"
   },
   {
    "duration": 8,
    "start_time": "2022-07-06T18:44:14.900Z"
   },
   {
    "duration": 363,
    "start_time": "2022-07-06T18:44:14.911Z"
   },
   {
    "duration": 82,
    "start_time": "2022-07-06T18:44:15.276Z"
   },
   {
    "duration": 106,
    "start_time": "2022-07-06T18:44:15.362Z"
   },
   {
    "duration": 19,
    "start_time": "2022-07-06T18:44:15.471Z"
   },
   {
    "duration": 213,
    "start_time": "2022-07-06T18:44:15.493Z"
   },
   {
    "duration": 402,
    "start_time": "2022-07-06T18:44:15.711Z"
   },
   {
    "duration": 67,
    "start_time": "2022-07-06T18:44:16.114Z"
   },
   {
    "duration": 62,
    "start_time": "2022-07-06T18:44:16.182Z"
   },
   {
    "duration": 112,
    "start_time": "2022-07-06T18:44:16.246Z"
   },
   {
    "duration": 30,
    "start_time": "2022-07-06T18:44:16.359Z"
   },
   {
    "duration": 34,
    "start_time": "2022-07-06T18:44:16.390Z"
   },
   {
    "duration": 57,
    "start_time": "2022-07-06T18:44:16.426Z"
   },
   {
    "duration": 42,
    "start_time": "2022-07-06T18:44:16.485Z"
   },
   {
    "duration": 88,
    "start_time": "2022-07-06T18:44:16.529Z"
   },
   {
    "duration": 18,
    "start_time": "2022-07-06T18:44:16.626Z"
   },
   {
    "duration": 76,
    "start_time": "2022-07-06T18:44:16.646Z"
   },
   {
    "duration": 17,
    "start_time": "2022-07-06T18:44:16.724Z"
   },
   {
    "duration": 119,
    "start_time": "2022-07-06T18:44:16.742Z"
   },
   {
    "duration": 7,
    "start_time": "2022-07-06T18:44:16.863Z"
   },
   {
    "duration": 606,
    "start_time": "2022-07-06T18:44:16.871Z"
   },
   {
    "duration": 40,
    "start_time": "2022-07-06T18:44:17.479Z"
   },
   {
    "duration": 42,
    "start_time": "2022-07-06T18:44:17.521Z"
   },
   {
    "duration": 55,
    "start_time": "2022-07-06T18:44:17.565Z"
   },
   {
    "duration": 22,
    "start_time": "2022-07-06T18:44:17.623Z"
   },
   {
    "duration": 412,
    "start_time": "2022-07-06T18:44:17.647Z"
   },
   {
    "duration": 93,
    "start_time": "2022-07-06T18:44:18.061Z"
   },
   {
    "duration": 402,
    "start_time": "2022-07-06T18:44:18.156Z"
   },
   {
    "duration": 392,
    "start_time": "2022-07-06T18:44:18.560Z"
   },
   {
    "duration": 12,
    "start_time": "2022-07-06T18:44:18.954Z"
   },
   {
    "duration": 77,
    "start_time": "2022-07-06T18:44:18.968Z"
   },
   {
    "duration": 37,
    "start_time": "2022-07-06T18:44:19.047Z"
   },
   {
    "duration": 88,
    "start_time": "2022-07-06T18:44:19.100Z"
   },
   {
    "duration": 550,
    "start_time": "2022-07-06T18:44:19.200Z"
   },
   {
    "duration": 291,
    "start_time": "2022-07-06T18:44:19.752Z"
   },
   {
    "duration": 9,
    "start_time": "2022-07-06T18:44:20.045Z"
   },
   {
    "duration": 70,
    "start_time": "2022-07-06T18:44:20.057Z"
   },
   {
    "duration": 30,
    "start_time": "2022-07-06T18:44:20.129Z"
   },
   {
    "duration": 436,
    "start_time": "2022-07-06T18:44:20.161Z"
   },
   {
    "duration": 252,
    "start_time": "2022-07-06T18:44:20.598Z"
   },
   {
    "duration": 17,
    "start_time": "2022-07-06T18:44:20.852Z"
   },
   {
    "duration": 2599,
    "start_time": "2022-07-06T18:44:20.871Z"
   },
   {
    "duration": 3,
    "start_time": "2022-07-06T18:44:23.472Z"
   },
   {
    "duration": 45,
    "start_time": "2022-07-06T18:44:23.477Z"
   },
   {
    "duration": 1400,
    "start_time": "2022-07-06T18:44:23.524Z"
   },
   {
    "duration": 3,
    "start_time": "2022-07-06T18:44:24.926Z"
   },
   {
    "duration": 10,
    "start_time": "2022-07-06T18:44:24.931Z"
   },
   {
    "duration": 4,
    "start_time": "2022-07-06T18:46:18.495Z"
   },
   {
    "duration": 872,
    "start_time": "2022-07-06T18:46:18.508Z"
   },
   {
    "duration": 3,
    "start_time": "2022-07-06T18:46:19.382Z"
   },
   {
    "duration": 15,
    "start_time": "2022-07-06T18:46:19.388Z"
   },
   {
    "duration": 20,
    "start_time": "2022-07-06T18:46:19.407Z"
   },
   {
    "duration": 317,
    "start_time": "2022-07-06T18:46:19.429Z"
   },
   {
    "duration": 81,
    "start_time": "2022-07-06T18:46:19.748Z"
   },
   {
    "duration": 93,
    "start_time": "2022-07-06T18:46:19.831Z"
   },
   {
    "duration": 6,
    "start_time": "2022-07-06T18:46:19.928Z"
   },
   {
    "duration": 153,
    "start_time": "2022-07-06T18:46:19.936Z"
   },
   {
    "duration": 427,
    "start_time": "2022-07-06T18:46:20.090Z"
   },
   {
    "duration": 97,
    "start_time": "2022-07-06T18:46:20.519Z"
   },
   {
    "duration": 53,
    "start_time": "2022-07-06T18:46:20.618Z"
   },
   {
    "duration": 109,
    "start_time": "2022-07-06T18:46:20.672Z"
   },
   {
    "duration": 41,
    "start_time": "2022-07-06T18:46:20.782Z"
   },
   {
    "duration": 27,
    "start_time": "2022-07-06T18:46:20.825Z"
   },
   {
    "duration": 65,
    "start_time": "2022-07-06T18:46:20.854Z"
   },
   {
    "duration": 24,
    "start_time": "2022-07-06T18:46:20.921Z"
   },
   {
    "duration": 62,
    "start_time": "2022-07-06T18:46:20.948Z"
   },
   {
    "duration": 24,
    "start_time": "2022-07-06T18:46:21.013Z"
   },
   {
    "duration": 62,
    "start_time": "2022-07-06T18:46:21.039Z"
   },
   {
    "duration": 22,
    "start_time": "2022-07-06T18:46:21.103Z"
   },
   {
    "duration": 96,
    "start_time": "2022-07-06T18:46:21.126Z"
   },
   {
    "duration": 4,
    "start_time": "2022-07-06T18:46:21.226Z"
   },
   {
    "duration": 566,
    "start_time": "2022-07-06T18:46:21.232Z"
   },
   {
    "duration": 23,
    "start_time": "2022-07-06T18:46:21.800Z"
   },
   {
    "duration": 42,
    "start_time": "2022-07-06T18:46:21.825Z"
   },
   {
    "duration": 50,
    "start_time": "2022-07-06T18:46:21.869Z"
   },
   {
    "duration": 20,
    "start_time": "2022-07-06T18:46:21.921Z"
   },
   {
    "duration": 371,
    "start_time": "2022-07-06T18:46:21.942Z"
   },
   {
    "duration": 77,
    "start_time": "2022-07-06T18:46:22.315Z"
   },
   {
    "duration": 463,
    "start_time": "2022-07-06T18:46:22.393Z"
   },
   {
    "duration": 379,
    "start_time": "2022-07-06T18:46:22.858Z"
   },
   {
    "duration": 10,
    "start_time": "2022-07-06T18:46:23.238Z"
   },
   {
    "duration": 77,
    "start_time": "2022-07-06T18:46:23.250Z"
   },
   {
    "duration": 33,
    "start_time": "2022-07-06T18:46:23.329Z"
   },
   {
    "duration": 100,
    "start_time": "2022-07-06T18:46:23.365Z"
   },
   {
    "duration": 400,
    "start_time": "2022-07-06T18:46:23.467Z"
   },
   {
    "duration": 313,
    "start_time": "2022-07-06T18:46:23.869Z"
   },
   {
    "duration": 22,
    "start_time": "2022-07-06T18:46:24.184Z"
   },
   {
    "duration": 50,
    "start_time": "2022-07-06T18:46:24.208Z"
   },
   {
    "duration": 24,
    "start_time": "2022-07-06T18:46:24.260Z"
   },
   {
    "duration": 390,
    "start_time": "2022-07-06T18:46:24.285Z"
   },
   {
    "duration": 209,
    "start_time": "2022-07-06T18:46:24.677Z"
   },
   {
    "duration": 28,
    "start_time": "2022-07-06T18:46:24.888Z"
   },
   {
    "duration": 2467,
    "start_time": "2022-07-06T18:46:24.918Z"
   },
   {
    "duration": 4,
    "start_time": "2022-07-06T18:46:27.386Z"
   },
   {
    "duration": 29,
    "start_time": "2022-07-06T18:46:27.392Z"
   },
   {
    "duration": 1360,
    "start_time": "2022-07-06T18:46:27.423Z"
   },
   {
    "duration": 3,
    "start_time": "2022-07-06T18:46:28.784Z"
   },
   {
    "duration": 12,
    "start_time": "2022-07-06T18:46:28.803Z"
   },
   {
    "duration": 13715,
    "start_time": "2022-07-06T18:46:42.212Z"
   },
   {
    "duration": 32795,
    "start_time": "2022-07-06T18:47:11.366Z"
   },
   {
    "duration": 65667,
    "start_time": "2022-07-06T18:47:56.368Z"
   },
   {
    "duration": 63817,
    "start_time": "2022-07-06T18:54:43.356Z"
   },
   {
    "duration": 6,
    "start_time": "2022-07-06T18:58:59.803Z"
   },
   {
    "duration": 66002,
    "start_time": "2022-07-06T18:59:09.916Z"
   },
   {
    "duration": 6,
    "start_time": "2022-07-06T19:02:52.971Z"
   },
   {
    "duration": 65372,
    "start_time": "2022-07-06T19:02:55.994Z"
   },
   {
    "duration": 672551,
    "start_time": "2022-07-06T19:04:22.123Z"
   },
   {
    "duration": 93984,
    "start_time": "2022-07-06T19:16:48.564Z"
   },
   {
    "duration": 0,
    "start_time": "2022-07-06T19:19:22.794Z"
   },
   {
    "duration": 5,
    "start_time": "2022-07-06T19:19:44.953Z"
   },
   {
    "duration": 958,
    "start_time": "2022-07-06T19:19:44.961Z"
   },
   {
    "duration": 4,
    "start_time": "2022-07-06T19:19:45.921Z"
   },
   {
    "duration": 10,
    "start_time": "2022-07-06T19:19:45.927Z"
   },
   {
    "duration": 13,
    "start_time": "2022-07-06T19:19:45.939Z"
   },
   {
    "duration": 355,
    "start_time": "2022-07-06T19:19:45.954Z"
   },
   {
    "duration": 74,
    "start_time": "2022-07-06T19:19:46.311Z"
   },
   {
    "duration": 114,
    "start_time": "2022-07-06T19:19:46.387Z"
   },
   {
    "duration": 8,
    "start_time": "2022-07-06T19:19:46.502Z"
   },
   {
    "duration": 159,
    "start_time": "2022-07-06T19:19:46.514Z"
   },
   {
    "duration": 410,
    "start_time": "2022-07-06T19:19:46.674Z"
   },
   {
    "duration": 96,
    "start_time": "2022-07-06T19:19:47.087Z"
   },
   {
    "duration": 54,
    "start_time": "2022-07-06T19:19:47.185Z"
   },
   {
    "duration": 129,
    "start_time": "2022-07-06T19:19:47.242Z"
   },
   {
    "duration": 32,
    "start_time": "2022-07-06T19:19:47.373Z"
   },
   {
    "duration": 26,
    "start_time": "2022-07-06T19:19:47.407Z"
   },
   {
    "duration": 76,
    "start_time": "2022-07-06T19:19:47.435Z"
   },
   {
    "duration": 20,
    "start_time": "2022-07-06T19:19:47.513Z"
   },
   {
    "duration": 80,
    "start_time": "2022-07-06T19:19:47.536Z"
   },
   {
    "duration": 18,
    "start_time": "2022-07-06T19:19:47.618Z"
   },
   {
    "duration": 73,
    "start_time": "2022-07-06T19:19:47.638Z"
   },
   {
    "duration": 20,
    "start_time": "2022-07-06T19:19:47.713Z"
   },
   {
    "duration": 106,
    "start_time": "2022-07-06T19:19:47.734Z"
   },
   {
    "duration": 4,
    "start_time": "2022-07-06T19:19:47.842Z"
   },
   {
    "duration": 604,
    "start_time": "2022-07-06T19:19:47.848Z"
   },
   {
    "duration": 19,
    "start_time": "2022-07-06T19:19:48.454Z"
   },
   {
    "duration": 56,
    "start_time": "2022-07-06T19:19:48.475Z"
   },
   {
    "duration": 46,
    "start_time": "2022-07-06T19:19:48.535Z"
   },
   {
    "duration": 40,
    "start_time": "2022-07-06T19:19:48.583Z"
   },
   {
    "duration": 513,
    "start_time": "2022-07-06T19:19:48.626Z"
   },
   {
    "duration": 85,
    "start_time": "2022-07-06T19:19:49.141Z"
   },
   {
    "duration": 408,
    "start_time": "2022-07-06T19:19:49.228Z"
   },
   {
    "duration": 407,
    "start_time": "2022-07-06T19:19:49.638Z"
   },
   {
    "duration": 14,
    "start_time": "2022-07-06T19:19:50.047Z"
   },
   {
    "duration": 85,
    "start_time": "2022-07-06T19:19:50.063Z"
   },
   {
    "duration": 51,
    "start_time": "2022-07-06T19:19:50.150Z"
   },
   {
    "duration": 107,
    "start_time": "2022-07-06T19:19:50.203Z"
   },
   {
    "duration": 388,
    "start_time": "2022-07-06T19:19:50.313Z"
   },
   {
    "duration": 305,
    "start_time": "2022-07-06T19:19:50.703Z"
   },
   {
    "duration": 12,
    "start_time": "2022-07-06T19:19:51.010Z"
   },
   {
    "duration": 67,
    "start_time": "2022-07-06T19:19:51.024Z"
   },
   {
    "duration": 25,
    "start_time": "2022-07-06T19:19:51.093Z"
   },
   {
    "duration": 375,
    "start_time": "2022-07-06T19:19:51.120Z"
   },
   {
    "duration": 220,
    "start_time": "2022-07-06T19:19:51.500Z"
   },
   {
    "duration": 14,
    "start_time": "2022-07-06T19:19:51.722Z"
   },
   {
    "duration": 2432,
    "start_time": "2022-07-06T19:19:51.738Z"
   },
   {
    "duration": 3,
    "start_time": "2022-07-06T19:19:54.172Z"
   },
   {
    "duration": 16,
    "start_time": "2022-07-06T19:19:54.177Z"
   },
   {
    "duration": 1269,
    "start_time": "2022-07-06T19:19:54.195Z"
   },
   {
    "duration": 3,
    "start_time": "2022-07-06T19:19:55.466Z"
   },
   {
    "duration": 16,
    "start_time": "2022-07-06T19:19:55.471Z"
   },
   {
    "duration": 5,
    "start_time": "2022-07-06T19:19:57.556Z"
   },
   {
    "duration": 13439,
    "start_time": "2022-07-06T19:20:00.151Z"
   },
   {
    "duration": 52789,
    "start_time": "2022-07-06T19:20:19.801Z"
   },
   {
    "duration": 51581,
    "start_time": "2022-07-06T19:22:22.613Z"
   },
   {
    "duration": 53174,
    "start_time": "2022-07-06T19:25:02.656Z"
   },
   {
    "duration": 18191,
    "start_time": "2022-07-06T19:28:05.996Z"
   },
   {
    "duration": 18789,
    "start_time": "2022-07-06T19:29:20.685Z"
   },
   {
    "duration": 18860,
    "start_time": "2022-07-06T19:29:57.399Z"
   },
   {
    "duration": 19444,
    "start_time": "2022-07-06T19:30:47.917Z"
   },
   {
    "duration": 6,
    "start_time": "2022-07-06T19:46:19.256Z"
   },
   {
    "duration": 13482,
    "start_time": "2022-07-06T19:46:24.513Z"
   },
   {
    "duration": 5,
    "start_time": "2022-07-06T19:47:34.546Z"
   },
   {
    "duration": 13733,
    "start_time": "2022-07-06T19:47:36.266Z"
   },
   {
    "duration": 17298,
    "start_time": "2022-07-06T19:51:40.462Z"
   },
   {
    "duration": 4,
    "start_time": "2022-07-06T19:54:26.890Z"
   },
   {
    "duration": 809,
    "start_time": "2022-07-06T19:54:26.896Z"
   },
   {
    "duration": 3,
    "start_time": "2022-07-06T19:54:27.707Z"
   },
   {
    "duration": 8,
    "start_time": "2022-07-06T19:54:27.712Z"
   },
   {
    "duration": 7,
    "start_time": "2022-07-06T19:54:27.722Z"
   },
   {
    "duration": 340,
    "start_time": "2022-07-06T19:54:27.730Z"
   },
   {
    "duration": 67,
    "start_time": "2022-07-06T19:54:28.072Z"
   },
   {
    "duration": 81,
    "start_time": "2022-07-06T19:54:28.141Z"
   },
   {
    "duration": 6,
    "start_time": "2022-07-06T19:54:28.224Z"
   },
   {
    "duration": 142,
    "start_time": "2022-07-06T19:54:28.232Z"
   },
   {
    "duration": 379,
    "start_time": "2022-07-06T19:54:28.377Z"
   },
   {
    "duration": 89,
    "start_time": "2022-07-06T19:54:28.758Z"
   },
   {
    "duration": 39,
    "start_time": "2022-07-06T19:54:28.849Z"
   },
   {
    "duration": 119,
    "start_time": "2022-07-06T19:54:28.890Z"
   },
   {
    "duration": 25,
    "start_time": "2022-07-06T19:54:29.011Z"
   },
   {
    "duration": 21,
    "start_time": "2022-07-06T19:54:29.038Z"
   },
   {
    "duration": 61,
    "start_time": "2022-07-06T19:54:29.061Z"
   },
   {
    "duration": 18,
    "start_time": "2022-07-06T19:54:29.124Z"
   },
   {
    "duration": 63,
    "start_time": "2022-07-06T19:54:29.143Z"
   },
   {
    "duration": 22,
    "start_time": "2022-07-06T19:54:29.207Z"
   },
   {
    "duration": 77,
    "start_time": "2022-07-06T19:54:29.231Z"
   },
   {
    "duration": 22,
    "start_time": "2022-07-06T19:54:29.310Z"
   },
   {
    "duration": 98,
    "start_time": "2022-07-06T19:54:29.334Z"
   },
   {
    "duration": 4,
    "start_time": "2022-07-06T19:54:29.434Z"
   },
   {
    "duration": 636,
    "start_time": "2022-07-06T19:54:29.440Z"
   },
   {
    "duration": 31,
    "start_time": "2022-07-06T19:54:30.078Z"
   },
   {
    "duration": 35,
    "start_time": "2022-07-06T19:54:30.111Z"
   },
   {
    "duration": 57,
    "start_time": "2022-07-06T19:54:30.148Z"
   },
   {
    "duration": 18,
    "start_time": "2022-07-06T19:54:30.209Z"
   },
   {
    "duration": 359,
    "start_time": "2022-07-06T19:54:30.229Z"
   },
   {
    "duration": 80,
    "start_time": "2022-07-06T19:54:30.591Z"
   },
   {
    "duration": 378,
    "start_time": "2022-07-06T19:54:30.673Z"
   },
   {
    "duration": 369,
    "start_time": "2022-07-06T19:54:31.053Z"
   },
   {
    "duration": 12,
    "start_time": "2022-07-06T19:54:31.425Z"
   },
   {
    "duration": 73,
    "start_time": "2022-07-06T19:54:31.439Z"
   },
   {
    "duration": 34,
    "start_time": "2022-07-06T19:54:31.514Z"
   },
   {
    "duration": 88,
    "start_time": "2022-07-06T19:54:31.549Z"
   },
   {
    "duration": 346,
    "start_time": "2022-07-06T19:54:31.639Z"
   },
   {
    "duration": 263,
    "start_time": "2022-07-06T19:54:31.987Z"
   },
   {
    "duration": 8,
    "start_time": "2022-07-06T19:54:32.252Z"
   },
   {
    "duration": 50,
    "start_time": "2022-07-06T19:54:32.261Z"
   },
   {
    "duration": 27,
    "start_time": "2022-07-06T19:54:32.313Z"
   },
   {
    "duration": 353,
    "start_time": "2022-07-06T19:54:32.342Z"
   },
   {
    "duration": 198,
    "start_time": "2022-07-06T19:54:32.701Z"
   },
   {
    "duration": 19,
    "start_time": "2022-07-06T19:54:32.901Z"
   },
   {
    "duration": 2458,
    "start_time": "2022-07-06T19:54:32.921Z"
   },
   {
    "duration": 2,
    "start_time": "2022-07-06T19:54:35.381Z"
   },
   {
    "duration": 147,
    "start_time": "2022-07-06T19:54:35.385Z"
   },
   {
    "duration": 1255,
    "start_time": "2022-07-06T19:54:35.534Z"
   },
   {
    "duration": 3,
    "start_time": "2022-07-06T19:54:36.800Z"
   },
   {
    "duration": 37,
    "start_time": "2022-07-06T19:54:36.804Z"
   },
   {
    "duration": 13037,
    "start_time": "2022-07-06T19:54:36.843Z"
   },
   {
    "duration": 3027872,
    "start_time": "2022-07-06T19:54:49.882Z"
   },
   {
    "duration": 80854,
    "start_time": "2022-07-06T20:45:17.756Z"
   },
   {
    "duration": 338798,
    "start_time": "2022-07-06T20:46:38.612Z"
   },
   {
    "duration": 16042,
    "start_time": "2022-07-06T20:52:17.411Z"
   },
   {
    "duration": 1586,
    "start_time": "2022-07-07T15:41:46.146Z"
   },
   {
    "duration": 2943,
    "start_time": "2022-07-07T15:41:47.735Z"
   },
   {
    "duration": 3,
    "start_time": "2022-07-07T15:41:50.680Z"
   },
   {
    "duration": 7,
    "start_time": "2022-07-07T15:41:50.685Z"
   },
   {
    "duration": 7,
    "start_time": "2022-07-07T15:41:50.693Z"
   },
   {
    "duration": 387,
    "start_time": "2022-07-07T15:41:50.702Z"
   },
   {
    "duration": 77,
    "start_time": "2022-07-07T15:41:51.091Z"
   },
   {
    "duration": 88,
    "start_time": "2022-07-07T15:41:51.170Z"
   },
   {
    "duration": 6,
    "start_time": "2022-07-07T15:41:51.260Z"
   },
   {
    "duration": 151,
    "start_time": "2022-07-07T15:41:51.268Z"
   },
   {
    "duration": 379,
    "start_time": "2022-07-07T15:41:51.421Z"
   },
   {
    "duration": 72,
    "start_time": "2022-07-07T15:41:51.801Z"
   },
   {
    "duration": 38,
    "start_time": "2022-07-07T15:41:51.875Z"
   },
   {
    "duration": 117,
    "start_time": "2022-07-07T15:41:51.915Z"
   },
   {
    "duration": 31,
    "start_time": "2022-07-07T15:41:52.033Z"
   },
   {
    "duration": 34,
    "start_time": "2022-07-07T15:41:52.066Z"
   },
   {
    "duration": 53,
    "start_time": "2022-07-07T15:41:52.102Z"
   },
   {
    "duration": 19,
    "start_time": "2022-07-07T15:41:52.157Z"
   },
   {
    "duration": 51,
    "start_time": "2022-07-07T15:41:52.177Z"
   },
   {
    "duration": 30,
    "start_time": "2022-07-07T15:41:52.230Z"
   },
   {
    "duration": 45,
    "start_time": "2022-07-07T15:41:52.262Z"
   },
   {
    "duration": 15,
    "start_time": "2022-07-07T15:41:52.308Z"
   },
   {
    "duration": 97,
    "start_time": "2022-07-07T15:41:52.324Z"
   },
   {
    "duration": 3,
    "start_time": "2022-07-07T15:41:52.423Z"
   },
   {
    "duration": 590,
    "start_time": "2022-07-07T15:41:52.428Z"
   },
   {
    "duration": 18,
    "start_time": "2022-07-07T15:41:53.020Z"
   },
   {
    "duration": 49,
    "start_time": "2022-07-07T15:41:53.040Z"
   },
   {
    "duration": 61,
    "start_time": "2022-07-07T15:41:53.092Z"
   },
   {
    "duration": 24,
    "start_time": "2022-07-07T15:41:53.154Z"
   },
   {
    "duration": 335,
    "start_time": "2022-07-07T15:41:53.180Z"
   },
   {
    "duration": 107,
    "start_time": "2022-07-07T15:41:53.517Z"
   },
   {
    "duration": 326,
    "start_time": "2022-07-07T15:41:53.626Z"
   },
   {
    "duration": 333,
    "start_time": "2022-07-07T15:41:53.954Z"
   },
   {
    "duration": 10,
    "start_time": "2022-07-07T15:41:54.288Z"
   },
   {
    "duration": 72,
    "start_time": "2022-07-07T15:41:54.300Z"
   },
   {
    "duration": 34,
    "start_time": "2022-07-07T15:41:54.374Z"
   },
   {
    "duration": 78,
    "start_time": "2022-07-07T15:41:54.410Z"
   },
   {
    "duration": 347,
    "start_time": "2022-07-07T15:41:54.490Z"
   },
   {
    "duration": 254,
    "start_time": "2022-07-07T15:41:54.838Z"
   },
   {
    "duration": 10,
    "start_time": "2022-07-07T15:41:55.094Z"
   },
   {
    "duration": 56,
    "start_time": "2022-07-07T15:41:55.105Z"
   },
   {
    "duration": 25,
    "start_time": "2022-07-07T15:41:55.163Z"
   },
   {
    "duration": 393,
    "start_time": "2022-07-07T15:41:55.190Z"
   },
   {
    "duration": 256,
    "start_time": "2022-07-07T15:41:55.585Z"
   },
   {
    "duration": 20,
    "start_time": "2022-07-07T15:41:55.843Z"
   },
   {
    "duration": 3160,
    "start_time": "2022-07-07T15:41:55.865Z"
   },
   {
    "duration": 192,
    "start_time": "2022-07-07T15:41:59.027Z"
   },
   {
    "duration": 7,
    "start_time": "2022-07-07T15:41:59.221Z"
   },
   {
    "duration": 1230,
    "start_time": "2022-07-07T15:41:59.230Z"
   },
   {
    "duration": 3,
    "start_time": "2022-07-07T15:42:00.461Z"
   },
   {
    "duration": 9,
    "start_time": "2022-07-07T15:42:00.465Z"
   },
   {
    "duration": 11315,
    "start_time": "2022-07-07T15:42:00.475Z"
   },
   {
    "duration": 108,
    "start_time": "2022-07-07T15:42:11.792Z"
   },
   {
    "duration": 0,
    "start_time": "2022-07-07T15:42:11.952Z"
   },
   {
    "duration": 0,
    "start_time": "2022-07-07T15:42:11.953Z"
   },
   {
    "duration": 0,
    "start_time": "2022-07-07T15:42:11.954Z"
   },
   {
    "duration": 0,
    "start_time": "2022-07-07T15:42:11.956Z"
   },
   {
    "duration": 0,
    "start_time": "2022-07-07T15:42:11.957Z"
   },
   {
    "duration": 4,
    "start_time": "2022-07-07T15:43:10.390Z"
   },
   {
    "duration": 840,
    "start_time": "2022-07-07T15:43:10.396Z"
   },
   {
    "duration": 4,
    "start_time": "2022-07-07T15:43:11.237Z"
   },
   {
    "duration": 7,
    "start_time": "2022-07-07T15:43:11.252Z"
   },
   {
    "duration": 6,
    "start_time": "2022-07-07T15:43:11.261Z"
   },
   {
    "duration": 293,
    "start_time": "2022-07-07T15:43:11.268Z"
   },
   {
    "duration": 67,
    "start_time": "2022-07-07T15:43:11.563Z"
   },
   {
    "duration": 80,
    "start_time": "2022-07-07T15:43:11.632Z"
   },
   {
    "duration": 6,
    "start_time": "2022-07-07T15:43:11.714Z"
   },
   {
    "duration": 145,
    "start_time": "2022-07-07T15:43:11.721Z"
   },
   {
    "duration": 349,
    "start_time": "2022-07-07T15:43:11.867Z"
   },
   {
    "duration": 73,
    "start_time": "2022-07-07T15:43:12.217Z"
   },
   {
    "duration": 39,
    "start_time": "2022-07-07T15:43:12.291Z"
   },
   {
    "duration": 114,
    "start_time": "2022-07-07T15:43:12.332Z"
   },
   {
    "duration": 26,
    "start_time": "2022-07-07T15:43:12.447Z"
   },
   {
    "duration": 25,
    "start_time": "2022-07-07T15:43:12.474Z"
   },
   {
    "duration": 43,
    "start_time": "2022-07-07T15:43:12.501Z"
   },
   {
    "duration": 19,
    "start_time": "2022-07-07T15:43:12.553Z"
   },
   {
    "duration": 49,
    "start_time": "2022-07-07T15:43:12.574Z"
   },
   {
    "duration": 36,
    "start_time": "2022-07-07T15:43:12.625Z"
   },
   {
    "duration": 59,
    "start_time": "2022-07-07T15:43:12.662Z"
   },
   {
    "duration": 17,
    "start_time": "2022-07-07T15:43:12.723Z"
   },
   {
    "duration": 88,
    "start_time": "2022-07-07T15:43:12.742Z"
   },
   {
    "duration": 3,
    "start_time": "2022-07-07T15:43:12.832Z"
   },
   {
    "duration": 488,
    "start_time": "2022-07-07T15:43:12.852Z"
   },
   {
    "duration": 21,
    "start_time": "2022-07-07T15:43:13.341Z"
   },
   {
    "duration": 34,
    "start_time": "2022-07-07T15:43:13.364Z"
   },
   {
    "duration": 66,
    "start_time": "2022-07-07T15:43:13.399Z"
   },
   {
    "duration": 21,
    "start_time": "2022-07-07T15:43:13.467Z"
   },
   {
    "duration": 344,
    "start_time": "2022-07-07T15:43:13.490Z"
   },
   {
    "duration": 86,
    "start_time": "2022-07-07T15:43:13.836Z"
   },
   {
    "duration": 322,
    "start_time": "2022-07-07T15:43:13.924Z"
   },
   {
    "duration": 323,
    "start_time": "2022-07-07T15:43:14.248Z"
   },
   {
    "duration": 12,
    "start_time": "2022-07-07T15:43:14.573Z"
   },
   {
    "duration": 78,
    "start_time": "2022-07-07T15:43:14.592Z"
   },
   {
    "duration": 40,
    "start_time": "2022-07-07T15:43:14.671Z"
   },
   {
    "duration": 94,
    "start_time": "2022-07-07T15:43:14.713Z"
   },
   {
    "duration": 357,
    "start_time": "2022-07-07T15:43:14.808Z"
   },
   {
    "duration": 343,
    "start_time": "2022-07-07T15:43:15.166Z"
   },
   {
    "duration": 8,
    "start_time": "2022-07-07T15:43:15.511Z"
   },
   {
    "duration": 53,
    "start_time": "2022-07-07T15:43:15.522Z"
   },
   {
    "duration": 24,
    "start_time": "2022-07-07T15:43:15.577Z"
   },
   {
    "duration": 402,
    "start_time": "2022-07-07T15:43:15.603Z"
   },
   {
    "duration": 282,
    "start_time": "2022-07-07T15:43:16.007Z"
   },
   {
    "duration": 14,
    "start_time": "2022-07-07T15:43:16.291Z"
   },
   {
    "duration": 2312,
    "start_time": "2022-07-07T15:43:16.306Z"
   },
   {
    "duration": 2,
    "start_time": "2022-07-07T15:43:18.621Z"
   },
   {
    "duration": 8,
    "start_time": "2022-07-07T15:43:18.625Z"
   },
   {
    "duration": 1183,
    "start_time": "2022-07-07T15:43:18.635Z"
   },
   {
    "duration": 3,
    "start_time": "2022-07-07T15:43:19.820Z"
   },
   {
    "duration": 7,
    "start_time": "2022-07-07T15:43:19.825Z"
   },
   {
    "duration": 11895,
    "start_time": "2022-07-07T15:43:19.852Z"
   },
   {
    "duration": 2596878,
    "start_time": "2022-07-07T15:43:31.749Z"
   },
   {
    "duration": 164997,
    "start_time": "2022-07-07T16:26:48.629Z"
   },
   {
    "duration": 3090749,
    "start_time": "2022-07-07T16:29:33.628Z"
   },
   {
    "duration": 0,
    "start_time": "2022-07-07T17:21:04.379Z"
   },
   {
    "duration": 0,
    "start_time": "2022-07-07T17:21:04.380Z"
   },
   {
    "duration": 0,
    "start_time": "2022-07-07T17:21:04.381Z"
   },
   {
    "duration": 0,
    "start_time": "2022-07-07T17:21:04.382Z"
   },
   {
    "duration": 12449,
    "start_time": "2022-07-07T17:22:02.090Z"
   },
   {
    "duration": 147046,
    "start_time": "2022-07-07T17:22:26.683Z"
   },
   {
    "duration": 2125712,
    "start_time": "2022-07-07T17:25:39.369Z"
   },
   {
    "duration": 3,
    "start_time": "2022-07-07T18:01:27.379Z"
   },
   {
    "duration": 4,
    "start_time": "2022-07-07T18:01:41.582Z"
   },
   {
    "duration": 12900,
    "start_time": "2022-07-07T18:01:44.643Z"
   },
   {
    "duration": 5,
    "start_time": "2022-07-07T18:03:40.588Z"
   },
   {
    "duration": 17,
    "start_time": "2022-07-07T18:03:45.085Z"
   },
   {
    "duration": 6,
    "start_time": "2022-07-07T18:04:14.613Z"
   },
   {
    "duration": 881,
    "start_time": "2022-07-07T18:04:14.620Z"
   },
   {
    "duration": 4,
    "start_time": "2022-07-07T18:04:15.502Z"
   },
   {
    "duration": 8,
    "start_time": "2022-07-07T18:04:15.508Z"
   },
   {
    "duration": 7,
    "start_time": "2022-07-07T18:04:15.518Z"
   },
   {
    "duration": 363,
    "start_time": "2022-07-07T18:04:15.527Z"
   },
   {
    "duration": 109,
    "start_time": "2022-07-07T18:04:15.892Z"
   },
   {
    "duration": 108,
    "start_time": "2022-07-07T18:04:16.003Z"
   },
   {
    "duration": 33,
    "start_time": "2022-07-07T18:04:16.114Z"
   },
   {
    "duration": 221,
    "start_time": "2022-07-07T18:04:16.150Z"
   },
   {
    "duration": 465,
    "start_time": "2022-07-07T18:04:16.374Z"
   },
   {
    "duration": 99,
    "start_time": "2022-07-07T18:04:16.841Z"
   },
   {
    "duration": 60,
    "start_time": "2022-07-07T18:04:16.941Z"
   },
   {
    "duration": 131,
    "start_time": "2022-07-07T18:04:17.003Z"
   },
   {
    "duration": 48,
    "start_time": "2022-07-07T18:04:17.136Z"
   },
   {
    "duration": 21,
    "start_time": "2022-07-07T18:04:17.186Z"
   },
   {
    "duration": 65,
    "start_time": "2022-07-07T18:04:17.209Z"
   },
   {
    "duration": 27,
    "start_time": "2022-07-07T18:04:17.276Z"
   },
   {
    "duration": 63,
    "start_time": "2022-07-07T18:04:17.305Z"
   },
   {
    "duration": 26,
    "start_time": "2022-07-07T18:04:17.373Z"
   },
   {
    "duration": 61,
    "start_time": "2022-07-07T18:04:17.401Z"
   },
   {
    "duration": 24,
    "start_time": "2022-07-07T18:04:17.464Z"
   },
   {
    "duration": 118,
    "start_time": "2022-07-07T18:04:17.490Z"
   },
   {
    "duration": 5,
    "start_time": "2022-07-07T18:04:17.612Z"
   },
   {
    "duration": 630,
    "start_time": "2022-07-07T18:04:17.618Z"
   },
   {
    "duration": 24,
    "start_time": "2022-07-07T18:04:18.250Z"
   },
   {
    "duration": 64,
    "start_time": "2022-07-07T18:04:18.275Z"
   },
   {
    "duration": 54,
    "start_time": "2022-07-07T18:04:18.341Z"
   },
   {
    "duration": 24,
    "start_time": "2022-07-07T18:04:18.398Z"
   },
   {
    "duration": 412,
    "start_time": "2022-07-07T18:04:18.424Z"
   },
   {
    "duration": 74,
    "start_time": "2022-07-07T18:04:18.838Z"
   },
   {
    "duration": 335,
    "start_time": "2022-07-07T18:04:18.914Z"
   },
   {
    "duration": 483,
    "start_time": "2022-07-07T18:04:19.251Z"
   },
   {
    "duration": 30,
    "start_time": "2022-07-07T18:04:19.736Z"
   },
   {
    "duration": 64,
    "start_time": "2022-07-07T18:04:19.773Z"
   },
   {
    "duration": 47,
    "start_time": "2022-07-07T18:04:19.839Z"
   },
   {
    "duration": 88,
    "start_time": "2022-07-07T18:04:19.888Z"
   },
   {
    "duration": 376,
    "start_time": "2022-07-07T18:04:19.978Z"
   },
   {
    "duration": 303,
    "start_time": "2022-07-07T18:04:20.356Z"
   },
   {
    "duration": 13,
    "start_time": "2022-07-07T18:04:20.661Z"
   },
   {
    "duration": 59,
    "start_time": "2022-07-07T18:04:20.675Z"
   },
   {
    "duration": 31,
    "start_time": "2022-07-07T18:04:20.735Z"
   },
   {
    "duration": 383,
    "start_time": "2022-07-07T18:04:20.774Z"
   },
   {
    "duration": 226,
    "start_time": "2022-07-07T18:04:21.161Z"
   },
   {
    "duration": 14,
    "start_time": "2022-07-07T18:04:21.392Z"
   },
   {
    "duration": 2475,
    "start_time": "2022-07-07T18:04:21.407Z"
   },
   {
    "duration": 3,
    "start_time": "2022-07-07T18:04:23.885Z"
   },
   {
    "duration": 15,
    "start_time": "2022-07-07T18:04:23.890Z"
   },
   {
    "duration": 1367,
    "start_time": "2022-07-07T18:04:23.907Z"
   },
   {
    "duration": 3,
    "start_time": "2022-07-07T18:04:25.276Z"
   },
   {
    "duration": 11,
    "start_time": "2022-07-07T18:04:25.282Z"
   },
   {
    "duration": 13287,
    "start_time": "2022-07-07T18:04:29.182Z"
   },
   {
    "duration": 6,
    "start_time": "2022-07-07T18:05:19.777Z"
   },
   {
    "duration": 12813,
    "start_time": "2022-07-07T18:05:21.731Z"
   },
   {
    "duration": 4,
    "start_time": "2022-07-07T18:06:44.962Z"
   },
   {
    "duration": 13533,
    "start_time": "2022-07-07T18:06:48.624Z"
   },
   {
    "duration": 3,
    "start_time": "2022-07-07T18:07:19.849Z"
   },
   {
    "duration": 12928,
    "start_time": "2022-07-07T18:07:26.541Z"
   },
   {
    "duration": 4,
    "start_time": "2022-07-07T18:10:08.822Z"
   },
   {
    "duration": 4,
    "start_time": "2022-07-07T18:10:10.546Z"
   },
   {
    "duration": 12516,
    "start_time": "2022-07-07T18:10:13.043Z"
   },
   {
    "duration": 2,
    "start_time": "2022-07-07T18:10:38.389Z"
   },
   {
    "duration": 12260,
    "start_time": "2022-07-07T18:10:41.239Z"
   },
   {
    "duration": 5,
    "start_time": "2022-07-07T18:15:56.627Z"
   },
   {
    "duration": 967,
    "start_time": "2022-07-07T18:15:56.635Z"
   },
   {
    "duration": 4,
    "start_time": "2022-07-07T18:15:57.604Z"
   },
   {
    "duration": 7,
    "start_time": "2022-07-07T18:15:57.610Z"
   },
   {
    "duration": 17,
    "start_time": "2022-07-07T18:15:57.618Z"
   },
   {
    "duration": 374,
    "start_time": "2022-07-07T18:15:57.637Z"
   },
   {
    "duration": 112,
    "start_time": "2022-07-07T18:15:58.013Z"
   },
   {
    "duration": 113,
    "start_time": "2022-07-07T18:15:58.127Z"
   },
   {
    "duration": 14,
    "start_time": "2022-07-07T18:15:58.243Z"
   },
   {
    "duration": 147,
    "start_time": "2022-07-07T18:15:58.261Z"
   },
   {
    "duration": 387,
    "start_time": "2022-07-07T18:15:58.410Z"
   },
   {
    "duration": 102,
    "start_time": "2022-07-07T18:15:58.799Z"
   },
   {
    "duration": 66,
    "start_time": "2022-07-07T18:15:58.903Z"
   },
   {
    "duration": 125,
    "start_time": "2022-07-07T18:15:58.971Z"
   },
   {
    "duration": 32,
    "start_time": "2022-07-07T18:15:59.099Z"
   },
   {
    "duration": 43,
    "start_time": "2022-07-07T18:15:59.133Z"
   },
   {
    "duration": 64,
    "start_time": "2022-07-07T18:15:59.178Z"
   },
   {
    "duration": 32,
    "start_time": "2022-07-07T18:15:59.244Z"
   },
   {
    "duration": 55,
    "start_time": "2022-07-07T18:15:59.278Z"
   },
   {
    "duration": 32,
    "start_time": "2022-07-07T18:15:59.335Z"
   },
   {
    "duration": 66,
    "start_time": "2022-07-07T18:15:59.369Z"
   },
   {
    "duration": 28,
    "start_time": "2022-07-07T18:15:59.436Z"
   },
   {
    "duration": 108,
    "start_time": "2022-07-07T18:15:59.465Z"
   },
   {
    "duration": 5,
    "start_time": "2022-07-07T18:15:59.575Z"
   },
   {
    "duration": 622,
    "start_time": "2022-07-07T18:15:59.582Z"
   },
   {
    "duration": 30,
    "start_time": "2022-07-07T18:16:00.206Z"
   },
   {
    "duration": 47,
    "start_time": "2022-07-07T18:16:00.238Z"
   },
   {
    "duration": 65,
    "start_time": "2022-07-07T18:16:00.289Z"
   },
   {
    "duration": 26,
    "start_time": "2022-07-07T18:16:00.356Z"
   },
   {
    "duration": 609,
    "start_time": "2022-07-07T18:16:00.384Z"
   },
   {
    "duration": 82,
    "start_time": "2022-07-07T18:16:00.996Z"
   },
   {
    "duration": 360,
    "start_time": "2022-07-07T18:16:01.080Z"
   },
   {
    "duration": 349,
    "start_time": "2022-07-07T18:16:01.442Z"
   },
   {
    "duration": 11,
    "start_time": "2022-07-07T18:16:01.792Z"
   },
   {
    "duration": 82,
    "start_time": "2022-07-07T18:16:01.804Z"
   },
   {
    "duration": 36,
    "start_time": "2022-07-07T18:16:01.888Z"
   },
   {
    "duration": 112,
    "start_time": "2022-07-07T18:16:01.926Z"
   },
   {
    "duration": 371,
    "start_time": "2022-07-07T18:16:02.040Z"
   },
   {
    "duration": 267,
    "start_time": "2022-07-07T18:16:02.413Z"
   },
   {
    "duration": 8,
    "start_time": "2022-07-07T18:16:02.682Z"
   },
   {
    "duration": 39,
    "start_time": "2022-07-07T18:16:02.691Z"
   },
   {
    "duration": 47,
    "start_time": "2022-07-07T18:16:02.731Z"
   },
   {
    "duration": 386,
    "start_time": "2022-07-07T18:16:02.780Z"
   },
   {
    "duration": 215,
    "start_time": "2022-07-07T18:16:03.168Z"
   },
   {
    "duration": 14,
    "start_time": "2022-07-07T18:16:03.385Z"
   },
   {
    "duration": 2429,
    "start_time": "2022-07-07T18:16:03.401Z"
   },
   {
    "duration": 4,
    "start_time": "2022-07-07T18:16:05.832Z"
   },
   {
    "duration": 11,
    "start_time": "2022-07-07T18:16:05.838Z"
   },
   {
    "duration": 1338,
    "start_time": "2022-07-07T18:16:05.851Z"
   },
   {
    "duration": 3,
    "start_time": "2022-07-07T18:16:07.190Z"
   },
   {
    "duration": 6,
    "start_time": "2022-07-07T18:16:07.195Z"
   },
   {
    "duration": 13041,
    "start_time": "2022-07-07T18:16:07.203Z"
   },
   {
    "duration": 2566263,
    "start_time": "2022-07-07T18:16:20.246Z"
   },
   {
    "duration": 132725,
    "start_time": "2022-07-07T18:59:06.510Z"
   },
   {
    "duration": 87935,
    "start_time": "2022-07-07T19:01:19.237Z"
   },
   {
    "duration": 16476,
    "start_time": "2022-07-07T19:02:47.174Z"
   },
   {
    "duration": 78,
    "start_time": "2022-07-07T19:03:03.652Z"
   },
   {
    "duration": 0,
    "start_time": "2022-07-07T19:03:03.732Z"
   },
   {
    "duration": 21,
    "start_time": "2022-07-07T20:36:02.256Z"
   },
   {
    "duration": 4,
    "start_time": "2022-07-07T20:36:32.047Z"
   },
   {
    "duration": 13,
    "start_time": "2022-07-07T20:36:34.965Z"
   },
   {
    "duration": 16454,
    "start_time": "2022-07-07T20:37:59.924Z"
   },
   {
    "duration": 5,
    "start_time": "2022-07-07T20:38:16.380Z"
   },
   {
    "duration": 13,
    "start_time": "2022-07-07T20:38:16.401Z"
   },
   {
    "duration": 5,
    "start_time": "2022-07-07T20:40:38.558Z"
   },
   {
    "duration": 8,
    "start_time": "2022-07-07T20:40:39.773Z"
   },
   {
    "duration": 77,
    "start_time": "2022-07-07T20:41:10.645Z"
   },
   {
    "duration": 5,
    "start_time": "2022-07-07T20:41:19.314Z"
   },
   {
    "duration": 9,
    "start_time": "2022-07-07T20:41:20.312Z"
   },
   {
    "duration": 11,
    "start_time": "2022-07-07T20:45:06.775Z"
   },
   {
    "duration": 10,
    "start_time": "2022-07-07T20:48:23.755Z"
   },
   {
    "duration": 73,
    "start_time": "2022-07-07T21:02:56.616Z"
   },
   {
    "duration": 4,
    "start_time": "2022-07-07T21:03:07.676Z"
   },
   {
    "duration": 794,
    "start_time": "2022-07-07T21:03:07.686Z"
   },
   {
    "duration": 4,
    "start_time": "2022-07-07T21:03:08.482Z"
   },
   {
    "duration": 16,
    "start_time": "2022-07-07T21:03:08.487Z"
   },
   {
    "duration": 5,
    "start_time": "2022-07-07T21:03:10.190Z"
   },
   {
    "duration": 73,
    "start_time": "2022-07-07T21:03:11.182Z"
   },
   {
    "duration": 127,
    "start_time": "2022-07-07T21:03:57.471Z"
   },
   {
    "duration": 5,
    "start_time": "2022-07-07T21:05:23.932Z"
   },
   {
    "duration": 5,
    "start_time": "2022-07-07T21:06:22.104Z"
   },
   {
    "duration": 4,
    "start_time": "2022-07-07T21:10:43.378Z"
   },
   {
    "duration": 802,
    "start_time": "2022-07-07T21:10:43.393Z"
   },
   {
    "duration": 3,
    "start_time": "2022-07-07T21:10:44.197Z"
   },
   {
    "duration": 9,
    "start_time": "2022-07-07T21:10:44.201Z"
   },
   {
    "duration": 6,
    "start_time": "2022-07-07T21:10:44.211Z"
   },
   {
    "duration": 306,
    "start_time": "2022-07-07T21:10:44.218Z"
   },
   {
    "duration": 67,
    "start_time": "2022-07-07T21:10:44.526Z"
   },
   {
    "duration": 74,
    "start_time": "2022-07-07T21:10:44.595Z"
   },
   {
    "duration": 6,
    "start_time": "2022-07-07T21:10:44.671Z"
   },
   {
    "duration": 122,
    "start_time": "2022-07-07T21:10:48.357Z"
   },
   {
    "duration": 352,
    "start_time": "2022-07-07T21:11:03.335Z"
   },
   {
    "duration": 1908,
    "start_time": "2022-07-09T19:58:45.173Z"
   },
   {
    "duration": 1607,
    "start_time": "2022-07-09T19:58:47.083Z"
   },
   {
    "duration": 5,
    "start_time": "2022-07-09T19:58:48.692Z"
   },
   {
    "duration": 7,
    "start_time": "2022-07-09T19:58:48.700Z"
   },
   {
    "duration": 44,
    "start_time": "2022-07-09T19:58:48.709Z"
   },
   {
    "duration": 453,
    "start_time": "2022-07-09T19:58:48.761Z"
   },
   {
    "duration": 97,
    "start_time": "2022-07-09T19:58:49.216Z"
   },
   {
    "duration": 141,
    "start_time": "2022-07-09T19:58:49.315Z"
   },
   {
    "duration": 14,
    "start_time": "2022-07-09T19:58:49.458Z"
   },
   {
    "duration": 249,
    "start_time": "2022-07-09T19:58:49.476Z"
   },
   {
    "duration": 488,
    "start_time": "2022-07-09T19:58:49.727Z"
   },
   {
    "duration": 108,
    "start_time": "2022-07-09T19:58:50.217Z"
   },
   {
    "duration": 63,
    "start_time": "2022-07-09T19:58:50.327Z"
   },
   {
    "duration": 162,
    "start_time": "2022-07-09T19:58:50.393Z"
   },
   {
    "duration": 29,
    "start_time": "2022-07-09T19:58:50.561Z"
   },
   {
    "duration": 23,
    "start_time": "2022-07-09T19:58:50.592Z"
   },
   {
    "duration": 71,
    "start_time": "2022-07-09T19:58:50.618Z"
   },
   {
    "duration": 22,
    "start_time": "2022-07-09T19:58:50.691Z"
   },
   {
    "duration": 87,
    "start_time": "2022-07-09T19:58:50.716Z"
   },
   {
    "duration": 41,
    "start_time": "2022-07-09T19:58:50.805Z"
   },
   {
    "duration": 76,
    "start_time": "2022-07-09T19:58:50.848Z"
   },
   {
    "duration": 25,
    "start_time": "2022-07-09T19:58:50.926Z"
   },
   {
    "duration": 106,
    "start_time": "2022-07-09T19:58:50.957Z"
   },
   {
    "duration": 6,
    "start_time": "2022-07-09T19:58:51.065Z"
   },
   {
    "duration": 821,
    "start_time": "2022-07-09T19:58:51.074Z"
   },
   {
    "duration": 24,
    "start_time": "2022-07-09T19:58:51.897Z"
   },
   {
    "duration": 77,
    "start_time": "2022-07-09T19:58:51.923Z"
   },
   {
    "duration": 80,
    "start_time": "2022-07-09T19:58:52.003Z"
   },
   {
    "duration": 28,
    "start_time": "2022-07-09T19:58:52.086Z"
   },
   {
    "duration": 463,
    "start_time": "2022-07-09T19:58:52.117Z"
   },
   {
    "duration": 120,
    "start_time": "2022-07-09T19:58:52.582Z"
   },
   {
    "duration": 416,
    "start_time": "2022-07-09T19:58:52.704Z"
   },
   {
    "duration": 423,
    "start_time": "2022-07-09T19:58:53.123Z"
   },
   {
    "duration": 17,
    "start_time": "2022-07-09T19:58:53.550Z"
   },
   {
    "duration": 98,
    "start_time": "2022-07-09T19:58:53.569Z"
   },
   {
    "duration": 52,
    "start_time": "2022-07-09T19:58:53.669Z"
   },
   {
    "duration": 140,
    "start_time": "2022-07-09T19:58:53.723Z"
   },
   {
    "duration": 440,
    "start_time": "2022-07-09T19:58:53.866Z"
   },
   {
    "duration": 430,
    "start_time": "2022-07-09T19:58:54.308Z"
   },
   {
    "duration": 13,
    "start_time": "2022-07-09T19:58:54.741Z"
   },
   {
    "duration": 78,
    "start_time": "2022-07-09T19:58:54.765Z"
   },
   {
    "duration": 37,
    "start_time": "2022-07-09T19:58:54.845Z"
   },
   {
    "duration": 51,
    "start_time": "2022-07-09T19:58:54.885Z"
   },
   {
    "duration": 0,
    "start_time": "2022-07-09T19:58:54.938Z"
   },
   {
    "duration": 77,
    "start_time": "2022-07-09T19:59:03.282Z"
   },
   {
    "duration": 1237,
    "start_time": "2022-07-09T20:02:35.031Z"
   },
   {
    "duration": 157,
    "start_time": "2022-07-09T20:05:56.662Z"
   },
   {
    "duration": 6,
    "start_time": "2022-07-09T20:06:32.936Z"
   },
   {
    "duration": 1120,
    "start_time": "2022-07-09T20:06:32.944Z"
   },
   {
    "duration": 4,
    "start_time": "2022-07-09T20:06:34.067Z"
   },
   {
    "duration": 7,
    "start_time": "2022-07-09T20:06:34.073Z"
   },
   {
    "duration": 7,
    "start_time": "2022-07-09T20:06:34.082Z"
   },
   {
    "duration": 445,
    "start_time": "2022-07-09T20:06:34.090Z"
   },
   {
    "duration": 113,
    "start_time": "2022-07-09T20:06:34.538Z"
   },
   {
    "duration": 109,
    "start_time": "2022-07-09T20:06:34.659Z"
   },
   {
    "duration": 14,
    "start_time": "2022-07-09T20:06:34.771Z"
   },
   {
    "duration": 181,
    "start_time": "2022-07-09T20:06:34.787Z"
   },
   {
    "duration": 418,
    "start_time": "2022-07-09T20:06:34.971Z"
   },
   {
    "duration": 90,
    "start_time": "2022-07-09T20:06:35.391Z"
   },
   {
    "duration": 58,
    "start_time": "2022-07-09T20:06:35.483Z"
   },
   {
    "duration": 135,
    "start_time": "2022-07-09T20:06:35.545Z"
   },
   {
    "duration": 29,
    "start_time": "2022-07-09T20:06:35.682Z"
   },
   {
    "duration": 25,
    "start_time": "2022-07-09T20:06:35.713Z"
   },
   {
    "duration": 55,
    "start_time": "2022-07-09T20:06:35.753Z"
   },
   {
    "duration": 35,
    "start_time": "2022-07-09T20:06:35.810Z"
   },
   {
    "duration": 116,
    "start_time": "2022-07-09T20:06:35.847Z"
   },
   {
    "duration": 21,
    "start_time": "2022-07-09T20:06:35.965Z"
   },
   {
    "duration": 167,
    "start_time": "2022-07-09T20:06:35.988Z"
   },
   {
    "duration": 21,
    "start_time": "2022-07-09T20:06:36.157Z"
   },
   {
    "duration": 140,
    "start_time": "2022-07-09T20:06:36.180Z"
   },
   {
    "duration": 4,
    "start_time": "2022-07-09T20:06:36.322Z"
   },
   {
    "duration": 763,
    "start_time": "2022-07-09T20:06:36.328Z"
   },
   {
    "duration": 22,
    "start_time": "2022-07-09T20:06:37.093Z"
   },
   {
    "duration": 52,
    "start_time": "2022-07-09T20:06:37.117Z"
   },
   {
    "duration": 48,
    "start_time": "2022-07-09T20:06:37.171Z"
   },
   {
    "duration": 40,
    "start_time": "2022-07-09T20:06:37.224Z"
   },
   {
    "duration": 398,
    "start_time": "2022-07-09T20:06:37.266Z"
   },
   {
    "duration": 103,
    "start_time": "2022-07-09T20:06:37.666Z"
   },
   {
    "duration": 386,
    "start_time": "2022-07-09T20:06:37.771Z"
   },
   {
    "duration": 447,
    "start_time": "2022-07-09T20:06:38.159Z"
   },
   {
    "duration": 13,
    "start_time": "2022-07-09T20:06:38.608Z"
   },
   {
    "duration": 85,
    "start_time": "2022-07-09T20:06:38.623Z"
   },
   {
    "duration": 59,
    "start_time": "2022-07-09T20:06:38.710Z"
   },
   {
    "duration": 110,
    "start_time": "2022-07-09T20:06:38.771Z"
   },
   {
    "duration": 409,
    "start_time": "2022-07-09T20:06:38.883Z"
   },
   {
    "duration": 448,
    "start_time": "2022-07-09T20:06:39.294Z"
   },
   {
    "duration": 13,
    "start_time": "2022-07-09T20:06:39.744Z"
   },
   {
    "duration": 46,
    "start_time": "2022-07-09T20:06:39.760Z"
   },
   {
    "duration": 53,
    "start_time": "2022-07-09T20:06:39.808Z"
   },
   {
    "duration": 76,
    "start_time": "2022-07-09T20:06:43.814Z"
   },
   {
    "duration": 71,
    "start_time": "2022-07-09T20:07:45.573Z"
   },
   {
    "duration": 5,
    "start_time": "2022-07-09T20:19:14.059Z"
   },
   {
    "duration": 1075,
    "start_time": "2022-07-09T20:19:14.068Z"
   },
   {
    "duration": 3,
    "start_time": "2022-07-09T20:19:15.146Z"
   },
   {
    "duration": 12,
    "start_time": "2022-07-09T20:19:15.151Z"
   },
   {
    "duration": 9,
    "start_time": "2022-07-09T20:19:15.167Z"
   },
   {
    "duration": 364,
    "start_time": "2022-07-09T20:19:15.178Z"
   },
   {
    "duration": 97,
    "start_time": "2022-07-09T20:19:15.545Z"
   },
   {
    "duration": 83,
    "start_time": "2022-07-09T20:19:15.644Z"
   },
   {
    "duration": 9,
    "start_time": "2022-07-09T20:19:15.744Z"
   },
   {
    "duration": 153,
    "start_time": "2022-07-09T20:19:15.755Z"
   },
   {
    "duration": 416,
    "start_time": "2022-07-09T20:19:15.913Z"
   },
   {
    "duration": 78,
    "start_time": "2022-07-09T20:19:16.331Z"
   },
   {
    "duration": 56,
    "start_time": "2022-07-09T20:19:16.411Z"
   },
   {
    "duration": 129,
    "start_time": "2022-07-09T20:19:16.469Z"
   },
   {
    "duration": 29,
    "start_time": "2022-07-09T20:19:16.600Z"
   },
   {
    "duration": 29,
    "start_time": "2022-07-09T20:19:16.631Z"
   },
   {
    "duration": 83,
    "start_time": "2022-07-09T20:19:16.662Z"
   },
   {
    "duration": 34,
    "start_time": "2022-07-09T20:19:16.747Z"
   },
   {
    "duration": 61,
    "start_time": "2022-07-09T20:19:16.784Z"
   },
   {
    "duration": 19,
    "start_time": "2022-07-09T20:19:16.847Z"
   },
   {
    "duration": 52,
    "start_time": "2022-07-09T20:19:16.867Z"
   },
   {
    "duration": 19,
    "start_time": "2022-07-09T20:19:16.943Z"
   },
   {
    "duration": 113,
    "start_time": "2022-07-09T20:19:16.964Z"
   },
   {
    "duration": 6,
    "start_time": "2022-07-09T20:19:17.078Z"
   },
   {
    "duration": 604,
    "start_time": "2022-07-09T20:19:17.086Z"
   },
   {
    "duration": 21,
    "start_time": "2022-07-09T20:19:17.691Z"
   },
   {
    "duration": 68,
    "start_time": "2022-07-09T20:19:17.714Z"
   },
   {
    "duration": 58,
    "start_time": "2022-07-09T20:19:17.784Z"
   },
   {
    "duration": 22,
    "start_time": "2022-07-09T20:19:17.846Z"
   },
   {
    "duration": 393,
    "start_time": "2022-07-09T20:19:17.870Z"
   },
   {
    "duration": 89,
    "start_time": "2022-07-09T20:19:18.265Z"
   },
   {
    "duration": 381,
    "start_time": "2022-07-09T20:19:18.356Z"
   },
   {
    "duration": 381,
    "start_time": "2022-07-09T20:19:18.742Z"
   },
   {
    "duration": 17,
    "start_time": "2022-07-09T20:19:19.125Z"
   },
   {
    "duration": 72,
    "start_time": "2022-07-09T20:19:19.144Z"
   },
   {
    "duration": 52,
    "start_time": "2022-07-09T20:19:19.217Z"
   },
   {
    "duration": 91,
    "start_time": "2022-07-09T20:19:19.270Z"
   },
   {
    "duration": 522,
    "start_time": "2022-07-09T20:19:19.364Z"
   },
   {
    "duration": 316,
    "start_time": "2022-07-09T20:19:19.888Z"
   },
   {
    "duration": 9,
    "start_time": "2022-07-09T20:19:20.206Z"
   },
   {
    "duration": 61,
    "start_time": "2022-07-09T20:19:20.217Z"
   },
   {
    "duration": 28,
    "start_time": "2022-07-09T20:19:20.279Z"
   },
   {
    "duration": 83,
    "start_time": "2022-07-09T20:19:20.308Z"
   },
   {
    "duration": 445,
    "start_time": "2022-07-09T20:19:20.393Z"
   },
   {
    "duration": 264,
    "start_time": "2022-07-09T20:19:20.841Z"
   },
   {
    "duration": 17,
    "start_time": "2022-07-09T20:19:21.106Z"
   },
   {
    "duration": 3115,
    "start_time": "2022-07-09T20:19:21.125Z"
   },
   {
    "duration": 204,
    "start_time": "2022-07-09T20:19:24.243Z"
   },
   {
    "duration": 11,
    "start_time": "2022-07-09T20:19:24.450Z"
   },
   {
    "duration": 1438,
    "start_time": "2022-07-09T20:19:24.464Z"
   },
   {
    "duration": 3,
    "start_time": "2022-07-09T20:19:25.904Z"
   },
   {
    "duration": 9,
    "start_time": "2022-07-09T20:19:25.909Z"
   },
   {
    "duration": 14265,
    "start_time": "2022-07-09T20:19:25.920Z"
   },
   {
    "duration": 3152409,
    "start_time": "2022-07-09T20:19:40.187Z"
   },
   {
    "duration": 159558,
    "start_time": "2022-07-09T21:12:12.598Z"
   },
   {
    "duration": 112098,
    "start_time": "2022-07-09T21:14:52.158Z"
   },
   {
    "duration": 18675,
    "start_time": "2022-07-09T21:16:44.258Z"
   },
   {
    "duration": 13,
    "start_time": "2022-07-09T21:17:02.941Z"
   }
  ],
  "kernelspec": {
   "display_name": "Python 3 (ipykernel)",
   "language": "python",
   "name": "python3"
  },
  "language_info": {
   "codemirror_mode": {
    "name": "ipython",
    "version": 3
   },
   "file_extension": ".py",
   "mimetype": "text/x-python",
   "name": "python",
   "nbconvert_exporter": "python",
   "pygments_lexer": "ipython3",
   "version": "3.9.12"
  },
  "toc": {
   "base_numbering": 1,
   "nav_menu": {},
   "number_sections": true,
   "sideBar": true,
   "skip_h1_title": true,
   "title_cell": "Table of Contents",
   "title_sidebar": "Contents",
   "toc_cell": false,
   "toc_position": {
    "height": "calc(100% - 180px)",
    "left": "10px",
    "top": "150px",
    "width": "330px"
   },
   "toc_section_display": true,
   "toc_window_display": true
  }
 },
 "nbformat": 4,
 "nbformat_minor": 2
}
