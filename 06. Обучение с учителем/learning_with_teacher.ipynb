{
 "cells": [
  {
   "cell_type": "markdown",
   "metadata": {},
   "source": [
    "# Отток клиентов из банка"
   ]
  },
  {
   "cell_type": "markdown",
   "metadata": {},
   "source": [
    "Из «Бета-Банка» стали уходить клиенты. Каждый месяц. Немного, но заметно. Банковские маркетологи посчитали: сохранять текущих клиентов дешевле, чем привлекать новых.\n",
    "\n",
    "Нужно спрогнозировать, уйдёт клиент из банка в ближайшее время или нет. Вам предоставлены исторические данные о поведении клиентов и расторжении договоров с банком. \n",
    "\n",
    "Постройте модель с предельно большим значением *F1*-меры. Чтобы сдать проект успешно, нужно довести метрику до 0.59. Проверьте *F1*-меру на тестовой выборке самостоятельно.\n",
    "\n",
    "Дополнительно измеряйте *AUC-ROC*, сравнивайте её значение с *F1*-мерой.\n",
    "\n",
    "Источник данных: [https://www.kaggle.com/barelydedicated/bank-customer-churn-modeling](https://www.kaggle.com/barelydedicated/bank-customer-churn-modeling)"
   ]
  },
  {
   "cell_type": "markdown",
   "metadata": {
    "toc": true
   },
   "source": [
    "<h1>Содержание<span class=\"tocSkip\"></span></h1>\n",
    "<div class=\"toc\"><ul class=\"toc-item\"><li><span><a href=\"#Загрузка-и-подготовка-данных\" data-toc-modified-id=\"Загрузка-и-подготовка-данных-1\"><span class=\"toc-item-num\">1&nbsp;&nbsp;</span>Загрузка и подготовка данных</a></span><ul class=\"toc-item\"><li><span><a href=\"#Подключим-необходимые-библиотеки\" data-toc-modified-id=\"Подключим-необходимые-библиотеки-1.1\"><span class=\"toc-item-num\">1.1&nbsp;&nbsp;</span>Подключим необходимые библиотеки</a></span></li><li><span><a href=\"#Откроем-таблицу,-посмотрем-внешний-вид-и-изучим-общую-информацию-о-данных.\" data-toc-modified-id=\"Откроем-таблицу,-посмотрем-внешний-вид-и-изучим-общую-информацию-о-данных.-1.2\"><span class=\"toc-item-num\">1.2&nbsp;&nbsp;</span>Откроем таблицу, посмотрем внешний вид и изучим общую информацию о данных.</a></span></li><li><span><a href=\"#Удалим-столбцы-не-являющимися-признаками-для-обучения-для-модели.\" data-toc-modified-id=\"Удалим-столбцы-не-являющимися-признаками-для-обучения-для-модели.-1.3\"><span class=\"toc-item-num\">1.3&nbsp;&nbsp;</span>Удалим столбцы не являющимися признаками для обучения для модели.</a></span></li><li><span><a href=\"#Проверим-датафрейм-на-дубликаты\" data-toc-modified-id=\"Проверим-датафрейм-на-дубликаты-1.4\"><span class=\"toc-item-num\">1.4&nbsp;&nbsp;</span>Проверим датафрейм на дубликаты</a></span></li><li><span><a href=\"#Посмотрим-на-состав-столбцов\" data-toc-modified-id=\"Посмотрим-на-состав-столбцов-1.5\"><span class=\"toc-item-num\">1.5&nbsp;&nbsp;</span>Посмотрим на состав столбцов</a></span></li><li><span><a href=\"#Вывод:-Нельзя-сказать,-что-пропуски-могут-быть-связаны-и-с-другими-столбцами,-поэтому-необходимо-рассмотреть-все-варианты-действий-с-пропусками-и-сравнить-их.\" data-toc-modified-id=\"Вывод:-Нельзя-сказать,-что-пропуски-могут-быть-связаны-и-с-другими-столбцами,-поэтому-необходимо-рассмотреть-все-варианты-действий-с-пропусками-и-сравнить-их.-1.6\"><span class=\"toc-item-num\">1.6&nbsp;&nbsp;</span><strong>Вывод:</strong> Нельзя сказать, что пропуски могут быть связаны и с другими столбцами, поэтому необходимо рассмотреть все варианты действий с пропусками и сравнить их.</a></span></li><li><span><a href=\"#Рассмотрим-следующие-варианты:\" data-toc-modified-id=\"Рассмотрим-следующие-варианты:-1.7\"><span class=\"toc-item-num\">1.7&nbsp;&nbsp;</span>Рассмотрим следующие варианты:</a></span></li><li><span><a href=\"#Вывод:\" data-toc-modified-id=\"Вывод:-1.8\"><span class=\"toc-item-num\">1.8&nbsp;&nbsp;</span><strong>Вывод:</strong></a></span></li></ul></li><li><span><a href=\"#Исследование-задачи\" data-toc-modified-id=\"Исследование-задачи-2\"><span class=\"toc-item-num\">2&nbsp;&nbsp;</span>Исследование задачи</a></span><ul class=\"toc-item\"><li><span><a href=\"#Напишем-функцию-разделения-данных-c-отображением-дисбаланса-меток-1-и-0\" data-toc-modified-id=\"Напишем-функцию-разделения-данных-c-отображением-дисбаланса-меток-1-и-0-2.1\"><span class=\"toc-item-num\">2.1&nbsp;&nbsp;</span>Напишем функцию разделения данных c отображением дисбаланса меток 1 и 0</a></span></li><li><span><a href=\"#Создаем-три-выборки-из-датафрейма-df_without_nan-(пропуски-удалены)\" data-toc-modified-id=\"Создаем-три-выборки-из-датафрейма-df_without_nan-(пропуски-удалены)-2.2\"><span class=\"toc-item-num\">2.2&nbsp;&nbsp;</span>Создаем три выборки из датафрейма df_without_nan (пропуски удалены)</a></span></li><li><span><a href=\"#Создаем-три-выборки-из-датафрейма-df_with_zero-(пропуски-заменены-на-0)\" data-toc-modified-id=\"Создаем-три-выборки-из-датафрейма-df_with_zero-(пропуски-заменены-на-0)-2.3\"><span class=\"toc-item-num\">2.3&nbsp;&nbsp;</span>Создаем три выборки из датафрейма df_with_zero (пропуски заменены на 0)</a></span></li><li><span><a href=\"#Создаем-три-выборки-из-датафрейма-df_with_median-(пропуски-заменены-на-медиану)\" data-toc-modified-id=\"Создаем-три-выборки-из-датафрейма-df_with_median-(пропуски-заменены-на-медиану)-2.4\"><span class=\"toc-item-num\">2.4&nbsp;&nbsp;</span>Создаем три выборки из датафрейма df_with_median (пропуски заменены на медиану)</a></span></li><li><span><a href=\"#Обучим-разные-модели-без-учета-дисбаланса-классов\" data-toc-modified-id=\"Обучим-разные-модели-без-учета-дисбаланса-классов-2.5\"><span class=\"toc-item-num\">2.5&nbsp;&nbsp;</span>Обучим разные модели без учета дисбаланса классов</a></span><ul class=\"toc-item\"><li><span><a href=\"#Напишем-функцию-построеня-ROC-криваой-и-нахождения-метрики-качества-AUC-ROC-и-представления-F1-меры.\" data-toc-modified-id=\"Напишем-функцию-построеня-ROC-криваой-и-нахождения-метрики-качества-AUC-ROC-и-представления-F1-меры.-2.5.1\"><span class=\"toc-item-num\">2.5.1&nbsp;&nbsp;</span>Напишем функцию построеня ROC-криваой и нахождения метрики качества AUC-ROC и представления F1 меры.</a></span></li><li><span><a href=\"#Напишем-функцию,-которая-перебором,-меняя-параметры-и-гиперпараметры-ищет-лучшую-модель-по-максимальной-F1-мере.\" data-toc-modified-id=\"Напишем-функцию,-которая-перебором,-меняя-параметры-и-гиперпараметры-ищет-лучшую-модель-по-максимальной-F1-мере.-2.5.2\"><span class=\"toc-item-num\">2.5.2&nbsp;&nbsp;</span>Напишем функцию, которая перебором, меняя параметры и гиперпараметры ищет лучшую модель по максимальной F1-мере.</a></span></li><li><span><a href=\"#Найдем-лучшие-модели-без-учета-дисбаланса.-Обучать-будем-три-модели-DecisionTreeClassifier,-RandomForestClassifier,-LogisticRegression-на-трех-выборках-подготовненных-из-df_without_nan,-df_with_zero,-df_with_median\" data-toc-modified-id=\"Найдем-лучшие-модели-без-учета-дисбаланса.-Обучать-будем-три-модели-DecisionTreeClassifier,-RandomForestClassifier,-LogisticRegression-на-трех-выборках-подготовненных-из-df_without_nan,-df_with_zero,-df_with_median-2.5.3\"><span class=\"toc-item-num\">2.5.3&nbsp;&nbsp;</span>Найдем лучшие модели без учета дисбаланса. Обучать будем три модели DecisionTreeClassifier, RandomForestClassifier, LogisticRegression на трех выборках подготовненных из df_without_nan, df_with_zero, df_with_median</a></span></li><li><span><a href=\"#Нашли-лучшие-модели-без-учета-дисбаланса.--Построим-ROC-кривую-и-найдем-метрику-качества-AUC-ROC-для-каждой-модели-и-для-каждого-датафрейма\" data-toc-modified-id=\"Нашли-лучшие-модели-без-учета-дисбаланса.--Построим-ROC-кривую-и-найдем-метрику-качества-AUC-ROC-для-каждой-модели-и-для-каждого-датафрейма-2.5.4\"><span class=\"toc-item-num\">2.5.4&nbsp;&nbsp;</span>Нашли лучшие модели без учета дисбаланса.  Построим ROC-кривую и найдем метрику качества AUC-ROC для каждой модели и для каждого датафрейма</a></span></li></ul></li><li><span><a href=\"#Вывод:\" data-toc-modified-id=\"Вывод:-2.6\"><span class=\"toc-item-num\">2.6&nbsp;&nbsp;</span>Вывод:</a></span></li></ul></li><li><span><a href=\"#Борьба-с-дисбалансом\" data-toc-modified-id=\"Борьба-с-дисбалансом-3\"><span class=\"toc-item-num\">3&nbsp;&nbsp;</span>Борьба с дисбалансом</a></span><ul class=\"toc-item\"><li><span><a href=\"#Для-борьбы-с-дисбалансом-воспользуемся-техниками-увеличение-выборки-(upsampling),-уменьшение-выборки(downsampling)-и-изменением-class_weight\" data-toc-modified-id=\"Для-борьбы-с-дисбалансом-воспользуемся-техниками-увеличение-выборки-(upsampling),-уменьшение-выборки(downsampling)-и-изменением-class_weight-3.1\"><span class=\"toc-item-num\">3.1&nbsp;&nbsp;</span>Для борьбы с дисбалансом воспользуемся техниками увеличение выборки (upsampling), уменьшение выборки(downsampling) и изменением class_weight</a></span><ul class=\"toc-item\"><li><span><a href=\"#Напишем-функцию,-который-перебором,-меняя-параметры-и-гиперпараметры-а-также-меняя-колличество-раз-увеличения-(уменьшения)--положительных-объектов--и-изменением-class_weight-ищет-лучшую-модель-по-максимальной-F1-мере\" data-toc-modified-id=\"Напишем-функцию,-который-перебором,-меняя-параметры-и-гиперпараметры-а-также-меняя-колличество-раз-увеличения-(уменьшения)--положительных-объектов--и-изменением-class_weight-ищет-лучшую-модель-по-максимальной-F1-мере-3.1.1\"><span class=\"toc-item-num\">3.1.1&nbsp;&nbsp;</span>Напишем функцию, который перебором, меняя параметры и гиперпараметры а также меняя колличество раз увеличения (уменьшения)  положительных объектов  и изменением class_weight ищет лучшую модель по максимальной F1-мере</a></span></li><li><span><a href=\"#Найдем-лучшие-модели-с-учетом-дисбаланса.\" data-toc-modified-id=\"Найдем-лучшие-модели-с-учетом-дисбаланса.-3.1.2\"><span class=\"toc-item-num\">3.1.2&nbsp;&nbsp;</span>Найдем лучшие модели с учетом дисбаланса.</a></span></li><li><span><a href=\"#Нашли-лучшие-модели-с-учетом-дисбаланса.--Построим-ROC-кривую-и-найдем-метрику-качества-AUC-ROC-для-каждой-модели-и-для-каждого-датафрейма\" data-toc-modified-id=\"Нашли-лучшие-модели-с-учетом-дисбаланса.--Построим-ROC-кривую-и-найдем-метрику-качества-AUC-ROC-для-каждой-модели-и-для-каждого-датафрейма-3.1.3\"><span class=\"toc-item-num\">3.1.3&nbsp;&nbsp;</span>Нашли лучшие модели с учетом дисбаланса.  Построим ROC-кривую и найдем метрику качества AUC-ROC для каждой модели и для каждого датафрейма</a></span></li></ul></li><li><span><a href=\"#Вывод:\" data-toc-modified-id=\"Вывод:-3.2\"><span class=\"toc-item-num\">3.2&nbsp;&nbsp;</span>Вывод:</a></span></li></ul></li><li><span><a href=\"#Тестирование-модели\" data-toc-modified-id=\"Тестирование-модели-4\"><span class=\"toc-item-num\">4&nbsp;&nbsp;</span>Тестирование модели</a></span><ul class=\"toc-item\"><li><span><a href=\"#Общий-вывод\" data-toc-modified-id=\"Общий-вывод-4.1\"><span class=\"toc-item-num\">4.1&nbsp;&nbsp;</span><strong>Общий вывод</strong></a></span></li></ul></li></ul></div>"
   ]
  },
  {
   "cell_type": "markdown",
   "metadata": {},
   "source": [
    "# Описание данных"
   ]
  },
  {
   "cell_type": "markdown",
   "metadata": {},
   "source": [
    "**Признаки**\n",
    "* RowNumber — индекс строки в данных\n",
    "* CustomerId — уникальный идентификатор клиента\n",
    "* Surname — фамилия\n",
    "* CreditScore — кредитный рейтинг\n",
    "* Geography — страна проживания\n",
    "* Gender — пол\n",
    "* Age — возраст\n",
    "* Tenure — сколько лет человек является клиентом банка\n",
    "* Balance — баланс на счёте\n",
    "* NumOfProducts — количество продуктов банка, используемых клиентом\n",
    "* HasCrCard — наличие кредитной карты\n",
    "* IsActiveMember — активность клиента\n",
    "* EstimatedSalary — предполагаемая зарплата\n",
    "\n",
    "**Целевой признак**\n",
    "* Exited — факт ухода клиента"
   ]
  },
  {
   "cell_type": "markdown",
   "metadata": {},
   "source": [
    "## Загрузка и подготовка данных"
   ]
  },
  {
   "cell_type": "markdown",
   "metadata": {},
   "source": [
    "### Подключим необходимые библиотеки"
   ]
  },
  {
   "cell_type": "code",
   "execution_count": 6,
   "metadata": {},
   "outputs": [],
   "source": [
    "import pandas as pd\n",
    "import numpy as np\n",
    "\n",
    "import matplotlib.pyplot as plt\n",
    "import seaborn as sns\n",
    "\n",
    "pd.set_option('display.max_columns', None)\n",
    "\n",
    "import warnings\n",
    "warnings.filterwarnings(\"ignore\", category=FutureWarning)\n",
    "warnings.filterwarnings(\"ignore\")\n",
    "\n",
    "from random import randint\n",
    "import random\n",
    "from sklearn.model_selection import train_test_split\n",
    "\n",
    "from sklearn.tree import DecisionTreeClassifier\n",
    "from sklearn.ensemble import RandomForestClassifier\n",
    "from sklearn.linear_model import LogisticRegression\n",
    "\n",
    "from sklearn.preprocessing import StandardScaler\n",
    "from sklearn.exceptions import DataConversionWarning\n",
    "\n",
    "from sklearn.utils import shuffle\n",
    "from sklearn.preprocessing import OrdinalEncoder\n",
    "oe = OrdinalEncoder()\n",
    "\n",
    "from sklearn.metrics import accuracy_score\n",
    "from sklearn.metrics import precision_score\n",
    "from sklearn.metrics import f1_score\n",
    "from sklearn.metrics import recall_score\n",
    "from sklearn.metrics import mean_squared_error\n",
    "from sklearn.metrics import roc_curve \n",
    "from sklearn.metrics import roc_auc_score\n"
   ]
  },
  {
   "cell_type": "markdown",
   "metadata": {},
   "source": [
    "### Откроем таблицу, посмотрем внешний вид и изучим общую информацию о данных."
   ]
  },
  {
   "cell_type": "code",
   "execution_count": 7,
   "metadata": {},
   "outputs": [
    {
     "data": {
      "text/html": [
       "<div>\n",
       "<style scoped>\n",
       "    .dataframe tbody tr th:only-of-type {\n",
       "        vertical-align: middle;\n",
       "    }\n",
       "\n",
       "    .dataframe tbody tr th {\n",
       "        vertical-align: top;\n",
       "    }\n",
       "\n",
       "    .dataframe thead th {\n",
       "        text-align: right;\n",
       "    }\n",
       "</style>\n",
       "<table border=\"1\" class=\"dataframe\">\n",
       "  <thead>\n",
       "    <tr style=\"text-align: right;\">\n",
       "      <th></th>\n",
       "      <th>RowNumber</th>\n",
       "      <th>CustomerId</th>\n",
       "      <th>Surname</th>\n",
       "      <th>CreditScore</th>\n",
       "      <th>Geography</th>\n",
       "      <th>Gender</th>\n",
       "      <th>Age</th>\n",
       "      <th>Tenure</th>\n",
       "      <th>Balance</th>\n",
       "      <th>NumOfProducts</th>\n",
       "      <th>HasCrCard</th>\n",
       "      <th>IsActiveMember</th>\n",
       "      <th>EstimatedSalary</th>\n",
       "      <th>Exited</th>\n",
       "    </tr>\n",
       "  </thead>\n",
       "  <tbody>\n",
       "    <tr>\n",
       "      <th>0</th>\n",
       "      <td>1</td>\n",
       "      <td>15634602</td>\n",
       "      <td>Hargrave</td>\n",
       "      <td>619</td>\n",
       "      <td>France</td>\n",
       "      <td>Female</td>\n",
       "      <td>42</td>\n",
       "      <td>2.0</td>\n",
       "      <td>0.00</td>\n",
       "      <td>1</td>\n",
       "      <td>1</td>\n",
       "      <td>1</td>\n",
       "      <td>101348.88</td>\n",
       "      <td>1</td>\n",
       "    </tr>\n",
       "    <tr>\n",
       "      <th>1</th>\n",
       "      <td>2</td>\n",
       "      <td>15647311</td>\n",
       "      <td>Hill</td>\n",
       "      <td>608</td>\n",
       "      <td>Spain</td>\n",
       "      <td>Female</td>\n",
       "      <td>41</td>\n",
       "      <td>1.0</td>\n",
       "      <td>83807.86</td>\n",
       "      <td>1</td>\n",
       "      <td>0</td>\n",
       "      <td>1</td>\n",
       "      <td>112542.58</td>\n",
       "      <td>0</td>\n",
       "    </tr>\n",
       "    <tr>\n",
       "      <th>2</th>\n",
       "      <td>3</td>\n",
       "      <td>15619304</td>\n",
       "      <td>Onio</td>\n",
       "      <td>502</td>\n",
       "      <td>France</td>\n",
       "      <td>Female</td>\n",
       "      <td>42</td>\n",
       "      <td>8.0</td>\n",
       "      <td>159660.80</td>\n",
       "      <td>3</td>\n",
       "      <td>1</td>\n",
       "      <td>0</td>\n",
       "      <td>113931.57</td>\n",
       "      <td>1</td>\n",
       "    </tr>\n",
       "    <tr>\n",
       "      <th>3</th>\n",
       "      <td>4</td>\n",
       "      <td>15701354</td>\n",
       "      <td>Boni</td>\n",
       "      <td>699</td>\n",
       "      <td>France</td>\n",
       "      <td>Female</td>\n",
       "      <td>39</td>\n",
       "      <td>1.0</td>\n",
       "      <td>0.00</td>\n",
       "      <td>2</td>\n",
       "      <td>0</td>\n",
       "      <td>0</td>\n",
       "      <td>93826.63</td>\n",
       "      <td>0</td>\n",
       "    </tr>\n",
       "    <tr>\n",
       "      <th>4</th>\n",
       "      <td>5</td>\n",
       "      <td>15737888</td>\n",
       "      <td>Mitchell</td>\n",
       "      <td>850</td>\n",
       "      <td>Spain</td>\n",
       "      <td>Female</td>\n",
       "      <td>43</td>\n",
       "      <td>2.0</td>\n",
       "      <td>125510.82</td>\n",
       "      <td>1</td>\n",
       "      <td>1</td>\n",
       "      <td>1</td>\n",
       "      <td>79084.10</td>\n",
       "      <td>0</td>\n",
       "    </tr>\n",
       "    <tr>\n",
       "      <th>5</th>\n",
       "      <td>6</td>\n",
       "      <td>15574012</td>\n",
       "      <td>Chu</td>\n",
       "      <td>645</td>\n",
       "      <td>Spain</td>\n",
       "      <td>Male</td>\n",
       "      <td>44</td>\n",
       "      <td>8.0</td>\n",
       "      <td>113755.78</td>\n",
       "      <td>2</td>\n",
       "      <td>1</td>\n",
       "      <td>0</td>\n",
       "      <td>149756.71</td>\n",
       "      <td>1</td>\n",
       "    </tr>\n",
       "    <tr>\n",
       "      <th>6</th>\n",
       "      <td>7</td>\n",
       "      <td>15592531</td>\n",
       "      <td>Bartlett</td>\n",
       "      <td>822</td>\n",
       "      <td>France</td>\n",
       "      <td>Male</td>\n",
       "      <td>50</td>\n",
       "      <td>7.0</td>\n",
       "      <td>0.00</td>\n",
       "      <td>2</td>\n",
       "      <td>1</td>\n",
       "      <td>1</td>\n",
       "      <td>10062.80</td>\n",
       "      <td>0</td>\n",
       "    </tr>\n",
       "    <tr>\n",
       "      <th>7</th>\n",
       "      <td>8</td>\n",
       "      <td>15656148</td>\n",
       "      <td>Obinna</td>\n",
       "      <td>376</td>\n",
       "      <td>Germany</td>\n",
       "      <td>Female</td>\n",
       "      <td>29</td>\n",
       "      <td>4.0</td>\n",
       "      <td>115046.74</td>\n",
       "      <td>4</td>\n",
       "      <td>1</td>\n",
       "      <td>0</td>\n",
       "      <td>119346.88</td>\n",
       "      <td>1</td>\n",
       "    </tr>\n",
       "    <tr>\n",
       "      <th>8</th>\n",
       "      <td>9</td>\n",
       "      <td>15792365</td>\n",
       "      <td>He</td>\n",
       "      <td>501</td>\n",
       "      <td>France</td>\n",
       "      <td>Male</td>\n",
       "      <td>44</td>\n",
       "      <td>4.0</td>\n",
       "      <td>142051.07</td>\n",
       "      <td>2</td>\n",
       "      <td>0</td>\n",
       "      <td>1</td>\n",
       "      <td>74940.50</td>\n",
       "      <td>0</td>\n",
       "    </tr>\n",
       "    <tr>\n",
       "      <th>9</th>\n",
       "      <td>10</td>\n",
       "      <td>15592389</td>\n",
       "      <td>H?</td>\n",
       "      <td>684</td>\n",
       "      <td>France</td>\n",
       "      <td>Male</td>\n",
       "      <td>27</td>\n",
       "      <td>2.0</td>\n",
       "      <td>134603.88</td>\n",
       "      <td>1</td>\n",
       "      <td>1</td>\n",
       "      <td>1</td>\n",
       "      <td>71725.73</td>\n",
       "      <td>0</td>\n",
       "    </tr>\n",
       "  </tbody>\n",
       "</table>\n",
       "</div>"
      ],
      "text/plain": [
       "   RowNumber  CustomerId   Surname  CreditScore Geography  Gender  Age  \\\n",
       "0          1    15634602  Hargrave          619    France  Female   42   \n",
       "1          2    15647311      Hill          608     Spain  Female   41   \n",
       "2          3    15619304      Onio          502    France  Female   42   \n",
       "3          4    15701354      Boni          699    France  Female   39   \n",
       "4          5    15737888  Mitchell          850     Spain  Female   43   \n",
       "5          6    15574012       Chu          645     Spain    Male   44   \n",
       "6          7    15592531  Bartlett          822    France    Male   50   \n",
       "7          8    15656148    Obinna          376   Germany  Female   29   \n",
       "8          9    15792365        He          501    France    Male   44   \n",
       "9         10    15592389        H?          684    France    Male   27   \n",
       "\n",
       "   Tenure    Balance  NumOfProducts  HasCrCard  IsActiveMember  \\\n",
       "0     2.0       0.00              1          1               1   \n",
       "1     1.0   83807.86              1          0               1   \n",
       "2     8.0  159660.80              3          1               0   \n",
       "3     1.0       0.00              2          0               0   \n",
       "4     2.0  125510.82              1          1               1   \n",
       "5     8.0  113755.78              2          1               0   \n",
       "6     7.0       0.00              2          1               1   \n",
       "7     4.0  115046.74              4          1               0   \n",
       "8     4.0  142051.07              2          0               1   \n",
       "9     2.0  134603.88              1          1               1   \n",
       "\n",
       "   EstimatedSalary  Exited  \n",
       "0        101348.88       1  \n",
       "1        112542.58       0  \n",
       "2        113931.57       1  \n",
       "3         93826.63       0  \n",
       "4         79084.10       0  \n",
       "5        149756.71       1  \n",
       "6         10062.80       0  \n",
       "7        119346.88       1  \n",
       "8         74940.50       0  \n",
       "9         71725.73       0  "
      ]
     },
     "metadata": {},
     "output_type": "display_data"
    },
    {
     "data": {
      "text/html": [
       "<div>\n",
       "<style scoped>\n",
       "    .dataframe tbody tr th:only-of-type {\n",
       "        vertical-align: middle;\n",
       "    }\n",
       "\n",
       "    .dataframe tbody tr th {\n",
       "        vertical-align: top;\n",
       "    }\n",
       "\n",
       "    .dataframe thead th {\n",
       "        text-align: right;\n",
       "    }\n",
       "</style>\n",
       "<table border=\"1\" class=\"dataframe\">\n",
       "  <thead>\n",
       "    <tr style=\"text-align: right;\">\n",
       "      <th></th>\n",
       "      <th>RowNumber</th>\n",
       "      <th>CustomerId</th>\n",
       "      <th>Surname</th>\n",
       "      <th>CreditScore</th>\n",
       "      <th>Geography</th>\n",
       "      <th>Gender</th>\n",
       "      <th>Age</th>\n",
       "      <th>Tenure</th>\n",
       "      <th>Balance</th>\n",
       "      <th>NumOfProducts</th>\n",
       "      <th>HasCrCard</th>\n",
       "      <th>IsActiveMember</th>\n",
       "      <th>EstimatedSalary</th>\n",
       "      <th>Exited</th>\n",
       "    </tr>\n",
       "  </thead>\n",
       "  <tbody>\n",
       "    <tr>\n",
       "      <th>9990</th>\n",
       "      <td>9991</td>\n",
       "      <td>15798964</td>\n",
       "      <td>Nkemakonam</td>\n",
       "      <td>714</td>\n",
       "      <td>Germany</td>\n",
       "      <td>Male</td>\n",
       "      <td>33</td>\n",
       "      <td>3.0</td>\n",
       "      <td>35016.60</td>\n",
       "      <td>1</td>\n",
       "      <td>1</td>\n",
       "      <td>0</td>\n",
       "      <td>53667.08</td>\n",
       "      <td>0</td>\n",
       "    </tr>\n",
       "    <tr>\n",
       "      <th>9991</th>\n",
       "      <td>9992</td>\n",
       "      <td>15769959</td>\n",
       "      <td>Ajuluchukwu</td>\n",
       "      <td>597</td>\n",
       "      <td>France</td>\n",
       "      <td>Female</td>\n",
       "      <td>53</td>\n",
       "      <td>4.0</td>\n",
       "      <td>88381.21</td>\n",
       "      <td>1</td>\n",
       "      <td>1</td>\n",
       "      <td>0</td>\n",
       "      <td>69384.71</td>\n",
       "      <td>1</td>\n",
       "    </tr>\n",
       "    <tr>\n",
       "      <th>9992</th>\n",
       "      <td>9993</td>\n",
       "      <td>15657105</td>\n",
       "      <td>Chukwualuka</td>\n",
       "      <td>726</td>\n",
       "      <td>Spain</td>\n",
       "      <td>Male</td>\n",
       "      <td>36</td>\n",
       "      <td>2.0</td>\n",
       "      <td>0.00</td>\n",
       "      <td>1</td>\n",
       "      <td>1</td>\n",
       "      <td>0</td>\n",
       "      <td>195192.40</td>\n",
       "      <td>0</td>\n",
       "    </tr>\n",
       "    <tr>\n",
       "      <th>9993</th>\n",
       "      <td>9994</td>\n",
       "      <td>15569266</td>\n",
       "      <td>Rahman</td>\n",
       "      <td>644</td>\n",
       "      <td>France</td>\n",
       "      <td>Male</td>\n",
       "      <td>28</td>\n",
       "      <td>7.0</td>\n",
       "      <td>155060.41</td>\n",
       "      <td>1</td>\n",
       "      <td>1</td>\n",
       "      <td>0</td>\n",
       "      <td>29179.52</td>\n",
       "      <td>0</td>\n",
       "    </tr>\n",
       "    <tr>\n",
       "      <th>9994</th>\n",
       "      <td>9995</td>\n",
       "      <td>15719294</td>\n",
       "      <td>Wood</td>\n",
       "      <td>800</td>\n",
       "      <td>France</td>\n",
       "      <td>Female</td>\n",
       "      <td>29</td>\n",
       "      <td>2.0</td>\n",
       "      <td>0.00</td>\n",
       "      <td>2</td>\n",
       "      <td>0</td>\n",
       "      <td>0</td>\n",
       "      <td>167773.55</td>\n",
       "      <td>0</td>\n",
       "    </tr>\n",
       "    <tr>\n",
       "      <th>9995</th>\n",
       "      <td>9996</td>\n",
       "      <td>15606229</td>\n",
       "      <td>Obijiaku</td>\n",
       "      <td>771</td>\n",
       "      <td>France</td>\n",
       "      <td>Male</td>\n",
       "      <td>39</td>\n",
       "      <td>5.0</td>\n",
       "      <td>0.00</td>\n",
       "      <td>2</td>\n",
       "      <td>1</td>\n",
       "      <td>0</td>\n",
       "      <td>96270.64</td>\n",
       "      <td>0</td>\n",
       "    </tr>\n",
       "    <tr>\n",
       "      <th>9996</th>\n",
       "      <td>9997</td>\n",
       "      <td>15569892</td>\n",
       "      <td>Johnstone</td>\n",
       "      <td>516</td>\n",
       "      <td>France</td>\n",
       "      <td>Male</td>\n",
       "      <td>35</td>\n",
       "      <td>10.0</td>\n",
       "      <td>57369.61</td>\n",
       "      <td>1</td>\n",
       "      <td>1</td>\n",
       "      <td>1</td>\n",
       "      <td>101699.77</td>\n",
       "      <td>0</td>\n",
       "    </tr>\n",
       "    <tr>\n",
       "      <th>9997</th>\n",
       "      <td>9998</td>\n",
       "      <td>15584532</td>\n",
       "      <td>Liu</td>\n",
       "      <td>709</td>\n",
       "      <td>France</td>\n",
       "      <td>Female</td>\n",
       "      <td>36</td>\n",
       "      <td>7.0</td>\n",
       "      <td>0.00</td>\n",
       "      <td>1</td>\n",
       "      <td>0</td>\n",
       "      <td>1</td>\n",
       "      <td>42085.58</td>\n",
       "      <td>1</td>\n",
       "    </tr>\n",
       "    <tr>\n",
       "      <th>9998</th>\n",
       "      <td>9999</td>\n",
       "      <td>15682355</td>\n",
       "      <td>Sabbatini</td>\n",
       "      <td>772</td>\n",
       "      <td>Germany</td>\n",
       "      <td>Male</td>\n",
       "      <td>42</td>\n",
       "      <td>3.0</td>\n",
       "      <td>75075.31</td>\n",
       "      <td>2</td>\n",
       "      <td>1</td>\n",
       "      <td>0</td>\n",
       "      <td>92888.52</td>\n",
       "      <td>1</td>\n",
       "    </tr>\n",
       "    <tr>\n",
       "      <th>9999</th>\n",
       "      <td>10000</td>\n",
       "      <td>15628319</td>\n",
       "      <td>Walker</td>\n",
       "      <td>792</td>\n",
       "      <td>France</td>\n",
       "      <td>Female</td>\n",
       "      <td>28</td>\n",
       "      <td>NaN</td>\n",
       "      <td>130142.79</td>\n",
       "      <td>1</td>\n",
       "      <td>1</td>\n",
       "      <td>0</td>\n",
       "      <td>38190.78</td>\n",
       "      <td>0</td>\n",
       "    </tr>\n",
       "  </tbody>\n",
       "</table>\n",
       "</div>"
      ],
      "text/plain": [
       "      RowNumber  CustomerId      Surname  CreditScore Geography  Gender  Age  \\\n",
       "9990       9991    15798964   Nkemakonam          714   Germany    Male   33   \n",
       "9991       9992    15769959  Ajuluchukwu          597    France  Female   53   \n",
       "9992       9993    15657105  Chukwualuka          726     Spain    Male   36   \n",
       "9993       9994    15569266       Rahman          644    France    Male   28   \n",
       "9994       9995    15719294         Wood          800    France  Female   29   \n",
       "9995       9996    15606229     Obijiaku          771    France    Male   39   \n",
       "9996       9997    15569892    Johnstone          516    France    Male   35   \n",
       "9997       9998    15584532          Liu          709    France  Female   36   \n",
       "9998       9999    15682355    Sabbatini          772   Germany    Male   42   \n",
       "9999      10000    15628319       Walker          792    France  Female   28   \n",
       "\n",
       "      Tenure    Balance  NumOfProducts  HasCrCard  IsActiveMember  \\\n",
       "9990     3.0   35016.60              1          1               0   \n",
       "9991     4.0   88381.21              1          1               0   \n",
       "9992     2.0       0.00              1          1               0   \n",
       "9993     7.0  155060.41              1          1               0   \n",
       "9994     2.0       0.00              2          0               0   \n",
       "9995     5.0       0.00              2          1               0   \n",
       "9996    10.0   57369.61              1          1               1   \n",
       "9997     7.0       0.00              1          0               1   \n",
       "9998     3.0   75075.31              2          1               0   \n",
       "9999     NaN  130142.79              1          1               0   \n",
       "\n",
       "      EstimatedSalary  Exited  \n",
       "9990         53667.08       0  \n",
       "9991         69384.71       1  \n",
       "9992        195192.40       0  \n",
       "9993         29179.52       0  \n",
       "9994        167773.55       0  \n",
       "9995         96270.64       0  \n",
       "9996        101699.77       0  \n",
       "9997         42085.58       1  \n",
       "9998         92888.52       1  \n",
       "9999         38190.78       0  "
      ]
     },
     "metadata": {},
     "output_type": "display_data"
    },
    {
     "name": "stdout",
     "output_type": "stream",
     "text": [
      "<class 'pandas.core.frame.DataFrame'>\n",
      "RangeIndex: 10000 entries, 0 to 9999\n",
      "Data columns (total 14 columns):\n",
      " #   Column           Non-Null Count  Dtype  \n",
      "---  ------           --------------  -----  \n",
      " 0   RowNumber        10000 non-null  int64  \n",
      " 1   CustomerId       10000 non-null  int64  \n",
      " 2   Surname          10000 non-null  object \n",
      " 3   CreditScore      10000 non-null  int64  \n",
      " 4   Geography        10000 non-null  object \n",
      " 5   Gender           10000 non-null  object \n",
      " 6   Age              10000 non-null  int64  \n",
      " 7   Tenure           9091 non-null   float64\n",
      " 8   Balance          10000 non-null  float64\n",
      " 9   NumOfProducts    10000 non-null  int64  \n",
      " 10  HasCrCard        10000 non-null  int64  \n",
      " 11  IsActiveMember   10000 non-null  int64  \n",
      " 12  EstimatedSalary  10000 non-null  float64\n",
      " 13  Exited           10000 non-null  int64  \n",
      "dtypes: float64(3), int64(8), object(3)\n",
      "memory usage: 1.1+ MB\n",
      "(10000, 14)\n"
     ]
    }
   ],
   "source": [
    "try:\n",
    "    df = pd.read_csv('C:\\\\Users\\\\Имя\\\\Desktop\\\\Churn.csv')\n",
    "except FileNotFoundError:\n",
    "    df = pd.read_csv('/datasets/Churn.csv')\n",
    "\n",
    "\n",
    "display(df.head(10))\n",
    "display(df.tail(10))\n",
    "df.info()\n",
    "print(df.shape)"
   ]
  },
  {
   "cell_type": "markdown",
   "metadata": {},
   "source": [
    "### Удалим столбцы не являющимися признаками для обучения для модели.\n",
    "\n",
    "* RowNumber( индекс строки в данных просто дублирует название строки + 1)\n",
    "* CustomerId (уникальный идентификатор клиента)\n",
    "* Surname (фамилия)\n",
    "\n",
    "Остальные будут являтся признаками для обучения для модели."
   ]
  },
  {
   "cell_type": "code",
   "execution_count": 8,
   "metadata": {
    "scrolled": true
   },
   "outputs": [
    {
     "data": {
      "text/html": [
       "<div>\n",
       "<style scoped>\n",
       "    .dataframe tbody tr th:only-of-type {\n",
       "        vertical-align: middle;\n",
       "    }\n",
       "\n",
       "    .dataframe tbody tr th {\n",
       "        vertical-align: top;\n",
       "    }\n",
       "\n",
       "    .dataframe thead th {\n",
       "        text-align: right;\n",
       "    }\n",
       "</style>\n",
       "<table border=\"1\" class=\"dataframe\">\n",
       "  <thead>\n",
       "    <tr style=\"text-align: right;\">\n",
       "      <th></th>\n",
       "      <th>CreditScore</th>\n",
       "      <th>Geography</th>\n",
       "      <th>Gender</th>\n",
       "      <th>Age</th>\n",
       "      <th>Tenure</th>\n",
       "      <th>Balance</th>\n",
       "      <th>NumOfProducts</th>\n",
       "      <th>HasCrCard</th>\n",
       "      <th>IsActiveMember</th>\n",
       "      <th>EstimatedSalary</th>\n",
       "      <th>Exited</th>\n",
       "    </tr>\n",
       "  </thead>\n",
       "  <tbody>\n",
       "    <tr>\n",
       "      <th>0</th>\n",
       "      <td>619</td>\n",
       "      <td>France</td>\n",
       "      <td>Female</td>\n",
       "      <td>42</td>\n",
       "      <td>2.0</td>\n",
       "      <td>0.00</td>\n",
       "      <td>1</td>\n",
       "      <td>1</td>\n",
       "      <td>1</td>\n",
       "      <td>101348.88</td>\n",
       "      <td>1</td>\n",
       "    </tr>\n",
       "    <tr>\n",
       "      <th>1</th>\n",
       "      <td>608</td>\n",
       "      <td>Spain</td>\n",
       "      <td>Female</td>\n",
       "      <td>41</td>\n",
       "      <td>1.0</td>\n",
       "      <td>83807.86</td>\n",
       "      <td>1</td>\n",
       "      <td>0</td>\n",
       "      <td>1</td>\n",
       "      <td>112542.58</td>\n",
       "      <td>0</td>\n",
       "    </tr>\n",
       "    <tr>\n",
       "      <th>2</th>\n",
       "      <td>502</td>\n",
       "      <td>France</td>\n",
       "      <td>Female</td>\n",
       "      <td>42</td>\n",
       "      <td>8.0</td>\n",
       "      <td>159660.80</td>\n",
       "      <td>3</td>\n",
       "      <td>1</td>\n",
       "      <td>0</td>\n",
       "      <td>113931.57</td>\n",
       "      <td>1</td>\n",
       "    </tr>\n",
       "    <tr>\n",
       "      <th>3</th>\n",
       "      <td>699</td>\n",
       "      <td>France</td>\n",
       "      <td>Female</td>\n",
       "      <td>39</td>\n",
       "      <td>1.0</td>\n",
       "      <td>0.00</td>\n",
       "      <td>2</td>\n",
       "      <td>0</td>\n",
       "      <td>0</td>\n",
       "      <td>93826.63</td>\n",
       "      <td>0</td>\n",
       "    </tr>\n",
       "    <tr>\n",
       "      <th>4</th>\n",
       "      <td>850</td>\n",
       "      <td>Spain</td>\n",
       "      <td>Female</td>\n",
       "      <td>43</td>\n",
       "      <td>2.0</td>\n",
       "      <td>125510.82</td>\n",
       "      <td>1</td>\n",
       "      <td>1</td>\n",
       "      <td>1</td>\n",
       "      <td>79084.10</td>\n",
       "      <td>0</td>\n",
       "    </tr>\n",
       "    <tr>\n",
       "      <th>5</th>\n",
       "      <td>645</td>\n",
       "      <td>Spain</td>\n",
       "      <td>Male</td>\n",
       "      <td>44</td>\n",
       "      <td>8.0</td>\n",
       "      <td>113755.78</td>\n",
       "      <td>2</td>\n",
       "      <td>1</td>\n",
       "      <td>0</td>\n",
       "      <td>149756.71</td>\n",
       "      <td>1</td>\n",
       "    </tr>\n",
       "    <tr>\n",
       "      <th>6</th>\n",
       "      <td>822</td>\n",
       "      <td>France</td>\n",
       "      <td>Male</td>\n",
       "      <td>50</td>\n",
       "      <td>7.0</td>\n",
       "      <td>0.00</td>\n",
       "      <td>2</td>\n",
       "      <td>1</td>\n",
       "      <td>1</td>\n",
       "      <td>10062.80</td>\n",
       "      <td>0</td>\n",
       "    </tr>\n",
       "    <tr>\n",
       "      <th>7</th>\n",
       "      <td>376</td>\n",
       "      <td>Germany</td>\n",
       "      <td>Female</td>\n",
       "      <td>29</td>\n",
       "      <td>4.0</td>\n",
       "      <td>115046.74</td>\n",
       "      <td>4</td>\n",
       "      <td>1</td>\n",
       "      <td>0</td>\n",
       "      <td>119346.88</td>\n",
       "      <td>1</td>\n",
       "    </tr>\n",
       "    <tr>\n",
       "      <th>8</th>\n",
       "      <td>501</td>\n",
       "      <td>France</td>\n",
       "      <td>Male</td>\n",
       "      <td>44</td>\n",
       "      <td>4.0</td>\n",
       "      <td>142051.07</td>\n",
       "      <td>2</td>\n",
       "      <td>0</td>\n",
       "      <td>1</td>\n",
       "      <td>74940.50</td>\n",
       "      <td>0</td>\n",
       "    </tr>\n",
       "    <tr>\n",
       "      <th>9</th>\n",
       "      <td>684</td>\n",
       "      <td>France</td>\n",
       "      <td>Male</td>\n",
       "      <td>27</td>\n",
       "      <td>2.0</td>\n",
       "      <td>134603.88</td>\n",
       "      <td>1</td>\n",
       "      <td>1</td>\n",
       "      <td>1</td>\n",
       "      <td>71725.73</td>\n",
       "      <td>0</td>\n",
       "    </tr>\n",
       "  </tbody>\n",
       "</table>\n",
       "</div>"
      ],
      "text/plain": [
       "   CreditScore Geography  Gender  Age  Tenure    Balance  NumOfProducts  \\\n",
       "0          619    France  Female   42     2.0       0.00              1   \n",
       "1          608     Spain  Female   41     1.0   83807.86              1   \n",
       "2          502    France  Female   42     8.0  159660.80              3   \n",
       "3          699    France  Female   39     1.0       0.00              2   \n",
       "4          850     Spain  Female   43     2.0  125510.82              1   \n",
       "5          645     Spain    Male   44     8.0  113755.78              2   \n",
       "6          822    France    Male   50     7.0       0.00              2   \n",
       "7          376   Germany  Female   29     4.0  115046.74              4   \n",
       "8          501    France    Male   44     4.0  142051.07              2   \n",
       "9          684    France    Male   27     2.0  134603.88              1   \n",
       "\n",
       "   HasCrCard  IsActiveMember  EstimatedSalary  Exited  \n",
       "0          1               1        101348.88       1  \n",
       "1          0               1        112542.58       0  \n",
       "2          1               0        113931.57       1  \n",
       "3          0               0         93826.63       0  \n",
       "4          1               1         79084.10       0  \n",
       "5          1               0        149756.71       1  \n",
       "6          1               1         10062.80       0  \n",
       "7          1               0        119346.88       1  \n",
       "8          0               1         74940.50       0  \n",
       "9          1               1         71725.73       0  "
      ]
     },
     "metadata": {},
     "output_type": "display_data"
    }
   ],
   "source": [
    "df = df.drop([\"RowNumber\",\"CustomerId\",\"Surname\"], axis = 1)\n",
    "display(df.head(10))"
   ]
  },
  {
   "cell_type": "markdown",
   "metadata": {},
   "source": [
    "Приведем к нижнему регистру названия столбцов"
   ]
  },
  {
   "cell_type": "code",
   "execution_count": 9,
   "metadata": {},
   "outputs": [
    {
     "name": "stdout",
     "output_type": "stream",
     "text": [
      "Index(['creditscore', 'geography', 'gender', 'age', 'tenure', 'balance',\n",
      "       'numofproducts', 'hascrcard', 'isactivemember', 'estimatedsalary',\n",
      "       'exited'],\n",
      "      dtype='object')\n",
      "\n",
      "<class 'pandas.core.frame.DataFrame'>\n",
      "RangeIndex: 10000 entries, 0 to 9999\n",
      "Data columns (total 11 columns):\n",
      " #   Column           Non-Null Count  Dtype  \n",
      "---  ------           --------------  -----  \n",
      " 0   creditscore      10000 non-null  int64  \n",
      " 1   geography        10000 non-null  object \n",
      " 2   gender           10000 non-null  object \n",
      " 3   age              10000 non-null  int64  \n",
      " 4   tenure           9091 non-null   float64\n",
      " 5   balance          10000 non-null  float64\n",
      " 6   numofproducts    10000 non-null  int64  \n",
      " 7   hascrcard        10000 non-null  int64  \n",
      " 8   isactivemember   10000 non-null  int64  \n",
      " 9   estimatedsalary  10000 non-null  float64\n",
      " 10  exited           10000 non-null  int64  \n",
      "dtypes: float64(3), int64(6), object(2)\n",
      "memory usage: 859.5+ KB\n"
     ]
    },
    {
     "data": {
      "text/html": [
       "<div>\n",
       "<style scoped>\n",
       "    .dataframe tbody tr th:only-of-type {\n",
       "        vertical-align: middle;\n",
       "    }\n",
       "\n",
       "    .dataframe tbody tr th {\n",
       "        vertical-align: top;\n",
       "    }\n",
       "\n",
       "    .dataframe thead th {\n",
       "        text-align: right;\n",
       "    }\n",
       "</style>\n",
       "<table border=\"1\" class=\"dataframe\">\n",
       "  <thead>\n",
       "    <tr style=\"text-align: right;\">\n",
       "      <th></th>\n",
       "      <th>creditscore</th>\n",
       "      <th>geography</th>\n",
       "      <th>gender</th>\n",
       "      <th>age</th>\n",
       "      <th>tenure</th>\n",
       "      <th>balance</th>\n",
       "      <th>numofproducts</th>\n",
       "      <th>hascrcard</th>\n",
       "      <th>isactivemember</th>\n",
       "      <th>estimatedsalary</th>\n",
       "      <th>exited</th>\n",
       "    </tr>\n",
       "  </thead>\n",
       "  <tbody>\n",
       "    <tr>\n",
       "      <th>0</th>\n",
       "      <td>619</td>\n",
       "      <td>France</td>\n",
       "      <td>Female</td>\n",
       "      <td>42</td>\n",
       "      <td>2.0</td>\n",
       "      <td>0.00</td>\n",
       "      <td>1</td>\n",
       "      <td>1</td>\n",
       "      <td>1</td>\n",
       "      <td>101348.88</td>\n",
       "      <td>1</td>\n",
       "    </tr>\n",
       "    <tr>\n",
       "      <th>1</th>\n",
       "      <td>608</td>\n",
       "      <td>Spain</td>\n",
       "      <td>Female</td>\n",
       "      <td>41</td>\n",
       "      <td>1.0</td>\n",
       "      <td>83807.86</td>\n",
       "      <td>1</td>\n",
       "      <td>0</td>\n",
       "      <td>1</td>\n",
       "      <td>112542.58</td>\n",
       "      <td>0</td>\n",
       "    </tr>\n",
       "    <tr>\n",
       "      <th>2</th>\n",
       "      <td>502</td>\n",
       "      <td>France</td>\n",
       "      <td>Female</td>\n",
       "      <td>42</td>\n",
       "      <td>8.0</td>\n",
       "      <td>159660.80</td>\n",
       "      <td>3</td>\n",
       "      <td>1</td>\n",
       "      <td>0</td>\n",
       "      <td>113931.57</td>\n",
       "      <td>1</td>\n",
       "    </tr>\n",
       "    <tr>\n",
       "      <th>3</th>\n",
       "      <td>699</td>\n",
       "      <td>France</td>\n",
       "      <td>Female</td>\n",
       "      <td>39</td>\n",
       "      <td>1.0</td>\n",
       "      <td>0.00</td>\n",
       "      <td>2</td>\n",
       "      <td>0</td>\n",
       "      <td>0</td>\n",
       "      <td>93826.63</td>\n",
       "      <td>0</td>\n",
       "    </tr>\n",
       "    <tr>\n",
       "      <th>4</th>\n",
       "      <td>850</td>\n",
       "      <td>Spain</td>\n",
       "      <td>Female</td>\n",
       "      <td>43</td>\n",
       "      <td>2.0</td>\n",
       "      <td>125510.82</td>\n",
       "      <td>1</td>\n",
       "      <td>1</td>\n",
       "      <td>1</td>\n",
       "      <td>79084.10</td>\n",
       "      <td>0</td>\n",
       "    </tr>\n",
       "    <tr>\n",
       "      <th>5</th>\n",
       "      <td>645</td>\n",
       "      <td>Spain</td>\n",
       "      <td>Male</td>\n",
       "      <td>44</td>\n",
       "      <td>8.0</td>\n",
       "      <td>113755.78</td>\n",
       "      <td>2</td>\n",
       "      <td>1</td>\n",
       "      <td>0</td>\n",
       "      <td>149756.71</td>\n",
       "      <td>1</td>\n",
       "    </tr>\n",
       "    <tr>\n",
       "      <th>6</th>\n",
       "      <td>822</td>\n",
       "      <td>France</td>\n",
       "      <td>Male</td>\n",
       "      <td>50</td>\n",
       "      <td>7.0</td>\n",
       "      <td>0.00</td>\n",
       "      <td>2</td>\n",
       "      <td>1</td>\n",
       "      <td>1</td>\n",
       "      <td>10062.80</td>\n",
       "      <td>0</td>\n",
       "    </tr>\n",
       "    <tr>\n",
       "      <th>7</th>\n",
       "      <td>376</td>\n",
       "      <td>Germany</td>\n",
       "      <td>Female</td>\n",
       "      <td>29</td>\n",
       "      <td>4.0</td>\n",
       "      <td>115046.74</td>\n",
       "      <td>4</td>\n",
       "      <td>1</td>\n",
       "      <td>0</td>\n",
       "      <td>119346.88</td>\n",
       "      <td>1</td>\n",
       "    </tr>\n",
       "    <tr>\n",
       "      <th>8</th>\n",
       "      <td>501</td>\n",
       "      <td>France</td>\n",
       "      <td>Male</td>\n",
       "      <td>44</td>\n",
       "      <td>4.0</td>\n",
       "      <td>142051.07</td>\n",
       "      <td>2</td>\n",
       "      <td>0</td>\n",
       "      <td>1</td>\n",
       "      <td>74940.50</td>\n",
       "      <td>0</td>\n",
       "    </tr>\n",
       "    <tr>\n",
       "      <th>9</th>\n",
       "      <td>684</td>\n",
       "      <td>France</td>\n",
       "      <td>Male</td>\n",
       "      <td>27</td>\n",
       "      <td>2.0</td>\n",
       "      <td>134603.88</td>\n",
       "      <td>1</td>\n",
       "      <td>1</td>\n",
       "      <td>1</td>\n",
       "      <td>71725.73</td>\n",
       "      <td>0</td>\n",
       "    </tr>\n",
       "  </tbody>\n",
       "</table>\n",
       "</div>"
      ],
      "text/plain": [
       "   creditscore geography  gender  age  tenure    balance  numofproducts  \\\n",
       "0          619    France  Female   42     2.0       0.00              1   \n",
       "1          608     Spain  Female   41     1.0   83807.86              1   \n",
       "2          502    France  Female   42     8.0  159660.80              3   \n",
       "3          699    France  Female   39     1.0       0.00              2   \n",
       "4          850     Spain  Female   43     2.0  125510.82              1   \n",
       "5          645     Spain    Male   44     8.0  113755.78              2   \n",
       "6          822    France    Male   50     7.0       0.00              2   \n",
       "7          376   Germany  Female   29     4.0  115046.74              4   \n",
       "8          501    France    Male   44     4.0  142051.07              2   \n",
       "9          684    France    Male   27     2.0  134603.88              1   \n",
       "\n",
       "   hascrcard  isactivemember  estimatedsalary  exited  \n",
       "0          1               1        101348.88       1  \n",
       "1          0               1        112542.58       0  \n",
       "2          1               0        113931.57       1  \n",
       "3          0               0         93826.63       0  \n",
       "4          1               1         79084.10       0  \n",
       "5          1               0        149756.71       1  \n",
       "6          1               1         10062.80       0  \n",
       "7          1               0        119346.88       1  \n",
       "8          0               1         74940.50       0  \n",
       "9          1               1         71725.73       0  "
      ]
     },
     "metadata": {},
     "output_type": "display_data"
    }
   ],
   "source": [
    "df.columns = df.columns.str.lower()\n",
    "print(df.columns)\n",
    "print()\n",
    "df.info()\n",
    "display(df.head(10))"
   ]
  },
  {
   "cell_type": "markdown",
   "metadata": {},
   "source": [
    "### Проверим датафрейм на дубликаты"
   ]
  },
  {
   "cell_type": "code",
   "execution_count": 10,
   "metadata": {},
   "outputs": [
    {
     "name": "stdout",
     "output_type": "stream",
     "text": [
      "0\n"
     ]
    }
   ],
   "source": [
    "print(df.duplicated().sum())"
   ]
  },
  {
   "cell_type": "markdown",
   "metadata": {},
   "source": [
    "Явных дубликатов нет."
   ]
  },
  {
   "cell_type": "markdown",
   "metadata": {},
   "source": [
    "### Посмотрим на состав столбцов"
   ]
  },
  {
   "cell_type": "code",
   "execution_count": 11,
   "metadata": {
    "scrolled": false
   },
   "outputs": [
    {
     "name": "stdout",
     "output_type": "stream",
     "text": [
      "Столбец creditscore\n",
      "[850 849 848 847 846 845 844 843 842 841 840 839 838 837 836 835 834 833\n",
      " 832 831 830 829 828 827 826 825 824 823 822 821 820 819 818 817 816 815\n",
      " 814 813 812 811 810 809 808 807 806 805 804 803 802 801 800 799 798 797\n",
      " 796 795 794 793 792 791 790 789 788 787 786 785 784 783 782 781 780 779\n",
      " 778 777 776 775 774 773 772 771 770 769 768 767 766 765 764 763 762 761\n",
      " 760 759 758 757 756 755 754 753 752 751 750 749 748 747 746 745 744 743\n",
      " 742 741 740 739 738 737 736 735 734 733 732 731 730 729 728 727 726 725\n",
      " 724 723 722 721 720 719 718 717 716 715 714 713 712 711 710 709 708 707\n",
      " 706 705 704 703 702 701 700 699 698 697 696 695 694 693 692 691 690 689\n",
      " 688 687 686 685 684 683 682 681 680 679 678 677 676 675 674 673 672 671\n",
      " 670 669 668 667 666 665 664 663 662 661 660 659 658 657 656 655 654 653\n",
      " 652 651 650 649 648 647 646 645 644 643 642 641 640 639 638 637 636 635\n",
      " 634 633 632 631 630 629 628 627 626 625 624 623 622 621 620 619 618 617\n",
      " 616 615 614 613 612 611 610 609 608 607 606 605 604 603 602 601 600 599\n",
      " 598 597 596 595 594 593 592 591 590 589 588 587 586 585 584 583 582 581\n",
      " 580 579 578 577 576 575 574 573 572 571 570 569 568 567 566 565 564 563\n",
      " 562 561 560 559 558 557 556 555 554 553 552 551 550 549 548 547 546 545\n",
      " 544 543 542 541 540 539 538 537 536 535 534 533 532 531 530 529 528 527\n",
      " 526 525 524 523 522 521 520 519 518 517 516 515 514 513 512 511 510 509\n",
      " 508 507 506 505 504 503 502 501 500 499 498 497 496 495 494 493 492 491\n",
      " 490 489 488 487 486 485 484 483 482 481 480 479 478 477 476 475 474 473\n",
      " 472 471 470 469 468 467 466 465 464 463 462 461 460 459 458 457 456 455\n",
      " 454 453 452 451 450 449 448 447 446 445 444 443 442 441 440 439 438 437\n",
      " 436 435 434 433 432 431 430 429 428 427 426 425 424 423 422 421 420 419\n",
      " 418 417 416 415 414 413 412 411 410 408 407 405 404 401 399 395 386 383\n",
      " 382 376 373 367 365 363 359 358 351 350]\n",
      "850    233\n",
      "678     63\n",
      "655     54\n",
      "705     53\n",
      "667     53\n",
      "      ... \n",
      "404      1\n",
      "351      1\n",
      "365      1\n",
      "417      1\n",
      "419      1\n",
      "Name: creditscore, Length: 460, dtype: int64\n",
      "\n",
      "\n",
      "Столбец geography\n",
      "['Spain' 'Germany' 'France']\n",
      "France     5014\n",
      "Germany    2509\n",
      "Spain      2477\n",
      "Name: geography, dtype: int64\n",
      "\n",
      "\n",
      "Столбец gender\n",
      "['Male' 'Female']\n",
      "Male      5457\n",
      "Female    4543\n",
      "Name: gender, dtype: int64\n",
      "\n",
      "\n",
      "Столбец age\n",
      "[92 88 85 84 83 82 81 80 79 78 77 76 75 74 73 72 71 70 69 68 67 66 65 64\n",
      " 63 62 61 60 59 58 57 56 55 54 53 52 51 50 49 48 47 46 45 44 43 42 41 40\n",
      " 39 38 37 36 35 34 33 32 31 30 29 28 27 26 25 24 23 22 21 20 19 18]\n",
      "37    478\n",
      "38    477\n",
      "35    474\n",
      "36    456\n",
      "34    447\n",
      "     ... \n",
      "92      2\n",
      "82      1\n",
      "88      1\n",
      "85      1\n",
      "83      1\n",
      "Name: age, Length: 70, dtype: int64\n",
      "\n",
      "\n",
      "Столбец tenure\n",
      "[10.  9.  8.  7.  6.  5.  4.  3.  2.  1.  0. nan]\n",
      "1.0     952\n",
      "2.0     950\n",
      "8.0     933\n",
      "3.0     928\n",
      "5.0     927\n",
      "7.0     925\n",
      "4.0     885\n",
      "9.0     882\n",
      "6.0     881\n",
      "10.0    446\n",
      "0.0     382\n",
      "Name: tenure, dtype: int64\n",
      "\n",
      "\n",
      "Столбец numofproducts\n",
      "[4 3 2 1]\n",
      "1    5084\n",
      "2    4590\n",
      "3     266\n",
      "4      60\n",
      "Name: numofproducts, dtype: int64\n",
      "\n",
      "\n",
      "Столбец hascrcard\n",
      "[1 0]\n",
      "1    7055\n",
      "0    2945\n",
      "Name: hascrcard, dtype: int64\n",
      "\n",
      "\n",
      "Столбец isactivemember\n",
      "[1 0]\n",
      "1    5151\n",
      "0    4849\n",
      "Name: isactivemember, dtype: int64\n",
      "\n",
      "\n",
      "Столбец exited\n",
      "[1 0]\n",
      "0    7963\n",
      "1    2037\n",
      "Name: exited, dtype: int64\n",
      "\n",
      "\n"
     ]
    }
   ],
   "source": [
    "for col in ['creditscore', 'geography', 'gender', 'age', 'tenure',\n",
    "       'numofproducts', 'hascrcard', 'isactivemember',\n",
    "       'exited']:\n",
    "    print('Столбец', col )\n",
    "    print(df[col].sort_values(ascending=False).unique())\n",
    "    print(df[col].value_counts())\n",
    "    print()\n",
    "    print()"
   ]
  },
  {
   "cell_type": "markdown",
   "metadata": {},
   "source": [
    "В столбце creditscore с рейтингом 850 аж 233 клиента, но видимо это просто \"потолок\" рейтинга.\n",
    "\n",
    "Данные выглядят нормально, за исключением пропусков в столбце tenure (сколько лет человек является клиентом банка). Посмотрим на столбец поближе."
   ]
  },
  {
   "cell_type": "code",
   "execution_count": 12,
   "metadata": {
    "scrolled": true
   },
   "outputs": [
    {
     "name": "stdout",
     "output_type": "stream",
     "text": [
      "Количество NaN: 909\n",
      "Это 10.0 % из всего датафрейма\n"
     ]
    }
   ],
   "source": [
    "print('Количество NaN:', df['tenure'].isnull().sum())\n",
    "print('Это', round((df['tenure'].isnull().sum() / df['tenure'].count()) * 100, 1), '% из всего датафрейма')"
   ]
  },
  {
   "cell_type": "markdown",
   "metadata": {},
   "source": [
    "Отдельно посмотрим на этих клиентов"
   ]
  },
  {
   "cell_type": "code",
   "execution_count": 13,
   "metadata": {
    "scrolled": false
   },
   "outputs": [
    {
     "data": {
      "text/html": [
       "<div>\n",
       "<style scoped>\n",
       "    .dataframe tbody tr th:only-of-type {\n",
       "        vertical-align: middle;\n",
       "    }\n",
       "\n",
       "    .dataframe tbody tr th {\n",
       "        vertical-align: top;\n",
       "    }\n",
       "\n",
       "    .dataframe thead th {\n",
       "        text-align: right;\n",
       "    }\n",
       "</style>\n",
       "<table border=\"1\" class=\"dataframe\">\n",
       "  <thead>\n",
       "    <tr style=\"text-align: right;\">\n",
       "      <th></th>\n",
       "      <th>creditscore</th>\n",
       "      <th>geography</th>\n",
       "      <th>gender</th>\n",
       "      <th>age</th>\n",
       "      <th>tenure</th>\n",
       "      <th>balance</th>\n",
       "      <th>numofproducts</th>\n",
       "      <th>hascrcard</th>\n",
       "      <th>isactivemember</th>\n",
       "      <th>estimatedsalary</th>\n",
       "      <th>exited</th>\n",
       "    </tr>\n",
       "  </thead>\n",
       "  <tbody>\n",
       "    <tr>\n",
       "      <th>30</th>\n",
       "      <td>591</td>\n",
       "      <td>Spain</td>\n",
       "      <td>Female</td>\n",
       "      <td>39</td>\n",
       "      <td>NaN</td>\n",
       "      <td>0.00</td>\n",
       "      <td>3</td>\n",
       "      <td>1</td>\n",
       "      <td>0</td>\n",
       "      <td>140469.38</td>\n",
       "      <td>1</td>\n",
       "    </tr>\n",
       "    <tr>\n",
       "      <th>48</th>\n",
       "      <td>550</td>\n",
       "      <td>Germany</td>\n",
       "      <td>Male</td>\n",
       "      <td>38</td>\n",
       "      <td>NaN</td>\n",
       "      <td>103391.38</td>\n",
       "      <td>1</td>\n",
       "      <td>0</td>\n",
       "      <td>1</td>\n",
       "      <td>90878.13</td>\n",
       "      <td>0</td>\n",
       "    </tr>\n",
       "    <tr>\n",
       "      <th>51</th>\n",
       "      <td>585</td>\n",
       "      <td>Germany</td>\n",
       "      <td>Male</td>\n",
       "      <td>36</td>\n",
       "      <td>NaN</td>\n",
       "      <td>146050.97</td>\n",
       "      <td>2</td>\n",
       "      <td>0</td>\n",
       "      <td>0</td>\n",
       "      <td>86424.57</td>\n",
       "      <td>0</td>\n",
       "    </tr>\n",
       "    <tr>\n",
       "      <th>53</th>\n",
       "      <td>655</td>\n",
       "      <td>Germany</td>\n",
       "      <td>Male</td>\n",
       "      <td>41</td>\n",
       "      <td>NaN</td>\n",
       "      <td>125561.97</td>\n",
       "      <td>1</td>\n",
       "      <td>0</td>\n",
       "      <td>0</td>\n",
       "      <td>164040.94</td>\n",
       "      <td>1</td>\n",
       "    </tr>\n",
       "    <tr>\n",
       "      <th>60</th>\n",
       "      <td>742</td>\n",
       "      <td>Germany</td>\n",
       "      <td>Male</td>\n",
       "      <td>35</td>\n",
       "      <td>NaN</td>\n",
       "      <td>136857.00</td>\n",
       "      <td>1</td>\n",
       "      <td>0</td>\n",
       "      <td>0</td>\n",
       "      <td>84509.57</td>\n",
       "      <td>0</td>\n",
       "    </tr>\n",
       "    <tr>\n",
       "      <th>...</th>\n",
       "      <td>...</td>\n",
       "      <td>...</td>\n",
       "      <td>...</td>\n",
       "      <td>...</td>\n",
       "      <td>...</td>\n",
       "      <td>...</td>\n",
       "      <td>...</td>\n",
       "      <td>...</td>\n",
       "      <td>...</td>\n",
       "      <td>...</td>\n",
       "      <td>...</td>\n",
       "    </tr>\n",
       "    <tr>\n",
       "      <th>9944</th>\n",
       "      <td>744</td>\n",
       "      <td>Germany</td>\n",
       "      <td>Male</td>\n",
       "      <td>41</td>\n",
       "      <td>NaN</td>\n",
       "      <td>190409.34</td>\n",
       "      <td>2</td>\n",
       "      <td>1</td>\n",
       "      <td>1</td>\n",
       "      <td>138361.48</td>\n",
       "      <td>0</td>\n",
       "    </tr>\n",
       "    <tr>\n",
       "      <th>9956</th>\n",
       "      <td>520</td>\n",
       "      <td>France</td>\n",
       "      <td>Female</td>\n",
       "      <td>46</td>\n",
       "      <td>NaN</td>\n",
       "      <td>85216.61</td>\n",
       "      <td>1</td>\n",
       "      <td>1</td>\n",
       "      <td>0</td>\n",
       "      <td>117369.52</td>\n",
       "      <td>1</td>\n",
       "    </tr>\n",
       "    <tr>\n",
       "      <th>9964</th>\n",
       "      <td>479</td>\n",
       "      <td>France</td>\n",
       "      <td>Male</td>\n",
       "      <td>34</td>\n",
       "      <td>NaN</td>\n",
       "      <td>117593.48</td>\n",
       "      <td>2</td>\n",
       "      <td>0</td>\n",
       "      <td>0</td>\n",
       "      <td>113308.29</td>\n",
       "      <td>0</td>\n",
       "    </tr>\n",
       "    <tr>\n",
       "      <th>9985</th>\n",
       "      <td>659</td>\n",
       "      <td>France</td>\n",
       "      <td>Male</td>\n",
       "      <td>36</td>\n",
       "      <td>NaN</td>\n",
       "      <td>123841.49</td>\n",
       "      <td>2</td>\n",
       "      <td>1</td>\n",
       "      <td>0</td>\n",
       "      <td>96833.00</td>\n",
       "      <td>0</td>\n",
       "    </tr>\n",
       "    <tr>\n",
       "      <th>9999</th>\n",
       "      <td>792</td>\n",
       "      <td>France</td>\n",
       "      <td>Female</td>\n",
       "      <td>28</td>\n",
       "      <td>NaN</td>\n",
       "      <td>130142.79</td>\n",
       "      <td>1</td>\n",
       "      <td>1</td>\n",
       "      <td>0</td>\n",
       "      <td>38190.78</td>\n",
       "      <td>0</td>\n",
       "    </tr>\n",
       "  </tbody>\n",
       "</table>\n",
       "<p>909 rows × 11 columns</p>\n",
       "</div>"
      ],
      "text/plain": [
       "      creditscore geography  gender  age  tenure    balance  numofproducts  \\\n",
       "30            591     Spain  Female   39     NaN       0.00              3   \n",
       "48            550   Germany    Male   38     NaN  103391.38              1   \n",
       "51            585   Germany    Male   36     NaN  146050.97              2   \n",
       "53            655   Germany    Male   41     NaN  125561.97              1   \n",
       "60            742   Germany    Male   35     NaN  136857.00              1   \n",
       "...           ...       ...     ...  ...     ...        ...            ...   \n",
       "9944          744   Germany    Male   41     NaN  190409.34              2   \n",
       "9956          520    France  Female   46     NaN   85216.61              1   \n",
       "9964          479    France    Male   34     NaN  117593.48              2   \n",
       "9985          659    France    Male   36     NaN  123841.49              2   \n",
       "9999          792    France  Female   28     NaN  130142.79              1   \n",
       "\n",
       "      hascrcard  isactivemember  estimatedsalary  exited  \n",
       "30            1               0        140469.38       1  \n",
       "48            0               1         90878.13       0  \n",
       "51            0               0         86424.57       0  \n",
       "53            0               0        164040.94       1  \n",
       "60            0               0         84509.57       0  \n",
       "...         ...             ...              ...     ...  \n",
       "9944          1               1        138361.48       0  \n",
       "9956          1               0        117369.52       1  \n",
       "9964          0               0        113308.29       0  \n",
       "9985          1               0         96833.00       0  \n",
       "9999          1               0         38190.78       0  \n",
       "\n",
       "[909 rows x 11 columns]"
      ]
     },
     "metadata": {},
     "output_type": "display_data"
    },
    {
     "name": "stdout",
     "output_type": "stream",
     "text": [
      "Столбец creditscore\n",
      "[850 846 844 841 840 838 836 835 834 833 832 829 828 827 826 825 824 823\n",
      " 821 820 815 812 811 810 809 808 807 806 805 804 801 800 798 797 796 795\n",
      " 794 793 792 791 790 786 785 783 781 780 779 778 777 775 774 770 769 768\n",
      " 767 765 764 763 762 761 760 759 757 756 755 754 753 752 749 748 746 745\n",
      " 744 743 742 741 740 739 738 736 735 734 733 732 731 730 729 728 727 726\n",
      " 725 724 723 722 721 720 719 718 717 716 715 714 713 712 711 710 709 708\n",
      " 707 706 705 704 703 702 701 699 698 697 696 695 694 693 692 691 690 689\n",
      " 688 687 685 684 683 682 681 680 679 678 677 676 675 674 673 672 671 670\n",
      " 669 668 667 665 664 663 662 661 660 659 658 657 656 655 654 653 652 651\n",
      " 650 649 648 647 646 645 644 643 642 641 640 639 638 637 636 635 634 633\n",
      " 632 631 630 629 628 627 626 625 624 622 621 620 619 618 616 615 614 613\n",
      " 612 611 610 609 608 607 606 605 604 603 602 601 600 599 598 597 596 595\n",
      " 594 593 592 591 590 589 588 587 586 585 584 583 582 581 580 579 578 577\n",
      " 576 575 574 573 572 571 570 569 567 565 564 563 562 561 560 559 558 557\n",
      " 556 555 554 553 551 550 549 548 547 546 545 544 543 542 541 540 539 538\n",
      " 537 535 534 533 532 531 530 529 528 527 526 525 524 523 522 521 520 519\n",
      " 518 516 515 513 512 511 510 508 507 506 505 504 503 502 501 500 499 497\n",
      " 496 495 494 493 491 489 486 485 484 483 482 480 479 478 477 474 473 472\n",
      " 470 468 466 463 461 460 458 457 455 453 452 451 449 444 439 438 435 432\n",
      " 428 423 420 413 410 376 359]\n",
      "850    23\n",
      "651     9\n",
      "630     9\n",
      "652     8\n",
      "706     8\n",
      "       ..\n",
      "551     1\n",
      "835     1\n",
      "846     1\n",
      "716     1\n",
      "520     1\n",
      "Name: creditscore, Length: 349, dtype: int64\n",
      "\n",
      "\n",
      "Столбец geography\n",
      "['Spain' 'Germany' 'France']\n",
      "France     464\n",
      "Spain      229\n",
      "Germany    216\n",
      "Name: geography, dtype: int64\n",
      "\n",
      "\n",
      "Столбец gender\n",
      "['Male' 'Female']\n",
      "Male      483\n",
      "Female    426\n",
      "Name: gender, dtype: int64\n",
      "\n",
      "\n",
      "Столбец age\n",
      "[92 78 75 74 72 71 70 68 67 66 65 64 63 62 61 60 59 58 57 56 55 54 53 52\n",
      " 51 50 49 48 47 46 45 44 43 42 41 40 39 38 37 36 35 34 33 32 31 30 29 28\n",
      " 27 26 25 24 23 22 21 20 19 18]\n",
      "36    55\n",
      "38    53\n",
      "40    49\n",
      "31    45\n",
      "32    44\n",
      "37    43\n",
      "35    43\n",
      "33    39\n",
      "39    36\n",
      "34    35\n",
      "29    35\n",
      "43    32\n",
      "30    31\n",
      "41    28\n",
      "28    26\n",
      "44    24\n",
      "42    24\n",
      "45    22\n",
      "26    18\n",
      "27    14\n",
      "55    14\n",
      "49    14\n",
      "50    14\n",
      "47    14\n",
      "46    13\n",
      "25    12\n",
      "48    12\n",
      "52    10\n",
      "54     9\n",
      "51     8\n",
      "56     8\n",
      "53     8\n",
      "24     7\n",
      "23     7\n",
      "59     6\n",
      "21     5\n",
      "60     5\n",
      "63     4\n",
      "58     4\n",
      "22     4\n",
      "61     4\n",
      "62     4\n",
      "20     3\n",
      "18     2\n",
      "65     2\n",
      "74     2\n",
      "57     2\n",
      "71     2\n",
      "75     2\n",
      "66     2\n",
      "64     2\n",
      "68     2\n",
      "19     1\n",
      "72     1\n",
      "67     1\n",
      "78     1\n",
      "70     1\n",
      "92     1\n",
      "Name: age, dtype: int64\n",
      "\n",
      "\n",
      "Столбец tenure\n",
      "[nan]\n",
      "Series([], Name: tenure, dtype: int64)\n",
      "\n",
      "\n",
      "Столбец numofproducts\n",
      "[4 3 2 1]\n",
      "1    467\n",
      "2    406\n",
      "3     32\n",
      "4      4\n",
      "Name: numofproducts, dtype: int64\n",
      "\n",
      "\n",
      "Столбец hascrcard\n",
      "[1 0]\n",
      "1    646\n",
      "0    263\n",
      "Name: hascrcard, dtype: int64\n",
      "\n",
      "\n",
      "Столбец isactivemember\n",
      "[1 0]\n",
      "1    464\n",
      "0    445\n",
      "Name: isactivemember, dtype: int64\n",
      "\n",
      "\n",
      "Столбец exited\n",
      "[1 0]\n",
      "0    726\n",
      "1    183\n",
      "Name: exited, dtype: int64\n",
      "\n",
      "\n"
     ]
    }
   ],
   "source": [
    "df_with_nan = df[df['tenure'].isna()]\n",
    "display(df_with_nan)                    \n",
    "for col in ['creditscore', 'geography', 'gender', 'age', 'tenure',\n",
    "       'numofproducts', 'hascrcard', 'isactivemember',\n",
    "       'exited']:\n",
    "    print('Столбец', col )\n",
    "    print(df_with_nan[col].sort_values(ascending=False).unique())\n",
    "    print(df_with_nan[col].value_counts())\n",
    "    print()\n",
    "    print()\n",
    "   "
   ]
  },
  {
   "cell_type": "markdown",
   "metadata": {},
   "source": [
    "Интерес вызывает различие значений возраста датафрейма только из NaN и только без NaN, сравним их."
   ]
  },
  {
   "cell_type": "code",
   "execution_count": 14,
   "metadata": {
    "scrolled": true
   },
   "outputs": [
    {
     "data": {
      "text/plain": [
       "<matplotlib.legend.Legend at 0x28c64552580>"
      ]
     },
     "execution_count": 14,
     "metadata": {},
     "output_type": "execute_result"
    },
    {
     "data": {
      "image/png": "[encoded data removed]",
      "text/plain": [
       "<Figure size 1080x2520 with 1 Axes>"
      ]
     },
     "metadata": {
      "needs_background": "light"
     },
     "output_type": "display_data"
    }
   ],
   "source": [
    "df_without_nan = df[df['tenure'].notna()]\n",
    "ax = plt.gca()\n",
    "df_without_nan_grup = df_without_nan.groupby('age') \\\n",
    "                        .agg({'creditscore': 'count'}) \\\n",
    "                        .sort_values(by='age', ascending=True) \n",
    "\n",
    "\n",
    "df_with_nan_grup = df_with_nan.groupby('age') \\\n",
    "                        .agg({'creditscore': 'count'}) \\\n",
    "                        .sort_values(by='age', ascending=True) \n",
    "                        \n",
    "df_with_nan_grup ['creditscore'] = df_with_nan_grup ['creditscore'] * 9\n",
    "        \n",
    "\n",
    "df_with_nan_grup ['creditscore'].plot(kind='barh', figsize=(15,35), ec='black', ax=ax, width=0.2, color='r', position=1)\n",
    "df_without_nan_grup ['creditscore'].plot(kind='barh', figsize=(15,35), ec='black', ax=ax, width=0.2, color='g', position=0)\n",
    "                \n",
    "plt.title('Распределение клиентов по возрастам датафреймов только из NaN и только без NaN', fontsize=14, fontweight=\"bold\")\n",
    "plt.xlabel(\"Величина без привязки к количеству\", fontsize=15, fontweight=\"bold\")\n",
    "plt.ylabel(\"Возраст\", fontsize=15, fontweight=\"bold\")                \n",
    "ax.legend(['df_with_nan_grup', 'df_without_nan_grup'], fontsize=15)\n"
   ]
  },
  {
   "cell_type": "markdown",
   "metadata": {},
   "source": [
    "Связи пропусков с возрастом не нашлось.\n",
    "\n",
    "### **Вывод:** Нельзя сказать, что пропуски могут быть связаны и с другими столбцами, поэтому необходимо рассмотреть все варианты действий с пропусками и сравнить их."
   ]
  },
  {
   "cell_type": "markdown",
   "metadata": {},
   "source": [
    "### Рассмотрим следующие варианты:\n",
    "* Удалим строки с пропусками (уже есть df_without_nan)\n",
    "* Заменим пропуски на:\n",
    " * ноль (клиент может только стал клиентм банка, может поменял банк)\n",
    " * среднее\n",
    " * медиану\n",
    "\n",
    " \n",
    "Для этого создадим еще три датафрейма."
   ]
  },
  {
   "cell_type": "code",
   "execution_count": 15,
   "metadata": {
    "scrolled": true
   },
   "outputs": [
    {
     "name": "stdout",
     "output_type": "stream",
     "text": [
      "4.997690023099769\n",
      "5.0\n"
     ]
    }
   ],
   "source": [
    "print(df['tenure'].mean())\n",
    "print(df['tenure'].median())"
   ]
  },
  {
   "cell_type": "markdown",
   "metadata": {},
   "source": [
    "Среднее и медиана одинаковые, тогда остановимся на медиане и нуле."
   ]
  },
  {
   "cell_type": "code",
   "execution_count": 16,
   "metadata": {
    "scrolled": false
   },
   "outputs": [
    {
     "data": {
      "text/html": [
       "<div>\n",
       "<style scoped>\n",
       "    .dataframe tbody tr th:only-of-type {\n",
       "        vertical-align: middle;\n",
       "    }\n",
       "\n",
       "    .dataframe tbody tr th {\n",
       "        vertical-align: top;\n",
       "    }\n",
       "\n",
       "    .dataframe thead th {\n",
       "        text-align: right;\n",
       "    }\n",
       "</style>\n",
       "<table border=\"1\" class=\"dataframe\">\n",
       "  <thead>\n",
       "    <tr style=\"text-align: right;\">\n",
       "      <th></th>\n",
       "      <th>creditscore</th>\n",
       "      <th>geography</th>\n",
       "      <th>gender</th>\n",
       "      <th>age</th>\n",
       "      <th>tenure</th>\n",
       "      <th>balance</th>\n",
       "      <th>numofproducts</th>\n",
       "      <th>hascrcard</th>\n",
       "      <th>isactivemember</th>\n",
       "      <th>estimatedsalary</th>\n",
       "      <th>exited</th>\n",
       "    </tr>\n",
       "  </thead>\n",
       "  <tbody>\n",
       "    <tr>\n",
       "      <th>0</th>\n",
       "      <td>619</td>\n",
       "      <td>France</td>\n",
       "      <td>Female</td>\n",
       "      <td>42</td>\n",
       "      <td>2.0</td>\n",
       "      <td>0.00</td>\n",
       "      <td>1</td>\n",
       "      <td>1</td>\n",
       "      <td>1</td>\n",
       "      <td>101348.88</td>\n",
       "      <td>1</td>\n",
       "    </tr>\n",
       "    <tr>\n",
       "      <th>1</th>\n",
       "      <td>608</td>\n",
       "      <td>Spain</td>\n",
       "      <td>Female</td>\n",
       "      <td>41</td>\n",
       "      <td>1.0</td>\n",
       "      <td>83807.86</td>\n",
       "      <td>1</td>\n",
       "      <td>0</td>\n",
       "      <td>1</td>\n",
       "      <td>112542.58</td>\n",
       "      <td>0</td>\n",
       "    </tr>\n",
       "    <tr>\n",
       "      <th>2</th>\n",
       "      <td>502</td>\n",
       "      <td>France</td>\n",
       "      <td>Female</td>\n",
       "      <td>42</td>\n",
       "      <td>8.0</td>\n",
       "      <td>159660.80</td>\n",
       "      <td>3</td>\n",
       "      <td>1</td>\n",
       "      <td>0</td>\n",
       "      <td>113931.57</td>\n",
       "      <td>1</td>\n",
       "    </tr>\n",
       "    <tr>\n",
       "      <th>3</th>\n",
       "      <td>699</td>\n",
       "      <td>France</td>\n",
       "      <td>Female</td>\n",
       "      <td>39</td>\n",
       "      <td>1.0</td>\n",
       "      <td>0.00</td>\n",
       "      <td>2</td>\n",
       "      <td>0</td>\n",
       "      <td>0</td>\n",
       "      <td>93826.63</td>\n",
       "      <td>0</td>\n",
       "    </tr>\n",
       "    <tr>\n",
       "      <th>4</th>\n",
       "      <td>850</td>\n",
       "      <td>Spain</td>\n",
       "      <td>Female</td>\n",
       "      <td>43</td>\n",
       "      <td>2.0</td>\n",
       "      <td>125510.82</td>\n",
       "      <td>1</td>\n",
       "      <td>1</td>\n",
       "      <td>1</td>\n",
       "      <td>79084.10</td>\n",
       "      <td>0</td>\n",
       "    </tr>\n",
       "    <tr>\n",
       "      <th>5</th>\n",
       "      <td>645</td>\n",
       "      <td>Spain</td>\n",
       "      <td>Male</td>\n",
       "      <td>44</td>\n",
       "      <td>8.0</td>\n",
       "      <td>113755.78</td>\n",
       "      <td>2</td>\n",
       "      <td>1</td>\n",
       "      <td>0</td>\n",
       "      <td>149756.71</td>\n",
       "      <td>1</td>\n",
       "    </tr>\n",
       "    <tr>\n",
       "      <th>6</th>\n",
       "      <td>822</td>\n",
       "      <td>France</td>\n",
       "      <td>Male</td>\n",
       "      <td>50</td>\n",
       "      <td>7.0</td>\n",
       "      <td>0.00</td>\n",
       "      <td>2</td>\n",
       "      <td>1</td>\n",
       "      <td>1</td>\n",
       "      <td>10062.80</td>\n",
       "      <td>0</td>\n",
       "    </tr>\n",
       "    <tr>\n",
       "      <th>7</th>\n",
       "      <td>376</td>\n",
       "      <td>Germany</td>\n",
       "      <td>Female</td>\n",
       "      <td>29</td>\n",
       "      <td>4.0</td>\n",
       "      <td>115046.74</td>\n",
       "      <td>4</td>\n",
       "      <td>1</td>\n",
       "      <td>0</td>\n",
       "      <td>119346.88</td>\n",
       "      <td>1</td>\n",
       "    </tr>\n",
       "    <tr>\n",
       "      <th>8</th>\n",
       "      <td>501</td>\n",
       "      <td>France</td>\n",
       "      <td>Male</td>\n",
       "      <td>44</td>\n",
       "      <td>4.0</td>\n",
       "      <td>142051.07</td>\n",
       "      <td>2</td>\n",
       "      <td>0</td>\n",
       "      <td>1</td>\n",
       "      <td>74940.50</td>\n",
       "      <td>0</td>\n",
       "    </tr>\n",
       "    <tr>\n",
       "      <th>9</th>\n",
       "      <td>684</td>\n",
       "      <td>France</td>\n",
       "      <td>Male</td>\n",
       "      <td>27</td>\n",
       "      <td>2.0</td>\n",
       "      <td>134603.88</td>\n",
       "      <td>1</td>\n",
       "      <td>1</td>\n",
       "      <td>1</td>\n",
       "      <td>71725.73</td>\n",
       "      <td>0</td>\n",
       "    </tr>\n",
       "  </tbody>\n",
       "</table>\n",
       "</div>"
      ],
      "text/plain": [
       "   creditscore geography  gender  age  tenure    balance  numofproducts  \\\n",
       "0          619    France  Female   42     2.0       0.00              1   \n",
       "1          608     Spain  Female   41     1.0   83807.86              1   \n",
       "2          502    France  Female   42     8.0  159660.80              3   \n",
       "3          699    France  Female   39     1.0       0.00              2   \n",
       "4          850     Spain  Female   43     2.0  125510.82              1   \n",
       "5          645     Spain    Male   44     8.0  113755.78              2   \n",
       "6          822    France    Male   50     7.0       0.00              2   \n",
       "7          376   Germany  Female   29     4.0  115046.74              4   \n",
       "8          501    France    Male   44     4.0  142051.07              2   \n",
       "9          684    France    Male   27     2.0  134603.88              1   \n",
       "\n",
       "   hascrcard  isactivemember  estimatedsalary  exited  \n",
       "0          1               1        101348.88       1  \n",
       "1          0               1        112542.58       0  \n",
       "2          1               0        113931.57       1  \n",
       "3          0               0         93826.63       0  \n",
       "4          1               1         79084.10       0  \n",
       "5          1               0        149756.71       1  \n",
       "6          1               1         10062.80       0  \n",
       "7          1               0        119346.88       1  \n",
       "8          0               1         74940.50       0  \n",
       "9          1               1         71725.73       0  "
      ]
     },
     "metadata": {},
     "output_type": "display_data"
    },
    {
     "name": "stdout",
     "output_type": "stream",
     "text": [
      "[10.  9.  8.  7.  6.  5.  4.  3.  2.  1.  0.]\n",
      "<class 'pandas.core.frame.DataFrame'>\n",
      "RangeIndex: 10000 entries, 0 to 9999\n",
      "Data columns (total 11 columns):\n",
      " #   Column           Non-Null Count  Dtype  \n",
      "---  ------           --------------  -----  \n",
      " 0   creditscore      10000 non-null  int64  \n",
      " 1   geography        10000 non-null  object \n",
      " 2   gender           10000 non-null  object \n",
      " 3   age              10000 non-null  int64  \n",
      " 4   tenure           10000 non-null  float64\n",
      " 5   balance          10000 non-null  float64\n",
      " 6   numofproducts    10000 non-null  int64  \n",
      " 7   hascrcard        10000 non-null  int64  \n",
      " 8   isactivemember   10000 non-null  int64  \n",
      " 9   estimatedsalary  10000 non-null  float64\n",
      " 10  exited           10000 non-null  int64  \n",
      "dtypes: float64(3), int64(6), object(2)\n",
      "memory usage: 859.5+ KB\n",
      "\n",
      "\n"
     ]
    },
    {
     "data": {
      "text/html": [
       "<div>\n",
       "<style scoped>\n",
       "    .dataframe tbody tr th:only-of-type {\n",
       "        vertical-align: middle;\n",
       "    }\n",
       "\n",
       "    .dataframe tbody tr th {\n",
       "        vertical-align: top;\n",
       "    }\n",
       "\n",
       "    .dataframe thead th {\n",
       "        text-align: right;\n",
       "    }\n",
       "</style>\n",
       "<table border=\"1\" class=\"dataframe\">\n",
       "  <thead>\n",
       "    <tr style=\"text-align: right;\">\n",
       "      <th></th>\n",
       "      <th>creditscore</th>\n",
       "      <th>geography</th>\n",
       "      <th>gender</th>\n",
       "      <th>age</th>\n",
       "      <th>tenure</th>\n",
       "      <th>balance</th>\n",
       "      <th>numofproducts</th>\n",
       "      <th>hascrcard</th>\n",
       "      <th>isactivemember</th>\n",
       "      <th>estimatedsalary</th>\n",
       "      <th>exited</th>\n",
       "    </tr>\n",
       "  </thead>\n",
       "  <tbody>\n",
       "    <tr>\n",
       "      <th>0</th>\n",
       "      <td>619</td>\n",
       "      <td>France</td>\n",
       "      <td>Female</td>\n",
       "      <td>42</td>\n",
       "      <td>2.0</td>\n",
       "      <td>0.00</td>\n",
       "      <td>1</td>\n",
       "      <td>1</td>\n",
       "      <td>1</td>\n",
       "      <td>101348.88</td>\n",
       "      <td>1</td>\n",
       "    </tr>\n",
       "    <tr>\n",
       "      <th>1</th>\n",
       "      <td>608</td>\n",
       "      <td>Spain</td>\n",
       "      <td>Female</td>\n",
       "      <td>41</td>\n",
       "      <td>1.0</td>\n",
       "      <td>83807.86</td>\n",
       "      <td>1</td>\n",
       "      <td>0</td>\n",
       "      <td>1</td>\n",
       "      <td>112542.58</td>\n",
       "      <td>0</td>\n",
       "    </tr>\n",
       "    <tr>\n",
       "      <th>2</th>\n",
       "      <td>502</td>\n",
       "      <td>France</td>\n",
       "      <td>Female</td>\n",
       "      <td>42</td>\n",
       "      <td>8.0</td>\n",
       "      <td>159660.80</td>\n",
       "      <td>3</td>\n",
       "      <td>1</td>\n",
       "      <td>0</td>\n",
       "      <td>113931.57</td>\n",
       "      <td>1</td>\n",
       "    </tr>\n",
       "    <tr>\n",
       "      <th>3</th>\n",
       "      <td>699</td>\n",
       "      <td>France</td>\n",
       "      <td>Female</td>\n",
       "      <td>39</td>\n",
       "      <td>1.0</td>\n",
       "      <td>0.00</td>\n",
       "      <td>2</td>\n",
       "      <td>0</td>\n",
       "      <td>0</td>\n",
       "      <td>93826.63</td>\n",
       "      <td>0</td>\n",
       "    </tr>\n",
       "    <tr>\n",
       "      <th>4</th>\n",
       "      <td>850</td>\n",
       "      <td>Spain</td>\n",
       "      <td>Female</td>\n",
       "      <td>43</td>\n",
       "      <td>2.0</td>\n",
       "      <td>125510.82</td>\n",
       "      <td>1</td>\n",
       "      <td>1</td>\n",
       "      <td>1</td>\n",
       "      <td>79084.10</td>\n",
       "      <td>0</td>\n",
       "    </tr>\n",
       "    <tr>\n",
       "      <th>5</th>\n",
       "      <td>645</td>\n",
       "      <td>Spain</td>\n",
       "      <td>Male</td>\n",
       "      <td>44</td>\n",
       "      <td>8.0</td>\n",
       "      <td>113755.78</td>\n",
       "      <td>2</td>\n",
       "      <td>1</td>\n",
       "      <td>0</td>\n",
       "      <td>149756.71</td>\n",
       "      <td>1</td>\n",
       "    </tr>\n",
       "    <tr>\n",
       "      <th>6</th>\n",
       "      <td>822</td>\n",
       "      <td>France</td>\n",
       "      <td>Male</td>\n",
       "      <td>50</td>\n",
       "      <td>7.0</td>\n",
       "      <td>0.00</td>\n",
       "      <td>2</td>\n",
       "      <td>1</td>\n",
       "      <td>1</td>\n",
       "      <td>10062.80</td>\n",
       "      <td>0</td>\n",
       "    </tr>\n",
       "    <tr>\n",
       "      <th>7</th>\n",
       "      <td>376</td>\n",
       "      <td>Germany</td>\n",
       "      <td>Female</td>\n",
       "      <td>29</td>\n",
       "      <td>4.0</td>\n",
       "      <td>115046.74</td>\n",
       "      <td>4</td>\n",
       "      <td>1</td>\n",
       "      <td>0</td>\n",
       "      <td>119346.88</td>\n",
       "      <td>1</td>\n",
       "    </tr>\n",
       "    <tr>\n",
       "      <th>8</th>\n",
       "      <td>501</td>\n",
       "      <td>France</td>\n",
       "      <td>Male</td>\n",
       "      <td>44</td>\n",
       "      <td>4.0</td>\n",
       "      <td>142051.07</td>\n",
       "      <td>2</td>\n",
       "      <td>0</td>\n",
       "      <td>1</td>\n",
       "      <td>74940.50</td>\n",
       "      <td>0</td>\n",
       "    </tr>\n",
       "    <tr>\n",
       "      <th>9</th>\n",
       "      <td>684</td>\n",
       "      <td>France</td>\n",
       "      <td>Male</td>\n",
       "      <td>27</td>\n",
       "      <td>2.0</td>\n",
       "      <td>134603.88</td>\n",
       "      <td>1</td>\n",
       "      <td>1</td>\n",
       "      <td>1</td>\n",
       "      <td>71725.73</td>\n",
       "      <td>0</td>\n",
       "    </tr>\n",
       "  </tbody>\n",
       "</table>\n",
       "</div>"
      ],
      "text/plain": [
       "   creditscore geography  gender  age  tenure    balance  numofproducts  \\\n",
       "0          619    France  Female   42     2.0       0.00              1   \n",
       "1          608     Spain  Female   41     1.0   83807.86              1   \n",
       "2          502    France  Female   42     8.0  159660.80              3   \n",
       "3          699    France  Female   39     1.0       0.00              2   \n",
       "4          850     Spain  Female   43     2.0  125510.82              1   \n",
       "5          645     Spain    Male   44     8.0  113755.78              2   \n",
       "6          822    France    Male   50     7.0       0.00              2   \n",
       "7          376   Germany  Female   29     4.0  115046.74              4   \n",
       "8          501    France    Male   44     4.0  142051.07              2   \n",
       "9          684    France    Male   27     2.0  134603.88              1   \n",
       "\n",
       "   hascrcard  isactivemember  estimatedsalary  exited  \n",
       "0          1               1        101348.88       1  \n",
       "1          0               1        112542.58       0  \n",
       "2          1               0        113931.57       1  \n",
       "3          0               0         93826.63       0  \n",
       "4          1               1         79084.10       0  \n",
       "5          1               0        149756.71       1  \n",
       "6          1               1         10062.80       0  \n",
       "7          1               0        119346.88       1  \n",
       "8          0               1         74940.50       0  \n",
       "9          1               1         71725.73       0  "
      ]
     },
     "metadata": {},
     "output_type": "display_data"
    },
    {
     "name": "stdout",
     "output_type": "stream",
     "text": [
      "[10.  9.  8.  7.  6.  5.  4.  3.  2.  1.  0.]\n",
      "<class 'pandas.core.frame.DataFrame'>\n",
      "RangeIndex: 10000 entries, 0 to 9999\n",
      "Data columns (total 11 columns):\n",
      " #   Column           Non-Null Count  Dtype  \n",
      "---  ------           --------------  -----  \n",
      " 0   creditscore      10000 non-null  int64  \n",
      " 1   geography        10000 non-null  object \n",
      " 2   gender           10000 non-null  object \n",
      " 3   age              10000 non-null  int64  \n",
      " 4   tenure           10000 non-null  float64\n",
      " 5   balance          10000 non-null  float64\n",
      " 6   numofproducts    10000 non-null  int64  \n",
      " 7   hascrcard        10000 non-null  int64  \n",
      " 8   isactivemember   10000 non-null  int64  \n",
      " 9   estimatedsalary  10000 non-null  float64\n",
      " 10  exited           10000 non-null  int64  \n",
      "dtypes: float64(3), int64(6), object(2)\n",
      "memory usage: 859.5+ KB\n"
     ]
    }
   ],
   "source": [
    "df_with_zero = df.fillna(0)\n",
    "display(df_with_zero.head(10))\n",
    "print(df_with_zero['tenure'].sort_values(ascending=False).unique())\n",
    "df_with_zero.info()\n",
    "print()\n",
    "print()\n",
    "df_with_median = df.fillna(df['tenure'].median())\n",
    "display(df_with_median.head(10))\n",
    "print(df_with_median['tenure'].sort_values(ascending=False).unique())\n",
    "df_with_median.info()"
   ]
  },
  {
   "cell_type": "markdown",
   "metadata": {},
   "source": [
    "### **Вывод:** \n",
    "* Изучили данные\n",
    "* Удалили лишние столбцы, которые либо дублируют индексы, либо не являются признаками.\n",
    "* Проверили на дубликаты\n",
    "* Подготовили для исследования три датафрейма:\n",
    " * в первом удалили строки с NaN\n",
    " * во втором NaN заменили на ноль\n",
    " * в третьем NaN заменили на медианное значение\n",
    "\n",
    "Итого, у нас для рассмотрения три датафрейма df_without_nan, df_with_zero, df_with_median."
   ]
  },
  {
   "cell_type": "markdown",
   "metadata": {},
   "source": [
    "## Исследование задачи"
   ]
  },
  {
   "cell_type": "markdown",
   "metadata": {},
   "source": [
    "### Напишем функцию разделения данных c отображением дисбаланса меток 1 и 0\n",
    "\n",
    "Напишем функцию разделения данных на признаки и целевой признак, где целевой признак это 'exited' и одновременно деления данных на разобьём на три выборки: обучающую, валидационного и тестовую. \n",
    "\n",
    "Размеры тестового и валидационного наборов обычно равны. \n",
    "\n",
    "Исходные данные разбиваем в соотношении 3:1:1. Спроецируем методом stratify изначальный дисбаланс меток 1 и 0 в таргете на target_test и target_valid. \n",
    "\n",
    "Также преобразуем категориальные признаки в численные техникой порядкового кодирования (Ordinal Encoding), для того чтоб не возникало ошибок при работе методов обучения связанных с попытками преобразовать все элементы string в вещественное число."
   ]
  },
  {
   "cell_type": "code",
   "execution_count": 17,
   "metadata": {},
   "outputs": [],
   "source": [
    "def splitting(data):\n",
    "    data_ordinal = pd.DataFrame(oe.fit_transform(data), columns = data.columns)\n",
    "    target = data_ordinal['exited']\n",
    "    features = data_ordinal.drop('exited', axis=1)\n",
    "    \n",
    "    print('Размер target', target.shape[0])\n",
    "    print('Размер features', features.shape[0])\n",
    "    print('Соотношение меток 1 и 0 в таргете:', target[target == 0].count() / target[target == 1].count()) \n",
    "    \n",
    "    features_train, features_df, target_train, target_df = train_test_split(features, target\n",
    "                                                                              , test_size=0.40\n",
    "                                                                              , random_state=12345\n",
    "                                                                              , stratify=target)\n",
    "    features_test, features_valid, target_test, target_valid = train_test_split(features_df, target_df\n",
    "                                                                              , test_size=0.50\n",
    "                                                                              , random_state=12345\n",
    "                                                                              , stratify=target_df)\n",
    "    \n",
    "    print('Размер обучающей выборки', features_train.shape[0])\n",
    "    print('Размер валидационной выборки', features_valid.shape[0])\n",
    "    print('Размер тестовой выборки', features_test.shape[0])\n",
    "    print('Соотношение меток 1 и 0 в target_valid:'\n",
    "      , target_valid[target_valid == 0].count() / target_valid[target_valid == 1].count())\n",
    "    print('Соотношение меток 1 и 0 в target_test:'\n",
    "      , target_test[target_test == 0].count() / target_test[target_test == 1].count())\n",
    "    print('Количество 0 в таргете:', target_test[target_test == 0].count())\n",
    "    print('Количество 1 в таргете:', target_test[target_test == 1].count())\n",
    "    \n",
    "    \n",
    "    return (features_train, features_test, features_valid, target_train, target_test, target_valid)\n"
   ]
  },
  {
   "cell_type": "markdown",
   "metadata": {},
   "source": [
    "### Создаем три выборки из датафрейма df_without_nan (пропуски удалены)"
   ]
  },
  {
   "cell_type": "code",
   "execution_count": 18,
   "metadata": {},
   "outputs": [
    {
     "name": "stdout",
     "output_type": "stream",
     "text": [
      "Размер target 9091\n",
      "Размер features 9091\n",
      "Соотношение меток 1 и 0 в таргете: 3.9034519956850056\n",
      "Размер обучающей выборки 5454\n",
      "Размер валидационной выборки 1819\n",
      "Размер тестовой выборки 1818\n",
      "Соотношение меток 1 и 0 в target_valid: 3.9029649595687332\n",
      "Соотношение меток 1 и 0 в target_test: 3.9002695417789757\n",
      "Количество 0 в таргете: 1447\n",
      "Количество 1 в таргете: 371\n"
     ]
    }
   ],
   "source": [
    "(features_train_df_without_nan, features_test_df_without_nan, features_valid_df_without_nan\n",
    " , target_train_df_without_nan, target_test_df_without_nan, target_valid_df_without_nan) = splitting(df_without_nan)"
   ]
  },
  {
   "cell_type": "markdown",
   "metadata": {},
   "source": [
    "### Создаем три выборки из датафрейма df_with_zero (пропуски заменены на 0)"
   ]
  },
  {
   "cell_type": "code",
   "execution_count": 19,
   "metadata": {},
   "outputs": [
    {
     "name": "stdout",
     "output_type": "stream",
     "text": [
      "Размер target 10000\n",
      "Размер features 10000\n",
      "Соотношение меток 1 и 0 в таргете: 3.9091801669121256\n",
      "Размер обучающей выборки 6000\n",
      "Размер валидационной выборки 2000\n",
      "Размер тестовой выборки 2000\n",
      "Соотношение меток 1 и 0 в target_valid: 3.914004914004914\n",
      "Соотношение меток 1 и 0 в target_test: 3.9019607843137254\n",
      "Количество 0 в таргете: 1592\n",
      "Количество 1 в таргете: 408\n"
     ]
    }
   ],
   "source": [
    "(features_train_df_with_zero, features_test_df_with_zero, features_valid_df_with_zero\n",
    " , target_train_df_with_zero, target_test_df_with_zero, target_valid_df_with_zero) = splitting(df_with_zero)"
   ]
  },
  {
   "cell_type": "markdown",
   "metadata": {},
   "source": [
    "### Создаем три выборки из датафрейма df_with_median (пропуски заменены на медиану)"
   ]
  },
  {
   "cell_type": "code",
   "execution_count": 20,
   "metadata": {
    "scrolled": false
   },
   "outputs": [
    {
     "name": "stdout",
     "output_type": "stream",
     "text": [
      "Размер target 10000\n",
      "Размер features 10000\n",
      "Соотношение меток 1 и 0 в таргете: 3.9091801669121256\n",
      "Размер обучающей выборки 6000\n",
      "Размер валидационной выборки 2000\n",
      "Размер тестовой выборки 2000\n",
      "Соотношение меток 1 и 0 в target_valid: 3.914004914004914\n",
      "Соотношение меток 1 и 0 в target_test: 3.9019607843137254\n",
      "Количество 0 в таргете: 1592\n",
      "Количество 1 в таргете: 408\n"
     ]
    }
   ],
   "source": [
    "(features_train_df_with_median, features_test_df_with_median, features_valid_df_with_median\n",
    " , target_train_df_with_median, target_test_df_with_median, target_valid_df_with_median) = splitting(df_with_median)"
   ]
  },
  {
   "cell_type": "markdown",
   "metadata": {},
   "source": [
    "### Обучим разные модели без учета дисбаланса классов"
   ]
  },
  {
   "cell_type": "markdown",
   "metadata": {},
   "source": [
    "#### Напишем функцию построеня ROC-криваой и нахождения метрики качества AUC-ROC и представления F1 меры."
   ]
  },
  {
   "cell_type": "code",
   "execution_count": 21,
   "metadata": {},
   "outputs": [],
   "source": [
    "def auc_roc_fun(features_valid, target_valid, model_tree, model_forest, model_log):\n",
    "    auc_roc_tree = 0\n",
    "    accuracy_tree = 0\n",
    "    f1_score_tree = 0\n",
    "    auc_roc_forest = 0\n",
    "    accuracy_forest = 0\n",
    "    f1_score_forest = 0 \n",
    "    auc_roc_log = 0\n",
    "    accuracy_log = 0\n",
    "    f1_score_log = 0\n",
    "    i = 0\n",
    "    list = ['0', 'для дерева решений', 'для случайного леса', 'для логистической регрессии']\n",
    "    for model in [model_tree, model_forest, model_log]:\n",
    "        i = i + 1\n",
    "        \n",
    "        predictions = model.predict(features_valid) \n",
    "        accuracy = accuracy_score(target_valid, predictions)\n",
    "        result = f1_score(target_valid, predictions)\n",
    "        \n",
    "        probabilities_valid = model.predict_proba(features_valid)\n",
    "        probabilities_one_valid = probabilities_valid[:, 1]\n",
    "\n",
    "        fpr, tpr, thresholds = roc_curve(target_valid, probabilities_one_valid)\n",
    "        text = 'ROC-кривая ' + (list[i])\n",
    "\n",
    "        plt.figure()\n",
    "\n",
    "        plt.plot([0, 1], [0, 1], linestyle='--')\n",
    "\n",
    "\n",
    "        plt.plot(fpr, tpr)\n",
    "        plt.xlim([0.0, 1.0])\n",
    "        plt.ylim([0.0, 1.0])\n",
    "        plt.xlabel('False Positive Rate')\n",
    "        plt.ylabel('True Positive Rate')\n",
    "        plt.title(text)\n",
    "        plt.show()\n",
    "        \n",
    "        auc_roc = roc_auc_score(target_valid, probabilities_one_valid)\n",
    "        if i == 1:\n",
    "            auc_roc_tree = auc_roc\n",
    "            f1_score_tree = result\n",
    "            accuracy_tree = accuracy\n",
    "        elif i == 2:  \n",
    "            auc_roc_forest = auc_roc\n",
    "            f1_score_forest = result\n",
    "            accuracy_forest = accuracy            \n",
    "            \n",
    "        elif i == 3:  \n",
    "            auc_roc_log = auc_roc\n",
    "            f1_score_log = result\n",
    "            accuracy_log = accuracy            \n",
    "            \n",
    "    return (auc_roc_tree, auc_roc_forest, auc_roc_log\n",
    "            , f1_score_tree, f1_score_forest, f1_score_log\n",
    "            , accuracy_tree, accuracy_forest, accuracy_log) "
   ]
  },
  {
   "cell_type": "markdown",
   "metadata": {},
   "source": [
    "#### Напишем функцию, которая перебором, меняя параметры и гиперпараметры ищет лучшую модель по максимальной F1-мере."
   ]
  },
  {
   "cell_type": "code",
   "execution_count": 22,
   "metadata": {},
   "outputs": [],
   "source": [
    "def search_best_parameters(features_train, target_train, features_valid, target_valid, class_weight=None):    \n",
    "  \n",
    "    best_model_tree = None\n",
    "    best_result = 0\n",
    "    for depth in range(4,8):\n",
    "        for crit in [\"gini\", \"entropy\"]:\n",
    "            for split in [\"best\", \"random\"]:\n",
    "                model = DecisionTreeClassifier(random_state=12345\n",
    "                                               , max_depth=depth\n",
    "                                               , criterion=crit\n",
    "                                               , splitter=split\n",
    "                                               , class_weight=class_weight)\n",
    "                model.fit(features_train, target_train)\n",
    "                predictions = model.predict(features_valid) \n",
    "                accuracy = accuracy_score(target_valid, predictions)\n",
    "                result = f1_score(target_valid, predictions)\n",
    "            \n",
    "                \n",
    "                if result > best_result:\n",
    "                    best_split=split\n",
    "                    best_crit=crit\n",
    "                    max_depth=depth\n",
    "                    best_model_tree = model\n",
    "                    best_result = result\n",
    "                    best_accuracy = accuracy\n",
    "                    \n",
    "               \n",
    "    best_mode_forest = None\n",
    "    best_result = 0\n",
    "    best_accuracy = 0\n",
    "    best_split = 0\n",
    "    for estim in range(10,27): \n",
    "        for crit in [\"gini\", \"entropy\"]:\n",
    "            for boot in [False, True]:\n",
    "                for warm in [False, True]:\n",
    "                    for weight in np.arange(0.0, 0.003, 0.001):\n",
    "                        for max_f in [\"auto\", \"sqrt\", \"log2\"]:\n",
    "                            model = RandomForestClassifier(random_state=12345\n",
    "                                                       , n_estimators=estim\n",
    "                                                       , criterion=crit\n",
    "                                                       , bootstrap=boot\n",
    "                                                       , warm_start=warm\n",
    "                                                       , min_weight_fraction_leaf=weight\n",
    "                                                       , max_features=max_f\n",
    "                                                       , class_weight=class_weight)\n",
    "\n",
    "                            model.fit(features_train, target_train)\n",
    "                            predictions = model.predict(features_valid) \n",
    "                            accuracy = accuracy_score(target_valid, predictions)\n",
    "                            result = f1_score(target_valid, predictions)\n",
    "                            \n",
    "                        \n",
    "\n",
    "                            if result > best_result:\n",
    "                                best_max_features=max_f\n",
    "                                best_min_weight_fraction_leaf=weight\n",
    "                                best_warm_start=warm\n",
    "                                best_bootstrap=boot\n",
    "                                best_criterion=crit\n",
    "                                best_n_estimators=estim\n",
    "                                best_model_forest = model\n",
    "                                best_result = result\n",
    "                                best_accuracy = accuracy\n",
    "                        \n",
    "    \n",
    "    \n",
    "    best_model = None\n",
    "    best_result = 0\n",
    "    best_max_iter=0\n",
    "    best_c=0\n",
    "    for max_iter in range(40,52):\n",
    "        for number_c in np.arange(0.8, 1.7, 0.1):\n",
    "            model = LogisticRegression(random_state=12345\n",
    "                                                   , max_iter=max_iter\n",
    "                                                   , solver='liblinear'\n",
    "                                                   , C=number_c\n",
    "                                                   , class_weight=class_weight)\n",
    "            model.fit(features_train, target_train)\n",
    "            predictions = model.predict(features_valid) \n",
    "            accuracy = accuracy_score(target_valid, predictions)\n",
    "            result = f1_score(target_valid, predictions)\n",
    "            \n",
    "        \n",
    "\n",
    "            if result > best_result:\n",
    "                best_max_iter=max_iter\n",
    "                best_c=number_c\n",
    "                best_model_log = model\n",
    "                best_result = result      \n",
    "                 \n",
    "    return (best_model_tree, best_model_forest, best_model_log)\n"
   ]
  },
  {
   "cell_type": "markdown",
   "metadata": {},
   "source": [
    "#### Найдем лучшие модели без учета дисбаланса. Обучать будем три модели DecisionTreeClassifier, RandomForestClassifier, LogisticRegression на трех выборках подготовненных из df_without_nan, df_with_zero, df_with_median"
   ]
  },
  {
   "cell_type": "code",
   "execution_count": 23,
   "metadata": {
    "scrolled": true
   },
   "outputs": [
    {
     "name": "stdout",
     "output_type": "stream",
     "text": [
      "Лучшие модели, обученные на df_without_nan\n",
      "DecisionTreeClassifier(criterion='entropy', max_depth=7, random_state=12345)\n",
      "RandomForestClassifier(bootstrap=False, min_weight_fraction_leaf=0.001,\n",
      "                       n_estimators=12, random_state=12345)\n",
      "LogisticRegression(C=1.2999999999999998, max_iter=40, random_state=12345,\n",
      "                   solver='liblinear')\n",
      "Лучшие модели, обученные на df_with_zero\n",
      "DecisionTreeClassifier(criterion='entropy', max_depth=7, random_state=12345)\n",
      "RandomForestClassifier(bootstrap=False, criterion='entropy', n_estimators=13,\n",
      "                       random_state=12345)\n",
      "LogisticRegression(C=0.8, max_iter=40, random_state=12345, solver='liblinear')\n",
      "Лучшие модели, обученные на df_with_median\n",
      "DecisionTreeClassifier(criterion='entropy', max_depth=7, random_state=12345)\n",
      "RandomForestClassifier(bootstrap=False, criterion='entropy', n_estimators=21,\n",
      "                       random_state=12345)\n",
      "LogisticRegression(C=1.4, max_iter=40, random_state=12345, solver='liblinear')\n"
     ]
    }
   ],
   "source": [
    "(best_model_tree_without_nan\n",
    " , best_model_forest_without_nan\n",
    " , best_model_log_without_nan) = search_best_parameters(features_train_df_without_nan\n",
    "                                                                               , target_train_df_without_nan\n",
    "                                                                               , features_valid_df_without_nan\n",
    "                                                                               , target_valid_df_without_nan)\n",
    "\n",
    "print('Лучшие модели, обученные на df_without_nan')\n",
    "print(best_model_tree_without_nan)\n",
    "print(best_model_forest_without_nan)\n",
    "print(best_model_log_without_nan)\n",
    "\n",
    "(best_model_tree_with_zero\n",
    " , best_model_forest_with_zero\n",
    " , best_model_log_with_zero) = search_best_parameters(features_train_df_with_zero\n",
    "                                                                              , target_train_df_with_zero\n",
    "                                                                              , features_valid_df_with_zero\n",
    "                                                                              , target_valid_df_with_zero)\n",
    "\n",
    "print('Лучшие модели, обученные на df_with_zero')\n",
    "print(best_model_tree_with_zero)\n",
    "print(best_model_forest_with_zero)\n",
    "print(best_model_log_with_zero)\n",
    "\n",
    "\n",
    "(best_model_tree_with_median\n",
    " , best_model_forest_with_median\n",
    " , best_model_log_with_median) = search_best_parameters(features_train_df_with_median\n",
    "                                                      , target_train_df_with_median\n",
    "                                                      , features_valid_df_with_median\n",
    "                                                      , target_valid_df_with_median)\n",
    "\n",
    "print('Лучшие модели, обученные на df_with_median')\n",
    "print(best_model_tree_with_median)\n",
    "print(best_model_forest_with_median)\n",
    "print(best_model_log_with_median)\n"
   ]
  },
  {
   "cell_type": "markdown",
   "metadata": {},
   "source": [
    "#### Нашли лучшие модели без учета дисбаланса.  Построим ROC-кривую и найдем метрику качества AUC-ROC для каждой модели и для каждого датафрейма "
   ]
  },
  {
   "cell_type": "code",
   "execution_count": 24,
   "metadata": {
    "scrolled": false
   },
   "outputs": [
    {
     "name": "stdout",
     "output_type": "stream",
     "text": [
      "Лучшие модели, обученные на df_without_nan\n"
     ]
    },
    {
     "data": {
      "image/png": "[encoded data removed]",
      "text/plain": [
       "<Figure size 432x288 with 1 Axes>"
      ]
     },
     "metadata": {
      "needs_background": "light"
     },
     "output_type": "display_data"
    },
    {
     "data": {
      "image/png": "[encoded data removed]",
      "text/plain": [
       "<Figure size 432x288 with 1 Axes>"
      ]
     },
     "metadata": {
      "needs_background": "light"
     },
     "output_type": "display_data"
    },
    {
     "data": {
      "image/png": "[encoded data removed]",
      "text/plain": [
       "<Figure size 432x288 with 1 Axes>"
      ]
     },
     "metadata": {
      "needs_background": "light"
     },
     "output_type": "display_data"
    },
    {
     "name": "stdout",
     "output_type": "stream",
     "text": [
      "Для дерева решений F1-мера = 0.551 | Mетрика AUC-ROC = 0.825, accuracy = 0.855\n",
      "Для случайного леса F1-мера = 0.589 | Mетрика AUC-ROC = 0.840, accuracy = 0.868\n",
      "Для логистической регрессии F1-мера = 0.337 | Mетрика AUC-ROC = 0.742, accuracy = 0.821\n",
      "\n",
      "________________________________________________________________________________________\n",
      "\n",
      "Лучшие модели, обученные на df_with_zero\n"
     ]
    },
    {
     "data": {
      "image/png": "[encoded data removed]",
      "text/plain": [
       "<Figure size 432x288 with 1 Axes>"
      ]
     },
     "metadata": {
      "needs_background": "light"
     },
     "output_type": "display_data"
    },
    {
     "data": {
      "image/png": "[encoded data removed]",
      "text/plain": [
       "<Figure size 432x288 with 1 Axes>"
      ]
     },
     "metadata": {
      "needs_background": "light"
     },
     "output_type": "display_data"
    },
    {
     "data": {
      "image/png": "[encoded data removed]",
      "text/plain": [
       "<Figure size 432x288 with 1 Axes>"
      ]
     },
     "metadata": {
      "needs_background": "light"
     },
     "output_type": "display_data"
    },
    {
     "name": "stdout",
     "output_type": "stream",
     "text": [
      "Для дерева решений F1-мера = 0.544 | Mетрика AUC-ROC = 0.806, accuracy = 0.851\n",
      "Для случайного леса F1-мера = 0.559 | Mетрика AUC-ROC = 0.819, accuracy = 0.846\n",
      "Для логистической регрессии F1-мера = 0.233 | Mетрика AUC-ROC = 0.734, accuracy = 0.806\n",
      "\n",
      "________________________________________________________________________________________\n",
      "\n",
      "Лучшие модели, обученные на df_with_median\n"
     ]
    },
    {
     "data": {
      "image/png": "[encoded data removed]",
      "text/plain": [
       "<Figure size 432x288 with 1 Axes>"
      ]
     },
     "metadata": {
      "needs_background": "light"
     },
     "output_type": "display_data"
    },
    {
     "data": {
      "image/png": "[encoded data removed]",
      "text/plain": [
       "<Figure size 432x288 with 1 Axes>"
      ]
     },
     "metadata": {
      "needs_background": "light"
     },
     "output_type": "display_data"
    },
    {
     "data": {
      "image/png": "[encoded data removed]",
      "text/plain": [
       "<Figure size 432x288 with 1 Axes>"
      ]
     },
     "metadata": {
      "needs_background": "light"
     },
     "output_type": "display_data"
    },
    {
     "name": "stdout",
     "output_type": "stream",
     "text": [
      "Для дерева решений F1-мера = 0.544 | Mетрика AUC-ROC = 0.806, accuracy = 0.851\n",
      "Для случайного леса F1-мера = 0.567 | Mетрика AUC-ROC = 0.824, accuracy = 0.851\n",
      "Для логистической регрессии F1-мера = 0.266 | Mетрика AUC-ROC = 0.732, accuracy = 0.810\n"
     ]
    }
   ],
   "source": [
    "print('Лучшие модели, обученные на df_without_nan')\n",
    "(auc_roc_tree, auc_roc_forest, auc_roc_log\n",
    " , f1_score_tree, f1_score_forest, f1_score_log\n",
    " , accuracy_tree, accuracy_forest, accuracy_log) = auc_roc_fun(features_valid_df_without_nan, target_valid_df_without_nan\n",
    "                                                                , best_model_tree_without_nan\n",
    "                                                                , best_model_forest_without_nan\n",
    "                                                                , best_model_log_without_nan)\n",
    "\n",
    "\n",
    "print(\"Для дерева решений F1-мера = {:.3f} | Mетрика AUC-ROC = {:.3f}, accuracy = {:.3f}\".format(\n",
    "        f1_score_tree, auc_roc_tree, accuracy_tree))\n",
    "print(\"Для случайного леса F1-мера = {:.3f} | Mетрика AUC-ROC = {:.3f}, accuracy = {:.3f}\".format(\n",
    "        f1_score_forest, auc_roc_forest, accuracy_forest))\n",
    "print(\"Для логистической регрессии F1-мера = {:.3f} | Mетрика AUC-ROC = {:.3f}, accuracy = {:.3f}\".format(\n",
    "        f1_score_log, auc_roc_log, accuracy_log))\n",
    "print()\n",
    "print('________________________________________________________________________________________')\n",
    "print()\n",
    "print('Лучшие модели, обученные на df_with_zero')\n",
    "(auc_roc_tree, auc_roc_forest, auc_roc_log\n",
    " , f1_score_tree, f1_score_forest, f1_score_log\n",
    " , accuracy_tree, accuracy_forest, accuracy_log) = auc_roc_fun(features_valid_df_with_zero, target_valid_df_with_zero\n",
    "                                                                 , best_model_tree_with_zero\n",
    "                                                                 , best_model_forest_with_zero\n",
    "                                                                 , best_model_log_with_zero)\n",
    "\n",
    "print(\"Для дерева решений F1-мера = {:.3f} | Mетрика AUC-ROC = {:.3f}, accuracy = {:.3f}\".format(\n",
    "        f1_score_tree, auc_roc_tree, accuracy_tree))\n",
    "print(\"Для случайного леса F1-мера = {:.3f} | Mетрика AUC-ROC = {:.3f}, accuracy = {:.3f}\".format(\n",
    "        f1_score_forest, auc_roc_forest, accuracy_forest))\n",
    "print(\"Для логистической регрессии F1-мера = {:.3f} | Mетрика AUC-ROC = {:.3f}, accuracy = {:.3f}\".format(\n",
    "        f1_score_log, auc_roc_log, accuracy_log))\n",
    "\n",
    "print()\n",
    "print('________________________________________________________________________________________')\n",
    "print()\n",
    "print('Лучшие модели, обученные на df_with_median')\n",
    "(auc_roc_tree, auc_roc_forest, auc_roc_log\n",
    " , f1_score_tree, f1_score_forest, f1_score_log\n",
    " , accuracy_tree, accuracy_forest, accuracy_log) = auc_roc_fun(features_valid_df_with_median, target_valid_df_with_median\n",
    "                                                                 , best_model_tree_with_median\n",
    "                                                                 , best_model_forest_with_median\n",
    "                                                                 , best_model_log_with_median)\n",
    "\n",
    "print(\"Для дерева решений F1-мера = {:.3f} | Mетрика AUC-ROC = {:.3f}, accuracy = {:.3f}\".format(\n",
    "        f1_score_tree, auc_roc_tree, accuracy_tree))\n",
    "print(\"Для случайного леса F1-мера = {:.3f} | Mетрика AUC-ROC = {:.3f}, accuracy = {:.3f}\".format(\n",
    "        f1_score_forest, auc_roc_forest, accuracy_forest))\n",
    "print(\"Для логистической регрессии F1-мера = {:.3f} | Mетрика AUC-ROC = {:.3f}, accuracy = {:.3f}\".format(\n",
    "        f1_score_log, auc_roc_log, accuracy_log))"
   ]
  },
  {
   "cell_type": "markdown",
   "metadata": {},
   "source": [
    "###  Вывод:\n",
    "* Изучили дисбаланс классов: Соотношение меток 1 и 0 в таргете: 3.9\n",
    "* Учитывая соотношение меток 1 и 0 в таргете разбили каждый из подгоовленных датафреймов (df_without_nan, df_with_zero, df_with_median) на тривыборки в соотношении 3:1:1\n",
    "* Написали функцию построеня ROC-криваой и нахождения метрики качества AUC-ROC и представления F1 меры\n",
    "* Написали функцию, которая перебором, меняя параметры и гиперпараметры ищет лучшую модель по максимальной F1-мере\n",
    "* С помощью функции обучили разные модели (DecisionTreeClassifier, RandomForestClassifier, LogisticRegression) без учета дисбаланса классов и выбрали лучшие из них.\n",
    "1. Лучшие модели, обученные на df_without_nan:\n",
    " * Для дерева решений F1-мера = 0.551 | Mетрика AUC-ROC = 0.825, accuracy = 0.855\n",
    " * Для случайного леса F1-мера = 0.589 | Mетрика AUC-ROC = 0.840, accuracy = 0.868\n",
    " * Для логистической регрессии F1-мера = 0.337 | Mетрика AUC-ROC = 0.742, accuracy = 0.821\n",
    "2. Лучшие модели, обученные на df_with_zero:\n",
    " * Для дерева решений F1-мера = 0.544 | Mетрика AUC-ROC = 0.806, accuracy = 0.851\n",
    " * Для случайного леса F1-мера = 0.559 | Mетрика AUC-ROC = 0.819, accuracy = 0.846\n",
    " * Для логистической регрессии F1-мера = 0.238 | Mетрика AUC-ROC = 0.738, accuracy = 0.805\n",
    "3. Лучшие модели, обученные на df_with_median:\n",
    " * Для дерева решений F1-мера = 0.544 | Mетрика AUC-ROC = 0.806, accuracy = 0.851\n",
    " * Для случайного леса F1-мера = 0.567 | Mетрика AUC-ROC = 0.824, accuracy = 0.851\n",
    " * Для логистической регрессии F1-мера = 0.240 | Mетрика AUC-ROC = 0.734, accuracy = 0.806 \n",
    "\n",
    "**Лучшей моделью c F1-мерой = 0.589  оказалась модель случайного леса обученая на данных с удаленными стоками NaN с параметрами:(RandomForestClassifier(bootstrap=False, min_weight_fraction_leaf=0.001,n_estimators=12, random_state=12345))**\n",
    "\n",
    "**Значение F1-меры = 0.589 удовлетворяет заданию проекта, причем метрика AUC-ROC = 0.840, accuracy = 0.868 также является отличным результатом.**"
   ]
  },
  {
   "cell_type": "markdown",
   "metadata": {},
   "source": [
    "## Борьба с дисбалансом"
   ]
  },
  {
   "cell_type": "markdown",
   "metadata": {},
   "source": [
    "### Для борьбы с дисбалансом воспользуемся техниками увеличение выборки (upsampling), уменьшение выборки(downsampling) и изменением class_weight"
   ]
  },
  {
   "cell_type": "markdown",
   "metadata": {},
   "source": [
    "#### Напишем функцию, который перебором, меняя параметры и гиперпараметры а также меняя колличество раз увеличения (уменьшения)  положительных объектов  и изменением class_weight ищет лучшую модель по максимальной F1-мере"
   ]
  },
  {
   "cell_type": "code",
   "execution_count": 25,
   "metadata": {},
   "outputs": [],
   "source": [
    "def sample(features_train, target_train, features_valid, target_valid):\n",
    "    features_zeros = features_train[target_train == 0]\n",
    "    features_ones = features_train[target_train == 1]\n",
    "    target_zeros = target_train[target_train == 0]\n",
    "    target_ones = target_train[target_train == 1]\n",
    "    \n",
    "    the_best_model_tree = None\n",
    "    the_best_model_forest = None\n",
    "    the_best_model_log = None\n",
    "    best_result_tree = 0\n",
    "    best_result_forest = 0\n",
    "    best_result_log = 0\n",
    "    \n",
    "    for method in ['up', 'down', 'balanced']:\n",
    "        \n",
    "        if method == 'up':\n",
    "        \n",
    "            for repeat in range(3,4):\n",
    "                features_sampled = pd.concat([features_zeros] + [features_ones] * repeat)\n",
    "                target_sampled = pd.concat([target_zeros] + [target_ones] * repeat)                \n",
    "                features_sampled, target_sampled = shuffle(features_sampled, target_sampled, random_state=12345)\n",
    "                \n",
    "                (best_model_tree, best_model_forest, best_model_log) = search_best_parameters(features_sampled\n",
    "                                                                                               , target_sampled\n",
    "                                                                                               , features_valid\n",
    "                                                                                               , target_valid)\n",
    "                \n",
    "                               \n",
    "                predictions_tree = best_model_tree.predict(features_valid)\n",
    "                result_tree = f1_score(target_valid, predictions_tree)\n",
    "                            \n",
    "\n",
    "                if result_tree > best_result_tree:\n",
    "                    the_best_model_tree = best_model_tree\n",
    "\n",
    "\n",
    "                predictions_forest = best_model_forest.predict(features_valid)\n",
    "                result_forest = f1_score(target_valid, predictions_forest)\n",
    "\n",
    "                if result_forest > best_result_forest:\n",
    "                    the_best_model_forest = best_model_forest\n",
    "\n",
    "\n",
    "                predictions_log = best_model_log.predict(features_valid)\n",
    "                result_log = f1_score(target_valid, predictions_log)\n",
    "\n",
    "                if result_log > best_result_log:\n",
    "                    the_best_model_log = best_model_log\n",
    "                \n",
    "                \n",
    "        elif method == 'down':\n",
    "            \n",
    "            for fraction in np.arange(0.4, 0.6, 0.05):\n",
    "                \n",
    "                features_sampled = pd.concat(\n",
    "                    [features_zeros.sample(frac=fraction, random_state=12345)] + [features_ones])\n",
    "                target_sampled = pd.concat(\n",
    "                    [target_zeros.sample(frac=fraction, random_state=12345)] + [target_ones])\n",
    "\n",
    "                features_sampled, target_sampled = shuffle(features_sampled, target_sampled, random_state=12345)\n",
    "                (best_model_tree, best_model_forest, best_model_log) = search_best_parameters(features_sampled\n",
    "                                                                                               , target_sampled\n",
    "                                                                                               , features_valid\n",
    "                                                                                               , target_valid)\n",
    "\n",
    "\n",
    "                predictions_tree = best_model_tree.predict(features_valid)\n",
    "                result_tree = f1_score(target_valid, predictions_tree)\n",
    "\n",
    "                if result_tree > best_result_tree:\n",
    "                    the_best_model_tree = best_model_tree\n",
    "\n",
    "\n",
    "                predictions_forest = best_model_forest.predict(features_valid)\n",
    "                result_forest = f1_score(target_valid, predictions_forest)\n",
    "\n",
    "                if result_forest > best_result_forest:\n",
    "                    the_best_model_forest = best_model_forest\n",
    "\n",
    "\n",
    "                predictions_log = best_model_log.predict(features_valid)\n",
    "                result_log = f1_score(target_valid, predictions_log)\n",
    "\n",
    "                if result_log > best_result_log:\n",
    "                    the_best_model_log = best_model_log\n",
    "                    \n",
    "                    \n",
    "        elif method == 'balanced':\n",
    "            \n",
    "            for balanc in np.arange(0.15, 0.3, 0.05):\n",
    "            \n",
    "                (best_model_tree, best_model_forest, best_model_log) = search_best_parameters(features_train\n",
    "                                                                                               , target_train\n",
    "                                                                                               , features_valid\n",
    "                                                                                               , target_valid\n",
    "                                                                                               , {0: balanc, 1: 1.0})\n",
    "\n",
    "\n",
    "                predictions_tree = best_model_tree.predict(features_valid)\n",
    "                result_tree = f1_score(target_valid, predictions_tree)\n",
    "\n",
    "                if result_tree > best_result_tree:\n",
    "                    the_best_model_tree = best_model_tree\n",
    "\n",
    "\n",
    "                predictions_forest = best_model_forest.predict(features_valid)\n",
    "                result_forest = f1_score(target_valid, predictions_forest)\n",
    "\n",
    "                if result_forest > best_result_forest:\n",
    "                    the_best_model_forest = best_model_forest\n",
    "\n",
    "\n",
    "                predictions_log = best_model_log.predict(features_valid)\n",
    "                result_log = f1_score(target_valid, predictions_log)\n",
    "\n",
    "                if result_log > best_result_log:\n",
    "                    the_best_model_log = best_model_log \n",
    "        \n",
    "        \n",
    "    return (the_best_model_tree, the_best_model_forest, the_best_model_log)"
   ]
  },
  {
   "cell_type": "markdown",
   "metadata": {},
   "source": [
    "#### Найдем лучшие модели с учетом дисбаланса. \n",
    "\n",
    "Обучать будем три модели DecisionTreeClassifier, RandomForestClassifier, LogisticRegression на трех выборках подготовненных из df_without_nan, df_with_zero, df_with_median, при этом для борьбы с дисбалансом будем использовать увеличение выборки (upsampling), уменьшение выборки(downsampling) и изменением class_weight\n",
    "\n",
    "**В функции sample, сейчас, также максимально сокращен диапазон перебора для ускорения выполнения кода, на самом деле я делал его по шире и вкючал на ночь. Урезанный диапазон является лучшим)**"
   ]
  },
  {
   "cell_type": "code",
   "execution_count": 26,
   "metadata": {
    "scrolled": true
   },
   "outputs": [
    {
     "name": "stdout",
     "output_type": "stream",
     "text": [
      "Лучшие модели с учетом дисбаланса, обученные на df_without_nan\n",
      "DecisionTreeClassifier(class_weight={0: 0.25, 1: 1.0}, criterion='entropy',\n",
      "                       max_depth=5, random_state=12345)\n",
      "RandomForestClassifier(class_weight={0: 0.25, 1: 1.0}, criterion='entropy',\n",
      "                       min_weight_fraction_leaf=0.001, n_estimators=22,\n",
      "                       random_state=12345)\n",
      "LogisticRegression(C=0.9, class_weight={0: 0.25, 1: 1.0}, max_iter=40,\n",
      "                   random_state=12345, solver='liblinear')\n",
      "Лучшие модели с учетом дисбаланса, обученные на df_with_zero\n",
      "DecisionTreeClassifier(criterion='entropy', max_depth=7, random_state=12345)\n",
      "RandomForestClassifier(bootstrap=False, criterion='entropy', n_estimators=13,\n",
      "                       random_state=12345)\n",
      "LogisticRegression(C=0.8, max_iter=40, random_state=12345, solver='liblinear')\n",
      "Лучшие модели с учетом дисбаланса, обученные на df_with_median\n",
      "DecisionTreeClassifier(criterion='entropy', max_depth=7, random_state=12345)\n",
      "RandomForestClassifier(bootstrap=False, criterion='entropy', n_estimators=21,\n",
      "                       random_state=12345)\n",
      "LogisticRegression(C=1.4, max_iter=40, random_state=12345, solver='liblinear')\n"
     ]
    }
   ],
   "source": [
    "(best_model_tree_without_nan\n",
    " , best_model_forest_without_nan\n",
    " , best_model_log_without_nan) = sample(features_train_df_without_nan\n",
    "                                        , target_train_df_without_nan\n",
    "                                        , features_valid_df_without_nan\n",
    "                                        , target_valid_df_without_nan)\n",
    "\n",
    "print('Лучшие модели с учетом дисбаланса, обученные на df_without_nan')\n",
    "print(best_model_tree_without_nan)\n",
    "print(best_model_forest_without_nan)\n",
    "print(best_model_log_without_nan)\n",
    "\n",
    "(best_model_tree_with_zero\n",
    " , best_model_forest_with_zero\n",
    " , best_model_log_with_zero) = search_best_parameters(features_train_df_with_zero\n",
    "                                                        , target_train_df_with_zero\n",
    "                                                        , features_valid_df_with_zero\n",
    "                                                        , target_valid_df_with_zero)\n",
    "\n",
    "print('Лучшие модели с учетом дисбаланса, обученные на df_with_zero')\n",
    "print(best_model_tree_with_zero)\n",
    "print(best_model_forest_with_zero)\n",
    "print(best_model_log_with_zero)\n",
    "\n",
    "\n",
    "(best_model_tree_with_median\n",
    " , best_model_forest_with_median\n",
    " , best_model_log_with_median) = search_best_parameters(features_train_df_with_median\n",
    "                                                      , target_train_df_with_median\n",
    "                                                      , features_valid_df_with_median\n",
    "                                                      , target_valid_df_with_median)\n",
    "\n",
    "print('Лучшие модели с учетом дисбаланса, обученные на df_with_median')\n",
    "print(best_model_tree_with_median)\n",
    "print(best_model_forest_with_median)\n",
    "print(best_model_log_with_median)"
   ]
  },
  {
   "cell_type": "markdown",
   "metadata": {},
   "source": [
    "#### Нашли лучшие модели с учетом дисбаланса.  Построим ROC-кривую и найдем метрику качества AUC-ROC для каждой модели и для каждого датафрейма"
   ]
  },
  {
   "cell_type": "code",
   "execution_count": 27,
   "metadata": {
    "scrolled": false
   },
   "outputs": [
    {
     "name": "stdout",
     "output_type": "stream",
     "text": [
      "Лучшие модели, обученные на df_without_nan\n"
     ]
    },
    {
     "data": {
      "image/png": "[encoded data removed]",
      "text/plain": [
       "<Figure size 432x288 with 1 Axes>"
      ]
     },
     "metadata": {
      "needs_background": "light"
     },
     "output_type": "display_data"
    },
    {
     "data": {
      "image/png": "[encoded data removed]",
      "text/plain": [
       "<Figure size 432x288 with 1 Axes>"
      ]
     },
     "metadata": {
      "needs_background": "light"
     },
     "output_type": "display_data"
    },
    {
     "data": {
      "image/png": "[encoded data removed]",
      "text/plain": [
       "<Figure size 432x288 with 1 Axes>"
      ]
     },
     "metadata": {
      "needs_background": "light"
     },
     "output_type": "display_data"
    },
    {
     "name": "stdout",
     "output_type": "stream",
     "text": [
      "Для дерева решений F1-мера = 0.582 | Mетрика AUC-ROC = 0.829, accuracy = 0.819\n",
      "Для случайного леса F1-мера = 0.614 | Mетрика AUC-ROC = 0.834, accuracy = 0.847\n",
      "Для логистической регрессии F1-мера = 0.488 | Mетрика AUC-ROC = 0.760, accuracy = 0.696\n",
      "\n",
      "________________________________________________________________________________________\n",
      "\n",
      "Лучшие модели, обученные на df_with_zero\n"
     ]
    },
    {
     "data": {
      "image/png": "[encoded data removed]",
      "text/plain": [
       "<Figure size 432x288 with 1 Axes>"
      ]
     },
     "metadata": {
      "needs_background": "light"
     },
     "output_type": "display_data"
    },
    {
     "data": {
      "image/png": "[encoded data removed]",
      "text/plain": [
       "<Figure size 432x288 with 1 Axes>"
      ]
     },
     "metadata": {
      "needs_background": "light"
     },
     "output_type": "display_data"
    },
    {
     "data": {
      "image/png": "[encoded data removed]",
      "text/plain": [
       "<Figure size 432x288 with 1 Axes>"
      ]
     },
     "metadata": {
      "needs_background": "light"
     },
     "output_type": "display_data"
    },
    {
     "name": "stdout",
     "output_type": "stream",
     "text": [
      "Для дерева решений F1-мера = 0.544 | Mетрика AUC-ROC = 0.806, accuracy = 0.851\n",
      "Для случайного леса F1-мера = 0.559 | Mетрика AUC-ROC = 0.819, accuracy = 0.846\n",
      "Для логистической регрессии F1-мера = 0.233 | Mетрика AUC-ROC = 0.734, accuracy = 0.806\n",
      "\n",
      "________________________________________________________________________________________\n",
      "\n",
      "Лучшие модели, обученные на df_with_median\n"
     ]
    },
    {
     "data": {
      "image/png": "[encoded data removed]",
      "text/plain": [
       "<Figure size 432x288 with 1 Axes>"
      ]
     },
     "metadata": {
      "needs_background": "light"
     },
     "output_type": "display_data"
    },
    {
     "data": {
      "image/png": "[encoded data removed]",
      "text/plain": [
       "<Figure size 432x288 with 1 Axes>"
      ]
     },
     "metadata": {
      "needs_background": "light"
     },
     "output_type": "display_data"
    },
    {
     "data": {
      "image/png": "[encoded data removed]",
      "text/plain": [
       "<Figure size 432x288 with 1 Axes>"
      ]
     },
     "metadata": {
      "needs_background": "light"
     },
     "output_type": "display_data"
    },
    {
     "name": "stdout",
     "output_type": "stream",
     "text": [
      "Для дерева решений F1-мера = 0.544 | Mетрика AUC-ROC = 0.806, accuracy = 0.851\n",
      "Для случайного леса F1-мера = 0.567 | Mетрика AUC-ROC = 0.824, accuracy = 0.851\n",
      "Для логистической регрессии F1-мера = 0.266 | Mетрика AUC-ROC = 0.732, accuracy = 0.810\n"
     ]
    }
   ],
   "source": [
    "print('Лучшие модели, обученные на df_without_nan')\n",
    "(auc_roc_tree, auc_roc_forest, auc_roc_log\n",
    " , f1_score_tree, f1_score_forest, f1_score_log\n",
    " , accuracy_tree, accuracy_forest, accuracy_log) = auc_roc_fun(features_valid_df_without_nan, target_valid_df_without_nan\n",
    "                                                                , best_model_tree_without_nan\n",
    "                                                                , best_model_forest_without_nan\n",
    "                                                                , best_model_log_without_nan)\n",
    "\n",
    "\n",
    "print(\"Для дерева решений F1-мера = {:.3f} | Mетрика AUC-ROC = {:.3f}, accuracy = {:.3f}\".format(\n",
    "        f1_score_tree, auc_roc_tree, accuracy_tree))\n",
    "print(\"Для случайного леса F1-мера = {:.3f} | Mетрика AUC-ROC = {:.3f}, accuracy = {:.3f}\".format(\n",
    "        f1_score_forest, auc_roc_forest, accuracy_forest))\n",
    "print(\"Для логистической регрессии F1-мера = {:.3f} | Mетрика AUC-ROC = {:.3f}, accuracy = {:.3f}\".format(\n",
    "        f1_score_log, auc_roc_log, accuracy_log))\n",
    "print()\n",
    "print('________________________________________________________________________________________')\n",
    "print()\n",
    "print('Лучшие модели, обученные на df_with_zero')\n",
    "(auc_roc_tree, auc_roc_forest, auc_roc_log\n",
    " , f1_score_tree, f1_score_forest, f1_score_log\n",
    " , accuracy_tree, accuracy_forest, accuracy_log) = auc_roc_fun(features_valid_df_with_zero, target_valid_df_with_zero\n",
    "                                                                 , best_model_tree_with_zero\n",
    "                                                                 , best_model_forest_with_zero\n",
    "                                                                 , best_model_log_with_zero)\n",
    "\n",
    "print(\"Для дерева решений F1-мера = {:.3f} | Mетрика AUC-ROC = {:.3f}, accuracy = {:.3f}\".format(\n",
    "        f1_score_tree, auc_roc_tree, accuracy_tree))\n",
    "print(\"Для случайного леса F1-мера = {:.3f} | Mетрика AUC-ROC = {:.3f}, accuracy = {:.3f}\".format(\n",
    "        f1_score_forest, auc_roc_forest, accuracy_forest))\n",
    "print(\"Для логистической регрессии F1-мера = {:.3f} | Mетрика AUC-ROC = {:.3f}, accuracy = {:.3f}\".format(\n",
    "        f1_score_log, auc_roc_log, accuracy_log))\n",
    "\n",
    "print()\n",
    "print('________________________________________________________________________________________')\n",
    "print()\n",
    "print('Лучшие модели, обученные на df_with_median')\n",
    "(auc_roc_tree, auc_roc_forest, auc_roc_log\n",
    " , f1_score_tree, f1_score_forest, f1_score_log\n",
    " , accuracy_tree, accuracy_forest, accuracy_log) = auc_roc_fun(features_valid_df_with_median, target_valid_df_with_median\n",
    "                                                                 , best_model_tree_with_median\n",
    "                                                                 , best_model_forest_with_median\n",
    "                                                                 , best_model_log_with_median)\n",
    "\n",
    "print(\"Для дерева решений F1-мера = {:.3f} | Mетрика AUC-ROC = {:.3f}, accuracy = {:.3f}\".format(\n",
    "        f1_score_tree, auc_roc_tree, accuracy_tree))\n",
    "print(\"Для случайного леса F1-мера = {:.3f} | Mетрика AUC-ROC = {:.3f}, accuracy = {:.3f}\".format(\n",
    "        f1_score_forest, auc_roc_forest, accuracy_forest))\n",
    "print(\"Для логистической регрессии F1-мера = {:.3f} | Mетрика AUC-ROC = {:.3f}, accuracy = {:.3f}\".format(\n",
    "        f1_score_log, auc_roc_log, accuracy_log))"
   ]
  },
  {
   "cell_type": "markdown",
   "metadata": {},
   "source": [
    "###  Вывод:\n",
    "* Для борьбы с дисбалансом воспользовались техниками: увеличение выборки (upsampling), уменьшение выборки(downsampling) и изменением class_weight\n",
    "* Написали функцию, который перебором, меняя параметры и гиперпараметры а также меняя колличество раз увеличения (уменьшения) положительных объектов и изменением class_weight ищет лучшую модель по максимальной F1-мере\n",
    "* С помощью функции обучили разные модели (DecisionTreeClassifier, RandomForestClassifier, LogisticRegression) без учета дисбаланса классов и выбрали лучшие из них.\n",
    "1. Лучшие модели, обученные на df_without_nan:\n",
    " * Для дерева решений F1-мера = 0.582 | Mетрика AUC-ROC = 0.829, accuracy = 0.819\n",
    " * Для случайного леса F1-мера = 0.614 | Mетрика AUC-ROC = 0.834, accuracy = 0.847\n",
    " * Для логистической регрессии F1-мера = 0.488 | Mетрика AUC-ROC = 0.760, accuracy = 0.696\n",
    "2. Лучшие модели, обученные на df_with_zero:\n",
    " * Для дерева решений F1-мера = 0.544 | Mетрика AUC-ROC = 0.806, accuracy = 0.851\n",
    " * Для случайного леса F1-мера = 0.559 | Mетрика AUC-ROC = 0.819, accuracy = 0.846\n",
    " * Для логистической регрессии F1-мера = 0.238 | Mетрика AUC-ROC = 0.738, accuracy = 0.805\n",
    "3. Лучшие модели, обученные на df_with_median:\n",
    " * Для дерева решений F1-мера = 0.544 | Mетрика AUC-ROC = 0.806, accuracy = 0.851\n",
    " * Для случайного леса F1-мера = 0.567 | Mетрика AUC-ROC = 0.824, accuracy = 0.851\n",
    " * Для логистической регрессии F1-мера = 0.240 | Mетрика AUC-ROC = 0.734, accuracy = 0.806\n",
    "\n",
    "**Лучшей моделью c F1-мерой = 0.614 оказалась модель случайного леса обученая на данных с удаленными стоками NaN с параметрами:(RandomForestClassifier(class_weight={0: 0.25, 1: 1.0}, criterion='entropy',min_weight_fraction_leaf=0.001, n_estimators=22,\n",
    "random_state=12345))**\n",
    "\n",
    "**Значение F1-меры = 0.61 удовлетворяет заданию проекта, причем метрика AUC-ROC = 0.834, accuracy = 0.847 также является отличным результатом.**"
   ]
  },
  {
   "cell_type": "markdown",
   "metadata": {},
   "source": [
    "## Тестирование модели"
   ]
  },
  {
   "cell_type": "markdown",
   "metadata": {},
   "source": [
    "Проверим нашу лучшую модель  на тестовой выборке"
   ]
  },
  {
   "cell_type": "code",
   "execution_count": 28,
   "metadata": {},
   "outputs": [
    {
     "data": {
      "image/png": "[encoded data removed]",
      "text/plain": [
       "<Figure size 432x288 with 1 Axes>"
      ]
     },
     "metadata": {
      "needs_background": "light"
     },
     "output_type": "display_data"
    },
    {
     "name": "stdout",
     "output_type": "stream",
     "text": [
      "Для случайного леса на тестовой быборке F1-мера = 0.630 | Mетрика AUC-ROC = 0.824, accuracy = 0.851\n"
     ]
    }
   ],
   "source": [
    "predictions = best_model_forest_without_nan.predict(features_test_df_without_nan) \n",
    "accuracy = accuracy_score(target_test_df_without_nan, predictions)\n",
    "result = f1_score(target_test_df_without_nan, predictions)\n",
    "probabilities_test = best_model_forest_without_nan.predict_proba(features_test_df_without_nan)\n",
    "probabilities_one_test = probabilities_test[:, 1]\n",
    "auc_roc = roc_auc_score(target_test_df_without_nan, probabilities_one_test)\n",
    "fpr, tpr, thresholds = roc_curve(target_test_df_without_nan, probabilities_one_test)\n",
    "\n",
    "plt.figure()\n",
    "\n",
    "plt.plot([0, 1], [0, 1], linestyle='--')\n",
    "\n",
    "\n",
    "plt.plot(fpr, tpr)\n",
    "plt.xlim([0.0, 1.0])\n",
    "plt.ylim([0.0, 1.0])\n",
    "plt.xlabel('False Positive Rate')\n",
    "plt.ylabel('True Positive Rate')\n",
    "plt.title('ROC-кривая для случайного леса на тестовой выборке')\n",
    "plt.show() \n",
    "\n",
    "\n",
    "\n",
    "print(\"Для случайного леса на тестовой быборке F1-мера = {:.3f} | Mетрика AUC-ROC = {:.3f}, accuracy = {:.3f}\".format(\n",
    "        result, auc_roc_forest, accuracy))\n",
    "\n",
    "      \n",
    "      \n",
    "      "
   ]
  },
  {
   "cell_type": "markdown",
   "metadata": {},
   "source": [
    "**Вывод:**\n",
    "\n",
    "**Лучшей модель :(RandomForestClassifier(class_weight={0: 0.25, 1: 1.0}, criterion='entropy',min_weight_fraction_leaf=0.001, n_estimators=22, random_state=12345))**\n",
    "\n",
    "показала отличные результаты:  F1-мера = 0.630 | Mетрика AUC-ROC = 0.824, accuracy = 0.851\n",
    "\n",
    "Метрика F1 больше 0,59, что является фактом успешного результата по проекту"
   ]
  },
  {
   "cell_type": "markdown",
   "metadata": {},
   "source": [
    "### **Общий вывод**\n",
    "В ходе проекта:\n",
    "* Изучили данные\n",
    "* Удалили лишние столбцы, которые либо дублируют индексы, либо не являются признаками.\n",
    "* Проверили на дубликаты\n",
    "* Подготовили для исследования три датафрейма:\n",
    " * в первом удалили строки с NaN\n",
    " * во втором NaN заменили на ноль\n",
    " * в третьем NaN заменили на медианное значение\n",
    " \n",
    "**Итого, у нас для рассмотрения три датафрейма df_without_nan, df_with_zero, df_with_median.**\n",
    "**Без учета дисбаланса классов:**\n",
    " \n",
    "* Изучили дисбаланс классов: Соотношение меток 1 и 0 в таргете: 3.9\n",
    "* Учитывая соотношение меток 1 и 0 в таргете разбили каждый из подгоовленных датафреймов (df_without_nan, df_with_zero, df_with_median) на три выборки в соотношении 3:1:1\n",
    "* Написали функцию построения ROC-кривой и нахождения метрики качества AUC-ROC и представления F1 меры\n",
    "* Написали функцию, которая перебором, меняя параметры и гиперпараметры ищет лучшую модель по максимальной F1-мере\n",
    "* С помощью функции обучили разные модели (DecisionTreeClassifier, RandomForestClassifier, LogisticRegression) без учета дисбаланса классов и выбрали лучшие из них.\n",
    "1. Лучшие модели, обученные на df_without_nan:\n",
    " * Для дерева решений F1-мера = 0.551 | Mетрика AUC-ROC = 0.825, accuracy = 0.855\n",
    " * Для случайного леса F1-мера = 0.589 | Mетрика AUC-ROC = 0.840, accuracy = 0.868\n",
    " * Для логистической регрессии F1-мера = 0.337 | Mетрика AUC-ROC = 0.742, accuracy = 0.821\n",
    "2. Лучшие модели, обученные на df_with_zero:\n",
    " * Для дерева решений F1-мера = 0.544 | Mетрика AUC-ROC = 0.806, accuracy = 0.851\n",
    " * Для случайного леса F1-мера = 0.559 | Mетрика AUC-ROC = 0.819, accuracy = 0.846\n",
    " * Для логистической регрессии F1-мера = 0.238 | Mетрика AUC-ROC = 0.738, accuracy = 0.805\n",
    "3. Лучшие модели, обученные на df_with_median:\n",
    " * Для дерева решений F1-мера = 0.544 | Mетрика AUC-ROC = 0.806, accuracy = 0.851\n",
    " * Для случайного леса F1-мера = 0.567 | Mетрика AUC-ROC = 0.824, accuracy = 0.851\n",
    " * Для логистической регрессии F1-мера = 0.240 | Mетрика AUC-ROC = 0.734, accuracy = 0.806 \n",
    "\n",
    "**Лучшей моделью c F1-мерой = 0.589  оказалась модель случайного леса обученая на данных с удаленными стоками NaN с параметрами:(RandomForestClassifier(bootstrap=False, min_weight_fraction_leaf=0.001,n_estimators=12, random_state=12345))**\n",
    "\n",
    "**Значение F1-меры = 0.589 удовлетворяет заданию проекта, причем метрика AUC-ROC = 0.840, accuracy = 0.868 также является отличным результатом.**\n",
    "\n",
    "**С учетом дисбаланса классов:**\n",
    "\n",
    "* Для борьбы с дисбалансом воспользовались техниками: увеличение выборки (upsampling), уменьшение выборки(downsampling) и изменением class_weight\n",
    "* Написали функцию, который перебором, меняя параметры и гиперпараметры а также меняя количество раз увеличения (уменьшения) положительных объектов и изменением class_weight ищет лучшую модель по максимальной F1-мере\n",
    "* С помощью функции обучили разные модели (DecisionTreeClassifier, RandomForestClassifier, LogisticRegression) без учета дисбаланса классов и выбрали лучшие из них.\n",
    "1. Лучшие модели, обученные на df_without_nan:\n",
    " * Для дерева решений F1-мера = 0.582 | Mетрика AUC-ROC = 0.829, accuracy = 0.819\n",
    " * Для случайного леса F1-мера = 0.614 | Mетрика AUC-ROC = 0.834, accuracy = 0.847\n",
    " * Для логистической регрессии F1-мера = 0.488 | Mетрика AUC-ROC = 0.760, accuracy = 0.696\n",
    "2. Лучшие модели, обученные на df_with_zero:\n",
    " * Для дерева решений F1-мера = 0.544 | Mетрика AUC-ROC = 0.806, accuracy = 0.851\n",
    " * Для случайного леса F1-мера = 0.559 | Mетрика AUC-ROC = 0.819, accuracy = 0.846\n",
    " * Для логистической регрессии F1-мера = 0.238 | Mетрика AUC-ROC = 0.738, accuracy = 0.805\n",
    "3. Лучшие модели, обученные на df_with_median:\n",
    " * Для дерева решений F1-мера = 0.544 | Mетрика AUC-ROC = 0.806, accuracy = 0.851\n",
    " * Для случайного леса F1-мера = 0.567 | Mетрика AUC-ROC = 0.824, accuracy = 0.851\n",
    " * Для логистической регрессии F1-мера = 0.240 | Mетрика AUC-ROC = 0.734, accuracy = 0.806\n",
    "\n",
    "**Лучшей моделью c F1-мерой = 0.614 оказалась модель случайного леса обученая на данных с удаленными стоками NaN с параметрами:(RandomForestClassifier(class_weight={0: 0.25, 1: 1.0}, criterion='entropy',min_weight_fraction_leaf=0.001, n_estimators=22,\n",
    "random_state=12345))**\n",
    "\n",
    "**Значение F1-меры = 0.61 удовлетворяет заданию проекта, причем метрика AUC-ROC = 0.834, accuracy = 0.847 также является отличным результатом.**\n",
    "\n",
    "**Финальное тестирование на тестовой выборке выбранной модели:**\n",
    "\n",
    "* Лучшей модель :(RandomForestClassifier(class_weight={0: 0.25, 1: 1.0}, criterion='entropy',min_weight_fraction_leaf=0.001, n_estimators=22, random_state=12345))\n",
    "\n",
    "показала отличные результаты: F1-мера = 0.630 | Mетрика AUC-ROC = 0.824, accuracy = 0.851\n",
    "\n",
    "* Метрика F1 больше 0,59, что является фактом успешного результата по проекту\n"
   ]
  },
  {
   "cell_type": "code",
   "execution_count": null,
   "metadata": {},
   "outputs": [],
   "source": []
  }
 ],
 "metadata": {
  "ExecuteTimeLog": [
   {
    "duration": 1091,
    "start_time": "2022-05-23T14:43:53.745Z"
   },
   {
    "duration": 197,
    "start_time": "2022-05-23T15:11:18.094Z"
   },
   {
    "duration": 118,
    "start_time": "2022-05-23T15:17:28.993Z"
   },
   {
    "duration": 14,
    "start_time": "2022-05-23T15:17:34.450Z"
   },
   {
    "duration": 14,
    "start_time": "2022-05-23T15:19:01.561Z"
   },
   {
    "duration": 13,
    "start_time": "2022-05-23T15:20:32.485Z"
   },
   {
    "duration": 5,
    "start_time": "2022-05-23T15:20:35.061Z"
   },
   {
    "duration": 14,
    "start_time": "2022-05-23T15:20:37.246Z"
   },
   {
    "duration": 16,
    "start_time": "2022-05-23T15:20:51.299Z"
   },
   {
    "duration": 872,
    "start_time": "2022-05-24T14:23:49.333Z"
   },
   {
    "duration": 168,
    "start_time": "2022-05-24T14:23:50.207Z"
   },
   {
    "duration": 160,
    "start_time": "2022-05-24T14:24:22.393Z"
   },
   {
    "duration": 68,
    "start_time": "2022-05-24T14:25:33.136Z"
   },
   {
    "duration": 28,
    "start_time": "2022-05-24T14:38:17.883Z"
   },
   {
    "duration": 9,
    "start_time": "2022-05-24T14:40:42.122Z"
   },
   {
    "duration": 5,
    "start_time": "2022-05-24T14:40:55.282Z"
   },
   {
    "duration": 25,
    "start_time": "2022-05-24T14:49:58.119Z"
   },
   {
    "duration": 651,
    "start_time": "2022-05-24T14:50:05.813Z"
   },
   {
    "duration": 23,
    "start_time": "2022-05-24T14:50:18.812Z"
   },
   {
    "duration": 23,
    "start_time": "2022-05-24T14:51:19.270Z"
   },
   {
    "duration": 18,
    "start_time": "2022-05-24T14:52:06.788Z"
   },
   {
    "duration": 5,
    "start_time": "2022-05-24T14:52:15.968Z"
   },
   {
    "duration": 88,
    "start_time": "2022-05-24T14:52:15.974Z"
   },
   {
    "duration": 41,
    "start_time": "2022-05-24T14:52:16.064Z"
   },
   {
    "duration": 5,
    "start_time": "2022-05-24T14:52:16.158Z"
   },
   {
    "duration": 31,
    "start_time": "2022-05-24T14:52:16.281Z"
   },
   {
    "duration": 12,
    "start_time": "2022-05-24T14:52:56.678Z"
   },
   {
    "duration": 13,
    "start_time": "2022-05-24T14:53:12.746Z"
   },
   {
    "duration": 21,
    "start_time": "2022-05-24T15:10:23.368Z"
   },
   {
    "duration": 946,
    "start_time": "2022-05-24T15:11:25.667Z"
   },
   {
    "duration": 4,
    "start_time": "2022-05-24T15:12:17.133Z"
   },
   {
    "duration": 34,
    "start_time": "2022-05-24T15:20:17.810Z"
   },
   {
    "duration": 13,
    "start_time": "2022-05-24T15:21:03.811Z"
   },
   {
    "duration": 296,
    "start_time": "2022-05-24T15:21:47.061Z"
   },
   {
    "duration": 5,
    "start_time": "2022-05-24T15:22:12.618Z"
   },
   {
    "duration": 67,
    "start_time": "2022-05-24T15:22:16.111Z"
   },
   {
    "duration": 14,
    "start_time": "2022-05-24T15:22:17.159Z"
   },
   {
    "duration": 21,
    "start_time": "2022-05-24T15:22:18.416Z"
   },
   {
    "duration": 242,
    "start_time": "2022-05-24T15:22:21.267Z"
   },
   {
    "duration": 264,
    "start_time": "2022-05-24T15:23:38.071Z"
   },
   {
    "duration": 255,
    "start_time": "2022-05-24T15:24:22.343Z"
   },
   {
    "duration": 811,
    "start_time": "2022-05-24T15:34:54.127Z"
   },
   {
    "duration": 705,
    "start_time": "2022-05-24T15:36:17.372Z"
   },
   {
    "duration": 172,
    "start_time": "2022-05-24T15:37:47.486Z"
   },
   {
    "duration": 137,
    "start_time": "2022-05-24T15:38:02.728Z"
   },
   {
    "duration": 147,
    "start_time": "2022-05-24T15:40:56.768Z"
   },
   {
    "duration": 132,
    "start_time": "2022-05-24T15:41:09.015Z"
   },
   {
    "duration": 23,
    "start_time": "2022-05-24T15:41:24.662Z"
   },
   {
    "duration": 33,
    "start_time": "2022-05-24T15:43:53.171Z"
   },
   {
    "duration": 33,
    "start_time": "2022-05-24T15:44:26.565Z"
   },
   {
    "duration": 38,
    "start_time": "2022-05-24T15:44:46.502Z"
   },
   {
    "duration": 74,
    "start_time": "2022-05-24T15:56:31.486Z"
   },
   {
    "duration": 11,
    "start_time": "2022-05-24T16:02:06.213Z"
   },
   {
    "duration": 9,
    "start_time": "2022-05-24T16:09:41.461Z"
   },
   {
    "duration": 532,
    "start_time": "2022-05-24T16:09:51.673Z"
   },
   {
    "duration": 6,
    "start_time": "2022-05-24T16:10:35.773Z"
   },
   {
    "duration": 87,
    "start_time": "2022-05-24T16:10:35.781Z"
   },
   {
    "duration": 14,
    "start_time": "2022-05-24T16:10:35.870Z"
   },
   {
    "duration": 24,
    "start_time": "2022-05-24T16:10:35.886Z"
   },
   {
    "duration": 7,
    "start_time": "2022-05-24T16:10:35.912Z"
   },
   {
    "duration": 34,
    "start_time": "2022-05-24T16:10:35.921Z"
   },
   {
    "duration": 0,
    "start_time": "2022-05-24T16:10:35.957Z"
   },
   {
    "duration": 4,
    "start_time": "2022-05-24T16:10:44.486Z"
   },
   {
    "duration": 4,
    "start_time": "2022-05-24T16:11:04.133Z"
   },
   {
    "duration": 5,
    "start_time": "2022-05-24T16:13:16.020Z"
   },
   {
    "duration": 6,
    "start_time": "2022-05-24T16:13:45.709Z"
   },
   {
    "duration": 88,
    "start_time": "2022-05-24T16:14:53.328Z"
   },
   {
    "duration": 31,
    "start_time": "2022-05-24T16:15:06.216Z"
   },
   {
    "duration": 5,
    "start_time": "2022-05-24T16:17:41.782Z"
   },
   {
    "duration": 19,
    "start_time": "2022-05-24T16:21:01.562Z"
   },
   {
    "duration": 10,
    "start_time": "2022-05-24T16:21:50.782Z"
   },
   {
    "duration": 8,
    "start_time": "2022-05-24T16:22:03.269Z"
   },
   {
    "duration": 43,
    "start_time": "2022-05-24T16:23:50.769Z"
   },
   {
    "duration": 89,
    "start_time": "2022-05-24T16:28:01.075Z"
   },
   {
    "duration": 2049,
    "start_time": "2022-05-24T18:28:35.430Z"
   },
   {
    "duration": 318,
    "start_time": "2022-05-24T18:28:37.482Z"
   },
   {
    "duration": 24,
    "start_time": "2022-05-24T18:28:37.805Z"
   },
   {
    "duration": 51,
    "start_time": "2022-05-24T18:28:37.835Z"
   },
   {
    "duration": 16,
    "start_time": "2022-05-24T18:28:37.891Z"
   },
   {
    "duration": 99,
    "start_time": "2022-05-24T18:28:37.912Z"
   },
   {
    "duration": 11,
    "start_time": "2022-05-24T18:28:38.019Z"
   },
   {
    "duration": 284,
    "start_time": "2022-05-24T18:28:38.036Z"
   },
   {
    "duration": 139,
    "start_time": "2022-05-24T18:28:49.694Z"
   },
   {
    "duration": 177,
    "start_time": "2022-05-24T18:29:38.259Z"
   },
   {
    "duration": 60,
    "start_time": "2022-05-24T18:30:46.421Z"
   },
   {
    "duration": 65,
    "start_time": "2022-05-24T18:33:04.785Z"
   },
   {
    "duration": 29,
    "start_time": "2022-05-24T19:20:30.608Z"
   },
   {
    "duration": 23,
    "start_time": "2022-05-24T19:21:23.743Z"
   },
   {
    "duration": 39,
    "start_time": "2022-05-24T19:21:33.501Z"
   },
   {
    "duration": 5,
    "start_time": "2022-05-24T19:29:43.630Z"
   },
   {
    "duration": 106,
    "start_time": "2022-05-24T19:29:43.639Z"
   },
   {
    "duration": 12,
    "start_time": "2022-05-24T19:29:43.747Z"
   },
   {
    "duration": 75,
    "start_time": "2022-05-24T19:29:43.761Z"
   },
   {
    "duration": 9,
    "start_time": "2022-05-24T19:29:43.838Z"
   },
   {
    "duration": 73,
    "start_time": "2022-05-24T19:29:43.850Z"
   },
   {
    "duration": 5,
    "start_time": "2022-05-24T19:29:43.925Z"
   },
   {
    "duration": 68,
    "start_time": "2022-05-24T19:29:43.932Z"
   },
   {
    "duration": 58,
    "start_time": "2022-05-24T19:32:28.485Z"
   },
   {
    "duration": 632,
    "start_time": "2022-05-24T20:09:21.883Z"
   },
   {
    "duration": 301,
    "start_time": "2022-05-24T20:10:34.593Z"
   },
   {
    "duration": 5,
    "start_time": "2022-05-24T20:13:02.883Z"
   },
   {
    "duration": 88,
    "start_time": "2022-05-24T20:13:02.890Z"
   },
   {
    "duration": 15,
    "start_time": "2022-05-24T20:13:02.980Z"
   },
   {
    "duration": 26,
    "start_time": "2022-05-24T20:13:02.996Z"
   },
   {
    "duration": 9,
    "start_time": "2022-05-24T20:13:03.024Z"
   },
   {
    "duration": 57,
    "start_time": "2022-05-24T20:13:03.035Z"
   },
   {
    "duration": 5,
    "start_time": "2022-05-24T20:13:03.094Z"
   },
   {
    "duration": 39,
    "start_time": "2022-05-24T20:13:03.101Z"
   },
   {
    "duration": 302,
    "start_time": "2022-05-24T20:13:07.434Z"
   },
   {
    "duration": 644,
    "start_time": "2022-05-24T20:14:09.640Z"
   },
   {
    "duration": 310,
    "start_time": "2022-05-24T20:14:34.983Z"
   },
   {
    "duration": 127,
    "start_time": "2022-05-24T20:15:50.887Z"
   },
   {
    "duration": 471,
    "start_time": "2022-05-24T20:17:05.503Z"
   },
   {
    "duration": 489,
    "start_time": "2022-05-24T20:18:07.024Z"
   },
   {
    "duration": 1068,
    "start_time": "2022-05-24T20:20:50.461Z"
   },
   {
    "duration": 1167,
    "start_time": "2022-05-24T20:22:58.129Z"
   },
   {
    "duration": 1190,
    "start_time": "2022-05-24T20:23:18.867Z"
   },
   {
    "duration": 1276,
    "start_time": "2022-05-24T20:23:55.605Z"
   },
   {
    "duration": 41,
    "start_time": "2022-05-24T20:30:42.332Z"
   },
   {
    "duration": 114,
    "start_time": "2022-05-24T20:34:50.042Z"
   },
   {
    "duration": 8,
    "start_time": "2022-05-24T20:35:37.460Z"
   },
   {
    "duration": 80,
    "start_time": "2022-05-24T20:35:37.470Z"
   },
   {
    "duration": 11,
    "start_time": "2022-05-24T20:35:37.551Z"
   },
   {
    "duration": 31,
    "start_time": "2022-05-24T20:35:37.564Z"
   },
   {
    "duration": 12,
    "start_time": "2022-05-24T20:35:37.596Z"
   },
   {
    "duration": 31,
    "start_time": "2022-05-24T20:35:37.610Z"
   },
   {
    "duration": 5,
    "start_time": "2022-05-24T20:35:37.642Z"
   },
   {
    "duration": 35,
    "start_time": "2022-05-24T20:35:37.664Z"
   },
   {
    "duration": 1161,
    "start_time": "2022-05-24T20:35:37.701Z"
   },
   {
    "duration": 29,
    "start_time": "2022-05-24T20:37:41.026Z"
   },
   {
    "duration": 20,
    "start_time": "2022-05-24T20:38:50.516Z"
   },
   {
    "duration": 1212,
    "start_time": "2022-05-24T20:39:16.288Z"
   },
   {
    "duration": 1353,
    "start_time": "2022-05-24T20:41:19.598Z"
   },
   {
    "duration": 1438,
    "start_time": "2022-05-24T20:42:58.655Z"
   },
   {
    "duration": 1243,
    "start_time": "2022-05-24T20:46:03.418Z"
   },
   {
    "duration": 1336,
    "start_time": "2022-05-25T01:39:46.374Z"
   },
   {
    "duration": 121,
    "start_time": "2022-05-25T01:39:47.712Z"
   },
   {
    "duration": 13,
    "start_time": "2022-05-25T01:39:47.835Z"
   },
   {
    "duration": 21,
    "start_time": "2022-05-25T01:39:47.850Z"
   },
   {
    "duration": 6,
    "start_time": "2022-05-25T01:39:47.873Z"
   },
   {
    "duration": 56,
    "start_time": "2022-05-25T01:39:47.881Z"
   },
   {
    "duration": 5,
    "start_time": "2022-05-25T01:39:47.938Z"
   },
   {
    "duration": 45,
    "start_time": "2022-05-25T01:39:47.944Z"
   },
   {
    "duration": 1160,
    "start_time": "2022-05-25T01:39:47.991Z"
   },
   {
    "duration": 122,
    "start_time": "2022-05-25T01:53:46.663Z"
   },
   {
    "duration": 31,
    "start_time": "2022-05-25T01:54:41.028Z"
   },
   {
    "duration": 28,
    "start_time": "2022-05-25T01:55:11.584Z"
   },
   {
    "duration": 58,
    "start_time": "2022-05-25T02:07:59.569Z"
   },
   {
    "duration": 57,
    "start_time": "2022-05-25T02:09:25.701Z"
   },
   {
    "duration": 60,
    "start_time": "2022-05-25T02:09:57.992Z"
   },
   {
    "duration": 29,
    "start_time": "2022-05-25T02:11:29.203Z"
   },
   {
    "duration": 4,
    "start_time": "2022-05-25T02:11:50.439Z"
   },
   {
    "duration": 43,
    "start_time": "2022-05-25T02:14:21.367Z"
   },
   {
    "duration": 44,
    "start_time": "2022-05-25T02:15:01.508Z"
   },
   {
    "duration": 1602,
    "start_time": "2022-05-25T14:31:15.184Z"
   },
   {
    "duration": 204,
    "start_time": "2022-05-25T14:31:16.788Z"
   },
   {
    "duration": 14,
    "start_time": "2022-05-25T14:31:16.993Z"
   },
   {
    "duration": 30,
    "start_time": "2022-05-25T14:31:17.009Z"
   },
   {
    "duration": 9,
    "start_time": "2022-05-25T14:31:17.041Z"
   },
   {
    "duration": 61,
    "start_time": "2022-05-25T14:31:17.051Z"
   },
   {
    "duration": 5,
    "start_time": "2022-05-25T14:31:17.113Z"
   },
   {
    "duration": 39,
    "start_time": "2022-05-25T14:31:17.120Z"
   },
   {
    "duration": 1424,
    "start_time": "2022-05-25T14:31:17.161Z"
   },
   {
    "duration": 6,
    "start_time": "2022-05-25T14:31:18.588Z"
   },
   {
    "duration": 62,
    "start_time": "2022-05-25T14:31:18.596Z"
   },
   {
    "duration": 6,
    "start_time": "2022-05-25T14:31:23.855Z"
   },
   {
    "duration": 122,
    "start_time": "2022-05-25T14:31:25.222Z"
   },
   {
    "duration": 6,
    "start_time": "2022-05-25T14:33:25.767Z"
   },
   {
    "duration": 20,
    "start_time": "2022-05-25T14:33:27.627Z"
   },
   {
    "duration": 6,
    "start_time": "2022-05-25T14:38:32.654Z"
   },
   {
    "duration": 14,
    "start_time": "2022-05-25T14:38:34.538Z"
   },
   {
    "duration": 14,
    "start_time": "2022-05-25T14:43:46.753Z"
   },
   {
    "duration": 6,
    "start_time": "2022-05-25T14:43:51.630Z"
   },
   {
    "duration": 28,
    "start_time": "2022-05-25T14:43:53.568Z"
   },
   {
    "duration": 5,
    "start_time": "2022-05-25T14:44:18.703Z"
   },
   {
    "duration": 80,
    "start_time": "2022-05-25T14:44:18.710Z"
   },
   {
    "duration": 14,
    "start_time": "2022-05-25T14:44:18.791Z"
   },
   {
    "duration": 24,
    "start_time": "2022-05-25T14:44:18.807Z"
   },
   {
    "duration": 8,
    "start_time": "2022-05-25T14:44:18.833Z"
   },
   {
    "duration": 60,
    "start_time": "2022-05-25T14:44:18.842Z"
   },
   {
    "duration": 5,
    "start_time": "2022-05-25T14:44:18.904Z"
   },
   {
    "duration": 41,
    "start_time": "2022-05-25T14:44:18.911Z"
   },
   {
    "duration": 1203,
    "start_time": "2022-05-25T14:44:18.955Z"
   },
   {
    "duration": 5,
    "start_time": "2022-05-25T14:44:20.160Z"
   },
   {
    "duration": 67,
    "start_time": "2022-05-25T14:44:20.167Z"
   },
   {
    "duration": 6,
    "start_time": "2022-05-25T14:44:20.236Z"
   },
   {
    "duration": 25,
    "start_time": "2022-05-25T14:44:23.203Z"
   },
   {
    "duration": 24,
    "start_time": "2022-05-25T14:45:40.266Z"
   },
   {
    "duration": 42,
    "start_time": "2022-05-25T14:45:41.858Z"
   },
   {
    "duration": 24,
    "start_time": "2022-05-25T14:45:44.409Z"
   },
   {
    "duration": 7,
    "start_time": "2022-05-25T14:46:03.725Z"
   },
   {
    "duration": 25,
    "start_time": "2022-05-25T14:46:05.340Z"
   },
   {
    "duration": 5,
    "start_time": "2022-05-25T14:46:41.300Z"
   },
   {
    "duration": 89,
    "start_time": "2022-05-25T14:46:41.308Z"
   },
   {
    "duration": 15,
    "start_time": "2022-05-25T14:46:41.457Z"
   },
   {
    "duration": 42,
    "start_time": "2022-05-25T14:46:41.474Z"
   },
   {
    "duration": 8,
    "start_time": "2022-05-25T14:46:41.518Z"
   },
   {
    "duration": 42,
    "start_time": "2022-05-25T14:46:41.527Z"
   },
   {
    "duration": 24,
    "start_time": "2022-05-25T14:46:41.571Z"
   },
   {
    "duration": 40,
    "start_time": "2022-05-25T14:46:41.597Z"
   },
   {
    "duration": 1285,
    "start_time": "2022-05-25T14:46:41.639Z"
   },
   {
    "duration": 4,
    "start_time": "2022-05-25T14:46:42.926Z"
   },
   {
    "duration": 66,
    "start_time": "2022-05-25T14:46:42.932Z"
   },
   {
    "duration": 6,
    "start_time": "2022-05-25T14:46:43.000Z"
   },
   {
    "duration": 46,
    "start_time": "2022-05-25T14:46:43.008Z"
   },
   {
    "duration": 0,
    "start_time": "2022-05-25T14:46:43.055Z"
   },
   {
    "duration": 6,
    "start_time": "2022-05-25T14:47:31.086Z"
   },
   {
    "duration": 14,
    "start_time": "2022-05-25T14:47:32.383Z"
   },
   {
    "duration": 33,
    "start_time": "2022-05-25T14:49:15.274Z"
   },
   {
    "duration": 56,
    "start_time": "2022-05-25T14:50:20.138Z"
   },
   {
    "duration": 10,
    "start_time": "2022-05-25T14:50:38.941Z"
   },
   {
    "duration": 13,
    "start_time": "2022-05-25T14:50:41.366Z"
   },
   {
    "duration": 7,
    "start_time": "2022-05-25T14:50:56.198Z"
   },
   {
    "duration": 16,
    "start_time": "2022-05-25T14:50:57.511Z"
   },
   {
    "duration": 7,
    "start_time": "2022-05-25T14:51:05.484Z"
   },
   {
    "duration": 24,
    "start_time": "2022-05-25T14:51:06.543Z"
   },
   {
    "duration": 5,
    "start_time": "2022-05-25T14:51:35.085Z"
   },
   {
    "duration": 17,
    "start_time": "2022-05-25T14:51:36.723Z"
   },
   {
    "duration": 43,
    "start_time": "2022-05-25T15:15:33.151Z"
   },
   {
    "duration": 5,
    "start_time": "2022-05-25T15:16:12.743Z"
   },
   {
    "duration": 22,
    "start_time": "2022-05-25T15:16:13.699Z"
   },
   {
    "duration": 4,
    "start_time": "2022-05-25T15:29:06.365Z"
   },
   {
    "duration": 19,
    "start_time": "2022-05-25T15:29:07.892Z"
   },
   {
    "duration": 20,
    "start_time": "2022-05-25T15:29:22.823Z"
   },
   {
    "duration": 17,
    "start_time": "2022-05-25T15:31:47.688Z"
   },
   {
    "duration": 46,
    "start_time": "2022-05-25T15:33:32.410Z"
   },
   {
    "duration": 10,
    "start_time": "2022-05-25T16:01:27.387Z"
   },
   {
    "duration": 12,
    "start_time": "2022-05-25T16:01:30.800Z"
   },
   {
    "duration": 5,
    "start_time": "2022-05-25T16:01:44.156Z"
   },
   {
    "duration": 77,
    "start_time": "2022-05-25T16:01:59.275Z"
   },
   {
    "duration": 18,
    "start_time": "2022-05-25T16:02:02.043Z"
   },
   {
    "duration": 22,
    "start_time": "2022-05-25T16:02:04.956Z"
   },
   {
    "duration": 7,
    "start_time": "2022-05-25T16:02:09.612Z"
   },
   {
    "duration": 34,
    "start_time": "2022-05-25T16:02:12.328Z"
   },
   {
    "duration": 5,
    "start_time": "2022-05-25T16:02:15.863Z"
   },
   {
    "duration": 48,
    "start_time": "2022-05-25T16:02:19.543Z"
   },
   {
    "duration": 1126,
    "start_time": "2022-05-25T16:02:22.609Z"
   },
   {
    "duration": 5,
    "start_time": "2022-05-25T16:02:29.593Z"
   },
   {
    "duration": 50,
    "start_time": "2022-05-25T16:02:35.820Z"
   },
   {
    "duration": 6,
    "start_time": "2022-05-25T16:02:41.073Z"
   },
   {
    "duration": 22,
    "start_time": "2022-05-25T16:02:48.451Z"
   },
   {
    "duration": 20,
    "start_time": "2022-05-25T16:02:56.450Z"
   },
   {
    "duration": 35,
    "start_time": "2022-05-25T16:04:39.109Z"
   },
   {
    "duration": 61,
    "start_time": "2022-05-25T16:04:49.899Z"
   },
   {
    "duration": 5,
    "start_time": "2022-05-25T16:08:39.847Z"
   },
   {
    "duration": 76,
    "start_time": "2022-05-25T16:08:39.856Z"
   },
   {
    "duration": 14,
    "start_time": "2022-05-25T16:08:39.934Z"
   },
   {
    "duration": 45,
    "start_time": "2022-05-25T16:08:39.950Z"
   },
   {
    "duration": 8,
    "start_time": "2022-05-25T16:08:39.997Z"
   },
   {
    "duration": 36,
    "start_time": "2022-05-25T16:08:40.007Z"
   },
   {
    "duration": 6,
    "start_time": "2022-05-25T16:08:40.045Z"
   },
   {
    "duration": 68,
    "start_time": "2022-05-25T16:08:40.053Z"
   },
   {
    "duration": 1222,
    "start_time": "2022-05-25T16:08:40.123Z"
   },
   {
    "duration": 5,
    "start_time": "2022-05-25T16:08:41.347Z"
   },
   {
    "duration": 75,
    "start_time": "2022-05-25T16:08:41.354Z"
   },
   {
    "duration": 7,
    "start_time": "2022-05-25T16:08:41.430Z"
   },
   {
    "duration": 19,
    "start_time": "2022-05-25T16:08:46.019Z"
   },
   {
    "duration": 35,
    "start_time": "2022-05-25T16:09:30.582Z"
   },
   {
    "duration": 57,
    "start_time": "2022-05-25T16:09:54.710Z"
   },
   {
    "duration": 3713,
    "start_time": "2022-05-25T16:12:10.498Z"
   },
   {
    "duration": 5,
    "start_time": "2022-05-25T16:22:21.320Z"
   },
   {
    "duration": 3761,
    "start_time": "2022-05-25T16:22:23.486Z"
   },
   {
    "duration": 10,
    "start_time": "2022-05-25T16:25:02.020Z"
   },
   {
    "duration": 7,
    "start_time": "2022-05-25T16:28:37.193Z"
   },
   {
    "duration": 3434,
    "start_time": "2022-05-25T16:28:39.403Z"
   },
   {
    "duration": 9,
    "start_time": "2022-05-25T16:29:50.871Z"
   },
   {
    "duration": 12,
    "start_time": "2022-05-25T16:30:17.549Z"
   },
   {
    "duration": 6,
    "start_time": "2022-05-25T16:33:11.050Z"
   },
   {
    "duration": 3339,
    "start_time": "2022-05-25T16:33:12.770Z"
   },
   {
    "duration": 10,
    "start_time": "2022-05-25T16:33:22.546Z"
   },
   {
    "duration": 9,
    "start_time": "2022-05-25T16:34:28.535Z"
   },
   {
    "duration": 451,
    "start_time": "2022-05-25T16:35:05.965Z"
   },
   {
    "duration": 3,
    "start_time": "2022-05-25T16:41:37.003Z"
   },
   {
    "duration": 32,
    "start_time": "2022-05-25T16:41:39.162Z"
   },
   {
    "duration": 23,
    "start_time": "2022-05-25T16:42:42.168Z"
   },
   {
    "duration": 5,
    "start_time": "2022-05-25T16:43:07.574Z"
   },
   {
    "duration": 3473,
    "start_time": "2022-05-25T16:43:09.022Z"
   },
   {
    "duration": 22,
    "start_time": "2022-05-25T16:43:16.836Z"
   },
   {
    "duration": 27,
    "start_time": "2022-05-25T16:52:09.630Z"
   },
   {
    "duration": 30,
    "start_time": "2022-05-25T16:52:27.309Z"
   },
   {
    "duration": 5,
    "start_time": "2022-05-25T16:56:51.981Z"
   },
   {
    "duration": 3526,
    "start_time": "2022-05-25T16:56:53.828Z"
   },
   {
    "duration": 5,
    "start_time": "2022-05-25T17:02:41.216Z"
   },
   {
    "duration": 3570,
    "start_time": "2022-05-25T17:02:42.592Z"
   },
   {
    "duration": 60,
    "start_time": "2022-05-25T17:47:12.493Z"
   },
   {
    "duration": 12,
    "start_time": "2022-05-25T17:47:33.805Z"
   },
   {
    "duration": 49100,
    "start_time": "2022-05-25T17:47:35.885Z"
   },
   {
    "duration": 12,
    "start_time": "2022-05-25T18:16:57.273Z"
   },
   {
    "duration": 48806,
    "start_time": "2022-05-25T18:16:59.339Z"
   },
   {
    "duration": 8,
    "start_time": "2022-05-25T18:25:42.995Z"
   },
   {
    "duration": 64634,
    "start_time": "2022-05-25T18:25:45.489Z"
   },
   {
    "duration": 8,
    "start_time": "2022-05-25T18:28:33.707Z"
   },
   {
    "duration": 61664,
    "start_time": "2022-05-25T18:28:34.513Z"
   },
   {
    "duration": 9,
    "start_time": "2022-05-25T18:30:26.360Z"
   },
   {
    "duration": 453,
    "start_time": "2022-05-25T18:30:28.165Z"
   },
   {
    "duration": 39,
    "start_time": "2022-05-25T18:33:40.055Z"
   },
   {
    "duration": 9,
    "start_time": "2022-05-25T18:33:59.884Z"
   },
   {
    "duration": 450,
    "start_time": "2022-05-25T18:34:01.057Z"
   },
   {
    "duration": 9,
    "start_time": "2022-05-25T18:34:22.036Z"
   },
   {
    "duration": 453,
    "start_time": "2022-05-25T18:34:23.039Z"
   },
   {
    "duration": 14,
    "start_time": "2022-05-25T18:35:14.589Z"
   },
   {
    "duration": 456,
    "start_time": "2022-05-25T18:35:15.662Z"
   },
   {
    "duration": 9,
    "start_time": "2022-05-25T18:40:08.679Z"
   },
   {
    "duration": 423,
    "start_time": "2022-05-25T18:40:10.627Z"
   },
   {
    "duration": 9,
    "start_time": "2022-05-25T18:40:29.916Z"
   },
   {
    "duration": 447,
    "start_time": "2022-05-25T18:40:30.665Z"
   },
   {
    "duration": 8,
    "start_time": "2022-05-25T18:41:13.389Z"
   },
   {
    "duration": 424,
    "start_time": "2022-05-25T18:41:14.359Z"
   },
   {
    "duration": 8,
    "start_time": "2022-05-25T18:41:30.538Z"
   },
   {
    "duration": 61016,
    "start_time": "2022-05-25T18:41:31.698Z"
   },
   {
    "duration": 8,
    "start_time": "2022-05-25T18:46:48.054Z"
   },
   {
    "duration": 71212,
    "start_time": "2022-05-25T18:46:49.399Z"
   },
   {
    "duration": 9,
    "start_time": "2022-05-25T18:50:10.384Z"
   },
   {
    "duration": 212934,
    "start_time": "2022-05-25T18:50:11.899Z"
   },
   {
    "duration": 9,
    "start_time": "2022-05-25T18:54:25.191Z"
   },
   {
    "duration": 2308562,
    "start_time": "2022-05-25T18:54:31.143Z"
   },
   {
    "duration": 14,
    "start_time": "2022-05-25T23:47:44.392Z"
   },
   {
    "duration": 49,
    "start_time": "2022-05-25T23:47:45.702Z"
   },
   {
    "duration": 1716,
    "start_time": "2022-05-25T23:47:54.698Z"
   },
   {
    "duration": 120,
    "start_time": "2022-05-25T23:47:56.416Z"
   },
   {
    "duration": 13,
    "start_time": "2022-05-25T23:47:56.538Z"
   },
   {
    "duration": 25,
    "start_time": "2022-05-25T23:47:56.553Z"
   },
   {
    "duration": 8,
    "start_time": "2022-05-25T23:47:56.580Z"
   },
   {
    "duration": 36,
    "start_time": "2022-05-25T23:47:56.589Z"
   },
   {
    "duration": 28,
    "start_time": "2022-05-25T23:47:56.627Z"
   },
   {
    "duration": 41,
    "start_time": "2022-05-25T23:47:56.656Z"
   },
   {
    "duration": 1269,
    "start_time": "2022-05-25T23:47:56.699Z"
   },
   {
    "duration": 5,
    "start_time": "2022-05-25T23:47:57.970Z"
   },
   {
    "duration": 49,
    "start_time": "2022-05-25T23:47:57.977Z"
   },
   {
    "duration": 7,
    "start_time": "2022-05-25T23:47:58.028Z"
   },
   {
    "duration": 49,
    "start_time": "2022-05-25T23:47:58.037Z"
   },
   {
    "duration": 74,
    "start_time": "2022-05-25T23:47:58.089Z"
   },
   {
    "duration": 9,
    "start_time": "2022-05-25T23:47:58.165Z"
   },
   {
    "duration": 19267,
    "start_time": "2022-05-25T23:47:58.176Z"
   },
   {
    "duration": 69,
    "start_time": "2022-05-25T23:48:17.451Z"
   },
   {
    "duration": 19441,
    "start_time": "2022-05-25T23:48:38.813Z"
   },
   {
    "duration": 45,
    "start_time": "2022-05-25T23:55:11.842Z"
   },
   {
    "duration": 11,
    "start_time": "2022-05-25T23:55:37.623Z"
   },
   {
    "duration": 383659,
    "start_time": "2022-05-25T23:55:40.637Z"
   },
   {
    "duration": 11,
    "start_time": "2022-05-26T00:02:18.908Z"
   },
   {
    "duration": 425491,
    "start_time": "2022-05-26T00:02:21.084Z"
   },
   {
    "duration": 9,
    "start_time": "2022-05-26T00:10:03.392Z"
   },
   {
    "duration": 19586,
    "start_time": "2022-05-26T00:10:04.587Z"
   },
   {
    "duration": 39,
    "start_time": "2022-05-26T01:12:36.229Z"
   },
   {
    "duration": 35,
    "start_time": "2022-05-26T01:13:31.978Z"
   },
   {
    "duration": 45,
    "start_time": "2022-05-26T01:13:45.163Z"
   },
   {
    "duration": 11,
    "start_time": "2022-05-26T01:20:07.097Z"
   },
   {
    "duration": 69999,
    "start_time": "2022-05-26T01:20:08.070Z"
   },
   {
    "duration": 11,
    "start_time": "2022-05-26T01:21:27.001Z"
   },
   {
    "duration": 0,
    "start_time": "2022-05-26T01:22:22.206Z"
   },
   {
    "duration": 0,
    "start_time": "2022-05-26T01:22:22.207Z"
   },
   {
    "duration": 16,
    "start_time": "2022-05-26T01:22:25.642Z"
   },
   {
    "duration": 42193,
    "start_time": "2022-05-26T01:22:27.369Z"
   },
   {
    "duration": 90,
    "start_time": "2022-05-26T01:23:09.564Z"
   },
   {
    "duration": 12,
    "start_time": "2022-05-26T01:23:16.831Z"
   },
   {
    "duration": 7,
    "start_time": "2022-05-26T01:23:26.138Z"
   },
   {
    "duration": 86,
    "start_time": "2022-05-26T01:23:26.147Z"
   },
   {
    "duration": 12,
    "start_time": "2022-05-26T01:23:26.235Z"
   },
   {
    "duration": 33,
    "start_time": "2022-05-26T01:23:26.249Z"
   },
   {
    "duration": 8,
    "start_time": "2022-05-26T01:23:26.284Z"
   },
   {
    "duration": 37,
    "start_time": "2022-05-26T01:23:26.293Z"
   },
   {
    "duration": 5,
    "start_time": "2022-05-26T01:23:26.332Z"
   },
   {
    "duration": 48,
    "start_time": "2022-05-26T01:23:26.338Z"
   },
   {
    "duration": 1307,
    "start_time": "2022-05-26T01:23:26.388Z"
   },
   {
    "duration": 5,
    "start_time": "2022-05-26T01:23:27.697Z"
   },
   {
    "duration": 69,
    "start_time": "2022-05-26T01:23:27.704Z"
   },
   {
    "duration": 6,
    "start_time": "2022-05-26T01:23:27.775Z"
   },
   {
    "duration": 40,
    "start_time": "2022-05-26T01:23:27.782Z"
   },
   {
    "duration": 64,
    "start_time": "2022-05-26T01:23:27.824Z"
   },
   {
    "duration": 12,
    "start_time": "2022-05-26T01:23:27.889Z"
   },
   {
    "duration": 11,
    "start_time": "2022-05-26T01:23:31.164Z"
   },
   {
    "duration": 19826,
    "start_time": "2022-05-26T01:23:32.640Z"
   },
   {
    "duration": 12,
    "start_time": "2022-05-26T01:24:42.868Z"
   },
   {
    "duration": 24574,
    "start_time": "2022-05-26T01:24:46.300Z"
   },
   {
    "duration": 12,
    "start_time": "2022-05-26T01:40:00.810Z"
   },
   {
    "duration": 10448,
    "start_time": "2022-05-26T01:40:01.518Z"
   },
   {
    "duration": 13,
    "start_time": "2022-05-26T01:40:40.467Z"
   },
   {
    "duration": 19807,
    "start_time": "2022-05-26T01:40:41.265Z"
   },
   {
    "duration": 12,
    "start_time": "2022-05-26T01:42:00.810Z"
   },
   {
    "duration": 21731,
    "start_time": "2022-05-26T01:42:01.040Z"
   },
   {
    "duration": 14,
    "start_time": "2022-05-26T01:42:54.127Z"
   },
   {
    "duration": 19438,
    "start_time": "2022-05-26T01:42:55.219Z"
   },
   {
    "duration": 18,
    "start_time": "2022-05-26T01:43:27.341Z"
   },
   {
    "duration": 19585,
    "start_time": "2022-05-26T01:43:28.766Z"
   },
   {
    "duration": 11,
    "start_time": "2022-05-26T01:44:17.289Z"
   },
   {
    "duration": 19455,
    "start_time": "2022-05-26T01:44:18.112Z"
   },
   {
    "duration": 15,
    "start_time": "2022-05-26T01:45:12.481Z"
   },
   {
    "duration": 28114,
    "start_time": "2022-05-26T01:45:16.750Z"
   },
   {
    "duration": 16,
    "start_time": "2022-05-26T01:46:39.749Z"
   },
   {
    "duration": 387417,
    "start_time": "2022-05-26T01:46:41.172Z"
   },
   {
    "duration": 12,
    "start_time": "2022-05-26T01:54:23.599Z"
   },
   {
    "duration": 247366,
    "start_time": "2022-05-26T01:54:24.908Z"
   },
   {
    "duration": 13,
    "start_time": "2022-05-26T02:02:45.332Z"
   },
   {
    "duration": 11148,
    "start_time": "2022-05-26T02:02:47.120Z"
   },
   {
    "duration": 18,
    "start_time": "2022-05-26T02:04:55.443Z"
   },
   {
    "duration": 95961,
    "start_time": "2022-05-26T02:04:56.114Z"
   },
   {
    "duration": 11,
    "start_time": "2022-05-26T02:07:24.392Z"
   },
   {
    "duration": 786299,
    "start_time": "2022-05-26T02:07:27.188Z"
   },
   {
    "duration": 15,
    "start_time": "2022-05-26T02:22:20.869Z"
   },
   {
    "duration": 16816,
    "start_time": "2022-05-26T02:22:22.053Z"
   },
   {
    "duration": 19,
    "start_time": "2022-05-26T02:40:10.601Z"
   },
   {
    "duration": 34,
    "start_time": "2022-05-26T02:42:17.255Z"
   },
   {
    "duration": 6,
    "start_time": "2022-05-26T02:42:44.022Z"
   },
   {
    "duration": 92,
    "start_time": "2022-05-26T02:42:44.031Z"
   },
   {
    "duration": 18,
    "start_time": "2022-05-26T02:42:44.125Z"
   },
   {
    "duration": 40,
    "start_time": "2022-05-26T02:42:44.146Z"
   },
   {
    "duration": 13,
    "start_time": "2022-05-26T02:42:44.188Z"
   },
   {
    "duration": 44,
    "start_time": "2022-05-26T02:42:44.203Z"
   },
   {
    "duration": 25,
    "start_time": "2022-05-26T02:42:44.249Z"
   },
   {
    "duration": 58,
    "start_time": "2022-05-26T02:42:44.277Z"
   },
   {
    "duration": 1405,
    "start_time": "2022-05-26T02:42:44.337Z"
   },
   {
    "duration": 12,
    "start_time": "2022-05-26T02:42:45.744Z"
   },
   {
    "duration": 73,
    "start_time": "2022-05-26T02:42:45.761Z"
   },
   {
    "duration": 9,
    "start_time": "2022-05-26T02:42:45.836Z"
   },
   {
    "duration": 86,
    "start_time": "2022-05-26T02:42:45.846Z"
   },
   {
    "duration": 82,
    "start_time": "2022-05-26T02:42:45.934Z"
   },
   {
    "duration": 11,
    "start_time": "2022-05-26T02:42:46.019Z"
   },
   {
    "duration": 17136,
    "start_time": "2022-05-26T02:42:46.031Z"
   },
   {
    "duration": 109,
    "start_time": "2022-05-26T02:43:03.169Z"
   },
   {
    "duration": 10,
    "start_time": "2022-05-26T02:47:13.080Z"
   },
   {
    "duration": 16,
    "start_time": "2022-05-26T02:47:36.182Z"
   },
   {
    "duration": 12,
    "start_time": "2022-05-26T02:47:49.387Z"
   },
   {
    "duration": 25,
    "start_time": "2022-05-26T02:49:05.894Z"
   },
   {
    "duration": 29,
    "start_time": "2022-05-26T02:49:26.469Z"
   },
   {
    "duration": 13,
    "start_time": "2022-05-26T02:50:35.722Z"
   },
   {
    "duration": 11312,
    "start_time": "2022-05-26T02:50:39.274Z"
   },
   {
    "duration": 4,
    "start_time": "2022-05-26T02:51:26.294Z"
   },
   {
    "duration": 21,
    "start_time": "2022-05-26T02:52:00.297Z"
   },
   {
    "duration": 11,
    "start_time": "2022-05-26T02:52:47.987Z"
   },
   {
    "duration": 15,
    "start_time": "2022-05-26T04:17:32.667Z"
   },
   {
    "duration": 11268,
    "start_time": "2022-05-26T04:17:36.101Z"
   },
   {
    "duration": 9,
    "start_time": "2022-05-26T04:18:05.774Z"
   },
   {
    "duration": 13,
    "start_time": "2022-05-26T04:19:32.764Z"
   },
   {
    "duration": 11234,
    "start_time": "2022-05-26T04:19:33.433Z"
   },
   {
    "duration": 10,
    "start_time": "2022-05-26T04:20:29.011Z"
   },
   {
    "duration": 11,
    "start_time": "2022-05-26T04:22:41.280Z"
   },
   {
    "duration": 10961,
    "start_time": "2022-05-26T04:22:43.624Z"
   },
   {
    "duration": 4,
    "start_time": "2022-05-26T04:22:58.359Z"
   },
   {
    "duration": 56,
    "start_time": "2022-05-26T04:24:29.267Z"
   },
   {
    "duration": 517,
    "start_time": "2022-05-26T04:24:47.740Z"
   },
   {
    "duration": 6,
    "start_time": "2022-05-26T04:55:19.191Z"
   },
   {
    "duration": 10,
    "start_time": "2022-05-26T04:55:21.728Z"
   },
   {
    "duration": 6,
    "start_time": "2022-05-26T04:55:47.088Z"
   },
   {
    "duration": 11,
    "start_time": "2022-05-26T04:55:49.109Z"
   },
   {
    "duration": 7,
    "start_time": "2022-05-26T04:57:01.316Z"
   },
   {
    "duration": 12248,
    "start_time": "2022-05-26T04:57:02.846Z"
   },
   {
    "duration": 12,
    "start_time": "2022-05-26T05:00:07.971Z"
   },
   {
    "duration": 108,
    "start_time": "2022-05-26T05:00:07.985Z"
   },
   {
    "duration": 14,
    "start_time": "2022-05-26T05:00:08.095Z"
   },
   {
    "duration": 27,
    "start_time": "2022-05-26T05:00:08.111Z"
   },
   {
    "duration": 8,
    "start_time": "2022-05-26T05:00:08.140Z"
   },
   {
    "duration": 71,
    "start_time": "2022-05-26T05:00:08.149Z"
   },
   {
    "duration": 7,
    "start_time": "2022-05-26T05:00:08.221Z"
   },
   {
    "duration": 63,
    "start_time": "2022-05-26T05:00:08.230Z"
   },
   {
    "duration": 1565,
    "start_time": "2022-05-26T05:00:08.294Z"
   },
   {
    "duration": 12,
    "start_time": "2022-05-26T05:00:09.865Z"
   },
   {
    "duration": 55,
    "start_time": "2022-05-26T05:00:09.878Z"
   },
   {
    "duration": 20,
    "start_time": "2022-05-26T05:00:09.935Z"
   },
   {
    "duration": 54,
    "start_time": "2022-05-26T05:00:09.957Z"
   },
   {
    "duration": 86,
    "start_time": "2022-05-26T05:00:10.014Z"
   },
   {
    "duration": 18,
    "start_time": "2022-05-26T05:00:10.103Z"
   },
   {
    "duration": 11837,
    "start_time": "2022-05-26T05:00:10.123Z"
   },
   {
    "duration": 94,
    "start_time": "2022-05-26T05:00:21.962Z"
   },
   {
    "duration": 12426,
    "start_time": "2022-05-26T05:00:22.058Z"
   },
   {
    "duration": 16,
    "start_time": "2022-05-26T05:02:19.752Z"
   },
   {
    "duration": 26200,
    "start_time": "2022-05-26T05:02:27.177Z"
   },
   {
    "duration": 14,
    "start_time": "2022-05-26T05:04:53.376Z"
   },
   {
    "duration": 12378,
    "start_time": "2022-05-26T05:04:55.610Z"
   },
   {
    "duration": 28,
    "start_time": "2022-05-26T05:12:06.800Z"
   },
   {
    "duration": 7,
    "start_time": "2022-05-26T05:12:53.711Z"
   },
   {
    "duration": 56,
    "start_time": "2022-05-26T05:12:56.075Z"
   },
   {
    "duration": 146049,
    "start_time": "2022-05-26T05:13:07.144Z"
   },
   {
    "duration": 12,
    "start_time": "2022-05-26T05:20:53.971Z"
   },
   {
    "duration": 6,
    "start_time": "2022-05-26T05:21:01.677Z"
   },
   {
    "duration": 502067,
    "start_time": "2022-05-26T05:21:03.679Z"
   },
   {
    "duration": 1904,
    "start_time": "2022-05-26T13:17:37.541Z"
   },
   {
    "duration": 151,
    "start_time": "2022-05-26T13:17:39.448Z"
   },
   {
    "duration": 17,
    "start_time": "2022-05-26T13:17:39.600Z"
   },
   {
    "duration": 33,
    "start_time": "2022-05-26T13:17:39.619Z"
   },
   {
    "duration": 20,
    "start_time": "2022-05-26T13:17:39.654Z"
   },
   {
    "duration": 57,
    "start_time": "2022-05-26T13:17:39.677Z"
   },
   {
    "duration": 6,
    "start_time": "2022-05-26T13:17:39.736Z"
   },
   {
    "duration": 63,
    "start_time": "2022-05-26T13:17:39.743Z"
   },
   {
    "duration": 1500,
    "start_time": "2022-05-26T13:17:39.807Z"
   },
   {
    "duration": 7,
    "start_time": "2022-05-26T13:17:41.311Z"
   },
   {
    "duration": 68,
    "start_time": "2022-05-26T13:17:41.320Z"
   },
   {
    "duration": 6,
    "start_time": "2022-05-26T13:17:41.391Z"
   },
   {
    "duration": 46,
    "start_time": "2022-05-26T13:17:41.399Z"
   },
   {
    "duration": 76,
    "start_time": "2022-05-26T13:17:41.446Z"
   },
   {
    "duration": 11,
    "start_time": "2022-05-26T13:17:45.018Z"
   },
   {
    "duration": 31781,
    "start_time": "2022-05-26T13:17:46.311Z"
   },
   {
    "duration": 14,
    "start_time": "2022-05-26T13:22:12.860Z"
   },
   {
    "duration": 29982,
    "start_time": "2022-05-26T13:22:13.786Z"
   },
   {
    "duration": 10,
    "start_time": "2022-05-26T13:25:01.794Z"
   },
   {
    "duration": 32174,
    "start_time": "2022-05-26T13:25:03.102Z"
   },
   {
    "duration": 14,
    "start_time": "2022-05-26T13:27:44.412Z"
   },
   {
    "duration": 32865,
    "start_time": "2022-05-26T13:27:47.218Z"
   },
   {
    "duration": 10,
    "start_time": "2022-05-26T13:29:16.333Z"
   },
   {
    "duration": 35653,
    "start_time": "2022-05-26T13:29:17.222Z"
   },
   {
    "duration": 11,
    "start_time": "2022-05-26T13:30:13.989Z"
   },
   {
    "duration": 34616,
    "start_time": "2022-05-26T13:30:14.559Z"
   },
   {
    "duration": 12,
    "start_time": "2022-05-26T13:31:17.681Z"
   },
   {
    "duration": 10384,
    "start_time": "2022-05-26T13:31:18.988Z"
   },
   {
    "duration": 16,
    "start_time": "2022-05-26T13:37:22.510Z"
   },
   {
    "duration": 17910,
    "start_time": "2022-05-26T13:37:23.783Z"
   },
   {
    "duration": 15,
    "start_time": "2022-05-26T13:39:29.393Z"
   },
   {
    "duration": 19229,
    "start_time": "2022-05-26T13:39:30.376Z"
   },
   {
    "duration": 11,
    "start_time": "2022-05-26T13:41:02.282Z"
   },
   {
    "duration": 18003,
    "start_time": "2022-05-26T13:41:03.392Z"
   },
   {
    "duration": 11,
    "start_time": "2022-05-26T13:43:36.347Z"
   },
   {
    "duration": 18013,
    "start_time": "2022-05-26T13:43:39.678Z"
   },
   {
    "duration": 10,
    "start_time": "2022-05-26T13:44:29.673Z"
   },
   {
    "duration": 23194,
    "start_time": "2022-05-26T13:44:35.995Z"
   },
   {
    "duration": 23698,
    "start_time": "2022-05-26T13:46:15.294Z"
   },
   {
    "duration": 14,
    "start_time": "2022-05-26T13:48:13.560Z"
   },
   {
    "duration": 143590,
    "start_time": "2022-05-26T13:48:14.609Z"
   },
   {
    "duration": 10,
    "start_time": "2022-05-26T13:50:55.398Z"
   },
   {
    "duration": 87512,
    "start_time": "2022-05-26T13:50:56.421Z"
   },
   {
    "duration": 50,
    "start_time": "2022-05-26T15:27:04.326Z"
   },
   {
    "duration": 9,
    "start_time": "2022-05-26T15:28:20.499Z"
   },
   {
    "duration": 19760,
    "start_time": "2022-05-26T15:28:20.510Z"
   },
   {
    "duration": 12,
    "start_time": "2022-05-26T15:29:24.963Z"
   },
   {
    "duration": 35828,
    "start_time": "2022-05-26T15:29:26.183Z"
   },
   {
    "duration": 9,
    "start_time": "2022-05-26T15:31:19.163Z"
   },
   {
    "duration": 21,
    "start_time": "2022-05-26T15:31:20.915Z"
   },
   {
    "duration": 14,
    "start_time": "2022-05-26T15:31:33.825Z"
   },
   {
    "duration": 20,
    "start_time": "2022-05-26T15:31:35.481Z"
   },
   {
    "duration": 10,
    "start_time": "2022-05-26T15:37:56.475Z"
   },
   {
    "duration": 16676,
    "start_time": "2022-05-26T15:37:57.315Z"
   },
   {
    "duration": 9,
    "start_time": "2022-05-26T15:40:16.765Z"
   },
   {
    "duration": 194803,
    "start_time": "2022-05-26T15:40:17.712Z"
   },
   {
    "duration": 12,
    "start_time": "2022-05-26T15:44:57.264Z"
   },
   {
    "duration": 198178,
    "start_time": "2022-05-26T15:44:59.016Z"
   },
   {
    "duration": 12,
    "start_time": "2022-05-26T17:06:04.840Z"
   },
   {
    "duration": 198912,
    "start_time": "2022-05-26T17:06:07.106Z"
   },
   {
    "duration": 14,
    "start_time": "2022-05-26T17:09:57.987Z"
   },
   {
    "duration": 75135,
    "start_time": "2022-05-26T17:10:04.394Z"
   },
   {
    "duration": 16,
    "start_time": "2022-05-26T17:11:23.511Z"
   },
   {
    "duration": 101255,
    "start_time": "2022-05-26T17:11:25.047Z"
   },
   {
    "duration": 12,
    "start_time": "2022-05-26T17:13:10.832Z"
   },
   {
    "duration": 18017,
    "start_time": "2022-05-26T17:13:11.866Z"
   },
   {
    "duration": 12,
    "start_time": "2022-05-26T17:14:33.626Z"
   },
   {
    "duration": 205970,
    "start_time": "2022-05-26T17:14:34.182Z"
   },
   {
    "duration": 11,
    "start_time": "2022-05-26T17:45:46.342Z"
   },
   {
    "duration": 19848,
    "start_time": "2022-05-26T17:45:50.732Z"
   },
   {
    "duration": 12,
    "start_time": "2022-05-26T17:46:40.298Z"
   },
   {
    "duration": 229887,
    "start_time": "2022-05-26T17:46:41.811Z"
   },
   {
    "duration": 16,
    "start_time": "2022-05-26T17:52:28.989Z"
   },
   {
    "duration": 15,
    "start_time": "2022-05-26T17:52:42.642Z"
   },
   {
    "duration": 231865,
    "start_time": "2022-05-26T17:52:55.881Z"
   },
   {
    "duration": 11,
    "start_time": "2022-05-26T18:04:46.720Z"
   },
   {
    "duration": 28,
    "start_time": "2022-05-26T18:04:49.984Z"
   },
   {
    "duration": 30051,
    "start_time": "2022-05-26T18:04:51.246Z"
   },
   {
    "duration": 19,
    "start_time": "2022-05-26T18:05:47.386Z"
   },
   {
    "duration": 48473,
    "start_time": "2022-05-26T18:05:48.160Z"
   },
   {
    "duration": 10,
    "start_time": "2022-05-26T18:06:49.922Z"
   },
   {
    "duration": 24,
    "start_time": "2022-05-26T18:06:54.647Z"
   },
   {
    "duration": 46845,
    "start_time": "2022-05-26T18:06:55.626Z"
   },
   {
    "duration": 12,
    "start_time": "2022-05-26T18:09:32.357Z"
   },
   {
    "duration": 17795,
    "start_time": "2022-05-26T18:09:32.996Z"
   },
   {
    "duration": 11,
    "start_time": "2022-05-26T18:10:39.700Z"
   },
   {
    "duration": 17,
    "start_time": "2022-05-26T18:10:45.483Z"
   },
   {
    "duration": 45636,
    "start_time": "2022-05-26T18:10:47.809Z"
   },
   {
    "duration": 12,
    "start_time": "2022-05-26T18:13:50.045Z"
   },
   {
    "duration": 10,
    "start_time": "2022-05-26T18:14:05.847Z"
   },
   {
    "duration": 18,
    "start_time": "2022-05-26T18:14:09.226Z"
   },
   {
    "duration": 46960,
    "start_time": "2022-05-26T18:14:10.893Z"
   },
   {
    "duration": 16,
    "start_time": "2022-05-26T18:18:10.600Z"
   },
   {
    "duration": 130536,
    "start_time": "2022-05-26T18:18:13.996Z"
   },
   {
    "duration": 10,
    "start_time": "2022-05-26T18:23:03.046Z"
   },
   {
    "duration": 14,
    "start_time": "2022-05-26T18:23:11.185Z"
   },
   {
    "duration": 1087240,
    "start_time": "2022-05-26T18:24:14.267Z"
   },
   {
    "duration": 11,
    "start_time": "2022-05-26T18:44:04.171Z"
   },
   {
    "duration": 19,
    "start_time": "2022-05-26T18:44:08.998Z"
   },
   {
    "duration": 25153511,
    "start_time": "2022-05-26T18:44:09.548Z"
   },
   {
    "duration": 10,
    "start_time": "2022-05-27T01:47:16.277Z"
   },
   {
    "duration": 15,
    "start_time": "2022-05-27T01:48:00.035Z"
   },
   {
    "duration": 143121,
    "start_time": "2022-05-27T01:48:01.199Z"
   },
   {
    "duration": 11,
    "start_time": "2022-05-27T01:52:46.868Z"
   },
   {
    "duration": 110769,
    "start_time": "2022-05-27T01:52:48.280Z"
   },
   {
    "duration": 11,
    "start_time": "2022-05-27T01:54:41.752Z"
   },
   {
    "duration": 38391,
    "start_time": "2022-05-27T01:54:43.291Z"
   },
   {
    "duration": 10,
    "start_time": "2022-05-27T01:55:25.199Z"
   },
   {
    "duration": 25888,
    "start_time": "2022-05-27T01:55:26.705Z"
   },
   {
    "duration": 11,
    "start_time": "2022-05-27T01:56:03.075Z"
   },
   {
    "duration": 545,
    "start_time": "2022-05-27T01:56:03.714Z"
   },
   {
    "duration": 10,
    "start_time": "2022-05-27T01:56:36.499Z"
   },
   {
    "duration": 12562,
    "start_time": "2022-05-27T01:56:37.012Z"
   },
   {
    "duration": 11,
    "start_time": "2022-05-27T01:57:16.437Z"
   },
   {
    "duration": 15,
    "start_time": "2022-05-27T01:57:36.094Z"
   },
   {
    "duration": 443987,
    "start_time": "2022-05-27T01:57:37.405Z"
   },
   {
    "duration": 11,
    "start_time": "2022-05-27T02:07:56.448Z"
   },
   {
    "duration": 13,
    "start_time": "2022-05-27T02:09:46.644Z"
   },
   {
    "duration": 5,
    "start_time": "2022-05-27T02:10:10.146Z"
   },
   {
    "duration": 124,
    "start_time": "2022-05-27T02:10:22.607Z"
   },
   {
    "duration": 130,
    "start_time": "2022-05-27T02:11:38.100Z"
   },
   {
    "duration": 5,
    "start_time": "2022-05-27T02:11:58.093Z"
   },
   {
    "duration": 131,
    "start_time": "2022-05-27T02:12:04.285Z"
   },
   {
    "duration": 125,
    "start_time": "2022-05-27T02:12:31.955Z"
   },
   {
    "duration": 84,
    "start_time": "2022-05-27T02:37:18.655Z"
   },
   {
    "duration": 22,
    "start_time": "2022-05-27T02:37:53.163Z"
   },
   {
    "duration": 6,
    "start_time": "2022-05-27T02:39:14.272Z"
   },
   {
    "duration": 7,
    "start_time": "2022-05-27T02:42:09.954Z"
   },
   {
    "duration": 4,
    "start_time": "2022-05-27T02:42:11.526Z"
   },
   {
    "duration": 567,
    "start_time": "2022-05-27T02:42:17.258Z"
   },
   {
    "duration": 6,
    "start_time": "2022-05-27T02:45:21.273Z"
   },
   {
    "duration": 599,
    "start_time": "2022-05-27T02:45:22.777Z"
   },
   {
    "duration": 31,
    "start_time": "2022-05-27T02:46:58.505Z"
   },
   {
    "duration": 7,
    "start_time": "2022-05-27T02:47:09.662Z"
   },
   {
    "duration": 506,
    "start_time": "2022-05-27T02:47:10.899Z"
   },
   {
    "duration": 6,
    "start_time": "2022-05-27T02:48:05.594Z"
   },
   {
    "duration": 491,
    "start_time": "2022-05-27T02:48:06.192Z"
   },
   {
    "duration": 6,
    "start_time": "2022-05-27T02:49:27.216Z"
   },
   {
    "duration": 520,
    "start_time": "2022-05-27T02:49:28.478Z"
   },
   {
    "duration": 5,
    "start_time": "2022-05-27T02:53:23.855Z"
   },
   {
    "duration": 147,
    "start_time": "2022-05-27T02:53:24.717Z"
   },
   {
    "duration": 6,
    "start_time": "2022-05-27T02:55:04.493Z"
   },
   {
    "duration": 496,
    "start_time": "2022-05-27T02:55:08.090Z"
   },
   {
    "duration": 6,
    "start_time": "2022-05-27T02:55:56.431Z"
   },
   {
    "duration": 139,
    "start_time": "2022-05-27T02:55:57.294Z"
   },
   {
    "duration": 6,
    "start_time": "2022-05-27T02:56:25.918Z"
   },
   {
    "duration": 126,
    "start_time": "2022-05-27T02:56:26.680Z"
   },
   {
    "duration": 6,
    "start_time": "2022-05-27T02:57:22.619Z"
   },
   {
    "duration": 661,
    "start_time": "2022-05-27T02:57:23.386Z"
   },
   {
    "duration": 6,
    "start_time": "2022-05-27T02:57:39.534Z"
   },
   {
    "duration": 518,
    "start_time": "2022-05-27T02:57:40.258Z"
   },
   {
    "duration": 6,
    "start_time": "2022-05-27T02:59:49.866Z"
   },
   {
    "duration": 520,
    "start_time": "2022-05-27T03:00:07.152Z"
   },
   {
    "duration": 526,
    "start_time": "2022-05-27T03:02:52.439Z"
   },
   {
    "duration": 37,
    "start_time": "2022-05-27T03:16:15.866Z"
   },
   {
    "duration": 6,
    "start_time": "2022-05-27T03:16:23.063Z"
   },
   {
    "duration": 7,
    "start_time": "2022-05-27T03:20:11.745Z"
   },
   {
    "duration": 8,
    "start_time": "2022-05-27T03:22:17.160Z"
   },
   {
    "duration": 5,
    "start_time": "2022-05-27T03:29:59.888Z"
   },
   {
    "duration": 14,
    "start_time": "2022-05-27T03:30:06.046Z"
   },
   {
    "duration": 7,
    "start_time": "2022-05-27T03:33:04.502Z"
   },
   {
    "duration": 19,
    "start_time": "2022-05-27T03:33:11.928Z"
   },
   {
    "duration": 7,
    "start_time": "2022-05-27T03:35:10.695Z"
   },
   {
    "duration": 5,
    "start_time": "2022-05-27T03:35:19.845Z"
   },
   {
    "duration": 74,
    "start_time": "2022-05-27T03:35:19.852Z"
   },
   {
    "duration": 14,
    "start_time": "2022-05-27T03:35:19.928Z"
   },
   {
    "duration": 23,
    "start_time": "2022-05-27T03:35:19.943Z"
   },
   {
    "duration": 8,
    "start_time": "2022-05-27T03:35:19.968Z"
   },
   {
    "duration": 34,
    "start_time": "2022-05-27T03:35:19.977Z"
   },
   {
    "duration": 5,
    "start_time": "2022-05-27T03:35:20.013Z"
   },
   {
    "duration": 64,
    "start_time": "2022-05-27T03:35:20.020Z"
   },
   {
    "duration": 1242,
    "start_time": "2022-05-27T03:35:20.086Z"
   },
   {
    "duration": 6,
    "start_time": "2022-05-27T03:35:21.330Z"
   },
   {
    "duration": 69,
    "start_time": "2022-05-27T03:35:21.339Z"
   },
   {
    "duration": 7,
    "start_time": "2022-05-27T03:35:21.410Z"
   },
   {
    "duration": 57,
    "start_time": "2022-05-27T03:35:21.419Z"
   },
   {
    "duration": 58,
    "start_time": "2022-05-27T03:35:21.478Z"
   },
   {
    "duration": 28,
    "start_time": "2022-05-27T03:35:21.537Z"
   },
   {
    "duration": 9,
    "start_time": "2022-05-27T03:35:37.461Z"
   },
   {
    "duration": 18,
    "start_time": "2022-05-27T03:35:46.288Z"
   },
   {
    "duration": 7,
    "start_time": "2022-05-27T03:41:25.097Z"
   },
   {
    "duration": 719,
    "start_time": "2022-05-27T03:41:30.949Z"
   },
   {
    "duration": 606,
    "start_time": "2022-05-27T03:43:17.269Z"
   },
   {
    "duration": 38,
    "start_time": "2022-05-27T03:53:53.504Z"
   },
   {
    "duration": 39,
    "start_time": "2022-05-27T03:55:46.479Z"
   },
   {
    "duration": 5,
    "start_time": "2022-05-27T04:08:28.505Z"
   },
   {
    "duration": 74,
    "start_time": "2022-05-27T04:08:28.512Z"
   },
   {
    "duration": 14,
    "start_time": "2022-05-27T04:08:28.588Z"
   },
   {
    "duration": 24,
    "start_time": "2022-05-27T04:08:28.604Z"
   },
   {
    "duration": 7,
    "start_time": "2022-05-27T04:08:28.630Z"
   },
   {
    "duration": 56,
    "start_time": "2022-05-27T04:08:28.638Z"
   },
   {
    "duration": 5,
    "start_time": "2022-05-27T04:08:28.696Z"
   },
   {
    "duration": 45,
    "start_time": "2022-05-27T04:08:28.702Z"
   },
   {
    "duration": 1247,
    "start_time": "2022-05-27T04:08:28.765Z"
   },
   {
    "duration": 5,
    "start_time": "2022-05-27T04:08:30.014Z"
   },
   {
    "duration": 71,
    "start_time": "2022-05-27T04:08:30.022Z"
   },
   {
    "duration": 7,
    "start_time": "2022-05-27T04:08:30.095Z"
   },
   {
    "duration": 41,
    "start_time": "2022-05-27T04:08:30.104Z"
   },
   {
    "duration": 37,
    "start_time": "2022-05-27T04:08:30.164Z"
   },
   {
    "duration": 37,
    "start_time": "2022-05-27T04:08:30.203Z"
   },
   {
    "duration": 26,
    "start_time": "2022-05-27T04:08:30.241Z"
   },
   {
    "duration": 12,
    "start_time": "2022-05-27T04:08:30.269Z"
   },
   {
    "duration": 426887,
    "start_time": "2022-05-27T04:08:30.282Z"
   },
   {
    "duration": 0,
    "start_time": "2022-05-27T04:15:37.171Z"
   },
   {
    "duration": 0,
    "start_time": "2022-05-27T04:15:37.172Z"
   },
   {
    "duration": 0,
    "start_time": "2022-05-27T04:15:37.173Z"
   },
   {
    "duration": 0,
    "start_time": "2022-05-27T04:15:37.174Z"
   },
   {
    "duration": 5,
    "start_time": "2022-05-27T04:32:01.735Z"
   },
   {
    "duration": 72,
    "start_time": "2022-05-27T04:32:01.744Z"
   },
   {
    "duration": 16,
    "start_time": "2022-05-27T04:32:01.818Z"
   },
   {
    "duration": 36,
    "start_time": "2022-05-27T04:32:01.836Z"
   },
   {
    "duration": 9,
    "start_time": "2022-05-27T04:32:01.874Z"
   },
   {
    "duration": 34,
    "start_time": "2022-05-27T04:32:01.885Z"
   },
   {
    "duration": 6,
    "start_time": "2022-05-27T04:32:01.921Z"
   },
   {
    "duration": 39,
    "start_time": "2022-05-27T04:32:01.965Z"
   },
   {
    "duration": 1319,
    "start_time": "2022-05-27T04:32:02.006Z"
   },
   {
    "duration": 5,
    "start_time": "2022-05-27T04:32:03.326Z"
   },
   {
    "duration": 66,
    "start_time": "2022-05-27T04:32:03.335Z"
   },
   {
    "duration": 6,
    "start_time": "2022-05-27T04:32:03.403Z"
   },
   {
    "duration": 57,
    "start_time": "2022-05-27T04:32:03.411Z"
   },
   {
    "duration": 36,
    "start_time": "2022-05-27T04:32:03.469Z"
   },
   {
    "duration": 36,
    "start_time": "2022-05-27T04:32:03.506Z"
   },
   {
    "duration": 7,
    "start_time": "2022-05-27T04:32:03.565Z"
   },
   {
    "duration": 9,
    "start_time": "2022-05-27T04:32:03.574Z"
   },
   {
    "duration": 1281782,
    "start_time": "2022-05-27T04:32:03.585Z"
   },
   {
    "duration": 1784,
    "start_time": "2022-05-27T04:53:25.370Z"
   },
   {
    "duration": 13,
    "start_time": "2022-05-27T04:53:27.165Z"
   },
   {
    "duration": 932338,
    "start_time": "2022-05-27T04:53:27.180Z"
   },
   {
    "duration": 0,
    "start_time": "2022-05-27T05:08:59.520Z"
   },
   {
    "duration": 4733285,
    "start_time": "2022-05-27T05:09:12.822Z"
   },
   {
    "duration": 25,
    "start_time": "2022-05-27T06:28:06.110Z"
   },
   {
    "duration": 1755,
    "start_time": "2022-05-27T15:42:11.298Z"
   },
   {
    "duration": 370,
    "start_time": "2022-05-27T15:42:13.055Z"
   },
   {
    "duration": 12,
    "start_time": "2022-05-27T15:42:13.427Z"
   },
   {
    "duration": 20,
    "start_time": "2022-05-27T15:42:13.441Z"
   },
   {
    "duration": 7,
    "start_time": "2022-05-27T15:42:13.462Z"
   },
   {
    "duration": 30,
    "start_time": "2022-05-27T15:42:13.470Z"
   },
   {
    "duration": 4,
    "start_time": "2022-05-27T15:42:13.501Z"
   },
   {
    "duration": 65,
    "start_time": "2022-05-27T15:42:13.506Z"
   },
   {
    "duration": 1168,
    "start_time": "2022-05-27T15:42:13.572Z"
   },
   {
    "duration": 5,
    "start_time": "2022-05-27T15:42:14.742Z"
   },
   {
    "duration": 44,
    "start_time": "2022-05-27T15:42:14.748Z"
   },
   {
    "duration": 6,
    "start_time": "2022-05-27T15:42:14.793Z"
   },
   {
    "duration": 40,
    "start_time": "2022-05-27T15:42:14.800Z"
   },
   {
    "duration": 43,
    "start_time": "2022-05-27T15:42:14.842Z"
   },
   {
    "duration": 32,
    "start_time": "2022-05-27T15:42:14.887Z"
   },
   {
    "duration": 6,
    "start_time": "2022-05-27T15:42:14.920Z"
   },
   {
    "duration": 12,
    "start_time": "2022-05-27T15:42:14.928Z"
   },
   {
    "duration": 1216819,
    "start_time": "2022-05-27T15:42:14.941Z"
   },
   {
    "duration": 1782,
    "start_time": "2022-05-27T16:02:31.763Z"
   },
   {
    "duration": 19,
    "start_time": "2022-05-27T16:02:33.547Z"
   },
   {
    "duration": 3024592,
    "start_time": "2022-05-27T16:02:33.568Z"
   },
   {
    "duration": 1801,
    "start_time": "2022-05-27T16:52:58.162Z"
   },
   {
    "duration": 95,
    "start_time": "2022-05-27T16:52:59.966Z"
   },
   {
    "duration": 120,
    "start_time": "2022-05-27T17:29:39.748Z"
   },
   {
    "duration": 5,
    "start_time": "2022-05-27T17:30:01.972Z"
   },
   {
    "duration": 5,
    "start_time": "2022-05-27T17:30:08.850Z"
   },
   {
    "duration": 5,
    "start_time": "2022-05-27T17:30:30.669Z"
   },
   {
    "duration": 202,
    "start_time": "2022-05-27T17:30:54.658Z"
   },
   {
    "duration": 7,
    "start_time": "2022-05-27T17:31:14.677Z"
   },
   {
    "duration": 5,
    "start_time": "2022-05-27T17:31:57.523Z"
   },
   {
    "duration": 6,
    "start_time": "2022-05-27T17:32:21.607Z"
   },
   {
    "duration": 5,
    "start_time": "2022-05-27T17:32:34.282Z"
   },
   {
    "duration": 6,
    "start_time": "2022-05-27T17:33:17.578Z"
   },
   {
    "duration": 6,
    "start_time": "2022-05-27T17:35:43.369Z"
   },
   {
    "duration": 7,
    "start_time": "2022-05-27T17:49:18.096Z"
   },
   {
    "duration": 109,
    "start_time": "2022-05-27T17:49:18.106Z"
   },
   {
    "duration": 13,
    "start_time": "2022-05-27T17:49:18.216Z"
   },
   {
    "duration": 30,
    "start_time": "2022-05-27T17:49:18.230Z"
   },
   {
    "duration": 7,
    "start_time": "2022-05-27T17:49:18.262Z"
   },
   {
    "duration": 31,
    "start_time": "2022-05-27T17:49:18.271Z"
   },
   {
    "duration": 5,
    "start_time": "2022-05-27T17:49:18.303Z"
   },
   {
    "duration": 62,
    "start_time": "2022-05-27T17:49:18.310Z"
   },
   {
    "duration": 1115,
    "start_time": "2022-05-27T17:49:18.373Z"
   },
   {
    "duration": 5,
    "start_time": "2022-05-27T17:49:19.490Z"
   },
   {
    "duration": 62,
    "start_time": "2022-05-27T17:49:19.497Z"
   },
   {
    "duration": 6,
    "start_time": "2022-05-27T17:49:19.561Z"
   },
   {
    "duration": 34,
    "start_time": "2022-05-27T17:49:19.568Z"
   },
   {
    "duration": 31,
    "start_time": "2022-05-27T17:49:19.605Z"
   },
   {
    "duration": 49,
    "start_time": "2022-05-27T17:49:19.638Z"
   },
   {
    "duration": 7,
    "start_time": "2022-05-27T17:49:19.689Z"
   },
   {
    "duration": 9,
    "start_time": "2022-05-27T17:49:19.697Z"
   },
   {
    "duration": 1278996,
    "start_time": "2022-05-27T17:49:19.707Z"
   },
   {
    "duration": 2225,
    "start_time": "2022-05-27T18:10:38.705Z"
   },
   {
    "duration": 39,
    "start_time": "2022-05-27T18:10:40.932Z"
   },
   {
    "duration": 2516597,
    "start_time": "2022-05-27T18:10:40.974Z"
   },
   {
    "duration": 2074,
    "start_time": "2022-05-27T18:52:37.574Z"
   },
   {
    "duration": 13,
    "start_time": "2022-05-27T21:46:57.668Z"
   },
   {
    "duration": 212476,
    "start_time": "2022-05-27T21:46:59.674Z"
   },
   {
    "duration": 14,
    "start_time": "2022-05-27T21:58:46.909Z"
   },
   {
    "duration": 1701726,
    "start_time": "2022-05-27T21:58:53.035Z"
   },
   {
    "duration": 17,
    "start_time": "2022-05-27T22:29:58.908Z"
   },
   {
    "duration": 4,
    "start_time": "2022-05-27T22:31:49.538Z"
   },
   {
    "duration": 66,
    "start_time": "2022-05-27T22:31:49.545Z"
   },
   {
    "duration": 12,
    "start_time": "2022-05-27T22:31:49.613Z"
   },
   {
    "duration": 19,
    "start_time": "2022-05-27T22:31:49.626Z"
   },
   {
    "duration": 17,
    "start_time": "2022-05-27T22:31:49.647Z"
   },
   {
    "duration": 29,
    "start_time": "2022-05-27T22:31:49.666Z"
   },
   {
    "duration": 4,
    "start_time": "2022-05-27T22:31:49.697Z"
   },
   {
    "duration": 33,
    "start_time": "2022-05-27T22:31:49.702Z"
   },
   {
    "duration": 1089,
    "start_time": "2022-05-27T22:31:49.760Z"
   },
   {
    "duration": 11,
    "start_time": "2022-05-27T22:31:50.850Z"
   },
   {
    "duration": 42,
    "start_time": "2022-05-27T22:31:50.863Z"
   },
   {
    "duration": 6,
    "start_time": "2022-05-27T22:31:50.907Z"
   },
   {
    "duration": 54,
    "start_time": "2022-05-27T22:31:50.914Z"
   },
   {
    "duration": 31,
    "start_time": "2022-05-27T22:31:50.970Z"
   },
   {
    "duration": 32,
    "start_time": "2022-05-27T22:31:51.003Z"
   },
   {
    "duration": 26,
    "start_time": "2022-05-27T22:31:51.036Z"
   },
   {
    "duration": 9,
    "start_time": "2022-05-27T22:31:51.064Z"
   },
   {
    "duration": 1211001,
    "start_time": "2022-05-27T22:31:51.074Z"
   },
   {
    "duration": 1765,
    "start_time": "2022-05-27T22:52:02.078Z"
   },
   {
    "duration": 21,
    "start_time": "2022-05-27T22:52:03.845Z"
   },
   {
    "duration": 1666217,
    "start_time": "2022-05-27T22:52:03.867Z"
   },
   {
    "duration": 178,
    "start_time": "2022-05-27T23:19:50.086Z"
   },
   {
    "duration": 10,
    "start_time": "2022-05-27T23:38:39.236Z"
   },
   {
    "duration": 10,
    "start_time": "2022-05-27T23:38:58.223Z"
   },
   {
    "duration": 3,
    "start_time": "2022-05-27T23:40:44.318Z"
   },
   {
    "duration": 4,
    "start_time": "2022-05-27T23:41:08.620Z"
   },
   {
    "duration": 4,
    "start_time": "2022-05-27T23:41:34.846Z"
   },
   {
    "duration": 14,
    "start_time": "2022-05-27T23:50:41.445Z"
   },
   {
    "duration": 445417,
    "start_time": "2022-05-27T23:50:45.244Z"
   },
   {
    "duration": 13,
    "start_time": "2022-05-28T00:03:00.997Z"
   },
   {
    "duration": 890866,
    "start_time": "2022-05-28T00:03:07.044Z"
   },
   {
    "duration": 13,
    "start_time": "2022-05-28T00:20:28.045Z"
   },
   {
    "duration": 1641724,
    "start_time": "2022-05-28T00:20:31.638Z"
   },
   {
    "duration": 1646,
    "start_time": "2022-05-28T00:54:58.797Z"
   },
   {
    "duration": 31,
    "start_time": "2022-05-28T00:58:11.169Z"
   },
   {
    "duration": 13,
    "start_time": "2022-05-28T00:58:24.539Z"
   },
   {
    "duration": 7,
    "start_time": "2022-05-28T00:58:41.319Z"
   },
   {
    "duration": 19,
    "start_time": "2022-05-28T01:09:37.806Z"
   },
   {
    "duration": 20,
    "start_time": "2022-05-28T01:13:18.469Z"
   },
   {
    "duration": 9,
    "start_time": "2022-05-28T01:28:08.217Z"
   },
   {
    "duration": 12,
    "start_time": "2022-05-28T01:30:14.853Z"
   },
   {
    "duration": 533291,
    "start_time": "2022-05-28T01:30:16.975Z"
   },
   {
    "duration": 8,
    "start_time": "2022-05-28T01:41:15.931Z"
   },
   {
    "duration": 11,
    "start_time": "2022-05-28T01:44:05.468Z"
   },
   {
    "duration": 3765346,
    "start_time": "2022-05-28T01:44:11.514Z"
   },
   {
    "duration": 1572,
    "start_time": "2022-05-28T02:57:26.572Z"
   },
   {
    "duration": 26,
    "start_time": "2022-05-28T03:11:54.833Z"
   },
   {
    "duration": 5,
    "start_time": "2022-05-28T03:12:17.488Z"
   },
   {
    "duration": 69,
    "start_time": "2022-05-28T03:12:17.495Z"
   },
   {
    "duration": 12,
    "start_time": "2022-05-28T03:12:17.565Z"
   },
   {
    "duration": 20,
    "start_time": "2022-05-28T03:12:17.579Z"
   },
   {
    "duration": 6,
    "start_time": "2022-05-28T03:12:17.601Z"
   },
   {
    "duration": 58,
    "start_time": "2022-05-28T03:12:17.609Z"
   },
   {
    "duration": 5,
    "start_time": "2022-05-28T03:12:17.668Z"
   },
   {
    "duration": 42,
    "start_time": "2022-05-28T03:12:17.674Z"
   },
   {
    "duration": 1118,
    "start_time": "2022-05-28T03:12:17.718Z"
   },
   {
    "duration": 4,
    "start_time": "2022-05-28T03:12:18.837Z"
   },
   {
    "duration": 54,
    "start_time": "2022-05-28T03:12:18.842Z"
   },
   {
    "duration": 7,
    "start_time": "2022-05-28T03:12:18.897Z"
   },
   {
    "duration": 6,
    "start_time": "2022-05-28T03:12:22.762Z"
   },
   {
    "duration": 586,
    "start_time": "2022-05-28T03:18:14.127Z"
   },
   {
    "duration": 537,
    "start_time": "2022-05-28T03:18:53.123Z"
   },
   {
    "duration": 1539,
    "start_time": "2022-05-28T15:02:35.142Z"
   },
   {
    "duration": 200,
    "start_time": "2022-05-28T15:02:36.683Z"
   },
   {
    "duration": 13,
    "start_time": "2022-05-28T15:02:36.885Z"
   },
   {
    "duration": 46,
    "start_time": "2022-05-28T15:02:36.899Z"
   },
   {
    "duration": 20,
    "start_time": "2022-05-28T15:02:36.947Z"
   },
   {
    "duration": 45,
    "start_time": "2022-05-28T15:02:36.968Z"
   },
   {
    "duration": 7,
    "start_time": "2022-05-28T15:02:37.014Z"
   },
   {
    "duration": 55,
    "start_time": "2022-05-28T15:02:37.022Z"
   },
   {
    "duration": 1194,
    "start_time": "2022-05-28T15:02:37.078Z"
   },
   {
    "duration": 5,
    "start_time": "2022-05-28T15:02:38.274Z"
   },
   {
    "duration": 46,
    "start_time": "2022-05-28T15:02:38.281Z"
   },
   {
    "duration": 7,
    "start_time": "2022-05-28T15:02:38.328Z"
   },
   {
    "duration": 56,
    "start_time": "2022-05-28T15:02:38.336Z"
   },
   {
    "duration": 31,
    "start_time": "2022-05-28T15:02:38.394Z"
   },
   {
    "duration": 41,
    "start_time": "2022-05-28T15:02:38.426Z"
   },
   {
    "duration": 6,
    "start_time": "2022-05-28T15:02:38.468Z"
   },
   {
    "duration": 24,
    "start_time": "2022-05-28T15:02:38.476Z"
   },
   {
    "duration": 609778,
    "start_time": "2022-05-28T15:02:38.501Z"
   },
   {
    "duration": 1979,
    "start_time": "2022-05-28T15:12:48.285Z"
   },
   {
    "duration": 13,
    "start_time": "2022-05-28T15:12:50.266Z"
   },
   {
    "duration": 141,
    "start_time": "2022-05-28T15:12:50.280Z"
   },
   {
    "duration": 0,
    "start_time": "2022-05-28T15:12:50.423Z"
   },
   {
    "duration": 6,
    "start_time": "2022-05-28T15:16:01.506Z"
   },
   {
    "duration": 88,
    "start_time": "2022-05-28T15:16:01.514Z"
   },
   {
    "duration": 18,
    "start_time": "2022-05-28T15:16:01.603Z"
   },
   {
    "duration": 49,
    "start_time": "2022-05-28T15:16:01.623Z"
   },
   {
    "duration": 10,
    "start_time": "2022-05-28T15:16:01.674Z"
   },
   {
    "duration": 101,
    "start_time": "2022-05-28T15:16:01.685Z"
   },
   {
    "duration": 8,
    "start_time": "2022-05-28T15:16:01.787Z"
   },
   {
    "duration": 63,
    "start_time": "2022-05-28T15:16:01.797Z"
   },
   {
    "duration": 1187,
    "start_time": "2022-05-28T15:16:01.862Z"
   },
   {
    "duration": 10,
    "start_time": "2022-05-28T15:16:03.051Z"
   },
   {
    "duration": 52,
    "start_time": "2022-05-28T15:16:03.063Z"
   },
   {
    "duration": 6,
    "start_time": "2022-05-28T15:16:03.117Z"
   },
   {
    "duration": 51,
    "start_time": "2022-05-28T15:16:03.125Z"
   },
   {
    "duration": 33,
    "start_time": "2022-05-28T15:16:03.178Z"
   },
   {
    "duration": 50,
    "start_time": "2022-05-28T15:16:03.213Z"
   },
   {
    "duration": 7,
    "start_time": "2022-05-28T15:16:03.264Z"
   },
   {
    "duration": 19,
    "start_time": "2022-05-28T15:16:03.272Z"
   },
   {
    "duration": 613787,
    "start_time": "2022-05-28T15:16:03.292Z"
   },
   {
    "duration": 1985,
    "start_time": "2022-05-28T15:26:17.081Z"
   },
   {
    "duration": 12,
    "start_time": "2022-05-28T15:26:19.068Z"
   },
   {
    "duration": 1793501,
    "start_time": "2022-05-28T15:26:19.082Z"
   },
   {
    "duration": 2067,
    "start_time": "2022-05-28T15:56:12.585Z"
   },
   {
    "duration": 144,
    "start_time": "2022-05-28T15:56:14.653Z"
   },
   {
    "duration": 1727,
    "start_time": "2022-05-29T14:39:03.848Z"
   },
   {
    "duration": 432,
    "start_time": "2022-05-29T14:39:05.577Z"
   },
   {
    "duration": 14,
    "start_time": "2022-05-29T14:39:06.011Z"
   },
   {
    "duration": 21,
    "start_time": "2022-05-29T14:39:06.027Z"
   },
   {
    "duration": 32,
    "start_time": "2022-05-29T14:39:06.050Z"
   },
   {
    "duration": 35,
    "start_time": "2022-05-29T14:39:06.084Z"
   },
   {
    "duration": 5,
    "start_time": "2022-05-29T14:39:06.121Z"
   },
   {
    "duration": 86,
    "start_time": "2022-05-29T14:39:06.128Z"
   },
   {
    "duration": 1368,
    "start_time": "2022-05-29T14:39:06.217Z"
   },
   {
    "duration": 6,
    "start_time": "2022-05-29T14:39:07.588Z"
   },
   {
    "duration": 52,
    "start_time": "2022-05-29T14:39:07.596Z"
   },
   {
    "duration": 10,
    "start_time": "2022-05-29T14:39:07.651Z"
   },
   {
    "duration": 52,
    "start_time": "2022-05-29T14:39:07.674Z"
   },
   {
    "duration": 62,
    "start_time": "2022-05-29T14:39:07.727Z"
   },
   {
    "duration": 44,
    "start_time": "2022-05-29T14:39:07.793Z"
   },
   {
    "duration": 125,
    "start_time": "2022-05-29T14:40:04.705Z"
   },
   {
    "duration": 22,
    "start_time": "2022-05-29T14:42:09.742Z"
   },
   {
    "duration": 1435,
    "start_time": "2022-07-26T18:17:16.270Z"
   },
   {
    "duration": 108,
    "start_time": "2022-07-26T18:17:17.707Z"
   },
   {
    "duration": 14,
    "start_time": "2022-07-26T18:17:17.816Z"
   },
   {
    "duration": 31,
    "start_time": "2022-07-26T18:17:17.832Z"
   },
   {
    "duration": 8,
    "start_time": "2022-07-26T18:17:17.865Z"
   },
   {
    "duration": 54,
    "start_time": "2022-07-26T18:17:17.874Z"
   },
   {
    "duration": 5,
    "start_time": "2022-07-26T18:17:17.930Z"
   },
   {
    "duration": 37,
    "start_time": "2022-07-26T18:17:17.937Z"
   },
   {
    "duration": 1261,
    "start_time": "2022-07-26T18:17:17.976Z"
   },
   {
    "duration": 5,
    "start_time": "2022-07-26T18:17:19.239Z"
   },
   {
    "duration": 110,
    "start_time": "2022-07-26T18:17:19.246Z"
   },
   {
    "duration": 6,
    "start_time": "2022-07-26T18:17:19.358Z"
   },
   {
    "duration": 42,
    "start_time": "2022-07-26T18:17:19.366Z"
   },
   {
    "duration": 36,
    "start_time": "2022-07-26T18:17:19.424Z"
   },
   {
    "duration": 34,
    "start_time": "2022-07-26T18:17:19.461Z"
   },
   {
    "duration": 27,
    "start_time": "2022-07-26T18:17:19.497Z"
   },
   {
    "duration": 10,
    "start_time": "2022-07-26T18:17:19.525Z"
   },
   {
    "duration": 168110,
    "start_time": "2022-07-26T18:17:19.536Z"
   },
   {
    "duration": 0,
    "start_time": "2022-07-26T18:20:07.648Z"
   },
   {
    "duration": 0,
    "start_time": "2022-07-26T18:20:07.649Z"
   },
   {
    "duration": 0,
    "start_time": "2022-07-26T18:20:07.650Z"
   },
   {
    "duration": 0,
    "start_time": "2022-07-26T18:20:07.652Z"
   },
   {
    "duration": 0,
    "start_time": "2022-07-26T18:20:07.653Z"
   }
  ],
  "kernelspec": {
   "display_name": "Python 3 (ipykernel)",
   "language": "python",
   "name": "python3"
  },
  "language_info": {
   "codemirror_mode": {
    "name": "ipython",
    "version": 3
   },
   "file_extension": ".py",
   "mimetype": "text/x-python",
   "name": "python",
   "nbconvert_exporter": "python",
   "pygments_lexer": "ipython3",
   "version": "3.9.12"
  },
  "toc": {
   "base_numbering": 1,
   "nav_menu": {},
   "number_sections": true,
   "sideBar": true,
   "skip_h1_title": true,
   "title_cell": "Содержание",
   "title_sidebar": "Contents",
   "toc_cell": true,
   "toc_position": {
    "height": "calc(100% - 180px)",
    "left": "10px",
    "top": "150px",
    "width": "165px"
   },
   "toc_section_display": true,
   "toc_window_display": true
  }
 },
 "nbformat": 4,
 "nbformat_minor": 2
}
