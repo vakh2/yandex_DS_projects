{
 "cells": [
  {
   "cell_type": "markdown",
   "metadata": {},
   "source": [
    "# Рекомендация тарифов"
   ]
  },
  {
   "cell_type": "markdown",
   "metadata": {},
   "source": [
    "В вашем распоряжении данные о поведении клиентов, которые уже перешли на эти тарифы (из проекта курса «Статистический анализ данных»). Нужно построить модель для задачи классификации, которая выберет подходящий тариф. Предобработка данных не понадобится — вы её уже сделали.\n",
    "\n",
    "Постройте модель с максимально большим значением *accuracy*. Чтобы сдать проект успешно, нужно довести долю правильных ответов по крайней мере до 0.75. Проверьте *accuracy* на тестовой выборке самостоятельно."
   ]
  },
  {
   "cell_type": "markdown",
   "metadata": {},
   "source": [
    "# Описание проекта"
   ]
  },
  {
   "cell_type": "markdown",
   "metadata": {},
   "source": [
    "Оператор мобильной связи «Мегалайн» выяснил: многие клиенты пользуются архивными тарифами. Они хотят построить систему, способную проанализировать поведение клиентов и предложить пользователям новый тариф: «Смарт» или «Ультра».\n",
    "В вашем распоряжении данные о поведении клиентов, которые уже перешли на эти тарифы (из проекта курса «Статистический анализ данных»). Нужно построить модель для задачи классификации, которая выберет подходящий тариф. Предобработка данных не понадобится — вы её уже сделали.\n",
    "\n",
    "Постройте модель с максимально большим значением accuracy. Чтобы сдать проект успешно, нужно довести долю правильных ответов по крайней мере до 0.75. Проверьте accuracy на тестовой выборке самостоятельно."
   ]
  },
  {
   "cell_type": "markdown",
   "metadata": {},
   "source": [
    "# Описание данных"
   ]
  },
  {
   "cell_type": "markdown",
   "metadata": {},
   "source": [
    "Каждый объект в наборе данных — это информация о поведении одного пользователя за месяц. Известно:\n",
    "* сalls — количество звонков,\n",
    "* minutes — суммарная длительность звонков в минутах,\n",
    "* messages — количество sms-сообщений,\n",
    "* mb_used — израсходованный интернет-трафик в Мб,\n",
    "* is_ultra — каким тарифом пользовался в течение месяца («Ультра» — 1, «Смарт» — 0)."
   ]
  },
  {
   "cell_type": "markdown",
   "metadata": {},
   "source": [
    "## Откроем и изучим файл"
   ]
  },
  {
   "cell_type": "markdown",
   "metadata": {},
   "source": [
    "### Подключим необходимые библиотеки."
   ]
  },
  {
   "cell_type": "code",
   "execution_count": 91,
   "metadata": {},
   "outputs": [],
   "source": [
    "import pandas as pd\n",
    "import numpy as np\n",
    "\n",
    "import random\n",
    "from random import randint\n",
    "\n",
    "import warnings\n",
    "warnings.filterwarnings(action='ignore', category=DataConversionWarning)\n",
    "\n",
    "pd.set_option('display.max_columns', None)\n",
    "\n",
    "from sklearn.tree import DecisionTreeClassifier\n",
    "from sklearn.linear_model import LogisticRegression\n",
    "\n",
    "from sklearn.preprocessing import OrdinalEncoder\n",
    "from sklearn.model_selection import train_test_split\n",
    "from sklearn.ensemble import RandomForestClassifier\n",
    "\n",
    "from sklearn.preprocessing import StandardScaler\n",
    "from sklearn.utils import shuffle\n",
    "from sklearn.exceptions import DataConversionWarning\n",
    "from sklearn.metrics import accuracy_score\n",
    "from sklearn.metrics import precision_score\n",
    "from sklearn.metrics import f1_score\n",
    "from sklearn.metrics import recall_score\n",
    "from sklearn.metrics import f1_score\n",
    "from sklearn.metrics import mean_squared_error"
   ]
  },
  {
   "cell_type": "markdown",
   "metadata": {},
   "source": [
    "### Откроем таблицу, посмотрем внешний вид и изучим общую информацию о данных."
   ]
  },
  {
   "cell_type": "code",
   "execution_count": 92,
   "metadata": {},
   "outputs": [
    {
     "data": {
      "text/html": [
       "<div>\n",
       "<style scoped>\n",
       "    .dataframe tbody tr th:only-of-type {\n",
       "        vertical-align: middle;\n",
       "    }\n",
       "\n",
       "    .dataframe tbody tr th {\n",
       "        vertical-align: top;\n",
       "    }\n",
       "\n",
       "    .dataframe thead th {\n",
       "        text-align: right;\n",
       "    }\n",
       "</style>\n",
       "<table border=\"1\" class=\"dataframe\">\n",
       "  <thead>\n",
       "    <tr style=\"text-align: right;\">\n",
       "      <th></th>\n",
       "      <th>calls</th>\n",
       "      <th>minutes</th>\n",
       "      <th>messages</th>\n",
       "      <th>mb_used</th>\n",
       "      <th>is_ultra</th>\n",
       "    </tr>\n",
       "  </thead>\n",
       "  <tbody>\n",
       "    <tr>\n",
       "      <th>0</th>\n",
       "      <td>40.0</td>\n",
       "      <td>311.90</td>\n",
       "      <td>83.0</td>\n",
       "      <td>19915.42</td>\n",
       "      <td>0</td>\n",
       "    </tr>\n",
       "    <tr>\n",
       "      <th>1</th>\n",
       "      <td>85.0</td>\n",
       "      <td>516.75</td>\n",
       "      <td>56.0</td>\n",
       "      <td>22696.96</td>\n",
       "      <td>0</td>\n",
       "    </tr>\n",
       "    <tr>\n",
       "      <th>2</th>\n",
       "      <td>77.0</td>\n",
       "      <td>467.66</td>\n",
       "      <td>86.0</td>\n",
       "      <td>21060.45</td>\n",
       "      <td>0</td>\n",
       "    </tr>\n",
       "    <tr>\n",
       "      <th>3</th>\n",
       "      <td>106.0</td>\n",
       "      <td>745.53</td>\n",
       "      <td>81.0</td>\n",
       "      <td>8437.39</td>\n",
       "      <td>1</td>\n",
       "    </tr>\n",
       "    <tr>\n",
       "      <th>4</th>\n",
       "      <td>66.0</td>\n",
       "      <td>418.74</td>\n",
       "      <td>1.0</td>\n",
       "      <td>14502.75</td>\n",
       "      <td>0</td>\n",
       "    </tr>\n",
       "    <tr>\n",
       "      <th>5</th>\n",
       "      <td>58.0</td>\n",
       "      <td>344.56</td>\n",
       "      <td>21.0</td>\n",
       "      <td>15823.37</td>\n",
       "      <td>0</td>\n",
       "    </tr>\n",
       "    <tr>\n",
       "      <th>6</th>\n",
       "      <td>57.0</td>\n",
       "      <td>431.64</td>\n",
       "      <td>20.0</td>\n",
       "      <td>3738.90</td>\n",
       "      <td>1</td>\n",
       "    </tr>\n",
       "    <tr>\n",
       "      <th>7</th>\n",
       "      <td>15.0</td>\n",
       "      <td>132.40</td>\n",
       "      <td>6.0</td>\n",
       "      <td>21911.60</td>\n",
       "      <td>0</td>\n",
       "    </tr>\n",
       "    <tr>\n",
       "      <th>8</th>\n",
       "      <td>7.0</td>\n",
       "      <td>43.39</td>\n",
       "      <td>3.0</td>\n",
       "      <td>2538.67</td>\n",
       "      <td>1</td>\n",
       "    </tr>\n",
       "    <tr>\n",
       "      <th>9</th>\n",
       "      <td>90.0</td>\n",
       "      <td>665.41</td>\n",
       "      <td>38.0</td>\n",
       "      <td>17358.61</td>\n",
       "      <td>0</td>\n",
       "    </tr>\n",
       "  </tbody>\n",
       "</table>\n",
       "</div>"
      ],
      "text/plain": [
       "   calls  minutes  messages   mb_used  is_ultra\n",
       "0   40.0   311.90      83.0  19915.42         0\n",
       "1   85.0   516.75      56.0  22696.96         0\n",
       "2   77.0   467.66      86.0  21060.45         0\n",
       "3  106.0   745.53      81.0   8437.39         1\n",
       "4   66.0   418.74       1.0  14502.75         0\n",
       "5   58.0   344.56      21.0  15823.37         0\n",
       "6   57.0   431.64      20.0   3738.90         1\n",
       "7   15.0   132.40       6.0  21911.60         0\n",
       "8    7.0    43.39       3.0   2538.67         1\n",
       "9   90.0   665.41      38.0  17358.61         0"
      ]
     },
     "metadata": {},
     "output_type": "display_data"
    },
    {
     "name": "stdout",
     "output_type": "stream",
     "text": [
      "<class 'pandas.core.frame.DataFrame'>\n",
      "RangeIndex: 3214 entries, 0 to 3213\n",
      "Data columns (total 5 columns):\n",
      " #   Column    Non-Null Count  Dtype  \n",
      "---  ------    --------------  -----  \n",
      " 0   calls     3214 non-null   float64\n",
      " 1   minutes   3214 non-null   float64\n",
      " 2   messages  3214 non-null   float64\n",
      " 3   mb_used   3214 non-null   float64\n",
      " 4   is_ultra  3214 non-null   int64  \n",
      "dtypes: float64(4), int64(1)\n",
      "memory usage: 125.7 KB\n"
     ]
    }
   ],
   "source": [
    "df = pd.read_csv('/datasets/users_behavior.csv')\n",
    "\n",
    "\n",
    "display(df.head(10))\n",
    "df.info()"
   ]
  },
  {
   "cell_type": "markdown",
   "metadata": {},
   "source": [
    "### **Вывод:**\n",
    "Предобработка данных не требуется."
   ]
  },
  {
   "cell_type": "markdown",
   "metadata": {},
   "source": [
    "## Разберем данные на выборки"
   ]
  },
  {
   "cell_type": "markdown",
   "metadata": {},
   "source": [
    "### Разделим наш набор данных на  features (признаки) и target (целевой признак), где целевой признак это 'is_ultra' "
   ]
  },
  {
   "cell_type": "code",
   "execution_count": 93,
   "metadata": {},
   "outputs": [
    {
     "name": "stdout",
     "output_type": "stream",
     "text": [
      "Размер target 3214\n",
      "Размер features 3214\n",
      "Соотношение меток 1 и 0 в таргете: 2.2629441624365483\n"
     ]
    }
   ],
   "source": [
    "target = df['is_ultra']\n",
    "features = df.drop('is_ultra', axis=1)\n",
    "print('Размер target', target.shape[0])\n",
    "print('Размер features', features.shape[0])\n",
    "\n",
    "print('Соотношение меток 1 и 0 в таргете:', target[target == 0].count() / target[target == 1].count())      "
   ]
  },
  {
   "cell_type": "markdown",
   "metadata": {},
   "source": [
    "### Данные разобъем на три части: обучающую, валидационную и тестовую. Размеры тестового и валидационного наборов обычно равны. Исходные данные разбивают в соотношении 3:1:1"
   ]
  },
  {
   "cell_type": "code",
   "execution_count": 94,
   "metadata": {},
   "outputs": [
    {
     "name": "stdout",
     "output_type": "stream",
     "text": [
      "Размер обучающей выборки 1928\n",
      "Размер валидационной выборки 643\n",
      "Размер тестовой выборки 643\n",
      "Соотношение меток 1 и 0 в target_valid: 2.263959390862944\n",
      "Соотношение меток 1 и 0 в target_test: 2.263959390862944\n",
      "Количество 0 в таргете: 446\n",
      "Количество 1 в таргете: 197\n"
     ]
    }
   ],
   "source": [
    "features_train, features_df, target_train, target_df = train_test_split(features, target\n",
    "                                                                              , test_size=0.40\n",
    "                                                                              , random_state=12345\n",
    "                                                                              , stratify=target )\n",
    "features_test, features_valid, target_test, target_valid = train_test_split(features_df, target_df\n",
    "                                                                              , test_size=0.50\n",
    "                                                                              , random_state=12345\n",
    "                                                                              , stratify=target_df)\n",
    "\n",
    "print('Размер обучающей выборки', features_train.shape[0])\n",
    "print('Размер валидационной выборки', features_valid.shape[0])\n",
    "print('Размер тестовой выборки', features_test.shape[0])\n",
    "\n",
    "print('Соотношение меток 1 и 0 в target_valid:'\n",
    "      , target_valid[target_valid == 0].count() / target_valid[target_valid == 1].count())\n",
    "print('Соотношение меток 1 и 0 в target_test:'\n",
    "      , target_test[target_test == 0].count() / target_test[target_test == 1].count())\n",
    "\n",
    "print('Количество 0 в таргете:', target_test[target_test == 0].count())\n",
    "print('Количество 1 в таргете:', target_test[target_test == 1].count())\n"
   ]
  },
  {
   "cell_type": "markdown",
   "metadata": {},
   "source": [
    "### **Вывод:**\n",
    "* Сохранили соотношение меток 1 и 0 в таргете\n",
    "* Данные готовы для исследования."
   ]
  },
  {
   "cell_type": "markdown",
   "metadata": {},
   "source": [
    "## Исследуем модели"
   ]
  },
  {
   "cell_type": "markdown",
   "metadata": {},
   "source": [
    "### Модель классификатора дерева решений"
   ]
  },
  {
   "cell_type": "markdown",
   "metadata": {},
   "source": [
    "Напишем блок, который перебором, меняя гиперпараметры ищет accuracy лучшей модели."
   ]
  },
  {
   "cell_type": "code",
   "execution_count": 95,
   "metadata": {},
   "outputs": [
    {
     "name": "stdout",
     "output_type": "stream",
     "text": [
      "Accuracy модели: 0.7293934681181959 при глубине дерева: 1 , criterion= gini , splitter= best\n",
      "Accuracy модели: 0.6936236391912908 при глубине дерева: 1 , criterion= gini , splitter= random\n",
      "Accuracy модели: 0.7293934681181959 при глубине дерева: 1 , criterion= entropy , splitter= best\n",
      "Accuracy модели: 0.6936236391912908 при глубине дерева: 1 , criterion= entropy , splitter= random\n",
      "Accuracy модели: 0.7682737169517885 при глубине дерева: 2 , criterion= gini , splitter= best\n",
      "Accuracy модели: 0.7153965785381027 при глубине дерева: 2 , criterion= gini , splitter= random\n",
      "Accuracy модели: 0.7682737169517885 при глубине дерева: 2 , criterion= entropy , splitter= best\n",
      "Accuracy модели: 0.7153965785381027 при глубине дерева: 2 , criterion= entropy , splitter= random\n",
      "Accuracy модели: 0.7993779160186625 при глубине дерева: 3 , criterion= gini , splitter= best\n",
      "Accuracy модели: 0.7247278382581649 при глубине дерева: 3 , criterion= gini , splitter= random\n",
      "Accuracy модели: 0.7993779160186625 при глубине дерева: 3 , criterion= entropy , splitter= best\n",
      "Accuracy модели: 0.7247278382581649 при глубине дерева: 3 , criterion= entropy , splitter= random\n",
      "Accuracy модели: 0.7744945567651633 при глубине дерева: 4 , criterion= gini , splitter= best\n",
      "Accuracy модели: 0.7589424572317263 при глубине дерева: 4 , criterion= gini , splitter= random\n",
      "Accuracy модели: 0.7776049766718507 при глубине дерева: 4 , criterion= entropy , splitter= best\n",
      "Accuracy модели: 0.7589424572317263 при глубине дерева: 4 , criterion= entropy , splitter= random\n",
      "Accuracy модели: 0.8118195956454122 при глубине дерева: 5 , criterion= gini , splitter= best\n",
      "Accuracy модели: 0.7807153965785381 при глубине дерева: 5 , criterion= gini , splitter= random\n",
      "Accuracy модели: 0.8087091757387247 при глубине дерева: 5 , criterion= entropy , splitter= best\n",
      "Accuracy модели: 0.7807153965785381 при глубине дерева: 5 , criterion= entropy , splitter= random\n",
      "Accuracy модели: 0.7993779160186625 при глубине дерева: 6 , criterion= gini , splitter= best\n",
      "Accuracy модели: 0.7900466562986003 при глубине дерева: 6 , criterion= gini , splitter= random\n",
      "Accuracy модели: 0.7978227060653188 при глубине дерева: 6 , criterion= entropy , splitter= best\n",
      "Accuracy модели: 0.7962674961119751 при глубине дерева: 6 , criterion= entropy , splitter= random\n",
      "Accuracy модели: 0.7978227060653188 при глубине дерева: 7 , criterion= gini , splitter= best\n",
      "Accuracy модели: 0.8118195956454122 при глубине дерева: 7 , criterion= gini , splitter= random\n",
      "Accuracy модели: 0.7993779160186625 при глубине дерева: 7 , criterion= entropy , splitter= best\n",
      "Accuracy модели: 0.8118195956454122 при глубине дерева: 7 , criterion= entropy , splitter= random\n",
      "Accuracy модели: 0.7838258164852255 при глубине дерева: 8 , criterion= gini , splitter= best\n",
      "Accuracy модели: 0.7791601866251944 при глубине дерева: 8 , criterion= gini , splitter= random\n",
      "Accuracy модели: 0.8040435458786936 при глубине дерева: 8 , criterion= entropy , splitter= best\n",
      "Accuracy модели: 0.7931570762052877 при глубине дерева: 8 , criterion= entropy , splitter= random\n",
      "Accuracy модели: 0.7947122861586314 при глубине дерева: 9 , criterion= gini , splitter= best\n",
      "Accuracy модели: 0.7791601866251944 при глубине дерева: 9 , criterion= gini , splitter= random\n",
      "Accuracy модели: 0.80248833592535 при глубине дерева: 9 , criterion= entropy , splitter= best\n",
      "Accuracy модели: 0.7900466562986003 при глубине дерева: 9 , criterion= entropy , splitter= random\n",
      "Accuracy модели: 0.80248833592535 при глубине дерева: 10 , criterion= gini , splitter= best\n",
      "Accuracy модели: 0.7713841368584758 при глубине дерева: 10 , criterion= gini , splitter= random\n",
      "Accuracy модели: 0.8040435458786936 при глубине дерева: 10 , criterion= entropy , splitter= best\n",
      "Accuracy модели: 0.7791601866251944 при глубине дерева: 10 , criterion= entropy , splitter= random\n",
      "Accuracy модели: 0.7807153965785381 при глубине дерева: 11 , criterion= gini , splitter= best\n",
      "Accuracy модели: 0.7962674961119751 при глубине дерева: 11 , criterion= gini , splitter= random\n",
      "Accuracy модели: 0.7947122861586314 при глубине дерева: 11 , criterion= entropy , splitter= best\n",
      "Accuracy модели: 0.7916018662519441 при глубине дерева: 11 , criterion= entropy , splitter= random\n",
      "Accuracy модели: 0.7682737169517885 при глубине дерева: 12 , criterion= gini , splitter= best\n",
      "Accuracy модели: 0.8009331259720062 при глубине дерева: 12 , criterion= gini , splitter= random\n",
      "Accuracy модели: 0.7947122861586314 при глубине дерева: 12 , criterion= entropy , splitter= best\n",
      "Accuracy модели: 0.7791601866251944 при глубине дерева: 12 , criterion= entropy , splitter= random\n",
      "Accuracy модели: 0.7589424572317263 при глубине дерева: 13 , criterion= gini , splitter= best\n",
      "Accuracy модели: 0.7791601866251944 при глубине дерева: 13 , criterion= gini , splitter= random\n",
      "Accuracy модели: 0.7807153965785381 при глубине дерева: 13 , criterion= entropy , splitter= best\n",
      "Accuracy модели: 0.7822706065318819 при глубине дерева: 13 , criterion= entropy , splitter= random\n",
      "Accuracy модели: 0.7402799377916018 при глубине дерева: 14 , criterion= gini , splitter= best\n",
      "Accuracy модели: 0.7480559875583204 при глубине дерева: 14 , criterion= gini , splitter= random\n",
      "Accuracy модели: 0.7807153965785381 при глубине дерева: 14 , criterion= entropy , splitter= best\n",
      "Accuracy модели: 0.7729393468118196 при глубине дерева: 14 , criterion= entropy , splitter= random\n",
      "Accuracy модели: 0.7402799377916018 при глубине дерева: 15 , criterion= gini , splitter= best\n",
      "Accuracy модели: 0.7651632970451011 при глубине дерева: 15 , criterion= gini , splitter= random\n",
      "Accuracy модели: 0.7744945567651633 при глубине дерева: 15 , criterion= entropy , splitter= best\n",
      "Accuracy модели: 0.7744945567651633 при глубине дерева: 15 , criterion= entropy , splitter= random\n",
      "Accuracy модели: 0.7278382581648523 при глубине дерева: 16 , criterion= gini , splitter= best\n",
      "Accuracy модели: 0.7667185069984448 при глубине дерева: 16 , criterion= gini , splitter= random\n",
      "Accuracy модели: 0.7589424572317263 при глубине дерева: 16 , criterion= entropy , splitter= best\n",
      "Accuracy модели: 0.7511664074650077 при глубине дерева: 16 , criterion= entropy , splitter= random\n",
      "Accuracy модели: 0.7371695178849145 при глубине дерева: 17 , criterion= gini , splitter= best\n",
      "Accuracy модели: 0.7838258164852255 при глубине дерева: 17 , criterion= gini , splitter= random\n",
      "Accuracy модели: 0.7480559875583204 при глубине дерева: 17 , criterion= entropy , splitter= best\n",
      "Accuracy модели: 0.7480559875583204 при глубине дерева: 17 , criterion= entropy , splitter= random\n",
      "Accuracy модели: 0.7309486780715396 при глубине дерева: 18 , criterion= gini , splitter= best\n",
      "Accuracy модели: 0.7340590979782271 при глубине дерева: 18 , criterion= gini , splitter= random\n",
      "Accuracy модели: 0.7433903576982893 при глубине дерева: 18 , criterion= entropy , splitter= best\n",
      "Accuracy модели: 0.76049766718507 при глубине дерева: 18 , criterion= entropy , splitter= random\n",
      "Accuracy модели: 0.7200622083981337 при глубине дерева: 19 , criterion= gini , splitter= best\n",
      "Accuracy модели: 0.7153965785381027 при глубине дерева: 19 , criterion= gini , splitter= random\n",
      "Accuracy модели: 0.7418351477449455 при глубине дерева: 19 , criterion= entropy , splitter= best\n",
      "Accuracy модели: 0.7433903576982893 при глубине дерева: 19 , criterion= entropy , splitter= random\n",
      "Accuracy модели: 0.7200622083981337 при глубине дерева: 20 , criterion= gini , splitter= best\n",
      "Accuracy модели: 0.7122861586314152 при глубине дерева: 20 , criterion= gini , splitter= random\n",
      "Accuracy модели: 0.7418351477449455 при глубине дерева: 20 , criterion= entropy , splitter= best\n",
      "Accuracy модели: 0.7309486780715396 при глубине дерева: 20 , criterion= entropy , splitter= random\n",
      "Accuracy модели: 0.7247278382581649 при глубине дерева: 21 , criterion= gini , splitter= best\n",
      "Accuracy модели: 0.7076205287713841 при глубине дерева: 21 , criterion= gini , splitter= random\n",
      "Accuracy модели: 0.7340590979782271 при глубине дерева: 21 , criterion= entropy , splitter= best\n",
      "Accuracy модели: 0.7231726283048211 при глубине дерева: 21 , criterion= entropy , splitter= random\n",
      "Accuracy модели: 0.7247278382581649 при глубине дерева: 22 , criterion= gini , splitter= best\n",
      "Accuracy модели: 0.7278382581648523 при глубине дерева: 22 , criterion= gini , splitter= random\n",
      "Accuracy модели: 0.7340590979782271 при глубине дерева: 22 , criterion= entropy , splitter= best\n",
      "Accuracy модели: 0.7356143079315708 при глубине дерева: 22 , criterion= entropy , splitter= random\n",
      "Accuracy модели: 0.7247278382581649 при глубине дерева: 23 , criterion= gini , splitter= best\n",
      "Accuracy модели: 0.7231726283048211 при глубине дерева: 23 , criterion= gini , splitter= random\n",
      "Accuracy модели: 0.7402799377916018 при глубине дерева: 23 , criterion= entropy , splitter= best\n",
      "Accuracy модели: 0.7527216174183515 при глубине дерева: 23 , criterion= entropy , splitter= random\n",
      "Accuracy модели: 0.7247278382581649 при глубине дерева: 24 , criterion= gini , splitter= best\n",
      "Accuracy модели: 0.7231726283048211 при глубине дерева: 24 , criterion= gini , splitter= random\n",
      "Accuracy модели: 0.7371695178849145 при глубине дерева: 24 , criterion= entropy , splitter= best\n",
      "Accuracy модели: 0.7076205287713841 при глубине дерева: 24 , criterion= entropy , splitter= random\n",
      "Accuracy модели: 0.7247278382581649 при глубине дерева: 25 , criterion= gini , splitter= best\n",
      "Accuracy модели: 0.7045101088646968 при глубине дерева: 25 , criterion= gini , splitter= random\n",
      "Accuracy модели: 0.7293934681181959 при глубине дерева: 25 , criterion= entropy , splitter= best\n",
      "Accuracy модели: 0.7356143079315708 при глубине дерева: 25 , criterion= entropy , splitter= random\n",
      "Accuracy модели: 0.7247278382581649 при глубине дерева: 26 , criterion= gini , splitter= best\n",
      "Accuracy модели: 0.7045101088646968 при глубине дерева: 26 , criterion= gini , splitter= random\n",
      "Accuracy модели: 0.7340590979782271 при глубине дерева: 26 , criterion= entropy , splitter= best\n",
      "Accuracy модели: 0.7356143079315708 при глубине дерева: 26 , criterion= entropy , splitter= random\n",
      "Accuracy модели: 0.7247278382581649 при глубине дерева: 27 , criterion= gini , splitter= best\n",
      "Accuracy модели: 0.7045101088646968 при глубине дерева: 27 , criterion= gini , splitter= random\n",
      "Accuracy модели: 0.7371695178849145 при глубине дерева: 27 , criterion= entropy , splitter= best\n",
      "Accuracy модели: 0.7356143079315708 при глубине дерева: 27 , criterion= entropy , splitter= random\n",
      "Accuracy модели: 0.7247278382581649 при глубине дерева: 28 , criterion= gini , splitter= best\n",
      "Accuracy модели: 0.7045101088646968 при глубине дерева: 28 , criterion= gini , splitter= random\n",
      "Accuracy модели: 0.7371695178849145 при глубине дерева: 28 , criterion= entropy , splitter= best\n",
      "Accuracy модели: 0.7356143079315708 при глубине дерева: 28 , criterion= entropy , splitter= random\n",
      "Accuracy модели: 0.7247278382581649 при глубине дерева: 29 , criterion= gini , splitter= best\n",
      "Accuracy модели: 0.7045101088646968 при глубине дерева: 29 , criterion= gini , splitter= random\n",
      "Accuracy модели: 0.7371695178849145 при глубине дерева: 29 , criterion= entropy , splitter= best\n",
      "Accuracy модели: 0.7356143079315708 при глубине дерева: 29 , criterion= entropy , splitter= random\n",
      "Accuracy модели: 0.7247278382581649 при глубине дерева: 30 , criterion= gini , splitter= best\n",
      "Accuracy модели: 0.7045101088646968 при глубине дерева: 30 , criterion= gini , splitter= random\n",
      "Accuracy модели: 0.7371695178849145 при глубине дерева: 30 , criterion= entropy , splitter= best\n",
      "Accuracy модели: 0.7356143079315708 при глубине дерева: 30 , criterion= entropy , splitter= random\n",
      "Accuracy модели: 0.7247278382581649 при глубине дерева: 31 , criterion= gini , splitter= best\n",
      "Accuracy модели: 0.7045101088646968 при глубине дерева: 31 , criterion= gini , splitter= random\n",
      "Accuracy модели: 0.7371695178849145 при глубине дерева: 31 , criterion= entropy , splitter= best\n",
      "Accuracy модели: 0.7356143079315708 при глубине дерева: 31 , criterion= entropy , splitter= random\n",
      "Accuracy модели: 0.7247278382581649 при глубине дерева: 32 , criterion= gini , splitter= best\n",
      "Accuracy модели: 0.7045101088646968 при глубине дерева: 32 , criterion= gini , splitter= random\n",
      "Accuracy модели: 0.7371695178849145 при глубине дерева: 32 , criterion= entropy , splitter= best\n",
      "Accuracy модели: 0.7356143079315708 при глубине дерева: 32 , criterion= entropy , splitter= random\n",
      "Accuracy модели: 0.7247278382581649 при глубине дерева: 33 , criterion= gini , splitter= best\n",
      "Accuracy модели: 0.7045101088646968 при глубине дерева: 33 , criterion= gini , splitter= random\n",
      "Accuracy модели: 0.7371695178849145 при глубине дерева: 33 , criterion= entropy , splitter= best\n",
      "Accuracy модели: 0.7356143079315708 при глубине дерева: 33 , criterion= entropy , splitter= random\n",
      "Accuracy модели: 0.7247278382581649 при глубине дерева: 34 , criterion= gini , splitter= best\n",
      "Accuracy модели: 0.7045101088646968 при глубине дерева: 34 , criterion= gini , splitter= random\n",
      "Accuracy модели: 0.7371695178849145 при глубине дерева: 34 , criterion= entropy , splitter= best\n",
      "Accuracy модели: 0.7356143079315708 при глубине дерева: 34 , criterion= entropy , splitter= random\n",
      "Accuracy модели: 0.7247278382581649 при глубине дерева: 35 , criterion= gini , splitter= best\n",
      "Accuracy модели: 0.7045101088646968 при глубине дерева: 35 , criterion= gini , splitter= random\n",
      "Accuracy модели: 0.7371695178849145 при глубине дерева: 35 , criterion= entropy , splitter= best\n",
      "Accuracy модели: 0.7356143079315708 при глубине дерева: 35 , criterion= entropy , splitter= random\n",
      "Accuracy модели: 0.7247278382581649 при глубине дерева: 36 , criterion= gini , splitter= best\n",
      "Accuracy модели: 0.7045101088646968 при глубине дерева: 36 , criterion= gini , splitter= random\n",
      "Accuracy модели: 0.7371695178849145 при глубине дерева: 36 , criterion= entropy , splitter= best\n",
      "Accuracy модели: 0.7356143079315708 при глубине дерева: 36 , criterion= entropy , splitter= random\n",
      "Accuracy модели: 0.7247278382581649 при глубине дерева: 37 , criterion= gini , splitter= best\n",
      "Accuracy модели: 0.7045101088646968 при глубине дерева: 37 , criterion= gini , splitter= random\n",
      "Accuracy модели: 0.7371695178849145 при глубине дерева: 37 , criterion= entropy , splitter= best\n",
      "Accuracy модели: 0.7356143079315708 при глубине дерева: 37 , criterion= entropy , splitter= random\n",
      "Accuracy модели: 0.7247278382581649 при глубине дерева: 38 , criterion= gini , splitter= best\n",
      "Accuracy модели: 0.7045101088646968 при глубине дерева: 38 , criterion= gini , splitter= random\n",
      "Accuracy модели: 0.7371695178849145 при глубине дерева: 38 , criterion= entropy , splitter= best\n",
      "Accuracy модели: 0.7356143079315708 при глубине дерева: 38 , criterion= entropy , splitter= random\n",
      "Accuracy модели: 0.7247278382581649 при глубине дерева: 39 , criterion= gini , splitter= best\n",
      "Accuracy модели: 0.7045101088646968 при глубине дерева: 39 , criterion= gini , splitter= random\n",
      "Accuracy модели: 0.7371695178849145 при глубине дерева: 39 , criterion= entropy , splitter= best\n",
      "Accuracy модели: 0.7356143079315708 при глубине дерева: 39 , criterion= entropy , splitter= random\n",
      "Accuracy модели: 0.7247278382581649 при глубине дерева: 40 , criterion= gini , splitter= best\n",
      "Accuracy модели: 0.7045101088646968 при глубине дерева: 40 , criterion= gini , splitter= random\n",
      "Accuracy модели: 0.7371695178849145 при глубине дерева: 40 , criterion= entropy , splitter= best\n",
      "Accuracy модели: 0.7356143079315708 при глубине дерева: 40 , criterion= entropy , splitter= random\n",
      "Accuracy модели: 0.7247278382581649 при глубине дерева: 41 , criterion= gini , splitter= best\n",
      "Accuracy модели: 0.7045101088646968 при глубине дерева: 41 , criterion= gini , splitter= random\n",
      "Accuracy модели: 0.7371695178849145 при глубине дерева: 41 , criterion= entropy , splitter= best\n",
      "Accuracy модели: 0.7356143079315708 при глубине дерева: 41 , criterion= entropy , splitter= random\n",
      "Accuracy модели: 0.7247278382581649 при глубине дерева: 42 , criterion= gini , splitter= best\n",
      "Accuracy модели: 0.7045101088646968 при глубине дерева: 42 , criterion= gini , splitter= random\n",
      "Accuracy модели: 0.7371695178849145 при глубине дерева: 42 , criterion= entropy , splitter= best\n",
      "Accuracy модели: 0.7356143079315708 при глубине дерева: 42 , criterion= entropy , splitter= random\n",
      "Accuracy модели: 0.7247278382581649 при глубине дерева: 43 , criterion= gini , splitter= best\n",
      "Accuracy модели: 0.7045101088646968 при глубине дерева: 43 , criterion= gini , splitter= random\n",
      "Accuracy модели: 0.7371695178849145 при глубине дерева: 43 , criterion= entropy , splitter= best\n",
      "Accuracy модели: 0.7356143079315708 при глубине дерева: 43 , criterion= entropy , splitter= random\n",
      "Accuracy модели: 0.7247278382581649 при глубине дерева: 44 , criterion= gini , splitter= best\n",
      "Accuracy модели: 0.7045101088646968 при глубине дерева: 44 , criterion= gini , splitter= random\n",
      "Accuracy модели: 0.7371695178849145 при глубине дерева: 44 , criterion= entropy , splitter= best\n",
      "Accuracy модели: 0.7356143079315708 при глубине дерева: 44 , criterion= entropy , splitter= random\n",
      "Accuracy модели: 0.7247278382581649 при глубине дерева: 45 , criterion= gini , splitter= best\n",
      "Accuracy модели: 0.7045101088646968 при глубине дерева: 45 , criterion= gini , splitter= random\n",
      "Accuracy модели: 0.7371695178849145 при глубине дерева: 45 , criterion= entropy , splitter= best\n",
      "Accuracy модели: 0.7356143079315708 при глубине дерева: 45 , criterion= entropy , splitter= random\n",
      "Accuracy модели: 0.7247278382581649 при глубине дерева: 46 , criterion= gini , splitter= best\n",
      "Accuracy модели: 0.7045101088646968 при глубине дерева: 46 , criterion= gini , splitter= random\n",
      "Accuracy модели: 0.7371695178849145 при глубине дерева: 46 , criterion= entropy , splitter= best\n",
      "Accuracy модели: 0.7356143079315708 при глубине дерева: 46 , criterion= entropy , splitter= random\n",
      "Accuracy модели: 0.7247278382581649 при глубине дерева: 47 , criterion= gini , splitter= best\n",
      "Accuracy модели: 0.7045101088646968 при глубине дерева: 47 , criterion= gini , splitter= random\n",
      "Accuracy модели: 0.7371695178849145 при глубине дерева: 47 , criterion= entropy , splitter= best\n",
      "Accuracy модели: 0.7356143079315708 при глубине дерева: 47 , criterion= entropy , splitter= random\n",
      "Accuracy модели: 0.7247278382581649 при глубине дерева: 48 , criterion= gini , splitter= best\n",
      "Accuracy модели: 0.7045101088646968 при глубине дерева: 48 , criterion= gini , splitter= random\n",
      "Accuracy модели: 0.7371695178849145 при глубине дерева: 48 , criterion= entropy , splitter= best\n",
      "Accuracy модели: 0.7356143079315708 при глубине дерева: 48 , criterion= entropy , splitter= random\n",
      "Accuracy модели: 0.7247278382581649 при глубине дерева: 49 , criterion= gini , splitter= best\n",
      "Accuracy модели: 0.7045101088646968 при глубине дерева: 49 , criterion= gini , splitter= random\n",
      "Accuracy модели: 0.7371695178849145 при глубине дерева: 49 , criterion= entropy , splitter= best\n",
      "Accuracy модели: 0.7356143079315708 при глубине дерева: 49 , criterion= entropy , splitter= random\n",
      "Accuracy лучшей модели: 0.8118195956454122 при глубине дерева: 5 , criterion= gini , splitter= best\n"
     ]
    }
   ],
   "source": [
    "best_model = None\n",
    "best_result = 0\n",
    "for depth in range(1,50):\n",
    "    for crit in [\"gini\", \"entropy\"]:\n",
    "        for split in [\"best\", \"random\"]:\n",
    "            model = DecisionTreeClassifier(random_state=12345\n",
    "                                           , max_depth=depth\n",
    "                                           , criterion=crit\n",
    "                                           , splitter=split)\n",
    "            model.fit(features_train, target_train)\n",
    "            predictions = model.predict(features_valid) \n",
    "            result = accuracy_score(target_valid, predictions)\n",
    "            print(\"Accuracy модели:\", result\n",
    "                  , 'при глубине дерева:', depth\n",
    "                  , ', criterion=', crit\n",
    "                  , ', splitter=', split ) \n",
    "            if result > best_result:\n",
    "                best_split=split\n",
    "                best_crit=crit\n",
    "                max_depth=depth\n",
    "                best_model = model\n",
    "                best_result = result\n",
    "        \n",
    "print(\"Accuracy лучшей модели:\", best_result\n",
    "      , 'при глубине дерева:', max_depth\n",
    "      , ', criterion=', best_crit\n",
    "      , ', splitter=', best_split ) "
   ]
  },
  {
   "cell_type": "markdown",
   "metadata": {},
   "source": [
    "Сохраним перамеры в best_tree_model"
   ]
  },
  {
   "cell_type": "code",
   "execution_count": 96,
   "metadata": {},
   "outputs": [
    {
     "name": "stdout",
     "output_type": "stream",
     "text": [
      "Accuracy лучшей модели: 0.8118195956454122 при глубине дерева: 5 , criterion= gini , splitter= best\n"
     ]
    }
   ],
   "source": [
    "best_tree_model = DecisionTreeClassifier(random_state=12345, max_depth=5, criterion=\"gini\", splitter='best')\n",
    "best_tree_model.fit(features_train, target_train)\n",
    "predictions = best_tree_model.predict(features_valid)\n",
    "result = accuracy_score(target_valid, predictions)\n",
    "print(\"Accuracy лучшей модели:\", result\n",
    "      , 'при глубине дерева:', 5\n",
    "      , ', criterion=', 'gini'\n",
    "      , ', splitter=', 'best')"
   ]
  },
  {
   "cell_type": "markdown",
   "metadata": {},
   "source": [
    "### Модель случайного леса"
   ]
  },
  {
   "cell_type": "markdown",
   "metadata": {},
   "source": [
    "Напишем блок, который перебором, меняя гиперпараметры ищет accuracy лучшей модели."
   ]
  },
  {
   "cell_type": "code",
   "execution_count": 97,
   "metadata": {},
   "outputs": [
    {
     "name": "stdout",
     "output_type": "stream",
     "text": [
      "Accuracy  0.7465007776049767 при количестве деревьев: 1 , criterion= gini , bootstrap= False , warm_start= False\n",
      "Accuracy  0.7465007776049767 при количестве деревьев: 1 , criterion= gini , bootstrap= False , warm_start= True\n",
      "Accuracy  0.7402799377916018 при количестве деревьев: 1 , criterion= gini , bootstrap= True , warm_start= False\n",
      "Accuracy  0.7402799377916018 при количестве деревьев: 1 , criterion= gini , bootstrap= True , warm_start= True\n",
      "Accuracy  0.7418351477449455 при количестве деревьев: 1 , criterion= entropy , bootstrap= False , warm_start= False\n",
      "Accuracy  0.7418351477449455 при количестве деревьев: 1 , criterion= entropy , bootstrap= False , warm_start= True\n",
      "Accuracy  0.7387247278382582 при количестве деревьев: 1 , criterion= entropy , bootstrap= True , warm_start= False\n",
      "Accuracy  0.7387247278382582 при количестве деревьев: 1 , criterion= entropy , bootstrap= True , warm_start= True\n",
      "Accuracy  0.7916018662519441 при количестве деревьев: 2 , criterion= gini , bootstrap= False , warm_start= False\n",
      "Accuracy  0.7916018662519441 при количестве деревьев: 2 , criterion= gini , bootstrap= False , warm_start= True\n",
      "Accuracy  0.7558320373250389 при количестве деревьев: 2 , criterion= gini , bootstrap= True , warm_start= False\n",
      "Accuracy  0.7558320373250389 при количестве деревьев: 2 , criterion= gini , bootstrap= True , warm_start= True\n",
      "Accuracy  0.7667185069984448 при количестве деревьев: 2 , criterion= entropy , bootstrap= False , warm_start= False\n",
      "Accuracy  0.7667185069984448 при количестве деревьев: 2 , criterion= entropy , bootstrap= False , warm_start= True\n",
      "Accuracy  0.7776049766718507 при количестве деревьев: 2 , criterion= entropy , bootstrap= True , warm_start= False\n",
      "Accuracy  0.7776049766718507 при количестве деревьев: 2 , criterion= entropy , bootstrap= True , warm_start= True\n",
      "Accuracy  0.7698289269051322 при количестве деревьев: 3 , criterion= gini , bootstrap= False , warm_start= False\n",
      "Accuracy  0.7698289269051322 при количестве деревьев: 3 , criterion= gini , bootstrap= False , warm_start= True\n",
      "Accuracy  0.7480559875583204 при количестве деревьев: 3 , criterion= gini , bootstrap= True , warm_start= False\n",
      "Accuracy  0.7480559875583204 при количестве деревьев: 3 , criterion= gini , bootstrap= True , warm_start= True\n",
      "Accuracy  0.7589424572317263 при количестве деревьев: 3 , criterion= entropy , bootstrap= False , warm_start= False\n",
      "Accuracy  0.7589424572317263 при количестве деревьев: 3 , criterion= entropy , bootstrap= False , warm_start= True\n",
      "Accuracy  0.76049766718507 при количестве деревьев: 3 , criterion= entropy , bootstrap= True , warm_start= False\n",
      "Accuracy  0.76049766718507 при количестве деревьев: 3 , criterion= entropy , bootstrap= True , warm_start= True\n",
      "Accuracy  0.7978227060653188 при количестве деревьев: 4 , criterion= gini , bootstrap= False , warm_start= False\n",
      "Accuracy  0.7978227060653188 при количестве деревьев: 4 , criterion= gini , bootstrap= False , warm_start= True\n",
      "Accuracy  0.7744945567651633 при количестве деревьев: 4 , criterion= gini , bootstrap= True , warm_start= False\n",
      "Accuracy  0.7744945567651633 при количестве деревьев: 4 , criterion= gini , bootstrap= True , warm_start= True\n",
      "Accuracy  0.7698289269051322 при количестве деревьев: 4 , criterion= entropy , bootstrap= False , warm_start= False\n",
      "Accuracy  0.7698289269051322 при количестве деревьев: 4 , criterion= entropy , bootstrap= False , warm_start= True\n",
      "Accuracy  0.8087091757387247 при количестве деревьев: 4 , criterion= entropy , bootstrap= True , warm_start= False\n",
      "Accuracy  0.8087091757387247 при количестве деревьев: 4 , criterion= entropy , bootstrap= True , warm_start= True\n",
      "Accuracy  0.7822706065318819 при количестве деревьев: 5 , criterion= gini , bootstrap= False , warm_start= False\n",
      "Accuracy  0.7822706065318819 при количестве деревьев: 5 , criterion= gini , bootstrap= False , warm_start= True\n",
      "Accuracy  0.7713841368584758 при количестве деревьев: 5 , criterion= gini , bootstrap= True , warm_start= False\n",
      "Accuracy  0.7713841368584758 при количестве деревьев: 5 , criterion= gini , bootstrap= True , warm_start= True\n",
      "Accuracy  0.7651632970451011 при количестве деревьев: 5 , criterion= entropy , bootstrap= False , warm_start= False\n",
      "Accuracy  0.7651632970451011 при количестве деревьев: 5 , criterion= entropy , bootstrap= False , warm_start= True\n",
      "Accuracy  0.7869362363919129 при количестве деревьев: 5 , criterion= entropy , bootstrap= True , warm_start= False\n",
      "Accuracy  0.7869362363919129 при количестве деревьев: 5 , criterion= entropy , bootstrap= True , warm_start= True\n",
      "Accuracy  0.7916018662519441 при количестве деревьев: 6 , criterion= gini , bootstrap= False , warm_start= False\n",
      "Accuracy  0.7916018662519441 при количестве деревьев: 6 , criterion= gini , bootstrap= False , warm_start= True\n",
      "Accuracy  0.7838258164852255 при количестве деревьев: 6 , criterion= gini , bootstrap= True , warm_start= False\n",
      "Accuracy  0.7838258164852255 при количестве деревьев: 6 , criterion= gini , bootstrap= True , warm_start= True\n",
      "Accuracy  0.7667185069984448 при количестве деревьев: 6 , criterion= entropy , bootstrap= False , warm_start= False\n",
      "Accuracy  0.7667185069984448 при количестве деревьев: 6 , criterion= entropy , bootstrap= False , warm_start= True\n",
      "Accuracy  0.80248833592535 при количестве деревьев: 6 , criterion= entropy , bootstrap= True , warm_start= False\n",
      "Accuracy  0.80248833592535 при количестве деревьев: 6 , criterion= entropy , bootstrap= True , warm_start= True\n",
      "Accuracy  0.7744945567651633 при количестве деревьев: 7 , criterion= gini , bootstrap= False , warm_start= False\n",
      "Accuracy  0.7744945567651633 при количестве деревьев: 7 , criterion= gini , bootstrap= False , warm_start= True\n",
      "Accuracy  0.7807153965785381 при количестве деревьев: 7 , criterion= gini , bootstrap= True , warm_start= False\n",
      "Accuracy  0.7807153965785381 при количестве деревьев: 7 , criterion= gini , bootstrap= True , warm_start= True\n",
      "Accuracy  0.7651632970451011 при количестве деревьев: 7 , criterion= entropy , bootstrap= False , warm_start= False\n",
      "Accuracy  0.7651632970451011 при количестве деревьев: 7 , criterion= entropy , bootstrap= False , warm_start= True\n",
      "Accuracy  0.80248833592535 при количестве деревьев: 7 , criterion= entropy , bootstrap= True , warm_start= False\n",
      "Accuracy  0.80248833592535 при количестве деревьев: 7 , criterion= entropy , bootstrap= True , warm_start= True\n",
      "Accuracy  0.7807153965785381 при количестве деревьев: 8 , criterion= gini , bootstrap= False , warm_start= False\n",
      "Accuracy  0.7807153965785381 при количестве деревьев: 8 , criterion= gini , bootstrap= False , warm_start= True\n",
      "Accuracy  0.7869362363919129 при количестве деревьев: 8 , criterion= gini , bootstrap= True , warm_start= False\n",
      "Accuracy  0.7869362363919129 при количестве деревьев: 8 , criterion= gini , bootstrap= True , warm_start= True\n",
      "Accuracy  0.7776049766718507 при количестве деревьев: 8 , criterion= entropy , bootstrap= False , warm_start= False\n",
      "Accuracy  0.7776049766718507 при количестве деревьев: 8 , criterion= entropy , bootstrap= False , warm_start= True\n",
      "Accuracy  0.8055987558320373 при количестве деревьев: 8 , criterion= entropy , bootstrap= True , warm_start= False\n",
      "Accuracy  0.8055987558320373 при количестве деревьев: 8 , criterion= entropy , bootstrap= True , warm_start= True\n",
      "Accuracy  0.7744945567651633 при количестве деревьев: 9 , criterion= gini , bootstrap= False , warm_start= False\n",
      "Accuracy  0.7744945567651633 при количестве деревьев: 9 , criterion= gini , bootstrap= False , warm_start= True\n",
      "Accuracy  0.7947122861586314 при количестве деревьев: 9 , criterion= gini , bootstrap= True , warm_start= False\n",
      "Accuracy  0.7947122861586314 при количестве деревьев: 9 , criterion= gini , bootstrap= True , warm_start= True\n",
      "Accuracy  0.7651632970451011 при количестве деревьев: 9 , criterion= entropy , bootstrap= False , warm_start= False\n",
      "Accuracy  0.7651632970451011 при количестве деревьев: 9 , criterion= entropy , bootstrap= False , warm_start= True\n",
      "Accuracy  0.8055987558320373 при количестве деревьев: 9 , criterion= entropy , bootstrap= True , warm_start= False\n",
      "Accuracy  0.8055987558320373 при количестве деревьев: 9 , criterion= entropy , bootstrap= True , warm_start= True\n",
      "Accuracy  0.7838258164852255 при количестве деревьев: 10 , criterion= gini , bootstrap= False , warm_start= False\n",
      "Accuracy  0.7838258164852255 при количестве деревьев: 10 , criterion= gini , bootstrap= False , warm_start= True\n",
      "Accuracy  0.7931570762052877 при количестве деревьев: 10 , criterion= gini , bootstrap= True , warm_start= False\n",
      "Accuracy  0.7931570762052877 при количестве деревьев: 10 , criterion= gini , bootstrap= True , warm_start= True\n",
      "Accuracy  0.7682737169517885 при количестве деревьев: 10 , criterion= entropy , bootstrap= False , warm_start= False\n",
      "Accuracy  0.7682737169517885 при количестве деревьев: 10 , criterion= entropy , bootstrap= False , warm_start= True\n",
      "Accuracy  0.8009331259720062 при количестве деревьев: 10 , criterion= entropy , bootstrap= True , warm_start= False\n",
      "Accuracy  0.8009331259720062 при количестве деревьев: 10 , criterion= entropy , bootstrap= True , warm_start= True\n",
      "Accuracy  0.7636080870917574 при количестве деревьев: 11 , criterion= gini , bootstrap= False , warm_start= False\n",
      "Accuracy  0.7636080870917574 при количестве деревьев: 11 , criterion= gini , bootstrap= False , warm_start= True\n",
      "Accuracy  0.7869362363919129 при количестве деревьев: 11 , criterion= gini , bootstrap= True , warm_start= False\n",
      "Accuracy  0.7869362363919129 при количестве деревьев: 11 , criterion= gini , bootstrap= True , warm_start= True\n",
      "Accuracy  0.7807153965785381 при количестве деревьев: 11 , criterion= entropy , bootstrap= False , warm_start= False\n",
      "Accuracy  0.7807153965785381 при количестве деревьев: 11 , criterion= entropy , bootstrap= False , warm_start= True\n",
      "Accuracy  0.8009331259720062 при количестве деревьев: 11 , criterion= entropy , bootstrap= True , warm_start= False\n",
      "Accuracy  0.8009331259720062 при количестве деревьев: 11 , criterion= entropy , bootstrap= True , warm_start= True\n",
      "Accuracy  0.7807153965785381 при количестве деревьев: 12 , criterion= gini , bootstrap= False , warm_start= False\n",
      "Accuracy  0.7807153965785381 при количестве деревьев: 12 , criterion= gini , bootstrap= False , warm_start= True\n",
      "Accuracy  0.7978227060653188 при количестве деревьев: 12 , criterion= gini , bootstrap= True , warm_start= False\n",
      "Accuracy  0.7978227060653188 при количестве деревьев: 12 , criterion= gini , bootstrap= True , warm_start= True\n",
      "Accuracy  0.7884914463452566 при количестве деревьев: 12 , criterion= entropy , bootstrap= False , warm_start= False\n",
      "Accuracy  0.7884914463452566 при количестве деревьев: 12 , criterion= entropy , bootstrap= False , warm_start= True\n",
      "Accuracy  0.8102643856920684 при количестве деревьев: 12 , criterion= entropy , bootstrap= True , warm_start= False\n",
      "Accuracy  0.8102643856920684 при количестве деревьев: 12 , criterion= entropy , bootstrap= True , warm_start= True\n",
      "Accuracy  0.7713841368584758 при количестве деревьев: 13 , criterion= gini , bootstrap= False , warm_start= False\n",
      "Accuracy  0.7713841368584758 при количестве деревьев: 13 , criterion= gini , bootstrap= False , warm_start= True\n",
      "Accuracy  0.7900466562986003 при количестве деревьев: 13 , criterion= gini , bootstrap= True , warm_start= False\n",
      "Accuracy  0.7900466562986003 при количестве деревьев: 13 , criterion= gini , bootstrap= True , warm_start= True\n",
      "Accuracy  0.7853810264385692 при количестве деревьев: 13 , criterion= entropy , bootstrap= False , warm_start= False\n",
      "Accuracy  0.7853810264385692 при количестве деревьев: 13 , criterion= entropy , bootstrap= False , warm_start= True\n",
      "Accuracy  0.8087091757387247 при количестве деревьев: 13 , criterion= entropy , bootstrap= True , warm_start= False\n",
      "Accuracy  0.8087091757387247 при количестве деревьев: 13 , criterion= entropy , bootstrap= True , warm_start= True\n",
      "Accuracy  0.7776049766718507 при количестве деревьев: 14 , criterion= gini , bootstrap= False , warm_start= False\n",
      "Accuracy  0.7776049766718507 при количестве деревьев: 14 , criterion= gini , bootstrap= False , warm_start= True\n",
      "Accuracy  0.7931570762052877 при количестве деревьев: 14 , criterion= gini , bootstrap= True , warm_start= False\n",
      "Accuracy  0.7931570762052877 при количестве деревьев: 14 , criterion= gini , bootstrap= True , warm_start= True\n",
      "Accuracy  0.7900466562986003 при количестве деревьев: 14 , criterion= entropy , bootstrap= False , warm_start= False\n",
      "Accuracy  0.7900466562986003 при количестве деревьев: 14 , criterion= entropy , bootstrap= False , warm_start= True\n",
      "Accuracy  0.8055987558320373 при количестве деревьев: 14 , criterion= entropy , bootstrap= True , warm_start= False\n",
      "Accuracy  0.8055987558320373 при количестве деревьев: 14 , criterion= entropy , bootstrap= True , warm_start= True\n",
      "Accuracy  0.7651632970451011 при количестве деревьев: 15 , criterion= gini , bootstrap= False , warm_start= False\n",
      "Accuracy  0.7651632970451011 при количестве деревьев: 15 , criterion= gini , bootstrap= False , warm_start= True\n",
      "Accuracy  0.7916018662519441 при количестве деревьев: 15 , criterion= gini , bootstrap= True , warm_start= False\n",
      "Accuracy  0.7916018662519441 при количестве деревьев: 15 , criterion= gini , bootstrap= True , warm_start= True\n",
      "Accuracy  0.7900466562986003 при количестве деревьев: 15 , criterion= entropy , bootstrap= False , warm_start= False\n",
      "Accuracy  0.7900466562986003 при количестве деревьев: 15 , criterion= entropy , bootstrap= False , warm_start= True\n",
      "Accuracy  0.8055987558320373 при количестве деревьев: 15 , criterion= entropy , bootstrap= True , warm_start= False\n",
      "Accuracy  0.8055987558320373 при количестве деревьев: 15 , criterion= entropy , bootstrap= True , warm_start= True\n",
      "Accuracy  0.7744945567651633 при количестве деревьев: 16 , criterion= gini , bootstrap= False , warm_start= False\n",
      "Accuracy  0.7744945567651633 при количестве деревьев: 16 , criterion= gini , bootstrap= False , warm_start= True\n",
      "Accuracy  0.7884914463452566 при количестве деревьев: 16 , criterion= gini , bootstrap= True , warm_start= False\n",
      "Accuracy  0.7884914463452566 при количестве деревьев: 16 , criterion= gini , bootstrap= True , warm_start= True\n",
      "Accuracy  0.7853810264385692 при количестве деревьев: 16 , criterion= entropy , bootstrap= False , warm_start= False\n",
      "Accuracy  0.7853810264385692 при количестве деревьев: 16 , criterion= entropy , bootstrap= False , warm_start= True\n",
      "Accuracy  0.8133748055987559 при количестве деревьев: 16 , criterion= entropy , bootstrap= True , warm_start= False\n",
      "Accuracy  0.8133748055987559 при количестве деревьев: 16 , criterion= entropy , bootstrap= True , warm_start= True\n",
      "Accuracy  0.776049766718507 при количестве деревьев: 17 , criterion= gini , bootstrap= False , warm_start= False\n",
      "Accuracy  0.776049766718507 при количестве деревьев: 17 , criterion= gini , bootstrap= False , warm_start= True\n",
      "Accuracy  0.7916018662519441 при количестве деревьев: 17 , criterion= gini , bootstrap= True , warm_start= False\n",
      "Accuracy  0.7916018662519441 при количестве деревьев: 17 , criterion= gini , bootstrap= True , warm_start= True\n",
      "Accuracy  0.7822706065318819 при количестве деревьев: 17 , criterion= entropy , bootstrap= False , warm_start= False\n",
      "Accuracy  0.7822706065318819 при количестве деревьев: 17 , criterion= entropy , bootstrap= False , warm_start= True\n",
      "Accuracy  0.8087091757387247 при количестве деревьев: 17 , criterion= entropy , bootstrap= True , warm_start= False\n",
      "Accuracy  0.8087091757387247 при количестве деревьев: 17 , criterion= entropy , bootstrap= True , warm_start= True\n",
      "Accuracy  0.7791601866251944 при количестве деревьев: 18 , criterion= gini , bootstrap= False , warm_start= False\n",
      "Accuracy  0.7791601866251944 при количестве деревьев: 18 , criterion= gini , bootstrap= False , warm_start= True\n",
      "Accuracy  0.7916018662519441 при количестве деревьев: 18 , criterion= gini , bootstrap= True , warm_start= False\n",
      "Accuracy  0.7916018662519441 при количестве деревьев: 18 , criterion= gini , bootstrap= True , warm_start= True\n",
      "Accuracy  0.7807153965785381 при количестве деревьев: 18 , criterion= entropy , bootstrap= False , warm_start= False\n",
      "Accuracy  0.7807153965785381 при количестве деревьев: 18 , criterion= entropy , bootstrap= False , warm_start= True\n",
      "Accuracy  0.8040435458786936 при количестве деревьев: 18 , criterion= entropy , bootstrap= True , warm_start= False\n",
      "Accuracy  0.8040435458786936 при количестве деревьев: 18 , criterion= entropy , bootstrap= True , warm_start= True\n",
      "Accuracy  0.7744945567651633 при количестве деревьев: 19 , criterion= gini , bootstrap= False , warm_start= False\n",
      "Accuracy  0.7744945567651633 при количестве деревьев: 19 , criterion= gini , bootstrap= False , warm_start= True\n",
      "Accuracy  0.7947122861586314 при количестве деревьев: 19 , criterion= gini , bootstrap= True , warm_start= False\n",
      "Accuracy  0.7947122861586314 при количестве деревьев: 19 , criterion= gini , bootstrap= True , warm_start= True\n",
      "Accuracy  0.7791601866251944 при количестве деревьев: 19 , criterion= entropy , bootstrap= False , warm_start= False\n",
      "Accuracy  0.7791601866251944 при количестве деревьев: 19 , criterion= entropy , bootstrap= False , warm_start= True\n",
      "Accuracy  0.80248833592535 при количестве деревьев: 19 , criterion= entropy , bootstrap= True , warm_start= False\n",
      "Accuracy  0.80248833592535 при количестве деревьев: 19 , criterion= entropy , bootstrap= True , warm_start= True\n",
      "Accuracy  0.776049766718507 при количестве деревьев: 20 , criterion= gini , bootstrap= False , warm_start= False\n",
      "Accuracy  0.776049766718507 при количестве деревьев: 20 , criterion= gini , bootstrap= False , warm_start= True\n",
      "Accuracy  0.7993779160186625 при количестве деревьев: 20 , criterion= gini , bootstrap= True , warm_start= False\n",
      "Accuracy  0.7993779160186625 при количестве деревьев: 20 , criterion= gini , bootstrap= True , warm_start= True\n",
      "Accuracy  0.7838258164852255 при количестве деревьев: 20 , criterion= entropy , bootstrap= False , warm_start= False\n",
      "Accuracy  0.7838258164852255 при количестве деревьев: 20 , criterion= entropy , bootstrap= False , warm_start= True\n",
      "Accuracy  0.8009331259720062 при количестве деревьев: 20 , criterion= entropy , bootstrap= True , warm_start= False\n",
      "Accuracy  0.8009331259720062 при количестве деревьев: 20 , criterion= entropy , bootstrap= True , warm_start= True\n",
      "Accuracy  0.7776049766718507 при количестве деревьев: 21 , criterion= gini , bootstrap= False , warm_start= False\n",
      "Accuracy  0.7776049766718507 при количестве деревьев: 21 , criterion= gini , bootstrap= False , warm_start= True\n",
      "Accuracy  0.80248833592535 при количестве деревьев: 21 , criterion= gini , bootstrap= True , warm_start= False\n",
      "Accuracy  0.80248833592535 при количестве деревьев: 21 , criterion= gini , bootstrap= True , warm_start= True\n",
      "Accuracy  0.776049766718507 при количестве деревьев: 21 , criterion= entropy , bootstrap= False , warm_start= False\n",
      "Accuracy  0.776049766718507 при количестве деревьев: 21 , criterion= entropy , bootstrap= False , warm_start= True\n",
      "Accuracy  0.7947122861586314 при количестве деревьев: 21 , criterion= entropy , bootstrap= True , warm_start= False\n",
      "Accuracy  0.7947122861586314 при количестве деревьев: 21 , criterion= entropy , bootstrap= True , warm_start= True\n",
      "Accuracy  0.776049766718507 при количестве деревьев: 22 , criterion= gini , bootstrap= False , warm_start= False\n",
      "Accuracy  0.776049766718507 при количестве деревьев: 22 , criterion= gini , bootstrap= False , warm_start= True\n",
      "Accuracy  0.80248833592535 при количестве деревьев: 22 , criterion= gini , bootstrap= True , warm_start= False\n",
      "Accuracy  0.80248833592535 при количестве деревьев: 22 , criterion= gini , bootstrap= True , warm_start= True\n",
      "Accuracy  0.7838258164852255 при количестве деревьев: 22 , criterion= entropy , bootstrap= False , warm_start= False\n",
      "Accuracy  0.7838258164852255 при количестве деревьев: 22 , criterion= entropy , bootstrap= False , warm_start= True\n",
      "Accuracy  0.7993779160186625 при количестве деревьев: 22 , criterion= entropy , bootstrap= True , warm_start= False\n",
      "Accuracy  0.7993779160186625 при количестве деревьев: 22 , criterion= entropy , bootstrap= True , warm_start= True\n",
      "Accuracy  0.7807153965785381 при количестве деревьев: 23 , criterion= gini , bootstrap= False , warm_start= False\n",
      "Accuracy  0.7807153965785381 при количестве деревьев: 23 , criterion= gini , bootstrap= False , warm_start= True\n",
      "Accuracy  0.7978227060653188 при количестве деревьев: 23 , criterion= gini , bootstrap= True , warm_start= False\n",
      "Accuracy  0.7978227060653188 при количестве деревьев: 23 , criterion= gini , bootstrap= True , warm_start= True\n",
      "Accuracy  0.7791601866251944 при количестве деревьев: 23 , criterion= entropy , bootstrap= False , warm_start= False\n",
      "Accuracy  0.7791601866251944 при количестве деревьев: 23 , criterion= entropy , bootstrap= False , warm_start= True\n",
      "Accuracy  0.7931570762052877 при количестве деревьев: 23 , criterion= entropy , bootstrap= True , warm_start= False\n",
      "Accuracy  0.7931570762052877 при количестве деревьев: 23 , criterion= entropy , bootstrap= True , warm_start= True\n",
      "Accuracy  0.776049766718507 при количестве деревьев: 24 , criterion= gini , bootstrap= False , warm_start= False\n",
      "Accuracy  0.776049766718507 при количестве деревьев: 24 , criterion= gini , bootstrap= False , warm_start= True\n",
      "Accuracy  0.7978227060653188 при количестве деревьев: 24 , criterion= gini , bootstrap= True , warm_start= False\n",
      "Accuracy  0.7978227060653188 при количестве деревьев: 24 , criterion= gini , bootstrap= True , warm_start= True\n",
      "Accuracy  0.7822706065318819 при количестве деревьев: 24 , criterion= entropy , bootstrap= False , warm_start= False\n",
      "Accuracy  0.7822706065318819 при количестве деревьев: 24 , criterion= entropy , bootstrap= False , warm_start= True\n",
      "Accuracy  0.7931570762052877 при количестве деревьев: 24 , criterion= entropy , bootstrap= True , warm_start= False\n",
      "Accuracy  0.7931570762052877 при количестве деревьев: 24 , criterion= entropy , bootstrap= True , warm_start= True\n",
      "Accuracy  0.7744945567651633 при количестве деревьев: 25 , criterion= gini , bootstrap= False , warm_start= False\n",
      "Accuracy  0.7744945567651633 при количестве деревьев: 25 , criterion= gini , bootstrap= False , warm_start= True\n",
      "Accuracy  0.7978227060653188 при количестве деревьев: 25 , criterion= gini , bootstrap= True , warm_start= False\n",
      "Accuracy  0.7978227060653188 при количестве деревьев: 25 , criterion= gini , bootstrap= True , warm_start= True\n",
      "Accuracy  0.7744945567651633 при количестве деревьев: 25 , criterion= entropy , bootstrap= False , warm_start= False\n",
      "Accuracy  0.7744945567651633 при количестве деревьев: 25 , criterion= entropy , bootstrap= False , warm_start= True\n",
      "Accuracy  0.7947122861586314 при количестве деревьев: 25 , criterion= entropy , bootstrap= True , warm_start= False\n",
      "Accuracy  0.7947122861586314 при количестве деревьев: 25 , criterion= entropy , bootstrap= True , warm_start= True\n",
      "Accuracy  0.776049766718507 при количестве деревьев: 26 , criterion= gini , bootstrap= False , warm_start= False\n",
      "Accuracy  0.776049766718507 при количестве деревьев: 26 , criterion= gini , bootstrap= False , warm_start= True\n",
      "Accuracy  0.8009331259720062 при количестве деревьев: 26 , criterion= gini , bootstrap= True , warm_start= False\n",
      "Accuracy  0.8009331259720062 при количестве деревьев: 26 , criterion= gini , bootstrap= True , warm_start= True\n",
      "Accuracy  0.7744945567651633 при количестве деревьев: 26 , criterion= entropy , bootstrap= False , warm_start= False\n",
      "Accuracy  0.7744945567651633 при количестве деревьев: 26 , criterion= entropy , bootstrap= False , warm_start= True\n",
      "Accuracy  0.7947122861586314 при количестве деревьев: 26 , criterion= entropy , bootstrap= True , warm_start= False\n",
      "Accuracy  0.7947122861586314 при количестве деревьев: 26 , criterion= entropy , bootstrap= True , warm_start= True\n",
      "Accuracy  0.7729393468118196 при количестве деревьев: 27 , criterion= gini , bootstrap= False , warm_start= False\n",
      "Accuracy  0.7729393468118196 при количестве деревьев: 27 , criterion= gini , bootstrap= False , warm_start= True\n",
      "Accuracy  0.7978227060653188 при количестве деревьев: 27 , criterion= gini , bootstrap= True , warm_start= False\n",
      "Accuracy  0.7978227060653188 при количестве деревьев: 27 , criterion= gini , bootstrap= True , warm_start= True\n",
      "Accuracy  0.7791601866251944 при количестве деревьев: 27 , criterion= entropy , bootstrap= False , warm_start= False\n",
      "Accuracy  0.7791601866251944 при количестве деревьев: 27 , criterion= entropy , bootstrap= False , warm_start= True\n",
      "Accuracy  0.7993779160186625 при количестве деревьев: 27 , criterion= entropy , bootstrap= True , warm_start= False\n",
      "Accuracy  0.7993779160186625 при количестве деревьев: 27 , criterion= entropy , bootstrap= True , warm_start= True\n",
      "Accuracy  0.7744945567651633 при количестве деревьев: 28 , criterion= gini , bootstrap= False , warm_start= False\n",
      "Accuracy  0.7744945567651633 при количестве деревьев: 28 , criterion= gini , bootstrap= False , warm_start= True\n",
      "Accuracy  0.7931570762052877 при количестве деревьев: 28 , criterion= gini , bootstrap= True , warm_start= False\n",
      "Accuracy  0.7931570762052877 при количестве деревьев: 28 , criterion= gini , bootstrap= True , warm_start= True\n",
      "Accuracy  0.776049766718507 при количестве деревьев: 28 , criterion= entropy , bootstrap= False , warm_start= False\n",
      "Accuracy  0.776049766718507 при количестве деревьев: 28 , criterion= entropy , bootstrap= False , warm_start= True\n",
      "Accuracy  0.7993779160186625 при количестве деревьев: 28 , criterion= entropy , bootstrap= True , warm_start= False\n",
      "Accuracy  0.7993779160186625 при количестве деревьев: 28 , criterion= entropy , bootstrap= True , warm_start= True\n",
      "Accuracy  0.7744945567651633 при количестве деревьев: 29 , criterion= gini , bootstrap= False , warm_start= False\n",
      "Accuracy  0.7744945567651633 при количестве деревьев: 29 , criterion= gini , bootstrap= False , warm_start= True\n",
      "Accuracy  0.7978227060653188 при количестве деревьев: 29 , criterion= gini , bootstrap= True , warm_start= False\n",
      "Accuracy  0.7978227060653188 при количестве деревьев: 29 , criterion= gini , bootstrap= True , warm_start= True\n",
      "Accuracy  0.776049766718507 при количестве деревьев: 29 , criterion= entropy , bootstrap= False , warm_start= False\n",
      "Accuracy  0.776049766718507 при количестве деревьев: 29 , criterion= entropy , bootstrap= False , warm_start= True\n",
      "Accuracy  0.80248833592535 при количестве деревьев: 29 , criterion= entropy , bootstrap= True , warm_start= False\n",
      "Accuracy  0.80248833592535 при количестве деревьев: 29 , criterion= entropy , bootstrap= True , warm_start= True\n",
      "Accuracy  0.7791601866251944 при количестве деревьев: 30 , criterion= gini , bootstrap= False , warm_start= False\n",
      "Accuracy  0.7791601866251944 при количестве деревьев: 30 , criterion= gini , bootstrap= False , warm_start= True\n",
      "Accuracy  0.7962674961119751 при количестве деревьев: 30 , criterion= gini , bootstrap= True , warm_start= False\n",
      "Accuracy  0.7962674961119751 при количестве деревьев: 30 , criterion= gini , bootstrap= True , warm_start= True\n",
      "Accuracy  0.7807153965785381 при количестве деревьев: 30 , criterion= entropy , bootstrap= False , warm_start= False\n",
      "Accuracy  0.7807153965785381 при количестве деревьев: 30 , criterion= entropy , bootstrap= False , warm_start= True\n",
      "Accuracy  0.8009331259720062 при количестве деревьев: 30 , criterion= entropy , bootstrap= True , warm_start= False\n",
      "Accuracy  0.8009331259720062 при количестве деревьев: 30 , criterion= entropy , bootstrap= True , warm_start= True\n",
      "Accuracy  0.7791601866251944 при количестве деревьев: 31 , criterion= gini , bootstrap= False , warm_start= False\n",
      "Accuracy  0.7791601866251944 при количестве деревьев: 31 , criterion= gini , bootstrap= False , warm_start= True\n",
      "Accuracy  0.7962674961119751 при количестве деревьев: 31 , criterion= gini , bootstrap= True , warm_start= False\n",
      "Accuracy  0.7962674961119751 при количестве деревьев: 31 , criterion= gini , bootstrap= True , warm_start= True\n",
      "Accuracy  0.7791601866251944 при количестве деревьев: 31 , criterion= entropy , bootstrap= False , warm_start= False\n",
      "Accuracy  0.7791601866251944 при количестве деревьев: 31 , criterion= entropy , bootstrap= False , warm_start= True\n",
      "Accuracy  0.7978227060653188 при количестве деревьев: 31 , criterion= entropy , bootstrap= True , warm_start= False\n",
      "Accuracy  0.7978227060653188 при количестве деревьев: 31 , criterion= entropy , bootstrap= True , warm_start= True\n",
      "Accuracy  0.7791601866251944 при количестве деревьев: 32 , criterion= gini , bootstrap= False , warm_start= False\n",
      "Accuracy  0.7791601866251944 при количестве деревьев: 32 , criterion= gini , bootstrap= False , warm_start= True\n",
      "Accuracy  0.7962674961119751 при количестве деревьев: 32 , criterion= gini , bootstrap= True , warm_start= False\n",
      "Accuracy  0.7962674961119751 при количестве деревьев: 32 , criterion= gini , bootstrap= True , warm_start= True\n",
      "Accuracy  0.7807153965785381 при количестве деревьев: 32 , criterion= entropy , bootstrap= False , warm_start= False\n",
      "Accuracy  0.7807153965785381 при количестве деревьев: 32 , criterion= entropy , bootstrap= False , warm_start= True\n",
      "Accuracy  0.80248833592535 при количестве деревьев: 32 , criterion= entropy , bootstrap= True , warm_start= False\n",
      "Accuracy  0.80248833592535 при количестве деревьев: 32 , criterion= entropy , bootstrap= True , warm_start= True\n",
      "Accuracy  0.7791601866251944 при количестве деревьев: 33 , criterion= gini , bootstrap= False , warm_start= False\n",
      "Accuracy  0.7791601866251944 при количестве деревьев: 33 , criterion= gini , bootstrap= False , warm_start= True\n",
      "Accuracy  0.7962674961119751 при количестве деревьев: 33 , criterion= gini , bootstrap= True , warm_start= False\n",
      "Accuracy  0.7962674961119751 при количестве деревьев: 33 , criterion= gini , bootstrap= True , warm_start= True\n",
      "Accuracy  0.7791601866251944 при количестве деревьев: 33 , criterion= entropy , bootstrap= False , warm_start= False\n",
      "Accuracy  0.7791601866251944 при количестве деревьев: 33 , criterion= entropy , bootstrap= False , warm_start= True\n",
      "Accuracy  0.7993779160186625 при количестве деревьев: 33 , criterion= entropy , bootstrap= True , warm_start= False\n",
      "Accuracy  0.7993779160186625 при количестве деревьев: 33 , criterion= entropy , bootstrap= True , warm_start= True\n",
      "Accuracy  0.7853810264385692 при количестве деревьев: 34 , criterion= gini , bootstrap= False , warm_start= False\n",
      "Accuracy  0.7853810264385692 при количестве деревьев: 34 , criterion= gini , bootstrap= False , warm_start= True\n",
      "Accuracy  0.7931570762052877 при количестве деревьев: 34 , criterion= gini , bootstrap= True , warm_start= False\n",
      "Accuracy  0.7931570762052877 при количестве деревьев: 34 , criterion= gini , bootstrap= True , warm_start= True\n",
      "Accuracy  0.7807153965785381 при количестве деревьев: 34 , criterion= entropy , bootstrap= False , warm_start= False\n",
      "Accuracy  0.7807153965785381 при количестве деревьев: 34 , criterion= entropy , bootstrap= False , warm_start= True\n",
      "Accuracy  0.8009331259720062 при количестве деревьев: 34 , criterion= entropy , bootstrap= True , warm_start= False\n",
      "Accuracy  0.8009331259720062 при количестве деревьев: 34 , criterion= entropy , bootstrap= True , warm_start= True\n",
      "Accuracy  0.7807153965785381 при количестве деревьев: 35 , criterion= gini , bootstrap= False , warm_start= False\n",
      "Accuracy  0.7807153965785381 при количестве деревьев: 35 , criterion= gini , bootstrap= False , warm_start= True\n",
      "Accuracy  0.7962674961119751 при количестве деревьев: 35 , criterion= gini , bootstrap= True , warm_start= False\n",
      "Accuracy  0.7962674961119751 при количестве деревьев: 35 , criterion= gini , bootstrap= True , warm_start= True\n",
      "Accuracy  0.7791601866251944 при количестве деревьев: 35 , criterion= entropy , bootstrap= False , warm_start= False\n",
      "Accuracy  0.7791601866251944 при количестве деревьев: 35 , criterion= entropy , bootstrap= False , warm_start= True\n",
      "Accuracy  0.7962674961119751 при количестве деревьев: 35 , criterion= entropy , bootstrap= True , warm_start= False\n",
      "Accuracy  0.7962674961119751 при количестве деревьев: 35 , criterion= entropy , bootstrap= True , warm_start= True\n",
      "Accuracy  0.7822706065318819 при количестве деревьев: 36 , criterion= gini , bootstrap= False , warm_start= False\n",
      "Accuracy  0.7822706065318819 при количестве деревьев: 36 , criterion= gini , bootstrap= False , warm_start= True\n",
      "Accuracy  0.7947122861586314 при количестве деревьев: 36 , criterion= gini , bootstrap= True , warm_start= False\n",
      "Accuracy  0.7947122861586314 при количестве деревьев: 36 , criterion= gini , bootstrap= True , warm_start= True\n",
      "Accuracy  0.7853810264385692 при количестве деревьев: 36 , criterion= entropy , bootstrap= False , warm_start= False\n",
      "Accuracy  0.7853810264385692 при количестве деревьев: 36 , criterion= entropy , bootstrap= False , warm_start= True\n",
      "Accuracy  0.7993779160186625 при количестве деревьев: 36 , criterion= entropy , bootstrap= True , warm_start= False\n",
      "Accuracy  0.7993779160186625 при количестве деревьев: 36 , criterion= entropy , bootstrap= True , warm_start= True\n",
      "Accuracy  0.7807153965785381 при количестве деревьев: 37 , criterion= gini , bootstrap= False , warm_start= False\n",
      "Accuracy  0.7807153965785381 при количестве деревьев: 37 , criterion= gini , bootstrap= False , warm_start= True\n",
      "Accuracy  0.7947122861586314 при количестве деревьев: 37 , criterion= gini , bootstrap= True , warm_start= False\n",
      "Accuracy  0.7947122861586314 при количестве деревьев: 37 , criterion= gini , bootstrap= True , warm_start= True\n",
      "Accuracy  0.7869362363919129 при количестве деревьев: 37 , criterion= entropy , bootstrap= False , warm_start= False\n",
      "Accuracy  0.7869362363919129 при количестве деревьев: 37 , criterion= entropy , bootstrap= False , warm_start= True\n",
      "Accuracy  0.7962674961119751 при количестве деревьев: 37 , criterion= entropy , bootstrap= True , warm_start= False\n",
      "Accuracy  0.7962674961119751 при количестве деревьев: 37 , criterion= entropy , bootstrap= True , warm_start= True\n",
      "Accuracy  0.776049766718507 при количестве деревьев: 38 , criterion= gini , bootstrap= False , warm_start= False\n",
      "Accuracy  0.776049766718507 при количестве деревьев: 38 , criterion= gini , bootstrap= False , warm_start= True\n",
      "Accuracy  0.7931570762052877 при количестве деревьев: 38 , criterion= gini , bootstrap= True , warm_start= False\n",
      "Accuracy  0.7931570762052877 при количестве деревьев: 38 , criterion= gini , bootstrap= True , warm_start= True\n",
      "Accuracy  0.7869362363919129 при количестве деревьев: 38 , criterion= entropy , bootstrap= False , warm_start= False\n",
      "Accuracy  0.7869362363919129 при количестве деревьев: 38 , criterion= entropy , bootstrap= False , warm_start= True\n",
      "Accuracy  0.7962674961119751 при количестве деревьев: 38 , criterion= entropy , bootstrap= True , warm_start= False\n",
      "Accuracy  0.7962674961119751 при количестве деревьев: 38 , criterion= entropy , bootstrap= True , warm_start= True\n",
      "Accuracy  0.776049766718507 при количестве деревьев: 39 , criterion= gini , bootstrap= False , warm_start= False\n",
      "Accuracy  0.776049766718507 при количестве деревьев: 39 , criterion= gini , bootstrap= False , warm_start= True\n",
      "Accuracy  0.7916018662519441 при количестве деревьев: 39 , criterion= gini , bootstrap= True , warm_start= False\n",
      "Accuracy  0.7916018662519441 при количестве деревьев: 39 , criterion= gini , bootstrap= True , warm_start= True\n",
      "Accuracy  0.7807153965785381 при количестве деревьев: 39 , criterion= entropy , bootstrap= False , warm_start= False\n",
      "Accuracy  0.7807153965785381 при количестве деревьев: 39 , criterion= entropy , bootstrap= False , warm_start= True\n",
      "Accuracy  0.7931570762052877 при количестве деревьев: 39 , criterion= entropy , bootstrap= True , warm_start= False\n",
      "Accuracy  0.7931570762052877 при количестве деревьев: 39 , criterion= entropy , bootstrap= True , warm_start= True\n",
      "Accuracy  0.7776049766718507 при количестве деревьев: 40 , criterion= gini , bootstrap= False , warm_start= False\n",
      "Accuracy  0.7776049766718507 при количестве деревьев: 40 , criterion= gini , bootstrap= False , warm_start= True\n",
      "Accuracy  0.7947122861586314 при количестве деревьев: 40 , criterion= gini , bootstrap= True , warm_start= False\n",
      "Accuracy  0.7947122861586314 при количестве деревьев: 40 , criterion= gini , bootstrap= True , warm_start= True\n",
      "Accuracy  0.7822706065318819 при количестве деревьев: 40 , criterion= entropy , bootstrap= False , warm_start= False\n",
      "Accuracy  0.7822706065318819 при количестве деревьев: 40 , criterion= entropy , bootstrap= False , warm_start= True\n",
      "Accuracy  0.7962674961119751 при количестве деревьев: 40 , criterion= entropy , bootstrap= True , warm_start= False\n",
      "Accuracy  0.7962674961119751 при количестве деревьев: 40 , criterion= entropy , bootstrap= True , warm_start= True\n",
      "Accuracy  0.7776049766718507 при количестве деревьев: 41 , criterion= gini , bootstrap= False , warm_start= False\n",
      "Accuracy  0.7776049766718507 при количестве деревьев: 41 , criterion= gini , bootstrap= False , warm_start= True\n",
      "Accuracy  0.7978227060653188 при количестве деревьев: 41 , criterion= gini , bootstrap= True , warm_start= False\n",
      "Accuracy  0.7978227060653188 при количестве деревьев: 41 , criterion= gini , bootstrap= True , warm_start= True\n",
      "Accuracy  0.7744945567651633 при количестве деревьев: 41 , criterion= entropy , bootstrap= False , warm_start= False\n",
      "Accuracy  0.7744945567651633 при количестве деревьев: 41 , criterion= entropy , bootstrap= False , warm_start= True\n",
      "Accuracy  0.7993779160186625 при количестве деревьев: 41 , criterion= entropy , bootstrap= True , warm_start= False\n",
      "Accuracy  0.7993779160186625 при количестве деревьев: 41 , criterion= entropy , bootstrap= True , warm_start= True\n",
      "Accuracy  0.7807153965785381 при количестве деревьев: 42 , criterion= gini , bootstrap= False , warm_start= False\n",
      "Accuracy  0.7807153965785381 при количестве деревьев: 42 , criterion= gini , bootstrap= False , warm_start= True\n",
      "Accuracy  0.7978227060653188 при количестве деревьев: 42 , criterion= gini , bootstrap= True , warm_start= False\n",
      "Accuracy  0.7978227060653188 при количестве деревьев: 42 , criterion= gini , bootstrap= True , warm_start= True\n",
      "Accuracy  0.7807153965785381 при количестве деревьев: 42 , criterion= entropy , bootstrap= False , warm_start= False\n",
      "Accuracy  0.7807153965785381 при количестве деревьев: 42 , criterion= entropy , bootstrap= False , warm_start= True\n",
      "Accuracy  0.7978227060653188 при количестве деревьев: 42 , criterion= entropy , bootstrap= True , warm_start= False\n",
      "Accuracy  0.7978227060653188 при количестве деревьев: 42 , criterion= entropy , bootstrap= True , warm_start= True\n",
      "Accuracy  0.7776049766718507 при количестве деревьев: 43 , criterion= gini , bootstrap= False , warm_start= False\n",
      "Accuracy  0.7776049766718507 при количестве деревьев: 43 , criterion= gini , bootstrap= False , warm_start= True\n",
      "Accuracy  0.7962674961119751 при количестве деревьев: 43 , criterion= gini , bootstrap= True , warm_start= False\n",
      "Accuracy  0.7962674961119751 при количестве деревьев: 43 , criterion= gini , bootstrap= True , warm_start= True\n",
      "Accuracy  0.7776049766718507 при количестве деревьев: 43 , criterion= entropy , bootstrap= False , warm_start= False\n",
      "Accuracy  0.7776049766718507 при количестве деревьев: 43 , criterion= entropy , bootstrap= False , warm_start= True\n",
      "Accuracy  0.8009331259720062 при количестве деревьев: 43 , criterion= entropy , bootstrap= True , warm_start= False\n",
      "Accuracy  0.8009331259720062 при количестве деревьев: 43 , criterion= entropy , bootstrap= True , warm_start= True\n",
      "Accuracy  0.7869362363919129 при количестве деревьев: 44 , criterion= gini , bootstrap= False , warm_start= False\n",
      "Accuracy  0.7869362363919129 при количестве деревьев: 44 , criterion= gini , bootstrap= False , warm_start= True\n",
      "Accuracy  0.7962674961119751 при количестве деревьев: 44 , criterion= gini , bootstrap= True , warm_start= False\n",
      "Accuracy  0.7962674961119751 при количестве деревьев: 44 , criterion= gini , bootstrap= True , warm_start= True\n",
      "Accuracy  0.7776049766718507 при количестве деревьев: 44 , criterion= entropy , bootstrap= False , warm_start= False\n",
      "Accuracy  0.7776049766718507 при количестве деревьев: 44 , criterion= entropy , bootstrap= False , warm_start= True\n",
      "Accuracy  0.7978227060653188 при количестве деревьев: 44 , criterion= entropy , bootstrap= True , warm_start= False\n",
      "Accuracy  0.7978227060653188 при количестве деревьев: 44 , criterion= entropy , bootstrap= True , warm_start= True\n",
      "Accuracy  0.7822706065318819 при количестве деревьев: 45 , criterion= gini , bootstrap= False , warm_start= False\n",
      "Accuracy  0.7822706065318819 при количестве деревьев: 45 , criterion= gini , bootstrap= False , warm_start= True\n",
      "Accuracy  0.7962674961119751 при количестве деревьев: 45 , criterion= gini , bootstrap= True , warm_start= False\n",
      "Accuracy  0.7962674961119751 при количестве деревьев: 45 , criterion= gini , bootstrap= True , warm_start= True\n",
      "Accuracy  0.776049766718507 при количестве деревьев: 45 , criterion= entropy , bootstrap= False , warm_start= False\n",
      "Accuracy  0.776049766718507 при количестве деревьев: 45 , criterion= entropy , bootstrap= False , warm_start= True\n",
      "Accuracy  0.7947122861586314 при количестве деревьев: 45 , criterion= entropy , bootstrap= True , warm_start= False\n",
      "Accuracy  0.7947122861586314 при количестве деревьев: 45 , criterion= entropy , bootstrap= True , warm_start= True\n",
      "Accuracy  0.7822706065318819 при количестве деревьев: 46 , criterion= gini , bootstrap= False , warm_start= False\n",
      "Accuracy  0.7822706065318819 при количестве деревьев: 46 , criterion= gini , bootstrap= False , warm_start= True\n",
      "Accuracy  0.8009331259720062 при количестве деревьев: 46 , criterion= gini , bootstrap= True , warm_start= False\n",
      "Accuracy  0.8009331259720062 при количестве деревьев: 46 , criterion= gini , bootstrap= True , warm_start= True\n",
      "Accuracy  0.776049766718507 при количестве деревьев: 46 , criterion= entropy , bootstrap= False , warm_start= False\n",
      "Accuracy  0.776049766718507 при количестве деревьев: 46 , criterion= entropy , bootstrap= False , warm_start= True\n",
      "Accuracy  0.7962674961119751 при количестве деревьев: 46 , criterion= entropy , bootstrap= True , warm_start= False\n",
      "Accuracy  0.7962674961119751 при количестве деревьев: 46 , criterion= entropy , bootstrap= True , warm_start= True\n",
      "Accuracy  0.7776049766718507 при количестве деревьев: 47 , criterion= gini , bootstrap= False , warm_start= False\n",
      "Accuracy  0.7776049766718507 при количестве деревьев: 47 , criterion= gini , bootstrap= False , warm_start= True\n",
      "Accuracy  0.7993779160186625 при количестве деревьев: 47 , criterion= gini , bootstrap= True , warm_start= False\n",
      "Accuracy  0.7993779160186625 при количестве деревьев: 47 , criterion= gini , bootstrap= True , warm_start= True\n",
      "Accuracy  0.7776049766718507 при количестве деревьев: 47 , criterion= entropy , bootstrap= False , warm_start= False\n",
      "Accuracy  0.7776049766718507 при количестве деревьев: 47 , criterion= entropy , bootstrap= False , warm_start= True\n",
      "Accuracy  0.7947122861586314 при количестве деревьев: 47 , criterion= entropy , bootstrap= True , warm_start= False\n",
      "Accuracy  0.7947122861586314 при количестве деревьев: 47 , criterion= entropy , bootstrap= True , warm_start= True\n",
      "Accuracy  0.7776049766718507 при количестве деревьев: 48 , criterion= gini , bootstrap= False , warm_start= False\n",
      "Accuracy  0.7776049766718507 при количестве деревьев: 48 , criterion= gini , bootstrap= False , warm_start= True\n",
      "Accuracy  0.7993779160186625 при количестве деревьев: 48 , criterion= gini , bootstrap= True , warm_start= False\n",
      "Accuracy  0.7993779160186625 при количестве деревьев: 48 , criterion= gini , bootstrap= True , warm_start= True\n",
      "Accuracy  0.7807153965785381 при количестве деревьев: 48 , criterion= entropy , bootstrap= False , warm_start= False\n",
      "Accuracy  0.7807153965785381 при количестве деревьев: 48 , criterion= entropy , bootstrap= False , warm_start= True\n",
      "Accuracy  0.7962674961119751 при количестве деревьев: 48 , criterion= entropy , bootstrap= True , warm_start= False\n",
      "Accuracy  0.7962674961119751 при количестве деревьев: 48 , criterion= entropy , bootstrap= True , warm_start= True\n",
      "Accuracy  0.7776049766718507 при количестве деревьев: 49 , criterion= gini , bootstrap= False , warm_start= False\n",
      "Accuracy  0.7776049766718507 при количестве деревьев: 49 , criterion= gini , bootstrap= False , warm_start= True\n",
      "Accuracy  0.7993779160186625 при количестве деревьев: 49 , criterion= gini , bootstrap= True , warm_start= False\n",
      "Accuracy  0.7993779160186625 при количестве деревьев: 49 , criterion= gini , bootstrap= True , warm_start= True\n",
      "Accuracy  0.7776049766718507 при количестве деревьев: 49 , criterion= entropy , bootstrap= False , warm_start= False\n",
      "Accuracy  0.7776049766718507 при количестве деревьев: 49 , criterion= entropy , bootstrap= False , warm_start= True\n",
      "Accuracy  0.7947122861586314 при количестве деревьев: 49 , criterion= entropy , bootstrap= True , warm_start= False\n",
      "Accuracy  0.7947122861586314 при количестве деревьев: 49 , criterion= entropy , bootstrap= True , warm_start= True\n",
      "Accuracy лучшей модели: 0.8133748055987559 при количестве деревьев: 16 , criterion= entropy , bootstrap= True , warm_start= False\n"
     ]
    }
   ],
   "source": [
    "best_model = None\n",
    "best_result = 0\n",
    "for estim in range(1,50):\n",
    "    for crit in [\"gini\", \"entropy\"]:\n",
    "        for boot in [False, True]:\n",
    "            for warm in [False, True]:\n",
    "                model = RandomForestClassifier(random_state=12345\n",
    "                                               , n_estimators=estim\n",
    "                                               , criterion=crit\n",
    "                                               , bootstrap=boot\n",
    "                                               , warm_start=warm)\n",
    "                model.fit(features_train, target_train)\n",
    "                predictions = model.predict(features_valid) \n",
    "                result = accuracy_score(target_valid, predictions)\n",
    "                print(\"Accuracy \", result\n",
    "                      , 'при количестве деревьев:', estim\n",
    "                      , ', criterion=', crit\n",
    "                      , ', bootstrap=', boot\n",
    "                      , ', warm_start=', warm) \n",
    "                if result > best_result:\n",
    "                    best_warm=warm\n",
    "                    best_boot=boot\n",
    "                    best_crit=crit\n",
    "                    max_estim=estim\n",
    "                    best_model = model\n",
    "                    best_result = result\n",
    "        \n",
    "print(\"Accuracy лучшей модели:\", best_result\n",
    "      , 'при количестве деревьев:', max_estim\n",
    "      , ', criterion=', best_crit\n",
    "      , ', bootstrap=', best_boot\n",
    "      , ', warm_start=', best_warm) "
   ]
  },
  {
   "cell_type": "markdown",
   "metadata": {},
   "source": [
    "Сохраним параметры в best_forest_model"
   ]
  },
  {
   "cell_type": "code",
   "execution_count": 98,
   "metadata": {},
   "outputs": [
    {
     "name": "stdout",
     "output_type": "stream",
     "text": [
      "Accuracy лучшей модели: 0.8133748055987559 при количестве деревьев: 16 , criterion= entropy , bootstrap= True , warm_start= False\n"
     ]
    }
   ],
   "source": [
    "best_forest_model = RandomForestClassifier(random_state=12345\n",
    "                                               , n_estimators=16\n",
    "                                               , criterion=\"entropy\"\n",
    "                                               , bootstrap=True\n",
    "                                               , warm_start=False)\n",
    "best_forest_model.fit(features_train, target_train)\n",
    "predictions = best_forest_model.predict(features_valid) \n",
    "result = accuracy_score(target_valid, predictions)\n",
    "            \n",
    "print(\"Accuracy лучшей модели:\", result\n",
    "      , 'при количестве деревьев:', 16\n",
    "      , ', criterion=', 'entropy'\n",
    "      , ', bootstrap=', 'True'\n",
    "      , ', warm_start=', 'False')"
   ]
  },
  {
   "cell_type": "markdown",
   "metadata": {},
   "source": [
    "### Модель логистическая регрессия"
   ]
  },
  {
   "cell_type": "markdown",
   "metadata": {},
   "source": [
    "Напишем блок, который перебором, меняя гиперпараметры ищет accuracy лучшей модели."
   ]
  },
  {
   "cell_type": "code",
   "execution_count": 99,
   "metadata": {
    "scrolled": true
   },
   "outputs": [
    {
     "name": "stdout",
     "output_type": "stream",
     "text": [
      "Accuracy  0.7465007776049767 при количестве итераций: 71 , solver= newton-cg , C= 0.1 , multi_class= auto\n",
      "Accuracy  0.7465007776049767 при количестве итераций: 71 , solver= newton-cg , C= 0.1 , multi_class= ovr\n",
      "Accuracy  0.7465007776049767 при количестве итераций: 71 , solver= newton-cg , C= 0.2 , multi_class= auto\n"
     ]
    },
    {
     "name": "stderr",
     "output_type": "stream",
     "text": [
      "/opt/conda/lib/python3.9/site-packages/scipy/optimize/_linesearch.py:456: LineSearchWarning: The line search algorithm did not converge\n",
      "  warn('The line search algorithm did not converge', LineSearchWarning)\n",
      "/opt/conda/lib/python3.9/site-packages/scipy/optimize/_linesearch.py:305: LineSearchWarning: The line search algorithm did not converge\n",
      "  warn('The line search algorithm did not converge', LineSearchWarning)\n",
      "/opt/conda/lib/python3.9/site-packages/scipy/optimize/_linesearch.py:456: LineSearchWarning: The line search algorithm did not converge\n",
      "  warn('The line search algorithm did not converge', LineSearchWarning)\n",
      "/opt/conda/lib/python3.9/site-packages/scipy/optimize/_linesearch.py:305: LineSearchWarning: The line search algorithm did not converge\n",
      "  warn('The line search algorithm did not converge', LineSearchWarning)\n",
      "/opt/conda/lib/python3.9/site-packages/scipy/optimize/_linesearch.py:456: LineSearchWarning: The line search algorithm did not converge\n",
      "  warn('The line search algorithm did not converge', LineSearchWarning)\n",
      "/opt/conda/lib/python3.9/site-packages/scipy/optimize/_linesearch.py:305: LineSearchWarning: The line search algorithm did not converge\n",
      "  warn('The line search algorithm did not converge', LineSearchWarning)\n"
     ]
    },
    {
     "name": "stdout",
     "output_type": "stream",
     "text": [
      "Accuracy  0.7465007776049767 при количестве итераций: 71 , solver= newton-cg , C= 0.2 , multi_class= ovr\n",
      "Accuracy  0.7465007776049767 при количестве итераций: 71 , solver= newton-cg , C= 0.30000000000000004 , multi_class= auto\n"
     ]
    },
    {
     "name": "stderr",
     "output_type": "stream",
     "text": [
      "/opt/conda/lib/python3.9/site-packages/scipy/optimize/_linesearch.py:456: LineSearchWarning: The line search algorithm did not converge\n",
      "  warn('The line search algorithm did not converge', LineSearchWarning)\n",
      "/opt/conda/lib/python3.9/site-packages/scipy/optimize/_linesearch.py:305: LineSearchWarning: The line search algorithm did not converge\n",
      "  warn('The line search algorithm did not converge', LineSearchWarning)\n",
      "/opt/conda/lib/python3.9/site-packages/scipy/optimize/_linesearch.py:456: LineSearchWarning: The line search algorithm did not converge\n",
      "  warn('The line search algorithm did not converge', LineSearchWarning)\n",
      "/opt/conda/lib/python3.9/site-packages/scipy/optimize/_linesearch.py:305: LineSearchWarning: The line search algorithm did not converge\n",
      "  warn('The line search algorithm did not converge', LineSearchWarning)\n",
      "/opt/conda/lib/python3.9/site-packages/scipy/optimize/_linesearch.py:456: LineSearchWarning: The line search algorithm did not converge\n",
      "  warn('The line search algorithm did not converge', LineSearchWarning)\n",
      "/opt/conda/lib/python3.9/site-packages/scipy/optimize/_linesearch.py:305: LineSearchWarning: The line search algorithm did not converge\n",
      "  warn('The line search algorithm did not converge', LineSearchWarning)\n",
      "/opt/conda/lib/python3.9/site-packages/scipy/optimize/_linesearch.py:456: LineSearchWarning: The line search algorithm did not converge\n",
      "  warn('The line search algorithm did not converge', LineSearchWarning)\n",
      "/opt/conda/lib/python3.9/site-packages/scipy/optimize/_linesearch.py:305: LineSearchWarning: The line search algorithm did not converge\n",
      "  warn('The line search algorithm did not converge', LineSearchWarning)\n",
      "/opt/conda/lib/python3.9/site-packages/scipy/optimize/_linesearch.py:456: LineSearchWarning: The line search algorithm did not converge\n",
      "  warn('The line search algorithm did not converge', LineSearchWarning)\n",
      "/opt/conda/lib/python3.9/site-packages/scipy/optimize/_linesearch.py:305: LineSearchWarning: The line search algorithm did not converge\n",
      "  warn('The line search algorithm did not converge', LineSearchWarning)\n"
     ]
    },
    {
     "name": "stdout",
     "output_type": "stream",
     "text": [
      "Accuracy  0.7465007776049767 при количестве итераций: 71 , solver= newton-cg , C= 0.30000000000000004 , multi_class= ovr\n",
      "Accuracy  0.7465007776049767 при количестве итераций: 71 , solver= newton-cg , C= 0.4 , multi_class= auto\n",
      "Accuracy  0.7465007776049767 при количестве итераций: 71 , solver= newton-cg , C= 0.4 , multi_class= ovr\n"
     ]
    },
    {
     "name": "stderr",
     "output_type": "stream",
     "text": [
      "/opt/conda/lib/python3.9/site-packages/scipy/optimize/_linesearch.py:456: LineSearchWarning: The line search algorithm did not converge\n",
      "  warn('The line search algorithm did not converge', LineSearchWarning)\n",
      "/opt/conda/lib/python3.9/site-packages/scipy/optimize/_linesearch.py:305: LineSearchWarning: The line search algorithm did not converge\n",
      "  warn('The line search algorithm did not converge', LineSearchWarning)\n",
      "/opt/conda/lib/python3.9/site-packages/scipy/optimize/_linesearch.py:456: LineSearchWarning: The line search algorithm did not converge\n",
      "  warn('The line search algorithm did not converge', LineSearchWarning)\n",
      "/opt/conda/lib/python3.9/site-packages/scipy/optimize/_linesearch.py:305: LineSearchWarning: The line search algorithm did not converge\n",
      "  warn('The line search algorithm did not converge', LineSearchWarning)\n",
      "/opt/conda/lib/python3.9/site-packages/scipy/optimize/_linesearch.py:456: LineSearchWarning: The line search algorithm did not converge\n",
      "  warn('The line search algorithm did not converge', LineSearchWarning)\n",
      "/opt/conda/lib/python3.9/site-packages/scipy/optimize/_linesearch.py:305: LineSearchWarning: The line search algorithm did not converge\n",
      "  warn('The line search algorithm did not converge', LineSearchWarning)\n",
      "/opt/conda/lib/python3.9/site-packages/scipy/optimize/_linesearch.py:456: LineSearchWarning: The line search algorithm did not converge\n",
      "  warn('The line search algorithm did not converge', LineSearchWarning)\n",
      "/opt/conda/lib/python3.9/site-packages/scipy/optimize/_linesearch.py:305: LineSearchWarning: The line search algorithm did not converge\n",
      "  warn('The line search algorithm did not converge', LineSearchWarning)\n",
      "/opt/conda/lib/python3.9/site-packages/scipy/optimize/_linesearch.py:456: LineSearchWarning: The line search algorithm did not converge\n",
      "  warn('The line search algorithm did not converge', LineSearchWarning)\n",
      "/opt/conda/lib/python3.9/site-packages/scipy/optimize/_linesearch.py:305: LineSearchWarning: The line search algorithm did not converge\n",
      "  warn('The line search algorithm did not converge', LineSearchWarning)\n",
      "/opt/conda/lib/python3.9/site-packages/scipy/optimize/_linesearch.py:456: LineSearchWarning: The line search algorithm did not converge\n",
      "  warn('The line search algorithm did not converge', LineSearchWarning)\n",
      "/opt/conda/lib/python3.9/site-packages/scipy/optimize/_linesearch.py:305: LineSearchWarning: The line search algorithm did not converge\n",
      "  warn('The line search algorithm did not converge', LineSearchWarning)\n"
     ]
    },
    {
     "name": "stdout",
     "output_type": "stream",
     "text": [
      "Accuracy  0.7465007776049767 при количестве итераций: 71 , solver= newton-cg , C= 0.5 , multi_class= auto\n",
      "Accuracy  0.7465007776049767 при количестве итераций: 71 , solver= newton-cg , C= 0.5 , multi_class= ovr\n"
     ]
    },
    {
     "name": "stderr",
     "output_type": "stream",
     "text": [
      "/opt/conda/lib/python3.9/site-packages/scipy/optimize/_linesearch.py:456: LineSearchWarning: The line search algorithm did not converge\n",
      "  warn('The line search algorithm did not converge', LineSearchWarning)\n",
      "/opt/conda/lib/python3.9/site-packages/scipy/optimize/_linesearch.py:305: LineSearchWarning: The line search algorithm did not converge\n",
      "  warn('The line search algorithm did not converge', LineSearchWarning)\n",
      "/opt/conda/lib/python3.9/site-packages/scipy/optimize/_linesearch.py:456: LineSearchWarning: The line search algorithm did not converge\n",
      "  warn('The line search algorithm did not converge', LineSearchWarning)\n",
      "/opt/conda/lib/python3.9/site-packages/scipy/optimize/_linesearch.py:305: LineSearchWarning: The line search algorithm did not converge\n",
      "  warn('The line search algorithm did not converge', LineSearchWarning)\n"
     ]
    },
    {
     "name": "stdout",
     "output_type": "stream",
     "text": [
      "Accuracy  0.7465007776049767 при количестве итераций: 71 , solver= newton-cg , C= 0.6 , multi_class= auto\n",
      "Accuracy  0.7465007776049767 при количестве итераций: 71 , solver= newton-cg , C= 0.6 , multi_class= ovr\n"
     ]
    },
    {
     "name": "stderr",
     "output_type": "stream",
     "text": [
      "/opt/conda/lib/python3.9/site-packages/scipy/optimize/_linesearch.py:456: LineSearchWarning: The line search algorithm did not converge\n",
      "  warn('The line search algorithm did not converge', LineSearchWarning)\n",
      "/opt/conda/lib/python3.9/site-packages/scipy/optimize/_linesearch.py:305: LineSearchWarning: The line search algorithm did not converge\n",
      "  warn('The line search algorithm did not converge', LineSearchWarning)\n",
      "/opt/conda/lib/python3.9/site-packages/scipy/optimize/_linesearch.py:456: LineSearchWarning: The line search algorithm did not converge\n",
      "  warn('The line search algorithm did not converge', LineSearchWarning)\n",
      "/opt/conda/lib/python3.9/site-packages/scipy/optimize/_linesearch.py:305: LineSearchWarning: The line search algorithm did not converge\n",
      "  warn('The line search algorithm did not converge', LineSearchWarning)\n"
     ]
    },
    {
     "name": "stdout",
     "output_type": "stream",
     "text": [
      "Accuracy  0.7465007776049767 при количестве итераций: 71 , solver= newton-cg , C= 0.7000000000000001 , multi_class= auto\n",
      "Accuracy  0.7465007776049767 при количестве итераций: 71 , solver= newton-cg , C= 0.7000000000000001 , multi_class= ovr\n",
      "Accuracy  0.7465007776049767 при количестве итераций: 71 , solver= newton-cg , C= 0.8 , multi_class= auto\n",
      "Accuracy  0.7465007776049767 при количестве итераций: 71 , solver= newton-cg , C= 0.8 , multi_class= ovr\n"
     ]
    },
    {
     "name": "stderr",
     "output_type": "stream",
     "text": [
      "/opt/conda/lib/python3.9/site-packages/scipy/optimize/_linesearch.py:456: LineSearchWarning: The line search algorithm did not converge\n",
      "  warn('The line search algorithm did not converge', LineSearchWarning)\n",
      "/opt/conda/lib/python3.9/site-packages/scipy/optimize/_linesearch.py:305: LineSearchWarning: The line search algorithm did not converge\n",
      "  warn('The line search algorithm did not converge', LineSearchWarning)\n",
      "/opt/conda/lib/python3.9/site-packages/scipy/optimize/_linesearch.py:415: LineSearchWarning: Rounding errors prevent the line search from converging\n",
      "  warn(msg, LineSearchWarning)\n",
      "/opt/conda/lib/python3.9/site-packages/scipy/optimize/_linesearch.py:305: LineSearchWarning: The line search algorithm did not converge\n",
      "  warn('The line search algorithm did not converge', LineSearchWarning)\n",
      "/opt/conda/lib/python3.9/site-packages/sklearn/utils/optimize.py:195: UserWarning: Line Search failed\n",
      "  warnings.warn('Line Search failed')\n",
      "/opt/conda/lib/python3.9/site-packages/scipy/optimize/_linesearch.py:456: LineSearchWarning: The line search algorithm did not converge\n",
      "  warn('The line search algorithm did not converge', LineSearchWarning)\n",
      "/opt/conda/lib/python3.9/site-packages/scipy/optimize/_linesearch.py:305: LineSearchWarning: The line search algorithm did not converge\n",
      "  warn('The line search algorithm did not converge', LineSearchWarning)\n",
      "/opt/conda/lib/python3.9/site-packages/scipy/optimize/_linesearch.py:415: LineSearchWarning: Rounding errors prevent the line search from converging\n",
      "  warn(msg, LineSearchWarning)\n",
      "/opt/conda/lib/python3.9/site-packages/scipy/optimize/_linesearch.py:305: LineSearchWarning: The line search algorithm did not converge\n",
      "  warn('The line search algorithm did not converge', LineSearchWarning)\n",
      "/opt/conda/lib/python3.9/site-packages/sklearn/utils/optimize.py:195: UserWarning: Line Search failed\n",
      "  warnings.warn('Line Search failed')\n"
     ]
    },
    {
     "name": "stdout",
     "output_type": "stream",
     "text": [
      "Accuracy  0.7465007776049767 при количестве итераций: 71 , solver= newton-cg , C= 0.9 , multi_class= auto\n",
      "Accuracy  0.7465007776049767 при количестве итераций: 71 , solver= newton-cg , C= 0.9 , multi_class= ovr\n"
     ]
    },
    {
     "name": "stderr",
     "output_type": "stream",
     "text": [
      "/opt/conda/lib/python3.9/site-packages/scipy/optimize/_linesearch.py:456: LineSearchWarning: The line search algorithm did not converge\n",
      "  warn('The line search algorithm did not converge', LineSearchWarning)\n",
      "/opt/conda/lib/python3.9/site-packages/scipy/optimize/_linesearch.py:305: LineSearchWarning: The line search algorithm did not converge\n",
      "  warn('The line search algorithm did not converge', LineSearchWarning)\n",
      "/opt/conda/lib/python3.9/site-packages/scipy/optimize/_linesearch.py:415: LineSearchWarning: Rounding errors prevent the line search from converging\n",
      "  warn(msg, LineSearchWarning)\n",
      "/opt/conda/lib/python3.9/site-packages/scipy/optimize/_linesearch.py:305: LineSearchWarning: The line search algorithm did not converge\n",
      "  warn('The line search algorithm did not converge', LineSearchWarning)\n",
      "/opt/conda/lib/python3.9/site-packages/sklearn/utils/optimize.py:195: UserWarning: Line Search failed\n",
      "  warnings.warn('Line Search failed')\n",
      "/opt/conda/lib/python3.9/site-packages/scipy/optimize/_linesearch.py:456: LineSearchWarning: The line search algorithm did not converge\n",
      "  warn('The line search algorithm did not converge', LineSearchWarning)\n",
      "/opt/conda/lib/python3.9/site-packages/scipy/optimize/_linesearch.py:305: LineSearchWarning: The line search algorithm did not converge\n",
      "  warn('The line search algorithm did not converge', LineSearchWarning)\n",
      "/opt/conda/lib/python3.9/site-packages/scipy/optimize/_linesearch.py:415: LineSearchWarning: Rounding errors prevent the line search from converging\n",
      "  warn(msg, LineSearchWarning)\n",
      "/opt/conda/lib/python3.9/site-packages/scipy/optimize/_linesearch.py:305: LineSearchWarning: The line search algorithm did not converge\n",
      "  warn('The line search algorithm did not converge', LineSearchWarning)\n",
      "/opt/conda/lib/python3.9/site-packages/sklearn/utils/optimize.py:195: UserWarning: Line Search failed\n",
      "  warnings.warn('Line Search failed')\n"
     ]
    },
    {
     "name": "stdout",
     "output_type": "stream",
     "text": [
      "Accuracy  0.7465007776049767 при количестве итераций: 71 , solver= newton-cg , C= 1.0 , multi_class= auto\n",
      "Accuracy  0.7465007776049767 при количестве итераций: 71 , solver= newton-cg , C= 1.0 , multi_class= ovr\n",
      "Accuracy  0.7465007776049767 при количестве итераций: 71 , solver= newton-cg , C= 1.1 , multi_class= auto\n",
      "Accuracy  0.7465007776049767 при количестве итераций: 71 , solver= newton-cg , C= 1.1 , multi_class= ovr\n",
      "Accuracy  0.7465007776049767 при количестве итераций: 71 , solver= newton-cg , C= 1.2000000000000002 , multi_class= auto\n",
      "Accuracy  0.7465007776049767 при количестве итераций: 71 , solver= newton-cg , C= 1.2000000000000002 , multi_class= ovr\n",
      "Accuracy  0.7465007776049767 при количестве итераций: 71 , solver= newton-cg , C= 1.3000000000000003 , multi_class= auto\n"
     ]
    },
    {
     "name": "stderr",
     "output_type": "stream",
     "text": [
      "/opt/conda/lib/python3.9/site-packages/scipy/optimize/_linesearch.py:456: LineSearchWarning: The line search algorithm did not converge\n",
      "  warn('The line search algorithm did not converge', LineSearchWarning)\n",
      "/opt/conda/lib/python3.9/site-packages/scipy/optimize/_linesearch.py:305: LineSearchWarning: The line search algorithm did not converge\n",
      "  warn('The line search algorithm did not converge', LineSearchWarning)\n",
      "/opt/conda/lib/python3.9/site-packages/scipy/optimize/_linesearch.py:456: LineSearchWarning: The line search algorithm did not converge\n",
      "  warn('The line search algorithm did not converge', LineSearchWarning)\n",
      "/opt/conda/lib/python3.9/site-packages/scipy/optimize/_linesearch.py:305: LineSearchWarning: The line search algorithm did not converge\n",
      "  warn('The line search algorithm did not converge', LineSearchWarning)\n"
     ]
    },
    {
     "name": "stdout",
     "output_type": "stream",
     "text": [
      "Accuracy  0.7465007776049767 при количестве итераций: 71 , solver= newton-cg , C= 1.3000000000000003 , multi_class= ovr\n",
      "Accuracy  0.7465007776049767 при количестве итераций: 71 , solver= newton-cg , C= 1.4000000000000001 , multi_class= auto\n",
      "Accuracy  0.7465007776049767 при количестве итераций: 71 , solver= newton-cg , C= 1.4000000000000001 , multi_class= ovr\n",
      "Accuracy  0.7418351477449455 при количестве итераций: 71 , solver= lbfgs , C= 0.1 , multi_class= auto\n",
      "Accuracy  0.7418351477449455 при количестве итераций: 71 , solver= lbfgs , C= 0.1 , multi_class= ovr\n",
      "Accuracy  0.7465007776049767 при количестве итераций: 71 , solver= lbfgs , C= 0.2 , multi_class= auto\n",
      "Accuracy  0.7465007776049767 при количестве итераций: 71 , solver= lbfgs , C= 0.2 , multi_class= ovr\n",
      "Accuracy  0.749611197511664 при количестве итераций: 71 , solver= lbfgs , C= 0.30000000000000004 , multi_class= auto\n",
      "Accuracy  0.749611197511664 при количестве итераций: 71 , solver= lbfgs , C= 0.30000000000000004 , multi_class= ovr\n",
      "Accuracy  0.7465007776049767 при количестве итераций: 71 , solver= lbfgs , C= 0.4 , multi_class= auto\n"
     ]
    },
    {
     "name": "stderr",
     "output_type": "stream",
     "text": [
      "/opt/conda/lib/python3.9/site-packages/sklearn/linear_model/_logistic.py:763: ConvergenceWarning: lbfgs failed to converge (status=1):\n",
      "STOP: TOTAL NO. of ITERATIONS REACHED LIMIT.\n",
      "\n",
      "Increase the number of iterations (max_iter) or scale the data as shown in:\n",
      "    https://scikit-learn.org/stable/modules/preprocessing.html\n",
      "Please also refer to the documentation for alternative solver options:\n",
      "    https://scikit-learn.org/stable/modules/linear_model.html#logistic-regression\n",
      "  n_iter_i = _check_optimize_result(\n",
      "/opt/conda/lib/python3.9/site-packages/sklearn/linear_model/_logistic.py:763: ConvergenceWarning: lbfgs failed to converge (status=1):\n",
      "STOP: TOTAL NO. of ITERATIONS REACHED LIMIT.\n",
      "\n",
      "Increase the number of iterations (max_iter) or scale the data as shown in:\n",
      "    https://scikit-learn.org/stable/modules/preprocessing.html\n",
      "Please also refer to the documentation for alternative solver options:\n",
      "    https://scikit-learn.org/stable/modules/linear_model.html#logistic-regression\n",
      "  n_iter_i = _check_optimize_result(\n",
      "/opt/conda/lib/python3.9/site-packages/sklearn/linear_model/_logistic.py:763: ConvergenceWarning: lbfgs failed to converge (status=1):\n",
      "STOP: TOTAL NO. of ITERATIONS REACHED LIMIT.\n",
      "\n",
      "Increase the number of iterations (max_iter) or scale the data as shown in:\n",
      "    https://scikit-learn.org/stable/modules/preprocessing.html\n",
      "Please also refer to the documentation for alternative solver options:\n",
      "    https://scikit-learn.org/stable/modules/linear_model.html#logistic-regression\n",
      "  n_iter_i = _check_optimize_result(\n",
      "/opt/conda/lib/python3.9/site-packages/sklearn/linear_model/_logistic.py:763: ConvergenceWarning: lbfgs failed to converge (status=1):\n",
      "STOP: TOTAL NO. of ITERATIONS REACHED LIMIT.\n",
      "\n",
      "Increase the number of iterations (max_iter) or scale the data as shown in:\n",
      "    https://scikit-learn.org/stable/modules/preprocessing.html\n",
      "Please also refer to the documentation for alternative solver options:\n",
      "    https://scikit-learn.org/stable/modules/linear_model.html#logistic-regression\n",
      "  n_iter_i = _check_optimize_result(\n",
      "/opt/conda/lib/python3.9/site-packages/sklearn/linear_model/_logistic.py:763: ConvergenceWarning: lbfgs failed to converge (status=1):\n",
      "STOP: TOTAL NO. of ITERATIONS REACHED LIMIT.\n",
      "\n",
      "Increase the number of iterations (max_iter) or scale the data as shown in:\n",
      "    https://scikit-learn.org/stable/modules/preprocessing.html\n",
      "Please also refer to the documentation for alternative solver options:\n",
      "    https://scikit-learn.org/stable/modules/linear_model.html#logistic-regression\n",
      "  n_iter_i = _check_optimize_result(\n",
      "/opt/conda/lib/python3.9/site-packages/sklearn/linear_model/_logistic.py:763: ConvergenceWarning: lbfgs failed to converge (status=1):\n",
      "STOP: TOTAL NO. of ITERATIONS REACHED LIMIT.\n",
      "\n",
      "Increase the number of iterations (max_iter) or scale the data as shown in:\n",
      "    https://scikit-learn.org/stable/modules/preprocessing.html\n",
      "Please also refer to the documentation for alternative solver options:\n",
      "    https://scikit-learn.org/stable/modules/linear_model.html#logistic-regression\n",
      "  n_iter_i = _check_optimize_result(\n"
     ]
    },
    {
     "name": "stdout",
     "output_type": "stream",
     "text": [
      "Accuracy  0.7465007776049767 при количестве итераций: 71 , solver= lbfgs , C= 0.4 , multi_class= ovr\n",
      "Accuracy  0.7465007776049767 при количестве итераций: 71 , solver= lbfgs , C= 0.5 , multi_class= auto\n",
      "Accuracy  0.7465007776049767 при количестве итераций: 71 , solver= lbfgs , C= 0.5 , multi_class= ovr\n",
      "Accuracy  0.7231726283048211 при количестве итераций: 71 , solver= lbfgs , C= 0.6 , multi_class= auto\n",
      "Accuracy  0.7231726283048211 при количестве итераций: 71 , solver= lbfgs , C= 0.6 , multi_class= ovr\n",
      "Accuracy  0.7465007776049767 при количестве итераций: 71 , solver= lbfgs , C= 0.7000000000000001 , multi_class= auto\n",
      "Accuracy  0.7465007776049767 при количестве итераций: 71 , solver= lbfgs , C= 0.7000000000000001 , multi_class= ovr\n",
      "Accuracy  0.7480559875583204 при количестве итераций: 71 , solver= lbfgs , C= 0.8 , multi_class= auto\n"
     ]
    },
    {
     "name": "stderr",
     "output_type": "stream",
     "text": [
      "/opt/conda/lib/python3.9/site-packages/sklearn/linear_model/_logistic.py:763: ConvergenceWarning: lbfgs failed to converge (status=1):\n",
      "STOP: TOTAL NO. of ITERATIONS REACHED LIMIT.\n",
      "\n",
      "Increase the number of iterations (max_iter) or scale the data as shown in:\n",
      "    https://scikit-learn.org/stable/modules/preprocessing.html\n",
      "Please also refer to the documentation for alternative solver options:\n",
      "    https://scikit-learn.org/stable/modules/linear_model.html#logistic-regression\n",
      "  n_iter_i = _check_optimize_result(\n",
      "/opt/conda/lib/python3.9/site-packages/sklearn/linear_model/_logistic.py:763: ConvergenceWarning: lbfgs failed to converge (status=1):\n",
      "STOP: TOTAL NO. of ITERATIONS REACHED LIMIT.\n",
      "\n",
      "Increase the number of iterations (max_iter) or scale the data as shown in:\n",
      "    https://scikit-learn.org/stable/modules/preprocessing.html\n",
      "Please also refer to the documentation for alternative solver options:\n",
      "    https://scikit-learn.org/stable/modules/linear_model.html#logistic-regression\n",
      "  n_iter_i = _check_optimize_result(\n",
      "/opt/conda/lib/python3.9/site-packages/sklearn/linear_model/_logistic.py:763: ConvergenceWarning: lbfgs failed to converge (status=1):\n",
      "STOP: TOTAL NO. of ITERATIONS REACHED LIMIT.\n",
      "\n",
      "Increase the number of iterations (max_iter) or scale the data as shown in:\n",
      "    https://scikit-learn.org/stable/modules/preprocessing.html\n",
      "Please also refer to the documentation for alternative solver options:\n",
      "    https://scikit-learn.org/stable/modules/linear_model.html#logistic-regression\n",
      "  n_iter_i = _check_optimize_result(\n",
      "/opt/conda/lib/python3.9/site-packages/sklearn/linear_model/_logistic.py:763: ConvergenceWarning: lbfgs failed to converge (status=1):\n",
      "STOP: TOTAL NO. of ITERATIONS REACHED LIMIT.\n",
      "\n",
      "Increase the number of iterations (max_iter) or scale the data as shown in:\n",
      "    https://scikit-learn.org/stable/modules/preprocessing.html\n",
      "Please also refer to the documentation for alternative solver options:\n",
      "    https://scikit-learn.org/stable/modules/linear_model.html#logistic-regression\n",
      "  n_iter_i = _check_optimize_result(\n",
      "/opt/conda/lib/python3.9/site-packages/sklearn/linear_model/_logistic.py:763: ConvergenceWarning: lbfgs failed to converge (status=1):\n",
      "STOP: TOTAL NO. of ITERATIONS REACHED LIMIT.\n",
      "\n",
      "Increase the number of iterations (max_iter) or scale the data as shown in:\n",
      "    https://scikit-learn.org/stable/modules/preprocessing.html\n",
      "Please also refer to the documentation for alternative solver options:\n",
      "    https://scikit-learn.org/stable/modules/linear_model.html#logistic-regression\n",
      "  n_iter_i = _check_optimize_result(\n",
      "/opt/conda/lib/python3.9/site-packages/sklearn/linear_model/_logistic.py:763: ConvergenceWarning: lbfgs failed to converge (status=1):\n",
      "STOP: TOTAL NO. of ITERATIONS REACHED LIMIT.\n",
      "\n",
      "Increase the number of iterations (max_iter) or scale the data as shown in:\n",
      "    https://scikit-learn.org/stable/modules/preprocessing.html\n",
      "Please also refer to the documentation for alternative solver options:\n",
      "    https://scikit-learn.org/stable/modules/linear_model.html#logistic-regression\n",
      "  n_iter_i = _check_optimize_result(\n"
     ]
    },
    {
     "name": "stdout",
     "output_type": "stream",
     "text": [
      "Accuracy  0.7480559875583204 при количестве итераций: 71 , solver= lbfgs , C= 0.8 , multi_class= ovr\n",
      "Accuracy  0.7465007776049767 при количестве итераций: 71 , solver= lbfgs , C= 0.9 , multi_class= auto\n",
      "Accuracy  0.7465007776049767 при количестве итераций: 71 , solver= lbfgs , C= 0.9 , multi_class= ovr\n",
      "Accuracy  0.7480559875583204 при количестве итераций: 71 , solver= lbfgs , C= 1.0 , multi_class= auto\n",
      "Accuracy  0.7480559875583204 при количестве итераций: 71 , solver= lbfgs , C= 1.0 , multi_class= ovr\n",
      "Accuracy  0.7465007776049767 при количестве итераций: 71 , solver= lbfgs , C= 1.1 , multi_class= auto\n",
      "Accuracy  0.7465007776049767 при количестве итераций: 71 , solver= lbfgs , C= 1.1 , multi_class= ovr\n"
     ]
    },
    {
     "name": "stderr",
     "output_type": "stream",
     "text": [
      "/opt/conda/lib/python3.9/site-packages/sklearn/linear_model/_logistic.py:763: ConvergenceWarning: lbfgs failed to converge (status=1):\n",
      "STOP: TOTAL NO. of ITERATIONS REACHED LIMIT.\n",
      "\n",
      "Increase the number of iterations (max_iter) or scale the data as shown in:\n",
      "    https://scikit-learn.org/stable/modules/preprocessing.html\n",
      "Please also refer to the documentation for alternative solver options:\n",
      "    https://scikit-learn.org/stable/modules/linear_model.html#logistic-regression\n",
      "  n_iter_i = _check_optimize_result(\n",
      "/opt/conda/lib/python3.9/site-packages/sklearn/linear_model/_logistic.py:763: ConvergenceWarning: lbfgs failed to converge (status=1):\n",
      "STOP: TOTAL NO. of ITERATIONS REACHED LIMIT.\n",
      "\n",
      "Increase the number of iterations (max_iter) or scale the data as shown in:\n",
      "    https://scikit-learn.org/stable/modules/preprocessing.html\n",
      "Please also refer to the documentation for alternative solver options:\n",
      "    https://scikit-learn.org/stable/modules/linear_model.html#logistic-regression\n",
      "  n_iter_i = _check_optimize_result(\n",
      "/opt/conda/lib/python3.9/site-packages/sklearn/linear_model/_logistic.py:763: ConvergenceWarning: lbfgs failed to converge (status=1):\n",
      "STOP: TOTAL NO. of ITERATIONS REACHED LIMIT.\n",
      "\n",
      "Increase the number of iterations (max_iter) or scale the data as shown in:\n",
      "    https://scikit-learn.org/stable/modules/preprocessing.html\n",
      "Please also refer to the documentation for alternative solver options:\n",
      "    https://scikit-learn.org/stable/modules/linear_model.html#logistic-regression\n",
      "  n_iter_i = _check_optimize_result(\n",
      "/opt/conda/lib/python3.9/site-packages/sklearn/linear_model/_logistic.py:763: ConvergenceWarning: lbfgs failed to converge (status=1):\n",
      "STOP: TOTAL NO. of ITERATIONS REACHED LIMIT.\n",
      "\n",
      "Increase the number of iterations (max_iter) or scale the data as shown in:\n",
      "    https://scikit-learn.org/stable/modules/preprocessing.html\n",
      "Please also refer to the documentation for alternative solver options:\n",
      "    https://scikit-learn.org/stable/modules/linear_model.html#logistic-regression\n",
      "  n_iter_i = _check_optimize_result(\n",
      "/opt/conda/lib/python3.9/site-packages/sklearn/linear_model/_logistic.py:763: ConvergenceWarning: lbfgs failed to converge (status=1):\n",
      "STOP: TOTAL NO. of ITERATIONS REACHED LIMIT.\n",
      "\n",
      "Increase the number of iterations (max_iter) or scale the data as shown in:\n",
      "    https://scikit-learn.org/stable/modules/preprocessing.html\n",
      "Please also refer to the documentation for alternative solver options:\n",
      "    https://scikit-learn.org/stable/modules/linear_model.html#logistic-regression\n",
      "  n_iter_i = _check_optimize_result(\n",
      "/opt/conda/lib/python3.9/site-packages/sklearn/linear_model/_logistic.py:763: ConvergenceWarning: lbfgs failed to converge (status=1):\n",
      "STOP: TOTAL NO. of ITERATIONS REACHED LIMIT.\n",
      "\n",
      "Increase the number of iterations (max_iter) or scale the data as shown in:\n",
      "    https://scikit-learn.org/stable/modules/preprocessing.html\n",
      "Please also refer to the documentation for alternative solver options:\n",
      "    https://scikit-learn.org/stable/modules/linear_model.html#logistic-regression\n",
      "  n_iter_i = _check_optimize_result(\n",
      "/opt/conda/lib/python3.9/site-packages/sklearn/linear_model/_logistic.py:763: ConvergenceWarning: lbfgs failed to converge (status=1):\n",
      "STOP: TOTAL NO. of ITERATIONS REACHED LIMIT.\n",
      "\n",
      "Increase the number of iterations (max_iter) or scale the data as shown in:\n",
      "    https://scikit-learn.org/stable/modules/preprocessing.html\n",
      "Please also refer to the documentation for alternative solver options:\n",
      "    https://scikit-learn.org/stable/modules/linear_model.html#logistic-regression\n",
      "  n_iter_i = _check_optimize_result(\n",
      "/opt/conda/lib/python3.9/site-packages/sklearn/linear_model/_logistic.py:763: ConvergenceWarning: lbfgs failed to converge (status=1):\n",
      "STOP: TOTAL NO. of ITERATIONS REACHED LIMIT.\n",
      "\n",
      "Increase the number of iterations (max_iter) or scale the data as shown in:\n",
      "    https://scikit-learn.org/stable/modules/preprocessing.html\n",
      "Please also refer to the documentation for alternative solver options:\n",
      "    https://scikit-learn.org/stable/modules/linear_model.html#logistic-regression\n",
      "  n_iter_i = _check_optimize_result(\n"
     ]
    },
    {
     "name": "stdout",
     "output_type": "stream",
     "text": [
      "Accuracy  0.7309486780715396 при количестве итераций: 71 , solver= lbfgs , C= 1.2000000000000002 , multi_class= auto\n",
      "Accuracy  0.7309486780715396 при количестве итераций: 71 , solver= lbfgs , C= 1.2000000000000002 , multi_class= ovr\n",
      "Accuracy  0.7402799377916018 при количестве итераций: 71 , solver= lbfgs , C= 1.3000000000000003 , multi_class= auto\n",
      "Accuracy  0.7402799377916018 при количестве итераций: 71 , solver= lbfgs , C= 1.3000000000000003 , multi_class= ovr\n",
      "Accuracy  0.7465007776049767 при количестве итераций: 71 , solver= lbfgs , C= 1.4000000000000001 , multi_class= auto\n",
      "Accuracy  0.7465007776049767 при количестве итераций: 71 , solver= lbfgs , C= 1.4000000000000001 , multi_class= ovr\n",
      "Accuracy  0.7107309486780715 при количестве итераций: 71 , solver= liblinear , C= 0.1 , multi_class= auto\n",
      "Accuracy  0.7107309486780715 при количестве итераций: 71 , solver= liblinear , C= 0.1 , multi_class= ovr\n",
      "Accuracy  0.7107309486780715 при количестве итераций: 71 , solver= liblinear , C= 0.2 , multi_class= auto\n",
      "Accuracy  0.7107309486780715 при количестве итераций: 71 , solver= liblinear , C= 0.2 , multi_class= ovr\n",
      "Accuracy  0.7107309486780715 при количестве итераций: 71 , solver= liblinear , C= 0.30000000000000004 , multi_class= auto\n",
      "Accuracy  0.7107309486780715 при количестве итераций: 71 , solver= liblinear , C= 0.30000000000000004 , multi_class= ovr\n",
      "Accuracy  0.7107309486780715 при количестве итераций: 71 , solver= liblinear , C= 0.4 , multi_class= auto\n",
      "Accuracy  0.7107309486780715 при количестве итераций: 71 , solver= liblinear , C= 0.4 , multi_class= ovr\n",
      "Accuracy  0.7107309486780715 при количестве итераций: 71 , solver= liblinear , C= 0.5 , multi_class= auto\n"
     ]
    },
    {
     "name": "stderr",
     "output_type": "stream",
     "text": [
      "/opt/conda/lib/python3.9/site-packages/sklearn/linear_model/_logistic.py:763: ConvergenceWarning: lbfgs failed to converge (status=1):\n",
      "STOP: TOTAL NO. of ITERATIONS REACHED LIMIT.\n",
      "\n",
      "Increase the number of iterations (max_iter) or scale the data as shown in:\n",
      "    https://scikit-learn.org/stable/modules/preprocessing.html\n",
      "Please also refer to the documentation for alternative solver options:\n",
      "    https://scikit-learn.org/stable/modules/linear_model.html#logistic-regression\n",
      "  n_iter_i = _check_optimize_result(\n",
      "/opt/conda/lib/python3.9/site-packages/sklearn/linear_model/_logistic.py:763: ConvergenceWarning: lbfgs failed to converge (status=1):\n",
      "STOP: TOTAL NO. of ITERATIONS REACHED LIMIT.\n",
      "\n",
      "Increase the number of iterations (max_iter) or scale the data as shown in:\n",
      "    https://scikit-learn.org/stable/modules/preprocessing.html\n",
      "Please also refer to the documentation for alternative solver options:\n",
      "    https://scikit-learn.org/stable/modules/linear_model.html#logistic-regression\n",
      "  n_iter_i = _check_optimize_result(\n"
     ]
    },
    {
     "name": "stdout",
     "output_type": "stream",
     "text": [
      "Accuracy  0.7107309486780715 при количестве итераций: 71 , solver= liblinear , C= 0.5 , multi_class= ovr\n",
      "Accuracy  0.7107309486780715 при количестве итераций: 71 , solver= liblinear , C= 0.6 , multi_class= auto\n",
      "Accuracy  0.7107309486780715 при количестве итераций: 71 , solver= liblinear , C= 0.6 , multi_class= ovr\n",
      "Accuracy  0.7107309486780715 при количестве итераций: 71 , solver= liblinear , C= 0.7000000000000001 , multi_class= auto\n",
      "Accuracy  0.7107309486780715 при количестве итераций: 71 , solver= liblinear , C= 0.7000000000000001 , multi_class= ovr\n",
      "Accuracy  0.7107309486780715 при количестве итераций: 71 , solver= liblinear , C= 0.8 , multi_class= auto\n",
      "Accuracy  0.7107309486780715 при количестве итераций: 71 , solver= liblinear , C= 0.8 , multi_class= ovr\n",
      "Accuracy  0.7107309486780715 при количестве итераций: 71 , solver= liblinear , C= 0.9 , multi_class= auto\n",
      "Accuracy  0.7107309486780715 при количестве итераций: 71 , solver= liblinear , C= 0.9 , multi_class= ovr\n",
      "Accuracy  0.7107309486780715 при количестве итераций: 71 , solver= liblinear , C= 1.0 , multi_class= auto\n",
      "Accuracy  0.7107309486780715 при количестве итераций: 71 , solver= liblinear , C= 1.0 , multi_class= ovr\n",
      "Accuracy  0.7107309486780715 при количестве итераций: 71 , solver= liblinear , C= 1.1 , multi_class= auto\n",
      "Accuracy  0.7107309486780715 при количестве итераций: 71 , solver= liblinear , C= 1.1 , multi_class= ovr\n",
      "Accuracy  0.7107309486780715 при количестве итераций: 71 , solver= liblinear , C= 1.2000000000000002 , multi_class= auto\n",
      "Accuracy  0.7107309486780715 при количестве итераций: 71 , solver= liblinear , C= 1.2000000000000002 , multi_class= ovr\n",
      "Accuracy  0.7107309486780715 при количестве итераций: 71 , solver= liblinear , C= 1.3000000000000003 , multi_class= auto\n",
      "Accuracy  0.7107309486780715 при количестве итераций: 71 , solver= liblinear , C= 1.3000000000000003 , multi_class= ovr\n",
      "Accuracy  0.7107309486780715 при количестве итераций: 71 , solver= liblinear , C= 1.4000000000000001 , multi_class= auto\n",
      "Accuracy  0.7107309486780715 при количестве итераций: 71 , solver= liblinear , C= 1.4000000000000001 , multi_class= ovr\n",
      "Accuracy  0.6936236391912908 при количестве итераций: 71 , solver= sag , C= 0.1 , multi_class= auto\n",
      "Accuracy  0.6936236391912908 при количестве итераций: 71 , solver= sag , C= 0.1 , multi_class= ovr\n",
      "Accuracy  0.6936236391912908 при количестве итераций: 71 , solver= sag , C= 0.2 , multi_class= auto\n",
      "Accuracy  0.6936236391912908 при количестве итераций: 71 , solver= sag , C= 0.2 , multi_class= ovr\n"
     ]
    },
    {
     "name": "stderr",
     "output_type": "stream",
     "text": [
      "/opt/conda/lib/python3.9/site-packages/sklearn/linear_model/_sag.py:328: ConvergenceWarning: The max_iter was reached which means the coef_ did not converge\n",
      "  warnings.warn(\"The max_iter was reached which means \"\n",
      "/opt/conda/lib/python3.9/site-packages/sklearn/linear_model/_sag.py:328: ConvergenceWarning: The max_iter was reached which means the coef_ did not converge\n",
      "  warnings.warn(\"The max_iter was reached which means \"\n",
      "/opt/conda/lib/python3.9/site-packages/sklearn/linear_model/_sag.py:328: ConvergenceWarning: The max_iter was reached which means the coef_ did not converge\n",
      "  warnings.warn(\"The max_iter was reached which means \"\n",
      "/opt/conda/lib/python3.9/site-packages/sklearn/linear_model/_sag.py:328: ConvergenceWarning: The max_iter was reached which means the coef_ did not converge\n",
      "  warnings.warn(\"The max_iter was reached which means \"\n",
      "/opt/conda/lib/python3.9/site-packages/sklearn/linear_model/_sag.py:328: ConvergenceWarning: The max_iter was reached which means the coef_ did not converge\n",
      "  warnings.warn(\"The max_iter was reached which means \"\n",
      "/opt/conda/lib/python3.9/site-packages/sklearn/linear_model/_sag.py:328: ConvergenceWarning: The max_iter was reached which means the coef_ did not converge\n",
      "  warnings.warn(\"The max_iter was reached which means \"\n",
      "/opt/conda/lib/python3.9/site-packages/sklearn/linear_model/_sag.py:328: ConvergenceWarning: The max_iter was reached which means the coef_ did not converge\n",
      "  warnings.warn(\"The max_iter was reached which means \"\n",
      "/opt/conda/lib/python3.9/site-packages/sklearn/linear_model/_sag.py:328: ConvergenceWarning: The max_iter was reached which means the coef_ did not converge\n",
      "  warnings.warn(\"The max_iter was reached which means \"\n",
      "/opt/conda/lib/python3.9/site-packages/sklearn/linear_model/_sag.py:328: ConvergenceWarning: The max_iter was reached which means the coef_ did not converge\n",
      "  warnings.warn(\"The max_iter was reached which means \"\n",
      "/opt/conda/lib/python3.9/site-packages/sklearn/linear_model/_sag.py:328: ConvergenceWarning: The max_iter was reached which means the coef_ did not converge\n",
      "  warnings.warn(\"The max_iter was reached which means \"\n",
      "/opt/conda/lib/python3.9/site-packages/sklearn/linear_model/_sag.py:328: ConvergenceWarning: The max_iter was reached which means the coef_ did not converge\n",
      "  warnings.warn(\"The max_iter was reached which means \"\n",
      "/opt/conda/lib/python3.9/site-packages/sklearn/linear_model/_sag.py:328: ConvergenceWarning: The max_iter was reached which means the coef_ did not converge\n",
      "  warnings.warn(\"The max_iter was reached which means \"\n"
     ]
    },
    {
     "name": "stdout",
     "output_type": "stream",
     "text": [
      "Accuracy  0.6936236391912908 при количестве итераций: 71 , solver= sag , C= 0.30000000000000004 , multi_class= auto\n",
      "Accuracy  0.6936236391912908 при количестве итераций: 71 , solver= sag , C= 0.30000000000000004 , multi_class= ovr\n",
      "Accuracy  0.6936236391912908 при количестве итераций: 71 , solver= sag , C= 0.4 , multi_class= auto\n",
      "Accuracy  0.6936236391912908 при количестве итераций: 71 , solver= sag , C= 0.4 , multi_class= ovr\n",
      "Accuracy  0.6936236391912908 при количестве итераций: 71 , solver= sag , C= 0.5 , multi_class= auto\n",
      "Accuracy  0.6936236391912908 при количестве итераций: 71 , solver= sag , C= 0.5 , multi_class= ovr\n",
      "Accuracy  0.6936236391912908 при количестве итераций: 71 , solver= sag , C= 0.6 , multi_class= auto\n",
      "Accuracy  0.6936236391912908 при количестве итераций: 71 , solver= sag , C= 0.6 , multi_class= ovr\n",
      "Accuracy  0.6936236391912908 при количестве итераций: 71 , solver= sag , C= 0.7000000000000001 , multi_class= auto\n",
      "Accuracy  0.6936236391912908 при количестве итераций: 71 , solver= sag , C= 0.7000000000000001 , multi_class= ovr\n",
      "Accuracy  0.6936236391912908 при количестве итераций: 71 , solver= sag , C= 0.8 , multi_class= auto\n",
      "Accuracy  0.6936236391912908 при количестве итераций: 71 , solver= sag , C= 0.8 , multi_class= ovr\n"
     ]
    },
    {
     "name": "stderr",
     "output_type": "stream",
     "text": [
      "/opt/conda/lib/python3.9/site-packages/sklearn/linear_model/_sag.py:328: ConvergenceWarning: The max_iter was reached which means the coef_ did not converge\n",
      "  warnings.warn(\"The max_iter was reached which means \"\n",
      "/opt/conda/lib/python3.9/site-packages/sklearn/linear_model/_sag.py:328: ConvergenceWarning: The max_iter was reached which means the coef_ did not converge\n",
      "  warnings.warn(\"The max_iter was reached which means \"\n",
      "/opt/conda/lib/python3.9/site-packages/sklearn/linear_model/_sag.py:328: ConvergenceWarning: The max_iter was reached which means the coef_ did not converge\n",
      "  warnings.warn(\"The max_iter was reached which means \"\n",
      "/opt/conda/lib/python3.9/site-packages/sklearn/linear_model/_sag.py:328: ConvergenceWarning: The max_iter was reached which means the coef_ did not converge\n",
      "  warnings.warn(\"The max_iter was reached which means \"\n",
      "/opt/conda/lib/python3.9/site-packages/sklearn/linear_model/_sag.py:328: ConvergenceWarning: The max_iter was reached which means the coef_ did not converge\n",
      "  warnings.warn(\"The max_iter was reached which means \"\n",
      "/opt/conda/lib/python3.9/site-packages/sklearn/linear_model/_sag.py:328: ConvergenceWarning: The max_iter was reached which means the coef_ did not converge\n",
      "  warnings.warn(\"The max_iter was reached which means \"\n",
      "/opt/conda/lib/python3.9/site-packages/sklearn/linear_model/_sag.py:328: ConvergenceWarning: The max_iter was reached which means the coef_ did not converge\n",
      "  warnings.warn(\"The max_iter was reached which means \"\n",
      "/opt/conda/lib/python3.9/site-packages/sklearn/linear_model/_sag.py:328: ConvergenceWarning: The max_iter was reached which means the coef_ did not converge\n",
      "  warnings.warn(\"The max_iter was reached which means \"\n",
      "/opt/conda/lib/python3.9/site-packages/sklearn/linear_model/_sag.py:328: ConvergenceWarning: The max_iter was reached which means the coef_ did not converge\n",
      "  warnings.warn(\"The max_iter was reached which means \"\n",
      "/opt/conda/lib/python3.9/site-packages/sklearn/linear_model/_sag.py:328: ConvergenceWarning: The max_iter was reached which means the coef_ did not converge\n",
      "  warnings.warn(\"The max_iter was reached which means \"\n",
      "/opt/conda/lib/python3.9/site-packages/sklearn/linear_model/_sag.py:328: ConvergenceWarning: The max_iter was reached which means the coef_ did not converge\n",
      "  warnings.warn(\"The max_iter was reached which means \"\n"
     ]
    },
    {
     "name": "stdout",
     "output_type": "stream",
     "text": [
      "Accuracy  0.6936236391912908 при количестве итераций: 71 , solver= sag , C= 0.9 , multi_class= auto\n",
      "Accuracy  0.6936236391912908 при количестве итераций: 71 , solver= sag , C= 0.9 , multi_class= ovr\n",
      "Accuracy  0.6936236391912908 при количестве итераций: 71 , solver= sag , C= 1.0 , multi_class= auto\n",
      "Accuracy  0.6936236391912908 при количестве итераций: 71 , solver= sag , C= 1.0 , multi_class= ovr\n",
      "Accuracy  0.6936236391912908 при количестве итераций: 71 , solver= sag , C= 1.1 , multi_class= auto\n",
      "Accuracy  0.6936236391912908 при количестве итераций: 71 , solver= sag , C= 1.1 , multi_class= ovr\n",
      "Accuracy  0.6936236391912908 при количестве итераций: 71 , solver= sag , C= 1.2000000000000002 , multi_class= auto\n",
      "Accuracy  0.6936236391912908 при количестве итераций: 71 , solver= sag , C= 1.2000000000000002 , multi_class= ovr\n",
      "Accuracy  0.6936236391912908 при количестве итераций: 71 , solver= sag , C= 1.3000000000000003 , multi_class= auto\n",
      "Accuracy  0.6936236391912908 при количестве итераций: 71 , solver= sag , C= 1.3000000000000003 , multi_class= ovr\n",
      "Accuracy  0.6936236391912908 при количестве итераций: 71 , solver= sag , C= 1.4000000000000001 , multi_class= auto\n",
      "Accuracy  0.6936236391912908 при количестве итераций: 71 , solver= sag , C= 1.4000000000000001 , multi_class= ovr\n"
     ]
    },
    {
     "name": "stderr",
     "output_type": "stream",
     "text": [
      "/opt/conda/lib/python3.9/site-packages/sklearn/linear_model/_sag.py:328: ConvergenceWarning: The max_iter was reached which means the coef_ did not converge\n",
      "  warnings.warn(\"The max_iter was reached which means \"\n",
      "/opt/conda/lib/python3.9/site-packages/sklearn/linear_model/_sag.py:328: ConvergenceWarning: The max_iter was reached which means the coef_ did not converge\n",
      "  warnings.warn(\"The max_iter was reached which means \"\n",
      "/opt/conda/lib/python3.9/site-packages/sklearn/linear_model/_sag.py:328: ConvergenceWarning: The max_iter was reached which means the coef_ did not converge\n",
      "  warnings.warn(\"The max_iter was reached which means \"\n",
      "/opt/conda/lib/python3.9/site-packages/sklearn/linear_model/_sag.py:328: ConvergenceWarning: The max_iter was reached which means the coef_ did not converge\n",
      "  warnings.warn(\"The max_iter was reached which means \"\n",
      "/opt/conda/lib/python3.9/site-packages/sklearn/linear_model/_sag.py:328: ConvergenceWarning: The max_iter was reached which means the coef_ did not converge\n",
      "  warnings.warn(\"The max_iter was reached which means \"\n",
      "/opt/conda/lib/python3.9/site-packages/sklearn/linear_model/_sag.py:328: ConvergenceWarning: The max_iter was reached which means the coef_ did not converge\n",
      "  warnings.warn(\"The max_iter was reached which means \"\n",
      "/opt/conda/lib/python3.9/site-packages/sklearn/linear_model/_sag.py:328: ConvergenceWarning: The max_iter was reached which means the coef_ did not converge\n",
      "  warnings.warn(\"The max_iter was reached which means \"\n",
      "/opt/conda/lib/python3.9/site-packages/sklearn/linear_model/_sag.py:328: ConvergenceWarning: The max_iter was reached which means the coef_ did not converge\n",
      "  warnings.warn(\"The max_iter was reached which means \"\n",
      "/opt/conda/lib/python3.9/site-packages/sklearn/linear_model/_sag.py:328: ConvergenceWarning: The max_iter was reached which means the coef_ did not converge\n",
      "  warnings.warn(\"The max_iter was reached which means \"\n",
      "/opt/conda/lib/python3.9/site-packages/sklearn/linear_model/_sag.py:328: ConvergenceWarning: The max_iter was reached which means the coef_ did not converge\n",
      "  warnings.warn(\"The max_iter was reached which means \"\n",
      "/opt/conda/lib/python3.9/site-packages/sklearn/linear_model/_sag.py:328: ConvergenceWarning: The max_iter was reached which means the coef_ did not converge\n",
      "  warnings.warn(\"The max_iter was reached which means \"\n",
      "/opt/conda/lib/python3.9/site-packages/sklearn/linear_model/_sag.py:328: ConvergenceWarning: The max_iter was reached which means the coef_ did not converge\n",
      "  warnings.warn(\"The max_iter was reached which means \"\n"
     ]
    },
    {
     "name": "stdout",
     "output_type": "stream",
     "text": [
      "Accuracy  0.6936236391912908 при количестве итераций: 71 , solver= saga , C= 0.1 , multi_class= auto\n",
      "Accuracy  0.6936236391912908 при количестве итераций: 71 , solver= saga , C= 0.1 , multi_class= ovr\n",
      "Accuracy  0.6936236391912908 при количестве итераций: 71 , solver= saga , C= 0.2 , multi_class= auto\n",
      "Accuracy  0.6936236391912908 при количестве итераций: 71 , solver= saga , C= 0.2 , multi_class= ovr\n",
      "Accuracy  0.6936236391912908 при количестве итераций: 71 , solver= saga , C= 0.30000000000000004 , multi_class= auto\n",
      "Accuracy  0.6936236391912908 при количестве итераций: 71 , solver= saga , C= 0.30000000000000004 , multi_class= ovr\n",
      "Accuracy  0.6936236391912908 при количестве итераций: 71 , solver= saga , C= 0.4 , multi_class= auto\n",
      "Accuracy  0.6936236391912908 при количестве итераций: 71 , solver= saga , C= 0.4 , multi_class= ovr\n",
      "Accuracy  0.6936236391912908 при количестве итераций: 71 , solver= saga , C= 0.5 , multi_class= auto\n",
      "Accuracy  0.6936236391912908 при количестве итераций: 71 , solver= saga , C= 0.5 , multi_class= ovr\n",
      "Accuracy  0.6936236391912908 при количестве итераций: 71 , solver= saga , C= 0.6 , multi_class= auto\n",
      "Accuracy  0.6936236391912908 при количестве итераций: 71 , solver= saga , C= 0.6 , multi_class= ovr\n"
     ]
    },
    {
     "name": "stderr",
     "output_type": "stream",
     "text": [
      "/opt/conda/lib/python3.9/site-packages/sklearn/linear_model/_sag.py:328: ConvergenceWarning: The max_iter was reached which means the coef_ did not converge\n",
      "  warnings.warn(\"The max_iter was reached which means \"\n",
      "/opt/conda/lib/python3.9/site-packages/sklearn/linear_model/_sag.py:328: ConvergenceWarning: The max_iter was reached which means the coef_ did not converge\n",
      "  warnings.warn(\"The max_iter was reached which means \"\n",
      "/opt/conda/lib/python3.9/site-packages/sklearn/linear_model/_sag.py:328: ConvergenceWarning: The max_iter was reached which means the coef_ did not converge\n",
      "  warnings.warn(\"The max_iter was reached which means \"\n",
      "/opt/conda/lib/python3.9/site-packages/sklearn/linear_model/_sag.py:328: ConvergenceWarning: The max_iter was reached which means the coef_ did not converge\n",
      "  warnings.warn(\"The max_iter was reached which means \"\n",
      "/opt/conda/lib/python3.9/site-packages/sklearn/linear_model/_sag.py:328: ConvergenceWarning: The max_iter was reached which means the coef_ did not converge\n",
      "  warnings.warn(\"The max_iter was reached which means \"\n",
      "/opt/conda/lib/python3.9/site-packages/sklearn/linear_model/_sag.py:328: ConvergenceWarning: The max_iter was reached which means the coef_ did not converge\n",
      "  warnings.warn(\"The max_iter was reached which means \"\n",
      "/opt/conda/lib/python3.9/site-packages/sklearn/linear_model/_sag.py:328: ConvergenceWarning: The max_iter was reached which means the coef_ did not converge\n",
      "  warnings.warn(\"The max_iter was reached which means \"\n",
      "/opt/conda/lib/python3.9/site-packages/sklearn/linear_model/_sag.py:328: ConvergenceWarning: The max_iter was reached which means the coef_ did not converge\n",
      "  warnings.warn(\"The max_iter was reached which means \"\n",
      "/opt/conda/lib/python3.9/site-packages/sklearn/linear_model/_sag.py:328: ConvergenceWarning: The max_iter was reached which means the coef_ did not converge\n",
      "  warnings.warn(\"The max_iter was reached which means \"\n",
      "/opt/conda/lib/python3.9/site-packages/sklearn/linear_model/_sag.py:328: ConvergenceWarning: The max_iter was reached which means the coef_ did not converge\n",
      "  warnings.warn(\"The max_iter was reached which means \"\n",
      "/opt/conda/lib/python3.9/site-packages/sklearn/linear_model/_sag.py:328: ConvergenceWarning: The max_iter was reached which means the coef_ did not converge\n",
      "  warnings.warn(\"The max_iter was reached which means \"\n"
     ]
    },
    {
     "name": "stdout",
     "output_type": "stream",
     "text": [
      "Accuracy  0.6936236391912908 при количестве итераций: 71 , solver= saga , C= 0.7000000000000001 , multi_class= auto\n",
      "Accuracy  0.6936236391912908 при количестве итераций: 71 , solver= saga , C= 0.7000000000000001 , multi_class= ovr\n",
      "Accuracy  0.6936236391912908 при количестве итераций: 71 , solver= saga , C= 0.8 , multi_class= auto\n",
      "Accuracy  0.6936236391912908 при количестве итераций: 71 , solver= saga , C= 0.8 , multi_class= ovr\n",
      "Accuracy  0.6936236391912908 при количестве итераций: 71 , solver= saga , C= 0.9 , multi_class= auto\n",
      "Accuracy  0.6936236391912908 при количестве итераций: 71 , solver= saga , C= 0.9 , multi_class= ovr\n",
      "Accuracy  0.6936236391912908 при количестве итераций: 71 , solver= saga , C= 1.0 , multi_class= auto\n",
      "Accuracy  0.6936236391912908 при количестве итераций: 71 , solver= saga , C= 1.0 , multi_class= ovr\n",
      "Accuracy  0.6936236391912908 при количестве итераций: 71 , solver= saga , C= 1.1 , multi_class= auto\n",
      "Accuracy  0.6936236391912908 при количестве итераций: 71 , solver= saga , C= 1.1 , multi_class= ovr\n",
      "Accuracy  0.6936236391912908 при количестве итераций: 71 , solver= saga , C= 1.2000000000000002 , multi_class= auto\n"
     ]
    },
    {
     "name": "stderr",
     "output_type": "stream",
     "text": [
      "/opt/conda/lib/python3.9/site-packages/sklearn/linear_model/_sag.py:328: ConvergenceWarning: The max_iter was reached which means the coef_ did not converge\n",
      "  warnings.warn(\"The max_iter was reached which means \"\n",
      "/opt/conda/lib/python3.9/site-packages/sklearn/linear_model/_sag.py:328: ConvergenceWarning: The max_iter was reached which means the coef_ did not converge\n",
      "  warnings.warn(\"The max_iter was reached which means \"\n",
      "/opt/conda/lib/python3.9/site-packages/sklearn/linear_model/_sag.py:328: ConvergenceWarning: The max_iter was reached which means the coef_ did not converge\n",
      "  warnings.warn(\"The max_iter was reached which means \"\n",
      "/opt/conda/lib/python3.9/site-packages/sklearn/linear_model/_sag.py:328: ConvergenceWarning: The max_iter was reached which means the coef_ did not converge\n",
      "  warnings.warn(\"The max_iter was reached which means \"\n",
      "/opt/conda/lib/python3.9/site-packages/sklearn/linear_model/_sag.py:328: ConvergenceWarning: The max_iter was reached which means the coef_ did not converge\n",
      "  warnings.warn(\"The max_iter was reached which means \"\n",
      "/opt/conda/lib/python3.9/site-packages/sklearn/linear_model/_sag.py:328: ConvergenceWarning: The max_iter was reached which means the coef_ did not converge\n",
      "  warnings.warn(\"The max_iter was reached which means \"\n",
      "/opt/conda/lib/python3.9/site-packages/sklearn/linear_model/_sag.py:328: ConvergenceWarning: The max_iter was reached which means the coef_ did not converge\n",
      "  warnings.warn(\"The max_iter was reached which means \"\n",
      "/opt/conda/lib/python3.9/site-packages/sklearn/linear_model/_sag.py:328: ConvergenceWarning: The max_iter was reached which means the coef_ did not converge\n",
      "  warnings.warn(\"The max_iter was reached which means \"\n",
      "/opt/conda/lib/python3.9/site-packages/sklearn/linear_model/_sag.py:328: ConvergenceWarning: The max_iter was reached which means the coef_ did not converge\n",
      "  warnings.warn(\"The max_iter was reached which means \"\n",
      "/opt/conda/lib/python3.9/site-packages/sklearn/linear_model/_sag.py:328: ConvergenceWarning: The max_iter was reached which means the coef_ did not converge\n",
      "  warnings.warn(\"The max_iter was reached which means \"\n"
     ]
    },
    {
     "name": "stdout",
     "output_type": "stream",
     "text": [
      "Accuracy  0.6936236391912908 при количестве итераций: 71 , solver= saga , C= 1.2000000000000002 , multi_class= ovr\n",
      "Accuracy  0.6936236391912908 при количестве итераций: 71 , solver= saga , C= 1.3000000000000003 , multi_class= auto\n",
      "Accuracy  0.6936236391912908 при количестве итераций: 71 , solver= saga , C= 1.3000000000000003 , multi_class= ovr\n",
      "Accuracy  0.6936236391912908 при количестве итераций: 71 , solver= saga , C= 1.4000000000000001 , multi_class= auto\n",
      "Accuracy  0.6936236391912908 при количестве итераций: 71 , solver= saga , C= 1.4000000000000001 , multi_class= ovr\n",
      "Accuracy  0.7465007776049767 при количестве итераций: 72 , solver= newton-cg , C= 0.1 , multi_class= auto\n",
      "Accuracy  0.7465007776049767 при количестве итераций: 72 , solver= newton-cg , C= 0.1 , multi_class= ovr\n",
      "Accuracy  0.7465007776049767 при количестве итераций: 72 , solver= newton-cg , C= 0.2 , multi_class= auto\n"
     ]
    },
    {
     "name": "stderr",
     "output_type": "stream",
     "text": [
      "/opt/conda/lib/python3.9/site-packages/scipy/optimize/_linesearch.py:456: LineSearchWarning: The line search algorithm did not converge\n",
      "  warn('The line search algorithm did not converge', LineSearchWarning)\n",
      "/opt/conda/lib/python3.9/site-packages/scipy/optimize/_linesearch.py:305: LineSearchWarning: The line search algorithm did not converge\n",
      "  warn('The line search algorithm did not converge', LineSearchWarning)\n",
      "/opt/conda/lib/python3.9/site-packages/scipy/optimize/_linesearch.py:456: LineSearchWarning: The line search algorithm did not converge\n",
      "  warn('The line search algorithm did not converge', LineSearchWarning)\n",
      "/opt/conda/lib/python3.9/site-packages/scipy/optimize/_linesearch.py:305: LineSearchWarning: The line search algorithm did not converge\n",
      "  warn('The line search algorithm did not converge', LineSearchWarning)\n",
      "/opt/conda/lib/python3.9/site-packages/scipy/optimize/_linesearch.py:456: LineSearchWarning: The line search algorithm did not converge\n",
      "  warn('The line search algorithm did not converge', LineSearchWarning)\n",
      "/opt/conda/lib/python3.9/site-packages/scipy/optimize/_linesearch.py:305: LineSearchWarning: The line search algorithm did not converge\n",
      "  warn('The line search algorithm did not converge', LineSearchWarning)\n"
     ]
    },
    {
     "name": "stdout",
     "output_type": "stream",
     "text": [
      "Accuracy  0.7465007776049767 при количестве итераций: 72 , solver= newton-cg , C= 0.2 , multi_class= ovr\n",
      "Accuracy  0.7465007776049767 при количестве итераций: 72 , solver= newton-cg , C= 0.30000000000000004 , multi_class= auto\n"
     ]
    },
    {
     "name": "stderr",
     "output_type": "stream",
     "text": [
      "/opt/conda/lib/python3.9/site-packages/scipy/optimize/_linesearch.py:456: LineSearchWarning: The line search algorithm did not converge\n",
      "  warn('The line search algorithm did not converge', LineSearchWarning)\n",
      "/opt/conda/lib/python3.9/site-packages/scipy/optimize/_linesearch.py:305: LineSearchWarning: The line search algorithm did not converge\n",
      "  warn('The line search algorithm did not converge', LineSearchWarning)\n",
      "/opt/conda/lib/python3.9/site-packages/scipy/optimize/_linesearch.py:456: LineSearchWarning: The line search algorithm did not converge\n",
      "  warn('The line search algorithm did not converge', LineSearchWarning)\n",
      "/opt/conda/lib/python3.9/site-packages/scipy/optimize/_linesearch.py:305: LineSearchWarning: The line search algorithm did not converge\n",
      "  warn('The line search algorithm did not converge', LineSearchWarning)\n",
      "/opt/conda/lib/python3.9/site-packages/scipy/optimize/_linesearch.py:456: LineSearchWarning: The line search algorithm did not converge\n",
      "  warn('The line search algorithm did not converge', LineSearchWarning)\n",
      "/opt/conda/lib/python3.9/site-packages/scipy/optimize/_linesearch.py:305: LineSearchWarning: The line search algorithm did not converge\n",
      "  warn('The line search algorithm did not converge', LineSearchWarning)\n",
      "/opt/conda/lib/python3.9/site-packages/scipy/optimize/_linesearch.py:456: LineSearchWarning: The line search algorithm did not converge\n",
      "  warn('The line search algorithm did not converge', LineSearchWarning)\n",
      "/opt/conda/lib/python3.9/site-packages/scipy/optimize/_linesearch.py:305: LineSearchWarning: The line search algorithm did not converge\n",
      "  warn('The line search algorithm did not converge', LineSearchWarning)\n",
      "/opt/conda/lib/python3.9/site-packages/scipy/optimize/_linesearch.py:456: LineSearchWarning: The line search algorithm did not converge\n",
      "  warn('The line search algorithm did not converge', LineSearchWarning)\n",
      "/opt/conda/lib/python3.9/site-packages/scipy/optimize/_linesearch.py:305: LineSearchWarning: The line search algorithm did not converge\n",
      "  warn('The line search algorithm did not converge', LineSearchWarning)\n"
     ]
    },
    {
     "name": "stdout",
     "output_type": "stream",
     "text": [
      "Accuracy  0.7465007776049767 при количестве итераций: 72 , solver= newton-cg , C= 0.30000000000000004 , multi_class= ovr\n",
      "Accuracy  0.7465007776049767 при количестве итераций: 72 , solver= newton-cg , C= 0.4 , multi_class= auto\n",
      "Accuracy  0.7465007776049767 при количестве итераций: 72 , solver= newton-cg , C= 0.4 , multi_class= ovr\n"
     ]
    },
    {
     "name": "stderr",
     "output_type": "stream",
     "text": [
      "/opt/conda/lib/python3.9/site-packages/scipy/optimize/_linesearch.py:456: LineSearchWarning: The line search algorithm did not converge\n",
      "  warn('The line search algorithm did not converge', LineSearchWarning)\n",
      "/opt/conda/lib/python3.9/site-packages/scipy/optimize/_linesearch.py:305: LineSearchWarning: The line search algorithm did not converge\n",
      "  warn('The line search algorithm did not converge', LineSearchWarning)\n",
      "/opt/conda/lib/python3.9/site-packages/scipy/optimize/_linesearch.py:456: LineSearchWarning: The line search algorithm did not converge\n",
      "  warn('The line search algorithm did not converge', LineSearchWarning)\n",
      "/opt/conda/lib/python3.9/site-packages/scipy/optimize/_linesearch.py:305: LineSearchWarning: The line search algorithm did not converge\n",
      "  warn('The line search algorithm did not converge', LineSearchWarning)\n",
      "/opt/conda/lib/python3.9/site-packages/scipy/optimize/_linesearch.py:456: LineSearchWarning: The line search algorithm did not converge\n",
      "  warn('The line search algorithm did not converge', LineSearchWarning)\n",
      "/opt/conda/lib/python3.9/site-packages/scipy/optimize/_linesearch.py:305: LineSearchWarning: The line search algorithm did not converge\n",
      "  warn('The line search algorithm did not converge', LineSearchWarning)\n",
      "/opt/conda/lib/python3.9/site-packages/scipy/optimize/_linesearch.py:456: LineSearchWarning: The line search algorithm did not converge\n",
      "  warn('The line search algorithm did not converge', LineSearchWarning)\n",
      "/opt/conda/lib/python3.9/site-packages/scipy/optimize/_linesearch.py:305: LineSearchWarning: The line search algorithm did not converge\n",
      "  warn('The line search algorithm did not converge', LineSearchWarning)\n",
      "/opt/conda/lib/python3.9/site-packages/scipy/optimize/_linesearch.py:456: LineSearchWarning: The line search algorithm did not converge\n",
      "  warn('The line search algorithm did not converge', LineSearchWarning)\n",
      "/opt/conda/lib/python3.9/site-packages/scipy/optimize/_linesearch.py:305: LineSearchWarning: The line search algorithm did not converge\n",
      "  warn('The line search algorithm did not converge', LineSearchWarning)\n",
      "/opt/conda/lib/python3.9/site-packages/scipy/optimize/_linesearch.py:456: LineSearchWarning: The line search algorithm did not converge\n",
      "  warn('The line search algorithm did not converge', LineSearchWarning)\n",
      "/opt/conda/lib/python3.9/site-packages/scipy/optimize/_linesearch.py:305: LineSearchWarning: The line search algorithm did not converge\n",
      "  warn('The line search algorithm did not converge', LineSearchWarning)\n"
     ]
    },
    {
     "name": "stdout",
     "output_type": "stream",
     "text": [
      "Accuracy  0.7465007776049767 при количестве итераций: 72 , solver= newton-cg , C= 0.5 , multi_class= auto\n",
      "Accuracy  0.7465007776049767 при количестве итераций: 72 , solver= newton-cg , C= 0.5 , multi_class= ovr\n"
     ]
    },
    {
     "name": "stderr",
     "output_type": "stream",
     "text": [
      "/opt/conda/lib/python3.9/site-packages/scipy/optimize/_linesearch.py:456: LineSearchWarning: The line search algorithm did not converge\n",
      "  warn('The line search algorithm did not converge', LineSearchWarning)\n",
      "/opt/conda/lib/python3.9/site-packages/scipy/optimize/_linesearch.py:305: LineSearchWarning: The line search algorithm did not converge\n",
      "  warn('The line search algorithm did not converge', LineSearchWarning)\n",
      "/opt/conda/lib/python3.9/site-packages/scipy/optimize/_linesearch.py:456: LineSearchWarning: The line search algorithm did not converge\n",
      "  warn('The line search algorithm did not converge', LineSearchWarning)\n",
      "/opt/conda/lib/python3.9/site-packages/scipy/optimize/_linesearch.py:305: LineSearchWarning: The line search algorithm did not converge\n",
      "  warn('The line search algorithm did not converge', LineSearchWarning)\n"
     ]
    },
    {
     "name": "stdout",
     "output_type": "stream",
     "text": [
      "Accuracy  0.7465007776049767 при количестве итераций: 72 , solver= newton-cg , C= 0.6 , multi_class= auto\n",
      "Accuracy  0.7465007776049767 при количестве итераций: 72 , solver= newton-cg , C= 0.6 , multi_class= ovr\n"
     ]
    },
    {
     "name": "stderr",
     "output_type": "stream",
     "text": [
      "/opt/conda/lib/python3.9/site-packages/scipy/optimize/_linesearch.py:456: LineSearchWarning: The line search algorithm did not converge\n",
      "  warn('The line search algorithm did not converge', LineSearchWarning)\n",
      "/opt/conda/lib/python3.9/site-packages/scipy/optimize/_linesearch.py:305: LineSearchWarning: The line search algorithm did not converge\n",
      "  warn('The line search algorithm did not converge', LineSearchWarning)\n",
      "/opt/conda/lib/python3.9/site-packages/scipy/optimize/_linesearch.py:456: LineSearchWarning: The line search algorithm did not converge\n",
      "  warn('The line search algorithm did not converge', LineSearchWarning)\n",
      "/opt/conda/lib/python3.9/site-packages/scipy/optimize/_linesearch.py:305: LineSearchWarning: The line search algorithm did not converge\n",
      "  warn('The line search algorithm did not converge', LineSearchWarning)\n"
     ]
    },
    {
     "name": "stdout",
     "output_type": "stream",
     "text": [
      "Accuracy  0.7465007776049767 при количестве итераций: 72 , solver= newton-cg , C= 0.7000000000000001 , multi_class= auto\n",
      "Accuracy  0.7465007776049767 при количестве итераций: 72 , solver= newton-cg , C= 0.7000000000000001 , multi_class= ovr\n",
      "Accuracy  0.7465007776049767 при количестве итераций: 72 , solver= newton-cg , C= 0.8 , multi_class= auto\n",
      "Accuracy  0.7465007776049767 при количестве итераций: 72 , solver= newton-cg , C= 0.8 , multi_class= ovr\n"
     ]
    },
    {
     "name": "stderr",
     "output_type": "stream",
     "text": [
      "/opt/conda/lib/python3.9/site-packages/scipy/optimize/_linesearch.py:456: LineSearchWarning: The line search algorithm did not converge\n",
      "  warn('The line search algorithm did not converge', LineSearchWarning)\n",
      "/opt/conda/lib/python3.9/site-packages/scipy/optimize/_linesearch.py:305: LineSearchWarning: The line search algorithm did not converge\n",
      "  warn('The line search algorithm did not converge', LineSearchWarning)\n",
      "/opt/conda/lib/python3.9/site-packages/scipy/optimize/_linesearch.py:415: LineSearchWarning: Rounding errors prevent the line search from converging\n",
      "  warn(msg, LineSearchWarning)\n",
      "/opt/conda/lib/python3.9/site-packages/scipy/optimize/_linesearch.py:305: LineSearchWarning: The line search algorithm did not converge\n",
      "  warn('The line search algorithm did not converge', LineSearchWarning)\n",
      "/opt/conda/lib/python3.9/site-packages/sklearn/utils/optimize.py:195: UserWarning: Line Search failed\n",
      "  warnings.warn('Line Search failed')\n",
      "/opt/conda/lib/python3.9/site-packages/scipy/optimize/_linesearch.py:456: LineSearchWarning: The line search algorithm did not converge\n",
      "  warn('The line search algorithm did not converge', LineSearchWarning)\n",
      "/opt/conda/lib/python3.9/site-packages/scipy/optimize/_linesearch.py:305: LineSearchWarning: The line search algorithm did not converge\n",
      "  warn('The line search algorithm did not converge', LineSearchWarning)\n",
      "/opt/conda/lib/python3.9/site-packages/scipy/optimize/_linesearch.py:415: LineSearchWarning: Rounding errors prevent the line search from converging\n",
      "  warn(msg, LineSearchWarning)\n",
      "/opt/conda/lib/python3.9/site-packages/scipy/optimize/_linesearch.py:305: LineSearchWarning: The line search algorithm did not converge\n",
      "  warn('The line search algorithm did not converge', LineSearchWarning)\n",
      "/opt/conda/lib/python3.9/site-packages/sklearn/utils/optimize.py:195: UserWarning: Line Search failed\n",
      "  warnings.warn('Line Search failed')\n"
     ]
    },
    {
     "name": "stdout",
     "output_type": "stream",
     "text": [
      "Accuracy  0.7465007776049767 при количестве итераций: 72 , solver= newton-cg , C= 0.9 , multi_class= auto\n",
      "Accuracy  0.7465007776049767 при количестве итераций: 72 , solver= newton-cg , C= 0.9 , multi_class= ovr\n"
     ]
    },
    {
     "name": "stderr",
     "output_type": "stream",
     "text": [
      "/opt/conda/lib/python3.9/site-packages/scipy/optimize/_linesearch.py:456: LineSearchWarning: The line search algorithm did not converge\n",
      "  warn('The line search algorithm did not converge', LineSearchWarning)\n",
      "/opt/conda/lib/python3.9/site-packages/scipy/optimize/_linesearch.py:305: LineSearchWarning: The line search algorithm did not converge\n",
      "  warn('The line search algorithm did not converge', LineSearchWarning)\n",
      "/opt/conda/lib/python3.9/site-packages/scipy/optimize/_linesearch.py:415: LineSearchWarning: Rounding errors prevent the line search from converging\n",
      "  warn(msg, LineSearchWarning)\n",
      "/opt/conda/lib/python3.9/site-packages/scipy/optimize/_linesearch.py:305: LineSearchWarning: The line search algorithm did not converge\n",
      "  warn('The line search algorithm did not converge', LineSearchWarning)\n",
      "/opt/conda/lib/python3.9/site-packages/sklearn/utils/optimize.py:195: UserWarning: Line Search failed\n",
      "  warnings.warn('Line Search failed')\n",
      "/opt/conda/lib/python3.9/site-packages/scipy/optimize/_linesearch.py:456: LineSearchWarning: The line search algorithm did not converge\n",
      "  warn('The line search algorithm did not converge', LineSearchWarning)\n",
      "/opt/conda/lib/python3.9/site-packages/scipy/optimize/_linesearch.py:305: LineSearchWarning: The line search algorithm did not converge\n",
      "  warn('The line search algorithm did not converge', LineSearchWarning)\n",
      "/opt/conda/lib/python3.9/site-packages/scipy/optimize/_linesearch.py:415: LineSearchWarning: Rounding errors prevent the line search from converging\n",
      "  warn(msg, LineSearchWarning)\n",
      "/opt/conda/lib/python3.9/site-packages/scipy/optimize/_linesearch.py:305: LineSearchWarning: The line search algorithm did not converge\n",
      "  warn('The line search algorithm did not converge', LineSearchWarning)\n",
      "/opt/conda/lib/python3.9/site-packages/sklearn/utils/optimize.py:195: UserWarning: Line Search failed\n",
      "  warnings.warn('Line Search failed')\n"
     ]
    },
    {
     "name": "stdout",
     "output_type": "stream",
     "text": [
      "Accuracy  0.7465007776049767 при количестве итераций: 72 , solver= newton-cg , C= 1.0 , multi_class= auto\n",
      "Accuracy  0.7465007776049767 при количестве итераций: 72 , solver= newton-cg , C= 1.0 , multi_class= ovr\n",
      "Accuracy  0.7465007776049767 при количестве итераций: 72 , solver= newton-cg , C= 1.1 , multi_class= auto\n",
      "Accuracy  0.7465007776049767 при количестве итераций: 72 , solver= newton-cg , C= 1.1 , multi_class= ovr\n",
      "Accuracy  0.7465007776049767 при количестве итераций: 72 , solver= newton-cg , C= 1.2000000000000002 , multi_class= auto\n",
      "Accuracy  0.7465007776049767 при количестве итераций: 72 , solver= newton-cg , C= 1.2000000000000002 , multi_class= ovr\n"
     ]
    },
    {
     "name": "stderr",
     "output_type": "stream",
     "text": [
      "/opt/conda/lib/python3.9/site-packages/scipy/optimize/_linesearch.py:456: LineSearchWarning: The line search algorithm did not converge\n",
      "  warn('The line search algorithm did not converge', LineSearchWarning)\n",
      "/opt/conda/lib/python3.9/site-packages/scipy/optimize/_linesearch.py:305: LineSearchWarning: The line search algorithm did not converge\n",
      "  warn('The line search algorithm did not converge', LineSearchWarning)\n",
      "/opt/conda/lib/python3.9/site-packages/scipy/optimize/_linesearch.py:456: LineSearchWarning: The line search algorithm did not converge\n",
      "  warn('The line search algorithm did not converge', LineSearchWarning)\n",
      "/opt/conda/lib/python3.9/site-packages/scipy/optimize/_linesearch.py:305: LineSearchWarning: The line search algorithm did not converge\n",
      "  warn('The line search algorithm did not converge', LineSearchWarning)\n"
     ]
    },
    {
     "name": "stdout",
     "output_type": "stream",
     "text": [
      "Accuracy  0.7465007776049767 при количестве итераций: 72 , solver= newton-cg , C= 1.3000000000000003 , multi_class= auto\n",
      "Accuracy  0.7465007776049767 при количестве итераций: 72 , solver= newton-cg , C= 1.3000000000000003 , multi_class= ovr\n",
      "Accuracy  0.7465007776049767 при количестве итераций: 72 , solver= newton-cg , C= 1.4000000000000001 , multi_class= auto\n",
      "Accuracy  0.7465007776049767 при количестве итераций: 72 , solver= newton-cg , C= 1.4000000000000001 , multi_class= ovr\n",
      "Accuracy  0.7418351477449455 при количестве итераций: 72 , solver= lbfgs , C= 0.1 , multi_class= auto\n",
      "Accuracy  0.7418351477449455 при количестве итераций: 72 , solver= lbfgs , C= 0.1 , multi_class= ovr\n",
      "Accuracy  0.7480559875583204 при количестве итераций: 72 , solver= lbfgs , C= 0.2 , multi_class= auto\n",
      "Accuracy  0.7480559875583204 при количестве итераций: 72 , solver= lbfgs , C= 0.2 , multi_class= ovr\n",
      "Accuracy  0.7480559875583204 при количестве итераций: 72 , solver= lbfgs , C= 0.30000000000000004 , multi_class= auto\n",
      "Accuracy  0.7480559875583204 при количестве итераций: 72 , solver= lbfgs , C= 0.30000000000000004 , multi_class= ovr\n",
      "Accuracy  0.7465007776049767 при количестве итераций: 72 , solver= lbfgs , C= 0.4 , multi_class= auto\n"
     ]
    },
    {
     "name": "stderr",
     "output_type": "stream",
     "text": [
      "/opt/conda/lib/python3.9/site-packages/sklearn/linear_model/_logistic.py:763: ConvergenceWarning: lbfgs failed to converge (status=1):\n",
      "STOP: TOTAL NO. of ITERATIONS REACHED LIMIT.\n",
      "\n",
      "Increase the number of iterations (max_iter) or scale the data as shown in:\n",
      "    https://scikit-learn.org/stable/modules/preprocessing.html\n",
      "Please also refer to the documentation for alternative solver options:\n",
      "    https://scikit-learn.org/stable/modules/linear_model.html#logistic-regression\n",
      "  n_iter_i = _check_optimize_result(\n",
      "/opt/conda/lib/python3.9/site-packages/sklearn/linear_model/_logistic.py:763: ConvergenceWarning: lbfgs failed to converge (status=1):\n",
      "STOP: TOTAL NO. of ITERATIONS REACHED LIMIT.\n",
      "\n",
      "Increase the number of iterations (max_iter) or scale the data as shown in:\n",
      "    https://scikit-learn.org/stable/modules/preprocessing.html\n",
      "Please also refer to the documentation for alternative solver options:\n",
      "    https://scikit-learn.org/stable/modules/linear_model.html#logistic-regression\n",
      "  n_iter_i = _check_optimize_result(\n",
      "/opt/conda/lib/python3.9/site-packages/sklearn/linear_model/_logistic.py:763: ConvergenceWarning: lbfgs failed to converge (status=1):\n",
      "STOP: TOTAL NO. of ITERATIONS REACHED LIMIT.\n",
      "\n",
      "Increase the number of iterations (max_iter) or scale the data as shown in:\n",
      "    https://scikit-learn.org/stable/modules/preprocessing.html\n",
      "Please also refer to the documentation for alternative solver options:\n",
      "    https://scikit-learn.org/stable/modules/linear_model.html#logistic-regression\n",
      "  n_iter_i = _check_optimize_result(\n",
      "/opt/conda/lib/python3.9/site-packages/sklearn/linear_model/_logistic.py:763: ConvergenceWarning: lbfgs failed to converge (status=1):\n",
      "STOP: TOTAL NO. of ITERATIONS REACHED LIMIT.\n",
      "\n",
      "Increase the number of iterations (max_iter) or scale the data as shown in:\n",
      "    https://scikit-learn.org/stable/modules/preprocessing.html\n",
      "Please also refer to the documentation for alternative solver options:\n",
      "    https://scikit-learn.org/stable/modules/linear_model.html#logistic-regression\n",
      "  n_iter_i = _check_optimize_result(\n",
      "/opt/conda/lib/python3.9/site-packages/sklearn/linear_model/_logistic.py:763: ConvergenceWarning: lbfgs failed to converge (status=1):\n",
      "STOP: TOTAL NO. of ITERATIONS REACHED LIMIT.\n",
      "\n",
      "Increase the number of iterations (max_iter) or scale the data as shown in:\n",
      "    https://scikit-learn.org/stable/modules/preprocessing.html\n",
      "Please also refer to the documentation for alternative solver options:\n",
      "    https://scikit-learn.org/stable/modules/linear_model.html#logistic-regression\n",
      "  n_iter_i = _check_optimize_result(\n",
      "/opt/conda/lib/python3.9/site-packages/sklearn/linear_model/_logistic.py:763: ConvergenceWarning: lbfgs failed to converge (status=1):\n",
      "STOP: TOTAL NO. of ITERATIONS REACHED LIMIT.\n",
      "\n",
      "Increase the number of iterations (max_iter) or scale the data as shown in:\n",
      "    https://scikit-learn.org/stable/modules/preprocessing.html\n",
      "Please also refer to the documentation for alternative solver options:\n",
      "    https://scikit-learn.org/stable/modules/linear_model.html#logistic-regression\n",
      "  n_iter_i = _check_optimize_result(\n"
     ]
    },
    {
     "name": "stdout",
     "output_type": "stream",
     "text": [
      "Accuracy  0.7465007776049767 при количестве итераций: 72 , solver= lbfgs , C= 0.4 , multi_class= ovr\n",
      "Accuracy  0.7465007776049767 при количестве итераций: 72 , solver= lbfgs , C= 0.5 , multi_class= auto\n",
      "Accuracy  0.7465007776049767 при количестве итераций: 72 , solver= lbfgs , C= 0.5 , multi_class= ovr\n",
      "Accuracy  0.7247278382581649 при количестве итераций: 72 , solver= lbfgs , C= 0.6 , multi_class= auto\n",
      "Accuracy  0.7247278382581649 при количестве итераций: 72 , solver= lbfgs , C= 0.6 , multi_class= ovr\n",
      "Accuracy  0.7465007776049767 при количестве итераций: 72 , solver= lbfgs , C= 0.7000000000000001 , multi_class= auto\n",
      "Accuracy  0.7465007776049767 при количестве итераций: 72 , solver= lbfgs , C= 0.7000000000000001 , multi_class= ovr\n"
     ]
    },
    {
     "name": "stderr",
     "output_type": "stream",
     "text": [
      "/opt/conda/lib/python3.9/site-packages/sklearn/linear_model/_logistic.py:763: ConvergenceWarning: lbfgs failed to converge (status=1):\n",
      "STOP: TOTAL NO. of ITERATIONS REACHED LIMIT.\n",
      "\n",
      "Increase the number of iterations (max_iter) or scale the data as shown in:\n",
      "    https://scikit-learn.org/stable/modules/preprocessing.html\n",
      "Please also refer to the documentation for alternative solver options:\n",
      "    https://scikit-learn.org/stable/modules/linear_model.html#logistic-regression\n",
      "  n_iter_i = _check_optimize_result(\n",
      "/opt/conda/lib/python3.9/site-packages/sklearn/linear_model/_logistic.py:763: ConvergenceWarning: lbfgs failed to converge (status=1):\n",
      "STOP: TOTAL NO. of ITERATIONS REACHED LIMIT.\n",
      "\n",
      "Increase the number of iterations (max_iter) or scale the data as shown in:\n",
      "    https://scikit-learn.org/stable/modules/preprocessing.html\n",
      "Please also refer to the documentation for alternative solver options:\n",
      "    https://scikit-learn.org/stable/modules/linear_model.html#logistic-regression\n",
      "  n_iter_i = _check_optimize_result(\n",
      "/opt/conda/lib/python3.9/site-packages/sklearn/linear_model/_logistic.py:763: ConvergenceWarning: lbfgs failed to converge (status=1):\n",
      "STOP: TOTAL NO. of ITERATIONS REACHED LIMIT.\n",
      "\n",
      "Increase the number of iterations (max_iter) or scale the data as shown in:\n",
      "    https://scikit-learn.org/stable/modules/preprocessing.html\n",
      "Please also refer to the documentation for alternative solver options:\n",
      "    https://scikit-learn.org/stable/modules/linear_model.html#logistic-regression\n",
      "  n_iter_i = _check_optimize_result(\n",
      "/opt/conda/lib/python3.9/site-packages/sklearn/linear_model/_logistic.py:763: ConvergenceWarning: lbfgs failed to converge (status=1):\n",
      "STOP: TOTAL NO. of ITERATIONS REACHED LIMIT.\n",
      "\n",
      "Increase the number of iterations (max_iter) or scale the data as shown in:\n",
      "    https://scikit-learn.org/stable/modules/preprocessing.html\n",
      "Please also refer to the documentation for alternative solver options:\n",
      "    https://scikit-learn.org/stable/modules/linear_model.html#logistic-regression\n",
      "  n_iter_i = _check_optimize_result(\n",
      "/opt/conda/lib/python3.9/site-packages/sklearn/linear_model/_logistic.py:763: ConvergenceWarning: lbfgs failed to converge (status=1):\n",
      "STOP: TOTAL NO. of ITERATIONS REACHED LIMIT.\n",
      "\n",
      "Increase the number of iterations (max_iter) or scale the data as shown in:\n",
      "    https://scikit-learn.org/stable/modules/preprocessing.html\n",
      "Please also refer to the documentation for alternative solver options:\n",
      "    https://scikit-learn.org/stable/modules/linear_model.html#logistic-regression\n",
      "  n_iter_i = _check_optimize_result(\n"
     ]
    },
    {
     "name": "stdout",
     "output_type": "stream",
     "text": [
      "Accuracy  0.7465007776049767 при количестве итераций: 72 , solver= lbfgs , C= 0.8 , multi_class= auto\n",
      "Accuracy  0.7465007776049767 при количестве итераций: 72 , solver= lbfgs , C= 0.8 , multi_class= ovr\n",
      "Accuracy  0.7465007776049767 при количестве итераций: 72 , solver= lbfgs , C= 0.9 , multi_class= auto\n",
      "Accuracy  0.7465007776049767 при количестве итераций: 72 , solver= lbfgs , C= 0.9 , multi_class= ovr\n",
      "Accuracy  0.7480559875583204 при количестве итераций: 72 , solver= lbfgs , C= 1.0 , multi_class= auto\n",
      "Accuracy  0.7480559875583204 при количестве итераций: 72 , solver= lbfgs , C= 1.0 , multi_class= ovr\n",
      "Accuracy  0.7465007776049767 при количестве итераций: 72 , solver= lbfgs , C= 1.1 , multi_class= auto\n"
     ]
    },
    {
     "name": "stderr",
     "output_type": "stream",
     "text": [
      "/opt/conda/lib/python3.9/site-packages/sklearn/linear_model/_logistic.py:763: ConvergenceWarning: lbfgs failed to converge (status=1):\n",
      "STOP: TOTAL NO. of ITERATIONS REACHED LIMIT.\n",
      "\n",
      "Increase the number of iterations (max_iter) or scale the data as shown in:\n",
      "    https://scikit-learn.org/stable/modules/preprocessing.html\n",
      "Please also refer to the documentation for alternative solver options:\n",
      "    https://scikit-learn.org/stable/modules/linear_model.html#logistic-regression\n",
      "  n_iter_i = _check_optimize_result(\n",
      "/opt/conda/lib/python3.9/site-packages/sklearn/linear_model/_logistic.py:763: ConvergenceWarning: lbfgs failed to converge (status=1):\n",
      "STOP: TOTAL NO. of ITERATIONS REACHED LIMIT.\n",
      "\n",
      "Increase the number of iterations (max_iter) or scale the data as shown in:\n",
      "    https://scikit-learn.org/stable/modules/preprocessing.html\n",
      "Please also refer to the documentation for alternative solver options:\n",
      "    https://scikit-learn.org/stable/modules/linear_model.html#logistic-regression\n",
      "  n_iter_i = _check_optimize_result(\n",
      "/opt/conda/lib/python3.9/site-packages/sklearn/linear_model/_logistic.py:763: ConvergenceWarning: lbfgs failed to converge (status=1):\n",
      "STOP: TOTAL NO. of ITERATIONS REACHED LIMIT.\n",
      "\n",
      "Increase the number of iterations (max_iter) or scale the data as shown in:\n",
      "    https://scikit-learn.org/stable/modules/preprocessing.html\n",
      "Please also refer to the documentation for alternative solver options:\n",
      "    https://scikit-learn.org/stable/modules/linear_model.html#logistic-regression\n",
      "  n_iter_i = _check_optimize_result(\n",
      "/opt/conda/lib/python3.9/site-packages/sklearn/linear_model/_logistic.py:763: ConvergenceWarning: lbfgs failed to converge (status=1):\n",
      "STOP: TOTAL NO. of ITERATIONS REACHED LIMIT.\n",
      "\n",
      "Increase the number of iterations (max_iter) or scale the data as shown in:\n",
      "    https://scikit-learn.org/stable/modules/preprocessing.html\n",
      "Please also refer to the documentation for alternative solver options:\n",
      "    https://scikit-learn.org/stable/modules/linear_model.html#logistic-regression\n",
      "  n_iter_i = _check_optimize_result(\n",
      "/opt/conda/lib/python3.9/site-packages/sklearn/linear_model/_logistic.py:763: ConvergenceWarning: lbfgs failed to converge (status=1):\n",
      "STOP: TOTAL NO. of ITERATIONS REACHED LIMIT.\n",
      "\n",
      "Increase the number of iterations (max_iter) or scale the data as shown in:\n",
      "    https://scikit-learn.org/stable/modules/preprocessing.html\n",
      "Please also refer to the documentation for alternative solver options:\n",
      "    https://scikit-learn.org/stable/modules/linear_model.html#logistic-regression\n",
      "  n_iter_i = _check_optimize_result(\n",
      "/opt/conda/lib/python3.9/site-packages/sklearn/linear_model/_logistic.py:763: ConvergenceWarning: lbfgs failed to converge (status=1):\n",
      "STOP: TOTAL NO. of ITERATIONS REACHED LIMIT.\n",
      "\n",
      "Increase the number of iterations (max_iter) or scale the data as shown in:\n",
      "    https://scikit-learn.org/stable/modules/preprocessing.html\n",
      "Please also refer to the documentation for alternative solver options:\n",
      "    https://scikit-learn.org/stable/modules/linear_model.html#logistic-regression\n",
      "  n_iter_i = _check_optimize_result(\n",
      "/opt/conda/lib/python3.9/site-packages/sklearn/linear_model/_logistic.py:763: ConvergenceWarning: lbfgs failed to converge (status=1):\n",
      "STOP: TOTAL NO. of ITERATIONS REACHED LIMIT.\n",
      "\n",
      "Increase the number of iterations (max_iter) or scale the data as shown in:\n",
      "    https://scikit-learn.org/stable/modules/preprocessing.html\n",
      "Please also refer to the documentation for alternative solver options:\n",
      "    https://scikit-learn.org/stable/modules/linear_model.html#logistic-regression\n",
      "  n_iter_i = _check_optimize_result(\n"
     ]
    },
    {
     "name": "stdout",
     "output_type": "stream",
     "text": [
      "Accuracy  0.7465007776049767 при количестве итераций: 72 , solver= lbfgs , C= 1.1 , multi_class= ovr\n",
      "Accuracy  0.7387247278382582 при количестве итераций: 72 , solver= lbfgs , C= 1.2000000000000002 , multi_class= auto\n",
      "Accuracy  0.7387247278382582 при количестве итераций: 72 , solver= lbfgs , C= 1.2000000000000002 , multi_class= ovr\n",
      "Accuracy  0.7418351477449455 при количестве итераций: 72 , solver= lbfgs , C= 1.3000000000000003 , multi_class= auto\n",
      "Accuracy  0.7418351477449455 при количестве итераций: 72 , solver= lbfgs , C= 1.3000000000000003 , multi_class= ovr\n",
      "Accuracy  0.7465007776049767 при количестве итераций: 72 , solver= lbfgs , C= 1.4000000000000001 , multi_class= auto\n",
      "Accuracy  0.7465007776049767 при количестве итераций: 72 , solver= lbfgs , C= 1.4000000000000001 , multi_class= ovr\n",
      "Accuracy  0.7107309486780715 при количестве итераций: 72 , solver= liblinear , C= 0.1 , multi_class= auto\n",
      "Accuracy  0.7107309486780715 при количестве итераций: 72 , solver= liblinear , C= 0.1 , multi_class= ovr\n",
      "Accuracy  0.7107309486780715 при количестве итераций: 72 , solver= liblinear , C= 0.2 , multi_class= auto\n",
      "Accuracy  0.7107309486780715 при количестве итераций: 72 , solver= liblinear , C= 0.2 , multi_class= ovr\n"
     ]
    },
    {
     "name": "stderr",
     "output_type": "stream",
     "text": [
      "/opt/conda/lib/python3.9/site-packages/sklearn/linear_model/_logistic.py:763: ConvergenceWarning: lbfgs failed to converge (status=1):\n",
      "STOP: TOTAL NO. of ITERATIONS REACHED LIMIT.\n",
      "\n",
      "Increase the number of iterations (max_iter) or scale the data as shown in:\n",
      "    https://scikit-learn.org/stable/modules/preprocessing.html\n",
      "Please also refer to the documentation for alternative solver options:\n",
      "    https://scikit-learn.org/stable/modules/linear_model.html#logistic-regression\n",
      "  n_iter_i = _check_optimize_result(\n",
      "/opt/conda/lib/python3.9/site-packages/sklearn/linear_model/_logistic.py:763: ConvergenceWarning: lbfgs failed to converge (status=1):\n",
      "STOP: TOTAL NO. of ITERATIONS REACHED LIMIT.\n",
      "\n",
      "Increase the number of iterations (max_iter) or scale the data as shown in:\n",
      "    https://scikit-learn.org/stable/modules/preprocessing.html\n",
      "Please also refer to the documentation for alternative solver options:\n",
      "    https://scikit-learn.org/stable/modules/linear_model.html#logistic-regression\n",
      "  n_iter_i = _check_optimize_result(\n",
      "/opt/conda/lib/python3.9/site-packages/sklearn/linear_model/_logistic.py:763: ConvergenceWarning: lbfgs failed to converge (status=1):\n",
      "STOP: TOTAL NO. of ITERATIONS REACHED LIMIT.\n",
      "\n",
      "Increase the number of iterations (max_iter) or scale the data as shown in:\n",
      "    https://scikit-learn.org/stable/modules/preprocessing.html\n",
      "Please also refer to the documentation for alternative solver options:\n",
      "    https://scikit-learn.org/stable/modules/linear_model.html#logistic-regression\n",
      "  n_iter_i = _check_optimize_result(\n",
      "/opt/conda/lib/python3.9/site-packages/sklearn/linear_model/_logistic.py:763: ConvergenceWarning: lbfgs failed to converge (status=1):\n",
      "STOP: TOTAL NO. of ITERATIONS REACHED LIMIT.\n",
      "\n",
      "Increase the number of iterations (max_iter) or scale the data as shown in:\n",
      "    https://scikit-learn.org/stable/modules/preprocessing.html\n",
      "Please also refer to the documentation for alternative solver options:\n",
      "    https://scikit-learn.org/stable/modules/linear_model.html#logistic-regression\n",
      "  n_iter_i = _check_optimize_result(\n"
     ]
    },
    {
     "name": "stdout",
     "output_type": "stream",
     "text": [
      "Accuracy  0.7107309486780715 при количестве итераций: 72 , solver= liblinear , C= 0.30000000000000004 , multi_class= auto\n",
      "Accuracy  0.7107309486780715 при количестве итераций: 72 , solver= liblinear , C= 0.30000000000000004 , multi_class= ovr\n",
      "Accuracy  0.7107309486780715 при количестве итераций: 72 , solver= liblinear , C= 0.4 , multi_class= auto\n",
      "Accuracy  0.7107309486780715 при количестве итераций: 72 , solver= liblinear , C= 0.4 , multi_class= ovr\n",
      "Accuracy  0.7107309486780715 при количестве итераций: 72 , solver= liblinear , C= 0.5 , multi_class= auto\n",
      "Accuracy  0.7107309486780715 при количестве итераций: 72 , solver= liblinear , C= 0.5 , multi_class= ovr\n",
      "Accuracy  0.7107309486780715 при количестве итераций: 72 , solver= liblinear , C= 0.6 , multi_class= auto\n",
      "Accuracy  0.7107309486780715 при количестве итераций: 72 , solver= liblinear , C= 0.6 , multi_class= ovr\n",
      "Accuracy  0.7107309486780715 при количестве итераций: 72 , solver= liblinear , C= 0.7000000000000001 , multi_class= auto\n",
      "Accuracy  0.7107309486780715 при количестве итераций: 72 , solver= liblinear , C= 0.7000000000000001 , multi_class= ovr\n",
      "Accuracy  0.7107309486780715 при количестве итераций: 72 , solver= liblinear , C= 0.8 , multi_class= auto\n",
      "Accuracy  0.7107309486780715 при количестве итераций: 72 , solver= liblinear , C= 0.8 , multi_class= ovr\n",
      "Accuracy  0.7107309486780715 при количестве итераций: 72 , solver= liblinear , C= 0.9 , multi_class= auto\n",
      "Accuracy  0.7107309486780715 при количестве итераций: 72 , solver= liblinear , C= 0.9 , multi_class= ovr\n",
      "Accuracy  0.7107309486780715 при количестве итераций: 72 , solver= liblinear , C= 1.0 , multi_class= auto\n",
      "Accuracy  0.7107309486780715 при количестве итераций: 72 , solver= liblinear , C= 1.0 , multi_class= ovr\n",
      "Accuracy  0.7107309486780715 при количестве итераций: 72 , solver= liblinear , C= 1.1 , multi_class= auto\n",
      "Accuracy  0.7107309486780715 при количестве итераций: 72 , solver= liblinear , C= 1.1 , multi_class= ovr\n",
      "Accuracy  0.7107309486780715 при количестве итераций: 72 , solver= liblinear , C= 1.2000000000000002 , multi_class= auto\n",
      "Accuracy  0.7107309486780715 при количестве итераций: 72 , solver= liblinear , C= 1.2000000000000002 , multi_class= ovr\n",
      "Accuracy  0.7107309486780715 при количестве итераций: 72 , solver= liblinear , C= 1.3000000000000003 , multi_class= auto\n",
      "Accuracy  0.7107309486780715 при количестве итераций: 72 , solver= liblinear , C= 1.3000000000000003 , multi_class= ovr\n",
      "Accuracy  0.7107309486780715 при количестве итераций: 72 , solver= liblinear , C= 1.4000000000000001 , multi_class= auto\n",
      "Accuracy  0.7107309486780715 при количестве итераций: 72 , solver= liblinear , C= 1.4000000000000001 , multi_class= ovr\n",
      "Accuracy  0.6936236391912908 при количестве итераций: 72 , solver= sag , C= 0.1 , multi_class= auto\n",
      "Accuracy  0.6936236391912908 при количестве итераций: 72 , solver= sag , C= 0.1 , multi_class= ovr\n",
      "Accuracy  0.6936236391912908 при количестве итераций: 72 , solver= sag , C= 0.2 , multi_class= auto\n"
     ]
    },
    {
     "name": "stderr",
     "output_type": "stream",
     "text": [
      "/opt/conda/lib/python3.9/site-packages/sklearn/linear_model/_sag.py:328: ConvergenceWarning: The max_iter was reached which means the coef_ did not converge\n",
      "  warnings.warn(\"The max_iter was reached which means \"\n",
      "/opt/conda/lib/python3.9/site-packages/sklearn/linear_model/_sag.py:328: ConvergenceWarning: The max_iter was reached which means the coef_ did not converge\n",
      "  warnings.warn(\"The max_iter was reached which means \"\n",
      "/opt/conda/lib/python3.9/site-packages/sklearn/linear_model/_sag.py:328: ConvergenceWarning: The max_iter was reached which means the coef_ did not converge\n",
      "  warnings.warn(\"The max_iter was reached which means \"\n",
      "/opt/conda/lib/python3.9/site-packages/sklearn/linear_model/_sag.py:328: ConvergenceWarning: The max_iter was reached which means the coef_ did not converge\n",
      "  warnings.warn(\"The max_iter was reached which means \"\n",
      "/opt/conda/lib/python3.9/site-packages/sklearn/linear_model/_sag.py:328: ConvergenceWarning: The max_iter was reached which means the coef_ did not converge\n",
      "  warnings.warn(\"The max_iter was reached which means \"\n",
      "/opt/conda/lib/python3.9/site-packages/sklearn/linear_model/_sag.py:328: ConvergenceWarning: The max_iter was reached which means the coef_ did not converge\n",
      "  warnings.warn(\"The max_iter was reached which means \"\n",
      "/opt/conda/lib/python3.9/site-packages/sklearn/linear_model/_sag.py:328: ConvergenceWarning: The max_iter was reached which means the coef_ did not converge\n",
      "  warnings.warn(\"The max_iter was reached which means \"\n",
      "/opt/conda/lib/python3.9/site-packages/sklearn/linear_model/_sag.py:328: ConvergenceWarning: The max_iter was reached which means the coef_ did not converge\n",
      "  warnings.warn(\"The max_iter was reached which means \"\n",
      "/opt/conda/lib/python3.9/site-packages/sklearn/linear_model/_sag.py:328: ConvergenceWarning: The max_iter was reached which means the coef_ did not converge\n",
      "  warnings.warn(\"The max_iter was reached which means \"\n",
      "/opt/conda/lib/python3.9/site-packages/sklearn/linear_model/_sag.py:328: ConvergenceWarning: The max_iter was reached which means the coef_ did not converge\n",
      "  warnings.warn(\"The max_iter was reached which means \"\n",
      "/opt/conda/lib/python3.9/site-packages/sklearn/linear_model/_sag.py:328: ConvergenceWarning: The max_iter was reached which means the coef_ did not converge\n",
      "  warnings.warn(\"The max_iter was reached which means \"\n",
      "/opt/conda/lib/python3.9/site-packages/sklearn/linear_model/_sag.py:328: ConvergenceWarning: The max_iter was reached which means the coef_ did not converge\n",
      "  warnings.warn(\"The max_iter was reached which means \"\n"
     ]
    },
    {
     "name": "stdout",
     "output_type": "stream",
     "text": [
      "Accuracy  0.6936236391912908 при количестве итераций: 72 , solver= sag , C= 0.2 , multi_class= ovr\n",
      "Accuracy  0.6936236391912908 при количестве итераций: 72 , solver= sag , C= 0.30000000000000004 , multi_class= auto\n",
      "Accuracy  0.6936236391912908 при количестве итераций: 72 , solver= sag , C= 0.30000000000000004 , multi_class= ovr\n",
      "Accuracy  0.6936236391912908 при количестве итераций: 72 , solver= sag , C= 0.4 , multi_class= auto\n",
      "Accuracy  0.6936236391912908 при количестве итераций: 72 , solver= sag , C= 0.4 , multi_class= ovr\n",
      "Accuracy  0.6936236391912908 при количестве итераций: 72 , solver= sag , C= 0.5 , multi_class= auto\n",
      "Accuracy  0.6936236391912908 при количестве итераций: 72 , solver= sag , C= 0.5 , multi_class= ovr\n",
      "Accuracy  0.6936236391912908 при количестве итераций: 72 , solver= sag , C= 0.6 , multi_class= auto\n",
      "Accuracy  0.6936236391912908 при количестве итераций: 72 , solver= sag , C= 0.6 , multi_class= ovr\n",
      "Accuracy  0.6936236391912908 при количестве итераций: 72 , solver= sag , C= 0.7000000000000001 , multi_class= auto\n",
      "Accuracy  0.6936236391912908 при количестве итераций: 72 , solver= sag , C= 0.7000000000000001 , multi_class= ovr\n",
      "Accuracy  0.6936236391912908 при количестве итераций: 72 , solver= sag , C= 0.8 , multi_class= auto\n"
     ]
    },
    {
     "name": "stderr",
     "output_type": "stream",
     "text": [
      "/opt/conda/lib/python3.9/site-packages/sklearn/linear_model/_sag.py:328: ConvergenceWarning: The max_iter was reached which means the coef_ did not converge\n",
      "  warnings.warn(\"The max_iter was reached which means \"\n",
      "/opt/conda/lib/python3.9/site-packages/sklearn/linear_model/_sag.py:328: ConvergenceWarning: The max_iter was reached which means the coef_ did not converge\n",
      "  warnings.warn(\"The max_iter was reached which means \"\n",
      "/opt/conda/lib/python3.9/site-packages/sklearn/linear_model/_sag.py:328: ConvergenceWarning: The max_iter was reached which means the coef_ did not converge\n",
      "  warnings.warn(\"The max_iter was reached which means \"\n",
      "/opt/conda/lib/python3.9/site-packages/sklearn/linear_model/_sag.py:328: ConvergenceWarning: The max_iter was reached which means the coef_ did not converge\n",
      "  warnings.warn(\"The max_iter was reached which means \"\n",
      "/opt/conda/lib/python3.9/site-packages/sklearn/linear_model/_sag.py:328: ConvergenceWarning: The max_iter was reached which means the coef_ did not converge\n",
      "  warnings.warn(\"The max_iter was reached which means \"\n",
      "/opt/conda/lib/python3.9/site-packages/sklearn/linear_model/_sag.py:328: ConvergenceWarning: The max_iter was reached which means the coef_ did not converge\n",
      "  warnings.warn(\"The max_iter was reached which means \"\n",
      "/opt/conda/lib/python3.9/site-packages/sklearn/linear_model/_sag.py:328: ConvergenceWarning: The max_iter was reached which means the coef_ did not converge\n",
      "  warnings.warn(\"The max_iter was reached which means \"\n",
      "/opt/conda/lib/python3.9/site-packages/sklearn/linear_model/_sag.py:328: ConvergenceWarning: The max_iter was reached which means the coef_ did not converge\n",
      "  warnings.warn(\"The max_iter was reached which means \"\n",
      "/opt/conda/lib/python3.9/site-packages/sklearn/linear_model/_sag.py:328: ConvergenceWarning: The max_iter was reached which means the coef_ did not converge\n",
      "  warnings.warn(\"The max_iter was reached which means \"\n",
      "/opt/conda/lib/python3.9/site-packages/sklearn/linear_model/_sag.py:328: ConvergenceWarning: The max_iter was reached which means the coef_ did not converge\n",
      "  warnings.warn(\"The max_iter was reached which means \"\n",
      "/opt/conda/lib/python3.9/site-packages/sklearn/linear_model/_sag.py:328: ConvergenceWarning: The max_iter was reached which means the coef_ did not converge\n",
      "  warnings.warn(\"The max_iter was reached which means \"\n",
      "/opt/conda/lib/python3.9/site-packages/sklearn/linear_model/_sag.py:328: ConvergenceWarning: The max_iter was reached which means the coef_ did not converge\n",
      "  warnings.warn(\"The max_iter was reached which means \"\n"
     ]
    },
    {
     "name": "stdout",
     "output_type": "stream",
     "text": [
      "Accuracy  0.6936236391912908 при количестве итераций: 72 , solver= sag , C= 0.8 , multi_class= ovr\n",
      "Accuracy  0.6936236391912908 при количестве итераций: 72 , solver= sag , C= 0.9 , multi_class= auto\n",
      "Accuracy  0.6936236391912908 при количестве итераций: 72 , solver= sag , C= 0.9 , multi_class= ovr\n",
      "Accuracy  0.6936236391912908 при количестве итераций: 72 , solver= sag , C= 1.0 , multi_class= auto\n",
      "Accuracy  0.6936236391912908 при количестве итераций: 72 , solver= sag , C= 1.0 , multi_class= ovr\n",
      "Accuracy  0.6936236391912908 при количестве итераций: 72 , solver= sag , C= 1.1 , multi_class= auto\n",
      "Accuracy  0.6936236391912908 при количестве итераций: 72 , solver= sag , C= 1.1 , multi_class= ovr\n",
      "Accuracy  0.6936236391912908 при количестве итераций: 72 , solver= sag , C= 1.2000000000000002 , multi_class= auto\n",
      "Accuracy  0.6936236391912908 при количестве итераций: 72 , solver= sag , C= 1.2000000000000002 , multi_class= ovr\n",
      "Accuracy  0.6936236391912908 при количестве итераций: 72 , solver= sag , C= 1.3000000000000003 , multi_class= auto\n",
      "Accuracy  0.6936236391912908 при количестве итераций: 72 , solver= sag , C= 1.3000000000000003 , multi_class= ovr\n",
      "Accuracy  0.6936236391912908 при количестве итераций: 72 , solver= sag , C= 1.4000000000000001 , multi_class= auto\n"
     ]
    },
    {
     "name": "stderr",
     "output_type": "stream",
     "text": [
      "/opt/conda/lib/python3.9/site-packages/sklearn/linear_model/_sag.py:328: ConvergenceWarning: The max_iter was reached which means the coef_ did not converge\n",
      "  warnings.warn(\"The max_iter was reached which means \"\n",
      "/opt/conda/lib/python3.9/site-packages/sklearn/linear_model/_sag.py:328: ConvergenceWarning: The max_iter was reached which means the coef_ did not converge\n",
      "  warnings.warn(\"The max_iter was reached which means \"\n",
      "/opt/conda/lib/python3.9/site-packages/sklearn/linear_model/_sag.py:328: ConvergenceWarning: The max_iter was reached which means the coef_ did not converge\n",
      "  warnings.warn(\"The max_iter was reached which means \"\n",
      "/opt/conda/lib/python3.9/site-packages/sklearn/linear_model/_sag.py:328: ConvergenceWarning: The max_iter was reached which means the coef_ did not converge\n",
      "  warnings.warn(\"The max_iter was reached which means \"\n",
      "/opt/conda/lib/python3.9/site-packages/sklearn/linear_model/_sag.py:328: ConvergenceWarning: The max_iter was reached which means the coef_ did not converge\n",
      "  warnings.warn(\"The max_iter was reached which means \"\n",
      "/opt/conda/lib/python3.9/site-packages/sklearn/linear_model/_sag.py:328: ConvergenceWarning: The max_iter was reached which means the coef_ did not converge\n",
      "  warnings.warn(\"The max_iter was reached which means \"\n",
      "/opt/conda/lib/python3.9/site-packages/sklearn/linear_model/_sag.py:328: ConvergenceWarning: The max_iter was reached which means the coef_ did not converge\n",
      "  warnings.warn(\"The max_iter was reached which means \"\n",
      "/opt/conda/lib/python3.9/site-packages/sklearn/linear_model/_sag.py:328: ConvergenceWarning: The max_iter was reached which means the coef_ did not converge\n",
      "  warnings.warn(\"The max_iter was reached which means \"\n",
      "/opt/conda/lib/python3.9/site-packages/sklearn/linear_model/_sag.py:328: ConvergenceWarning: The max_iter was reached which means the coef_ did not converge\n",
      "  warnings.warn(\"The max_iter was reached which means \"\n",
      "/opt/conda/lib/python3.9/site-packages/sklearn/linear_model/_sag.py:328: ConvergenceWarning: The max_iter was reached which means the coef_ did not converge\n",
      "  warnings.warn(\"The max_iter was reached which means \"\n",
      "/opt/conda/lib/python3.9/site-packages/sklearn/linear_model/_sag.py:328: ConvergenceWarning: The max_iter was reached which means the coef_ did not converge\n",
      "  warnings.warn(\"The max_iter was reached which means \"\n",
      "/opt/conda/lib/python3.9/site-packages/sklearn/linear_model/_sag.py:328: ConvergenceWarning: The max_iter was reached which means the coef_ did not converge\n",
      "  warnings.warn(\"The max_iter was reached which means \"\n"
     ]
    },
    {
     "name": "stdout",
     "output_type": "stream",
     "text": [
      "Accuracy  0.6936236391912908 при количестве итераций: 72 , solver= sag , C= 1.4000000000000001 , multi_class= ovr\n",
      "Accuracy  0.6936236391912908 при количестве итераций: 72 , solver= saga , C= 0.1 , multi_class= auto\n",
      "Accuracy  0.6936236391912908 при количестве итераций: 72 , solver= saga , C= 0.1 , multi_class= ovr\n",
      "Accuracy  0.6936236391912908 при количестве итераций: 72 , solver= saga , C= 0.2 , multi_class= auto\n",
      "Accuracy  0.6936236391912908 при количестве итераций: 72 , solver= saga , C= 0.2 , multi_class= ovr\n",
      "Accuracy  0.6936236391912908 при количестве итераций: 72 , solver= saga , C= 0.30000000000000004 , multi_class= auto\n",
      "Accuracy  0.6936236391912908 при количестве итераций: 72 , solver= saga , C= 0.30000000000000004 , multi_class= ovr\n",
      "Accuracy  0.6936236391912908 при количестве итераций: 72 , solver= saga , C= 0.4 , multi_class= auto\n",
      "Accuracy  0.6936236391912908 при количестве итераций: 72 , solver= saga , C= 0.4 , multi_class= ovr\n",
      "Accuracy  0.6936236391912908 при количестве итераций: 72 , solver= saga , C= 0.5 , multi_class= auto\n",
      "Accuracy  0.6936236391912908 при количестве итераций: 72 , solver= saga , C= 0.5 , multi_class= ovr\n"
     ]
    },
    {
     "name": "stderr",
     "output_type": "stream",
     "text": [
      "/opt/conda/lib/python3.9/site-packages/sklearn/linear_model/_sag.py:328: ConvergenceWarning: The max_iter was reached which means the coef_ did not converge\n",
      "  warnings.warn(\"The max_iter was reached which means \"\n",
      "/opt/conda/lib/python3.9/site-packages/sklearn/linear_model/_sag.py:328: ConvergenceWarning: The max_iter was reached which means the coef_ did not converge\n",
      "  warnings.warn(\"The max_iter was reached which means \"\n",
      "/opt/conda/lib/python3.9/site-packages/sklearn/linear_model/_sag.py:328: ConvergenceWarning: The max_iter was reached which means the coef_ did not converge\n",
      "  warnings.warn(\"The max_iter was reached which means \"\n",
      "/opt/conda/lib/python3.9/site-packages/sklearn/linear_model/_sag.py:328: ConvergenceWarning: The max_iter was reached which means the coef_ did not converge\n",
      "  warnings.warn(\"The max_iter was reached which means \"\n",
      "/opt/conda/lib/python3.9/site-packages/sklearn/linear_model/_sag.py:328: ConvergenceWarning: The max_iter was reached which means the coef_ did not converge\n",
      "  warnings.warn(\"The max_iter was reached which means \"\n",
      "/opt/conda/lib/python3.9/site-packages/sklearn/linear_model/_sag.py:328: ConvergenceWarning: The max_iter was reached which means the coef_ did not converge\n",
      "  warnings.warn(\"The max_iter was reached which means \"\n",
      "/opt/conda/lib/python3.9/site-packages/sklearn/linear_model/_sag.py:328: ConvergenceWarning: The max_iter was reached which means the coef_ did not converge\n",
      "  warnings.warn(\"The max_iter was reached which means \"\n",
      "/opt/conda/lib/python3.9/site-packages/sklearn/linear_model/_sag.py:328: ConvergenceWarning: The max_iter was reached which means the coef_ did not converge\n",
      "  warnings.warn(\"The max_iter was reached which means \"\n",
      "/opt/conda/lib/python3.9/site-packages/sklearn/linear_model/_sag.py:328: ConvergenceWarning: The max_iter was reached which means the coef_ did not converge\n",
      "  warnings.warn(\"The max_iter was reached which means \"\n",
      "/opt/conda/lib/python3.9/site-packages/sklearn/linear_model/_sag.py:328: ConvergenceWarning: The max_iter was reached which means the coef_ did not converge\n",
      "  warnings.warn(\"The max_iter was reached which means \"\n",
      "/opt/conda/lib/python3.9/site-packages/sklearn/linear_model/_sag.py:328: ConvergenceWarning: The max_iter was reached which means the coef_ did not converge\n",
      "  warnings.warn(\"The max_iter was reached which means \"\n"
     ]
    },
    {
     "name": "stdout",
     "output_type": "stream",
     "text": [
      "Accuracy  0.6936236391912908 при количестве итераций: 72 , solver= saga , C= 0.6 , multi_class= auto\n",
      "Accuracy  0.6936236391912908 при количестве итераций: 72 , solver= saga , C= 0.6 , multi_class= ovr\n",
      "Accuracy  0.6936236391912908 при количестве итераций: 72 , solver= saga , C= 0.7000000000000001 , multi_class= auto\n",
      "Accuracy  0.6936236391912908 при количестве итераций: 72 , solver= saga , C= 0.7000000000000001 , multi_class= ovr\n",
      "Accuracy  0.6936236391912908 при количестве итераций: 72 , solver= saga , C= 0.8 , multi_class= auto\n",
      "Accuracy  0.6936236391912908 при количестве итераций: 72 , solver= saga , C= 0.8 , multi_class= ovr\n",
      "Accuracy  0.6936236391912908 при количестве итераций: 72 , solver= saga , C= 0.9 , multi_class= auto\n",
      "Accuracy  0.6936236391912908 при количестве итераций: 72 , solver= saga , C= 0.9 , multi_class= ovr\n",
      "Accuracy  0.6936236391912908 при количестве итераций: 72 , solver= saga , C= 1.0 , multi_class= auto\n",
      "Accuracy  0.6936236391912908 при количестве итераций: 72 , solver= saga , C= 1.0 , multi_class= ovr\n",
      "Accuracy  0.6936236391912908 при количестве итераций: 72 , solver= saga , C= 1.1 , multi_class= auto\n",
      "Accuracy  0.6936236391912908 при количестве итераций: 72 , solver= saga , C= 1.1 , multi_class= ovr\n",
      "Accuracy  0.6936236391912908 при количестве итераций: 72 , solver= saga , C= 1.2000000000000002 , multi_class= auto\n",
      "Accuracy  0.6936236391912908 при количестве итераций: 72 , solver= saga , C= 1.2000000000000002 , multi_class= ovr\n",
      "Accuracy  0.6936236391912908 при количестве итераций: 72 , solver= saga , C= 1.3000000000000003 , multi_class= auto\n",
      "Accuracy  0.6936236391912908 при количестве итераций: 72 , solver= saga , C= 1.3000000000000003 , multi_class= ovr\n",
      "Accuracy  0.6936236391912908 при количестве итераций: 72 , solver= saga , C= 1.4000000000000001 , multi_class= auto\n",
      "Accuracy  0.6936236391912908 при количестве итераций: 72 , solver= saga , C= 1.4000000000000001 , multi_class= ovr\n",
      "Accuracy лучшей модели: 0.749611197511664 при количестве итераций: 71 , solver= lbfgs , C= 0.30000000000000004 , multi_class= auto\n"
     ]
    },
    {
     "name": "stderr",
     "output_type": "stream",
     "text": [
      "/opt/conda/lib/python3.9/site-packages/sklearn/linear_model/_sag.py:328: ConvergenceWarning: The max_iter was reached which means the coef_ did not converge\n",
      "  warnings.warn(\"The max_iter was reached which means \"\n",
      "/opt/conda/lib/python3.9/site-packages/sklearn/linear_model/_sag.py:328: ConvergenceWarning: The max_iter was reached which means the coef_ did not converge\n",
      "  warnings.warn(\"The max_iter was reached which means \"\n",
      "/opt/conda/lib/python3.9/site-packages/sklearn/linear_model/_sag.py:328: ConvergenceWarning: The max_iter was reached which means the coef_ did not converge\n",
      "  warnings.warn(\"The max_iter was reached which means \"\n",
      "/opt/conda/lib/python3.9/site-packages/sklearn/linear_model/_sag.py:328: ConvergenceWarning: The max_iter was reached which means the coef_ did not converge\n",
      "  warnings.warn(\"The max_iter was reached which means \"\n",
      "/opt/conda/lib/python3.9/site-packages/sklearn/linear_model/_sag.py:328: ConvergenceWarning: The max_iter was reached which means the coef_ did not converge\n",
      "  warnings.warn(\"The max_iter was reached which means \"\n",
      "/opt/conda/lib/python3.9/site-packages/sklearn/linear_model/_sag.py:328: ConvergenceWarning: The max_iter was reached which means the coef_ did not converge\n",
      "  warnings.warn(\"The max_iter was reached which means \"\n",
      "/opt/conda/lib/python3.9/site-packages/sklearn/linear_model/_sag.py:328: ConvergenceWarning: The max_iter was reached which means the coef_ did not converge\n",
      "  warnings.warn(\"The max_iter was reached which means \"\n",
      "/opt/conda/lib/python3.9/site-packages/sklearn/linear_model/_sag.py:328: ConvergenceWarning: The max_iter was reached which means the coef_ did not converge\n",
      "  warnings.warn(\"The max_iter was reached which means \"\n",
      "/opt/conda/lib/python3.9/site-packages/sklearn/linear_model/_sag.py:328: ConvergenceWarning: The max_iter was reached which means the coef_ did not converge\n",
      "  warnings.warn(\"The max_iter was reached which means \"\n"
     ]
    }
   ],
   "source": [
    "best_model = None\n",
    "best_result = 0\n",
    "for max_iter in range(71,73):\n",
    "    for sol in ['newton-cg', 'lbfgs', 'liblinear', 'sag', 'saga']:\n",
    "        for number_c in np.arange(0.1, 1.5, 0.1):\n",
    "            for multi in ['auto', 'ovr']:\n",
    "                model = LogisticRegression(random_state=12345\n",
    "                                               , max_iter=max_iter\n",
    "                                               , solver=sol\n",
    "                                               , C=number_c\n",
    "                                               , multi_class=multi)\n",
    "                model.fit(features_train, target_train)\n",
    "                predictions = model.predict(features_valid) \n",
    "                result = accuracy_score(target_valid, predictions)\n",
    "                print(\"Accuracy \", result\n",
    "                      , 'при количестве итераций:', max_iter\n",
    "                      , ', solver=', sol\n",
    "                      , ', C=', number_c\n",
    "                      , ', multi_class=', multi) \n",
    "                if result > best_result:\n",
    "                    best_max_iter=max_iter\n",
    "                    best_solver=sol\n",
    "                    best_c=number_c\n",
    "                    best_multi=multi\n",
    "                    best_model = model\n",
    "                    best_result = result\n",
    "        \n",
    "print(\"Accuracy лучшей модели:\", best_result\n",
    "      , 'при количестве итераций:', best_max_iter\n",
    "      , ', solver=', best_solver\n",
    "      , ', C=', best_c\n",
    "      , ', multi_class=', best_multi) \n"
   ]
  },
  {
   "cell_type": "markdown",
   "metadata": {},
   "source": [
    "Сохраним параметры в best_logistic_model"
   ]
  },
  {
   "cell_type": "code",
   "execution_count": 100,
   "metadata": {},
   "outputs": [
    {
     "name": "stdout",
     "output_type": "stream",
     "text": [
      "Accuracy лучшей модели: 0.7573872472783826 при количестве итераций: 77 , solver= lbfgs , C= 1.0\n"
     ]
    },
    {
     "name": "stderr",
     "output_type": "stream",
     "text": [
      "/opt/conda/lib/python3.9/site-packages/sklearn/linear_model/_logistic.py:763: ConvergenceWarning: lbfgs failed to converge (status=1):\n",
      "STOP: TOTAL NO. of ITERATIONS REACHED LIMIT.\n",
      "\n",
      "Increase the number of iterations (max_iter) or scale the data as shown in:\n",
      "    https://scikit-learn.org/stable/modules/preprocessing.html\n",
      "Please also refer to the documentation for alternative solver options:\n",
      "    https://scikit-learn.org/stable/modules/linear_model.html#logistic-regression\n",
      "  n_iter_i = _check_optimize_result(\n"
     ]
    }
   ],
   "source": [
    "best_logistic_model = LogisticRegression(random_state=12345\n",
    "                                               , max_iter=77\n",
    "                                               , solver='lbfgs'\n",
    "                                               , C=1.0)                                                \n",
    "best_logistic_model.fit(features_train, target_train)\n",
    "predictions = best_logistic_model.predict(features_valid) \n",
    "result = accuracy_score(target_valid, predictions)\n",
    "print(\"Accuracy лучшей модели:\", result\n",
    "      , 'при количестве итераций:', 77\n",
    "      , ', solver=', 'lbfgs'\n",
    "      , ', C=', '1.0') "
   ]
  },
  {
   "cell_type": "markdown",
   "metadata": {},
   "source": [
    "### **Вывод:**\n",
    "**Лучшими параметрами оказались:**\n",
    "* Для классификатора дерева решений Accuracy лучшей модели: 0.8118195956454122 при глубине дерева: 5 , criterion= gini , splitter= best\n",
    "* Для модели случайного леса Accuracy лучшей модели: 0.8133748055987559 при количестве деревьев: 16 , criterion= entropy , bootstrap= True , warm_start= False\n",
    "* Для логистической регрессии Accuracy лучшей модели: 0.7573872472783826 при количестве итераций: 72 , solver= lbfgs , C= 1.0\n",
    "* По наибольшему значению Accuracy выберакем модель случайного леса."
   ]
  },
  {
   "cell_type": "markdown",
   "metadata": {},
   "source": [
    "## Проверим модели на тестовой выборке"
   ]
  },
  {
   "cell_type": "markdown",
   "metadata": {},
   "source": [
    "Проверим модели на тестовой выборке и найдем сразу точность, полноту и F1-меру для визуализации результатов в следующем пункте. "
   ]
  },
  {
   "cell_type": "code",
   "execution_count": 101,
   "metadata": {},
   "outputs": [
    {
     "name": "stdout",
     "output_type": "stream",
     "text": [
      "accuracy модели случайного леса на тестовой выборке 0.7931570762052877\n"
     ]
    }
   ],
   "source": [
    "test_predictions = best_forest_model.predict(features_test)\n",
    "result_forest = accuracy_score(target_test, test_predictions)\n",
    "print('accuracy модели случайного леса на тестовой выборке', result_forest)\n",
    "\n",
    "precision_forest = precision_score(target_test, test_predictions)\n",
    "recall_forest = recall_score(target_test, test_predictions)\n",
    "f1_forest = f1_score(target_test, test_predictions)\n"
   ]
  },
  {
   "cell_type": "markdown",
   "metadata": {},
   "source": [
    "### **Вывод:**\n",
    "**На тестовой выборке для модели случайного леса accuracy  =  0.793, является отличным результатом.**"
   ]
  },
  {
   "cell_type": "markdown",
   "metadata": {},
   "source": [
    "## (бонус) Проверьте модели на адекватность"
   ]
  },
  {
   "cell_type": "markdown",
   "metadata": {},
   "source": [
    "Создадим список состоящий из 446 нулей и 197 единиц, чтоб учесть дисбаланс классов в таргете, и перемешаем его методом random.shuffle. "
   ]
  },
  {
   "cell_type": "code",
   "execution_count": 102,
   "metadata": {},
   "outputs": [
    {
     "name": "stdout",
     "output_type": "stream",
     "text": [
      "0    446\n",
      "1    197\n",
      "dtype: int64\n",
      "Точность модели случайного леса на тестовой выборке 0.5987558320373251\n"
     ]
    }
   ],
   "source": [
    "rand_0 = [0]\n",
    "rand_1 = [1]\n",
    "rand_0 = rand_0 * 446\n",
    "rand_1 = rand_1 * 197\n",
    "rand = rand_0 + rand_1\n",
    "random.shuffle(rand)\n",
    "rand_series = pd.Series(rand)\n",
    "print(rand_series.value_counts())\n",
    "\n",
    "result_rand= accuracy_score(target_test, rand_series)\n",
    "print('Точность модели случайного леса на тестовой выборке', result_rand) "
   ]
  },
  {
   "cell_type": "markdown",
   "metadata": {},
   "source": [
    "Сформируем сводную таблицу-отчет отражающую качество моделей на тестовой выборке в сравнении моделью, где результат предсказывается случайным образом."
   ]
  },
  {
   "cell_type": "markdown",
   "metadata": {},
   "source": [
    "### **Вывод:**\n",
    "* По сравнению с моделью случайного предсказания у модели случайного леса качество выше на 34%, т. е. в полне адекватна. \n",
    "* **Если учесть, что метрика качество у случайного леса 0.79 то можно порекомендовать эту модель для системы способной проанализировать поведение клиентов.**\t"
   ]
  },
  {
   "cell_type": "markdown",
   "metadata": {},
   "source": [
    "**Общий вывод:**\n",
    "\n",
    "Данные были разбиты на три части: обучающую, валидационную и тестовую выборки, в соотношении 3:1:1.\n",
    "Получились:\n",
    "* Размер обучающей выборки 1928\n",
    "* Размер валидационной выборки 643\n",
    "* Размер тестовой выборки 643\n",
    "\n",
    "Провели исследование модели:\n",
    "* классификатора дерева решений\n",
    "* случайного леса\n",
    "* логистической регрессии\n",
    "\n",
    "**Лучшими параметрами оказались:**\n",
    "* Для классификатора дерева решений Accuracy лучшей модели: 0.8118195956454122 при глубине дерева: 5 , criterion= gini , splitter= best\n",
    "* Для модели случайного леса Accuracy лучшей модели: 0.8133748055987559 при количестве деревьев: 16 , criterion= entropy , bootstrap= True , warm_start= False\n",
    "* Для логистической регрессии Accuracy лучшей модели: 0.7573872472783826 при количестве итераций: 72 , solver= lbfgs , C= 1.0\n",
    "* По наибольшему значению Accuracy выберакем модель случайного леса.\n",
    "\n",
    "**На тестовой выборке для модели случайного леса accuracy  =  0.793, является отличным результатом.**\n",
    "\n",
    "* Модель случайного леса с мерой адекватности F1 равна 0.619, это выше среднего значения адекватности модели. \n",
    "\n",
    "* **Если учесть, что метрика accuracy у  случайного леса 0.793 и средняя адекватность то можно порекомендовать эту модель для системы способной проанализировать поведение клиентов.**\t\t\t\t"
   ]
  },
  {
   "cell_type": "code",
   "execution_count": null,
   "metadata": {},
   "outputs": [],
   "source": []
  }
 ],
 "metadata": {
  "ExecuteTimeLog": [
   {
    "duration": 42,
    "start_time": "2022-05-20T14:49:23.408Z"
   },
   {
    "duration": 21,
    "start_time": "2022-05-20T14:49:55.015Z"
   },
   {
    "duration": 24,
    "start_time": "2022-05-20T14:50:17.000Z"
   },
   {
    "duration": 1250,
    "start_time": "2022-05-20T14:50:39.294Z"
   },
   {
    "duration": 1048,
    "start_time": "2022-05-20T14:52:28.498Z"
   },
   {
    "duration": 600,
    "start_time": "2022-05-20T14:53:49.701Z"
   },
   {
    "duration": 41,
    "start_time": "2022-05-20T14:55:41.697Z"
   },
   {
    "duration": 4314,
    "start_time": "2022-05-20T14:56:19.806Z"
   },
   {
    "duration": 32,
    "start_time": "2022-05-20T14:57:06.786Z"
   },
   {
    "duration": 15,
    "start_time": "2022-05-20T15:23:49.029Z"
   },
   {
    "duration": 5,
    "start_time": "2022-05-20T15:24:10.815Z"
   },
   {
    "duration": 9,
    "start_time": "2022-05-20T15:31:15.544Z"
   },
   {
    "duration": 9,
    "start_time": "2022-05-20T15:32:17.118Z"
   },
   {
    "duration": 10,
    "start_time": "2022-05-20T15:32:30.128Z"
   },
   {
    "duration": 39,
    "start_time": "2022-05-20T15:48:46.753Z"
   },
   {
    "duration": 20,
    "start_time": "2022-05-20T15:49:19.829Z"
   },
   {
    "duration": 162,
    "start_time": "2022-05-20T15:49:51.448Z"
   },
   {
    "duration": 400,
    "start_time": "2022-05-20T15:50:08.666Z"
   },
   {
    "duration": 24,
    "start_time": "2022-05-20T15:51:18.011Z"
   },
   {
    "duration": 33,
    "start_time": "2022-05-20T15:55:07.356Z"
   },
   {
    "duration": 5,
    "start_time": "2022-05-20T15:55:07.393Z"
   },
   {
    "duration": 9,
    "start_time": "2022-05-20T15:55:07.429Z"
   },
   {
    "duration": 18,
    "start_time": "2022-05-20T15:55:11.160Z"
   },
   {
    "duration": 8,
    "start_time": "2022-05-20T15:59:21.726Z"
   },
   {
    "duration": 17,
    "start_time": "2022-05-20T15:59:27.877Z"
   },
   {
    "duration": 19,
    "start_time": "2022-05-20T16:00:43.513Z"
   },
   {
    "duration": 20,
    "start_time": "2022-05-20T16:02:49.981Z"
   },
   {
    "duration": 31,
    "start_time": "2022-05-20T16:03:43.123Z"
   },
   {
    "duration": 150,
    "start_time": "2022-05-20T16:07:08.969Z"
   },
   {
    "duration": 939,
    "start_time": "2022-05-20T16:07:47.411Z"
   },
   {
    "duration": 1962,
    "start_time": "2022-05-20T16:08:32.407Z"
   },
   {
    "duration": 15,
    "start_time": "2022-05-20T16:09:21.338Z"
   },
   {
    "duration": 492,
    "start_time": "2022-05-20T16:10:06.550Z"
   },
   {
    "duration": 531,
    "start_time": "2022-05-20T16:12:23.451Z"
   },
   {
    "duration": 478,
    "start_time": "2022-05-20T16:12:54.568Z"
   },
   {
    "duration": 7,
    "start_time": "2022-05-20T16:23:30.831Z"
   },
   {
    "duration": 31,
    "start_time": "2022-05-20T16:24:06.059Z"
   },
   {
    "duration": 1089,
    "start_time": "2022-05-20T16:24:31.340Z"
   },
   {
    "duration": 1027,
    "start_time": "2022-05-20T16:25:08.613Z"
   },
   {
    "duration": 30,
    "start_time": "2022-05-20T16:29:13.375Z"
   },
   {
    "duration": 1498,
    "start_time": "2022-05-20T16:29:28.611Z"
   },
   {
    "duration": 1518,
    "start_time": "2022-05-20T16:35:07.199Z"
   },
   {
    "duration": 14,
    "start_time": "2022-05-20T16:36:26.323Z"
   },
   {
    "duration": 25714,
    "start_time": "2022-05-20T16:45:35.625Z"
   },
   {
    "duration": 25,
    "start_time": "2022-05-20T16:51:40.992Z"
   },
   {
    "duration": 47,
    "start_time": "2022-05-20T16:51:50.720Z"
   },
   {
    "duration": 52174,
    "start_time": "2022-05-20T16:52:05.722Z"
   },
   {
    "duration": 55597,
    "start_time": "2022-05-20T16:55:10.968Z"
   },
   {
    "duration": 54307,
    "start_time": "2022-05-20T16:56:48.699Z"
   },
   {
    "duration": 464826,
    "start_time": "2022-05-20T16:58:21.404Z"
   },
   {
    "duration": 40,
    "start_time": "2022-05-20T17:48:46.947Z"
   },
   {
    "duration": 9,
    "start_time": "2022-05-20T17:48:47.552Z"
   },
   {
    "duration": 19,
    "start_time": "2022-05-20T17:48:47.563Z"
   },
   {
    "duration": 1644,
    "start_time": "2022-05-20T17:48:47.584Z"
   },
   {
    "duration": 55142,
    "start_time": "2022-05-20T17:48:49.230Z"
   },
   {
    "duration": 80,
    "start_time": "2022-05-20T18:43:14.988Z"
   },
   {
    "duration": 26,
    "start_time": "2022-05-20T18:44:08.541Z"
   },
   {
    "duration": 41,
    "start_time": "2022-05-20T18:44:47.035Z"
   },
   {
    "duration": 46,
    "start_time": "2022-05-20T18:44:52.579Z"
   },
   {
    "duration": 65,
    "start_time": "2022-05-20T18:45:18.533Z"
   },
   {
    "duration": 15,
    "start_time": "2022-05-20T18:47:15.024Z"
   },
   {
    "duration": 32,
    "start_time": "2022-05-20T18:47:41.719Z"
   },
   {
    "duration": 1541,
    "start_time": "2022-05-20T20:30:28.869Z"
   },
   {
    "duration": 5,
    "start_time": "2022-05-20T20:30:30.412Z"
   },
   {
    "duration": 40,
    "start_time": "2022-05-20T20:30:30.419Z"
   },
   {
    "duration": 1477,
    "start_time": "2022-05-20T20:30:30.461Z"
   },
   {
    "duration": 50071,
    "start_time": "2022-05-20T20:30:31.940Z"
   },
   {
    "duration": 179,
    "start_time": "2022-05-20T20:31:22.013Z"
   },
   {
    "duration": 25,
    "start_time": "2022-05-20T20:34:51.592Z"
   },
   {
    "duration": 38,
    "start_time": "2022-05-20T20:35:08.064Z"
   },
   {
    "duration": 3789,
    "start_time": "2022-05-20T20:35:29.621Z"
   },
   {
    "duration": 3921,
    "start_time": "2022-05-20T20:36:58.459Z"
   },
   {
    "duration": 13,
    "start_time": "2022-05-20T20:40:30.846Z"
   },
   {
    "duration": 17,
    "start_time": "2022-05-20T20:41:53.889Z"
   },
   {
    "duration": 38,
    "start_time": "2022-05-20T20:42:05.065Z"
   },
   {
    "duration": 3908,
    "start_time": "2022-05-20T20:42:14.191Z"
   },
   {
    "duration": 2716,
    "start_time": "2022-05-20T20:42:54.476Z"
   },
   {
    "duration": 2895,
    "start_time": "2022-05-20T21:15:24.369Z"
   },
   {
    "duration": 26,
    "start_time": "2022-05-20T21:16:48.851Z"
   },
   {
    "duration": 1210,
    "start_time": "2022-05-20T21:16:59.823Z"
   },
   {
    "duration": 1115,
    "start_time": "2022-05-20T21:17:58.857Z"
   },
   {
    "duration": 1113,
    "start_time": "2022-05-20T21:18:20.590Z"
   },
   {
    "duration": 3079,
    "start_time": "2022-05-20T21:18:59.068Z"
   },
   {
    "duration": 4913,
    "start_time": "2022-05-20T21:19:20.494Z"
   },
   {
    "duration": 4539,
    "start_time": "2022-05-20T21:19:26.437Z"
   },
   {
    "duration": 3374,
    "start_time": "2022-05-20T21:19:32.971Z"
   },
   {
    "duration": 4052,
    "start_time": "2022-05-20T21:19:38.780Z"
   },
   {
    "duration": 4499,
    "start_time": "2022-05-20T21:19:48.686Z"
   },
   {
    "duration": 4419,
    "start_time": "2022-05-20T21:19:53.996Z"
   },
   {
    "duration": 4198,
    "start_time": "2022-05-20T21:19:59.145Z"
   },
   {
    "duration": 3947,
    "start_time": "2022-05-20T21:20:37.811Z"
   },
   {
    "duration": 40,
    "start_time": "2022-05-20T21:22:13.877Z"
   },
   {
    "duration": 41,
    "start_time": "2022-05-20T21:23:25.472Z"
   },
   {
    "duration": 41209,
    "start_time": "2022-05-20T21:23:49.506Z"
   },
   {
    "duration": 40,
    "start_time": "2022-05-20T21:25:53.638Z"
   },
   {
    "duration": 610293,
    "start_time": "2022-05-20T21:26:48.567Z"
   },
   {
    "duration": 8418,
    "start_time": "2022-05-20T21:40:33.282Z"
   },
   {
    "duration": 718,
    "start_time": "2022-05-20T21:44:52.409Z"
   },
   {
    "duration": 1004420,
    "start_time": "2022-05-20T22:04:05.107Z"
   },
   {
    "duration": 6350,
    "start_time": "2022-05-20T22:42:41.466Z"
   },
   {
    "duration": 986808,
    "start_time": "2022-05-20T22:43:26.794Z"
   },
   {
    "duration": 32,
    "start_time": "2022-05-20T23:02:13.202Z"
   },
   {
    "duration": 28,
    "start_time": "2022-05-20T23:02:21.257Z"
   },
   {
    "duration": 15,
    "start_time": "2022-05-20T23:02:43.237Z"
   },
   {
    "duration": 45,
    "start_time": "2022-05-20T23:28:23.349Z"
   },
   {
    "duration": 138,
    "start_time": "2022-05-20T23:28:36.537Z"
   },
   {
    "duration": 43,
    "start_time": "2022-05-20T23:29:03.466Z"
   },
   {
    "duration": 1310,
    "start_time": "2022-05-20T23:30:21.992Z"
   },
   {
    "duration": 11,
    "start_time": "2022-05-20T23:32:03.011Z"
   },
   {
    "duration": 12,
    "start_time": "2022-05-20T23:32:11.201Z"
   },
   {
    "duration": 12,
    "start_time": "2022-05-20T23:32:16.518Z"
   },
   {
    "duration": 17,
    "start_time": "2022-05-20T23:32:22.337Z"
   },
   {
    "duration": 13,
    "start_time": "2022-05-20T23:32:28.447Z"
   },
   {
    "duration": 14,
    "start_time": "2022-05-20T23:32:33.906Z"
   },
   {
    "duration": 14,
    "start_time": "2022-05-20T23:32:44.554Z"
   },
   {
    "duration": 14,
    "start_time": "2022-05-20T23:32:50.562Z"
   },
   {
    "duration": 15,
    "start_time": "2022-05-20T23:33:18.403Z"
   },
   {
    "duration": 1302,
    "start_time": "2022-05-20T23:33:29.537Z"
   },
   {
    "duration": 1599,
    "start_time": "2022-05-20T23:35:49.439Z"
   },
   {
    "duration": 15,
    "start_time": "2022-05-20T23:37:34.181Z"
   },
   {
    "duration": 27,
    "start_time": "2022-05-20T23:38:54.149Z"
   },
   {
    "duration": 14,
    "start_time": "2022-05-20T23:39:00.790Z"
   },
   {
    "duration": 15,
    "start_time": "2022-05-20T23:39:34.958Z"
   },
   {
    "duration": 14,
    "start_time": "2022-05-20T23:39:58.705Z"
   },
   {
    "duration": 16,
    "start_time": "2022-05-20T23:40:49.546Z"
   },
   {
    "duration": 42,
    "start_time": "2022-05-20T23:41:17.694Z"
   },
   {
    "duration": 35,
    "start_time": "2022-05-20T23:41:33.268Z"
   },
   {
    "duration": 4,
    "start_time": "2022-05-20T23:41:33.305Z"
   },
   {
    "duration": 11,
    "start_time": "2022-05-20T23:41:33.311Z"
   },
   {
    "duration": 1636,
    "start_time": "2022-05-20T23:41:33.324Z"
   },
   {
    "duration": 14,
    "start_time": "2022-05-20T23:41:34.961Z"
   },
   {
    "duration": 48875,
    "start_time": "2022-05-20T23:41:34.977Z"
   },
   {
    "duration": 45,
    "start_time": "2022-05-20T23:43:08.804Z"
   },
   {
    "duration": 48541,
    "start_time": "2022-05-20T23:46:34.015Z"
   },
   {
    "duration": 117,
    "start_time": "2022-05-20T23:48:04.560Z"
   },
   {
    "duration": 196088,
    "start_time": "2022-05-20T23:48:18.638Z"
   },
   {
    "duration": 44,
    "start_time": "2022-05-20T23:53:50.578Z"
   },
   {
    "duration": 50,
    "start_time": "2022-05-20T23:54:25.542Z"
   },
   {
    "duration": 16,
    "start_time": "2022-05-21T00:01:44.025Z"
   },
   {
    "duration": 22,
    "start_time": "2022-05-21T00:56:51.860Z"
   },
   {
    "duration": 16,
    "start_time": "2022-05-21T01:06:55.655Z"
   },
   {
    "duration": 29,
    "start_time": "2022-05-21T01:07:29.919Z"
   },
   {
    "duration": 28,
    "start_time": "2022-05-21T01:19:18.421Z"
   },
   {
    "duration": 40,
    "start_time": "2022-05-21T01:25:00.495Z"
   },
   {
    "duration": 49,
    "start_time": "2022-05-21T01:30:33.781Z"
   },
   {
    "duration": 18,
    "start_time": "2022-05-21T01:31:07.523Z"
   },
   {
    "duration": 11,
    "start_time": "2022-05-21T01:31:18.350Z"
   },
   {
    "duration": 36,
    "start_time": "2022-05-21T01:45:29.993Z"
   },
   {
    "duration": 4,
    "start_time": "2022-05-21T01:45:30.031Z"
   },
   {
    "duration": 20,
    "start_time": "2022-05-21T01:45:30.043Z"
   },
   {
    "duration": 1759,
    "start_time": "2022-05-21T01:45:30.127Z"
   },
   {
    "duration": 14,
    "start_time": "2022-05-21T01:45:31.888Z"
   },
   {
    "duration": 48695,
    "start_time": "2022-05-21T01:45:31.903Z"
   },
   {
    "duration": 129,
    "start_time": "2022-05-21T01:46:20.600Z"
   },
   {
    "duration": 870,
    "start_time": "2022-05-21T01:46:20.730Z"
   },
   {
    "duration": 55,
    "start_time": "2022-05-21T01:46:21.601Z"
   },
   {
    "duration": 27,
    "start_time": "2022-05-21T01:46:21.657Z"
   },
   {
    "duration": 11,
    "start_time": "2022-05-21T01:46:21.685Z"
   },
   {
    "duration": 668,
    "start_time": "2022-05-21T01:56:44.001Z"
   },
   {
    "duration": 26,
    "start_time": "2022-05-21T02:06:39.010Z"
   },
   {
    "duration": 45,
    "start_time": "2022-05-21T02:42:41.941Z"
   },
   {
    "duration": 5,
    "start_time": "2022-05-21T02:42:41.988Z"
   },
   {
    "duration": 7,
    "start_time": "2022-05-21T02:42:41.999Z"
   },
   {
    "duration": 1778,
    "start_time": "2022-05-21T02:42:42.103Z"
   },
   {
    "duration": 17,
    "start_time": "2022-05-21T02:42:43.882Z"
   },
   {
    "duration": 48740,
    "start_time": "2022-05-21T02:42:43.900Z"
   },
   {
    "duration": 124,
    "start_time": "2022-05-21T02:43:32.642Z"
   },
   {
    "duration": 907,
    "start_time": "2022-05-21T02:43:32.768Z"
   },
   {
    "duration": 54,
    "start_time": "2022-05-21T02:43:33.677Z"
   },
   {
    "duration": 27,
    "start_time": "2022-05-21T02:43:33.733Z"
   },
   {
    "duration": 12,
    "start_time": "2022-05-21T02:43:33.761Z"
   },
   {
    "duration": 32,
    "start_time": "2022-05-21T02:50:51.467Z"
   },
   {
    "duration": 4,
    "start_time": "2022-05-21T02:50:51.501Z"
   },
   {
    "duration": 9,
    "start_time": "2022-05-21T02:50:51.507Z"
   },
   {
    "duration": 1612,
    "start_time": "2022-05-21T02:50:51.517Z"
   },
   {
    "duration": 14,
    "start_time": "2022-05-21T02:50:53.130Z"
   },
   {
    "duration": 48713,
    "start_time": "2022-05-21T02:50:53.146Z"
   },
   {
    "duration": 123,
    "start_time": "2022-05-21T02:51:41.860Z"
   },
   {
    "duration": 51085,
    "start_time": "2022-05-21T02:51:41.985Z"
   },
   {
    "duration": 36,
    "start_time": "2022-05-21T02:52:33.071Z"
   },
   {
    "duration": 46,
    "start_time": "2022-05-21T02:52:33.108Z"
   },
   {
    "duration": 12,
    "start_time": "2022-05-21T02:52:33.156Z"
   },
   {
    "duration": 111,
    "start_time": "2022-05-21T07:20:39.924Z"
   },
   {
    "duration": 1340,
    "start_time": "2022-05-21T07:53:38.804Z"
   },
   {
    "duration": 6,
    "start_time": "2022-05-21T07:53:40.146Z"
   },
   {
    "duration": 22,
    "start_time": "2022-05-21T07:53:40.154Z"
   },
   {
    "duration": 1835,
    "start_time": "2022-05-21T07:53:40.178Z"
   },
   {
    "duration": 34,
    "start_time": "2022-05-21T07:53:42.015Z"
   },
   {
    "duration": 39,
    "start_time": "2022-05-21T15:38:39.385Z"
   },
   {
    "duration": 5,
    "start_time": "2022-05-21T15:38:39.426Z"
   },
   {
    "duration": 19,
    "start_time": "2022-05-21T15:38:39.433Z"
   },
   {
    "duration": 2098,
    "start_time": "2022-05-21T15:38:39.454Z"
   },
   {
    "duration": 17,
    "start_time": "2022-05-21T15:38:41.566Z"
   },
   {
    "duration": 57285,
    "start_time": "2022-05-21T15:38:41.585Z"
   },
   {
    "duration": 228,
    "start_time": "2022-05-21T15:39:38.872Z"
   },
   {
    "duration": 6282,
    "start_time": "2022-05-21T15:39:39.102Z"
   },
   {
    "duration": 39,
    "start_time": "2022-05-21T15:39:45.386Z"
   },
   {
    "duration": 11,
    "start_time": "2022-05-21T15:39:45.428Z"
   },
   {
    "duration": 14,
    "start_time": "2022-05-21T15:39:45.466Z"
   },
   {
    "duration": 19,
    "start_time": "2022-05-21T15:44:40.662Z"
   },
   {
    "duration": 24,
    "start_time": "2022-05-21T15:44:55.663Z"
   },
   {
    "duration": 12,
    "start_time": "2022-05-21T15:45:26.104Z"
   },
   {
    "duration": 13,
    "start_time": "2022-05-21T15:45:56.086Z"
   },
   {
    "duration": 6,
    "start_time": "2022-05-21T15:59:35.471Z"
   },
   {
    "duration": 62,
    "start_time": "2022-05-21T15:59:35.480Z"
   },
   {
    "duration": 5,
    "start_time": "2022-05-21T15:59:35.545Z"
   },
   {
    "duration": 17,
    "start_time": "2022-05-21T15:59:35.552Z"
   },
   {
    "duration": 2219,
    "start_time": "2022-05-21T15:59:41.649Z"
   },
   {
    "duration": 1879,
    "start_time": "2022-05-21T16:00:43.598Z"
   },
   {
    "duration": 58433,
    "start_time": "2022-05-21T16:01:13.980Z"
   },
   {
    "duration": 5,
    "start_time": "2022-05-21T16:39:40.083Z"
   },
   {
    "duration": 58,
    "start_time": "2022-05-21T16:39:40.091Z"
   },
   {
    "duration": 10,
    "start_time": "2022-05-21T16:39:43.507Z"
   },
   {
    "duration": 13,
    "start_time": "2022-05-21T16:40:31.482Z"
   },
   {
    "duration": 8,
    "start_time": "2022-05-21T16:41:37.699Z"
   },
   {
    "duration": 7,
    "start_time": "2022-05-21T16:42:20.047Z"
   },
   {
    "duration": 8,
    "start_time": "2022-05-21T16:43:31.507Z"
   },
   {
    "duration": 8,
    "start_time": "2022-05-21T16:43:42.647Z"
   },
   {
    "duration": 12,
    "start_time": "2022-05-21T16:44:41.925Z"
   },
   {
    "duration": 12,
    "start_time": "2022-05-21T16:45:21.823Z"
   },
   {
    "duration": 5,
    "start_time": "2022-05-21T16:45:29.667Z"
   },
   {
    "duration": 42,
    "start_time": "2022-05-21T16:45:29.677Z"
   },
   {
    "duration": 8,
    "start_time": "2022-05-21T16:45:29.722Z"
   },
   {
    "duration": 17,
    "start_time": "2022-05-21T16:45:29.732Z"
   },
   {
    "duration": 12,
    "start_time": "2022-05-21T16:45:34.010Z"
   },
   {
    "duration": 21,
    "start_time": "2022-05-21T17:11:14.307Z"
   },
   {
    "duration": 15,
    "start_time": "2022-05-21T17:11:21.630Z"
   },
   {
    "duration": 19,
    "start_time": "2022-05-21T17:11:29.952Z"
   },
   {
    "duration": 18,
    "start_time": "2022-05-21T17:11:38.667Z"
   },
   {
    "duration": 14,
    "start_time": "2022-05-21T17:13:02.118Z"
   },
   {
    "duration": 19,
    "start_time": "2022-05-21T17:15:35.017Z"
   },
   {
    "duration": 13,
    "start_time": "2022-05-21T17:15:56.303Z"
   },
   {
    "duration": 7,
    "start_time": "2022-05-21T17:16:09.659Z"
   },
   {
    "duration": 14,
    "start_time": "2022-05-21T17:16:13.293Z"
   },
   {
    "duration": 5,
    "start_time": "2022-05-21T17:19:12.145Z"
   },
   {
    "duration": 54,
    "start_time": "2022-05-21T17:19:12.152Z"
   },
   {
    "duration": 6,
    "start_time": "2022-05-21T17:19:12.214Z"
   },
   {
    "duration": 12,
    "start_time": "2022-05-21T17:19:12.222Z"
   },
   {
    "duration": 56,
    "start_time": "2022-05-21T17:19:16.791Z"
   },
   {
    "duration": 1817,
    "start_time": "2022-05-21T17:19:29.918Z"
   },
   {
    "duration": 20,
    "start_time": "2022-05-21T17:20:49.107Z"
   },
   {
    "duration": 45,
    "start_time": "2022-05-21T17:21:20.772Z"
   },
   {
    "duration": 5,
    "start_time": "2022-05-21T17:21:54.150Z"
   },
   {
    "duration": 37,
    "start_time": "2022-05-21T17:21:54.157Z"
   },
   {
    "duration": 7,
    "start_time": "2022-05-21T17:21:54.196Z"
   },
   {
    "duration": 13,
    "start_time": "2022-05-21T17:21:54.205Z"
   },
   {
    "duration": 1788,
    "start_time": "2022-05-21T17:21:54.219Z"
   },
   {
    "duration": 29,
    "start_time": "2022-05-21T17:22:00.967Z"
   },
   {
    "duration": 12,
    "start_time": "2022-05-21T17:22:12.861Z"
   },
   {
    "duration": 15,
    "start_time": "2022-05-21T17:22:31.178Z"
   },
   {
    "duration": 56569,
    "start_time": "2022-05-21T17:22:47.873Z"
   },
   {
    "duration": 35,
    "start_time": "2022-05-21T17:25:09.698Z"
   },
   {
    "duration": 33,
    "start_time": "2022-05-21T17:26:05.506Z"
   },
   {
    "duration": 4,
    "start_time": "2022-05-21T17:27:48.321Z"
   },
   {
    "duration": 41,
    "start_time": "2022-05-21T17:27:48.327Z"
   },
   {
    "duration": 7,
    "start_time": "2022-05-21T17:27:48.370Z"
   },
   {
    "duration": 13,
    "start_time": "2022-05-21T17:27:48.379Z"
   },
   {
    "duration": 1947,
    "start_time": "2022-05-21T17:27:48.394Z"
   },
   {
    "duration": 27,
    "start_time": "2022-05-21T17:27:50.343Z"
   },
   {
    "duration": 2513,
    "start_time": "2022-05-21T17:27:50.372Z"
   },
   {
    "duration": 38,
    "start_time": "2022-05-21T17:27:52.887Z"
   },
   {
    "duration": 6214,
    "start_time": "2022-05-21T17:27:52.927Z"
   },
   {
    "duration": 53,
    "start_time": "2022-05-21T17:27:59.143Z"
   },
   {
    "duration": 10,
    "start_time": "2022-05-21T17:27:59.198Z"
   },
   {
    "duration": 14,
    "start_time": "2022-05-21T17:27:59.209Z"
   },
   {
    "duration": 34,
    "start_time": "2022-05-21T17:28:01.606Z"
   },
   {
    "duration": 38,
    "start_time": "2022-05-21T17:30:05.260Z"
   },
   {
    "duration": 35,
    "start_time": "2022-05-21T17:30:17.303Z"
   },
   {
    "duration": 40,
    "start_time": "2022-05-21T17:30:59.858Z"
   },
   {
    "duration": 33,
    "start_time": "2022-05-21T17:32:28.519Z"
   },
   {
    "duration": 2550,
    "start_time": "2022-05-21T17:33:36.199Z"
   },
   {
    "duration": 53973,
    "start_time": "2022-05-21T17:33:53.342Z"
   },
   {
    "duration": 87,
    "start_time": "2022-05-21T17:35:04.424Z"
   },
   {
    "duration": 95,
    "start_time": "2022-05-21T17:35:11.094Z"
   },
   {
    "duration": 449685,
    "start_time": "2022-05-21T17:35:54.454Z"
   },
   {
    "duration": 37,
    "start_time": "2022-05-21T17:44:15.787Z"
   },
   {
    "duration": 15,
    "start_time": "2022-05-21T17:46:20.293Z"
   },
   {
    "duration": 26,
    "start_time": "2022-05-21T17:46:39.399Z"
   },
   {
    "duration": 14,
    "start_time": "2022-05-21T17:46:48.047Z"
   },
   {
    "duration": 11,
    "start_time": "2022-05-21T17:48:29.832Z"
   },
   {
    "duration": 6,
    "start_time": "2022-05-21T18:45:24.238Z"
   },
   {
    "duration": 62,
    "start_time": "2022-05-21T18:45:24.246Z"
   },
   {
    "duration": 8,
    "start_time": "2022-05-21T18:45:24.310Z"
   },
   {
    "duration": 28,
    "start_time": "2022-05-21T18:45:24.320Z"
   },
   {
    "duration": 1954,
    "start_time": "2022-05-21T18:45:24.350Z"
   },
   {
    "duration": 12,
    "start_time": "2022-05-21T18:45:26.306Z"
   },
   {
    "duration": 55272,
    "start_time": "2022-05-21T18:45:26.320Z"
   },
   {
    "duration": 96,
    "start_time": "2022-05-21T18:46:21.594Z"
   },
   {
    "duration": 12612,
    "start_time": "2022-05-21T18:46:21.693Z"
   },
   {
    "duration": 36,
    "start_time": "2022-05-21T18:46:34.307Z"
   },
   {
    "duration": 15,
    "start_time": "2022-05-21T18:46:34.364Z"
   },
   {
    "duration": 11,
    "start_time": "2022-05-21T18:46:34.380Z"
   },
   {
    "duration": 1031,
    "start_time": "2022-05-22T17:59:10.747Z"
   },
   {
    "duration": 66,
    "start_time": "2022-05-22T17:59:11.780Z"
   },
   {
    "duration": 7,
    "start_time": "2022-05-22T17:59:11.847Z"
   },
   {
    "duration": 27,
    "start_time": "2022-05-22T17:59:11.856Z"
   },
   {
    "duration": 1532,
    "start_time": "2022-05-22T17:59:11.885Z"
   },
   {
    "duration": 9,
    "start_time": "2022-05-22T17:59:13.419Z"
   },
   {
    "duration": 46470,
    "start_time": "2022-05-22T17:59:13.430Z"
   },
   {
    "duration": 76,
    "start_time": "2022-05-22T17:59:59.901Z"
   },
   {
    "duration": 10423,
    "start_time": "2022-05-22T17:59:59.979Z"
   },
   {
    "duration": 41,
    "start_time": "2022-05-22T18:00:10.404Z"
   },
   {
    "duration": 11,
    "start_time": "2022-05-22T18:00:10.446Z"
   },
   {
    "duration": 39,
    "start_time": "2022-05-22T18:00:10.459Z"
   },
   {
    "duration": 31,
    "start_time": "2022-05-22T18:01:50.015Z"
   },
   {
    "duration": 10,
    "start_time": "2022-05-22T18:02:02.024Z"
   },
   {
    "duration": 107,
    "start_time": "2022-05-22T18:05:43.366Z"
   },
   {
    "duration": 4,
    "start_time": "2022-05-22T18:05:56.530Z"
   },
   {
    "duration": 19,
    "start_time": "2022-05-22T18:06:05.560Z"
   },
   {
    "duration": 18,
    "start_time": "2022-05-22T18:06:18.540Z"
   },
   {
    "duration": 20,
    "start_time": "2022-05-22T18:06:21.434Z"
   },
   {
    "duration": 17,
    "start_time": "2022-05-22T18:06:24.063Z"
   },
   {
    "duration": 17,
    "start_time": "2022-05-22T18:06:26.454Z"
   },
   {
    "duration": 18,
    "start_time": "2022-05-22T18:06:28.577Z"
   },
   {
    "duration": 19,
    "start_time": "2022-05-22T18:06:41.322Z"
   },
   {
    "duration": 19,
    "start_time": "2022-05-22T18:06:47.574Z"
   },
   {
    "duration": 20,
    "start_time": "2022-05-22T18:06:50.279Z"
   },
   {
    "duration": 18,
    "start_time": "2022-05-22T18:06:52.336Z"
   },
   {
    "duration": 19,
    "start_time": "2022-05-22T18:06:54.127Z"
   },
   {
    "duration": 19,
    "start_time": "2022-05-22T18:06:56.212Z"
   },
   {
    "duration": 50,
    "start_time": "2022-05-22T18:16:21.727Z"
   },
   {
    "duration": 30,
    "start_time": "2022-05-22T18:24:04.667Z"
   },
   {
    "duration": 25,
    "start_time": "2022-05-22T18:24:20.767Z"
   },
   {
    "duration": 26,
    "start_time": "2022-05-22T18:24:38.087Z"
   },
   {
    "duration": 23,
    "start_time": "2022-05-22T18:24:59.972Z"
   },
   {
    "duration": 22,
    "start_time": "2022-05-22T18:26:32.771Z"
   },
   {
    "duration": 23,
    "start_time": "2022-05-22T18:27:01.337Z"
   },
   {
    "duration": 20,
    "start_time": "2022-05-22T18:34:29.956Z"
   },
   {
    "duration": 18,
    "start_time": "2022-05-22T18:36:22.358Z"
   },
   {
    "duration": 23,
    "start_time": "2022-05-22T18:37:00.815Z"
   },
   {
    "duration": 13,
    "start_time": "2022-05-22T18:38:35.821Z"
   },
   {
    "duration": 19,
    "start_time": "2022-05-22T18:39:42.358Z"
   },
   {
    "duration": 22,
    "start_time": "2022-05-22T18:40:39.158Z"
   },
   {
    "duration": 19,
    "start_time": "2022-05-22T18:40:58.738Z"
   },
   {
    "duration": 20,
    "start_time": "2022-05-22T18:41:27.055Z"
   },
   {
    "duration": 25,
    "start_time": "2022-05-22T18:43:27.820Z"
   },
   {
    "duration": 27,
    "start_time": "2022-05-22T18:43:48.593Z"
   },
   {
    "duration": 28,
    "start_time": "2022-05-22T18:47:26.443Z"
   },
   {
    "duration": 33,
    "start_time": "2022-05-22T18:49:02.562Z"
   },
   {
    "duration": 26,
    "start_time": "2022-05-22T18:49:09.324Z"
   },
   {
    "duration": 27,
    "start_time": "2022-05-22T18:49:35.509Z"
   },
   {
    "duration": 35,
    "start_time": "2022-05-22T18:49:45.669Z"
   },
   {
    "duration": 36,
    "start_time": "2022-05-22T18:50:37.867Z"
   },
   {
    "duration": 23,
    "start_time": "2022-05-22T18:52:00.759Z"
   },
   {
    "duration": 28,
    "start_time": "2022-05-22T18:52:36.890Z"
   },
   {
    "duration": 26,
    "start_time": "2022-05-22T18:52:40.068Z"
   },
   {
    "duration": 27,
    "start_time": "2022-05-22T18:54:51.576Z"
   },
   {
    "duration": 27,
    "start_time": "2022-05-22T18:59:05.021Z"
   },
   {
    "duration": 26,
    "start_time": "2022-05-22T19:00:10.236Z"
   },
   {
    "duration": 32,
    "start_time": "2022-05-22T19:00:23.861Z"
   },
   {
    "duration": 25,
    "start_time": "2022-05-22T19:05:44.961Z"
   },
   {
    "duration": 29,
    "start_time": "2022-05-22T19:07:10.294Z"
   },
   {
    "duration": 30,
    "start_time": "2022-05-22T19:08:52.565Z"
   },
   {
    "duration": 30,
    "start_time": "2022-05-22T19:09:23.325Z"
   },
   {
    "duration": 34,
    "start_time": "2022-05-22T19:09:50.296Z"
   },
   {
    "duration": 5,
    "start_time": "2022-05-22T19:10:19.621Z"
   },
   {
    "duration": 28,
    "start_time": "2022-05-22T19:10:29.427Z"
   },
   {
    "duration": 24,
    "start_time": "2022-05-22T19:15:43.224Z"
   },
   {
    "duration": 8,
    "start_time": "2022-05-22T19:24:00.626Z"
   },
   {
    "duration": 8,
    "start_time": "2022-05-22T19:24:32.870Z"
   },
   {
    "duration": 7,
    "start_time": "2022-05-22T19:24:41.323Z"
   },
   {
    "duration": 5,
    "start_time": "2022-05-22T19:25:16.269Z"
   },
   {
    "duration": 13,
    "start_time": "2022-05-22T19:26:17.924Z"
   },
   {
    "duration": 9,
    "start_time": "2022-05-22T19:29:04.941Z"
   },
   {
    "duration": 13,
    "start_time": "2022-05-22T19:29:09.723Z"
   },
   {
    "duration": 12,
    "start_time": "2022-05-22T19:29:37.579Z"
   },
   {
    "duration": 23,
    "start_time": "2022-05-22T19:33:04.476Z"
   },
   {
    "duration": 8,
    "start_time": "2022-05-22T19:33:13.754Z"
   },
   {
    "duration": 8,
    "start_time": "2022-05-22T19:36:21.457Z"
   },
   {
    "duration": 349,
    "start_time": "2022-05-22T19:53:36.661Z"
   },
   {
    "duration": 7,
    "start_time": "2022-05-22T19:53:59.648Z"
   },
   {
    "duration": 13,
    "start_time": "2022-05-22T19:55:04.222Z"
   },
   {
    "duration": 15,
    "start_time": "2022-05-22T19:56:17.995Z"
   },
   {
    "duration": 9,
    "start_time": "2022-05-22T19:56:31.586Z"
   },
   {
    "duration": 4,
    "start_time": "2022-05-22T19:59:49.815Z"
   },
   {
    "duration": 11,
    "start_time": "2022-05-22T20:00:16.535Z"
   },
   {
    "duration": 9,
    "start_time": "2022-05-22T20:00:39.637Z"
   },
   {
    "duration": 4,
    "start_time": "2022-05-22T20:01:03.182Z"
   },
   {
    "duration": 4,
    "start_time": "2022-05-22T20:01:22.225Z"
   },
   {
    "duration": 20,
    "start_time": "2022-05-22T20:01:30.289Z"
   },
   {
    "duration": 8,
    "start_time": "2022-05-22T20:01:57.472Z"
   },
   {
    "duration": 9,
    "start_time": "2022-05-22T20:02:16.345Z"
   },
   {
    "duration": 4,
    "start_time": "2022-05-22T20:07:01.023Z"
   },
   {
    "duration": 41,
    "start_time": "2022-05-22T20:07:01.029Z"
   },
   {
    "duration": 7,
    "start_time": "2022-05-22T20:07:01.072Z"
   },
   {
    "duration": 24,
    "start_time": "2022-05-22T20:07:01.081Z"
   },
   {
    "duration": 1753,
    "start_time": "2022-05-22T20:07:01.107Z"
   },
   {
    "duration": 12,
    "start_time": "2022-05-22T20:07:02.862Z"
   },
   {
    "duration": 48336,
    "start_time": "2022-05-22T20:07:02.875Z"
   },
   {
    "duration": 87,
    "start_time": "2022-05-22T20:07:51.212Z"
   },
   {
    "duration": 10214,
    "start_time": "2022-05-22T20:07:51.304Z"
   },
   {
    "duration": 40,
    "start_time": "2022-05-22T20:08:01.519Z"
   },
   {
    "duration": 13,
    "start_time": "2022-05-22T20:08:01.560Z"
   },
   {
    "duration": 11,
    "start_time": "2022-05-22T20:08:01.597Z"
   },
   {
    "duration": 20,
    "start_time": "2022-05-22T20:08:01.611Z"
   },
   {
    "duration": 11,
    "start_time": "2022-05-23T08:36:28.662Z"
   }
  ],
  "kernelspec": {
   "display_name": "Python 3 (ipykernel)",
   "language": "python",
   "name": "python3"
  },
  "language_info": {
   "codemirror_mode": {
    "name": "ipython",
    "version": 3
   },
   "file_extension": ".py",
   "mimetype": "text/x-python",
   "name": "python",
   "nbconvert_exporter": "python",
   "pygments_lexer": "ipython3",
   "version": "3.9.12"
  },
  "toc": {
   "base_numbering": 1,
   "nav_menu": {},
   "number_sections": true,
   "sideBar": true,
   "skip_h1_title": true,
   "title_cell": "Table of Contents",
   "title_sidebar": "Contents",
   "toc_cell": false,
   "toc_position": {
    "height": "calc(100% - 180px)",
    "left": "10px",
    "top": "150px",
    "width": "259.341px"
   },
   "toc_section_display": true,
   "toc_window_display": true
  }
 },
 "nbformat": 4,
 "nbformat_minor": 2
}
